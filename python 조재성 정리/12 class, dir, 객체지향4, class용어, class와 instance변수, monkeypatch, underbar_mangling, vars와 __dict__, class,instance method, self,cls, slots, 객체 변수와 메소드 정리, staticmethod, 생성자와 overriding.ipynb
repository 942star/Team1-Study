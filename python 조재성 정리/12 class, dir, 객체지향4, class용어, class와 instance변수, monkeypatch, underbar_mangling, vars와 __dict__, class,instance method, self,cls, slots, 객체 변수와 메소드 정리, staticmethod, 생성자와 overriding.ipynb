{
 "cells": [
  {
   "cell_type": "markdown",
   "metadata": {},
   "source": [
    "## Class\n",
    "\n",
    "a = int()을 보면, python에서 숫자형은 모두 클래스의 **인스턴스**라고 볼 수 있다.\n",
    "* int() : int클래스를 인스턴스화\n",
    "* a = : 식별자에 인스턴스를 할당\n",
    "  \n",
    "  \n",
    "**python에서는 클래스=객체, 인스턴스=객체(X)**"
   ]
  },
  {
   "cell_type": "markdown",
   "metadata": {},
   "source": [
    "### dir( class or instance )\n",
    "객체에 지정된  아래 4가지의 **변수, 메소드**를 보여주는 것\n",
    "1. 클래스 변수\n",
    "2. 클래스 메소드\n",
    "3. 인스턴스 변수\n",
    "4. 인스턴스 메소드\n",
    "\n",
    " \n",
    "* dir( class ) : 클래스 변수, 클래스 메소드  \n",
    "* dir( instance ) : 인스턴스 변수, 인스턴스 메소드  "
   ]
  },
  {
   "cell_type": "markdown",
   "metadata": {},
   "source": [
    "### 객체지향의 4요소(캡,다,상,추)\n",
    "\n",
    "1. 캡슐화\n",
    "2. 다형성\n",
    "3. 상속\n",
    "4. 추상화\n",
    "  \n",
    "  \n",
    "  \n",
    "* python 최상위 객체는 `obejct` -> 모든 instance들은 object를 상속한 것"
   ]
  },
  {
   "cell_type": "markdown",
   "metadata": {},
   "source": [
    "### 상속\n",
    "class 클래스명(상속할 부모클래스명)  \n",
    "* 클래스는 Camel 방식 / 함수는 snake_ 방식"
   ]
  },
  {
   "cell_type": "code",
   "execution_count": 1,
   "metadata": {},
   "outputs": [],
   "source": [
    "# 클래스명 :첫문자가 대문자인 Camel방식\n",
    "# 상속의 표현(object) : 최상위 클래스인 object를 상속,  생략가능\n",
    "class A(object):\n",
    "    a=1"
   ]
  },
  {
   "cell_type": "markdown",
   "metadata": {},
   "source": [
    "### dir()을 통해 클래스 변수, 메소드 살펴보기"
   ]
  },
  {
   "cell_type": "code",
   "execution_count": 2,
   "metadata": {
    "scrolled": true
   },
   "outputs": [
    {
     "data": {
      "text/plain": [
       "['__class__',\n",
       " '__delattr__',\n",
       " '__dict__',\n",
       " '__dir__',\n",
       " '__doc__',\n",
       " '__eq__',\n",
       " '__format__',\n",
       " '__ge__',\n",
       " '__getattribute__',\n",
       " '__gt__',\n",
       " '__hash__',\n",
       " '__init__',\n",
       " '__init_subclass__',\n",
       " '__le__',\n",
       " '__lt__',\n",
       " '__module__',\n",
       " '__ne__',\n",
       " '__new__',\n",
       " '__reduce__',\n",
       " '__reduce_ex__',\n",
       " '__repr__',\n",
       " '__setattr__',\n",
       " '__sizeof__',\n",
       " '__str__',\n",
       " '__subclasshook__',\n",
       " '__weakref__',\n",
       " 'a']"
      ]
     },
     "execution_count": 2,
     "metadata": {},
     "output_type": "execute_result"
    }
   ],
   "source": [
    "# dir(클래스)를 통해 클래스변수, 클래스메소드 보기\n",
    "# 맨 밑에 클래스 변수 a가 보인다.\n",
    "dir( A )"
   ]
  },
  {
   "cell_type": "code",
   "execution_count": 3,
   "metadata": {},
   "outputs": [
    {
     "data": {
      "text/plain": [
       "['__class__',\n",
       " '__delattr__',\n",
       " '__dir__',\n",
       " '__doc__',\n",
       " '__eq__',\n",
       " '__format__',\n",
       " '__ge__',\n",
       " '__getattribute__',\n",
       " '__gt__',\n",
       " '__hash__',\n",
       " '__init__',\n",
       " '__init_subclass__',\n",
       " '__le__',\n",
       " '__lt__',\n",
       " '__ne__',\n",
       " '__new__',\n",
       " '__reduce__',\n",
       " '__reduce_ex__',\n",
       " '__repr__',\n",
       " '__setattr__',\n",
       " '__sizeof__',\n",
       " '__str__',\n",
       " '__subclasshook__']"
      ]
     },
     "execution_count": 3,
     "metadata": {},
     "output_type": "execute_result"
    }
   ],
   "source": [
    "# 최상위 클래스를 dir()로 보면\n",
    "dir(object)"
   ]
  },
  {
   "cell_type": "markdown",
   "metadata": {},
   "source": [
    "## class 선언\n",
    "declaration에는 2가지가 있다.\n",
    "1. 함수 선언(def)\n",
    "2. 클래스 선언(class)\n",
    "  \n",
    "### class관련 용어\n",
    "1. 클래스 이름은 `Camel`방식으로 선언한다.\n",
    "2. python에서는 class가 `객체`다.\n",
    "3. class, instacne의 변수를 **`attribute`**라고 한다.\n",
    "4. class의 함수를 **`인스턴스 method`**라고 한다.\n",
    " - 인스턴스 메소드는 **`(self)`**를 첫번째 파라미터로 넣는 것을 권장한다.\n",
    " - 클래스 입장에서 인스턴스메소드를 사용할 때는, self자리에 인스턴스를 입력한다.\n",
    " - self.a에서 a는 인스턴스 변수로 할당될 변수다\n",
    "5. class내에 **`@classmethod`**를 달고 있는 메소드를 **`클래스 method`**라 한다.\n",
    " - 관례상 classmethod에는 **`(cls)`**를 첫번째 파라미터로 넣는다.\n",
    "6. 클래스 변수(attribute), 클래스 메소드, **인스턴스 메소드** 3가지는 **`클래스의 NameSpace`**에 저장된다.\n",
    "7. 인스턴스 변수는 **`인스턴스의 NameSpace`**에 저장된다.\n",
    " - 클래스()로 인스턴스화 할 때 생기는 namespace이다.\n",
    "    \n",
    "    \n",
    "class는 기본적으로 인스턴스화 해서 사용하지만, 아래 2가지는 바로 사용 가능하다.\n",
    "1. class 변수\n",
    "2. class 메소드"
   ]
  },
  {
   "cell_type": "markdown",
   "metadata": {},
   "source": [
    "## class 변수와 인스턴스 변수***\n",
    "인스턴스는 변수 호출시,  내부에 인스턴스변수가 없을 때 호출된다.  \n",
    "인스턴스는 각각이 서로 다른 것이지만, 클래스 변수는 공통이다.\n",
    "* **우선순위 : 인스턴스 변수 -> 할당 안되면 클래스 변수꺼 가져온다**\n",
    " - 인스턴스가 생성되고, 아직 할당을 따로 안해줬다면, vars()를 통해 확인해도 인스턴스 변수는 없지만, 클래스 변수에서 가져온다(vars( instance)내에 인스턴스 변수목록에 없다)"
   ]
  },
  {
   "cell_type": "markdown",
   "metadata": {},
   "source": [
    "### 외부에서 값을 인스턴스 변수에 대입 by 인스턴스 메소드\n",
    "1. 클래스 변수, 인스턴스 메소드를 선언\n",
    "2. 인스턴스 만들기 \n",
    "3. 인스턴스를 통해 값 대입하기"
   ]
  },
  {
   "cell_type": "code",
   "execution_count": 4,
   "metadata": {},
   "outputs": [],
   "source": [
    "# 클래스에 클래스변수a, 인스턴스 메소드set_a를 통해, a에 값을 대입해보자\n",
    "class A:\n",
    "    a = 1\n",
    "    def set_a(self, a):\n",
    "        self.a = a"
   ]
  },
  {
   "cell_type": "code",
   "execution_count": 5,
   "metadata": {},
   "outputs": [],
   "source": [
    "# 클래스는 기본적으로 인스턴스를 만들어서 사용한다\n",
    "a = A()\n",
    "\n",
    "# 인스턴스a에 생긴 메소드 --> 인스턴스 변수에 대입\n",
    "a.set_a(3)"
   ]
  },
  {
   "cell_type": "code",
   "execution_count": 6,
   "metadata": {},
   "outputs": [
    {
     "data": {
      "text/plain": [
       "3"
      ]
     },
     "execution_count": 6,
     "metadata": {},
     "output_type": "execute_result"
    }
   ],
   "source": [
    "# 인스턴스변수는 정상적으로 대입됨\n",
    "a.a"
   ]
  },
  {
   "cell_type": "code",
   "execution_count": 8,
   "metadata": {},
   "outputs": [
    {
     "data": {
      "text/plain": [
       "1"
      ]
     },
     "execution_count": 8,
     "metadata": {},
     "output_type": "execute_result"
    }
   ],
   "source": [
    "# 클래스 변수는 안변했다.\n",
    "# 왜냐하면, 이미 인스턴스에 변수가 있기 때문\n",
    "A.a"
   ]
  },
  {
   "cell_type": "code",
   "execution_count": 9,
   "metadata": {},
   "outputs": [
    {
     "data": {
      "text/plain": [
       "1"
      ]
     },
     "execution_count": 9,
     "metadata": {},
     "output_type": "execute_result"
    }
   ],
   "source": [
    "# 새로운 인스턴스를 만들면 아직 할당안되 없는 상태 이므로 클래스 것을 가져온다. \n",
    "# 기존 인스턴스랑은 별개다.\n",
    "b = A()\n",
    "b.a"
   ]
  },
  {
   "cell_type": "markdown",
   "metadata": {},
   "source": [
    "### 아직 인스턴스 변수를 할당 안했다면, 클래스 변수를 가져온다***\n",
    "이미 인스턴스 변수에 새로운 값을 할당한 a.a는 그대로지만,  \n",
    "할당이 안된 b.a는 클래스변수 A.a를 동적으로 가져온다"
   ]
  },
  {
   "cell_type": "code",
   "execution_count": 10,
   "metadata": {},
   "outputs": [
    {
     "data": {
      "text/plain": [
       "9"
      ]
     },
     "execution_count": 10,
     "metadata": {},
     "output_type": "execute_result"
    }
   ],
   "source": [
    "# 클래스 변수를 바꾸면, 아직 인스턴스 변수를 할당\n",
    "# 그대로 클래스 변수를 따라온다.\n",
    "A.a = 9\n",
    "b.a"
   ]
  },
  {
   "cell_type": "code",
   "execution_count": 11,
   "metadata": {},
   "outputs": [
    {
     "data": {
      "text/plain": [
       "3"
      ]
     },
     "execution_count": 11,
     "metadata": {},
     "output_type": "execute_result"
    }
   ],
   "source": [
    "# 할당이 이미되어 생성된 인스턴스 변수는 값이 고정되어있다.\n",
    "a.a"
   ]
  },
  {
   "cell_type": "code",
   "execution_count": 12,
   "metadata": {},
   "outputs": [
    {
     "data": {
      "text/plain": [
       "9"
      ]
     },
     "execution_count": 12,
     "metadata": {},
     "output_type": "execute_result"
    }
   ],
   "source": [
    "# 새로 생성한 인스턴스는 현재 클래스 변수 값을 가져온다.\n",
    "# 아직 인스턴스 변수a를 할당으로 생성하지 않았기 때문이다.\n",
    "c = A()\n",
    "c.a"
   ]
  },
  {
   "cell_type": "markdown",
   "metadata": {},
   "source": [
    "## Monkey Patch***를 이용한 public\n",
    "클래스에 없던 **클래스 변수를 새로 할당시**, 인스턴스변수에도 할당안된 상태이다. 특이한 점은  \n",
    "**이미 생성된 인스턴스들도 같이 인스턴스변수에 자동(동적) 할당된다.**\n",
    "1. a = A(), b=A()\n",
    "2. A.xxxx = 1  ==> a.xxxx , b.xxxx 값이 이미 동적으로 할당되어있다\n",
    "    \n",
    "    \n",
    "**monkey patch**처럼 [클래스 변수 -> 할당x 인스턴스 변수]의 동적 할당은 **객체지향-Encapsulation-getter/setter를 사용 하지 않고 public화** 한 것을 의미한다.  \n",
    "python은 기본적으로 객체지향의 캡슐화를 제공하지 않는다"
   ]
  },
  {
   "cell_type": "code",
   "execution_count": 13,
   "metadata": {},
   "outputs": [
    {
     "data": {
      "text/plain": [
       "1"
      ]
     },
     "execution_count": 13,
     "metadata": {},
     "output_type": "execute_result"
    }
   ],
   "source": [
    "# 없던 클래스 변수를 새로 할당\n",
    "A.xxxx = 1\n",
    "A.xxxx"
   ]
  },
  {
   "cell_type": "code",
   "execution_count": 14,
   "metadata": {},
   "outputs": [
    {
     "data": {
      "text/plain": [
       "1"
      ]
     },
     "execution_count": 14,
     "metadata": {},
     "output_type": "execute_result"
    }
   ],
   "source": [
    "# 이미 생성된 인스턴스들은 없는 상태니, 클래스에서 가져온다.\n",
    "a.xxxx"
   ]
  },
  {
   "cell_type": "code",
   "execution_count": 15,
   "metadata": {},
   "outputs": [
    {
     "data": {
      "text/plain": [
       "1"
      ]
     },
     "execution_count": 15,
     "metadata": {},
     "output_type": "execute_result"
    }
   ],
   "source": [
    "b.xxxx"
   ]
  },
  {
   "cell_type": "code",
   "execution_count": 16,
   "metadata": {},
   "outputs": [
    {
     "name": "stdout",
     "output_type": "stream",
     "text": [
      "3 3\n"
     ]
    }
   ],
   "source": [
    "# 인스턴스에서 변수를 할당하지 않았기 때문에,\n",
    "# 계속 클래스 변수에서 받아올 것이다.\n",
    "A.xxxx = 3\n",
    "print(a.xxxx, b.xxxx)"
   ]
  },
  {
   "cell_type": "markdown",
   "metadata": {},
   "source": [
    "## under과 mangling\n",
    "\\_식별자나 \\_함수 앞에 \\_를 붙히면, **import**되지 않지만, 내부에서 작동한다고 배웠다.  \n",
    "클래스 변수에 \\_를 다는 이유는 **할당안된 인스턴스변수 -> 클래스변수를 찾아가는 것**을 막기위해 **private화** 시키는 것이지만, 관례상으로 사용할 뿐, 호출은 가능하다.\n",
    "* `_클래스변수` : 관례상의 private화\n",
    "* `__클래스변수` : mangling기법으로 **호출시 이름이 바뀐다 `_클래스__클래스 변수`**\n",
    " - 호출시 `__변수명`앞에 **\\_클래스명**까지 붙힌 것으로 호출해야한다"
   ]
  },
  {
   "cell_type": "code",
   "execution_count": 17,
   "metadata": {},
   "outputs": [],
   "source": [
    "class A:\n",
    "    a = 1 # 클래스 어트리뷰트\n",
    "    _b = 2 # 관례상의 private화 -> 호출됨.\n",
    "    __c = 3 # __ 2개가 붙으면 mangling기법으로써, 이름 앞에 '_클래스이름' 이 붙는다."
   ]
  },
  {
   "cell_type": "code",
   "execution_count": 19,
   "metadata": {},
   "outputs": [
    {
     "data": {
      "text/plain": [
       "1"
      ]
     },
     "execution_count": 19,
     "metadata": {},
     "output_type": "execute_result"
    }
   ],
   "source": [
    "# 클래스 변수\n",
    "A.a"
   ]
  },
  {
   "cell_type": "code",
   "execution_count": 20,
   "metadata": {},
   "outputs": [
    {
     "data": {
      "text/plain": [
       "2"
      ]
     },
     "execution_count": 20,
     "metadata": {},
     "output_type": "execute_result"
    }
   ],
   "source": [
    "# 클래스 변수 private\n",
    "A._b"
   ]
  },
  {
   "cell_type": "code",
   "execution_count": 21,
   "metadata": {},
   "outputs": [
    {
     "ename": "AttributeError",
     "evalue": "type object 'A' has no attribute '__c'",
     "output_type": "error",
     "traceback": [
      "\u001b[1;31m---------------------------------------------------------------------------\u001b[0m",
      "\u001b[1;31mAttributeError\u001b[0m                            Traceback (most recent call last)",
      "\u001b[1;32m<ipython-input-21-5b9b1b4abf8d>\u001b[0m in \u001b[0;36m<module>\u001b[1;34m\u001b[0m\n\u001b[0;32m      1\u001b[0m \u001b[1;31m# 클래스 mangliing으로 이름 바꾸기\u001b[0m\u001b[1;33m\u001b[0m\u001b[1;33m\u001b[0m\u001b[1;33m\u001b[0m\u001b[0m\n\u001b[1;32m----> 2\u001b[1;33m \u001b[0mA\u001b[0m\u001b[1;33m.\u001b[0m\u001b[0m__c\u001b[0m\u001b[1;33m\u001b[0m\u001b[1;33m\u001b[0m\u001b[0m\n\u001b[0m",
      "\u001b[1;31mAttributeError\u001b[0m: type object 'A' has no attribute '__c'"
     ]
    }
   ],
   "source": [
    "# 클래스 mangliing으로 이름 바꾸기\n",
    "# 클래스에 할당한 변수명으로는 안불러짐ㅋ\n",
    "A.__c"
   ]
  },
  {
   "cell_type": "code",
   "execution_count": 22,
   "metadata": {},
   "outputs": [
    {
     "data": {
      "text/plain": [
       "3"
      ]
     },
     "execution_count": 22,
     "metadata": {},
     "output_type": "execute_result"
    }
   ],
   "source": [
    "# _클래스명 __변수명\n",
    "A._A__c"
   ]
  },
  {
   "cell_type": "code",
   "execution_count": 23,
   "metadata": {
    "scrolled": true
   },
   "outputs": [
    {
     "data": {
      "text/plain": [
       "['_A__c',\n",
       " '__class__',\n",
       " '__delattr__',\n",
       " '__dict__',\n",
       " '__dir__',\n",
       " '__doc__',\n",
       " '__eq__',\n",
       " '__format__',\n",
       " '__ge__',\n",
       " '__getattribute__',\n",
       " '__gt__',\n",
       " '__hash__',\n",
       " '__init__',\n",
       " '__init_subclass__',\n",
       " '__le__',\n",
       " '__lt__',\n",
       " '__module__',\n",
       " '__ne__',\n",
       " '__new__',\n",
       " '__reduce__',\n",
       " '__reduce_ex__',\n",
       " '__repr__',\n",
       " '__setattr__',\n",
       " '__sizeof__',\n",
       " '__str__',\n",
       " '__subclasshook__',\n",
       " '__weakref__',\n",
       " '_b',\n",
       " 'a']"
      ]
     },
     "execution_count": 23,
     "metadata": {},
     "output_type": "execute_result"
    }
   ],
   "source": [
    "# dir( 클래스 )를 통해, 클래스변수, 인스턴스 메소드 등을 확인하면 다 나온다\n",
    "dir( A)\n",
    "\n",
    "# _A__c : mangling적용변수는 dir에서도 바뀐이름으로 나온다"
   ]
  },
  {
   "cell_type": "markdown",
   "metadata": {},
   "source": [
    "### 정리\n",
    "- 클래스의 어트리뷰트는 외부에서도 접근해서 변경하고 생성할 수 있으므로 캡슐화가 안되는 것임을 알 수 잇따.\n",
    "- 클래스의 함수 즉, 메소드는 incapsuatino이 되는데, 클래스의 변수는 incapsualtion이 안된다.\n",
    "- 하지만 고급 기법 descriptor로 private을 만들 수 있다."
   ]
  },
  {
   "cell_type": "markdown",
   "metadata": {},
   "source": [
    "## vars()와 \\_\\_dict\\_\\_\n",
    "* `vars`( instance ) : 인스턴스에 저장된 인스턴스 변수들을 dictionary형태로 보여준다.\n",
    "* instance.`__dict__` : vars()와 똑같이 인스턴스 변수들을 보여준다.\n",
    " - vars()와 \\_\\_dict\\_\\_는 **다양한 type의 인스턴스 변수들을 가질 수 있을 때만 호출된다**  \n",
    " ex> int()클래스의 인스턴스는 int변수밖에 못가지므로 호출시 TyperError\n",
    "* dir( instance )  : 인스턴스가 쓸 수 있는 명령어들"
   ]
  },
  {
   "cell_type": "code",
   "execution_count": 27,
   "metadata": {},
   "outputs": [],
   "source": [
    "class A:\n",
    "    a = 1 # 클래스 attribute\n",
    "    \n",
    "    def x( self, a): # 인스턴스 메소드\n",
    "        self.a = a"
   ]
  },
  {
   "cell_type": "code",
   "execution_count": 28,
   "metadata": {},
   "outputs": [
    {
     "data": {
      "text/plain": [
       "1"
      ]
     },
     "execution_count": 28,
     "metadata": {},
     "output_type": "execute_result"
    }
   ],
   "source": [
    "a = A()\n",
    "a.a"
   ]
  },
  {
   "cell_type": "code",
   "execution_count": 29,
   "metadata": {},
   "outputs": [
    {
     "data": {
      "text/plain": [
       "3"
      ]
     },
     "execution_count": 29,
     "metadata": {},
     "output_type": "execute_result"
    }
   ],
   "source": [
    "# 인스턴스 메소드를 통해 인스턴스 변수에 할당\n",
    "a.x(3)\n",
    "a.a"
   ]
  },
  {
   "cell_type": "code",
   "execution_count": 30,
   "metadata": {},
   "outputs": [
    {
     "data": {
      "text/plain": [
       "{'a': 3}"
      ]
     },
     "execution_count": 30,
     "metadata": {},
     "output_type": "execute_result"
    }
   ],
   "source": [
    "# vars( instance ) : 인스턴스에 저장된 변수들을 dictionary형태로 보여준다\n",
    "vars(a)"
   ]
  },
  {
   "cell_type": "code",
   "execution_count": 32,
   "metadata": {},
   "outputs": [
    {
     "data": {
      "text/plain": [
       "{'a': 3}"
      ]
     },
     "execution_count": 32,
     "metadata": {},
     "output_type": "execute_result"
    }
   ],
   "source": [
    "# instance.__dict__ : vars()와 똑같이 인스턴스 변수들을 보여준다\n",
    "a.__dict__"
   ]
  },
  {
   "cell_type": "code",
   "execution_count": 33,
   "metadata": {},
   "outputs": [
    {
     "name": "stdout",
     "output_type": "stream",
     "text": [
      "5\n"
     ]
    },
    {
     "data": {
      "text/plain": [
       "{'a': 5}"
      ]
     },
     "execution_count": 33,
     "metadata": {},
     "output_type": "execute_result"
    }
   ],
   "source": [
    "b = A()\n",
    "b.x(5)\n",
    "\n",
    "print(b.a)\n",
    "vars(b)"
   ]
  },
  {
   "cell_type": "code",
   "execution_count": 69,
   "metadata": {},
   "outputs": [
    {
     "ename": "TypeError",
     "evalue": "vars() argument must have __dict__ attribute",
     "output_type": "error",
     "traceback": [
      "\u001b[1;31m---------------------------------------------------------------------------\u001b[0m",
      "\u001b[1;31mTypeError\u001b[0m                                 Traceback (most recent call last)",
      "\u001b[1;32m<ipython-input-69-d662158b2aec>\u001b[0m in \u001b[0;36m<module>\u001b[1;34m\u001b[0m\n\u001b[0;32m      2\u001b[0m \u001b[1;31m# vars()를 통해 값을 인스턴스 변수를 확인할 수 없다.\u001b[0m\u001b[1;33m\u001b[0m\u001b[1;33m\u001b[0m\u001b[1;33m\u001b[0m\u001b[0m\n\u001b[0;32m      3\u001b[0m \u001b[0md\u001b[0m \u001b[1;33m=\u001b[0m \u001b[0mint\u001b[0m\u001b[1;33m(\u001b[0m\u001b[1;33m)\u001b[0m\u001b[1;33m\u001b[0m\u001b[1;33m\u001b[0m\u001b[0m\n\u001b[1;32m----> 4\u001b[1;33m \u001b[0mvars\u001b[0m\u001b[1;33m(\u001b[0m\u001b[0md\u001b[0m\u001b[1;33m)\u001b[0m\u001b[1;33m\u001b[0m\u001b[1;33m\u001b[0m\u001b[0m\n\u001b[0m",
      "\u001b[1;31mTypeError\u001b[0m: vars() argument must have __dict__ attribute"
     ]
    }
   ],
   "source": [
    "# 만약, 한 type만 가질 수 있는 인스턴스라면,\n",
    "# vars()를 통해 값을 인스턴스 변수를 확인할 수 없다.\n",
    "d = int()\n",
    "vars(d)"
   ]
  },
  {
   "cell_type": "code",
   "execution_count": 70,
   "metadata": {},
   "outputs": [
    {
     "ename": "AttributeError",
     "evalue": "'int' object has no attribute '__dict__'",
     "output_type": "error",
     "traceback": [
      "\u001b[1;31m---------------------------------------------------------------------------\u001b[0m",
      "\u001b[1;31mAttributeError\u001b[0m                            Traceback (most recent call last)",
      "\u001b[1;32m<ipython-input-70-e77dbed08d16>\u001b[0m in \u001b[0;36m<module>\u001b[1;34m\u001b[0m\n\u001b[1;32m----> 1\u001b[1;33m \u001b[0md\u001b[0m\u001b[1;33m.\u001b[0m\u001b[0m__dict__\u001b[0m\u001b[1;33m\u001b[0m\u001b[1;33m\u001b[0m\u001b[0m\n\u001b[0m",
      "\u001b[1;31mAttributeError\u001b[0m: 'int' object has no attribute '__dict__'"
     ]
    }
   ],
   "source": [
    "d.__dict__"
   ]
  },
  {
   "cell_type": "code",
   "execution_count": 67,
   "metadata": {},
   "outputs": [],
   "source": [
    "class A:\n",
    "    a = 1 # 클래스 attribute\n",
    "    \n",
    "    def x( self, a): # 인스턴스 메소드\n",
    "        self.a = a"
   ]
  },
  {
   "cell_type": "code",
   "execution_count": 68,
   "metadata": {},
   "outputs": [
    {
     "data": {
      "text/plain": [
       "['__class__',\n",
       " '__delattr__',\n",
       " '__dict__',\n",
       " '__dir__',\n",
       " '__doc__',\n",
       " '__eq__',\n",
       " '__format__',\n",
       " '__ge__',\n",
       " '__getattribute__',\n",
       " '__gt__',\n",
       " '__hash__',\n",
       " '__init__',\n",
       " '__init_subclass__',\n",
       " '__le__',\n",
       " '__lt__',\n",
       " '__module__',\n",
       " '__ne__',\n",
       " '__new__',\n",
       " '__reduce__',\n",
       " '__reduce_ex__',\n",
       " '__repr__',\n",
       " '__setattr__',\n",
       " '__sizeof__',\n",
       " '__str__',\n",
       " '__subclasshook__',\n",
       " '__weakref__',\n",
       " 'a',\n",
       " 'x']"
      ]
     },
     "execution_count": 68,
     "metadata": {},
     "output_type": "execute_result"
    }
   ],
   "source": [
    "# 클래스도 인스턴스 메소드를 가지고 있다.\n",
    "dir(A)"
   ]
  },
  {
   "cell_type": "code",
   "execution_count": null,
   "metadata": {},
   "outputs": [],
   "source": []
  },
  {
   "cell_type": "markdown",
   "metadata": {},
   "source": [
    "## class, instance 메소드\n",
    "클래스 내부에서 @classmethod가 안붙은 함수들  \n",
    "생성된 인스턴스에 작업을 해준다. ex> 인스터스 변수에 값 할당(setter)  \n",
    "* 클래스가 인스턴스 메소드의 self인자를 빠트리면 TypeError가 난다.\n",
    " - 그 self자리에는 생성한 인스턴스를 넣어주고, 조작할 수 있다.\n",
    "* 인스턴스 메소드를 통해 **`self`인자 자리에 넣은 인스턴스 변수**를 조작하여도, 클래스 변수는 변하지 않는다."
   ]
  },
  {
   "cell_type": "code",
   "execution_count": 43,
   "metadata": {},
   "outputs": [],
   "source": [
    "class A:\n",
    "    a = 1 # 클래스 attribute\n",
    "    \n",
    "    def x( self, a): # 인스턴스 메소드\n",
    "        self.a = a"
   ]
  },
  {
   "cell_type": "code",
   "execution_count": 44,
   "metadata": {},
   "outputs": [
    {
     "data": {
      "text/plain": [
       "<function __main__.A.x(self, a)>"
      ]
     },
     "execution_count": 44,
     "metadata": {},
     "output_type": "execute_result"
    }
   ],
   "source": [
    "# 클래스를 이용해서, 인스턴스 메소드를 호출해보자.\n",
    "# 괄호가 안붙으면 <>함수객체가 호출된다.\n",
    "# 인자가 (self, a) 2개로 나타있다.\n",
    "A.x"
   ]
  },
  {
   "cell_type": "markdown",
   "metadata": {},
   "source": [
    "### self\n",
    "**클래스 입장**에서 인스턴스 메소드의 (self, )는 인스턴스가 들어가는 자리다. 만약, 클래스에서 인스턴스를 조작하고 싶다면, 인스턴스 메소드를 호출 하되, **self자리에 해당 인스턴스를 넣어서** 인스턴스 메소드를 호출한다.  \n",
    "* 클래스에서 인스턴스 메소드를 호출시 self인자가 있다면, `self`는 생략되면 안된다. 이 self에는 **인스턴스**가 들어간다.\n",
    "* 즉, self인자가 있다면, 클래스는 인스턴스 메소드 호출시 반드시 self에 해당하는 인자를 넣어줘야한다.\n",
    "* 그러나 호출하더라도, 인스턴스만 변하고, 클래스 변수가 변하진 않는다."
   ]
  },
  {
   "cell_type": "code",
   "execution_count": 45,
   "metadata": {},
   "outputs": [
    {
     "ename": "TypeError",
     "evalue": "x() missing 2 required positional arguments: 'self' and 'a'",
     "output_type": "error",
     "traceback": [
      "\u001b[1;31m---------------------------------------------------------------------------\u001b[0m",
      "\u001b[1;31mTypeError\u001b[0m                                 Traceback (most recent call last)",
      "\u001b[1;32m<ipython-input-45-2ddb6e7b3703>\u001b[0m in \u001b[0;36m<module>\u001b[1;34m\u001b[0m\n\u001b[0;32m      1\u001b[0m \u001b[1;31m# 인스턴스 메소드에 인자를 빠트리면, 2개의 args를 입력해야한다고 나온다.\u001b[0m\u001b[1;33m\u001b[0m\u001b[1;33m\u001b[0m\u001b[1;33m\u001b[0m\u001b[0m\n\u001b[0;32m      2\u001b[0m \u001b[1;31m# 인자를 빠트리면 TypeError가 난다.\u001b[0m\u001b[1;33m\u001b[0m\u001b[1;33m\u001b[0m\u001b[1;33m\u001b[0m\u001b[0m\n\u001b[1;32m----> 3\u001b[1;33m \u001b[0mA\u001b[0m\u001b[1;33m.\u001b[0m\u001b[0mx\u001b[0m\u001b[1;33m(\u001b[0m\u001b[1;33m)\u001b[0m\u001b[1;33m\u001b[0m\u001b[1;33m\u001b[0m\u001b[0m\n\u001b[0m",
      "\u001b[1;31mTypeError\u001b[0m: x() missing 2 required positional arguments: 'self' and 'a'"
     ]
    }
   ],
   "source": [
    "# 인스턴스 메소드에 인자를 빠트리면, 2개의 args를 입력해야한다고 나온다.\n",
    "# 인자를 빠트리면 TypeError가 난다.\n",
    "A.x()"
   ]
  },
  {
   "cell_type": "markdown",
   "metadata": {},
   "source": [
    "### 클래스로 인스턴스 메소드 조작시\n",
    "클래스에서 볼 땐, 인스턴스 메소드는 인스턴스의 메소드기 때문에,  \n",
    "* 호출시, self인자에 인스턴스를 넣어줘야한다.\n",
    "* 인스턴스의 변수를 조작하더라도, 클래스 변수의 값을 조작할 수 없다.\n"
   ]
  },
  {
   "cell_type": "code",
   "execution_count": 60,
   "metadata": {},
   "outputs": [
    {
     "data": {
      "text/plain": [
       "1"
      ]
     },
     "execution_count": 60,
     "metadata": {},
     "output_type": "execute_result"
    }
   ],
   "source": [
    "# 클래스에서 self인자 넣은 인스턴스a의 변수를 조작한다.\n",
    "# 클래스 변수는 변하지 않는다.\n",
    "\n",
    "# instance method( self, value)\n",
    "A.x(a, 8)\n",
    "\n",
    "A.a"
   ]
  },
  {
   "cell_type": "code",
   "execution_count": 61,
   "metadata": {},
   "outputs": [
    {
     "ename": "TypeError",
     "evalue": "x() missing 1 required positional argument: 'a'",
     "output_type": "error",
     "traceback": [
      "\u001b[1;31m---------------------------------------------------------------------------\u001b[0m",
      "\u001b[1;31mTypeError\u001b[0m                                 Traceback (most recent call last)",
      "\u001b[1;32m<ipython-input-61-99dac852e221>\u001b[0m in \u001b[0;36m<module>\u001b[1;34m\u001b[0m\n\u001b[0;32m      1\u001b[0m \u001b[1;31m# 클래스에서 인스턴스 메소드를 호출하려면, self인자에 인스턴스 넣는 것을 생략못한다\u001b[0m\u001b[1;33m\u001b[0m\u001b[1;33m\u001b[0m\u001b[1;33m\u001b[0m\u001b[0m\n\u001b[1;32m----> 2\u001b[1;33m \u001b[0mA\u001b[0m\u001b[1;33m.\u001b[0m\u001b[0mx\u001b[0m\u001b[1;33m(\u001b[0m\u001b[1;36m7\u001b[0m\u001b[1;33m)\u001b[0m\u001b[1;33m\u001b[0m\u001b[1;33m\u001b[0m\u001b[0m\n\u001b[0m",
      "\u001b[1;31mTypeError\u001b[0m: x() missing 1 required positional argument: 'a'"
     ]
    }
   ],
   "source": [
    "# 클래스에서 인스턴스 메소드를 호출하려면, self인자에 인스턴스 넣는 것을 생략못한다\n",
    "A.x(7)"
   ]
  },
  {
   "cell_type": "code",
   "execution_count": 58,
   "metadata": {},
   "outputs": [
    {
     "data": {
      "text/plain": [
       "8"
      ]
     },
     "execution_count": 58,
     "metadata": {},
     "output_type": "execute_result"
    }
   ],
   "source": [
    "# 클래스가 재할당한 인스턴스a의 인스턴스 변수a\n",
    "a.a"
   ]
  },
  {
   "cell_type": "code",
   "execution_count": 54,
   "metadata": {},
   "outputs": [
    {
     "data": {
      "text/plain": [
       "1"
      ]
     },
     "execution_count": 54,
     "metadata": {},
     "output_type": "execute_result"
    }
   ],
   "source": [
    "# 새로운 인스턴스를 만들면, 클래스 변수를 따르고 있다.\n",
    "c = A()\n",
    "c.a"
   ]
  },
  {
   "cell_type": "code",
   "execution_count": 59,
   "metadata": {},
   "outputs": [
    {
     "data": {
      "text/plain": [
       "8"
      ]
     },
     "execution_count": 59,
     "metadata": {},
     "output_type": "execute_result"
    }
   ],
   "source": [
    "# 클래스가 인스턴스 메소드로, 인스턴스c의 변수a를 조작할 수 있다.\n",
    "# instance method( self, value)\n",
    "A.x(c, 8)\n",
    "c.a"
   ]
  },
  {
   "cell_type": "markdown",
   "metadata": {},
   "source": [
    "### 인스턴스로 인스턴스 메소드 조작시\n",
    "* 클래스로 인스턴스를 생성해서 인스턴스 메소드를 호출해야한다.\n",
    "* **인스턴스가 인스턴스 메소드를 조작시 self인자는 생략하고 입력**한다"
   ]
  },
  {
   "cell_type": "code",
   "execution_count": 40,
   "metadata": {},
   "outputs": [
    {
     "data": {
      "text/plain": [
       "<bound method A.x of <__main__.A object at 0x0000027B78D04240>>"
      ]
     },
     "execution_count": 40,
     "metadata": {},
     "output_type": "execute_result"
    }
   ],
   "source": [
    "# 인스턴스에서 볼 땐, 인스턴스 메소드가 진짜 메소드다.\n",
    "a.x"
   ]
  },
  {
   "cell_type": "code",
   "execution_count": 62,
   "metadata": {},
   "outputs": [
    {
     "data": {
      "text/plain": [
       "8"
      ]
     },
     "execution_count": 62,
     "metadata": {},
     "output_type": "execute_result"
    }
   ],
   "source": [
    "# 현재는 클래스->인스턴스 메소드로 인스턴스변수a를 8로 변경시켜놨다.\n",
    "a.a"
   ]
  },
  {
   "cell_type": "code",
   "execution_count": 63,
   "metadata": {},
   "outputs": [],
   "source": [
    "# 인스턴스가 인스턴스 메소드를 호출할 땐, self인자는 생략하고 입력한다\n",
    "# self는, 클래스가 인스턴스 메소드 쓸때, 그자리에 인스턴스 넣으면 된다.\n",
    "a.x(3)"
   ]
  },
  {
   "cell_type": "code",
   "execution_count": 64,
   "metadata": {},
   "outputs": [
    {
     "data": {
      "text/plain": [
       "3"
      ]
     },
     "execution_count": 64,
     "metadata": {},
     "output_type": "execute_result"
    }
   ],
   "source": [
    "a.a"
   ]
  },
  {
   "cell_type": "markdown",
   "metadata": {},
   "source": [
    "### 클래스가 클래스 메소드 조작하는 경우\n",
    "* `@classmethod`라는 데코레이터가 달린 메소드다  \n",
    "* 인스턴스가 인스턴스 메소드 호출할 때 `self`를 생략하는 것처럼,  \n",
    "  **클래스도 클래스 메소드를 호출할 때 `cls`를 생략**한다.\n",
    "* 클래스 변수가 없더라도, 클래스 메소드로 할당할 수 있다.\n",
    " - 클래스 메소드를 통해서 클래스 변수를 동적할당이 가능하다!"
   ]
  },
  {
   "cell_type": "markdown",
   "metadata": {},
   "source": [
    "#### 클래스 메소드를 통해서 클래스 변수를 동적할당"
   ]
  },
  {
   "cell_type": "code",
   "execution_count": 71,
   "metadata": {},
   "outputs": [],
   "source": [
    "# 클래스 변수가 없는 클래스\n",
    "class A:\n",
    "    @classmethod\n",
    "    def x(cls, a):\n",
    "        cls.a = a"
   ]
  },
  {
   "cell_type": "code",
   "execution_count": 72,
   "metadata": {
    "scrolled": true
   },
   "outputs": [
    {
     "data": {
      "text/plain": [
       "['__class__',\n",
       " '__delattr__',\n",
       " '__dict__',\n",
       " '__dir__',\n",
       " '__doc__',\n",
       " '__eq__',\n",
       " '__format__',\n",
       " '__ge__',\n",
       " '__getattribute__',\n",
       " '__gt__',\n",
       " '__hash__',\n",
       " '__init__',\n",
       " '__init_subclass__',\n",
       " '__le__',\n",
       " '__lt__',\n",
       " '__module__',\n",
       " '__ne__',\n",
       " '__new__',\n",
       " '__reduce__',\n",
       " '__reduce_ex__',\n",
       " '__repr__',\n",
       " '__setattr__',\n",
       " '__sizeof__',\n",
       " '__str__',\n",
       " '__subclasshook__',\n",
       " '__weakref__',\n",
       " 'x']"
      ]
     },
     "execution_count": 72,
     "metadata": {},
     "output_type": "execute_result"
    }
   ],
   "source": [
    "# 클래스 메소드 x만 나온다.\n",
    "dir( A )"
   ]
  },
  {
   "cell_type": "code",
   "execution_count": 74,
   "metadata": {},
   "outputs": [],
   "source": [
    "# cls인자를 생략하고, 클래스 메소드로 클래스내부(cls.a) 변수 할당\n",
    "A.x(1)"
   ]
  },
  {
   "cell_type": "code",
   "execution_count": 75,
   "metadata": {},
   "outputs": [
    {
     "data": {
      "text/plain": [
       "1"
      ]
     },
     "execution_count": 75,
     "metadata": {},
     "output_type": "execute_result"
    }
   ],
   "source": [
    "A.a"
   ]
  },
  {
   "cell_type": "code",
   "execution_count": 76,
   "metadata": {
    "scrolled": true
   },
   "outputs": [
    {
     "data": {
      "text/plain": [
       "['__class__',\n",
       " '__delattr__',\n",
       " '__dict__',\n",
       " '__dir__',\n",
       " '__doc__',\n",
       " '__eq__',\n",
       " '__format__',\n",
       " '__ge__',\n",
       " '__getattribute__',\n",
       " '__gt__',\n",
       " '__hash__',\n",
       " '__init__',\n",
       " '__init_subclass__',\n",
       " '__le__',\n",
       " '__lt__',\n",
       " '__module__',\n",
       " '__ne__',\n",
       " '__new__',\n",
       " '__reduce__',\n",
       " '__reduce_ex__',\n",
       " '__repr__',\n",
       " '__setattr__',\n",
       " '__sizeof__',\n",
       " '__str__',\n",
       " '__subclasshook__',\n",
       " '__weakref__',\n",
       " 'a',\n",
       " 'x']"
      ]
     },
     "execution_count": 76,
     "metadata": {},
     "output_type": "execute_result"
    }
   ],
   "source": [
    "# 클래스 메소드를 통해 클래스 변수a가 생성되었다.\n",
    "dir(A)"
   ]
  },
  {
   "cell_type": "markdown",
   "metadata": {},
   "source": [
    "#### 클래스 메소드 -> 클래스변수 동적할당 -> 인스턴스도 따라간다.\n",
    "클래스 변수가 클래스 메소드에 의해 동적할당 된 순간  \n",
    "인스턴스 변수도 클래스 변수를 동적으로 찾아온다.  \n",
    "* vars( instance )를 통해 인스턴스 변수를 확인해도 안보임"
   ]
  },
  {
   "cell_type": "code",
   "execution_count": 78,
   "metadata": {},
   "outputs": [],
   "source": [
    "c = A()"
   ]
  },
  {
   "cell_type": "code",
   "execution_count": 79,
   "metadata": {},
   "outputs": [
    {
     "data": {
      "text/plain": [
       "1"
      ]
     },
     "execution_count": 79,
     "metadata": {},
     "output_type": "execute_result"
    }
   ],
   "source": [
    "c.a"
   ]
  },
  {
   "cell_type": "code",
   "execution_count": 81,
   "metadata": {},
   "outputs": [
    {
     "data": {
      "text/plain": [
       "{}"
      ]
     },
     "execution_count": 81,
     "metadata": {},
     "output_type": "execute_result"
    }
   ],
   "source": [
    "# 인스턴스 단위에서 할당받지 않으면, 인스턴스 변수a는 없다\n",
    "# 클래스 변수를 가져오는 것\n",
    "vars(c)"
   ]
  },
  {
   "cell_type": "markdown",
   "metadata": {},
   "source": [
    "### 인스턴스가 클래스 메소드를 호출하는 경우\n",
    "인스턴스에서 클래스 메소드를 호출하여, 클래스 변수를 생성할 수 있다.\n",
    "1. 클래스 메소드를 호출했으니, 클래스 변수가 생긴다\n",
    "2. 인스턴스에서는, 인스턴스 변수가 없으니 클래스 변수를 찾아온다.\n",
    "3. 그러나 인스턴스 변수는 없는 것이다. vars()"
   ]
  },
  {
   "cell_type": "code",
   "execution_count": 82,
   "metadata": {},
   "outputs": [],
   "source": [
    "class A:\n",
    "    @classmethod\n",
    "    def x(cls, a):\n",
    "        cls.a = a"
   ]
  },
  {
   "cell_type": "code",
   "execution_count": 85,
   "metadata": {},
   "outputs": [],
   "source": [
    "# 인스턴스에서 클래스 메소드를 호출 할 수도 있다.\n",
    "e = A()\n",
    "e.x(1)"
   ]
  },
  {
   "cell_type": "code",
   "execution_count": 87,
   "metadata": {},
   "outputs": [
    {
     "data": {
      "text/plain": [
       "1"
      ]
     },
     "execution_count": 87,
     "metadata": {},
     "output_type": "execute_result"
    }
   ],
   "source": [
    "# 클래스 메소드를 호출했으니, 클래스 변수가 생긴다\n",
    "A.a"
   ]
  },
  {
   "cell_type": "code",
   "execution_count": 88,
   "metadata": {},
   "outputs": [
    {
     "data": {
      "text/plain": [
       "1"
      ]
     },
     "execution_count": 88,
     "metadata": {},
     "output_type": "execute_result"
    }
   ],
   "source": [
    "# 인스턴스에서도 클래스 변수를 찾아온다.\n",
    "e.a"
   ]
  },
  {
   "cell_type": "code",
   "execution_count": 89,
   "metadata": {},
   "outputs": [
    {
     "data": {
      "text/plain": [
       "{}"
      ]
     },
     "execution_count": 89,
     "metadata": {},
     "output_type": "execute_result"
    }
   ],
   "source": [
    "# 그러나 인스턴스 변수는 없는 것이다.\n",
    "vars(e)"
   ]
  },
  {
   "cell_type": "markdown",
   "metadata": {},
   "source": [
    "## \\_\\_slots\\_\\_\n",
    "클래스 내부에서 선언되어, 명시된 것만 인스턴스 변수로 쓸 수 있도록 **인스턴스 변수를 제한**한다.  \n",
    "즉, 클래스 변수를 가져다 쓰는 것도 안된다. dir( instance )목록에도 클래스 변수가 없어진다.  \n",
    "cf) `__all__ =[ '_식별자', '목록']`은 py파일 마지막에 입력해서, **언더바가 달린 식별자를 import**할 수 있게 해줬었다.  \n",
    "* `__slots__ = ['식별자']` (식별자를 문자열 list형태로 입력)\n",
    "* 선언하지 않으면, dir( class ) 에서는 나타나지 않는 명령어\n",
    "    - duck-typing으로 object 클래스를 자동상속하는데, 거기서 받지 못했다\n",
    "* 클래스 내부에서 선언시, dir( class )목록에 `__slots__`와 해당 식별자가 뜬다.\n",
    "* 인스턴스 변수 or 인스턴스 메소드와 동일한 식별자 추가는 안된다. ValueError\n",
    "* **인스턴스 메소드명**과 인스턴스 메소드 내부의 **인스턴스 변수로 할당 예정인 변수명**은, 인스턴스 변수 할당시, 인스턴스 메소드를 덮어씌워버린다.  \n",
    "``` python\n",
    "    def x(self):\n",
    "        self.x=3 \n",
    "        self.y=7 \n",
    "```\n",
    "* vars()는 무조건 호출이 불가능해진다.\n",
    " - slots가 없는경우, 인스턴스 변수가 할당되지 않았을 때, vars()는 { } 공백으로 표시됬었다.\n",
    " - vars( class )는 그대로 가능하다. 인스턴스 변수 + vars( instance )만 제한\n",
    " - dir( instance )에서는 클래스 변수, 인스턴스 변수 다 보인다"
   ]
  },
  {
   "cell_type": "code",
   "execution_count": 90,
   "metadata": {},
   "outputs": [],
   "source": [
    "# 클래스 명령어에 __slot__은 기본적으로 없다.\n",
    "class B:\n",
    "    a = 1\n",
    "    b = 2"
   ]
  },
  {
   "cell_type": "code",
   "execution_count": 91,
   "metadata": {
    "scrolled": true
   },
   "outputs": [
    {
     "data": {
      "text/plain": [
       "['__class__',\n",
       " '__delattr__',\n",
       " '__dict__',\n",
       " '__dir__',\n",
       " '__doc__',\n",
       " '__eq__',\n",
       " '__format__',\n",
       " '__ge__',\n",
       " '__getattribute__',\n",
       " '__gt__',\n",
       " '__hash__',\n",
       " '__init__',\n",
       " '__init_subclass__',\n",
       " '__le__',\n",
       " '__lt__',\n",
       " '__module__',\n",
       " '__ne__',\n",
       " '__new__',\n",
       " '__reduce__',\n",
       " '__reduce_ex__',\n",
       " '__repr__',\n",
       " '__setattr__',\n",
       " '__sizeof__',\n",
       " '__str__',\n",
       " '__subclasshook__',\n",
       " '__weakref__',\n",
       " 'a',\n",
       " 'b']"
      ]
     },
     "execution_count": 91,
     "metadata": {},
     "output_type": "execute_result"
    }
   ],
   "source": [
    "dir(B)"
   ]
  },
  {
   "cell_type": "code",
   "execution_count": 94,
   "metadata": {},
   "outputs": [],
   "source": [
    "# __slot__ 을 선언하면 dir()명령어에 생긴다.\n",
    "class B:\n",
    "    a = 1\n",
    "    b = 2\n",
    "    __slots__ = ['c']"
   ]
  },
  {
   "cell_type": "code",
   "execution_count": 95,
   "metadata": {},
   "outputs": [
    {
     "data": {
      "text/plain": [
       "['__class__',\n",
       " '__delattr__',\n",
       " '__dir__',\n",
       " '__doc__',\n",
       " '__eq__',\n",
       " '__format__',\n",
       " '__ge__',\n",
       " '__getattribute__',\n",
       " '__gt__',\n",
       " '__hash__',\n",
       " '__init__',\n",
       " '__init_subclass__',\n",
       " '__le__',\n",
       " '__lt__',\n",
       " '__module__',\n",
       " '__ne__',\n",
       " '__new__',\n",
       " '__reduce__',\n",
       " '__reduce_ex__',\n",
       " '__repr__',\n",
       " '__setattr__',\n",
       " '__sizeof__',\n",
       " '__slots__',\n",
       " '__str__',\n",
       " '__subclasshook__',\n",
       " 'a',\n",
       " 'b',\n",
       " 'c']"
      ]
     },
     "execution_count": 95,
     "metadata": {},
     "output_type": "execute_result"
    }
   ],
   "source": [
    "dir(B)"
   ]
  },
  {
   "cell_type": "code",
   "execution_count": 97,
   "metadata": {},
   "outputs": [
    {
     "ename": "ValueError",
     "evalue": "'a' in __slots__ conflicts with class variable",
     "output_type": "error",
     "traceback": [
      "\u001b[1;31m---------------------------------------------------------------------------\u001b[0m",
      "\u001b[1;31mValueError\u001b[0m                                Traceback (most recent call last)",
      "\u001b[1;32m<ipython-input-97-7d1965ca5772>\u001b[0m in \u001b[0;36m<module>\u001b[1;34m\u001b[0m\n\u001b[1;32m----> 1\u001b[1;33m \u001b[1;32mclass\u001b[0m \u001b[0mB\u001b[0m\u001b[1;33m:\u001b[0m\u001b[1;33m\u001b[0m\u001b[1;33m\u001b[0m\u001b[0m\n\u001b[0m\u001b[0;32m      2\u001b[0m     \u001b[0ma\u001b[0m \u001b[1;33m=\u001b[0m \u001b[1;36m1\u001b[0m\u001b[1;33m\u001b[0m\u001b[1;33m\u001b[0m\u001b[0m\n\u001b[0;32m      3\u001b[0m     \u001b[0mb\u001b[0m \u001b[1;33m=\u001b[0m \u001b[1;36m2\u001b[0m\u001b[1;33m\u001b[0m\u001b[1;33m\u001b[0m\u001b[0m\n\u001b[0;32m      4\u001b[0m     \u001b[0m__slots__\u001b[0m \u001b[1;33m=\u001b[0m \u001b[1;33m[\u001b[0m\u001b[1;34m'a'\u001b[0m\u001b[1;33m]\u001b[0m \u001b[1;31m# 인스턴스 변수와 동일한 명칭의 식별자 추가\u001b[0m\u001b[1;33m\u001b[0m\u001b[1;33m\u001b[0m\u001b[0m\n\u001b[0;32m      5\u001b[0m \u001b[1;33m\u001b[0m\u001b[0m\n",
      "\u001b[1;31mValueError\u001b[0m: 'a' in __slots__ conflicts with class variable"
     ]
    }
   ],
   "source": [
    "class B:\n",
    "    a = 1\n",
    "    b = 2\n",
    "    __slots__ = ['a'] #  클래스 변수와 동일한 명칭의 식별자 추가\n",
    "\n",
    "    def x(self):\n",
    "        self.x = 10\n",
    "        self.y = 20"
   ]
  },
  {
   "cell_type": "code",
   "execution_count": 96,
   "metadata": {},
   "outputs": [
    {
     "ename": "ValueError",
     "evalue": "'x' in __slots__ conflicts with class variable",
     "output_type": "error",
     "traceback": [
      "\u001b[1;31m---------------------------------------------------------------------------\u001b[0m",
      "\u001b[1;31mValueError\u001b[0m                                Traceback (most recent call last)",
      "\u001b[1;32m<ipython-input-96-0ed6a8d11718>\u001b[0m in \u001b[0;36m<module>\u001b[1;34m\u001b[0m\n\u001b[1;32m----> 1\u001b[1;33m \u001b[1;32mclass\u001b[0m \u001b[0mB\u001b[0m\u001b[1;33m:\u001b[0m\u001b[1;33m\u001b[0m\u001b[1;33m\u001b[0m\u001b[0m\n\u001b[0m\u001b[0;32m      2\u001b[0m     \u001b[0ma\u001b[0m \u001b[1;33m=\u001b[0m \u001b[1;36m1\u001b[0m\u001b[1;33m\u001b[0m\u001b[1;33m\u001b[0m\u001b[0m\n\u001b[0;32m      3\u001b[0m     \u001b[0mb\u001b[0m \u001b[1;33m=\u001b[0m \u001b[1;36m2\u001b[0m\u001b[1;33m\u001b[0m\u001b[1;33m\u001b[0m\u001b[0m\n\u001b[0;32m      4\u001b[0m     \u001b[0m__slots__\u001b[0m \u001b[1;33m=\u001b[0m \u001b[1;33m[\u001b[0m\u001b[1;34m'x'\u001b[0m\u001b[1;33m]\u001b[0m \u001b[1;31m# 인스턴스 메소드와 동일한 명칭의 식별자 추가\u001b[0m\u001b[1;33m\u001b[0m\u001b[1;33m\u001b[0m\u001b[0m\n\u001b[0;32m      5\u001b[0m \u001b[1;33m\u001b[0m\u001b[0m\n",
      "\u001b[1;31mValueError\u001b[0m: 'x' in __slots__ conflicts with class variable"
     ]
    }
   ],
   "source": [
    "class B:\n",
    "    a = 1\n",
    "    b = 2\n",
    "    __slots__ = ['x'] # 인스턴스 메소드명과 동일한 명칭의 식별자 추가\n",
    "\n",
    "    def x(self):\n",
    "        self.x = 10\n",
    "        self.y = 20"
   ]
  },
  {
   "cell_type": "code",
   "execution_count": null,
   "metadata": {},
   "outputs": [
    {
     "data": {
      "application/javascript": [
       "IPython.notebook.kernel.restart()\n"
      ],
      "text/plain": [
       "<IPython.core.display.Javascript object>"
      ]
     },
     "metadata": {},
     "output_type": "display_data"
    }
   ],
   "source": [
    "%%javascript\n",
    "IPython.notebook.kernel.restart()"
   ]
  },
  {
   "cell_type": "code",
   "execution_count": 3,
   "metadata": {},
   "outputs": [],
   "source": [
    "class A:\n",
    "    a = 1\n",
    "    b = 1\n",
    "    __slots__ = ['y']  # 인스턴스 변수or메소드와 다른이름으로 slots 추가했다.\n",
    "    def x(self):\n",
    "        self.x=3 # self.x는 dir()에 안뜸.\n",
    "        self.y=7 # self.y는 dir()에 안뜸"
   ]
  },
  {
   "cell_type": "code",
   "execution_count": 4,
   "metadata": {
    "scrolled": true
   },
   "outputs": [
    {
     "data": {
      "text/plain": [
       "['__class__',\n",
       " '__delattr__',\n",
       " '__dir__',\n",
       " '__doc__',\n",
       " '__eq__',\n",
       " '__format__',\n",
       " '__ge__',\n",
       " '__getattribute__',\n",
       " '__gt__',\n",
       " '__hash__',\n",
       " '__init__',\n",
       " '__init_subclass__',\n",
       " '__le__',\n",
       " '__lt__',\n",
       " '__module__',\n",
       " '__ne__',\n",
       " '__new__',\n",
       " '__reduce__',\n",
       " '__reduce_ex__',\n",
       " '__repr__',\n",
       " '__setattr__',\n",
       " '__sizeof__',\n",
       " '__slots__',\n",
       " '__str__',\n",
       " '__subclasshook__',\n",
       " 'a',\n",
       " 'b',\n",
       " 'x',\n",
       " 'y']"
      ]
     },
     "execution_count": 4,
     "metadata": {},
     "output_type": "execute_result"
    }
   ],
   "source": [
    "# dir()목록에서는 인스턴스변수, slots, 인스턴스 메소드명 이 같은 위상으로 보인다.\n",
    "dir( A)"
   ]
  },
  {
   "cell_type": "code",
   "execution_count": 5,
   "metadata": {},
   "outputs": [
    {
     "data": {
      "text/plain": [
       "<function __main__.A.x(self)>"
      ]
     },
     "execution_count": 5,
     "metadata": {},
     "output_type": "execute_result"
    }
   ],
   "source": [
    "# dir( class )에 보이는 x는 self.x와 무관하다. \n",
    "# 직접 클래스.x로 호출해보면 된다.\n",
    "# x는 인스턴스 메소드(function)이었다.\n",
    "A.x"
   ]
  },
  {
   "cell_type": "code",
   "execution_count": 6,
   "metadata": {},
   "outputs": [
    {
     "data": {
      "text/plain": [
       "<member 'y' of 'A' objects>"
      ]
     },
     "execution_count": 6,
     "metadata": {},
     "output_type": "execute_result"
    }
   ],
   "source": [
    "# slots에 선언된 식별자는 아래와 같이 뜨는 구나...\n",
    "A.y"
   ]
  },
  {
   "cell_type": "code",
   "execution_count": 7,
   "metadata": {},
   "outputs": [
    {
     "data": {
      "text/plain": [
       "1"
      ]
     },
     "execution_count": 7,
     "metadata": {},
     "output_type": "execute_result"
    }
   ],
   "source": [
    "A.a"
   ]
  },
  {
   "cell_type": "code",
   "execution_count": 8,
   "metadata": {},
   "outputs": [],
   "source": [
    "# slots = ['y']를 지우고, dir()을 확인해보면 없다.\n",
    "class A:\n",
    "    a = 1\n",
    "    b = 1\n",
    "#     __slots__ = ['y']  # 주석처리\n",
    "    def x(self):\n",
    "        self.x=3 \n",
    "        self.y=7 "
   ]
  },
  {
   "cell_type": "code",
   "execution_count": 9,
   "metadata": {
    "scrolled": true
   },
   "outputs": [
    {
     "data": {
      "text/plain": [
       "['__class__',\n",
       " '__delattr__',\n",
       " '__dict__',\n",
       " '__dir__',\n",
       " '__doc__',\n",
       " '__eq__',\n",
       " '__format__',\n",
       " '__ge__',\n",
       " '__getattribute__',\n",
       " '__gt__',\n",
       " '__hash__',\n",
       " '__init__',\n",
       " '__init_subclass__',\n",
       " '__le__',\n",
       " '__lt__',\n",
       " '__module__',\n",
       " '__ne__',\n",
       " '__new__',\n",
       " '__reduce__',\n",
       " '__reduce_ex__',\n",
       " '__repr__',\n",
       " '__setattr__',\n",
       " '__sizeof__',\n",
       " '__str__',\n",
       " '__subclasshook__',\n",
       " '__weakref__',\n",
       " 'a',\n",
       " 'b',\n",
       " 'x']"
      ]
     },
     "execution_count": 9,
     "metadata": {},
     "output_type": "execute_result"
    }
   ],
   "source": [
    "dir(A)"
   ]
  },
  {
   "cell_type": "code",
   "execution_count": 11,
   "metadata": {},
   "outputs": [],
   "source": [
    "# 인스턴스를 만들고, 그 인스턴스 메소드를 호출해보자.\n",
    "a = A()\n",
    "\n",
    "a.x()"
   ]
  },
  {
   "cell_type": "code",
   "execution_count": 12,
   "metadata": {
    "scrolled": true
   },
   "outputs": [
    {
     "data": {
      "text/plain": [
       "['__class__',\n",
       " '__delattr__',\n",
       " '__dict__',\n",
       " '__dir__',\n",
       " '__doc__',\n",
       " '__eq__',\n",
       " '__format__',\n",
       " '__ge__',\n",
       " '__getattribute__',\n",
       " '__gt__',\n",
       " '__hash__',\n",
       " '__init__',\n",
       " '__init_subclass__',\n",
       " '__le__',\n",
       " '__lt__',\n",
       " '__module__',\n",
       " '__ne__',\n",
       " '__new__',\n",
       " '__reduce__',\n",
       " '__reduce_ex__',\n",
       " '__repr__',\n",
       " '__setattr__',\n",
       " '__sizeof__',\n",
       " '__str__',\n",
       " '__subclasshook__',\n",
       " '__weakref__',\n",
       " 'a',\n",
       " 'b',\n",
       " 'x',\n",
       " 'y']"
      ]
     },
     "execution_count": 12,
     "metadata": {},
     "output_type": "execute_result"
    }
   ],
   "source": [
    "# 인스턴스 메소드가 호출된 이후, dir( instance )는?\n",
    "# 인스턴스 메소드에 정의되었던 self.x , self.y 가 할당되어있다.\n",
    "# 근데 인스턴스 메소드명 : x, 와 인스턴스 변수 x 중 누구를 말하는 것일까?\n",
    "dir(a)"
   ]
  },
  {
   "cell_type": "code",
   "execution_count": 13,
   "metadata": {},
   "outputs": [
    {
     "ename": "TypeError",
     "evalue": "'int' object is not callable",
     "output_type": "error",
     "traceback": [
      "\u001b[1;31m---------------------------------------------------------------------------\u001b[0m",
      "\u001b[1;31mTypeError\u001b[0m                                 Traceback (most recent call last)",
      "\u001b[1;32m<ipython-input-13-83a4e035ac8f>\u001b[0m in \u001b[0;36m<module>\u001b[1;34m\u001b[0m\n\u001b[1;32m----> 1\u001b[1;33m \u001b[0ma\u001b[0m\u001b[1;33m.\u001b[0m\u001b[0mx\u001b[0m\u001b[1;33m(\u001b[0m\u001b[1;33m)\u001b[0m\u001b[1;33m\u001b[0m\u001b[1;33m\u001b[0m\u001b[0m\n\u001b[0m",
      "\u001b[1;31mTypeError\u001b[0m: 'int' object is not callable"
     ]
    }
   ],
   "source": [
    "# 인스턴스 메소드가 호출이 안된다.\n",
    "# 즉, 인스턴스 변수x가  인스턴스 메소드x를 덮어씌웠다.\n",
    "a.x()"
   ]
  },
  {
   "cell_type": "code",
   "execution_count": 14,
   "metadata": {},
   "outputs": [
    {
     "data": {
      "text/plain": [
       "3"
      ]
     },
     "execution_count": 14,
     "metadata": {},
     "output_type": "execute_result"
    }
   ],
   "source": [
    "# 새롭게 할당된 인스턴스 변수가, 인스턴스 메소드를 덮어씌웠다. \n",
    "# dir에서는 변수명, 메소드명 모두 같은 위상으로 나타나서 헤깔린다.\n",
    "a.x"
   ]
  },
  {
   "cell_type": "code",
   "execution_count": 15,
   "metadata": {},
   "outputs": [],
   "source": [
    "class A:\n",
    "    a = 1\n",
    "    b = 1\n",
    "    __slots__ = ['Y']  # Y로 바꿨다.\n",
    "    \n",
    "    def z(self): # z로 바꿨다.\n",
    "        self.x=3\n",
    "        self.y=7"
   ]
  },
  {
   "cell_type": "code",
   "execution_count": 16,
   "metadata": {},
   "outputs": [],
   "source": [
    "a = A()"
   ]
  },
  {
   "cell_type": "code",
   "execution_count": 17,
   "metadata": {},
   "outputs": [
    {
     "data": {
      "text/plain": [
       "['Y',\n",
       " '__class__',\n",
       " '__delattr__',\n",
       " '__dir__',\n",
       " '__doc__',\n",
       " '__eq__',\n",
       " '__format__',\n",
       " '__ge__',\n",
       " '__getattribute__',\n",
       " '__gt__',\n",
       " '__hash__',\n",
       " '__init__',\n",
       " '__init_subclass__',\n",
       " '__le__',\n",
       " '__lt__',\n",
       " '__module__',\n",
       " '__ne__',\n",
       " '__new__',\n",
       " '__reduce__',\n",
       " '__reduce_ex__',\n",
       " '__repr__',\n",
       " '__setattr__',\n",
       " '__sizeof__',\n",
       " '__slots__',\n",
       " '__str__',\n",
       " '__subclasshook__',\n",
       " 'a',\n",
       " 'b',\n",
       " 'z']"
      ]
     },
     "execution_count": 17,
     "metadata": {},
     "output_type": "execute_result"
    }
   ],
   "source": [
    "# slots의 식별자 Y가 있다. \n",
    "# 아직 할당되지 않은 인스턴스 변수 x, y는 없다.\n",
    "# 클래스 변수 a, b도 보인다.\n",
    "dir(a)"
   ]
  },
  {
   "cell_type": "markdown",
   "metadata": {},
   "source": [
    "### \\_\\_slots\\_\\_ 가 포함된 인스턴스는 vars()가 안된다\n",
    "클래스는 되는데, 인스턴스는 안된다. **`__slots__`의 역할은 인스턴스가 클래스 변수를 가져오는 것을 막고, 명시된 식별자만 인스턴스 변수로 쓸 수 있게 제한**한다.  \n",
    "또한, 제한된 식별자 수와 관계없이 **vars()를 호출하지 못한다**  \n",
    "- slots가 없는경우, 인스턴스 변수가 할당되지 않았을 때, vars()는 { } 공백으로 표시됬었다.\n",
    "- vars( class )는 그대로 가능하다. 인스턴스 변수 + vars( instance )만 제한"
   ]
  },
  {
   "cell_type": "code",
   "execution_count": 18,
   "metadata": {},
   "outputs": [
    {
     "data": {
      "text/plain": [
       "mappingproxy({'__module__': '__main__',\n",
       "              'a': 1,\n",
       "              'b': 1,\n",
       "              '__slots__': ['Y'],\n",
       "              'z': <function __main__.A.z(self)>,\n",
       "              'Y': <member 'Y' of 'A' objects>,\n",
       "              '__doc__': None})"
      ]
     },
     "execution_count": 18,
     "metadata": {},
     "output_type": "execute_result"
    }
   ],
   "source": [
    "# __slots__는, 인스턴스가 클래스변수를 가져오는 것을 제한한다.\n",
    "# __slots__에 명시된 식별자만 인스턴스 변수가 될 수 있다.\n",
    "vars(A)"
   ]
  },
  {
   "cell_type": "code",
   "execution_count": 19,
   "metadata": {},
   "outputs": [
    {
     "ename": "TypeError",
     "evalue": "vars() argument must have __dict__ attribute",
     "output_type": "error",
     "traceback": [
      "\u001b[1;31m---------------------------------------------------------------------------\u001b[0m",
      "\u001b[1;31mTypeError\u001b[0m                                 Traceback (most recent call last)",
      "\u001b[1;32m<ipython-input-19-ed1385268fe9>\u001b[0m in \u001b[0;36m<module>\u001b[1;34m\u001b[0m\n\u001b[1;32m----> 1\u001b[1;33m \u001b[0mvars\u001b[0m\u001b[1;33m(\u001b[0m\u001b[0ma\u001b[0m\u001b[1;33m)\u001b[0m\u001b[1;33m\u001b[0m\u001b[1;33m\u001b[0m\u001b[0m\n\u001b[0m",
      "\u001b[1;31mTypeError\u001b[0m: vars() argument must have __dict__ attribute"
     ]
    }
   ],
   "source": [
    "# 인스턴스는 vars()는 더이상 호출 못한다.\n",
    "vars(a)"
   ]
  },
  {
   "cell_type": "code",
   "execution_count": 20,
   "metadata": {},
   "outputs": [],
   "source": [
    "class A:\n",
    "    a = 1\n",
    "    b = 1\n",
    "    __slots__ = ['x','y'] # 제한인스턴스 변수를 2개로 늘였다.\n",
    "    def z(self):\n",
    "        self.x=3\n",
    "        self.y=7"
   ]
  },
  {
   "cell_type": "code",
   "execution_count": 21,
   "metadata": {},
   "outputs": [],
   "source": [
    "a = A()"
   ]
  },
  {
   "cell_type": "code",
   "execution_count": 22,
   "metadata": {
    "scrolled": true
   },
   "outputs": [
    {
     "data": {
      "text/plain": [
       "['__class__',\n",
       " '__delattr__',\n",
       " '__dir__',\n",
       " '__doc__',\n",
       " '__eq__',\n",
       " '__format__',\n",
       " '__ge__',\n",
       " '__getattribute__',\n",
       " '__gt__',\n",
       " '__hash__',\n",
       " '__init__',\n",
       " '__init_subclass__',\n",
       " '__le__',\n",
       " '__lt__',\n",
       " '__module__',\n",
       " '__ne__',\n",
       " '__new__',\n",
       " '__reduce__',\n",
       " '__reduce_ex__',\n",
       " '__repr__',\n",
       " '__setattr__',\n",
       " '__sizeof__',\n",
       " '__slots__',\n",
       " '__str__',\n",
       " '__subclasshook__',\n",
       " 'a',\n",
       " 'b',\n",
       " 'x',\n",
       " 'y',\n",
       " 'z']"
      ]
     },
     "execution_count": 22,
     "metadata": {},
     "output_type": "execute_result"
    }
   ],
   "source": [
    "# dir()로 보면 클래스변수도 보인다. (하지만 못가져온다 slots 식별자로만 제한되어 있다)\n",
    "dir (a)"
   ]
  },
  {
   "cell_type": "code",
   "execution_count": 23,
   "metadata": {},
   "outputs": [
    {
     "ename": "AttributeError",
     "evalue": "x",
     "output_type": "error",
     "traceback": [
      "\u001b[1;31m---------------------------------------------------------------------------\u001b[0m",
      "\u001b[1;31mAttributeError\u001b[0m                            Traceback (most recent call last)",
      "\u001b[1;32m<ipython-input-23-e27186f28a17>\u001b[0m in \u001b[0;36m<module>\u001b[1;34m\u001b[0m\n\u001b[1;32m----> 1\u001b[1;33m \u001b[0ma\u001b[0m\u001b[1;33m.\u001b[0m\u001b[0mx\u001b[0m\u001b[1;33m\u001b[0m\u001b[1;33m\u001b[0m\u001b[0m\n\u001b[0m",
      "\u001b[1;31mAttributeError\u001b[0m: x"
     ]
    }
   ],
   "source": [
    "# 아직 할당안됬다면, slots 식별자는 호출못한다\n",
    "a.x"
   ]
  },
  {
   "cell_type": "code",
   "execution_count": 24,
   "metadata": {},
   "outputs": [],
   "source": [
    "# 인스턴스 메소드를 통해, 내부에서 self.x, y(slots)로 인스턴스 변수로 할당해보자.\n",
    "a.z()"
   ]
  },
  {
   "cell_type": "code",
   "execution_count": 25,
   "metadata": {},
   "outputs": [
    {
     "data": {
      "text/plain": [
       "3"
      ]
     },
     "execution_count": 25,
     "metadata": {},
     "output_type": "execute_result"
    }
   ],
   "source": [
    "# 할당되면, slots식별자는 호출된다.\n",
    "a.x"
   ]
  },
  {
   "cell_type": "code",
   "execution_count": 26,
   "metadata": {},
   "outputs": [
    {
     "data": {
      "text/plain": [
       "7"
      ]
     },
     "execution_count": 26,
     "metadata": {},
     "output_type": "execute_result"
    }
   ],
   "source": [
    "a.y"
   ]
  },
  {
   "cell_type": "markdown",
   "metadata": {},
   "source": [
    "## 클래스, 인스턴스 변수 정리\n",
    "* 클래스 내부에 정의된 변수는 클래스 변수다.\n",
    "* 인스턴스 메소드 안에 self.x로 정의된 변수가 나중에 인스턴스 변수로 할당될 변수다.\n",
    "* 인스턴스 변수는 클래스 변수를 가져와서 쓴다. (아직 할당안됬을 때)\n",
    "\n",
    "* 클래스는 인스턴스 변수를 조작할 수 있다. by 인스턴스 메서드 + self자리에 인스턴스\n",
    "* slots로 입력하면, 인스턴스 변수가, 클래스 변수를 가져다 쓰는 것을 막을 수 있다.\n",
    "* slots로 입력하면, 해당 식별자만 인스턴스 변수로 쓰인다.\n",
    "* slots는 vars( instance )를 막는다"
   ]
  },
  {
   "cell_type": "markdown",
   "metadata": {},
   "source": [
    "## 클래스, 인스턴스 메소드 정리\n",
    "객체 메소드에는 4가지가 있다. **각 메소드는 자기 위치의 변수를 할당하는 데 쓰이는 것** 같다.\n",
    "1. @classmethod : cls.a = 클래스 변수 할당\n",
    "2. 인스턴스 메소드 : self.a = 인스턴스 변수 할당\n",
    "3. @staticmethod \n",
    "4. magic method\n"
   ]
  },
  {
   "cell_type": "markdown",
   "metadata": {},
   "source": [
    "## static method\n",
    "`@staticmethod`라는 decorator를 붙혀서, class나 instance 모두가 편하게 호출한다.  \n",
    "**그러나 클래스변수, 인스턴스변수를 사용 및 할당이 불가능하다**"
   ]
  },
  {
   "cell_type": "code",
   "execution_count": 27,
   "metadata": {},
   "outputs": [],
   "source": [
    "# staticmethod는 클래스 변수나, 인스턴스 변수의 할당을 못한다.\n",
    "# 단순 연산 및 return 정도\n",
    "class A:\n",
    "    a=1\n",
    "    \n",
    "    \n",
    "    @staticmethod\n",
    "    def z():\n",
    "        return 1"
   ]
  },
  {
   "cell_type": "code",
   "execution_count": 28,
   "metadata": {},
   "outputs": [
    {
     "data": {
      "text/plain": [
       "1"
      ]
     },
     "execution_count": 28,
     "metadata": {},
     "output_type": "execute_result"
    }
   ],
   "source": [
    "# 클래스나 인스턴스에서 편하게 사용할 수 있다.\n",
    "A.z()"
   ]
  },
  {
   "cell_type": "code",
   "execution_count": 29,
   "metadata": {},
   "outputs": [
    {
     "data": {
      "text/plain": [
       "1"
      ]
     },
     "execution_count": 29,
     "metadata": {},
     "output_type": "execute_result"
    }
   ],
   "source": [
    "a = A()\n",
    "a.z()"
   ]
  },
  {
   "cell_type": "markdown",
   "metadata": {},
   "source": [
    "## python에서 생성자와 오버로딩\n",
    "**생성자**  \n",
    "* python의 생성자를 통해 인스턴스를 생성시 **인스턴스 변수 할당 등의 초기화** 작업 하는데,  `__init(self, 인스턴스변수에 할당할 값)__` 의 형태를 가졌다.\n",
    "* 인스턴스 변수 갯수만큼, 값의 개수를 params에 잘 맞추어야 하는데, **parameter에 default값을 키워드 방식로 넣으면 걱정없다**\n",
    "* 생성자는 1개만 가능하다. **2개 이상의 생성자는 뒤에 선언한 것이 생성자다**\n",
    "  \n",
    "**오버로딩**\n",
    "* python에서는 오버로딩을 지원하지 않는다. @derocator로 만들어서 한다.\n",
    "* 생성자가 1개만 가능한데, 2개를 선언했다면, 뒤에것이 오버로딩 된다.\n",
    "* python에서 연산자는 오버로딩 가능하다"
   ]
  },
  {
   "cell_type": "markdown",
   "metadata": {},
   "source": [
    "### 생성자와 self, 인스턴스변수에 할당될 값들"
   ]
  },
  {
   "cell_type": "code",
   "execution_count": 35,
   "metadata": {},
   "outputs": [],
   "source": [
    "# 생성자에서 받은 값으로 인스턴스변수를 할당안할 떄\n",
    "class A:\n",
    "    # 생성자는 인스턴스를 만들 때, 인스턴스 변수에 값을 할당할 수 있다.\n",
    "    # 이전에는 인스턴스 메서드에서 self.a = 1 로 할당\n",
    "    def __init__(self,x):  \n",
    "        print('create instance')"
   ]
  },
  {
   "cell_type": "code",
   "execution_count": 33,
   "metadata": {},
   "outputs": [
    {
     "name": "stdout",
     "output_type": "stream",
     "text": [
      "create instance\n"
     ]
    }
   ],
   "source": [
    "# \n",
    "a = A(1)"
   ]
  },
  {
   "cell_type": "code",
   "execution_count": 39,
   "metadata": {},
   "outputs": [
    {
     "ename": "AttributeError",
     "evalue": "'A' object has no attribute 'x'",
     "output_type": "error",
     "traceback": [
      "\u001b[1;31m---------------------------------------------------------------------------\u001b[0m",
      "\u001b[1;31mAttributeError\u001b[0m                            Traceback (most recent call last)",
      "\u001b[1;32m<ipython-input-39-e27186f28a17>\u001b[0m in \u001b[0;36m<module>\u001b[1;34m\u001b[0m\n\u001b[1;32m----> 1\u001b[1;33m \u001b[0ma\u001b[0m\u001b[1;33m.\u001b[0m\u001b[0mx\u001b[0m\u001b[1;33m\u001b[0m\u001b[1;33m\u001b[0m\u001b[0m\n\u001b[0m",
      "\u001b[1;31mAttributeError\u001b[0m: 'A' object has no attribute 'x'"
     ]
    }
   ],
   "source": [
    "# 클래스에서 넣어준 것은, 인스턴스 변수(self.a)에 넣어줄 값!\n",
    "a.x"
   ]
  },
  {
   "cell_type": "code",
   "execution_count": 41,
   "metadata": {},
   "outputs": [],
   "source": [
    "# 생성자에서 받은 값으로 인스턴스변수를 할당해줄 때,\n",
    "# self = 클래스 입장에서 인스턴스\n",
    "# x = 인스턴스 변수(self.z)에 넣어줄 값 자리\n",
    "class A:\n",
    "\n",
    "    def __init__(self,x):  \n",
    "        self.a = x\n",
    "        print('create instance')"
   ]
  },
  {
   "cell_type": "code",
   "execution_count": 42,
   "metadata": {},
   "outputs": [
    {
     "name": "stdout",
     "output_type": "stream",
     "text": [
      "create instance\n"
     ]
    }
   ],
   "source": [
    "a = A(1)"
   ]
  },
  {
   "cell_type": "code",
   "execution_count": 43,
   "metadata": {},
   "outputs": [
    {
     "data": {
      "text/plain": [
       "1"
      ]
     },
     "execution_count": 43,
     "metadata": {},
     "output_type": "execute_result"
    }
   ],
   "source": [
    "a.a"
   ]
  },
  {
   "cell_type": "code",
   "execution_count": 44,
   "metadata": {},
   "outputs": [],
   "source": [
    "# 생성자에서 받은 여러 값들을 받아 여러 인스턴스 변수를 할당할 때,\n",
    "# 3개의 값들 중에, 2개만 입력해도 가능하려면, 미리 default값으로 할당해놔야한다\n",
    "class A:\n",
    "\n",
    "    def __init__(self,x, y, z=0):  \n",
    "        self.a = x\n",
    "        self.b = y\n",
    "        self.c = z\n",
    "        print('create instance')"
   ]
  },
  {
   "cell_type": "code",
   "execution_count": 45,
   "metadata": {},
   "outputs": [
    {
     "name": "stdout",
     "output_type": "stream",
     "text": [
      "create instance\n"
     ]
    }
   ],
   "source": [
    "a = A(1,2,3)"
   ]
  },
  {
   "cell_type": "code",
   "execution_count": 46,
   "metadata": {},
   "outputs": [
    {
     "data": {
      "text/plain": [
       "1"
      ]
     },
     "execution_count": 46,
     "metadata": {},
     "output_type": "execute_result"
    }
   ],
   "source": [
    "a.a"
   ]
  },
  {
   "cell_type": "code",
   "execution_count": 47,
   "metadata": {},
   "outputs": [
    {
     "data": {
      "text/plain": [
       "(2, 3)"
      ]
     },
     "execution_count": 47,
     "metadata": {},
     "output_type": "execute_result"
    }
   ],
   "source": [
    "a.b, a.c"
   ]
  },
  {
   "cell_type": "code",
   "execution_count": 48,
   "metadata": {},
   "outputs": [
    {
     "name": "stdout",
     "output_type": "stream",
     "text": [
      "create instance\n"
     ]
    },
    {
     "data": {
      "text/plain": [
       "(1, 2, 0)"
      ]
     },
     "execution_count": 48,
     "metadata": {},
     "output_type": "execute_result"
    }
   ],
   "source": [
    "# 맨 끝에 값은 default값(0)을 넣어놨으니, 2개만 값을 주어도\n",
    "# 오류 없이 인스턴스가 생성된다.\n",
    "\n",
    "a = A(1, 2)\n",
    "\n",
    "a.a, a.b, a.c"
   ]
  },
  {
   "cell_type": "markdown",
   "metadata": {},
   "source": [
    "### 오버라이딩 in 생성자"
   ]
  },
  {
   "cell_type": "code",
   "execution_count": 50,
   "metadata": {},
   "outputs": [],
   "source": [
    "# 생성자를 2개 선언하여도\n",
    "# 뒤에것이 앞에 것을 덮어쓴다.\n",
    "class A:\n",
    "    def __init__(self):\n",
    "        print('첫번째 생성자')\n",
    "        \n",
    "    def __init__(self):\n",
    "        print('두번째 생성자')"
   ]
  },
  {
   "cell_type": "code",
   "execution_count": 1,
   "metadata": {},
   "outputs": [
    {
     "ename": "NameError",
     "evalue": "name 'A' is not defined",
     "output_type": "error",
     "traceback": [
      "\u001b[1;31m---------------------------------------------------------------------------\u001b[0m",
      "\u001b[1;31mNameError\u001b[0m                                 Traceback (most recent call last)",
      "\u001b[1;32m<ipython-input-1-7f181d8f00b8>\u001b[0m in \u001b[0;36m<module>\u001b[1;34m\u001b[0m\n\u001b[1;32m----> 1\u001b[1;33m \u001b[0ma\u001b[0m \u001b[1;33m=\u001b[0m \u001b[0mA\u001b[0m\u001b[1;33m(\u001b[0m\u001b[1;33m)\u001b[0m\u001b[1;33m\u001b[0m\u001b[1;33m\u001b[0m\u001b[0m\n\u001b[0m",
      "\u001b[1;31mNameError\u001b[0m: name 'A' is not defined"
     ]
    }
   ],
   "source": [
    "a = A()"
   ]
  },
  {
   "cell_type": "markdown",
   "metadata": {},
   "source": [
    "### 연산자 오버라이딩"
   ]
  },
  {
   "cell_type": "code",
   "execution_count": 2,
   "metadata": {},
   "outputs": [],
   "source": [
    "class Oper:\n",
    "    # 오버라이딩을 통해 생성자가\n",
    "    # 값 1개 -> 인스턴스 변수 n에 할당\n",
    "    # 인스턴스 변수 n -> 인스턴스 변수 l에 리스트로 할당\n",
    "    def __init__(self, n):\n",
    "        self.n = n\n",
    "        self.l = [self.n]\n",
    "    \n",
    "    # __str__과 달리, 파이썬 인터프리터 공식 문자열이며\n",
    "    # 문자열 안에 들어간 것을 객체로 인식할 수 있는 문자열이다.\n",
    "    # 여기서는,,, 인스턴스 호출시, 자동 호출되어 return하는 것 같다.\n",
    "    # 오버라이딩을 통해 인스턴스 변수 n -> 문자열로 표현한다.\n",
    "    def __repr__(self):\n",
    "        return f'n = {self.n}'\n",
    "\n",
    "    # 오버라이딩을 통해, \n",
    "    # 객체 1개 -> 인스턴스 변수n + 객체 안의 n\n",
    "    def __add__(self, other):\n",
    "        return self.n + other.n\n",
    "\n",
    "    def __sub__(self, other):\n",
    "        return self.n - other.n\n",
    "\n",
    "    def __mul__(self, other):\n",
    "        return self.n * other.n\n",
    "\n",
    "    def __truediv__(self, other):\n",
    "        return self.n / other.n\n",
    "\n",
    "    # 인스턴스 변수 l 을 카피해서 객체.l 에 넣고\n",
    "    # 역순으로 정리하여 반환한다.\n",
    "    def __gt__(self, other):\n",
    "        other.l += self.l.copy()\n",
    "        other.l = sorted(other.l)\n",
    "        return other.l\n",
    "\n",
    "    # 인스턴스변수와 다른 인스턴스의 변수n 중 \n",
    "    # 인스턴스 변수가 더 작은지 물어본다.\n",
    "    def __lt__(self, other):\n",
    "        return self.n < other.n"
   ]
  },
  {
   "cell_type": "code",
   "execution_count": 3,
   "metadata": {},
   "outputs": [],
   "source": [
    "a = Oper(1)\n",
    "b = Oper(2)\n",
    "c = Oper(3)"
   ]
  },
  {
   "cell_type": "code",
   "execution_count": 4,
   "metadata": {},
   "outputs": [
    {
     "data": {
      "text/plain": [
       "{'n': 1, 'l': [1]}"
      ]
     },
     "execution_count": 4,
     "metadata": {},
     "output_type": "execute_result"
    }
   ],
   "source": [
    "vars(a)"
   ]
  },
  {
   "cell_type": "code",
   "execution_count": 5,
   "metadata": {},
   "outputs": [
    {
     "data": {
      "text/plain": [
       "{'n': 1, 'l': [1]}"
      ]
     },
     "execution_count": 5,
     "metadata": {},
     "output_type": "execute_result"
    }
   ],
   "source": [
    "a.__dict__"
   ]
  },
  {
   "cell_type": "code",
   "execution_count": 6,
   "metadata": {},
   "outputs": [
    {
     "data": {
      "text/plain": [
       "n = 1"
      ]
     },
     "execution_count": 6,
     "metadata": {},
     "output_type": "execute_result"
    }
   ],
   "source": [
    "a"
   ]
  },
  {
   "cell_type": "code",
   "execution_count": 7,
   "metadata": {},
   "outputs": [
    {
     "data": {
      "text/plain": [
       "[1, 2, 3]"
      ]
     },
     "execution_count": 7,
     "metadata": {},
     "output_type": "execute_result"
    }
   ],
   "source": [
    "a > b > c"
   ]
  },
  {
   "cell_type": "code",
   "execution_count": 8,
   "metadata": {},
   "outputs": [
    {
     "data": {
      "text/plain": [
       "[1]"
      ]
     },
     "execution_count": 8,
     "metadata": {},
     "output_type": "execute_result"
    }
   ],
   "source": [
    "a.l"
   ]
  },
  {
   "cell_type": "code",
   "execution_count": 9,
   "metadata": {},
   "outputs": [
    {
     "data": {
      "text/plain": [
       "[1, 2]"
      ]
     },
     "execution_count": 9,
     "metadata": {},
     "output_type": "execute_result"
    }
   ],
   "source": [
    "# 생성자에서,,, 인스턴스 변수에 = [list]로 할당하면,\n",
    "# 누적되서 할당되는 것 같네.. mutable의 할당이라서 그런가?\n",
    "b.l"
   ]
  },
  {
   "cell_type": "code",
   "execution_count": 16,
   "metadata": {},
   "outputs": [
    {
     "data": {
      "text/plain": [
       "{'n': 2, 'l': [1, 2]}"
      ]
     },
     "execution_count": 16,
     "metadata": {},
     "output_type": "execute_result"
    }
   ],
   "source": [
    "vars(b)"
   ]
  },
  {
   "cell_type": "code",
   "execution_count": 10,
   "metadata": {},
   "outputs": [
    {
     "data": {
      "text/plain": [
       "[1, 2, 3]"
      ]
     },
     "execution_count": 10,
     "metadata": {},
     "output_type": "execute_result"
    }
   ],
   "source": [
    "c.l"
   ]
  },
  {
   "cell_type": "code",
   "execution_count": 17,
   "metadata": {},
   "outputs": [
    {
     "data": {
      "text/plain": [
       "{'n': 3, 'l': [1, 2, 3]}"
      ]
     },
     "execution_count": 17,
     "metadata": {},
     "output_type": "execute_result"
    }
   ],
   "source": [
    "vars(c)"
   ]
  },
  {
   "cell_type": "code",
   "execution_count": 11,
   "metadata": {},
   "outputs": [
    {
     "data": {
      "text/plain": [
       "True"
      ]
     },
     "execution_count": 11,
     "metadata": {},
     "output_type": "execute_result"
    }
   ],
   "source": [
    "a < b"
   ]
  },
  {
   "cell_type": "code",
   "execution_count": 12,
   "metadata": {},
   "outputs": [
    {
     "data": {
      "text/plain": [
       "3"
      ]
     },
     "execution_count": 12,
     "metadata": {},
     "output_type": "execute_result"
    }
   ],
   "source": [
    "a + b"
   ]
  },
  {
   "cell_type": "code",
   "execution_count": 13,
   "metadata": {},
   "outputs": [
    {
     "data": {
      "text/plain": [
       "-1"
      ]
     },
     "execution_count": 13,
     "metadata": {},
     "output_type": "execute_result"
    }
   ],
   "source": [
    "a - b"
   ]
  },
  {
   "cell_type": "code",
   "execution_count": 14,
   "metadata": {},
   "outputs": [
    {
     "data": {
      "text/plain": [
       "2"
      ]
     },
     "execution_count": 14,
     "metadata": {},
     "output_type": "execute_result"
    }
   ],
   "source": [
    "a * b"
   ]
  },
  {
   "cell_type": "code",
   "execution_count": 15,
   "metadata": {},
   "outputs": [
    {
     "data": {
      "text/plain": [
       "0.5"
      ]
     },
     "execution_count": 15,
     "metadata": {},
     "output_type": "execute_result"
    }
   ],
   "source": [
    "a / b"
   ]
  },
  {
   "cell_type": "code",
   "execution_count": null,
   "metadata": {},
   "outputs": [],
   "source": []
  },
  {
   "cell_type": "markdown",
   "metadata": {},
   "source": [
    "## 나의 정리 클래스의 메소드들은 인스턴스 메소드** \n",
    "- 메소드( self,  )의 self = 인스턴스 변수를 의미\n",
    "- 메소드(self, x, y)의 x, y = 인스턴스 변수(self.a)에 할당해줄 값들을 의미. default값 넣어주면 갯수실수 방지\n",
    "    - self.a = x, self.a = y\n",
    "- self.a =   인스턴스의. 변수\n",
    "- 생성자(self, x, y) = 클래스(x, y)로 인스턴스를 만들 때 호출됨\n",
    "- 생성자( self, x, y)의 x, y = 인스턴스를 만들 때, 인스턴스 변수에 할당해줄 값들 자리"
   ]
  },
  {
   "cell_type": "code",
   "execution_count": null,
   "metadata": {},
   "outputs": [],
   "source": []
  },
  {
   "cell_type": "code",
   "execution_count": null,
   "metadata": {},
   "outputs": [],
   "source": []
  },
  {
   "cell_type": "code",
   "execution_count": null,
   "metadata": {},
   "outputs": [],
   "source": []
  },
  {
   "cell_type": "code",
   "execution_count": null,
   "metadata": {},
   "outputs": [],
   "source": []
  }
 ],
 "metadata": {
  "kernelspec": {
   "display_name": "Python 3",
   "language": "python",
   "name": "python3"
  },
  "language_info": {
   "codemirror_mode": {
    "name": "ipython",
    "version": 3
   },
   "file_extension": ".py",
   "mimetype": "text/x-python",
   "name": "python",
   "nbconvert_exporter": "python",
   "pygments_lexer": "ipython3",
   "version": "3.6.8"
  },
  "toc": {
   "base_numbering": 1,
   "nav_menu": {},
   "number_sections": true,
   "sideBar": true,
   "skip_h1_title": false,
   "title_cell": "Table of Contents",
   "title_sidebar": "Contents",
   "toc_cell": false,
   "toc_position": {
    "height": "calc(100% - 180px)",
    "left": "10px",
    "top": "150px",
    "width": "228.212px"
   },
   "toc_section_display": true,
   "toc_window_display": true
  }
 },
 "nbformat": 4,
 "nbformat_minor": 2
}

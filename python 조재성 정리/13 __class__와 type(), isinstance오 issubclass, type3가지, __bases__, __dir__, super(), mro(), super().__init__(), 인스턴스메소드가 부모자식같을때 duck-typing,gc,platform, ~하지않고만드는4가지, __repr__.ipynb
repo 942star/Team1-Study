{
 "cells": [
  {
   "cell_type": "markdown",
   "metadata": {
    "heading_collapsed": true
   },
   "source": [
    "## instance에서 class 접근\n",
    "* 인스턴스.`__class__`를 통해, 인스턴스를 만들어준 클래스에 접근할 수 있다.\n",
    "    - 출력값은 현재 작업하는 곳인 `__main__.클래스명` 이 나온다\n",
    "    - instace.`__class__`나  type( instance )나 출력물이 동일하다\n",
    "    - 인스턴스.`__class__`.클래스변수 를 통해 클래스 변수까지 호출할 수 있다.\n",
    "    \n",
    "* type( instance )도 같은 용도로 쓰인다.\n",
    "    1. type( 식별자 ) : 식별자의 type\n",
    "    2. **type( instance ) : instance의 class**\n",
    "        - **type( instance )도 클래스에 접근 + 클래스명이 나온다**\n",
    "        - type( instance ) . 클래스변수 를 호출할 수 있다.\n",
    "        - int의 type은 type이다."
   ]
  },
  {
   "cell_type": "code",
   "execution_count": null,
   "metadata": {
    "hidden": true
   },
   "outputs": [],
   "source": []
  },
  {
   "cell_type": "code",
   "execution_count": 1,
   "metadata": {
    "hidden": true
   },
   "outputs": [],
   "source": [
    "class A:\n",
    "    a = 1\n",
    "    \n",
    "    # 인스턴스(self)에서 __class__를 통해 클래스 변수를 return하는\n",
    "    # 인스턴스 메소드를 만드러보았음,\n",
    "    def x(self):\n",
    "        return self.__class__.a"
   ]
  },
  {
   "cell_type": "code",
   "execution_count": 2,
   "metadata": {
    "hidden": true
   },
   "outputs": [
    {
     "data": {
      "text/plain": [
       "1"
      ]
     },
     "execution_count": 2,
     "metadata": {},
     "output_type": "execute_result"
    }
   ],
   "source": [
    "A.a"
   ]
  },
  {
   "cell_type": "code",
   "execution_count": 3,
   "metadata": {
    "hidden": true
   },
   "outputs": [],
   "source": [
    "b = A()"
   ]
  },
  {
   "cell_type": "code",
   "execution_count": 8,
   "metadata": {
    "hidden": true
   },
   "outputs": [
    {
     "data": {
      "text/plain": [
       "__main__.A"
      ]
     },
     "execution_count": 8,
     "metadata": {},
     "output_type": "execute_result"
    }
   ],
   "source": [
    "# __class__를 통해, 인스턴스의 클래스에 접근 + 클래스명을 확인할 수 있다.\n",
    "b.__class__"
   ]
  },
  {
   "cell_type": "code",
   "execution_count": 9,
   "metadata": {
    "hidden": true
   },
   "outputs": [
    {
     "data": {
      "text/plain": [
       "__main__.A"
      ]
     },
     "execution_count": 9,
     "metadata": {},
     "output_type": "execute_result"
    }
   ],
   "source": [
    "# __clas__와 type() 모두 인스턴스의 클래스를 확인할 수 있다.\n",
    "type(b)"
   ]
  },
  {
   "cell_type": "code",
   "execution_count": 6,
   "metadata": {
    "hidden": true
   },
   "outputs": [
    {
     "data": {
      "text/plain": [
       "1"
      ]
     },
     "execution_count": 6,
     "metadata": {},
     "output_type": "execute_result"
    }
   ],
   "source": [
    "# 인스턴스 -> __class___ 클래스로 접근 -> __class__.클래스변수 로 접근가능\n",
    "b.__class__.a"
   ]
  },
  {
   "cell_type": "code",
   "execution_count": 10,
   "metadata": {
    "hidden": true
   },
   "outputs": [
    {
     "data": {
      "text/plain": [
       "1"
      ]
     },
     "execution_count": 10,
     "metadata": {},
     "output_type": "execute_result"
    }
   ],
   "source": [
    "# type(b)도 마찬가지로, 해당 instance의 클래스에 접근할 수 있다.\n",
    "# 클래스 변수도 호출 가능하다\n",
    "type(b).a"
   ]
  },
  {
   "cell_type": "code",
   "execution_count": 7,
   "metadata": {
    "hidden": true
   },
   "outputs": [
    {
     "data": {
      "text/plain": [
       "1"
      ]
     },
     "execution_count": 7,
     "metadata": {},
     "output_type": "execute_result"
    }
   ],
   "source": [
    "# 인스턴스 메소드에 self.instance. __class __ . 클래스 변수 를 통해서\n",
    "# 접근하여 클래스 변수값을 return받을 수 있다.\n",
    "b.x()"
   ]
  },
  {
   "cell_type": "code",
   "execution_count": 18,
   "metadata": {
    "hidden": true
   },
   "outputs": [
    {
     "data": {
      "text/plain": [
       "type"
      ]
     },
     "execution_count": 18,
     "metadata": {},
     "output_type": "execute_result"
    }
   ],
   "source": [
    "# int의 타입은 type이다.\n",
    "type( int )"
   ]
  },
  {
   "cell_type": "markdown",
   "metadata": {
    "heading_collapsed": true
   },
   "source": [
    "## isinstance( instance, class)와 issubclass( subclass, class)\n",
    "뒤에 인자로 들어간 클래스의 인스턴스인지 / 서브클래스인지 물어본다.  \n",
    "특히, is**in**instance( ins, class )는 **여러class를 튜플형식으로 넣어서 한번에 확인할 수 도 있다**  \n"
   ]
  },
  {
   "cell_type": "code",
   "execution_count": 12,
   "metadata": {
    "hidden": true
   },
   "outputs": [
    {
     "data": {
      "text/plain": [
       "True"
      ]
     },
     "execution_count": 12,
     "metadata": {},
     "output_type": "execute_result"
    }
   ],
   "source": [
    "# isinstance( instance, class)\n",
    "isinstance(b, A)"
   ]
  },
  {
   "cell_type": "code",
   "execution_count": 14,
   "metadata": {
    "hidden": true
   },
   "outputs": [
    {
     "data": {
      "text/plain": [
       "True"
      ]
     },
     "execution_count": 14,
     "metadata": {},
     "output_type": "execute_result"
    }
   ],
   "source": [
    "isinstance(b, object)"
   ]
  },
  {
   "cell_type": "code",
   "execution_count": 17,
   "metadata": {
    "hidden": true
   },
   "outputs": [
    {
     "data": {
      "text/plain": [
       "True"
      ]
     },
     "execution_count": 17,
     "metadata": {},
     "output_type": "execute_result"
    }
   ],
   "source": [
    "# 여러class를 튜플형식으로 넣어서 한번에 확인할 수 도 있다\n",
    "isinstance('조재성', (A, str, float, int))"
   ]
  },
  {
   "cell_type": "code",
   "execution_count": 16,
   "metadata": {
    "hidden": true
   },
   "outputs": [
    {
     "data": {
      "text/plain": [
       "True"
      ]
     },
     "execution_count": 16,
     "metadata": {},
     "output_type": "execute_result"
    }
   ],
   "source": [
    "# isinstance( subclass, class)\n",
    "issubclass(A, object)"
   ]
  },
  {
   "cell_type": "markdown",
   "metadata": {
    "heading_collapsed": true
   },
   "source": [
    "## type is metaclass\n",
    "* type은 클래스의 클래스인 **meta class** 로서, **선언 없이 클래스를 만들어주는 메타클래스**이다. 메타 클래스는 기본적인 클래스의 행동이 아닌 클래스를 생성할 수 있다.\n",
    "    - 선언 없이 함수를 만들어주는 함수 : `lambda`\n",
    "    - lambda처럼 클래스를 만들어주는 메타 클래스 : `type`  \n",
    "    \n",
    "    \n",
    "    \n",
    "1. type( 식별자 등 ) : 식별자 등의 type\n",
    "2. type( instance ) : instance의 class 확인 및 class 변수 등에 접근\n",
    "    - instance.`__class__`와 동일\n",
    "    - **type( instance )도 클래스에 접근 + 클래스명이 나온다**\n",
    "    - type( instance ) . 클래스변수 를 호출할 수 있다.\n",
    "    - int의 type은 type이다.\n",
    "3. **type( '클래스명', (상속받을 부모클래스들을 튜플형태로 :\\_\\_bases\\_\\_ ), { })**\n",
    " - 부모클래스들은 ( , )의 튜플형태  : class.`__bases__`\n",
    " - 부모클래스 튜플의 첫번째 부모 : class.`__base__`"
   ]
  },
  {
   "cell_type": "code",
   "execution_count": 34,
   "metadata": {
    "hidden": true
   },
   "outputs": [],
   "source": [
    "# int 클래스를 상속하여 Moon이라는 클래스를 생성\n",
    "# 이때, 부모클래스들은 ( , )의 튜플이어야한다!\n",
    "a = type( 'Moon', (int,) , {})"
   ]
  },
  {
   "cell_type": "code",
   "execution_count": 23,
   "metadata": {
    "hidden": true
   },
   "outputs": [
    {
     "data": {
      "text/plain": [
       "__main__.Moon"
      ]
     },
     "execution_count": 23,
     "metadata": {},
     "output_type": "execute_result"
    }
   ],
   "source": [
    "a"
   ]
  },
  {
   "cell_type": "code",
   "execution_count": 24,
   "metadata": {
    "hidden": true
   },
   "outputs": [
    {
     "data": {
      "text/plain": [
       "type"
      ]
     },
     "execution_count": 24,
     "metadata": {},
     "output_type": "execute_result"
    }
   ],
   "source": [
    "# int의 type은 type이다...\n",
    "type(a)"
   ]
  },
  {
   "cell_type": "code",
   "execution_count": 25,
   "metadata": {
    "hidden": true
   },
   "outputs": [],
   "source": [
    "# int를 상속하였으니, int처럼 사용해서 인스턴스를 생성\n",
    "x = a(3)"
   ]
  },
  {
   "cell_type": "code",
   "execution_count": 26,
   "metadata": {
    "hidden": true
   },
   "outputs": [
    {
     "data": {
      "text/plain": [
       "3"
      ]
     },
     "execution_count": 26,
     "metadata": {},
     "output_type": "execute_result"
    }
   ],
   "source": [
    "x"
   ]
  },
  {
   "cell_type": "code",
   "execution_count": 27,
   "metadata": {
    "hidden": true
   },
   "outputs": [
    {
     "data": {
      "text/plain": [
       "__main__.Moon"
      ]
     },
     "execution_count": 27,
     "metadata": {},
     "output_type": "execute_result"
    }
   ],
   "source": [
    "# i\n",
    "type(x)"
   ]
  },
  {
   "cell_type": "code",
   "execution_count": 28,
   "metadata": {
    "hidden": true
   },
   "outputs": [],
   "source": [
    "# type( 'Moon', (int,) , {}) 와 동일한 클래스 생성\n",
    "class Moon (int):\n",
    "    pass"
   ]
  },
  {
   "cell_type": "markdown",
   "metadata": {
    "heading_collapsed": true,
    "hidden": true
   },
   "source": [
    "### type로 동적 클래스 생성, \\_\\_bases\\_\\_\n",
    "input으로 받은 문자열을  type( 클래스명, (부모클래스, , ),{}) 클래스명에 넣어 동적으로 클래스를 생성한다."
   ]
  },
  {
   "cell_type": "code",
   "execution_count": 29,
   "metadata": {
    "hidden": true
   },
   "outputs": [
    {
     "name": "stdout",
     "output_type": "stream",
     "text": [
      "a12a\n"
     ]
    }
   ],
   "source": [
    "x = input()"
   ]
  },
  {
   "cell_type": "code",
   "execution_count": 31,
   "metadata": {
    "hidden": true
   },
   "outputs": [
    {
     "data": {
      "text/plain": [
       "__main__.a12a"
      ]
     },
     "execution_count": 31,
     "metadata": {},
     "output_type": "execute_result"
    }
   ],
   "source": [
    "a=  type(x, (int,), {})\n",
    "a"
   ]
  },
  {
   "cell_type": "code",
   "execution_count": null,
   "metadata": {
    "hidden": true
   },
   "outputs": [],
   "source": []
  },
  {
   "cell_type": "code",
   "execution_count": 32,
   "metadata": {
    "hidden": true
   },
   "outputs": [
    {
     "data": {
      "text/plain": [
       "(int,)"
      ]
     },
     "execution_count": 32,
     "metadata": {},
     "output_type": "execute_result"
    }
   ],
   "source": [
    "# 튜플형태의 부모클래스\n",
    "a.__bases__"
   ]
  },
  {
   "cell_type": "code",
   "execution_count": 33,
   "metadata": {
    "hidden": true
   },
   "outputs": [
    {
     "data": {
      "text/plain": [
       "int"
      ]
     },
     "execution_count": 33,
     "metadata": {},
     "output_type": "execute_result"
    }
   ],
   "source": [
    "# 부모클래스들 중 첫번째 부모 - 다중 클래스 상속은 순서가 중요하다!\n",
    "a.__base__"
   ]
  },
  {
   "cell_type": "markdown",
   "metadata": {},
   "source": [
    "## 다중상속\n",
    "python은 다중상속 언어이다. 그러므로 **상속받는 순서**가 중요하다. 첫번째 상속부모는 `__baes__`로 확인한다.  \n",
    "  \n",
    "  \n",
    "객체지향 4가지 키워드\n",
    "1. 캡 슐화\n",
    "2. 다 형성\n",
    "3. 상 속\n",
    "4. 추 상화"
   ]
  },
  {
   "cell_type": "markdown",
   "metadata": {
    "heading_collapsed": true
   },
   "source": [
    "### 아무것도 상속안한 경우, object가 생략"
   ]
  },
  {
   "cell_type": "code",
   "execution_count": 47,
   "metadata": {
    "hidden": true
   },
   "outputs": [],
   "source": [
    "class A:\n",
    "    pass"
   ]
  },
  {
   "cell_type": "code",
   "execution_count": 51,
   "metadata": {
    "hidden": true
   },
   "outputs": [
    {
     "data": {
      "text/plain": [
       "(object,)"
      ]
     },
     "execution_count": 51,
     "metadata": {},
     "output_type": "execute_result"
    }
   ],
   "source": [
    "A.__bases__"
   ]
  },
  {
   "cell_type": "code",
   "execution_count": 52,
   "metadata": {
    "hidden": true
   },
   "outputs": [
    {
     "data": {
      "text/plain": [
       "object"
      ]
     },
     "execution_count": 52,
     "metadata": {},
     "output_type": "execute_result"
    }
   ],
   "source": [
    "A.__base__"
   ]
  },
  {
   "cell_type": "code",
   "execution_count": 48,
   "metadata": {
    "hidden": true
   },
   "outputs": [
    {
     "data": {
      "text/plain": [
       "type"
      ]
     },
     "execution_count": 48,
     "metadata": {},
     "output_type": "execute_result"
    }
   ],
   "source": [
    "type(A)"
   ]
  },
  {
   "cell_type": "code",
   "execution_count": 49,
   "metadata": {
    "hidden": true
   },
   "outputs": [
    {
     "data": {
      "text/plain": [
       "type"
      ]
     },
     "execution_count": 49,
     "metadata": {},
     "output_type": "execute_result"
    }
   ],
   "source": [
    "type(object)"
   ]
  },
  {
   "cell_type": "code",
   "execution_count": 50,
   "metadata": {
    "hidden": true
   },
   "outputs": [
    {
     "data": {
      "text/plain": [
       "type"
      ]
     },
     "execution_count": 50,
     "metadata": {},
     "output_type": "execute_result"
    }
   ],
   "source": [
    "type( type )"
   ]
  },
  {
   "cell_type": "code",
   "execution_count": 38,
   "metadata": {
    "hidden": true,
    "scrolled": false
   },
   "outputs": [
    {
     "data": {
      "text/plain": [
       "['__class__',\n",
       " '__delattr__',\n",
       " '__dir__',\n",
       " '__doc__',\n",
       " '__eq__',\n",
       " '__format__',\n",
       " '__ge__',\n",
       " '__getattribute__',\n",
       " '__gt__',\n",
       " '__hash__',\n",
       " '__init__',\n",
       " '__init_subclass__',\n",
       " '__le__',\n",
       " '__lt__',\n",
       " '__ne__',\n",
       " '__new__',\n",
       " '__reduce__',\n",
       " '__reduce_ex__',\n",
       " '__repr__',\n",
       " '__setattr__',\n",
       " '__sizeof__',\n",
       " '__str__',\n",
       " '__subclasshook__']"
      ]
     },
     "execution_count": 38,
     "metadata": {},
     "output_type": "execute_result"
    }
   ],
   "source": [
    "dir(object)"
   ]
  },
  {
   "cell_type": "markdown",
   "metadata": {
    "heading_collapsed": true
   },
   "source": [
    "### dir(object) 중 \\_\\_dir\\_\\_ \n",
    "dir()과 동일하지만, 정렬되지 않아있다. \n",
    "* dir() :  instance, class 모두 가능하다\n",
    "* \\_\\_dir\\_\\_() : instance만 사용하가능하며, 정렬되지 않아있다. 명령어는 똑같다"
   ]
  },
  {
   "cell_type": "code",
   "execution_count": 54,
   "metadata": {
    "hidden": true
   },
   "outputs": [
    {
     "data": {
      "text/plain": [
       "<function A.__dir__>"
      ]
     },
     "execution_count": 54,
     "metadata": {},
     "output_type": "execute_result"
    }
   ],
   "source": [
    "a = A()\n",
    "\n",
    "a.__dir__"
   ]
  },
  {
   "cell_type": "code",
   "execution_count": 55,
   "metadata": {
    "hidden": true
   },
   "outputs": [
    {
     "data": {
      "text/plain": [
       "['__module__',\n",
       " '__dict__',\n",
       " '__weakref__',\n",
       " '__doc__',\n",
       " '__repr__',\n",
       " '__hash__',\n",
       " '__str__',\n",
       " '__getattribute__',\n",
       " '__setattr__',\n",
       " '__delattr__',\n",
       " '__lt__',\n",
       " '__le__',\n",
       " '__eq__',\n",
       " '__ne__',\n",
       " '__gt__',\n",
       " '__ge__',\n",
       " '__init__',\n",
       " '__new__',\n",
       " '__reduce_ex__',\n",
       " '__reduce__',\n",
       " '__subclasshook__',\n",
       " '__init_subclass__',\n",
       " '__format__',\n",
       " '__sizeof__',\n",
       " '__dir__',\n",
       " '__class__']"
      ]
     },
     "execution_count": 55,
     "metadata": {},
     "output_type": "execute_result"
    }
   ],
   "source": [
    "# dir ()과 동일하지만, 정렬되지 않아 있다.\n",
    "a.__dir__()"
   ]
  },
  {
   "cell_type": "code",
   "execution_count": 56,
   "metadata": {
    "hidden": true
   },
   "outputs": [
    {
     "data": {
      "text/plain": [
       "set()"
      ]
     },
     "execution_count": 56,
     "metadata": {},
     "output_type": "execute_result"
    }
   ],
   "source": [
    "# 명령어의 차이는 없다\n",
    "# 대칭차집합으로, 서로에게 남은 부분이 있나 확인한다!!\n",
    "set( dir(a) ) ^ set(a.__dir__())"
   ]
  },
  {
   "cell_type": "code",
   "execution_count": null,
   "metadata": {
    "hidden": true
   },
   "outputs": [],
   "source": []
  },
  {
   "cell_type": "code",
   "execution_count": null,
   "metadata": {
    "hidden": true
   },
   "outputs": [],
   "source": []
  },
  {
   "cell_type": "markdown",
   "metadata": {
    "heading_collapsed": true
   },
   "source": [
    "### int를 상속한 경우"
   ]
  },
  {
   "cell_type": "code",
   "execution_count": 43,
   "metadata": {
    "hidden": true
   },
   "outputs": [],
   "source": [
    "class A(int):\n",
    "    pass"
   ]
  },
  {
   "cell_type": "code",
   "execution_count": 45,
   "metadata": {
    "hidden": true
   },
   "outputs": [
    {
     "data": {
      "text/plain": [
       "(int,)"
      ]
     },
     "execution_count": 45,
     "metadata": {},
     "output_type": "execute_result"
    }
   ],
   "source": [
    "A.__bases__"
   ]
  },
  {
   "cell_type": "code",
   "execution_count": 46,
   "metadata": {
    "hidden": true
   },
   "outputs": [
    {
     "data": {
      "text/plain": [
       "int"
      ]
     },
     "execution_count": 46,
     "metadata": {},
     "output_type": "execute_result"
    }
   ],
   "source": [
    "A.__base__"
   ]
  },
  {
   "cell_type": "code",
   "execution_count": 44,
   "metadata": {
    "hidden": true
   },
   "outputs": [
    {
     "data": {
      "text/plain": [
       "type"
      ]
     },
     "execution_count": 44,
     "metadata": {},
     "output_type": "execute_result"
    }
   ],
   "source": [
    "type(A)"
   ]
  },
  {
   "cell_type": "markdown",
   "metadata": {},
   "source": [
    "### 단일 상속\n",
    "상속한 클래스는 아래와 같은 행동을 할 수 있다.\n",
    "1. 인스턴스 메소드에서, `self`(인스턴스)를 가지고 해당 클래스`__class__`에 접근\n",
    "2. 클래스의 부모클래스`__base__`에 접근\n",
    "3. 부모클래스의 클래스 변수에 접근,  그것을 조작/할당"
   ]
  },
  {
   "cell_type": "code",
   "execution_count": 61,
   "metadata": {},
   "outputs": [],
   "source": [
    "class A:\n",
    "    a = 1\n",
    "    def x(self):\n",
    "        return 1\n",
    "    \n",
    "# B는 클래스 A를 단일로 상속했다.\n",
    "# 만약 2개 이상의 다중상속을 하고 싶다면 class B(A, C):\n",
    "class B(A):\n",
    "    a = 3\n",
    "    \n",
    "    # 부모A의 인스턴스 메소드를 덮어씌운다.\n",
    "    # instance의 클래스에 접근 -> 클래스의 부모클래스에 접근 -> 부모클래스의 a\n",
    "    def x(self,a):\n",
    "        return self.__class__.__base__.a # 여기서 a는 들어오는 값이 아니라, 부모클래스의 클래스변수a"
   ]
  },
  {
   "cell_type": "code",
   "execution_count": 62,
   "metadata": {},
   "outputs": [],
   "source": [
    "b = B()"
   ]
  },
  {
   "cell_type": "code",
   "execution_count": 65,
   "metadata": {},
   "outputs": [
    {
     "data": {
      "text/plain": [
       "1"
      ]
     },
     "execution_count": 65,
     "metadata": {},
     "output_type": "execute_result"
    }
   ],
   "source": [
    "# x의 인스턴스 메소드, 인스턴스-> 클래스->부모클래스->부모클래스 변수를 호출한다.\n",
    "# 값을 무엇을 넣든 노상관\n",
    "b.x(3)"
   ]
  },
  {
   "cell_type": "code",
   "execution_count": 66,
   "metadata": {},
   "outputs": [
    {
     "data": {
      "text/plain": [
       "1"
      ]
     },
     "execution_count": 66,
     "metadata": {},
     "output_type": "execute_result"
    }
   ],
   "source": [
    "b.x(100)"
   ]
  },
  {
   "cell_type": "code",
   "execution_count": 67,
   "metadata": {},
   "outputs": [
    {
     "data": {
      "text/plain": [
       "3"
      ]
     },
     "execution_count": 67,
     "metadata": {},
     "output_type": "execute_result"
    }
   ],
   "source": [
    "# b의 클래스변수\n",
    "b.a"
   ]
  },
  {
   "cell_type": "markdown",
   "metadata": {},
   "source": [
    "### 상속의 장점\n",
    "1. 부모의 클래스를 그대로 가져다 쓸 수 있다.\n",
    "2. 필요하다면, 수정해서 쓸 수 있다."
   ]
  },
  {
   "cell_type": "markdown",
   "metadata": {},
   "source": [
    "### 자식클래스의 인스턴스메소드에서 바로 부모클래스의 메소드를 호출할 경우"
   ]
  },
  {
   "cell_type": "code",
   "execution_count": 75,
   "metadata": {},
   "outputs": [],
   "source": [
    "class A:\n",
    "    a = 1\n",
    "    \n",
    "    def x(self,a):\n",
    "        return a\n",
    "    \n",
    "class B(A):\n",
    "    a = 1\n",
    "    \n",
    "    def x(self):\n",
    "        # 부모클래스에서, 클래스.인스턴스메소드를 그냥 호출해서 사용하는 것일 뿐이다.\n",
    "        # 부모-인스턴스메소드의 인자를 맞춰줘야한다.(self, a)\n",
    "        # 여기의 경우, 안맞춰줬다.\n",
    "        return A.x()"
   ]
  },
  {
   "cell_type": "code",
   "execution_count": 76,
   "metadata": {},
   "outputs": [
    {
     "ename": "TypeError",
     "evalue": "x() missing 2 required positional arguments: 'self' and 'a'",
     "output_type": "error",
     "traceback": [
      "\u001b[1;31m---------------------------------------------------------------------------\u001b[0m",
      "\u001b[1;31mTypeError\u001b[0m                                 Traceback (most recent call last)",
      "\u001b[1;32m<ipython-input-76-e017e03df133>\u001b[0m in \u001b[0;36m<module>\u001b[1;34m\u001b[0m\n\u001b[0;32m      1\u001b[0m \u001b[0mb\u001b[0m \u001b[1;33m=\u001b[0m \u001b[0mB\u001b[0m\u001b[1;33m(\u001b[0m\u001b[1;33m)\u001b[0m\u001b[1;33m\u001b[0m\u001b[1;33m\u001b[0m\u001b[0m\n\u001b[1;32m----> 2\u001b[1;33m \u001b[0mb\u001b[0m\u001b[1;33m.\u001b[0m\u001b[0mx\u001b[0m\u001b[1;33m(\u001b[0m\u001b[1;33m)\u001b[0m\u001b[1;33m\u001b[0m\u001b[1;33m\u001b[0m\u001b[0m\n\u001b[0m",
      "\u001b[1;32m<ipython-input-75-9891d8d517e5>\u001b[0m in \u001b[0;36mx\u001b[1;34m(self)\u001b[0m\n\u001b[0;32m     12\u001b[0m         \u001b[1;31m# 부모-인스턴스메소드의 인자를 맞춰줘야한다.(self, a)\u001b[0m\u001b[1;33m\u001b[0m\u001b[1;33m\u001b[0m\u001b[1;33m\u001b[0m\u001b[0m\n\u001b[0;32m     13\u001b[0m         \u001b[1;31m# 여기의 경우, 안맞춰줬다.\u001b[0m\u001b[1;33m\u001b[0m\u001b[1;33m\u001b[0m\u001b[1;33m\u001b[0m\u001b[0m\n\u001b[1;32m---> 14\u001b[1;33m         \u001b[1;32mreturn\u001b[0m \u001b[0mA\u001b[0m\u001b[1;33m.\u001b[0m\u001b[0mx\u001b[0m\u001b[1;33m(\u001b[0m\u001b[1;33m)\u001b[0m\u001b[1;33m\u001b[0m\u001b[1;33m\u001b[0m\u001b[0m\n\u001b[0m",
      "\u001b[1;31mTypeError\u001b[0m: x() missing 2 required positional arguments: 'self' and 'a'"
     ]
    }
   ],
   "source": [
    "b = B()\n",
    "b.x()"
   ]
  },
  {
   "cell_type": "code",
   "execution_count": 77,
   "metadata": {},
   "outputs": [
    {
     "ename": "TypeError",
     "evalue": "x() takes 1 positional argument but 2 were given",
     "output_type": "error",
     "traceback": [
      "\u001b[1;31m---------------------------------------------------------------------------\u001b[0m",
      "\u001b[1;31mTypeError\u001b[0m                                 Traceback (most recent call last)",
      "\u001b[1;32m<ipython-input-77-a5fee91ffb54>\u001b[0m in \u001b[0;36m<module>\u001b[1;34m\u001b[0m\n\u001b[1;32m----> 1\u001b[1;33m \u001b[0mb\u001b[0m\u001b[1;33m.\u001b[0m\u001b[0mx\u001b[0m\u001b[1;33m(\u001b[0m\u001b[1;36m1\u001b[0m\u001b[1;33m)\u001b[0m\u001b[1;33m\u001b[0m\u001b[1;33m\u001b[0m\u001b[0m\n\u001b[0m",
      "\u001b[1;31mTypeError\u001b[0m: x() takes 1 positional argument but 2 were given"
     ]
    }
   ],
   "source": [
    "# 인자를 맞춰줘도, 이미 내부에서 부를 때 인자 없이 호출했다.\n",
    "b.x(1)"
   ]
  },
  {
   "cell_type": "markdown",
   "metadata": {},
   "source": [
    "### 자식클래스의 인스턴스메소드에서 super()를 사용하여 호출할 경우\n",
    "자식클래스 내부에서 `super()`를 사용하면, **부모클래스의 인스턴스**를 대변한다.\n",
    "그러므로 super() . 부모의 인스턴스메소드()를 호출할 수 있다. 부모꺼의 인자를 잘 맞추자\n",
    "* self.가 자신의 인스턴스라면\n",
    "* super(). 는 부모클래스의 인스턴스다.  \n",
    "  \n",
    "  \n",
    "cf) python2에선 super(B,self)로 사용했었다"
   ]
  },
  {
   "cell_type": "code",
   "execution_count": 84,
   "metadata": {},
   "outputs": [],
   "source": [
    "class A:\n",
    "    a = 1\n",
    "    \n",
    "    def x(self,a):\n",
    "        return a\n",
    "    \n",
    "class B(A):\n",
    "    a = 1\n",
    "    \n",
    "    def x(self):\n",
    "        # self.가 자신의 인스턴스라면\n",
    "        # super(). 는 부모클래스의 인스턴스다.\n",
    "        # 부모의 인스턴스에서 부모의 인스턴스 메서드를 호출해보자.\n",
    "        # 부모 인스턴스메소드의 인자를 잘 맞춰야한다.\n",
    "        return super().x( A.a ) # 부모 인스턴스. 부모 인스턴스 메소드( 부모클래스.변수a=1)"
   ]
  },
  {
   "cell_type": "code",
   "execution_count": 85,
   "metadata": {},
   "outputs": [
    {
     "data": {
      "text/plain": [
       "1"
      ]
     },
     "execution_count": 85,
     "metadata": {},
     "output_type": "execute_result"
    }
   ],
   "source": [
    "b = B()\n",
    "\n",
    "# \n",
    "b.x()"
   ]
  },
  {
   "cell_type": "markdown",
   "metadata": {},
   "source": [
    "### mro(), \\_\\_mro\\_\\_\n",
    "A -> B , C -> D 순으로 상속한 클래스들이 있다.  \n",
    "이 때, D의 super()는 C, B 중 어느 부모를 먼저 사용할 것인가\n",
    "  \n",
    "  \n",
    "* mro()는 class명령어로서, instance에서는 사용불가능\n",
    "    * `mro()` : 리스트로, 부모 순서(모든 상속순서)를 알려준다.\n",
    "    * `__mro__` : 튜플로, 부모 순서(모든 상속순서)를 알려준다.\n",
    "    * `__bases__` : 순서 없이 직속 부모클래스만 알려준다.\n",
    "    \n",
    "`자식class. mro()` : 다중상속한 자식클래스의 부모순서를 확인할 때"
   ]
  },
  {
   "cell_type": "code",
   "execution_count": 91,
   "metadata": {},
   "outputs": [],
   "source": [
    "# 각 클래스의 인스턴스 생성시 print하도록 생성자에 넣어두기\n",
    "class A:\n",
    "    def __init__(self):\n",
    "        print(A)\n",
    "        \n",
    "class B(A):\n",
    "    def __init__(self):\n",
    "        print(B)\n",
    "        \n",
    "class C(A):\n",
    "    def __init__(self):\n",
    "        print(C)\n",
    "        \n",
    "# B와 C를 다중상속한 D클래스\n",
    "class D(C,B):\n",
    "    def __init__(self):\n",
    "        print(D)"
   ]
  },
  {
   "cell_type": "code",
   "execution_count": 92,
   "metadata": {},
   "outputs": [
    {
     "data": {
      "text/plain": [
       "[__main__.D, __main__.C, __main__.B, __main__.A, object]"
      ]
     },
     "execution_count": 92,
     "metadata": {},
     "output_type": "execute_result"
    }
   ],
   "source": [
    "D.mro()"
   ]
  },
  {
   "cell_type": "code",
   "execution_count": 93,
   "metadata": {},
   "outputs": [
    {
     "data": {
      "text/plain": [
       "(__main__.D, __main__.C, __main__.B, __main__.A, object)"
      ]
     },
     "execution_count": 93,
     "metadata": {},
     "output_type": "execute_result"
    }
   ],
   "source": [
    "D.__mro__"
   ]
  },
  {
   "cell_type": "code",
   "execution_count": 94,
   "metadata": {},
   "outputs": [
    {
     "name": "stdout",
     "output_type": "stream",
     "text": [
      "<class '__main__.D'>\n"
     ]
    },
    {
     "ename": "AttributeError",
     "evalue": "'D' object has no attribute 'mro'",
     "output_type": "error",
     "traceback": [
      "\u001b[1;31m---------------------------------------------------------------------------\u001b[0m",
      "\u001b[1;31mAttributeError\u001b[0m                            Traceback (most recent call last)",
      "\u001b[1;32m<ipython-input-94-a6a00b07c470>\u001b[0m in \u001b[0;36m<module>\u001b[1;34m\u001b[0m\n\u001b[0;32m      2\u001b[0m \u001b[0md\u001b[0m \u001b[1;33m=\u001b[0m \u001b[0mD\u001b[0m\u001b[1;33m(\u001b[0m\u001b[1;33m)\u001b[0m\u001b[1;33m\u001b[0m\u001b[1;33m\u001b[0m\u001b[0m\n\u001b[0;32m      3\u001b[0m \u001b[1;33m\u001b[0m\u001b[0m\n\u001b[1;32m----> 4\u001b[1;33m \u001b[0md\u001b[0m\u001b[1;33m.\u001b[0m\u001b[0mmro\u001b[0m\u001b[1;33m(\u001b[0m\u001b[1;33m)\u001b[0m\u001b[1;33m\u001b[0m\u001b[1;33m\u001b[0m\u001b[0m\n\u001b[0m",
      "\u001b[1;31mAttributeError\u001b[0m: 'D' object has no attribute 'mro'"
     ]
    }
   ],
   "source": [
    "# mro는 class method이다.\n",
    "d = D()\n",
    "\n",
    "d.mro()"
   ]
  },
  {
   "cell_type": "code",
   "execution_count": 95,
   "metadata": {},
   "outputs": [
    {
     "data": {
      "text/plain": [
       "[__main__.A, object]"
      ]
     },
     "execution_count": 95,
     "metadata": {},
     "output_type": "execute_result"
    }
   ],
   "source": [
    "A.mro()"
   ]
  },
  {
   "cell_type": "code",
   "execution_count": 96,
   "metadata": {},
   "outputs": [
    {
     "data": {
      "text/plain": [
       "[__main__.B, __main__.A, object]"
      ]
     },
     "execution_count": 96,
     "metadata": {},
     "output_type": "execute_result"
    }
   ],
   "source": [
    "B.mro()"
   ]
  },
  {
   "cell_type": "code",
   "execution_count": 97,
   "metadata": {},
   "outputs": [
    {
     "data": {
      "text/plain": [
       "[__main__.C, __main__.A, object]"
      ]
     },
     "execution_count": 97,
     "metadata": {},
     "output_type": "execute_result"
    }
   ],
   "source": [
    "C.mro()"
   ]
  },
  {
   "cell_type": "code",
   "execution_count": 98,
   "metadata": {},
   "outputs": [
    {
     "data": {
      "text/plain": [
       "[__main__.D, __main__.C, __main__.B, __main__.A, object]"
      ]
     },
     "execution_count": 98,
     "metadata": {},
     "output_type": "execute_result"
    }
   ],
   "source": [
    "D.mro()"
   ]
  },
  {
   "cell_type": "code",
   "execution_count": 99,
   "metadata": {},
   "outputs": [
    {
     "data": {
      "text/plain": [
       "(__main__.C, __main__.B)"
      ]
     },
     "execution_count": 99,
     "metadata": {},
     "output_type": "execute_result"
    }
   ],
   "source": [
    "# 바로 직속 부모만 알려준다.\n",
    "D.__bases__"
   ]
  },
  {
   "cell_type": "markdown",
   "metadata": {},
   "source": [
    "## 생성자를 이용한 다이아몬드 상속\n",
    "A -> B , C -> D 순으로 상속한 클래스에서,  \n",
    "* 자식에서 부모의 생성자를 호출하여, **부모의 인스턴스**를 한번 호출해본다.\n",
    " - 자신클래스의 생성자 완료시 print()을 통해, 어느 부모가 호출되었는지 확인해보자. \n",
    "  \n",
    "  \n",
    "자식class의 생성자에서, 부모class의 생성자를 `부모클래스.__init__()`방식으로 호출하는 방식은 좋지 않다. 이것을 해결하기 위해 **`super().__init__()`**를 사용한다"
   ]
  },
  {
   "cell_type": "markdown",
   "metadata": {},
   "source": [
    "### 자식 생성자에서 부모 클래스.__init()으로 부모생성자 호출"
   ]
  },
  {
   "cell_type": "markdown",
   "metadata": {},
   "source": [
    "#### `부모클래스. __init__()`으로 생성자를 호출 완료후 print\n",
    "* 부모클래스명. 부모 인스턴스메소드인 생성자 호출이 가능하다.\n",
    "* 클래스로 인스턴스 메소드 사용 가능!  \n",
    "```\n",
    "# D 생성자 호출 -> B생성자호출 -> A 생성자 호출 -> A완료print -> B완료print\n",
    "#                    -> C생성자호출 -> A 생성자 호출 -> A완료print -> C완료print -> D완료print\n",
    "``` "
   ]
  },
  {
   "cell_type": "code",
   "execution_count": 100,
   "metadata": {},
   "outputs": [],
   "source": [
    "# 자식클래스 내부에서\n",
    "# 상속한 부모클래스. __init__()으로 부모생성자를 호출한 경우\n",
    "# 생성자호출 < 완료> 후 print()\n",
    "\n",
    "class A:\n",
    "    def __init__(self):\n",
    "        print(A)\n",
    "        \n",
    "class B(A):\n",
    "    def __init__(self):\n",
    "        A.__init__(self) \n",
    "        print(B)\n",
    "        \n",
    "class C(A):\n",
    "    def __init__(self):\n",
    "        A.__init__(self) \n",
    "        print(C)\n",
    "        \n",
    "class D(C,B):\n",
    "    def __init__(self):\n",
    "        B.__init__(self) \n",
    "        C.__init__(self) \n",
    "        print(D)"
   ]
  },
  {
   "cell_type": "code",
   "execution_count": 101,
   "metadata": {},
   "outputs": [
    {
     "data": {
      "text/plain": [
       "[__main__.D, __main__.C, __main__.B, __main__.A, object]"
      ]
     },
     "execution_count": 101,
     "metadata": {},
     "output_type": "execute_result"
    }
   ],
   "source": [
    "D.mro()"
   ]
  },
  {
   "cell_type": "code",
   "execution_count": 102,
   "metadata": {},
   "outputs": [
    {
     "name": "stdout",
     "output_type": "stream",
     "text": [
      "<class '__main__.A'>\n",
      "<class '__main__.B'>\n",
      "<class '__main__.A'>\n",
      "<class '__main__.C'>\n",
      "<class '__main__.D'>\n"
     ]
    }
   ],
   "source": [
    "# D 생성자 호출 -> B생성자호출 -> A 생성자 호출 -> A완료print -> B완료print\n",
    "#                    -> C생성자호출 -> A 생성자 호출 -> A완료print -> C완료print -> D완료print\n",
    "d = D()"
   ]
  },
  {
   "cell_type": "markdown",
   "metadata": {},
   "source": [
    "####   자식 생성자 print후  `부모클래스. __init__()`으로 호출\n",
    "```\n",
    "# D 생성자 print -> B생성자 print -> A 생성자 print -> A완료 -> B완료\n",
    "#                    -> C생성자 print -> A 생성자 print -> A완료 -> C완료 -> D완료\n",
    "```"
   ]
  },
  {
   "cell_type": "code",
   "execution_count": 104,
   "metadata": {},
   "outputs": [],
   "source": [
    "# 자식클래스 호출 즉시, print()후, \n",
    "# 상속한 부모클래스. __init__()으로 부모생성자를 호출한 경우\n",
    "class A:\n",
    "    def __init__(self):\n",
    "        print(A)\n",
    "        \n",
    "class B(A):\n",
    "    def __init__(self):\n",
    "        print(B)\n",
    "        A.__init__(self) \n",
    "        \n",
    "        \n",
    "class C(A):\n",
    "    def __init__(self):\n",
    "        print(C)\n",
    "        A.__init__(self) \n",
    "        \n",
    "class D(C,B):\n",
    "    def __init__(self):\n",
    "        print(D)\n",
    "        B.__init__(self)\n",
    "        C.__init__(self) "
   ]
  },
  {
   "cell_type": "code",
   "execution_count": 105,
   "metadata": {},
   "outputs": [
    {
     "name": "stdout",
     "output_type": "stream",
     "text": [
      "<class '__main__.D'>\n",
      "<class '__main__.B'>\n",
      "<class '__main__.A'>\n",
      "<class '__main__.C'>\n",
      "<class '__main__.A'>\n"
     ]
    }
   ],
   "source": [
    "# D 생성자 print -> B생성자 print -> A 생성자 print -> A완료 -> B완료\n",
    "#                    -> C생성자 print -> A 생성자 print -> A완료 -> C완료 -> D완료\n",
    "\n",
    "d = D()"
   ]
  },
  {
   "cell_type": "markdown",
   "metadata": {},
   "source": [
    "### 자식생성자에서 `super().__init__()`으로 부모생성자 호출\n",
    "자식 클래스 내부에서 **`super()`** 자체는 **`부모클래스의 인스턴스`**를 의미했었다.  \n",
    " > `super() .__class__ .x( )` :  자식클래스에서, 부모 인스턴스로  부모 인스턴스메소드 호출    \n",
    "\n",
    "* **`super().__init__()` : 부모인스턴스로 .부모생성자() 호출**\n",
    "  \n",
    "  \n",
    "`부모클래스.__init__()`과 `super().__init__()`의 차이는 무엇일까?  \n",
    "  \n",
    "  \n",
    "super() - 부모의 인스턴스 를 이용한 다중상속의 부모 초기화는, 두번 실행되는 것을 막아준다.\n",
    "클래스.__ init __ 쓰는 방식은 좋지 않다. 이걸 해결하려고 super를 사용한다!\n",
    "다중 상속일 때, super 쓰는 것과 everow 쓰는 것을 하면 코드 양을 확 줄일 수 있다"
   ]
  },
  {
   "cell_type": "markdown",
   "metadata": {},
   "source": [
    "#### 부모 생성자 호출 완료후 print\n",
    "`부모클래스명.__init__()` :   \n",
    "```\n",
    "# D 생성자 호출 -> B생성자호출 -> A 생성자 호출 -> A완료print -> B완료print\n",
    "#                    -> C생성자호출 -> A 생성자 호출 -> A완료print -> C완료print -> D완료print\n",
    "\n",
    "기존 : AB ACD\n",
    "```\n",
    "**`super().__init__()` 시** :   \n",
    "mro의 순서인 D-> C->B->A의 순대로 다 호출한다??\n",
    "```\n",
    "super 두번 호출 : ABC  ABC D\n",
    "```"
   ]
  },
  {
   "cell_type": "code",
   "execution_count": 106,
   "metadata": {},
   "outputs": [],
   "source": [
    "class A:\n",
    "    def __init__(self):\n",
    "        print(A)\n",
    "        \n",
    "class B(A):\n",
    "    def __init__(self):\n",
    "        super().__init__() \n",
    "        print(B)\n",
    "        \n",
    "class C(A):\n",
    "    def __init__(self):\n",
    "        super().__init__() \n",
    "        print(C)       \n",
    "        \n",
    "class D(C,B):\n",
    "    def __init__(self):\n",
    "        super().__init__() \n",
    "        super().__init__() \n",
    "        print(D)"
   ]
  },
  {
   "cell_type": "code",
   "execution_count": 107,
   "metadata": {},
   "outputs": [
    {
     "name": "stdout",
     "output_type": "stream",
     "text": [
      "<class '__main__.A'>\n",
      "<class '__main__.B'>\n",
      "<class '__main__.C'>\n",
      "<class '__main__.A'>\n",
      "<class '__main__.B'>\n",
      "<class '__main__.C'>\n",
      "<class '__main__.D'>\n"
     ]
    }
   ],
   "source": [
    "# 부모클래스. __init__()으로 생성자 호출시\n",
    "# <class '__main__.A'>\n",
    "# <class '__main__.B'>\n",
    "# <class '__main__.A'>\n",
    "# <class '__main__.C'>\n",
    "# <class '__main__.D'>\n",
    "\n",
    "# super().__init__()으로 호출시\n",
    "d = D()"
   ]
  },
  {
   "cell_type": "code",
   "execution_count": 108,
   "metadata": {},
   "outputs": [
    {
     "data": {
      "text/plain": [
       "[__main__.D, __main__.C, __main__.B, __main__.A, object]"
      ]
     },
     "execution_count": 108,
     "metadata": {},
     "output_type": "execute_result"
    }
   ],
   "source": [
    "D.mro()"
   ]
  },
  {
   "cell_type": "markdown",
   "metadata": {},
   "source": [
    "**`super().__init__()` 시** :   \n",
    "mro의 순서인 D-> B-> C->A의 역순대로 다 호출한다??\n",
    "```\n",
    "super : ACB  ACB  D\n",
    "```"
   ]
  },
  {
   "cell_type": "code",
   "execution_count": 109,
   "metadata": {},
   "outputs": [],
   "source": [
    "class A:\n",
    "    def __init__(self):\n",
    "        print(A)\n",
    "        \n",
    "class B(A):\n",
    "    def __init__(self):\n",
    "        super().__init__() \n",
    "        print(B)\n",
    "        \n",
    "class C(A):\n",
    "    def __init__(self):\n",
    "        super().__init__() \n",
    "        print(C)       \n",
    "        \n",
    "class D(B,C): # B, C순으로 상속\n",
    "    def __init__(self):\n",
    "        super().__init__() \n",
    "        super().__init__() \n",
    "        print(D)"
   ]
  },
  {
   "cell_type": "code",
   "execution_count": 110,
   "metadata": {},
   "outputs": [
    {
     "data": {
      "text/plain": [
       "[__main__.D, __main__.B, __main__.C, __main__.A, object]"
      ]
     },
     "execution_count": 110,
     "metadata": {},
     "output_type": "execute_result"
    }
   ],
   "source": [
    "D.mro()"
   ]
  },
  {
   "cell_type": "code",
   "execution_count": 111,
   "metadata": {},
   "outputs": [
    {
     "name": "stdout",
     "output_type": "stream",
     "text": [
      "<class '__main__.A'>\n",
      "<class '__main__.C'>\n",
      "<class '__main__.B'>\n",
      "<class '__main__.A'>\n",
      "<class '__main__.C'>\n",
      "<class '__main__.B'>\n",
      "<class '__main__.D'>\n"
     ]
    }
   ],
   "source": [
    "d = D()"
   ]
  },
  {
   "cell_type": "markdown",
   "metadata": {},
   "source": [
    "### 다중상속이라도 super().__init__()을 한번만 호출\n",
    "* `클래스명.__init__()` : , 상속클래스 수 만큼 직접 생성자 호출\n",
    " - 부모가 애매해지는 순간이 온다. \n",
    "* `super().__init__()` : mro순으로 연결된 부모들을 모두 역순으로 호출 다 해준다.\n",
    " - 2개의 부모클래스를 상속했더라도, mro순서대로 다 호출해주니 **한번만 호출**"
   ]
  },
  {
   "cell_type": "code",
   "execution_count": 112,
   "metadata": {},
   "outputs": [],
   "source": [
    "class A:\n",
    "    def __init__(self):\n",
    "        print(A)\n",
    "        \n",
    "class B(A):\n",
    "    def __init__(self):\n",
    "        super().__init__() \n",
    "        print(B)\n",
    "        \n",
    "class C(A):\n",
    "    def __init__(self):\n",
    "        super().__init__() \n",
    "        print(C)       \n",
    "        \n",
    "class D(C,B):\n",
    "    def __init__(self):\n",
    "        super().__init__() \n",
    "        print(D)"
   ]
  },
  {
   "cell_type": "code",
   "execution_count": 113,
   "metadata": {},
   "outputs": [
    {
     "data": {
      "text/plain": [
       "[__main__.D, __main__.C, __main__.B, __main__.A, object]"
      ]
     },
     "execution_count": 113,
     "metadata": {},
     "output_type": "execute_result"
    }
   ],
   "source": [
    "D.mro()"
   ]
  },
  {
   "cell_type": "code",
   "execution_count": 114,
   "metadata": {},
   "outputs": [
    {
     "name": "stdout",
     "output_type": "stream",
     "text": [
      "<class '__main__.A'>\n",
      "<class '__main__.B'>\n",
      "<class '__main__.C'>\n",
      "<class '__main__.D'>\n"
     ]
    }
   ],
   "source": [
    "# 2개의 부모를 상속한 D클래스에서, super().__init__()을 한번만 호출해줘도\n",
    "# 부모들 다 초기화\n",
    "# 부모들 다 한번씩만 호출\n",
    "d = D()"
   ]
  },
  {
   "cell_type": "markdown",
   "metadata": {},
   "source": [
    "## 부모와 자식의 인스턴스메소드 명이 똑같을 때"
   ]
  },
  {
   "cell_type": "code",
   "execution_count": 122,
   "metadata": {},
   "outputs": [],
   "source": [
    "class A:\n",
    "    def x(self):\n",
    "        print(A)\n",
    "\n",
    "class B(A):        # A를 상속해서\n",
    "    def x(self):\n",
    "        super().x() # 부모 인스턴스로, 부모인스턴스 메소드 호출\n",
    "        print(B)\n",
    "        \n",
    "class C:\n",
    "    def x(self):\n",
    "        print(C)\n",
    "        \n",
    "# 어떤 인스턴스를 받아서, 그 메소드x()를 호출해라.\n",
    "def t(obj):\n",
    "    return obj.x()"
   ]
  },
  {
   "cell_type": "code",
   "execution_count": 119,
   "metadata": {},
   "outputs": [
    {
     "name": "stdout",
     "output_type": "stream",
     "text": [
      "<class '__main__.A'>\n"
     ]
    }
   ],
   "source": [
    "# A()로 만든 인스턴스로 A().x()호출\n",
    "t( A() )"
   ]
  },
  {
   "cell_type": "code",
   "execution_count": 123,
   "metadata": {},
   "outputs": [
    {
     "name": "stdout",
     "output_type": "stream",
     "text": [
      "<class '__main__.A'>\n",
      "<class '__main__.B'>\n"
     ]
    }
   ],
   "source": [
    "# 부모의 인스턴스메소드를 호출하는 B\n",
    "t( B() )"
   ]
  },
  {
   "cell_type": "code",
   "execution_count": 124,
   "metadata": {},
   "outputs": [
    {
     "name": "stdout",
     "output_type": "stream",
     "text": [
      "<class '__main__.C'>\n"
     ]
    }
   ],
   "source": [
    "t( C() )"
   ]
  },
  {
   "cell_type": "markdown",
   "metadata": {},
   "source": [
    "### duck-typing을 통해, type검사 없이 가져와 쓰기\n",
    "python은 duck-typing으로 메소드 이름만 같다면, type검사 없이 내부적으로 처리하여,  바로 가져다 쓸 수 있다.\n",
    "* 상속 : 부모의 모든 것을 가져온 뒤, 수정/삭제/추가 한다 \n",
    " - 부모의 클래스가 메모리가 큰 경우 비추천\n",
    "* **duck-typing : 부모의 메소드와 이름만 같게해주면, 가져다 쓸 수 있다.**\n",
    " - 부모의 일부분만 쓰고 싶을 때\n",
    "\n",
    "``` python\n",
    "# 어떤 인스턴스를 받아서, 그 메소드x()를 호출해라.\n",
    "def t(obj):\n",
    "    return obj.x()\n",
    "```"
   ]
  },
  {
   "cell_type": "code",
   "execution_count": 129,
   "metadata": {},
   "outputs": [],
   "source": [
    "class A:\n",
    "    def 깩(self):\n",
    "        print(A)\n",
    "        \n",
    "class B(A):\n",
    "    def 깩(self):\n",
    "        super().깩() \n",
    "        print(B)\n",
    "\n",
    "class C:\n",
    "    def 깩(self):\n",
    "        print(C)"
   ]
  },
  {
   "cell_type": "code",
   "execution_count": 132,
   "metadata": {},
   "outputs": [],
   "source": [
    "# duck-typing으로 인해, 함수이름만 같게해주면, type상관없이 알아서 호출한다.\n",
    "def t(obj):\n",
    "    return obj.깩()"
   ]
  },
  {
   "cell_type": "code",
   "execution_count": 133,
   "metadata": {},
   "outputs": [
    {
     "name": "stdout",
     "output_type": "stream",
     "text": [
      "<class '__main__.A'>\n"
     ]
    }
   ],
   "source": [
    "# A인스턴스, B인스턴스, C인스턴스 아무거나 넣어도 깩()을 호출한다.\n",
    "t(A())"
   ]
  },
  {
   "cell_type": "code",
   "execution_count": 134,
   "metadata": {},
   "outputs": [
    {
     "name": "stdout",
     "output_type": "stream",
     "text": [
      "<class '__main__.A'>\n",
      "<class '__main__.B'>\n"
     ]
    }
   ],
   "source": [
    "t(B())"
   ]
  },
  {
   "cell_type": "code",
   "execution_count": 135,
   "metadata": {},
   "outputs": [
    {
     "name": "stdout",
     "output_type": "stream",
     "text": [
      "<class '__main__.C'>\n"
     ]
    }
   ],
   "source": [
    "t(C())"
   ]
  },
  {
   "cell_type": "markdown",
   "metadata": {},
   "source": [
    "## gc, platform \n",
    "* gc : garbage collection으로, 상속하지 않고도 상속효과를 내는 composition이다."
   ]
  },
  {
   "cell_type": "code",
   "execution_count": 136,
   "metadata": {},
   "outputs": [
    {
     "name": "stdout",
     "output_type": "stream",
     "text": [
      "Help on built-in module gc:\n",
      "\n",
      "NAME\n",
      "    gc - This module provides access to the garbage collector for reference cycles.\n",
      "\n",
      "MODULE REFERENCE\n",
      "    https://docs.python.org/3.6/library/gc\n",
      "    \n",
      "    The following documentation is automatically generated from the Python\n",
      "    source files.  It may be incomplete, incorrect or include features that\n",
      "    are considered implementation detail and may vary between Python\n",
      "    implementations.  When in doubt, consult the module reference at the\n",
      "    location listed above.\n",
      "\n",
      "DESCRIPTION\n",
      "    enable() -- Enable automatic garbage collection.\n",
      "    disable() -- Disable automatic garbage collection.\n",
      "    isenabled() -- Returns true if automatic collection is enabled.\n",
      "    collect() -- Do a full collection right now.\n",
      "    get_count() -- Return the current collection counts.\n",
      "    get_stats() -- Return list of dictionaries containing per-generation stats.\n",
      "    set_debug() -- Set debugging flags.\n",
      "    get_debug() -- Get debugging flags.\n",
      "    set_threshold() -- Set the collection thresholds.\n",
      "    get_threshold() -- Return the current the collection thresholds.\n",
      "    get_objects() -- Return a list of all objects tracked by the collector.\n",
      "    is_tracked() -- Returns true if a given object is tracked.\n",
      "    get_referrers() -- Return the list of objects that refer to an object.\n",
      "    get_referents() -- Return the list of objects that an object refers to.\n",
      "\n",
      "FUNCTIONS\n",
      "    collect(...)\n",
      "        collect([generation]) -> n\n",
      "        \n",
      "        With no arguments, run a full collection.  The optional argument\n",
      "        may be an integer specifying which generation to collect.  A ValueError\n",
      "        is raised if the generation number is invalid.\n",
      "        \n",
      "        The number of unreachable objects is returned.\n",
      "    \n",
      "    disable(...)\n",
      "        disable() -> None\n",
      "        \n",
      "        Disable automatic garbage collection.\n",
      "    \n",
      "    enable(...)\n",
      "        enable() -> None\n",
      "        \n",
      "        Enable automatic garbage collection.\n",
      "    \n",
      "    get_count(...)\n",
      "        get_count() -> (count0, count1, count2)\n",
      "        \n",
      "        Return the current collection counts\n",
      "    \n",
      "    get_debug(...)\n",
      "        get_debug() -> flags\n",
      "        \n",
      "        Get the garbage collection debugging flags.\n",
      "    \n",
      "    get_objects(...)\n",
      "        get_objects() -> [...]\n",
      "        \n",
      "        Return a list of objects tracked by the collector (excluding the list\n",
      "        returned).\n",
      "    \n",
      "    get_referents(...)\n",
      "        get_referents(*objs) -> list\n",
      "        Return the list of objects that are directly referred to by objs.\n",
      "    \n",
      "    get_referrers(...)\n",
      "        get_referrers(*objs) -> list\n",
      "        Return the list of objects that directly refer to any of objs.\n",
      "    \n",
      "    get_stats(...)\n",
      "        get_stats() -> [...]\n",
      "        \n",
      "        Return a list of dictionaries containing per-generation statistics.\n",
      "    \n",
      "    get_threshold(...)\n",
      "        get_threshold() -> (threshold0, threshold1, threshold2)\n",
      "        \n",
      "        Return the current collection thresholds\n",
      "    \n",
      "    is_tracked(...)\n",
      "        is_tracked(obj) -> bool\n",
      "        \n",
      "        Returns true if the object is tracked by the garbage collector.\n",
      "        Simple atomic objects will return false.\n",
      "    \n",
      "    isenabled(...)\n",
      "        isenabled() -> status\n",
      "        \n",
      "        Returns true if automatic garbage collection is enabled.\n",
      "    \n",
      "    set_debug(...)\n",
      "        set_debug(flags) -> None\n",
      "        \n",
      "        Set the garbage collection debugging flags. Debugging information is\n",
      "        written to sys.stderr.\n",
      "        \n",
      "        flags is an integer and can have the following bits turned on:\n",
      "        \n",
      "          DEBUG_STATS - Print statistics during collection.\n",
      "          DEBUG_COLLECTABLE - Print collectable objects found.\n",
      "          DEBUG_UNCOLLECTABLE - Print unreachable but uncollectable objects found.\n",
      "          DEBUG_SAVEALL - Save objects to gc.garbage rather than freeing them.\n",
      "          DEBUG_LEAK - Debug leaking programs (everything but STATS).\n",
      "    \n",
      "    set_threshold(...)\n",
      "        set_threshold(threshold0, [threshold1, threshold2]) -> None\n",
      "        \n",
      "        Sets the collection thresholds.  Setting threshold0 to zero disables\n",
      "        collection.\n",
      "\n",
      "DATA\n",
      "    DEBUG_COLLECTABLE = 2\n",
      "    DEBUG_LEAK = 38\n",
      "    DEBUG_SAVEALL = 32\n",
      "    DEBUG_STATS = 1\n",
      "    DEBUG_UNCOLLECTABLE = 4\n",
      "    callbacks = []\n",
      "    garbage = []\n",
      "\n",
      "FILE\n",
      "    (built-in)\n",
      "\n",
      "\n"
     ]
    }
   ],
   "source": [
    "import gc\n",
    "\n",
    "help(gc)\n"
   ]
  },
  {
   "cell_type": "markdown",
   "metadata": {},
   "source": [
    "## ~하지않고도 ~ 만들 수 있는 4가지\n",
    "1. 함수를 선언하지 않고도, 함수를 만드는 : lambda( lambda x:x+1 )\n",
    "2. 클래스 선언하지 않고도, 클래스를 만드는 : type ( type('class', (super,class), {}) )\n",
    "3. 없던 클래스 변수를, 동적으로 할당해주는 : monkey patch (A.new_variable = 1)\n",
    " - 인스턴스 변수를 제한시키는 : \\_\\_slots\\_\\_"
   ]
  },
  {
   "cell_type": "markdown",
   "metadata": {},
   "source": [
    "## \\_\\_repr\\_\\_(self)와 repr()\n",
    "클래스 내부에 정의되어\n",
    "1. instance 호출시 출력\n",
    "2. instance를 print()할때  \n",
    "**공식적인 python `raw format 문자열`**이 return되어 출력된다"
   ]
  },
  {
   "cell_type": "code",
   "execution_count": 137,
   "metadata": {},
   "outputs": [],
   "source": [
    "class B:\n",
    "    def __repr__(self):\n",
    "        return '문근영'\n",
    "    def __repr__(self):\n",
    "        return '문근영2\\n좋다'"
   ]
  },
  {
   "cell_type": "code",
   "execution_count": 146,
   "metadata": {},
   "outputs": [
    {
     "data": {
      "text/plain": [
       "문근영2\n",
       "좋다"
      ]
     },
     "execution_count": 146,
     "metadata": {},
     "output_type": "execute_result"
    }
   ],
   "source": [
    "# 인스턴스를 호출할 때 __repr__에 return한 문자열이 출력된다.\n",
    "b = B()\n",
    "b"
   ]
  },
  {
   "cell_type": "code",
   "execution_count": 139,
   "metadata": {},
   "outputs": [
    {
     "name": "stdout",
     "output_type": "stream",
     "text": [
      "문근영2\n",
      "좋다\n"
     ]
    }
   ],
   "source": [
    "print(b)"
   ]
  },
  {
   "cell_type": "code",
   "execution_count": 143,
   "metadata": {},
   "outputs": [
    {
     "data": {
      "text/plain": [
       "1.123881283812392"
      ]
     },
     "execution_count": 143,
     "metadata": {},
     "output_type": "execute_result"
    }
   ],
   "source": [
    "a = 1.12388128381239187089472039847102938471247\n",
    "a"
   ]
  },
  {
   "cell_type": "code",
   "execution_count": 144,
   "metadata": {},
   "outputs": [
    {
     "name": "stdout",
     "output_type": "stream",
     "text": [
      "1.123881283812392\n"
     ]
    }
   ],
   "source": [
    "print(a)"
   ]
  },
  {
   "cell_type": "code",
   "execution_count": 145,
   "metadata": {},
   "outputs": [
    {
     "data": {
      "text/plain": [
       "'1.123881283812392'"
      ]
     },
     "execution_count": 145,
     "metadata": {},
     "output_type": "execute_result"
    }
   ],
   "source": [
    "# print()시 공식적인 문자열, 객체인식 문자열\n",
    "# 소수의 경우 17자리로 짤라서\n",
    "repr(a)"
   ]
  },
  {
   "cell_type": "code",
   "execution_count": null,
   "metadata": {},
   "outputs": [],
   "source": []
  }
 ],
 "metadata": {
  "kernelspec": {
   "display_name": "Python 3",
   "language": "python",
   "name": "python3"
  },
  "language_info": {
   "codemirror_mode": {
    "name": "ipython",
    "version": 3
   },
   "file_extension": ".py",
   "mimetype": "text/x-python",
   "name": "python",
   "nbconvert_exporter": "python",
   "pygments_lexer": "ipython3",
   "version": "3.6.8"
  },
  "toc": {
   "base_numbering": 1,
   "nav_menu": {},
   "number_sections": true,
   "sideBar": true,
   "skip_h1_title": false,
   "title_cell": "Table of Contents",
   "title_sidebar": "Contents",
   "toc_cell": false,
   "toc_position": {
    "height": "calc(100% - 180px)",
    "left": "10px",
    "top": "150px",
    "width": "230px"
   },
   "toc_section_display": true,
   "toc_window_display": true
  }
 },
 "nbformat": 4,
 "nbformat_minor": 2
}

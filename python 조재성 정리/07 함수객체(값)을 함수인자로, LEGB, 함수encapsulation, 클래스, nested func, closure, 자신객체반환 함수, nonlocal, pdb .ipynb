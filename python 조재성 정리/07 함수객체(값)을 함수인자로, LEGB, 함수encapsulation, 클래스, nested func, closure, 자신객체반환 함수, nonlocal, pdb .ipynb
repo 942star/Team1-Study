{
 "cells": [
  {
   "cell_type": "markdown",
   "metadata": {},
   "source": [
    "## First Class Function\n",
    "* **1 등급 함수**는 함수를 하나의 값으로 표현하는 것을 의미\n",
    "* python은 **`함수`()에서 괄호를 빼면** -> **객체**로 쓸 수 있기 때문에 -> **`하나의 값처럼 식별자에 할당`**이 가능하다\n",
    " - 함수에서 괄호를 빼면, 객체가 되어 식별자에 할당된다. 식별자()에서 괄호를 써서 호출할 수 있다.\n",
    " - 이름은 그대로 유지된다.\n",
    "\n",
    "* 내장함수로 만든 객체에 값을 할당하면, 식별자가 되어버린다. 그럴 땐 `del`을 통해 NameSpace에서 지우면 된다.\n",
    " - 예약어 등을 덮어씌우는 경우는 , del로 복구하자!"
   ]
  },
  {
   "cell_type": "markdown",
   "metadata": {},
   "source": [
    "### 함수를 객체로 -> 값처럼 식별자에 할당"
   ]
  },
  {
   "cell_type": "code",
   "execution_count": 1,
   "metadata": {},
   "outputs": [
    {
     "data": {
      "text/plain": [
       "<function print>"
      ]
     },
     "execution_count": 1,
     "metadata": {},
     "output_type": "execute_result"
    }
   ],
   "source": [
    "# print()함수에 괄호를 때면, 객체로 쓸 수 있어서, 값처럼 식별자에 할당할 수 있다.\n",
    "a = print\n",
    "a"
   ]
  },
  {
   "cell_type": "code",
   "execution_count": 2,
   "metadata": {},
   "outputs": [
    {
     "name": "stdout",
     "output_type": "stream",
     "text": [
      "문근영\n"
     ]
    }
   ],
   "source": [
    "# 함수가 객체로서 할당한 식별자에서 괄호를 통해 호출해보자\n",
    "a('문근영')"
   ]
  },
  {
   "cell_type": "code",
   "execution_count": 3,
   "metadata": {},
   "outputs": [
    {
     "data": {
      "text/plain": [
       "'print'"
      ]
     },
     "execution_count": 3,
     "metadata": {},
     "output_type": "execute_result"
    }
   ],
   "source": [
    "# 함수가 객체로 할당된 식별자는 이름은 원래 함수 이름\n",
    "a.__name__"
   ]
  },
  {
   "cell_type": "code",
   "execution_count": 5,
   "metadata": {},
   "outputs": [],
   "source": [
    "# 해서는 안되는 짓... \n",
    "# 함수에서 ()를 뺀 것 = 객체\n",
    "# 객체에 = 값 을 할당??\n",
    "sum = 0"
   ]
  },
  {
   "cell_type": "code",
   "execution_count": 6,
   "metadata": {},
   "outputs": [
    {
     "data": {
      "text/plain": [
       "0"
      ]
     },
     "execution_count": 6,
     "metadata": {},
     "output_type": "execute_result"
    }
   ],
   "source": [
    "# 객체에 값을 넣어버렸으니... 이제 sum함수는 쓸 수 없다.\n",
    "sum"
   ]
  },
  {
   "cell_type": "code",
   "execution_count": 7,
   "metadata": {
    "scrolled": true
   },
   "outputs": [
    {
     "name": "stdout",
     "output_type": "stream",
     "text": [
      "Variable   Type                          Data/Info\n",
      "--------------------------------------------------\n",
      "a          builtin_function_or_method    <built-in function print>\n",
      "sum        int                           0\n"
     ]
    }
   ],
   "source": [
    "%whos"
   ]
  },
  {
   "cell_type": "code",
   "execution_count": 8,
   "metadata": {},
   "outputs": [],
   "source": [
    "#이럴 땐 del을 통해, NameSpace의 sum을 지우면 된다.\n",
    "del sum"
   ]
  },
  {
   "cell_type": "code",
   "execution_count": 9,
   "metadata": {},
   "outputs": [
    {
     "name": "stdout",
     "output_type": "stream",
     "text": [
      "Variable   Type                          Data/Info\n",
      "--------------------------------------------------\n",
      "a          builtin_function_or_method    <built-in function print>\n"
     ]
    }
   ],
   "source": [
    "%whos"
   ]
  },
  {
   "cell_type": "code",
   "execution_count": 10,
   "metadata": {},
   "outputs": [
    {
     "data": {
      "text/plain": [
       "6"
      ]
     },
     "execution_count": 10,
     "metadata": {},
     "output_type": "execute_result"
    }
   ],
   "source": [
    "sum([1, 2, 3])"
   ]
  },
  {
   "cell_type": "code",
   "execution_count": 11,
   "metadata": {},
   "outputs": [
    {
     "ename": "NameError",
     "evalue": "name 'sum' is not defined",
     "output_type": "error",
     "traceback": [
      "\u001b[1;31m---------------------------------------------------------------------------\u001b[0m",
      "\u001b[1;31mNameError\u001b[0m                                 Traceback (most recent call last)",
      "\u001b[1;32m<ipython-input-11-39f8422b94fb>\u001b[0m in \u001b[0;36m<module>\u001b[1;34m\u001b[0m\n\u001b[0;32m      1\u001b[0m \u001b[1;31m# 이름을 지우고 난 뒤, 또 지우면... 내장함수를 지우려는 꼴\u001b[0m\u001b[1;33m\u001b[0m\u001b[1;33m\u001b[0m\u001b[1;33m\u001b[0m\u001b[0m\n\u001b[0;32m      2\u001b[0m \u001b[1;31m# 에러가 난다.\u001b[0m\u001b[1;33m\u001b[0m\u001b[1;33m\u001b[0m\u001b[1;33m\u001b[0m\u001b[0m\n\u001b[1;32m----> 3\u001b[1;33m \u001b[1;32mdel\u001b[0m \u001b[0msum\u001b[0m\u001b[1;33m\u001b[0m\u001b[1;33m\u001b[0m\u001b[0m\n\u001b[0m",
      "\u001b[1;31mNameError\u001b[0m: name 'sum' is not defined"
     ]
    }
   ],
   "source": [
    "# 이름을 지우고 난 뒤, 또 지우면... 내장함수를 지우려는 꼴\n",
    "# 에러가 난다. \n",
    "del sum"
   ]
  },
  {
   "cell_type": "code",
   "execution_count": 12,
   "metadata": {},
   "outputs": [
    {
     "data": {
      "text/plain": [
       "5050"
      ]
     },
     "execution_count": 12,
     "metadata": {},
     "output_type": "execute_result"
    }
   ],
   "source": [
    "# 가장 많이 실수하는 것은.. sum을 자주 쓰는 누적합구하는for문 일 것이다.\n",
    "sum = 0\n",
    "for i in range(1, 101):\n",
    "    sum+=i\n",
    "\n",
    "sum"
   ]
  },
  {
   "cell_type": "code",
   "execution_count": 13,
   "metadata": {},
   "outputs": [],
   "source": [
    "# 복구\n",
    "del sum"
   ]
  },
  {
   "cell_type": "markdown",
   "metadata": {},
   "source": [
    "### 함수를 객체로 -> 값처럼 container에 넣어서 식별자에 할당\n",
    "**비추천 하는 anti-pattern**  \n",
    "그 식별자에 ()를 붙혀서 해당 함수를 호출 할 수 있다고 했다."
   ]
  },
  {
   "cell_type": "code",
   "execution_count": 14,
   "metadata": {},
   "outputs": [],
   "source": [
    "# 3함수를 컨테이너에 넣고 식별자에 할당해보자.\n",
    "a = [str, int, float]"
   ]
  },
  {
   "cell_type": "code",
   "execution_count": 15,
   "metadata": {},
   "outputs": [
    {
     "data": {
      "text/plain": [
       "str"
      ]
     },
     "execution_count": 15,
     "metadata": {},
     "output_type": "execute_result"
    }
   ],
   "source": [
    "# container에서 해당 함수 객체를 선택하자.\n",
    "# 여기서 ()괄호만 붙히면 그 함수를 호출할 수 있다.\n",
    "a[0]"
   ]
  },
  {
   "cell_type": "code",
   "execution_count": 16,
   "metadata": {},
   "outputs": [
    {
     "data": {
      "text/plain": [
       "'문근영'"
      ]
     },
     "execution_count": 16,
     "metadata": {},
     "output_type": "execute_result"
    }
   ],
   "source": [
    "# container에서 해당 함수 객체를 선택한 뒤, \n",
    "a[0]('문근영')"
   ]
  },
  {
   "cell_type": "markdown",
   "metadata": {},
   "source": [
    "### 함수(객체)를 함수의 argument로 전달하는 방식\n",
    "**함수1을 객체화**한 것을 **함수2의 argument로 전달**하는 경우 -> 내부에서 ()붙혀 호출  \n",
    "but 함수에 함수를 전달하는 패턴은 **`Closure`와 `Decorator`에서 사용되어 중요하다** \n",
    "\n",
    "함수2에, [ 함수1-() ]의 객체를 전달하고 그 내부에서 [함수1 객체+()]해서 함수1호출  \n",
    "이 패턴이며, 중요하다"
   ]
  },
  {
   "cell_type": "code",
   "execution_count": 21,
   "metadata": {},
   "outputs": [],
   "source": [
    "# 함수의 인자로 함수객체가 들어오면, 내부에서 ()를 붙혀 호출하는 패턴\n",
    "def a(x):\n",
    "    print( x())"
   ]
  },
  {
   "cell_type": "code",
   "execution_count": 20,
   "metadata": {},
   "outputs": [
    {
     "name": "stdout",
     "output_type": "stream",
     "text": [
      "\n",
      "None\n"
     ]
    }
   ],
   "source": [
    "a( print )"
   ]
  },
  {
   "cell_type": "markdown",
   "metadata": {},
   "source": [
    "## LEGB : 함수안에서 식별자 찾는 우선순위\n",
    "같은 식별자(x)가 함수안, 함수밖 모두 존재할 때!  \n",
    "* **Local** : 함수내부의 x를 먼저 찾는다.\n",
    "* **Enclosing** : 함수를 감싸고 있는 것의 x\n",
    "* **Global** : 함수 밖의 x와 sync를 맺어서 찾아온다.\n",
    "* **Builit in** : 내장함수? Built in 영역까지 확인"
   ]
  },
  {
   "cell_type": "markdown",
   "metadata": {},
   "source": [
    "### 함수안 ==> 함수밖을 가져옴\n",
    "Local을 검색하고 없으면, 함수밖에서 가져온다"
   ]
  },
  {
   "cell_type": "code",
   "execution_count": 22,
   "metadata": {},
   "outputs": [],
   "source": [
    "x = 1\n",
    "\n",
    "def y():\n",
    "    print(x)"
   ]
  },
  {
   "cell_type": "code",
   "execution_count": 23,
   "metadata": {},
   "outputs": [
    {
     "name": "stdout",
     "output_type": "stream",
     "text": [
      "1\n"
     ]
    }
   ],
   "source": [
    "# 함수밖의 x가 함수내부y에서 호출됨\n",
    "y()"
   ]
  },
  {
   "cell_type": "markdown",
   "metadata": {},
   "source": [
    "### 함수안 ==> 함수안을 먼저! > 밖\n",
    "Local을 먼저 찾는다"
   ]
  },
  {
   "cell_type": "code",
   "execution_count": 24,
   "metadata": {},
   "outputs": [],
   "source": [
    "x = 1\n",
    "\n",
    "def y():\n",
    "    x =2\n",
    "    print(x)"
   ]
  },
  {
   "cell_type": "code",
   "execution_count": 26,
   "metadata": {},
   "outputs": [
    {
     "name": "stdout",
     "output_type": "stream",
     "text": [
      "2\n"
     ]
    }
   ],
   "source": [
    "# 함수밖의 x보다 함수안의 x가 우선순위를 가진다\n",
    "y()"
   ]
  },
  {
   "cell_type": "markdown",
   "metadata": {},
   "source": [
    "###  함수안 ==> 함수밖의 x를 가져와 조작은 불가능 "
   ]
  },
  {
   "cell_type": "code",
   "execution_count": 28,
   "metadata": {},
   "outputs": [],
   "source": [
    "x =1\n",
    "\n",
    "def y():\n",
    "    x = x+1\n",
    "    print(x)"
   ]
  },
  {
   "cell_type": "code",
   "execution_count": 30,
   "metadata": {},
   "outputs": [
    {
     "ename": "UnboundLocalError",
     "evalue": "local variable 'x' referenced before assignment",
     "output_type": "error",
     "traceback": [
      "\u001b[1;31m---------------------------------------------------------------------------\u001b[0m",
      "\u001b[1;31mUnboundLocalError\u001b[0m                         Traceback (most recent call last)",
      "\u001b[1;32m<ipython-input-30-6fa9c8f97a35>\u001b[0m in \u001b[0;36m<module>\u001b[1;34m\u001b[0m\n\u001b[1;32m----> 1\u001b[1;33m \u001b[0my\u001b[0m\u001b[1;33m(\u001b[0m\u001b[1;33m)\u001b[0m\u001b[1;33m\u001b[0m\u001b[1;33m\u001b[0m\u001b[0m\n\u001b[0m",
      "\u001b[1;32m<ipython-input-28-af51511dc682>\u001b[0m in \u001b[0;36my\u001b[1;34m()\u001b[0m\n\u001b[0;32m      2\u001b[0m \u001b[1;33m\u001b[0m\u001b[0m\n\u001b[0;32m      3\u001b[0m \u001b[1;32mdef\u001b[0m \u001b[0my\u001b[0m\u001b[1;33m(\u001b[0m\u001b[1;33m)\u001b[0m\u001b[1;33m:\u001b[0m\u001b[1;33m\u001b[0m\u001b[1;33m\u001b[0m\u001b[0m\n\u001b[1;32m----> 4\u001b[1;33m     \u001b[0mx\u001b[0m\u001b[1;33m=\u001b[0m\u001b[0mx\u001b[0m\u001b[1;33m+\u001b[0m\u001b[1;36m1\u001b[0m\u001b[1;33m\u001b[0m\u001b[1;33m\u001b[0m\u001b[0m\n\u001b[0m\u001b[0;32m      5\u001b[0m     \u001b[0mprint\u001b[0m\u001b[1;33m(\u001b[0m\u001b[0mx\u001b[0m\u001b[1;33m)\u001b[0m\u001b[1;33m\u001b[0m\u001b[1;33m\u001b[0m\u001b[0m\n",
      "\u001b[1;31mUnboundLocalError\u001b[0m: local variable 'x' referenced before assignment"
     ]
    }
   ],
   "source": [
    "# 함수밖의 x를 가져와, 연산은 불가능\n",
    "# 에러 : 할당할라면, Local을 선언한 뒤 할당하라!\n",
    "y()"
   ]
  },
  {
   "cell_type": "code",
   "execution_count": null,
   "metadata": {},
   "outputs": [],
   "source": []
  },
  {
   "cell_type": "markdown",
   "metadata": {},
   "source": [
    "### 함수 안 global함수로 ==>  함수밖의 식별자와 sync 후 조작\n",
    "python consenting adult -> 책임질 수 있는 어른 -> sync되어있으니 책임지고 사용해라.  \n",
    "* 함수밖의 x는 가져올 순 있지만, 조작은 불가능했다.\n",
    "* 함수밖의 x를 조작하려면, **`global x`**로 싱크를 맞추면 된다.\n",
    "* global로 씽크된 함수밖의 x는 값이 직접 변한다"
   ]
  },
  {
   "cell_type": "code",
   "execution_count": 35,
   "metadata": {},
   "outputs": [],
   "source": [
    "x = 1\n",
    "\n",
    "def y():\n",
    "    global x\n",
    "    x = x+1\n",
    "    print(x)"
   ]
  },
  {
   "cell_type": "code",
   "execution_count": 36,
   "metadata": {},
   "outputs": [
    {
     "name": "stdout",
     "output_type": "stream",
     "text": [
      "2\n"
     ]
    }
   ],
   "source": [
    "# 함수밖의 x는 가져올 순 있지만, 조작은 불가능했다.\n",
    "# 함수밖의 x를 조작하려면, global x로 싱크를 맞추면 된다.\n",
    "y()"
   ]
  },
  {
   "cell_type": "code",
   "execution_count": 37,
   "metadata": {},
   "outputs": [
    {
     "data": {
      "text/plain": [
       "2"
      ]
     },
     "execution_count": 37,
     "metadata": {},
     "output_type": "execute_result"
    }
   ],
   "source": [
    "# global로 씽크된 함수밖의 x는 값이 직접 변한다\n",
    "x"
   ]
  },
  {
   "cell_type": "code",
   "execution_count": 38,
   "metadata": {},
   "outputs": [
    {
     "name": "stdout",
     "output_type": "stream",
     "text": [
      "3\n"
     ]
    }
   ],
   "source": [
    "# 계속 싱크시켜서 더한다\n",
    "y()"
   ]
  },
  {
   "cell_type": "code",
   "execution_count": 39,
   "metadata": {},
   "outputs": [
    {
     "data": {
      "text/plain": [
       "3"
      ]
     },
     "execution_count": 39,
     "metadata": {},
     "output_type": "execute_result"
    }
   ],
   "source": [
    "x"
   ]
  },
  {
   "cell_type": "markdown",
   "metadata": {},
   "source": [
    "### non-local과 global\n",
    "**global주의점** : 함수의 parameter에 정의된 값은 global로 sync못시킨다.  \n",
    "**nonlocal주의점** : 한단계전 parameter에 정의된 값은 nonlocal로 sync못시킨다.\n",
    "  - my) parameter의 default로 정의된 값 = heap영역이라 못건듬\n",
    "  \n",
    "  \n",
    "**nonlocal** : 지역변수가 아님을 선언\n",
    " - nonlocal 이 사용된 함수 바로 **한단계 바깥쪽에 위치한 변수와 sync**을 할 수 있다."
   ]
  },
  {
   "cell_type": "markdown",
   "metadata": {},
   "source": [
    "#### global주의점 : 함수의 parameter에 정의된 값은 global로 sync못시킨다."
   ]
  },
  {
   "cell_type": "code",
   "execution_count": 100,
   "metadata": {},
   "outputs": [
    {
     "ename": "SyntaxError",
     "evalue": "name 'x' is parameter and global (cell_name, line 7)",
     "output_type": "error",
     "traceback": [
      "\u001b[1;36m  File \u001b[1;32m\"cell_name\"\u001b[1;36m, line \u001b[1;32m7\u001b[0m\n\u001b[1;31mSyntaxError\u001b[0m\u001b[1;31m:\u001b[0m name 'x' is parameter and global\n"
     ]
    }
   ],
   "source": [
    "# 함수의 parameter에 정의된 값은 global로 sync못시킨다\n",
    "x=3\n",
    "\n",
    "def y(x=2):\n",
    "    #parameter와 동일한 식별자는 global로 못땡겨온다.\n",
    "    global x\n",
    "    print(x)"
   ]
  },
  {
   "cell_type": "markdown",
   "metadata": {},
   "source": [
    "#### nonlocal 이 사용된 함수 바로 한단계 바깥쪽에 위치한 변수와 sync을 할 수 있다\n",
    "global : 20  \n",
    "바깥쪽 : 40  \n",
    "안쪽 : 80  \n",
    "이라고 초기화하자"
   ]
  },
  {
   "cell_type": "code",
   "execution_count": 146,
   "metadata": {},
   "outputs": [],
   "source": [
    "x = 20\n",
    "def y():\n",
    "    x = 40\n",
    "    \n",
    "    print(f\"local : {x}\")\n",
    "    def z():\n",
    "        nonlocal x\n",
    "        print(f\"nonlocal : {x}\")\n",
    "    return z"
   ]
  },
  {
   "cell_type": "code",
   "execution_count": 147,
   "metadata": {},
   "outputs": [
    {
     "name": "stdout",
     "output_type": "stream",
     "text": [
      "local : 40\n"
     ]
    },
    {
     "data": {
      "text/plain": [
       "<function __main__.y.<locals>.z()>"
      ]
     },
     "execution_count": 147,
     "metadata": {},
     "output_type": "execute_result"
    }
   ],
   "source": [
    "# 바깥함수 y에서는 x값이 40이다.\n",
    "y()"
   ]
  },
  {
   "cell_type": "code",
   "execution_count": 148,
   "metadata": {},
   "outputs": [
    {
     "name": "stdout",
     "output_type": "stream",
     "text": [
      "local : 40\n",
      "nonlocal : 40\n"
     ]
    }
   ],
   "source": [
    "# 안쪽 중첩함수까지 호출하면, 직전단계의 40을 가져와서 80을 return해줄 것이다.\n",
    "y()()"
   ]
  },
  {
   "cell_type": "code",
   "execution_count": 114,
   "metadata": {},
   "outputs": [],
   "source": [
    "# nonlocal은 한단계전 함수의 식별자를 sync시켜준다.\n",
    "x = 20 # 전역변수 (global variable)\n",
    "\n",
    "def f():\n",
    "    x = 40\n",
    "    def g():\n",
    "        nonlocal x\n",
    "        x = 80\n",
    "    return g"
   ]
  },
  {
   "cell_type": "code",
   "execution_count": 116,
   "metadata": {},
   "outputs": [
    {
     "name": "stdout",
     "output_type": "stream",
     "text": [
      "40\n"
     ]
    },
    {
     "data": {
      "text/plain": [
       "80"
      ]
     },
     "execution_count": 116,
     "metadata": {},
     "output_type": "execute_result"
    }
   ],
   "source": [
    "f()()"
   ]
  },
  {
   "cell_type": "code",
   "execution_count": null,
   "metadata": {},
   "outputs": [],
   "source": []
  },
  {
   "cell_type": "code",
   "execution_count": 103,
   "metadata": {},
   "outputs": [],
   "source": [
    "# 한단계전 parameter에 정의된 값은 nonlocal로 sync못시킨다.\n",
    "x = 3\n",
    "def y(x=2):\n",
    "    def z():\n",
    "        nonlocal x\n",
    "        x = 1\n",
    "        return x\n",
    "    print(x)"
   ]
  },
  {
   "cell_type": "code",
   "execution_count": 104,
   "metadata": {},
   "outputs": [
    {
     "name": "stdout",
     "output_type": "stream",
     "text": [
      "2\n"
     ]
    }
   ],
   "source": [
    "y()"
   ]
  },
  {
   "cell_type": "code",
   "execution_count": 105,
   "metadata": {},
   "outputs": [
    {
     "data": {
      "text/plain": [
       "3"
      ]
     },
     "execution_count": 105,
     "metadata": {},
     "output_type": "execute_result"
    }
   ],
   "source": [
    "x"
   ]
  },
  {
   "cell_type": "code",
   "execution_count": null,
   "metadata": {},
   "outputs": [],
   "source": [
    "x = 3\n",
    "def y(x=2):\n",
    "    def z():\n",
    "        nonlocal x\n",
    "        x = 1\n",
    "        return x\n",
    "    return z\n",
    "    print(x)"
   ]
  },
  {
   "cell_type": "code",
   "execution_count": null,
   "metadata": {},
   "outputs": [],
   "source": []
  },
  {
   "cell_type": "markdown",
   "metadata": {},
   "source": [
    "## 함수의 Encapsulation : 함수밖에서는 함수안의 값을 못부르고, 못바꾼다\n",
    "* 함수밖에서 함수안의 식별자를 호출자체가 안된다.\n",
    "* 함수밖에서는 함수안의 값을 못바꾼다. (할당식은 에러가 안나나, 의미x)\n",
    "* global로 싱크한 것만 조작 가능"
   ]
  },
  {
   "cell_type": "code",
   "execution_count": 66,
   "metadata": {},
   "outputs": [],
   "source": [
    "x = 1\n",
    "\n",
    "def y():\n",
    "    x = 1\n",
    "    z = 2\n",
    "    print(x, z)"
   ]
  },
  {
   "cell_type": "code",
   "execution_count": 67,
   "metadata": {},
   "outputs": [
    {
     "name": "stdout",
     "output_type": "stream",
     "text": [
      "1 2\n"
     ]
    }
   ],
   "source": [
    "# local 변수들은 현재 x, z = 1, 2\n",
    "y()"
   ]
  },
  {
   "cell_type": "code",
   "execution_count": 68,
   "metadata": {},
   "outputs": [
    {
     "name": "stdout",
     "output_type": "stream",
     "text": [
      "Variable   Type        Data/Info\n",
      "--------------------------------\n",
      "a          function    <function a at 0x0000020FDB6AA598>\n",
      "i          int         100\n",
      "x          int         1\n",
      "y          function    <function y at 0x0000020FDB74E6A8>\n"
     ]
    }
   ],
   "source": [
    "%whos"
   ]
  },
  {
   "cell_type": "code",
   "execution_count": 69,
   "metadata": {},
   "outputs": [
    {
     "ename": "AttributeError",
     "evalue": "'function' object has no attribute 'x'",
     "output_type": "error",
     "traceback": [
      "\u001b[1;31m---------------------------------------------------------------------------\u001b[0m",
      "\u001b[1;31mAttributeError\u001b[0m                            Traceback (most recent call last)",
      "\u001b[1;32m<ipython-input-69-2910bf836d89>\u001b[0m in \u001b[0;36m<module>\u001b[1;34m\u001b[0m\n\u001b[1;32m----> 1\u001b[1;33m \u001b[0my\u001b[0m\u001b[1;33m.\u001b[0m\u001b[0mx\u001b[0m\u001b[1;33m\u001b[0m\u001b[1;33m\u001b[0m\u001b[0m\n\u001b[0m",
      "\u001b[1;31mAttributeError\u001b[0m: 'function' object has no attribute 'x'"
     ]
    }
   ],
   "source": [
    "# 함수안의 local변수는 밖에서 호출이 안된다.\n",
    "y.x"
   ]
  },
  {
   "cell_type": "code",
   "execution_count": 62,
   "metadata": {},
   "outputs": [],
   "source": [
    "# local변수 호출도 안됬는데, 할당은 되는 것 같지만 안된다!\n",
    "y. x = 3"
   ]
  },
  {
   "cell_type": "code",
   "execution_count": 63,
   "metadata": {},
   "outputs": [
    {
     "name": "stdout",
     "output_type": "stream",
     "text": [
      "1 2\n"
     ]
    }
   ],
   "source": [
    "y()"
   ]
  },
  {
   "cell_type": "code",
   "execution_count": 70,
   "metadata": {},
   "outputs": [
    {
     "name": "stdout",
     "output_type": "stream",
     "text": [
      "Variable   Type        Data/Info\n",
      "--------------------------------\n",
      "a          function    <function a at 0x0000020FDB6AA598>\n",
      "i          int         100\n",
      "x          int         1\n",
      "y          function    <function y at 0x0000020FDB74E6A8>\n"
     ]
    }
   ],
   "source": [
    "%whos"
   ]
  },
  {
   "cell_type": "markdown",
   "metadata": {},
   "source": [
    "## Class는 함수의 encapsulation과 다르다\n",
    "**Class**는 함수의encapsulation과 다르게, **내부의 식별자, 함수를 호출하고 변형된다.**\n",
    "함수는 encapsulation으로 인해, 내부값을 호출하거나 조작이 불가능하다. "
   ]
  },
  {
   "cell_type": "code",
   "execution_count": 97,
   "metadata": {},
   "outputs": [],
   "source": [
    "# 클래스에 local변수를 만들고 밖에서 조작해보자\n",
    "class A:\n",
    "    x = 1"
   ]
  },
  {
   "cell_type": "code",
   "execution_count": 99,
   "metadata": {},
   "outputs": [
    {
     "name": "stdout",
     "output_type": "stream",
     "text": [
      "Variable   Type        Data/Info\n",
      "--------------------------------\n",
      "A          type        <class '__main__.A'>\n",
      "a          A           <__main__.A object at 0x0000020FDB764320>\n",
      "i          int         100\n",
      "two_add    function    <function y.<locals>.z at 0x0000020FDB769F28>\n",
      "x          int         1\n",
      "y          function    <function y at 0x0000020FDB6AA598>\n"
     ]
    }
   ],
   "source": [
    "# 함수내부의 식별자와 다르게, class는 Namespace에 올라가 있어서 class.식별자로 부르거나 조작가능\n",
    "%whos"
   ]
  },
  {
   "cell_type": "code",
   "execution_count": 98,
   "metadata": {},
   "outputs": [
    {
     "data": {
      "text/plain": [
       "1"
      ]
     },
     "execution_count": 98,
     "metadata": {},
     "output_type": "execute_result"
    }
   ],
   "source": [
    "# 클래스는 함수의 encapsulation과 다르게, 값을 호출할 수 있다.\n",
    "A.x"
   ]
  },
  {
   "cell_type": "code",
   "execution_count": 76,
   "metadata": {},
   "outputs": [
    {
     "data": {
      "text/plain": [
       "2"
      ]
     },
     "execution_count": 76,
     "metadata": {},
     "output_type": "execute_result"
    }
   ],
   "source": [
    "# 클래스는 함수와 다르게, 밖에서 조작할 수 있다.\n",
    "A.x = 2\n",
    "\n",
    "A.x"
   ]
  },
  {
   "cell_type": "code",
   "execution_count": 77,
   "metadata": {},
   "outputs": [],
   "source": [
    "# 클래스의 객체를 생성하면, 그곳에서만 조작할 수 있을 것이다.\n",
    "a = A()"
   ]
  },
  {
   "cell_type": "code",
   "execution_count": 78,
   "metadata": {},
   "outputs": [
    {
     "data": {
      "text/plain": [
       "2"
      ]
     },
     "execution_count": 78,
     "metadata": {},
     "output_type": "execute_result"
    }
   ],
   "source": [
    "a.x"
   ]
  },
  {
   "cell_type": "code",
   "execution_count": 79,
   "metadata": {},
   "outputs": [
    {
     "data": {
      "text/plain": [
       "3"
      ]
     },
     "execution_count": 79,
     "metadata": {},
     "output_type": "execute_result"
    }
   ],
   "source": [
    "a.x=3\n",
    "a.x"
   ]
  },
  {
   "cell_type": "code",
   "execution_count": 80,
   "metadata": {},
   "outputs": [
    {
     "data": {
      "text/plain": [
       "2"
      ]
     },
     "execution_count": 80,
     "metadata": {},
     "output_type": "execute_result"
    }
   ],
   "source": [
    "A.x"
   ]
  },
  {
   "cell_type": "markdown",
   "metadata": {},
   "source": [
    "## Nested function\n",
    "* 중첩함수는 안쪽함수 계산후-> 바깥함수에서 **안쪽함수객체를 return**하는 방식\n",
    " - 안쪽함수에서 바깥인자+안쪽인자 둘다 사용할 수 있다!\n",
    "* 하나만 호출하면 안쪽함수 **객체**를 return하므로 <>사용불가능이다.\n",
    " - 이 상태에서는 () 한번만 더 붙으면 된다. 이 형태를 새로운 식별자에 할당하고, 원하는대로 ()안쪽인자를 대입할 수 있다.\n",
    "* 즉, `y()()`형식의 괄호2개를 사용한다. -> **func( )( )가 나와도 당황하지말고 중첩함수!**\n",
    "* **keras**에서 많이 사용한다. 무조건 알아야하는 고급기법!   \n",
    "\n",
    "  \n",
    "x( 바깥함수인자 ) ( 안쪽함수인자 ) ==> 안쪽함수에서는 인자 2개 모두 사용해서 계산\n",
    " - x(n)으로 바깥인자를 고정시킨 상태로, 새로운 식별자에 할당할 수 있다.\n",
    " - z = x(n) 상태라면, z는 z()형태로 바깥인자 고정상태에서 안쪽인자를 입력할 수있다."
   ]
  },
  {
   "cell_type": "code",
   "execution_count": 83,
   "metadata": {},
   "outputs": [],
   "source": [
    "x = 1\n",
    "\n",
    "def y():\n",
    "    def z():\n",
    "        return 1\n",
    "    # 바깥에서는 안쪽함수 객체를 return하니 한번더 ()를 통해 안쪽함수 호출을 한다\n",
    "    return  z"
   ]
  },
  {
   "cell_type": "code",
   "execution_count": 82,
   "metadata": {},
   "outputs": [
    {
     "data": {
      "text/plain": [
       "<function __main__.y.<locals>.z()>"
      ]
     },
     "execution_count": 82,
     "metadata": {},
     "output_type": "execute_result"
    }
   ],
   "source": [
    "# 바깥에서는 안쪽함수 객체를 return\n",
    "y()"
   ]
  },
  {
   "cell_type": "code",
   "execution_count": 84,
   "metadata": {},
   "outputs": [
    {
     "data": {
      "text/plain": [
       "1"
      ]
     },
     "execution_count": 84,
     "metadata": {},
     "output_type": "execute_result"
    }
   ],
   "source": [
    "# 안쪽함수 객체 + ()\n",
    "y() ()"
   ]
  },
  {
   "cell_type": "code",
   "execution_count": 85,
   "metadata": {},
   "outputs": [],
   "source": [
    "# 안쪽함수에서는 바깥함수의 인자+안쪽함수의 인자를 모두 사용한다.\n",
    "# 바깥함수는 안쪽함수객체를 return한다\n",
    "def y(x):\n",
    "    def z(n):\n",
    "        return x+n\n",
    "    return z"
   ]
  },
  {
   "cell_type": "code",
   "execution_count": 86,
   "metadata": {},
   "outputs": [
    {
     "data": {
      "text/plain": [
       "3"
      ]
     },
     "execution_count": 86,
     "metadata": {},
     "output_type": "execute_result"
    }
   ],
   "source": [
    "y(x=1)(n=2)"
   ]
  },
  {
   "cell_type": "code",
   "execution_count": 87,
   "metadata": {},
   "outputs": [
    {
     "data": {
      "text/plain": [
       "3"
      ]
     },
     "execution_count": 87,
     "metadata": {},
     "output_type": "execute_result"
    }
   ],
   "source": [
    "y(1)(2)"
   ]
  },
  {
   "cell_type": "code",
   "execution_count": 71,
   "metadata": {},
   "outputs": [
    {
     "ename": "AttributeError",
     "evalue": "'function' object has no attribute 'x'",
     "output_type": "error",
     "traceback": [
      "\u001b[1;31m---------------------------------------------------------------------------\u001b[0m",
      "\u001b[1;31mAttributeError\u001b[0m                            Traceback (most recent call last)",
      "\u001b[1;32m<ipython-input-71-2910bf836d89>\u001b[0m in \u001b[0;36m<module>\u001b[1;34m\u001b[0m\n\u001b[1;32m----> 1\u001b[1;33m \u001b[0my\u001b[0m\u001b[1;33m.\u001b[0m\u001b[0mx\u001b[0m\u001b[1;33m\u001b[0m\u001b[1;33m\u001b[0m\u001b[0m\n\u001b[0m",
      "\u001b[1;31mAttributeError\u001b[0m: 'function' object has no attribute 'x'"
     ]
    }
   ],
   "source": [
    "y.x"
   ]
  },
  {
   "cell_type": "code",
   "execution_count": 88,
   "metadata": {},
   "outputs": [
    {
     "data": {
      "text/plain": [
       "<function __main__.y.<locals>.z(n)>"
      ]
     },
     "execution_count": 88,
     "metadata": {},
     "output_type": "execute_result"
    }
   ],
   "source": [
    "# 바깥함수는 안쪽함수객체를 return\n",
    "two_add = y(2)\n",
    "two_add"
   ]
  },
  {
   "cell_type": "code",
   "execution_count": 89,
   "metadata": {},
   "outputs": [
    {
     "data": {
      "text/plain": [
       "5"
      ]
     },
     "execution_count": 89,
     "metadata": {},
     "output_type": "execute_result"
    }
   ],
   "source": [
    "# 안쪽함수객체에다가 ()를 이용해서 안쪽함수를 호출한다\n",
    "two_add(3) # y(2) (3) 과 동일"
   ]
  },
  {
   "cell_type": "markdown",
   "metadata": {},
   "source": [
    "## Closure기법\n",
    "중첩함수처럼,   \n",
    "* 바깥함수에서 **안쪽함수의 객체(lambda함수식)를 return**하여 괄호()()의 chaining을 만든다.\n",
    "* 안쪽 lambda함수식에서는 바깥함수에서 받은 인자와 같이 연산한다.\n",
    "  \n",
    "  \n",
    "my) closure기법을 사용하면, 바깥함수() 안쪽함수()의 2개 인자를 받아야한다.  \n",
    "1. 바깥쪽 인자를 원하는 것을 줄 수 있다.\n",
    "2. 그 고정 상태에서 바깥쪽인자를 사용한 안쪽함수를 lambda식으로 설계할 수 있다.\n",
    "3. 바깥쪽 인자 고정상태를 하나의 식별자로 할당한다.\n",
    "4. 객체( )형식으로 2번째인 안쪽인자를 입력한다"
   ]
  },
  {
   "cell_type": "code",
   "execution_count": 176,
   "metadata": {},
   "outputs": [],
   "source": [
    "# 중첩식처럼 바깥함수 + lambda로 설계한다.\n",
    "def y(x):\n",
    "    return lambda y: y+x"
   ]
  },
  {
   "cell_type": "code",
   "execution_count": 177,
   "metadata": {},
   "outputs": [
    {
     "data": {
      "text/plain": [
       "<function __main__.y.<locals>.<lambda>(y)>"
      ]
     },
     "execution_count": 177,
     "metadata": {},
     "output_type": "execute_result"
    }
   ],
   "source": [
    "# 바깥쪽 인자를 먼저 고정시킬 수 있다.\n",
    "y(2)"
   ]
  },
  {
   "cell_type": "code",
   "execution_count": 178,
   "metadata": {},
   "outputs": [],
   "source": [
    "# 바깥쪽인자가 고정된 상태에서 함수객체를 식별자에 할당한다.\n",
    "# 이 식별자는 () 형식으로 2번째 인자를 대입할 수 있다.\n",
    "my_lambda = y(2)"
   ]
  },
  {
   "cell_type": "code",
   "execution_count": null,
   "metadata": {},
   "outputs": [],
   "source": []
  },
  {
   "cell_type": "code",
   "execution_count": 163,
   "metadata": {},
   "outputs": [
    {
     "data": {
      "text/plain": [
       "5"
      ]
     },
     "execution_count": 163,
     "metadata": {},
     "output_type": "execute_result"
    }
   ],
   "source": [
    "# 안쪽인자도 원하는대로 줄 수 있다.\n",
    "y(2)(3)"
   ]
  },
  {
   "cell_type": "code",
   "execution_count": 179,
   "metadata": {},
   "outputs": [
    {
     "data": {
      "text/plain": [
       "5"
      ]
     },
     "execution_count": 179,
     "metadata": {},
     "output_type": "execute_result"
    }
   ],
   "source": [
    "# 바깥쪽 인자가 고정된 상태에서, 자유롭게 안쪽인자를 입력할 수 있다.\n",
    "my_lambda(3)"
   ]
  },
  {
   "cell_type": "code",
   "execution_count": 180,
   "metadata": {},
   "outputs": [
    {
     "data": {
      "text/plain": [
       "7"
      ]
     },
     "execution_count": 180,
     "metadata": {},
     "output_type": "execute_result"
    }
   ],
   "source": [
    "my_lambda(5)"
   ]
  },
  {
   "cell_type": "markdown",
   "metadata": {},
   "source": [
    "## 참고) 자기자신의 객체를 반환하는 함수\n",
    "* func() -> 계산 + 객체반환\n",
    "* func()() -> 계산 + 객체반환 () = 계산 + 계산 + 객체반환\n",
    "* ..."
   ]
  },
  {
   "cell_type": "code",
   "execution_count": 93,
   "metadata": {},
   "outputs": [],
   "source": [
    "def y():\n",
    "    print('호출 -> 이제 자기자신반환')\n",
    "    return y"
   ]
  },
  {
   "cell_type": "code",
   "execution_count": 94,
   "metadata": {},
   "outputs": [
    {
     "name": "stdout",
     "output_type": "stream",
     "text": [
      "호출 -> 이제 자기자신반환\n"
     ]
    },
    {
     "data": {
      "text/plain": [
       "<function __main__.y()>"
      ]
     },
     "execution_count": 94,
     "metadata": {},
     "output_type": "execute_result"
    }
   ],
   "source": [
    "y()"
   ]
  },
  {
   "cell_type": "code",
   "execution_count": 95,
   "metadata": {},
   "outputs": [
    {
     "name": "stdout",
     "output_type": "stream",
     "text": [
      "호출 -> 이제 자기자신반환\n",
      "호출 -> 이제 자기자신반환\n"
     ]
    },
    {
     "data": {
      "text/plain": [
       "<function __main__.y()>"
      ]
     },
     "execution_count": 95,
     "metadata": {},
     "output_type": "execute_result"
    }
   ],
   "source": [
    "y()()"
   ]
  },
  {
   "cell_type": "code",
   "execution_count": 96,
   "metadata": {},
   "outputs": [
    {
     "name": "stdout",
     "output_type": "stream",
     "text": [
      "호출 -> 이제 자기자신반환\n",
      "호출 -> 이제 자기자신반환\n",
      "호출 -> 이제 자기자신반환\n",
      "호출 -> 이제 자기자신반환\n"
     ]
    },
    {
     "data": {
      "text/plain": [
       "<function __main__.y()>"
      ]
     },
     "execution_count": 96,
     "metadata": {},
     "output_type": "execute_result"
    }
   ],
   "source": [
    "# 괄호수 n =  n번호출후 객체반환\n",
    "y()()()()"
   ]
  },
  {
   "cell_type": "code",
   "execution_count": null,
   "metadata": {},
   "outputs": [],
   "source": []
  },
  {
   "cell_type": "markdown",
   "metadata": {},
   "source": [
    "## non-local과 global\n",
    "`nonlocal x`는 직전단계의 x와 sync시킨다.  \n",
    "\n",
    "  \n",
    "  \n",
    "**global주의점** : 함수의 parameter에 정의된 값은 global로 sync못시킨다.  \n",
    "**nonlocal주의점** : 한단계전 parameter에 정의된 값은 nonlocal로 sync못시킨다.\n",
    "  - my) parameter의 default로 정의된 값 = heap영역이라 못건듬\n",
    "  \n",
    "  \n",
    "**nonlocal** : 지역변수가 아님을 선언\n",
    " - nonlocal 이 사용된 함수 바로 **한단계 바깥쪽에 위치한 변수와 sync**을 할 수 있다."
   ]
  },
  {
   "cell_type": "markdown",
   "metadata": {},
   "source": [
    "### nonlocal은 한단계전 함수의 식별자를 sync시켜준"
   ]
  },
  {
   "cell_type": "code",
   "execution_count": 152,
   "metadata": {},
   "outputs": [],
   "source": [
    "# nonlocal은 한단계전 함수의 식별자를 sync시켜준다.\n",
    "\n",
    "x = 20 # 전역변수 (global variable)\n",
    "\n",
    "def f():\n",
    "    x = 40 # 직전의 local변수\n",
    "    def g():\n",
    "        nonlocal x\n",
    "        x = 80\n",
    "        \n",
    "    g() #g를 리턴하지말고 바깥함수에서 안쪽함수를 실행만\n",
    "    print(x)"
   ]
  },
  {
   "cell_type": "code",
   "execution_count": 154,
   "metadata": {},
   "outputs": [
    {
     "name": "stdout",
     "output_type": "stream",
     "text": [
      "80\n"
     ]
    }
   ],
   "source": [
    "# 지역변수 40 -> 안쪽의 함수가 sync시켜서 80으로 만들었다.\n",
    "f()"
   ]
  },
  {
   "cell_type": "code",
   "execution_count": 155,
   "metadata": {},
   "outputs": [
    {
     "name": "stdout",
     "output_type": "stream",
     "text": [
      "20\n"
     ]
    }
   ],
   "source": [
    "# 전역변수는 달라진게 없다.\n",
    "print(x)"
   ]
  },
  {
   "cell_type": "markdown",
   "metadata": {},
   "source": [
    "### global주의점 : 함수의 parameter에 정의된 값은 global로 sync못시킨다."
   ]
  },
  {
   "cell_type": "code",
   "execution_count": 156,
   "metadata": {},
   "outputs": [
    {
     "ename": "SyntaxError",
     "evalue": "name 'x' is parameter and global (cell_name, line 9)",
     "output_type": "error",
     "traceback": [
      "\u001b[1;36m  File \u001b[1;32m\"cell_name\"\u001b[1;36m, line \u001b[1;32m9\u001b[0m\n\u001b[1;31mSyntaxError\u001b[0m\u001b[1;31m:\u001b[0m name 'x' is parameter and global\n"
     ]
    }
   ],
   "source": [
    "# 함수의 parameter에 정의된 값은 global로 sync못시킨다\n",
    "x=3\n",
    "\n",
    "def y(x=2):\n",
    "    #parameter와 동일한 식별자는 global로 못땡겨온다.\n",
    "    global x\n",
    "    print(x)"
   ]
  },
  {
   "cell_type": "markdown",
   "metadata": {},
   "source": [
    "### nonlocal 이 사용된 함수 바로 한단계 바깥쪽에 위치한 변수와 sync을 할 수 있다\n",
    "global : 20  \n",
    "바깥쪽 : 40  \n",
    "안쪽 : 80  \n",
    "이라고 초기화하자"
   ]
  },
  {
   "cell_type": "code",
   "execution_count": 157,
   "metadata": {},
   "outputs": [],
   "source": [
    "# 한단계전 parameter에 정의된 값은 nonlocal로 sync못시킨다.\n",
    "x = 3\n",
    "def y(x=2):\n",
    "    def z():\n",
    "        nonlocal x\n",
    "        x = 1\n",
    "        return x\n",
    "    print(x)"
   ]
  },
  {
   "cell_type": "code",
   "execution_count": 158,
   "metadata": {},
   "outputs": [
    {
     "name": "stdout",
     "output_type": "stream",
     "text": [
      "2\n"
     ]
    }
   ],
   "source": [
    "y()"
   ]
  },
  {
   "cell_type": "markdown",
   "metadata": {},
   "source": [
    "### global과 nonlocal예제  \n",
    "바깥함수에서 안쪽함수 호출 + print로 test한다\n",
    "* global : 함수내부에서 전역변수를 가져와 binding(sync)\n",
    "* nonlocal : 중첩함수의 안쪽함수에서, 직전단계의 local변수를 가져와 binding\n"
   ]
  },
  {
   "cell_type": "code",
   "execution_count": 160,
   "metadata": {},
   "outputs": [
    {
     "name": "stdout",
     "output_type": "stream",
     "text": [
      "[Level 2] a = 333\n",
      "[Level 1] a = 777\n",
      "[Level 0] x = 999\n"
     ]
    }
   ],
   "source": [
    "x = 50\n",
    "\n",
    "def f():\n",
    "    a = 777\n",
    "    def g():\n",
    "        a = 100\n",
    "        def h():\n",
    "            global x # global이니까, 함수들의 바깥 x =50 -> 999로 바뀔 것이다.\n",
    "            x = 999\n",
    "            nonlocal a # 직전단계니까, 가장바깥 777이 아니라 중간단계 100의 a이 바뀔 것이다.\n",
    "            a = 333     # 중간단계가 100에서 333으로 바뀔 것\n",
    "        h()\n",
    "        print(\"[Level 2] a = {}\".format(a))\n",
    "    g()\n",
    "    print(\"[Level 1] a = {}\".format(a))\n",
    "\n",
    "f()\n",
    "print(\"[Level 0] x = {}\".format(x))"
   ]
  },
  {
   "cell_type": "markdown",
   "metadata": {},
   "source": [
    "## pdb패키지( python debugging)\n",
    "\n",
    "* python에서의 debugging 기법\n",
    "* python 3.7버전부터는 breakpoint 함수 제공\n",
    "  \n",
    "함수를 선언할 때, 내부에서 **`import pdb`한 뒤, pdb.set_trace()** 넣어준다.  \n",
    "에러가 날 때, 각 종 명령어를 입력하여 디버깅할 수 있다.\n",
    "1. h = pdb 명령어 도움말\n",
    "2. l = 소스코드 다 보여주기\n",
    "3. c = continue로서 다음줄로 넘어간다.\n",
    "4. p = 식별자들 print\n",
    "5. q = 종료\n"
   ]
  },
  {
   "cell_type": "code",
   "execution_count": 171,
   "metadata": {},
   "outputs": [],
   "source": [
    "# k를 할당하지 않고, 바로 누적합으로 사용하는 에러 유발\n",
    "def z():\n",
    "    import pdb;   pdb.set_trace() # 여기에 걸릴 때, 디버깅할 명령어 입력\n",
    "    k += 1\n",
    "    printk(k)"
   ]
  },
  {
   "cell_type": "code",
   "execution_count": 172,
   "metadata": {},
   "outputs": [
    {
     "name": "stdout",
     "output_type": "stream",
     "text": [
      "> <ipython-input-171-49db46f3c759>(4)z()\n",
      "-> k += 1\n",
      "(Pdb) h\n",
      "\n",
      "Documented commands (type help <topic>):\n",
      "========================================\n",
      "EOF    c          d        h         list      q        rv       undisplay\n",
      "a      cl         debug    help      ll        quit     s        unt      \n",
      "alias  clear      disable  ignore    longlist  r        source   until    \n",
      "args   commands   display  interact  n         restart  step     up       \n",
      "b      condition  down     j         next      return   tbreak   w        \n",
      "break  cont       enable   jump      p         retval   u        whatis   \n",
      "bt     continue   exit     l         pp        run      unalias  where    \n",
      "\n",
      "Miscellaneous help topics:\n",
      "==========================\n",
      "exec  pdb\n",
      "\n",
      "(Pdb) l\n",
      "  1  \t# k를 할당하지 않고, 바로 누적합으로 사용하는 에러 유발\n",
      "  2  \tdef z():\n",
      "  3  \t    import pdb;   pdb.set_trace() # 여기에 걸릴 때, 디버깅할 명령어 입력\n",
      "  4  ->\t    k += 1\n",
      "  5  \t    printk(k)\n",
      "[EOF]\n",
      "(Pdb) p\n",
      "*** SyntaxError: unexpected EOF while parsing\n",
      "(Pdb) c\n"
     ]
    },
    {
     "ename": "UnboundLocalError",
     "evalue": "local variable 'k' referenced before assignment",
     "output_type": "error",
     "traceback": [
      "\u001b[1;31m---------------------------------------------------------------------------\u001b[0m",
      "\u001b[1;31mUnboundLocalError\u001b[0m                         Traceback (most recent call last)",
      "\u001b[1;32m<ipython-input-172-92793006055d>\u001b[0m in \u001b[0;36m<module>\u001b[1;34m\u001b[0m\n\u001b[1;32m----> 1\u001b[1;33m \u001b[0mz\u001b[0m\u001b[1;33m(\u001b[0m\u001b[1;33m)\u001b[0m\u001b[1;33m\u001b[0m\u001b[1;33m\u001b[0m\u001b[0m\n\u001b[0m",
      "\u001b[1;32m<ipython-input-171-49db46f3c759>\u001b[0m in \u001b[0;36mz\u001b[1;34m()\u001b[0m\n\u001b[0;32m      2\u001b[0m \u001b[1;32mdef\u001b[0m \u001b[0mz\u001b[0m\u001b[1;33m(\u001b[0m\u001b[1;33m)\u001b[0m\u001b[1;33m:\u001b[0m\u001b[1;33m\u001b[0m\u001b[1;33m\u001b[0m\u001b[0m\n\u001b[0;32m      3\u001b[0m     \u001b[1;32mimport\u001b[0m \u001b[0mpdb\u001b[0m\u001b[1;33m;\u001b[0m   \u001b[0mpdb\u001b[0m\u001b[1;33m.\u001b[0m\u001b[0mset_trace\u001b[0m\u001b[1;33m(\u001b[0m\u001b[1;33m)\u001b[0m \u001b[1;31m# 여기에 걸릴 때, 디버깅할 명령어 입력\u001b[0m\u001b[1;33m\u001b[0m\u001b[1;33m\u001b[0m\u001b[0m\n\u001b[1;32m----> 4\u001b[1;33m     \u001b[0mk\u001b[0m \u001b[1;33m+=\u001b[0m \u001b[1;36m1\u001b[0m\u001b[1;33m\u001b[0m\u001b[1;33m\u001b[0m\u001b[0m\n\u001b[0m\u001b[0;32m      5\u001b[0m     \u001b[0mprintk\u001b[0m\u001b[1;33m(\u001b[0m\u001b[0mk\u001b[0m\u001b[1;33m)\u001b[0m\u001b[1;33m\u001b[0m\u001b[1;33m\u001b[0m\u001b[0m\n",
      "\u001b[1;31mUnboundLocalError\u001b[0m: local variable 'k' referenced before assignment"
     ]
    }
   ],
   "source": [
    "z()"
   ]
  },
  {
   "cell_type": "markdown",
   "metadata": {},
   "source": [
    "### 3.7부터는 breakpoint()함수\n",
    "\n",
    "나는 3.6이라 안된다."
   ]
  },
  {
   "cell_type": "code",
   "execution_count": 173,
   "metadata": {},
   "outputs": [],
   "source": [
    "def y():\n",
    "    breakpoint()\n",
    "    x=x+1\n",
    "    print(x)"
   ]
  },
  {
   "cell_type": "code",
   "execution_count": 174,
   "metadata": {},
   "outputs": [
    {
     "ename": "NameError",
     "evalue": "name 'breakpoint' is not defined",
     "output_type": "error",
     "traceback": [
      "\u001b[1;31m---------------------------------------------------------------------------\u001b[0m",
      "\u001b[1;31mNameError\u001b[0m                                 Traceback (most recent call last)",
      "\u001b[1;32m<ipython-input-174-6fa9c8f97a35>\u001b[0m in \u001b[0;36m<module>\u001b[1;34m\u001b[0m\n\u001b[1;32m----> 1\u001b[1;33m \u001b[0my\u001b[0m\u001b[1;33m(\u001b[0m\u001b[1;33m)\u001b[0m\u001b[1;33m\u001b[0m\u001b[1;33m\u001b[0m\u001b[0m\n\u001b[0m",
      "\u001b[1;32m<ipython-input-173-58f39af2a625>\u001b[0m in \u001b[0;36my\u001b[1;34m()\u001b[0m\n\u001b[0;32m      1\u001b[0m \u001b[1;32mdef\u001b[0m \u001b[0my\u001b[0m\u001b[1;33m(\u001b[0m\u001b[1;33m)\u001b[0m\u001b[1;33m:\u001b[0m\u001b[1;33m\u001b[0m\u001b[1;33m\u001b[0m\u001b[0m\n\u001b[1;32m----> 2\u001b[1;33m     \u001b[0mbreakpoint\u001b[0m\u001b[1;33m(\u001b[0m\u001b[1;33m)\u001b[0m\u001b[1;33m\u001b[0m\u001b[1;33m\u001b[0m\u001b[0m\n\u001b[0m\u001b[0;32m      3\u001b[0m     \u001b[0mx\u001b[0m\u001b[1;33m=\u001b[0m\u001b[0mx\u001b[0m\u001b[1;33m+\u001b[0m\u001b[1;36m1\u001b[0m\u001b[1;33m\u001b[0m\u001b[1;33m\u001b[0m\u001b[0m\n\u001b[0;32m      4\u001b[0m     \u001b[0mprint\u001b[0m\u001b[1;33m(\u001b[0m\u001b[0mx\u001b[0m\u001b[1;33m)\u001b[0m\u001b[1;33m\u001b[0m\u001b[1;33m\u001b[0m\u001b[0m\n",
      "\u001b[1;31mNameError\u001b[0m: name 'breakpoint' is not defined"
     ]
    }
   ],
   "source": [
    "y()"
   ]
  },
  {
   "cell_type": "code",
   "execution_count": null,
   "metadata": {},
   "outputs": [],
   "source": []
  },
  {
   "cell_type": "code",
   "execution_count": null,
   "metadata": {},
   "outputs": [],
   "source": []
  }
 ],
 "metadata": {
  "kernelspec": {
   "display_name": "Python 3",
   "language": "python",
   "name": "python3"
  },
  "language_info": {
   "codemirror_mode": {
    "name": "ipython",
    "version": 3
   },
   "file_extension": ".py",
   "mimetype": "text/x-python",
   "name": "python",
   "nbconvert_exporter": "python",
   "pygments_lexer": "ipython3",
   "version": "3.6.8"
  },
  "toc": {
   "base_numbering": 1,
   "nav_menu": {},
   "number_sections": true,
   "sideBar": true,
   "skip_h1_title": false,
   "title_cell": "Table of Contents",
   "title_sidebar": "Contents",
   "toc_cell": false,
   "toc_position": {},
   "toc_section_display": true,
   "toc_window_display": true
  }
 },
 "nbformat": 4,
 "nbformat_minor": 2
}

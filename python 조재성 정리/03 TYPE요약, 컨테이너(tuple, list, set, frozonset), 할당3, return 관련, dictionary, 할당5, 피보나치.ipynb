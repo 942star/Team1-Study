{
 "cells": [
  {
   "cell_type": "markdown",
   "metadata": {},
   "source": [
    "## Type 전체 요약\n",
    "|type|literal|construct|특징|\n",
    "|:----:|-------|---------|----|\n",
    "|int|0|int()|Numeric|\\n\",\n",
    "|float|0.|float()|Numeric|\\n\",\n",
    "|complex|0j|complex()|Numeric|\\n\",\n",
    "|bool|True, False|bool()|Numeric|\\n\",\n",
    "|list|[]|list()|Container / Mutable / heterogeneous / sequence / iterable|\\n\",\n",
    "|tuple|()|tuple()|Container / Immutable / heterogeneous / sequence / iterable|\\n\",\n",
    "|set|{0,}|set()|Container / Mutable / heterogeneous / non-sequence / iterable|\\n\",\n",
    "|frozenset|None|frozenset()|Container / Immutable / heterogeneous/ non-sequence / iterable|\\n\",\"|dict|{}|dict()|Container / hash/mapping / Mutable / sequence / iterable - dict view|\\n\",\n",
    "|range|None|range()|Container / Immutable / Homogeneous(flat container) / sequence / iterable|\\n\",\n",
    "|str|'', \\\"\\\", ''''''|str()|Container / Mutable / Homogeneous(flat container) / sequence / iterable|\\n\",\n",
    "|bytes|b'', b\\\"\\\", b''''''|bytes()|Container / Immutable / Homogeneous(flat container) / sequence / iterable|\\n\",\n",
    "|bytearray|None|bytearray()|Container / Mutable / Homogeneous(flat container) / sequence / iterable|  \n",
    "\n",
    "  \n",
    "  \\+ dictionary"
   ]
  },
  {
   "cell_type": "markdown",
   "metadata": {},
   "source": [
    "## Compound = Container = Collection\n",
    "기본적인 데이터 타입을 조합하여, 여러 개의 값을 하나의 단위로 묶어서 다루는 데이터 타입\n",
    "논리적으로 이들은 데이터 타입인 동시에 데이터의 구조(흔히 말하는 자료 구조)의 한 종류. 보통 다른 데이터들을 원 소로 하는 집합처럼 생각되는 타입들\n",
    "* Sequence\n",
    "    - list : 순서가 있는 원소들의 묶음\n",
    "    - tuple : 순서가 있는 원소들의 묶음. 리스트와 혼동하기 쉬운데 단순히 하나 이상의 값을 묶어서 하나로 취급하는 용도로 사용\n",
    "    - range\n",
    "* Lookup\n",
    "    - mapping\n",
    "    - dict : 그룹내의 고유한 이름인 키와 그 키에 대응하는 값으로 이루어지는 키값 쌍(key-value pair)들의 집합.\n",
    "    - set : 순서가 없는 고유한 원소들의 집합.\n",
    "* None\n",
    "    존재하지 않음을 표현하기 위해서 “아무것도 아닌 것”을 나타내는 값  \n",
    "    어떤 값이 없는 상태를 가리킬만한 표현이 마땅히 없기 때문에 “아무것도 없다”는 것으로 약속해놓은 어떤 값을 하나 만들어 놓은 것  \n",
    "    None 이라고 대문자로 시작하도록 쓰며, 실제 출력해보아도 아무것도 출력되지 않음.  \n",
    "    값이 없지만 False 나 0 과는 다르기 때문에 어떤 값으로 초기화하기 어려운 경우에 쓰기도 함"
   ]
  },
  {
   "cell_type": "markdown",
   "metadata": {},
   "source": [
    "### tuple\n",
    "list의 immutable"
   ]
  },
  {
   "cell_type": "code",
   "execution_count": 2,
   "metadata": {},
   "outputs": [
    {
     "data": {
      "text/plain": [
       "(1, 2, 3)"
      ]
     },
     "execution_count": 2,
     "metadata": {},
     "output_type": "execute_result"
    }
   ],
   "source": [
    "# tuple의 literal : ( ) / set : { }\n",
    "a = (1,2,3)\n",
    "a"
   ]
  },
  {
   "cell_type": "markdown",
   "metadata": {},
   "source": [
    "#### tuple은 인자가 1개여도 (1 , ) 공백의 2개부터 시작하자"
   ]
  },
  {
   "cell_type": "code",
   "execution_count": 4,
   "metadata": {},
   "outputs": [
    {
     "name": "stdout",
     "output_type": "stream",
     "text": [
      "1\n"
     ]
    },
    {
     "data": {
      "text/plain": [
       "int"
      ]
     },
     "execution_count": 4,
     "metadata": {},
     "output_type": "execute_result"
    }
   ],
   "source": [
    "# tuple의 인자가 1개일 경우, int형으로 인식한다\n",
    "a = (1)\n",
    "\n",
    "print(a)\n",
    "type(a)"
   ]
  },
  {
   "cell_type": "code",
   "execution_count": 6,
   "metadata": {},
   "outputs": [
    {
     "name": "stdout",
     "output_type": "stream",
     "text": [
      "(1,)\n"
     ]
    },
    {
     "data": {
      "text/plain": [
       "tuple"
      ]
     },
     "execution_count": 6,
     "metadata": {},
     "output_type": "execute_result"
    }
   ],
   "source": [
    "# tuple의 literal은 기본적으로 콤마(,)를 가지고 있어야한다\n",
    "a = (1, )\n",
    "\n",
    "print(a)\n",
    "type(a)"
   ]
  },
  {
   "cell_type": "markdown",
   "metadata": {},
   "source": [
    "#### 괄호가 없어도, 콤마를 가지고 있으면 tuple"
   ]
  },
  {
   "cell_type": "code",
   "execution_count": 7,
   "metadata": {},
   "outputs": [
    {
     "name": "stdout",
     "output_type": "stream",
     "text": [
      "(1,)\n"
     ]
    },
    {
     "data": {
      "text/plain": [
       "tuple"
      ]
     },
     "execution_count": 7,
     "metadata": {},
     "output_type": "execute_result"
    }
   ],
   "source": [
    "a = 1,\n",
    "\n",
    "print(a)\n",
    "type(a)"
   ]
  },
  {
   "cell_type": "markdown",
   "metadata": {},
   "source": [
    "#### 동시할당 VS 튜플의 literal"
   ]
  },
  {
   "cell_type": "code",
   "execution_count": null,
   "metadata": {},
   "outputs": [],
   "source": []
  },
  {
   "cell_type": "code",
   "execution_count": 8,
   "metadata": {},
   "outputs": [
    {
     "name": "stdout",
     "output_type": "stream",
     "text": [
      "1 2 (1, 2)\n"
     ]
    }
   ],
   "source": [
    "# 동시에 할당할 땐, 식별자 개수 = 값 개수\n",
    "a, b = 1, 2\n",
    "\n",
    "# 튜플의 괄호를 생략한 콤마literal에서는,  식별자1개 < 값2개이상\n",
    "c = 1,2\n",
    "\n",
    "print(a, b, c)"
   ]
  },
  {
   "cell_type": "markdown",
   "metadata": {},
   "source": [
    "#### 동시할당은 개수가 틀리면 대입이 안된다"
   ]
  },
  {
   "cell_type": "code",
   "execution_count": 9,
   "metadata": {},
   "outputs": [
    {
     "ename": "ValueError",
     "evalue": "too many values to unpack (expected 2)",
     "output_type": "error",
     "traceback": [
      "\u001b[1;31m---------------------------------------------------------------------------\u001b[0m",
      "\u001b[1;31mValueError\u001b[0m                                Traceback (most recent call last)",
      "\u001b[1;32m<ipython-input-9-12fdc50e97e1>\u001b[0m in \u001b[0;36m<module>\u001b[1;34m\u001b[0m\n\u001b[0;32m      1\u001b[0m \u001b[1;31m# 동시할당은 개수가 틀리면 대입이 안된다\u001b[0m\u001b[1;33m\u001b[0m\u001b[1;33m\u001b[0m\u001b[1;33m\u001b[0m\u001b[0m\n\u001b[1;32m----> 2\u001b[1;33m \u001b[0ma\u001b[0m\u001b[1;33m,\u001b[0m \u001b[0mb\u001b[0m \u001b[1;33m=\u001b[0m \u001b[1;36m1\u001b[0m\u001b[1;33m,\u001b[0m \u001b[1;36m2\u001b[0m\u001b[1;33m,\u001b[0m \u001b[1;36m3\u001b[0m\u001b[1;33m\u001b[0m\u001b[1;33m\u001b[0m\u001b[0m\n\u001b[0m",
      "\u001b[1;31mValueError\u001b[0m: too many values to unpack (expected 2)"
     ]
    }
   ],
   "source": [
    "# 동시할당은 개수가 틀리면 대입이 안된다\n",
    "a, b = 1, 2, 3"
   ]
  },
  {
   "cell_type": "markdown",
   "metadata": {},
   "source": [
    "#### 나머지할당 : 동시할당에서 식별자<-> 값 개수가 다른데도 성립하는 경우\n",
    "동시할당에서, 식별자 앞에 `*`을 붙히면, **나머지 값들**을  `*식별자`안에 리스트로 가져온다.  \n",
    "  \n",
    "  \n",
    "만약 **나머지가 없는 경우에는 오류가 난다.**  \n",
    "ex> *a = 1,2,3,4  \n",
    "\n",
    "식별자자리가 공백이어도 (,)콤마 뒤에 있다면,  나머지의 개념이 성립된다.\n",
    "이 때는, 오류가 안난다.\n",
    "ex> *a`,` = 1,2,3,4"
   ]
  },
  {
   "cell_type": "code",
   "execution_count": 14,
   "metadata": {},
   "outputs": [
    {
     "ename": "SyntaxError",
     "evalue": "starred assignment target must be in a list or tuple (cell_name, line 4)",
     "output_type": "error",
     "traceback": [
      "\u001b[1;36m  File \u001b[1;32m\"cell_name\"\u001b[1;36m, line \u001b[1;32m4\u001b[0m\n\u001b[1;31mSyntaxError\u001b[0m\u001b[1;31m:\u001b[0m starred assignment target must be in a list or tuple\n"
     ]
    }
   ],
   "source": [
    "*a = 1"
   ]
  },
  {
   "cell_type": "code",
   "execution_count": 12,
   "metadata": {},
   "outputs": [
    {
     "name": "stdout",
     "output_type": "stream",
     "text": [
      "1\n",
      "[2, 3]\n"
     ]
    }
   ],
   "source": [
    "# a에 1을 할당하고,  나머지 2,3을 *b에\n",
    "a, *b = 1, 2, 3\n",
    "\n",
    "print(a)\n",
    "print(b)"
   ]
  },
  {
   "cell_type": "code",
   "execution_count": 15,
   "metadata": {},
   "outputs": [
    {
     "name": "stdout",
     "output_type": "stream",
     "text": [
      "1\n",
      "[2, 3, 4, 5]\n",
      "6\n"
     ]
    }
   ],
   "source": [
    "# 중간에 *식별자를 쓰면, 앞/뒤는 확실히 1개씩 할당하지만, 가운데 나머지들을 리스트로 가져온다\n",
    "# a와 c는 개수가 확실하므로 1개씩 할당된다.\n",
    "# 가운데 남는 것들이 b의 리스트 원소로 간다\n",
    "a, *b, c = 1,2,3,4,5,6\n",
    "\n",
    "print(a)\n",
    "print(b)\n",
    "print(c)"
   ]
  },
  {
   "cell_type": "code",
   "execution_count": 16,
   "metadata": {},
   "outputs": [
    {
     "ename": "SyntaxError",
     "evalue": "starred assignment target must be in a list or tuple (cell_name, line 4)",
     "output_type": "error",
     "traceback": [
      "\u001b[1;36m  File \u001b[1;32m\"cell_name\"\u001b[1;36m, line \u001b[1;32m4\u001b[0m\n\u001b[1;31mSyntaxError\u001b[0m\u001b[1;31m:\u001b[0m starred assignment target must be in a list or tuple\n"
     ]
    }
   ],
   "source": [
    "# 다른 식별자에 대입한 나머지가 없으므로, 오류가 난다.\n",
    "*a = 1,2,3,4"
   ]
  },
  {
   "cell_type": "code",
   "execution_count": 17,
   "metadata": {},
   "outputs": [
    {
     "data": {
      "text/plain": [
       "[1, 2, 3, 4]"
      ]
     },
     "execution_count": 17,
     "metadata": {},
     "output_type": "execute_result"
    }
   ],
   "source": [
    "# 식별자자리가 공백이어도 (,)콤마 뒤에 있다면,  나머지의 개념이 성립된다\n",
    "# 이 때는, 오류가 안난다.\n",
    "*a, = 1,2,3,4\n",
    "\n",
    "a"
   ]
  },
  {
   "cell_type": "markdown",
   "metadata": {},
   "source": [
    "#### tuple <-> 리스트로 변환"
   ]
  },
  {
   "cell_type": "code",
   "execution_count": 18,
   "metadata": {},
   "outputs": [
    {
     "data": {
      "text/plain": [
       "[1, 2, 3, 4]"
      ]
     },
     "execution_count": 18,
     "metadata": {},
     "output_type": "execute_result"
    }
   ],
   "source": [
    "list(a)"
   ]
  },
  {
   "cell_type": "code",
   "execution_count": 19,
   "metadata": {},
   "outputs": [
    {
     "data": {
      "text/plain": [
       "(1, 2, 3, 4)"
      ]
     },
     "execution_count": 19,
     "metadata": {},
     "output_type": "execute_result"
    }
   ],
   "source": [
    "tuple(a)"
   ]
  },
  {
   "cell_type": "markdown",
   "metadata": {},
   "source": [
    "#### 동시할당을 이용한 swapping\n",
    "`a, b = b, a`  in python 동시할당 swap  \n",
    "\n",
    "* 동시할당을 사용하지 않으면, 일반적인 `교환로직`을 써야한다.\n",
    "    - temp = a  \n",
    "    - a = b\n",
    "    - b = temp\n",
    "    \n",
    "* 즉, 동시할당은 나누어서 할당한다고 해서 식별자 값 교환이 안된다\n",
    "    - a = b\n",
    "    - b = a(이미 a식별자에 b값이 덮어씌워졌다)"
   ]
  },
  {
   "cell_type": "code",
   "execution_count": 21,
   "metadata": {},
   "outputs": [
    {
     "data": {
      "text/plain": [
       "[1, 2, 3, 4]"
      ]
     },
     "execution_count": 21,
     "metadata": {},
     "output_type": "execute_result"
    }
   ],
   "source": [
    "a"
   ]
  },
  {
   "cell_type": "code",
   "execution_count": 22,
   "metadata": {},
   "outputs": [
    {
     "data": {
      "text/plain": [
       "[2, 3, 4, 5]"
      ]
     },
     "execution_count": 22,
     "metadata": {},
     "output_type": "execute_result"
    }
   ],
   "source": [
    "b"
   ]
  },
  {
   "cell_type": "code",
   "execution_count": 23,
   "metadata": {},
   "outputs": [],
   "source": [
    "# 동시할당을 이용한 swapping\n",
    "a, b = b, a"
   ]
  },
  {
   "cell_type": "code",
   "execution_count": 24,
   "metadata": {},
   "outputs": [
    {
     "name": "stdout",
     "output_type": "stream",
     "text": [
      "[2, 3, 4, 5]\n"
     ]
    }
   ],
   "source": [
    "print(a)"
   ]
  },
  {
   "cell_type": "code",
   "execution_count": 25,
   "metadata": {},
   "outputs": [
    {
     "name": "stdout",
     "output_type": "stream",
     "text": [
      "[1, 2, 3, 4]\n"
     ]
    }
   ],
   "source": [
    "print(b)"
   ]
  },
  {
   "cell_type": "code",
   "execution_count": 26,
   "metadata": {},
   "outputs": [
    {
     "name": "stdout",
     "output_type": "stream",
     "text": [
      "[1, 2, 3, 4] [1, 2, 3, 4]\n"
     ]
    }
   ],
   "source": [
    "# swapping의 잘못된예\n",
    "a = b\n",
    "b = a\n",
    "\n",
    "print( a, b)"
   ]
  },
  {
   "cell_type": "markdown",
   "metadata": {},
   "source": [
    "#### 동시할당을 이용한 dynamic programing \n",
    "이걸 이용하여 fibonacci를 만들 수 있다."
   ]
  },
  {
   "cell_type": "code",
   "execution_count": 28,
   "metadata": {},
   "outputs": [],
   "source": [
    "# 동시할당을 이용한 dynamic programing\n",
    "*a, = 1,2,3,4\n",
    "*b, = 5,6,7,8\n",
    "\n",
    "# 리스트를 더하면 원소의 개수가 그만큼 늘어난다.\n",
    "# 동시할당을 통해, 교환 + 리스트 덧셈도 동적으로 가능하다\n",
    "a, b = b, a+b"
   ]
  },
  {
   "cell_type": "code",
   "execution_count": 29,
   "metadata": {},
   "outputs": [
    {
     "name": "stdout",
     "output_type": "stream",
     "text": [
      "[5, 6, 7, 8] [1, 2, 3, 4, 5, 6, 7, 8]\n"
     ]
    }
   ],
   "source": [
    "print( a,b )"
   ]
  },
  {
   "cell_type": "markdown",
   "metadata": {},
   "source": [
    "#### 함수의 return으로 할당\n",
    "python에서는 **return값은 무조건 1개**다!!  \n",
    "만약 return값에 (,)콤마가 들어가 있다면, tuple로서 값 1개를 반환한다"
   ]
  },
  {
   "cell_type": "code",
   "execution_count": null,
   "metadata": {},
   "outputs": [],
   "source": []
  },
  {
   "cell_type": "code",
   "execution_count": 30,
   "metadata": {},
   "outputs": [
    {
     "data": {
      "text/plain": [
       "(1, 2)"
      ]
     },
     "execution_count": 30,
     "metadata": {},
     "output_type": "execute_result"
    }
   ],
   "source": [
    "# 1과 2를 return하는 것이 아니다!!!\n",
    "# 괄호가 생략된 튜플 1개를 return한다!!!\n",
    "def func():\n",
    "    return 1, 2\n",
    "\n",
    "func()"
   ]
  },
  {
   "cell_type": "markdown",
   "metadata": {},
   "source": [
    "### 지금까지의 할당 정리\n",
    "1. 할당 : a = 1\n",
    "2. 동시할당 : a, b = 1, 2\n",
    " - swapping, dynamic programing ex> finonacci\n",
    "3. 나머지할당 : a, \\*b = 1,2,3,4"
   ]
  },
  {
   "cell_type": "markdown",
   "metadata": {},
   "source": [
    "### list\n",
    "tuple의 **mutable**버전이다.  즉, **dir()에 넣고/빼는 명령어가 있다**.  \n",
    "list 는 대표적인 hetero + seq이다.  \n",
    "tuple과 다르게 seq형으로서 index와 slice가 된다.\n",
    "  \n",
    "  \n",
    "* **넣고/빼서 변하는 mutable의 특징**\n",
    "    1. 첫번째 번지만 메모리공간에 할당되며, 변하지 않는다. 변함)\n",
    "    2. 2번째 번지부터는 넣고/뺌에 따라 메모리공간아 변한다\n",
    "    3. 파이썬은 C를 기반으로 만들어서 pointer 개념으로 이해하면 된다.\n",
    "    4. 메모리 주소를 나타내주는 앞부분을 pointer(가르키는것) 이라고 생각하자."
   ]
  },
  {
   "cell_type": "code",
   "execution_count": 33,
   "metadata": {},
   "outputs": [
    {
     "data": {
      "text/plain": [
       "[1]"
      ]
     },
     "execution_count": 33,
     "metadata": {},
     "output_type": "execute_result"
    }
   ],
   "source": [
    "# list의 literal [ ]\n",
    "a = [1]\n",
    "a"
   ]
  },
  {
   "cell_type": "markdown",
   "metadata": {},
   "source": [
    "#### tuple과 list는 마지막에 콤마(,) 붙히는 것을 습관화\n",
    "안해도 되지만, 하자... tuple과 list에서만!"
   ]
  },
  {
   "cell_type": "code",
   "execution_count": 34,
   "metadata": {},
   "outputs": [
    {
     "data": {
      "text/plain": [
       "[1]"
      ]
     },
     "execution_count": 34,
     "metadata": {},
     "output_type": "execute_result"
    }
   ],
   "source": [
    "# 튜플처럼 공백이어도 콤마로 나눠줘도 된다.\n",
    "a = [1, ]\n",
    "a"
   ]
  },
  {
   "cell_type": "code",
   "execution_count": 36,
   "metadata": {},
   "outputs": [
    {
     "name": "stdout",
     "output_type": "stream",
     "text": [
      "(1, 2) [1, 2]\n"
     ]
    }
   ],
   "source": [
    "t = (1, 2, )\n",
    "li = [1, 2, ]\n",
    "\n",
    "print( t,  li)"
   ]
  },
  {
   "cell_type": "markdown",
   "metadata": {},
   "source": [
    "#### mutable의 특징으로서 첫번째 번지를 의미하는 id()는 넣고빼도 안변함"
   ]
  },
  {
   "cell_type": "code",
   "execution_count": 37,
   "metadata": {},
   "outputs": [
    {
     "data": {
      "text/plain": [
       "1721611989192"
      ]
     },
     "execution_count": 37,
     "metadata": {},
     "output_type": "execute_result"
    }
   ],
   "source": [
    "a = [1,2,3,]\n",
    "\n",
    "# id(a)는 a리스트의 첫번째 번지의 메모리공간만 가르킨다.\n",
    "id(a)"
   ]
  },
  {
   "cell_type": "code",
   "execution_count": 38,
   "metadata": {},
   "outputs": [
    {
     "data": {
      "text/plain": [
       "1721611989192"
      ]
     },
     "execution_count": 38,
     "metadata": {},
     "output_type": "execute_result"
    }
   ],
   "source": [
    "a.append(4)\n",
    "\n",
    "id(a)"
   ]
  },
  {
   "cell_type": "code",
   "execution_count": 39,
   "metadata": {},
   "outputs": [
    {
     "data": {
      "text/plain": [
       "[1, 2, 3, 4]"
      ]
     },
     "execution_count": 39,
     "metadata": {},
     "output_type": "execute_result"
    }
   ],
   "source": [
    "# list의 값은 변해도, 첫번째 번지의 메모리공간은 안변한다\n",
    "a"
   ]
  },
  {
   "cell_type": "code",
   "execution_count": null,
   "metadata": {},
   "outputs": [],
   "source": []
  },
  {
   "cell_type": "markdown",
   "metadata": {},
   "source": [
    "#### container 4/5를 list로 바꾸는 방법\n",
    "#### 문자열을 1개씩 쪼개는 테크닉 -> list( )로 감싼다\n",
    "container(tuple, \\*, set, frozenset, range)를 리스트로 바꾸는 방법인데,  \n",
    "문자열을 1개씩 쪼개는 방법으로도 많이 쓰인다"
   ]
  },
  {
   "cell_type": "code",
   "execution_count": 31,
   "metadata": {},
   "outputs": [
    {
     "data": {
      "text/plain": [
       "['김', '석', '영', '은', ' ', '예', '쁘', '다', '.']"
      ]
     },
     "execution_count": 31,
     "metadata": {},
     "output_type": "execute_result"
    }
   ],
   "source": [
    "a = list ( '김석영은 예쁘다.')\n",
    "\n",
    "a"
   ]
  },
  {
   "cell_type": "code",
   "execution_count": 32,
   "metadata": {},
   "outputs": [
    {
     "data": {
      "text/plain": [
       "['a', 'b', 'c', 'd', 'e', 'f']"
      ]
     },
     "execution_count": 32,
     "metadata": {},
     "output_type": "execute_result"
    }
   ],
   "source": [
    "list('abcdef')"
   ]
  },
  {
   "cell_type": "markdown",
   "metadata": {},
   "source": [
    "#### append vs extend\n",
    "\n",
    "* append() : 원소를 1개 추가한다\n",
    "* extend( [] ) : **리스트**를 인자로 받아 추가한다"
   ]
  },
  {
   "cell_type": "code",
   "execution_count": 40,
   "metadata": {},
   "outputs": [
    {
     "data": {
      "text/plain": [
       "[1, 2, 3, 4]"
      ]
     },
     "execution_count": 40,
     "metadata": {},
     "output_type": "execute_result"
    }
   ],
   "source": [
    "a"
   ]
  },
  {
   "cell_type": "code",
   "execution_count": 41,
   "metadata": {},
   "outputs": [],
   "source": [
    "# append는 원소를 extend는 [ 리스트 ]를 추가해준다\n",
    "a.extend([5,6,7,])"
   ]
  },
  {
   "cell_type": "code",
   "execution_count": 42,
   "metadata": {},
   "outputs": [
    {
     "data": {
      "text/plain": [
       "[1, 2, 3, 4, 5, 6, 7]"
      ]
     },
     "execution_count": 42,
     "metadata": {},
     "output_type": "execute_result"
    }
   ],
   "source": [
    "a"
   ]
  },
  {
   "cell_type": "code",
   "execution_count": 43,
   "metadata": {},
   "outputs": [
    {
     "ename": "TypeError",
     "evalue": "extend() takes exactly one argument (3 given)",
     "output_type": "error",
     "traceback": [
      "\u001b[1;31m---------------------------------------------------------------------------\u001b[0m",
      "\u001b[1;31mTypeError\u001b[0m                                 Traceback (most recent call last)",
      "\u001b[1;32m<ipython-input-43-9698282a7096>\u001b[0m in \u001b[0;36m<module>\u001b[1;34m\u001b[0m\n\u001b[1;32m----> 1\u001b[1;33m \u001b[0ma\u001b[0m\u001b[1;33m.\u001b[0m\u001b[0mextend\u001b[0m\u001b[1;33m(\u001b[0m\u001b[1;36m8\u001b[0m\u001b[1;33m,\u001b[0m\u001b[1;36m9\u001b[0m\u001b[1;33m,\u001b[0m\u001b[1;36m10\u001b[0m\u001b[1;33m)\u001b[0m\u001b[1;33m\u001b[0m\u001b[1;33m\u001b[0m\u001b[0m\n\u001b[0m",
      "\u001b[1;31mTypeError\u001b[0m: extend() takes exactly one argument (3 given)"
     ]
    }
   ],
   "source": [
    "a.extend(8,9,10)"
   ]
  },
  {
   "cell_type": "markdown",
   "metadata": {},
   "source": [
    "#### 리스트의 값중 1개 입력시, 그 index를 알려주는 함수\n",
    "* index( 리스트 원소 중 1개 )"
   ]
  },
  {
   "cell_type": "code",
   "execution_count": 47,
   "metadata": {},
   "outputs": [
    {
     "data": {
      "text/plain": [
       "[1, 2, 3, 4, 5, 6, 7]"
      ]
     },
     "execution_count": 47,
     "metadata": {},
     "output_type": "execute_result"
    }
   ],
   "source": [
    "a"
   ]
  },
  {
   "cell_type": "code",
   "execution_count": 48,
   "metadata": {},
   "outputs": [
    {
     "data": {
      "text/plain": [
       "6"
      ]
     },
     "execution_count": 48,
     "metadata": {},
     "output_type": "execute_result"
    }
   ],
   "source": [
    "a.index(7)"
   ]
  },
  {
   "cell_type": "code",
   "execution_count": 49,
   "metadata": {},
   "outputs": [
    {
     "data": {
      "text/plain": [
       "[11, 12, 13]"
      ]
     },
     "execution_count": 49,
     "metadata": {},
     "output_type": "execute_result"
    }
   ],
   "source": [
    "b = [ 11, 12, 13]\n",
    "b"
   ]
  },
  {
   "cell_type": "code",
   "execution_count": 50,
   "metadata": {},
   "outputs": [
    {
     "data": {
      "text/plain": [
       "0"
      ]
     },
     "execution_count": 50,
     "metadata": {},
     "output_type": "execute_result"
    }
   ],
   "source": [
    "b.index(11)"
   ]
  },
  {
   "cell_type": "code",
   "execution_count": 51,
   "metadata": {
    "scrolled": true
   },
   "outputs": [
    {
     "data": {
      "text/plain": [
       "['__add__',\n",
       " '__class__',\n",
       " '__contains__',\n",
       " '__delattr__',\n",
       " '__delitem__',\n",
       " '__dir__',\n",
       " '__doc__',\n",
       " '__eq__',\n",
       " '__format__',\n",
       " '__ge__',\n",
       " '__getattribute__',\n",
       " '__getitem__',\n",
       " '__gt__',\n",
       " '__hash__',\n",
       " '__iadd__',\n",
       " '__imul__',\n",
       " '__init__',\n",
       " '__init_subclass__',\n",
       " '__iter__',\n",
       " '__le__',\n",
       " '__len__',\n",
       " '__lt__',\n",
       " '__mul__',\n",
       " '__ne__',\n",
       " '__new__',\n",
       " '__reduce__',\n",
       " '__reduce_ex__',\n",
       " '__repr__',\n",
       " '__reversed__',\n",
       " '__rmul__',\n",
       " '__setattr__',\n",
       " '__setitem__',\n",
       " '__sizeof__',\n",
       " '__str__',\n",
       " '__subclasshook__',\n",
       " 'append',\n",
       " 'clear',\n",
       " 'copy',\n",
       " 'count',\n",
       " 'extend',\n",
       " 'index',\n",
       " 'insert',\n",
       " 'pop',\n",
       " 'remove',\n",
       " 'reverse',\n",
       " 'sort']"
      ]
     },
     "execution_count": 51,
     "metadata": {},
     "output_type": "execute_result"
    }
   ],
   "source": [
    "dir(b)"
   ]
  },
  {
   "cell_type": "markdown",
   "metadata": {},
   "source": [
    "#### append와 extend같이 return값(=쥬피터로 출력) 없는 경우\n",
    "* 넣고 빼는 mutable 객체의 명령어에서 주의할 점\n",
    "* mutable의 return 경우의 수\n",
    "    1. return이 있는 경우: count, index 등\n",
    "    2. return이 없고 자기 자신이 변화되는 경우: append, extend 등\n",
    "    3. return도 있고, 자기 자신도 변화되는 경우: pop 등\n",
    "    \n",
    "mutable을 다룰때 실수 많이 하는 부분이다.   결과값이 없으면 자기가 잘못한 것 같다는 착각을 하기도 한다"
   ]
  },
  {
   "cell_type": "markdown",
   "metadata": {},
   "source": [
    "##### return값이 없는 함수 (= 쥬피터에 출력안되는 함수)\n",
    "list의 append, extend처럼 객체는 변하지만 return값이 `None`으로 지정된 경우  \n",
    "**만약, 함수에 return None이 없더라도 `python은 None을 return`!!!**"
   ]
  },
  {
   "cell_type": "code",
   "execution_count": 52,
   "metadata": {},
   "outputs": [],
   "source": [
    "#return값이 None인 경우, 결과값(출력값이 없다)\n",
    "def xx():\n",
    "    return None\n",
    "\n",
    "xx()"
   ]
  },
  {
   "cell_type": "code",
   "execution_count": 57,
   "metadata": {},
   "outputs": [],
   "source": [
    "# return None을 생략하고, 들어온 인자만 바뀌는 경우\n",
    "# 그래도 return None이며, 출력값이 없다\n",
    "def xxx(a):\n",
    "    a =2\n",
    "    # 안보이지만 return None이 생략되어있다.\n",
    "      \n",
    "xxx(k)"
   ]
  },
  {
   "cell_type": "code",
   "execution_count": 58,
   "metadata": {},
   "outputs": [
    {
     "data": {
      "text/plain": [
       "True"
      ]
     },
     "execution_count": 58,
     "metadata": {},
     "output_type": "execute_result"
    }
   ],
   "source": [
    "# 확인\n",
    "xx() == None"
   ]
  },
  {
   "cell_type": "code",
   "execution_count": 60,
   "metadata": {},
   "outputs": [
    {
     "data": {
      "text/plain": [
       "True"
      ]
     },
     "execution_count": 60,
     "metadata": {},
     "output_type": "execute_result"
    }
   ],
   "source": [
    "xxx(a) == None"
   ]
  },
  {
   "cell_type": "markdown",
   "metadata": {},
   "source": [
    "##### return도 있고 들어온 인자도 변하는 경우\n",
    "list의 pop()"
   ]
  },
  {
   "cell_type": "code",
   "execution_count": 100,
   "metadata": {},
   "outputs": [
    {
     "data": {
      "text/plain": [
       "[1, 2, 3, '문근영']"
      ]
     },
     "execution_count": 100,
     "metadata": {},
     "output_type": "execute_result"
    }
   ],
   "source": [
    "a = [ 1, 2, 3, '문근영',]\n",
    "a"
   ]
  },
  {
   "cell_type": "code",
   "execution_count": 101,
   "metadata": {},
   "outputs": [
    {
     "data": {
      "text/plain": [
       "'문근영'"
      ]
     },
     "execution_count": 101,
     "metadata": {},
     "output_type": "execute_result"
    }
   ],
   "source": [
    "# 자신도 변하고, pop되서 사라지는 인자도  return값으로 출력된다.\n",
    "a.pop()"
   ]
  },
  {
   "cell_type": "code",
   "execution_count": 102,
   "metadata": {},
   "outputs": [
    {
     "data": {
      "text/plain": [
       "[1, 2, 3]"
      ]
     },
     "execution_count": 102,
     "metadata": {},
     "output_type": "execute_result"
    }
   ],
   "source": [
    "a"
   ]
  },
  {
   "cell_type": "markdown",
   "metadata": {},
   "source": [
    "##### 출력값이 없는 함수(return None) 만들어보기"
   ]
  },
  {
   "cell_type": "code",
   "execution_count": 103,
   "metadata": {},
   "outputs": [],
   "source": [
    "# 리스트를 append 하고 return한다면?\n",
    "# append자체가 출력값이 없다 = reture None인 함수이기 때문에...\n",
    "def t( li ):\n",
    "    return li.append(3)"
   ]
  },
  {
   "cell_type": "code",
   "execution_count": 104,
   "metadata": {},
   "outputs": [],
   "source": [
    "# 출력값이 없는 = return None인 함수를 return하면,\n",
    "# 출력값이 없다\n",
    "t(a)"
   ]
  },
  {
   "cell_type": "code",
   "execution_count": 105,
   "metadata": {},
   "outputs": [
    {
     "data": {
      "text/plain": [
       "[1, 2, 3, 3]"
      ]
     },
     "execution_count": 105,
     "metadata": {},
     "output_type": "execute_result"
    }
   ],
   "source": [
    "# 출력값이 없더라도, 내부는 변했다.\n",
    "a"
   ]
  },
  {
   "cell_type": "code",
   "execution_count": 106,
   "metadata": {},
   "outputs": [],
   "source": [
    "# (안중요)리스트인자는 =[] 의 빈 리스트를 default값으로 줌으로써, \n",
    "# 내부 함수 만들 때, 편하게 명령어 사용가능!!!!\n",
    "\n",
    "# return에다가가 아니라, 그냥 내부에서 append()만 해보자.\n",
    "# return값은 적지말고 생략하자( --> return None으로 인식)\n",
    "\n",
    "def no_t(t, li = [] ):\n",
    "    li.append(t)\n",
    "    \n",
    "no_t(4, a)"
   ]
  },
  {
   "cell_type": "code",
   "execution_count": 107,
   "metadata": {},
   "outputs": [
    {
     "data": {
      "text/plain": [
       "[1, 2, 3, 3, 4]"
      ]
     },
     "execution_count": 107,
     "metadata": {},
     "output_type": "execute_result"
    }
   ],
   "source": [
    "# return값을 생략하나\n",
    "# return값에  return None인 append()를 넣으나\n",
    "# 함수이후에 출력값은 없다!\n",
    "# 그러나 내부는 바뀐다\n",
    "a"
   ]
  },
  {
   "cell_type": "markdown",
   "metadata": {},
   "source": [
    "#### Mutable(넣고빼는) 명령어에서 주의할 점\n",
    "`함수`를 통해 어떠한 mutable에 요소를 추가(append)한 후에,  \n",
    "원래는 return값이 없는 함수를 -> 눈에 보이게 def안에서 return해주려고 한다.  \n",
    "**이러한 작업을 하는 이유 : append, extend는 return값이 없으므로 보이게 할려고!!**\n",
    "**그 때, 주의해야할 점 : 매개변수의 default값으로 mutable식별자가 생성되도록 하지 말자** \n",
    "\n",
    "**함수 매개변수에서 default = [] 값으로 생성된 mutable 식별자(list)**를 return하는 경우가 있다.   \n",
    "이 경우, return = 출력은 되지만,, **실제 NameSpace에는 없고 heap에만 존재하여, 따로 사용할 수 가 없다.** 이런 경우를 방지해야한다\n",
    "\n",
    "* 넣고빼고  + **return값이 없는 경우** : append, extend([])\n",
    "* 넣고빼고  + return값도 있는 경우 : pop()\n",
    "* 넣고빼고(X) = immutable : count, index(값) - immutable 짝인 `tuple`도 존재"
   ]
  },
  {
   "cell_type": "code",
   "execution_count": 110,
   "metadata": {},
   "outputs": [
    {
     "data": {
      "text/plain": [
       "2"
      ]
     },
     "execution_count": 110,
     "metadata": {},
     "output_type": "execute_result"
    }
   ],
   "source": [
    "# 값이 3인 index는  2와 3이나, 가장 먼저껏을 출력한다\n",
    "# index( 값 ) : 값을 가지는 가장 빠른 index\n",
    "a.index(3)"
   ]
  },
  {
   "cell_type": "code",
   "execution_count": null,
   "metadata": {},
   "outputs": [],
   "source": []
  },
  {
   "cell_type": "markdown",
   "metadata": {},
   "source": [
    "##### 함수의 default 값으로 생성한 식별자(list)는 heap에만 올라가고, NameSpace (%whos)에서는 확인되지 않는다\n",
    "\n",
    "함수의 default인자로 생성한 식별자는 heap영역에 올라가 살아있으나, NameSpace에는 존재 하지 않으므로 식별자 호출시 NameError가 난다.\n",
    "\n",
    "**좋지 않은 예시로서, 이러한 방식으로 사용하지 말자**"
   ]
  },
  {
   "cell_type": "code",
   "execution_count": 77,
   "metadata": {},
   "outputs": [
    {
     "data": {
      "text/plain": [
       "[1]"
      ]
     },
     "execution_count": 77,
     "metadata": {},
     "output_type": "execute_result"
    }
   ],
   "source": [
    "# return값이 무조건 있도록 만들어보자.\n",
    "# 리스트를 인자로 주지 않더라도, Local의 리스트를 만들고\n",
    "# 생성한  local list를 조작하여\n",
    "# 그 local list를 반환한다\n",
    "\n",
    "def return_local_list(t, L = []):\n",
    "    L.append(t)\n",
    "    return L\n",
    "\n",
    "\n",
    "return_local_list(1)"
   ]
  },
  {
   "cell_type": "code",
   "execution_count": 78,
   "metadata": {},
   "outputs": [
    {
     "data": {
      "text/plain": [
       "[1, 2]"
      ]
     },
     "execution_count": 78,
     "metadata": {},
     "output_type": "execute_result"
    }
   ],
   "source": [
    "# 다시 함수안의 로컬리스트를 조작해보자\n",
    "# Local에서 생성한 리스트가,, 그대로 값을 유지하고 있었다.\n",
    "\n",
    "return_local_list(2)"
   ]
  },
  {
   "cell_type": "code",
   "execution_count": 91,
   "metadata": {},
   "outputs": [
    {
     "ename": "NameError",
     "evalue": "name 'L' is not defined",
     "output_type": "error",
     "traceback": [
      "\u001b[1;31m---------------------------------------------------------------------------\u001b[0m",
      "\u001b[1;31mNameError\u001b[0m                                 Traceback (most recent call last)",
      "\u001b[1;32m<ipython-input-91-a8e3909e9329>\u001b[0m in \u001b[0;36m<module>\u001b[1;34m\u001b[0m\n\u001b[0;32m      2\u001b[0m \u001b[1;31m# heap영역에 올라가 살아있으나, NameSpace에는 존재 하지 않으므로\u001b[0m\u001b[1;33m\u001b[0m\u001b[1;33m\u001b[0m\u001b[1;33m\u001b[0m\u001b[0m\n\u001b[0;32m      3\u001b[0m \u001b[1;31m# 식별자 호출시 NameError가 난다\u001b[0m\u001b[1;33m\u001b[0m\u001b[1;33m\u001b[0m\u001b[1;33m\u001b[0m\u001b[0m\n\u001b[1;32m----> 4\u001b[1;33m \u001b[0mL\u001b[0m\u001b[1;33m\u001b[0m\u001b[1;33m\u001b[0m\u001b[0m\n\u001b[0m",
      "\u001b[1;31mNameError\u001b[0m: name 'L' is not defined"
     ]
    }
   ],
   "source": [
    "# 함의 default인자로 생성한 식별자는\n",
    "# heap영역에 올라가 살아있으나, NameSpace에는 존재 하지 않으므로\n",
    "# 식별자 호출시 NameError가 난다\n",
    "L"
   ]
  },
  {
   "cell_type": "code",
   "execution_count": 81,
   "metadata": {},
   "outputs": [
    {
     "name": "stdout",
     "output_type": "stream",
     "text": [
      "Variable            Type        Data/Info\n",
      "-----------------------------------------\n",
      "a                   list        n=5\n",
      "b                   list        n=3\n",
      "c                   int         6\n",
      "func                function    <function func at 0x00000190D80F18C8>\n",
      "k                   int         1\n",
      "li                  list        n=2\n",
      "no_t                function    <function no_t at 0x00000190D82CD6A8>\n",
      "return_local_list   function    <function return_local_li<...>st at 0x00000190D83EABF8>\n",
      "t                   function    <function t at 0x00000190D81AF598>\n",
      "xx                  function    <function xx at 0x00000190D82CD950>\n",
      "xxx                 function    <function xxx at 0x00000190D81AF378>\n"
     ]
    }
   ],
   "source": [
    "# 로컬 생성 식별자 L(list)는 heap에만 존재 / NameSpace (X) %whos(X)\n",
    "%whos"
   ]
  },
  {
   "cell_type": "code",
   "execution_count": null,
   "metadata": {},
   "outputs": [],
   "source": []
  },
  {
   "cell_type": "markdown",
   "metadata": {},
   "source": [
    "##### return값이 없는 mutable함수를 def로 정의하여 출력하고 싶을 때 !\n",
    "그 때, **mutable식별자가 들어갈 매개변수**에 \n",
    "1. `default값 = None`\n",
    "2. `if default값 is None:` 함수내부에서 mutable생성  \n",
    "아예, heap에만 올라갈 mutable식별자를 만들지를 말자!\n",
    "\n",
    "**my) `함수내부 생성` = 유지되지 않는 Local / `매개변수 생성` = heap에만 유지되는 변수**\n",
    "1. 매개변수에서 생성한 식별자는 `heap`에는 존재하나 `NameSpace`에 없다\n",
    "    - 그로인해, default값이 계쏙 유지된다. 그러나 따로 식별자 호출은 안된다.\n",
    "3. 차라리 매개변수에서는 `None`을 주고 -> None일 때, 함수내부에서 container를 만들자\n",
    "    - 함수내부에서 만들면, 값이 계속 유지 되지 않고 초기화된다."
   ]
  },
  {
   "cell_type": "code",
   "execution_count": 114,
   "metadata": {},
   "outputs": [
    {
     "data": {
      "text/plain": [
       "[3]"
      ]
     },
     "execution_count": 114,
     "metadata": {},
     "output_type": "execute_result"
    }
   ],
   "source": [
    "# 매개변수가 아니라, 함수내부에서  container를 생성하면\n",
    "# 함수 종료시마다 삭제된다. \n",
    "# heap에만 유지되는 것을 방지한다\n",
    "def my_append( n, container  = None):\n",
    "    \n",
    "    if container is None:\n",
    "        # 함수내부에서 생성하면, 함수 종료시 삭제된다.\n",
    "        container = []\n",
    "        \n",
    "    # mutable의 return값 없는 함수를 사용했으니, 보이도록 값을 return해주자.\n",
    "    container.append(n)\n",
    "    return container\n",
    "\n",
    "my_append( 3)"
   ]
  },
  {
   "cell_type": "code",
   "execution_count": 115,
   "metadata": {},
   "outputs": [
    {
     "data": {
      "text/plain": [
       "[4]"
      ]
     },
     "execution_count": 115,
     "metadata": {},
     "output_type": "execute_result"
    }
   ],
   "source": [
    "my_append(4)"
   ]
  },
  {
   "cell_type": "code",
   "execution_count": null,
   "metadata": {},
   "outputs": [],
   "source": []
  },
  {
   "cell_type": "markdown",
   "metadata": {},
   "source": [
    "#### list의 연산\n",
    "*  a + b = extend([])\n",
    "* a * b (X)\n",
    "* a * 3 = 3번 복제된 리스트 생성"
   ]
  },
  {
   "cell_type": "code",
   "execution_count": 82,
   "metadata": {},
   "outputs": [
    {
     "data": {
      "text/plain": [
       "[1, 2, 3, 3, 4, 5]"
      ]
     },
     "execution_count": 82,
     "metadata": {},
     "output_type": "execute_result"
    }
   ],
   "source": [
    "a = [1, 2, 3,]\n",
    "b = [3, 4, 5,]\n",
    "\n",
    "# 리스트의 덧셈연산은 extend( [] ) 함수와 동일하다\n",
    "a+b"
   ]
  },
  {
   "cell_type": "code",
   "execution_count": 83,
   "metadata": {},
   "outputs": [
    {
     "ename": "TypeError",
     "evalue": "can't multiply sequence by non-int of type 'list'",
     "output_type": "error",
     "traceback": [
      "\u001b[1;31m---------------------------------------------------------------------------\u001b[0m",
      "\u001b[1;31mTypeError\u001b[0m                                 Traceback (most recent call last)",
      "\u001b[1;32m<ipython-input-83-34a60def7b0b>\u001b[0m in \u001b[0;36m<module>\u001b[1;34m\u001b[0m\n\u001b[0;32m      1\u001b[0m \u001b[1;31m# 리스트 곱셈은 안된다.\u001b[0m\u001b[1;33m\u001b[0m\u001b[1;33m\u001b[0m\u001b[1;33m\u001b[0m\u001b[0m\n\u001b[1;32m----> 2\u001b[1;33m \u001b[0ma\u001b[0m \u001b[1;33m*\u001b[0m \u001b[0mb\u001b[0m\u001b[1;33m\u001b[0m\u001b[1;33m\u001b[0m\u001b[0m\n\u001b[0m",
      "\u001b[1;31mTypeError\u001b[0m: can't multiply sequence by non-int of type 'list'"
     ]
    }
   ],
   "source": [
    "# 리스트 곱셈은 안된다.\n",
    "a * b"
   ]
  },
  {
   "cell_type": "code",
   "execution_count": 84,
   "metadata": {},
   "outputs": [
    {
     "data": {
      "text/plain": [
       "[1, 2, 3, 1, 2, 3, 1, 2, 3]"
      ]
     },
     "execution_count": 84,
     "metadata": {},
     "output_type": "execute_result"
    }
   ],
   "source": [
    "# 리스트 * 숫자는 가능하다\n",
    "# 그러나 각 요소에 곱해지는 것이 아니라, 곱해지는 수만큼 복제 된다.\n",
    "a * 3"
   ]
  },
  {
   "cell_type": "code",
   "execution_count": 85,
   "metadata": {},
   "outputs": [
    {
     "data": {
      "text/plain": [
       "[1, 2, 3, 1, 2, 3, 1, 2, 3]"
      ]
     },
     "execution_count": 85,
     "metadata": {},
     "output_type": "execute_result"
    }
   ],
   "source": [
    "c  = 3\n",
    "a * c"
   ]
  },
  {
   "cell_type": "markdown",
   "metadata": {},
   "source": [
    "#### 문자열의 연산\n",
    "\n",
    "* 문자열을 더하면 이어준다\n",
    "* 할당된 str식별자가 아니라, 쌩 문자열 ' '은 두 개 나열만 해도 붙힌다***\n",
    "* 할당된 str식별자는 나열하더라도 더하기 연산이 안된다"
   ]
  },
  {
   "cell_type": "code",
   "execution_count": 86,
   "metadata": {},
   "outputs": [
    {
     "data": {
      "text/plain": [
       "'abc문근영'"
      ]
     },
     "execution_count": 86,
     "metadata": {},
     "output_type": "execute_result"
    }
   ],
   "source": [
    "a = 'abc'\n",
    "b = '문근영'\n",
    "\n",
    "# 문자열을 더하면 이어준다\n",
    "a+b"
   ]
  },
  {
   "cell_type": "code",
   "execution_count": 88,
   "metadata": {},
   "outputs": [
    {
     "data": {
      "text/plain": [
       "'abc문근영'"
      ]
     },
     "execution_count": 88,
     "metadata": {},
     "output_type": "execute_result"
    }
   ],
   "source": [
    "# 할당된 str식별자가 아니라, 쌩 문자열 ' '은 두 개 나열만 해도 붙힌다***\n",
    "'abc' '문근영'"
   ]
  },
  {
   "cell_type": "code",
   "execution_count": 89,
   "metadata": {},
   "outputs": [
    {
     "ename": "SyntaxError",
     "evalue": "invalid syntax (<ipython-input-89-ce468e4027d3>, line 2)",
     "output_type": "error",
     "traceback": [
      "\u001b[1;36m  File \u001b[1;32m\"<ipython-input-89-ce468e4027d3>\"\u001b[1;36m, line \u001b[1;32m2\u001b[0m\n\u001b[1;33m    a b\u001b[0m\n\u001b[1;37m      ^\u001b[0m\n\u001b[1;31mSyntaxError\u001b[0m\u001b[1;31m:\u001b[0m invalid syntax\n"
     ]
    }
   ],
   "source": [
    "# 할당된 str식별자는 나열하더라도 더하기 연산이 안된다\n",
    "a b"
   ]
  },
  {
   "cell_type": "markdown",
   "metadata": {},
   "source": [
    "### Set\n",
    "* set의 literal  : `{ a, b }` 중괄호! \n",
    " - `빈 중괄호 {}`는 dictionary다!!!!!!\n",
    "  \n",
    "  \n",
    "  \n",
    "set의 연산 \n",
    "* & : 교집합\n",
    "* - : 차집합, \n",
    "* | : 합집합, \n",
    "* ^ : 대칭차집합 = (전체 - 교집합)\n",
    "* **여집합은 지원 X : `교집합 구하기 -> (자신 - 교집합)`**"
   ]
  },
  {
   "cell_type": "code",
   "execution_count": 135,
   "metadata": {},
   "outputs": [
    {
     "data": {
      "text/plain": [
       "{1, 2, 3, 4}"
      ]
     },
     "execution_count": 135,
     "metadata": {},
     "output_type": "execute_result"
    }
   ],
   "source": [
    "# set :  { a, b, }  <--> 빈 중괄호 { }는 딕셔너리!!! 조심\n",
    "a = { 1, 2, 3, 4,}\n",
    "\n",
    "a"
   ]
  },
  {
   "cell_type": "markdown",
   "metadata": {},
   "source": [
    "#### set을 이용한 공집합 생성\n",
    "* { a, b } -> set\n",
    "* { } -> dictionary\n",
    "* set() -> 빈 set = 공집합"
   ]
  },
  {
   "cell_type": "code",
   "execution_count": 140,
   "metadata": {},
   "outputs": [
    {
     "data": {
      "text/plain": [
       "dict"
      ]
     },
     "execution_count": 140,
     "metadata": {},
     "output_type": "execute_result"
    }
   ],
   "source": [
    "# set을 이용한 공집합\n",
    "# 빈 중괄호는 dictionary다!!!  빈 set의 공집합이 아니다!!\n",
    "a = {}\n",
    "type(a)"
   ]
  },
  {
   "cell_type": "code",
   "execution_count": 121,
   "metadata": {},
   "outputs": [
    {
     "data": {
      "text/plain": [
       "set()"
      ]
     },
     "execution_count": 121,
     "metadata": {},
     "output_type": "execute_result"
    }
   ],
   "source": [
    "set()"
   ]
  },
  {
   "cell_type": "markdown",
   "metadata": {},
   "source": [
    "#### Set은 non -sequence형이지만, 내부에서 순서를 관리한다.\n",
    "* sequence : tuple, list, range + 문자형3개\n",
    "* non-sequence : set, frozenset"
   ]
  },
  {
   "cell_type": "code",
   "execution_count": 136,
   "metadata": {},
   "outputs": [
    {
     "data": {
      "text/plain": [
       "{1, 2, 3, 4, 5}"
      ]
     },
     "execution_count": 136,
     "metadata": {},
     "output_type": "execute_result"
    }
   ],
   "source": [
    "a = { 3, 1, 2, 4, 5}\n",
    "\n",
    "a"
   ]
  },
  {
   "cell_type": "code",
   "execution_count": 138,
   "metadata": {},
   "outputs": [
    {
     "name": "stdout",
     "output_type": "stream",
     "text": [
      "1\n",
      "2\n",
      "3\n",
      "4\n",
      "5\n"
     ]
    }
   ],
   "source": [
    "for i in a:\n",
    "    print(i)"
   ]
  },
  {
   "cell_type": "code",
   "execution_count": null,
   "metadata": {},
   "outputs": [],
   "source": []
  },
  {
   "cell_type": "markdown",
   "metadata": {},
   "source": [
    "#### Set의 연산 = 집합의 연산"
   ]
  },
  {
   "cell_type": "code",
   "execution_count": 142,
   "metadata": {},
   "outputs": [
    {
     "data": {
      "text/plain": [
       "{1, 2, 3}"
      ]
     },
     "execution_count": 142,
     "metadata": {},
     "output_type": "execute_result"
    }
   ],
   "source": [
    "a = {1, 2, 3}\n",
    "\n",
    "a"
   ]
  },
  {
   "cell_type": "code",
   "execution_count": 143,
   "metadata": {},
   "outputs": [
    {
     "data": {
      "text/plain": [
       "{1, 3}"
      ]
     },
     "execution_count": 143,
     "metadata": {},
     "output_type": "execute_result"
    }
   ],
   "source": [
    "# 차집합\n",
    "a - {2, 5}"
   ]
  },
  {
   "cell_type": "code",
   "execution_count": 144,
   "metadata": {},
   "outputs": [
    {
     "data": {
      "text/plain": [
       "{1, 3, 5}"
      ]
     },
     "execution_count": 144,
     "metadata": {},
     "output_type": "execute_result"
    }
   ],
   "source": [
    "# 대칭 차집합  = 전체-교집합\n",
    "a^{2, 5}"
   ]
  },
  {
   "cell_type": "code",
   "execution_count": 145,
   "metadata": {},
   "outputs": [
    {
     "data": {
      "text/plain": [
       "{1, 4}"
      ]
     },
     "execution_count": 145,
     "metadata": {},
     "output_type": "execute_result"
    }
   ],
   "source": [
    "# 대칭 차집합 = 전체-교집합\n",
    "{1, 2, 3,} ^ {2, 3, 4,}"
   ]
  },
  {
   "cell_type": "code",
   "execution_count": 127,
   "metadata": {},
   "outputs": [
    {
     "ename": "TypeError",
     "evalue": "unsupported operand type(s) for +: 'set' and 'set'",
     "output_type": "error",
     "traceback": [
      "\u001b[1;31m---------------------------------------------------------------------------\u001b[0m",
      "\u001b[1;31mTypeError\u001b[0m                                 Traceback (most recent call last)",
      "\u001b[1;32m<ipython-input-127-5a32625fabad>\u001b[0m in \u001b[0;36m<module>\u001b[1;34m\u001b[0m\n\u001b[0;32m      1\u001b[0m \u001b[1;31m# 합집합\u001b[0m\u001b[1;33m\u001b[0m\u001b[1;33m\u001b[0m\u001b[1;33m\u001b[0m\u001b[0m\n\u001b[1;32m----> 2\u001b[1;33m \u001b[0ma\u001b[0m \u001b[1;33m+\u001b[0m \u001b[1;33m{\u001b[0m\u001b[1;36m4\u001b[0m\u001b[1;33m}\u001b[0m\u001b[1;33m\u001b[0m\u001b[1;33m\u001b[0m\u001b[0m\n\u001b[0m",
      "\u001b[1;31mTypeError\u001b[0m: unsupported operand type(s) for +: 'set' and 'set'"
     ]
    }
   ],
   "source": [
    "# 합집합 + 가 아니라 | !!!\n",
    "a + {4}"
   ]
  },
  {
   "cell_type": "code",
   "execution_count": 128,
   "metadata": {},
   "outputs": [
    {
     "data": {
      "text/plain": [
       "{1, 2, 3, 4}"
      ]
     },
     "execution_count": 128,
     "metadata": {},
     "output_type": "execute_result"
    }
   ],
   "source": [
    "a | {4}"
   ]
  },
  {
   "cell_type": "markdown",
   "metadata": {},
   "source": [
    "#### dir()과 set()을 이용한 명령어 교집합 구하기!!\n",
    "\n",
    "무엇이든, **마지막에 set()을 씌우고** `&` 연산한다"
   ]
  },
  {
   "cell_type": "code",
   "execution_count": 129,
   "metadata": {
    "scrolled": true
   },
   "outputs": [
    {
     "data": {
      "text/plain": [
       "['__add__',\n",
       " '__class__',\n",
       " '__contains__',\n",
       " '__delattr__',\n",
       " '__delitem__',\n",
       " '__dir__',\n",
       " '__doc__',\n",
       " '__eq__',\n",
       " '__format__',\n",
       " '__ge__',\n",
       " '__getattribute__',\n",
       " '__getitem__',\n",
       " '__gt__',\n",
       " '__hash__',\n",
       " '__iadd__',\n",
       " '__imul__',\n",
       " '__init__',\n",
       " '__init_subclass__',\n",
       " '__iter__',\n",
       " '__le__',\n",
       " '__len__',\n",
       " '__lt__',\n",
       " '__mul__',\n",
       " '__ne__',\n",
       " '__new__',\n",
       " '__reduce__',\n",
       " '__reduce_ex__',\n",
       " '__repr__',\n",
       " '__reversed__',\n",
       " '__rmul__',\n",
       " '__setattr__',\n",
       " '__setitem__',\n",
       " '__sizeof__',\n",
       " '__str__',\n",
       " '__subclasshook__',\n",
       " 'append',\n",
       " 'clear',\n",
       " 'copy',\n",
       " 'count',\n",
       " 'extend',\n",
       " 'index',\n",
       " 'insert',\n",
       " 'pop',\n",
       " 'remove',\n",
       " 'reverse',\n",
       " 'sort']"
      ]
     },
     "execution_count": 129,
     "metadata": {},
     "output_type": "execute_result"
    }
   ],
   "source": [
    "# list 명령어\n",
    "dir( list() )"
   ]
  },
  {
   "cell_type": "code",
   "execution_count": 130,
   "metadata": {
    "scrolled": true
   },
   "outputs": [
    {
     "data": {
      "text/plain": [
       "['__add__',\n",
       " '__class__',\n",
       " '__contains__',\n",
       " '__delattr__',\n",
       " '__dir__',\n",
       " '__doc__',\n",
       " '__eq__',\n",
       " '__format__',\n",
       " '__ge__',\n",
       " '__getattribute__',\n",
       " '__getitem__',\n",
       " '__getnewargs__',\n",
       " '__gt__',\n",
       " '__hash__',\n",
       " '__init__',\n",
       " '__init_subclass__',\n",
       " '__iter__',\n",
       " '__le__',\n",
       " '__len__',\n",
       " '__lt__',\n",
       " '__mul__',\n",
       " '__ne__',\n",
       " '__new__',\n",
       " '__reduce__',\n",
       " '__reduce_ex__',\n",
       " '__repr__',\n",
       " '__rmul__',\n",
       " '__setattr__',\n",
       " '__sizeof__',\n",
       " '__str__',\n",
       " '__subclasshook__',\n",
       " 'count',\n",
       " 'index']"
      ]
     },
     "execution_count": 130,
     "metadata": {},
     "output_type": "execute_result"
    }
   ],
   "source": [
    "# tuple의 명령어\n",
    "dir( tuple())"
   ]
  },
  {
   "cell_type": "code",
   "execution_count": 131,
   "metadata": {
    "scrolled": false
   },
   "outputs": [
    {
     "data": {
      "text/plain": [
       "{'__add__',\n",
       " '__class__',\n",
       " '__contains__',\n",
       " '__delattr__',\n",
       " '__dir__',\n",
       " '__doc__',\n",
       " '__eq__',\n",
       " '__format__',\n",
       " '__ge__',\n",
       " '__getattribute__',\n",
       " '__getitem__',\n",
       " '__gt__',\n",
       " '__hash__',\n",
       " '__init__',\n",
       " '__init_subclass__',\n",
       " '__iter__',\n",
       " '__le__',\n",
       " '__len__',\n",
       " '__lt__',\n",
       " '__mul__',\n",
       " '__ne__',\n",
       " '__new__',\n",
       " '__reduce__',\n",
       " '__reduce_ex__',\n",
       " '__repr__',\n",
       " '__rmul__',\n",
       " '__setattr__',\n",
       " '__sizeof__',\n",
       " '__str__',\n",
       " '__subclasshook__',\n",
       " 'count',\n",
       " 'index'}"
      ]
     },
     "execution_count": 131,
     "metadata": {},
     "output_type": "execute_result"
    }
   ],
   "source": [
    "### list - mutable / tuple - immutable의 공통 명령어는???\n",
    "### 넣고빼고만 빠질 것이다...?\n",
    "\n",
    "set( dir(list) ) & set(  dir(tuple) )"
   ]
  },
  {
   "cell_type": "markdown",
   "metadata": {},
   "source": [
    "#### 공통명령어(교집합)을 구했다면? --> 각 집합의 고유 명령어(여집합)을 구할 수 있다."
   ]
  },
  {
   "cell_type": "code",
   "execution_count": 132,
   "metadata": {},
   "outputs": [
    {
     "data": {
      "text/plain": [
       "{'__delitem__',\n",
       " '__iadd__',\n",
       " '__imul__',\n",
       " '__reversed__',\n",
       " '__setitem__',\n",
       " 'append',\n",
       " 'clear',\n",
       " 'copy',\n",
       " 'extend',\n",
       " 'insert',\n",
       " 'pop',\n",
       " 'remove',\n",
       " 'reverse',\n",
       " 'sort'}"
      ]
     },
     "execution_count": 132,
     "metadata": {},
     "output_type": "execute_result"
    }
   ],
   "source": [
    "# 공통명령어\n",
    "cross = set( dir(list) ) & set(  dir(tuple) )\n",
    "\n",
    "# 자신 - 교집합 = 자신만의 고유 집합( 고유 명령어 )\n",
    "# list의 고유명령어\n",
    "set( dir(list) ) - cross"
   ]
  },
  {
   "cell_type": "code",
   "execution_count": 133,
   "metadata": {},
   "outputs": [
    {
     "data": {
      "text/plain": [
       "{'__getnewargs__'}"
      ]
     },
     "execution_count": 133,
     "metadata": {},
     "output_type": "execute_result"
    }
   ],
   "source": [
    "# tuple의 고유 명령어\n",
    "set(  dir(tuple) ) - cross"
   ]
  },
  {
   "cell_type": "markdown",
   "metadata": {},
   "source": [
    "### Dictionary\n",
    "현재는 set의 literal인 { a,b }은 나중에 추가된 것이다.  \n",
    "그러나 **빈 중괄호 { }는 아직도 dictionary이다.** 그러므로 공집합을 만들 때는 `{ }`이 아니라 `set()`을 써야한다. \n",
    "  \n",
    "  \n",
    "dictionary의 literal은 `{ key : value }`라고 볼 수 있다."
   ]
  },
  {
   "cell_type": "code",
   "execution_count": 146,
   "metadata": {},
   "outputs": [
    {
     "data": {
      "text/plain": [
       "dict"
      ]
     },
     "execution_count": 146,
     "metadata": {},
     "output_type": "execute_result"
    }
   ],
   "source": [
    "# not set, its dictionary\n",
    "type({ })"
   ]
  },
  {
   "cell_type": "markdown",
   "metadata": {},
   "source": [
    "#### key\n",
    "key로는 **immutable**한 것이 올 수 있다.\n",
    "1. `숫자`, \n",
    "2. `문자열`, \n",
    "3. **`튜플`**이 들어갈 수 있다. 변하지 않는 `immutable`은 key로 가능하다  \n",
    "    - **괄호없는 튜플**은 우선순위에 밀려 불가능\n",
    "      괄호없는 튜플을 쓸 때는 **연산자 우선법칙**에 의해  `:` > `,` 이므로 오류가 나는 것을 조심해야한다\n",
    "    - **immutable(튜플) 내부에 mutable(list)가 있다면**은 불가\n"
   ]
  },
  {
   "cell_type": "code",
   "execution_count": 147,
   "metadata": {},
   "outputs": [
    {
     "data": {
      "text/plain": [
       "{1: 'value'}"
      ]
     },
     "execution_count": 147,
     "metadata": {},
     "output_type": "execute_result"
    }
   ],
   "source": [
    "# 숫자를 키로\n",
    "{1 : 'value' }"
   ]
  },
  {
   "cell_type": "code",
   "execution_count": 148,
   "metadata": {},
   "outputs": [
    {
     "data": {
      "text/plain": [
       "{'문자열': 'value'}"
      ]
     },
     "execution_count": 148,
     "metadata": {},
     "output_type": "execute_result"
    }
   ],
   "source": [
    "# 문자열을 키로\n",
    "{'문자열' : 'value' }"
   ]
  },
  {
   "cell_type": "code",
   "execution_count": 150,
   "metadata": {},
   "outputs": [
    {
     "ename": "SyntaxError",
     "evalue": "invalid syntax (<ipython-input-150-5d44093f3e2a>, line 3)",
     "output_type": "error",
     "traceback": [
      "\u001b[1;36m  File \u001b[1;32m\"<ipython-input-150-5d44093f3e2a>\"\u001b[1;36m, line \u001b[1;32m3\u001b[0m\n\u001b[1;33m    {1, : 'value' }\u001b[0m\n\u001b[1;37m        ^\u001b[0m\n\u001b[1;31mSyntaxError\u001b[0m\u001b[1;31m:\u001b[0m invalid syntax\n"
     ]
    }
   ],
   "source": [
    "# 괄호없는 튜플을 키로\n",
    "# 연산자 우선법칙에 의해 {1,  [ : value] < 먼저실행 }\n",
    "{1, : 'value' }"
   ]
  },
  {
   "cell_type": "code",
   "execution_count": 151,
   "metadata": {},
   "outputs": [
    {
     "data": {
      "text/plain": [
       "{(1,): 'value'}"
      ]
     },
     "execution_count": 151,
     "metadata": {},
     "output_type": "execute_result"
    }
   ],
   "source": [
    "# 괄호를 붙힌 tuple을 키로\n",
    "{ (1, ) : 'value' }"
   ]
  },
  {
   "cell_type": "code",
   "execution_count": 152,
   "metadata": {},
   "outputs": [
    {
     "ename": "TypeError",
     "evalue": "unhashable type: 'list'",
     "output_type": "error",
     "traceback": [
      "\u001b[1;31m---------------------------------------------------------------------------\u001b[0m",
      "\u001b[1;31mTypeError\u001b[0m                                 Traceback (most recent call last)",
      "\u001b[1;32m<ipython-input-152-d43459eea858>\u001b[0m in \u001b[0;36m<module>\u001b[1;34m\u001b[0m\n\u001b[1;32m----> 1\u001b[1;33m \u001b[1;33m{\u001b[0m\u001b[1;33m(\u001b[0m\u001b[1;36m1\u001b[0m\u001b[1;33m,\u001b[0m \u001b[1;33m[\u001b[0m\u001b[1;36m1\u001b[0m\u001b[1;33m]\u001b[0m\u001b[1;33m)\u001b[0m \u001b[1;33m:\u001b[0m \u001b[1;36m1\u001b[0m\u001b[1;33m}\u001b[0m\u001b[1;33m\u001b[0m\u001b[1;33m\u001b[0m\u001b[0m\n\u001b[0m",
      "\u001b[1;31mTypeError\u001b[0m: unhashable type: 'list'"
     ]
    }
   ],
   "source": [
    "# 내부에 변할 수도 있는 list(mutable)이 들어가 있다면, key로 불가능하다\n",
    "{(1, [1]) : 1}"
   ]
  },
  {
   "cell_type": "markdown",
   "metadata": {},
   "source": [
    "#### python 3.7부터는 dictionary의 내부정렬이 생겼다.\n",
    "set는 non-sequence지만, 내부에서 순서를 정렬하였다.  \n",
    "나는 현재 3.6.8버전인데, 딕셔너리 내부 정렬이 없다! (강의에서는 3.7부터 생김)  \n",
    "3.7 이전까지는 collections 패키지의 OrderedDict를 사용했다"
   ]
  },
  {
   "cell_type": "code",
   "execution_count": 153,
   "metadata": {},
   "outputs": [
    {
     "data": {
      "text/plain": [
       "{'a', 'b', 'c'}"
      ]
     },
     "execution_count": 153,
     "metadata": {},
     "output_type": "execute_result"
    }
   ],
   "source": [
    "# set의 내부 정렬\n",
    "{ 'c', 'a', 'b'}"
   ]
  },
  {
   "cell_type": "code",
   "execution_count": 156,
   "metadata": {},
   "outputs": [
    {
     "data": {
      "text/plain": [
       "{'c': 1, 'a': 2, 'd': 4, 'b': 3}"
      ]
     },
     "execution_count": 156,
     "metadata": {},
     "output_type": "execute_result"
    }
   ],
   "source": [
    "# dictionary의 내부 정렬 -> 없음\n",
    "{ 'c' : 1, 'a' : 2, 'd' : 4, 'b' :3, }"
   ]
  },
  {
   "cell_type": "markdown",
   "metadata": {},
   "source": [
    "#### collections 패키지 속, 내부정렬가지는 dictionary 사용\n",
    "collections 안에 있는 `OrderedDict` 를 사용해서, 내부에서 순서를 정렬하자"
   ]
  },
  {
   "cell_type": "code",
   "execution_count": 169,
   "metadata": {
    "scrolled": true
   },
   "outputs": [
    {
     "data": {
      "text/plain": [
       "['__class__',\n",
       " '__contains__',\n",
       " '__delattr__',\n",
       " '__delitem__',\n",
       " '__dict__',\n",
       " '__dir__',\n",
       " '__doc__',\n",
       " '__eq__',\n",
       " '__format__',\n",
       " '__ge__',\n",
       " '__getattribute__',\n",
       " '__getitem__',\n",
       " '__gt__',\n",
       " '__hash__',\n",
       " '__init__',\n",
       " '__init_subclass__',\n",
       " '__iter__',\n",
       " '__le__',\n",
       " '__len__',\n",
       " '__lt__',\n",
       " '__ne__',\n",
       " '__new__',\n",
       " '__reduce__',\n",
       " '__reduce_ex__',\n",
       " '__repr__',\n",
       " '__reversed__',\n",
       " '__setattr__',\n",
       " '__setitem__',\n",
       " '__sizeof__',\n",
       " '__str__',\n",
       " '__subclasshook__',\n",
       " 'clear',\n",
       " 'copy',\n",
       " 'fromkeys',\n",
       " 'get',\n",
       " 'items',\n",
       " 'keys',\n",
       " 'move_to_end',\n",
       " 'pop',\n",
       " 'popitem',\n",
       " 'setdefault',\n",
       " 'update',\n",
       " 'values']"
      ]
     },
     "execution_count": 169,
     "metadata": {},
     "output_type": "execute_result"
    }
   ],
   "source": [
    "# 3.7부터는 내부 자동정렬 하니,, 포지션이 애매해졌다고 한다.\n",
    "from collections import OrderedDict\n",
    "\n",
    "dir(OrderedDict)"
   ]
  },
  {
   "cell_type": "code",
   "execution_count": 171,
   "metadata": {},
   "outputs": [
    {
     "data": {
      "text/plain": [
       "dict_keys(['c', 'a', 'd', 'b'])"
      ]
     },
     "execution_count": 171,
     "metadata": {},
     "output_type": "execute_result"
    }
   ],
   "source": [
    "### 정렬 안되는데???\n",
    "o_dict = OrderedDict()\n",
    "o_dict = { 'c' : 1, 'a' : 2, 'd' : 4, 'b' :3, }\n",
    "o_dict.keys()"
   ]
  },
  {
   "cell_type": "code",
   "execution_count": null,
   "metadata": {},
   "outputs": [],
   "source": []
  },
  {
   "cell_type": "code",
   "execution_count": null,
   "metadata": {},
   "outputs": [],
   "source": []
  },
  {
   "cell_type": "code",
   "execution_count": null,
   "metadata": {},
   "outputs": [],
   "source": []
  },
  {
   "cell_type": "markdown",
   "metadata": {},
   "source": [
    "#### dictionary의 삼총사 3view\n",
    "1. keys\n",
    "2. values\n",
    "3. items"
   ]
  },
  {
   "cell_type": "code",
   "execution_count": 174,
   "metadata": {},
   "outputs": [
    {
     "data": {
      "text/plain": [
       "dict_keys(['c', 'a', 'd', 'b'])"
      ]
     },
     "execution_count": 174,
     "metadata": {},
     "output_type": "execute_result"
    }
   ],
   "source": [
    "{ 'c' : 1, 'a' : 2, 'd' : 4, 'b' :3, }.keys()"
   ]
  },
  {
   "cell_type": "code",
   "execution_count": 175,
   "metadata": {},
   "outputs": [
    {
     "data": {
      "text/plain": [
       "dict_values([1, 2, 4, 3])"
      ]
     },
     "execution_count": 175,
     "metadata": {},
     "output_type": "execute_result"
    }
   ],
   "source": [
    "{ 'c' : 1, 'a' : 2, 'd' : 4, 'b' :3, }.values()"
   ]
  },
  {
   "cell_type": "code",
   "execution_count": 176,
   "metadata": {},
   "outputs": [
    {
     "data": {
      "text/plain": [
       "dict_items([('c', 1), ('a', 2), ('d', 4), ('b', 3)])"
      ]
     },
     "execution_count": 176,
     "metadata": {},
     "output_type": "execute_result"
    }
   ],
   "source": [
    "{ 'c' : 1, 'a' : 2, 'd' : 4, 'b' :3, }.items()"
   ]
  },
  {
   "cell_type": "markdown",
   "metadata": {},
   "source": [
    "#### in (dictionary) 는 keys만 뽑아간다\n"
   ]
  },
  {
   "cell_type": "code",
   "execution_count": 178,
   "metadata": {},
   "outputs": [
    {
     "name": "stdout",
     "output_type": "stream",
     "text": [
      "c\n",
      "a\n",
      "d\n",
      "b\n"
     ]
    }
   ],
   "source": [
    "# for문의 in에서의 dict는 keys만 뽑아간다\n",
    "for key in { 'c' : 1, 'a' : 2, 'd' : 4, 'b' :3, }:\n",
    "    print(key)"
   ]
  },
  {
   "cell_type": "code",
   "execution_count": 185,
   "metadata": {},
   "outputs": [
    {
     "data": {
      "text/plain": [
       "False"
      ]
     },
     "execution_count": 185,
     "metadata": {},
     "output_type": "execute_result"
    }
   ],
   "source": [
    "# 포함여부를 확인하는 in에서도 keys만 뽑아가서 비교한다\n",
    "2 in { 'c' : 1, 'a' : 2, 'd' : 4, 'b' :3, }"
   ]
  },
  {
   "cell_type": "code",
   "execution_count": 186,
   "metadata": {},
   "outputs": [
    {
     "data": {
      "text/plain": [
       "True"
      ]
     },
     "execution_count": 186,
     "metadata": {},
     "output_type": "execute_result"
    }
   ],
   "source": [
    "'a' in { 'c' : 1, 'a' : 2, 'd' : 4, 'b' :3, }"
   ]
  },
  {
   "cell_type": "code",
   "execution_count": 184,
   "metadata": {},
   "outputs": [
    {
     "ename": "TypeError",
     "evalue": "'in <string>' requires string as left operand, not int",
     "output_type": "error",
     "traceback": [
      "\u001b[1;31m---------------------------------------------------------------------------\u001b[0m",
      "\u001b[1;31mTypeError\u001b[0m                                 Traceback (most recent call last)",
      "\u001b[1;32m<ipython-input-184-5913ab42ed42>\u001b[0m in \u001b[0;36m<module>\u001b[1;34m\u001b[0m\n\u001b[0;32m      1\u001b[0m \u001b[1;31m# 참고\u001b[0m\u001b[1;33m\u001b[0m\u001b[1;33m\u001b[0m\u001b[1;33m\u001b[0m\u001b[0m\n\u001b[1;32m----> 2\u001b[1;33m \u001b[1;36m1\u001b[0m \u001b[1;32min\u001b[0m \u001b[1;34m'12345'\u001b[0m\u001b[1;33m\u001b[0m\u001b[1;33m\u001b[0m\u001b[0m\n\u001b[0m",
      "\u001b[1;31mTypeError\u001b[0m: 'in <string>' requires string as left operand, not int"
     ]
    }
   ],
   "source": [
    "# 참고\n",
    "1 in '12345'"
   ]
  },
  {
   "cell_type": "code",
   "execution_count": 183,
   "metadata": {},
   "outputs": [
    {
     "data": {
      "text/plain": [
       "True"
      ]
     },
     "execution_count": 183,
     "metadata": {},
     "output_type": "execute_result"
    }
   ],
   "source": [
    "'1' in '12345'"
   ]
  },
  {
   "cell_type": "markdown",
   "metadata": {},
   "source": [
    "#### dict의 없는 key를 호출시 -> keyError"
   ]
  },
  {
   "cell_type": "code",
   "execution_count": 187,
   "metadata": {},
   "outputs": [
    {
     "data": {
      "text/plain": [
       "1"
      ]
     },
     "execution_count": 187,
     "metadata": {},
     "output_type": "execute_result"
    }
   ],
   "source": [
    "x = { 'a':1, 'b':2}\n",
    "x['a']"
   ]
  },
  {
   "cell_type": "code",
   "execution_count": 188,
   "metadata": {},
   "outputs": [
    {
     "ename": "KeyError",
     "evalue": "'c'",
     "output_type": "error",
     "traceback": [
      "\u001b[1;31m---------------------------------------------------------------------------\u001b[0m",
      "\u001b[1;31mKeyError\u001b[0m                                  Traceback (most recent call last)",
      "\u001b[1;32m<ipython-input-188-7ede7ad315f3>\u001b[0m in \u001b[0;36m<module>\u001b[1;34m\u001b[0m\n\u001b[1;32m----> 1\u001b[1;33m \u001b[0mx\u001b[0m\u001b[1;33m[\u001b[0m\u001b[1;34m'c'\u001b[0m\u001b[1;33m]\u001b[0m\u001b[1;33m\u001b[0m\u001b[1;33m\u001b[0m\u001b[0m\n\u001b[0m",
      "\u001b[1;31mKeyError\u001b[0m: 'c'"
     ]
    }
   ],
   "source": [
    "# 딕셔너리에서 없는key를 불렀을 때는, KeyError가 난다\n",
    "x['c']"
   ]
  },
  {
   "cell_type": "markdown",
   "metadata": {},
   "source": [
    "#### KeyError를 안나도록 자동 key할당하는 Dictionary\n",
    "collections의 `defaultdict`"
   ]
  },
  {
   "cell_type": "code",
   "execution_count": 200,
   "metadata": {},
   "outputs": [],
   "source": [
    "from collections import defaultdict\n",
    "\n",
    "# 일단 명령어가 아닌 상세 사용법을 ? 로 확인해보자.\n",
    "?defaultdict"
   ]
  },
  {
   "cell_type": "markdown",
   "metadata": {},
   "source": [
    "#### KeyError가 안나도록, get()메서드로 key값을 넣어보자\n",
    "딕셔너리의 get명령어는 [,d]생략 가능하여\n",
    " 1. Dict.get( key )\n",
    " 2. Dict.get( key, default ) key가 없을 때의 default value를 넘겨준다"
   ]
  },
  {
   "cell_type": "code",
   "execution_count": 195,
   "metadata": {
    "scrolled": true
   },
   "outputs": [
    {
     "data": {
      "text/plain": [
       "['__class__',\n",
       " '__contains__',\n",
       " '__delattr__',\n",
       " '__delitem__',\n",
       " '__dir__',\n",
       " '__doc__',\n",
       " '__eq__',\n",
       " '__format__',\n",
       " '__ge__',\n",
       " '__getattribute__',\n",
       " '__getitem__',\n",
       " '__gt__',\n",
       " '__hash__',\n",
       " '__init__',\n",
       " '__init_subclass__',\n",
       " '__iter__',\n",
       " '__le__',\n",
       " '__len__',\n",
       " '__lt__',\n",
       " '__ne__',\n",
       " '__new__',\n",
       " '__reduce__',\n",
       " '__reduce_ex__',\n",
       " '__repr__',\n",
       " '__setattr__',\n",
       " '__setitem__',\n",
       " '__sizeof__',\n",
       " '__str__',\n",
       " '__subclasshook__',\n",
       " 'clear',\n",
       " 'copy',\n",
       " 'fromkeys',\n",
       " 'get',\n",
       " 'items',\n",
       " 'keys',\n",
       " 'pop',\n",
       " 'popitem',\n",
       " 'setdefault',\n",
       " 'update',\n",
       " 'values']"
      ]
     },
     "execution_count": 195,
     "metadata": {},
     "output_type": "execute_result"
    }
   ],
   "source": [
    "dir(x)"
   ]
  },
  {
   "cell_type": "code",
   "execution_count": 197,
   "metadata": {},
   "outputs": [],
   "source": [
    "# 딕셔너리의 get명령어는 [,d]생략 가능하여\n",
    "# 1. Dict.get( key )\n",
    "# 2. Dict.get( key, default ) key가 없을 때의 default value를 넘겨준다\n",
    "?x.get"
   ]
  },
  {
   "cell_type": "code",
   "execution_count": 198,
   "metadata": {},
   "outputs": [
    {
     "data": {
      "text/plain": [
       "1"
      ]
     },
     "execution_count": 198,
     "metadata": {},
     "output_type": "execute_result"
    }
   ],
   "source": [
    "x.get('a')"
   ]
  },
  {
   "cell_type": "code",
   "execution_count": 199,
   "metadata": {},
   "outputs": [
    {
     "data": {
      "text/plain": [
       "5"
      ]
     },
     "execution_count": 199,
     "metadata": {},
     "output_type": "execute_result"
    }
   ],
   "source": [
    "# 해당 key값이 없을 때는, KeyError를 내지 않고, default값 5를 배출한다\n",
    "x.get('adsf', 5)"
   ]
  },
  {
   "cell_type": "markdown",
   "metadata": {},
   "source": [
    "## Error의 종류 모음"
   ]
  },
  {
   "cell_type": "markdown",
   "metadata": {},
   "source": [
    "디버깅 할 때, 참고하자.\n",
    "\n",
    "1. `NameError` :  %whos에 없는 것들!!\n",
    "\n",
    "2. `IndexError` : indexing에서 인덱스 벗어날 때!! (slicing은 1:100000가능)\n",
    "\n",
    "3. `typeError` : 좌우비교시, 타입이 안맞을 때!!\n",
    "\n",
    "4. `KeyError` : dictionary에  키가 없을 때 나오는 에러!!"
   ]
  },
  {
   "cell_type": "code",
   "execution_count": null,
   "metadata": {},
   "outputs": [],
   "source": []
  },
  {
   "cell_type": "markdown",
   "metadata": {},
   "source": [
    "## 할당 4~5번째 이야기\n",
    "현재까지는  \n",
    "1. 할당 : a = 1\n",
    "2. 동시할당 : a, b = 1, 2\n",
    " - swapping, dynamic programing ex> finonacci\n",
    "3. 동시 & 나머지할당 : a, \\*b = 1,2,3,4\n",
    "  \n",
    "  \n",
    "재할당 : 기본적으로 메모리공간(id)가 바뀌나, interning하는 정수(-5~256)과 20자이내 공백없는 a-z문자열은, 같은 값이면, 어떤식별자든지 id() = 메모리공간 동일"
   ]
  },
  {
   "cell_type": "code",
   "execution_count": 202,
   "metadata": {},
   "outputs": [
    {
     "name": "stdout",
     "output_type": "stream",
     "text": [
      "1 와 1\n"
     ]
    }
   ],
   "source": [
    "# 4. 할당에 할당 - 기본적으로 변수를 동시에 초기화할때 사용하자.\n",
    "a=b=1\n",
    "print(a, '와', b)"
   ]
  },
  {
   "cell_type": "code",
   "execution_count": 203,
   "metadata": {},
   "outputs": [],
   "source": [
    "# mutable을 할당에 할당시\n",
    "a = b = [1, 2, 3, 4,]"
   ]
  },
  {
   "cell_type": "code",
   "execution_count": 204,
   "metadata": {},
   "outputs": [
    {
     "data": {
      "text/plain": [
       "[1, 2, 3, 4]"
      ]
     },
     "execution_count": 204,
     "metadata": {},
     "output_type": "execute_result"
    }
   ],
   "source": [
    "a"
   ]
  },
  {
   "cell_type": "code",
   "execution_count": 205,
   "metadata": {},
   "outputs": [
    {
     "data": {
      "text/plain": [
       "[1, 2, 3, 4]"
      ]
     },
     "execution_count": 205,
     "metadata": {},
     "output_type": "execute_result"
    }
   ],
   "source": [
    "b"
   ]
  },
  {
   "cell_type": "code",
   "execution_count": 206,
   "metadata": {},
   "outputs": [
    {
     "data": {
      "text/plain": [
       "[1, 2, 3, 4, 5]"
      ]
     },
     "execution_count": 206,
     "metadata": {},
     "output_type": "execute_result"
    }
   ],
   "source": [
    "b.append(5)\n",
    "b"
   ]
  },
  {
   "cell_type": "code",
   "execution_count": 207,
   "metadata": {},
   "outputs": [
    {
     "data": {
      "text/plain": [
       "[1, 2, 3, 4, 5]"
      ]
     },
     "execution_count": 207,
     "metadata": {},
     "output_type": "execute_result"
    }
   ],
   "source": [
    "# a와 b가 완벽하게 같은 id()를 가진다...\n",
    "# mutable들은 첫번째 번지의 메모리공간만 식별자가 가지게 되고,\n",
    "# 값이 바뀌더라도, 첫번째 번지는 동일하기 떄문에..\n",
    "a"
   ]
  },
  {
   "cell_type": "code",
   "execution_count": 209,
   "metadata": {},
   "outputs": [
    {
     "name": "stdout",
     "output_type": "stream",
     "text": [
      "1721614997128\n"
     ]
    },
    {
     "data": {
      "text/plain": [
       "1721614997128"
      ]
     },
     "execution_count": 209,
     "metadata": {},
     "output_type": "execute_result"
    }
   ],
   "source": [
    "print(id(a))\n",
    "id(b)"
   ]
  },
  {
   "cell_type": "code",
   "execution_count": 210,
   "metadata": {},
   "outputs": [
    {
     "data": {
      "text/plain": [
       "([1, 2, 3, 4, 5], [1, 2, 3, 4, 5])"
      ]
     },
     "execution_count": 210,
     "metadata": {},
     "output_type": "execute_result"
    }
   ],
   "source": [
    "# 두 식별자가 mutable의 첫번째 번지를 똑같이 가지고 있을 경우\n",
    "# 재할당 => 기본적으로 메모리공간 바뀌는 것을 이용한다\n",
    "a, b"
   ]
  },
  {
   "cell_type": "code",
   "execution_count": 211,
   "metadata": {},
   "outputs": [
    {
     "name": "stdout",
     "output_type": "stream",
     "text": [
      "1721636099336 1721614997128\n"
     ]
    }
   ],
   "source": [
    "a = [1,2,3,4,5]\n",
    "\n",
    "# a는 재할당했으니, 기본적으로 메모리공간이 바뀔 것이다. 그것이 첫번째 번지 주소라 할지라도\n",
    "print( id(a), id(b))"
   ]
  },
  {
   "cell_type": "code",
   "execution_count": 212,
   "metadata": {},
   "outputs": [
    {
     "name": "stdout",
     "output_type": "stream",
     "text": [
      "0x190d9821508 0x190d8401688\n"
     ]
    }
   ],
   "source": [
    "print( hex(id(a)), hex(id(b)))"
   ]
  },
  {
   "cell_type": "code",
   "execution_count": 213,
   "metadata": {},
   "outputs": [
    {
     "name": "stdout",
     "output_type": "stream",
     "text": [
      "2 0\n"
     ]
    }
   ],
   "source": [
    "# 5. 증감 할당\n",
    "a=b=1 # 할당에 할당\n",
    "a+=1\n",
    "b-=1\n",
    "print( a, b)"
   ]
  },
  {
   "cell_type": "code",
   "execution_count": 214,
   "metadata": {},
   "outputs": [
    {
     "data": {
      "text/plain": [
       "2"
      ]
     },
     "execution_count": 214,
     "metadata": {},
     "output_type": "execute_result"
    }
   ],
   "source": [
    "# java와 c의  ++a / --a 는???\n",
    "# C나 java에서는 ++a는 2가 나온다.\n",
    "# 그러나 파이썬에서는 증감연산자로 생각하지 않고, 부호연산자로 생각하기 때문이다.\n",
    "++a"
   ]
  },
  {
   "cell_type": "code",
   "execution_count": 215,
   "metadata": {},
   "outputs": [
    {
     "ename": "SyntaxError",
     "evalue": "invalid syntax (<ipython-input-215-22e3d6dc1353>, line 1)",
     "output_type": "error",
     "traceback": [
      "\u001b[1;36m  File \u001b[1;32m\"<ipython-input-215-22e3d6dc1353>\"\u001b[1;36m, line \u001b[1;32m1\u001b[0m\n\u001b[1;33m    a++\u001b[0m\n\u001b[1;37m       ^\u001b[0m\n\u001b[1;31mSyntaxError\u001b[0m\u001b[1;31m:\u001b[0m invalid syntax\n"
     ]
    }
   ],
   "source": [
    "# python에서는 더하기의 연산기호로 인식한다.\n",
    "a++"
   ]
  },
  {
   "cell_type": "code",
   "execution_count": null,
   "metadata": {},
   "outputs": [],
   "source": []
  },
  {
   "cell_type": "markdown",
   "metadata": {},
   "source": [
    "### 할당 5개 정리"
   ]
  },
  {
   "cell_type": "markdown",
   "metadata": {},
   "source": [
    "현재까지는  \n",
    "1. 할당 : a = 1\n",
    "2. 동시할당 : a, b = 1, 2\n",
    " - swapping, dynamic programing ex> finonacci\n",
    "3. 동시 & 나머지할당 : a, \\*b = 1,2,3,4\n",
    " - 앞/뒤의 확실한 할당 빼고 나머지를 전부 \\*붙은 식별자에 리스트로 할당\n",
    " - \\*a, = 1, 2, 3 은 나머지로 인식해서 다 들어간다. 콤마 없음 오류\n",
    "4. 할당에 할당 : a=b=1 \n",
    " - 동시에 여러 문자열 초기화할 때 사용\n",
    " - mutable의 첫번째 번지는 같이 할당되어 완전히 동일한 것으로 인식된다.\n",
    " - 그럴때는 하나를 재할당으로 메모리공간 바꿔준다.\n",
    "5. 증감**할당** : a+=1, b-=1\n",
    " - c나 java처럼 증감**연산**++a, a++는 없다. 그냥 더하기 연산으로 인식한다\n",
    "  \n",
    "`재할당` : 기본적으로 메모리공간(id)가 바뀌나, interning하는 정수(-5~256)과 20자이내 공백없는 a-z문자열은, 같은 값이면, 어떤식별자든지 id() = 메모리공간 동일"
   ]
  },
  {
   "cell_type": "markdown",
   "metadata": {},
   "source": [
    "### type 이름만 정리\n",
    "1. 숫자 : int, float, complex, bool\n",
    "2. 문자 : str, bytes, bytes array\n",
    "3. sequence : tuple, list, range\n",
    "4. non-sequence : set, frozenset\n",
    "5. dictionary"
   ]
  },
  {
   "cell_type": "markdown",
   "metadata": {},
   "source": [
    "### 동시할당을 이용한 피보나치"
   ]
  },
  {
   "cell_type": "code",
   "execution_count": 218,
   "metadata": {},
   "outputs": [
    {
     "name": "stdout",
     "output_type": "stream",
     "text": [
      "0, 1, 1, 2, 3, 5, 8, 13, 21, 34, 55, 89, 144, 233, 377, 610, 987, "
     ]
    }
   ],
   "source": [
    "# 초기항 2개 a1, a2에는 0과 1을 넣는다.\n",
    "# 출력은 a1만 하고, 그다음에는 a2를 땡겨올 것이다. 다음항 a2 = a1+a2이 될 것이다.\n",
    "a1, a2= 0, 1\n",
    "# 첫번째 항1000을 넘어가면 종료\n",
    "while a1<1000:\n",
    "    # [선처리] 초기값 a1을 써서 프린트 처리를 한다. 즉, 0, 1부터 출력할 것이다.\n",
    "    print(a1, end = ', ')\n",
    "    # [후증가]의 개념으로서, 다음 루프를 돌기전에 a1, a2를 변환해준다.\n",
    "    # 선처리=초기값을 사용한다. 후증가 = 처리가 끝난후 증가->검사, 마지막항은 1000보다 작은 값이 출력된다.\n",
    "    # a1에는 다음에 쓸 a2를 대입한다.\n",
    "    # a2에는 새로운 항인 a1+a2를 대입해 놓는다\n",
    "    a1, a2 = a2, a1+a2"
   ]
  },
  {
   "cell_type": "code",
   "execution_count": null,
   "metadata": {},
   "outputs": [],
   "source": []
  }
 ],
 "metadata": {
  "kernelspec": {
   "display_name": "Python 3",
   "language": "python",
   "name": "python3"
  },
  "language_info": {
   "codemirror_mode": {
    "name": "ipython",
    "version": 3
   },
   "file_extension": ".py",
   "mimetype": "text/x-python",
   "name": "python",
   "nbconvert_exporter": "python",
   "pygments_lexer": "ipython3",
   "version": "3.6.8"
  },
  "toc": {
   "base_numbering": 1,
   "nav_menu": {},
   "number_sections": true,
   "sideBar": true,
   "skip_h1_title": false,
   "title_cell": "Table of Contents",
   "title_sidebar": "Contents",
   "toc_cell": false,
   "toc_position": {
    "height": "calc(100% - 180px)",
    "left": "10px",
    "top": "150px",
    "width": "212.882px"
   },
   "toc_section_display": true,
   "toc_window_display": true
  }
 },
 "nbformat": 4,
 "nbformat_minor": 2
}

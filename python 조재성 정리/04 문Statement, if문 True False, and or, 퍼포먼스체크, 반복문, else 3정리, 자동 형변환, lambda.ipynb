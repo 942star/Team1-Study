{
 "cells": [
  {
   "cell_type": "markdown",
   "metadata": {},
   "source": [
    "## Statement ( 예약어 + 식 )"
   ]
  },
  {
   "cell_type": "markdown",
   "metadata": {},
   "source": [
    "**구문(Statement)과 과 식 식(Expression)**\n",
    "### 구문(statement) = 문\n",
    "\n",
    "**구문 또는 신택스(syntax)**란 프로그래밍 언어에서 프로그램의 모습, 형태, 구조가 어떻게 보이는지에 대해 정의하는 것이며, 구문은 정해진 문법을 이용한다.  \n",
    "* 예약어(reserved word, keyword)와 표현식을 결합한 패턴 \n",
    "* 컴퓨터가 수행해야 하는 하나의 단일 작업(instruction)을 명시. \n",
    "\n",
    "**할당 (대입, assigning statement)**  \n",
    "* python에서는 보통 ‘바인딩(binding)’이라는 표현을 씀, 어떤 값에 이름을 붙이는 작업.  \n",
    "\n",
    "**선언(정의, declaration)**  \n",
    "* 재사용이 가능한 독립적인 단위를 정의. 별도의 선언 문법과 그 내용을 기술하는 블럭 혹은 블럭들로 구성. \n",
    "    - Ex) python에서는 함수나 클래스를 정의 \n",
    "* 블럭 \n",
    "    - 여러 구문이 순서대로 나열된 덩어리 \n",
    "    - 블럭은 여러 줄의 구문으로 구성되며, 블럭 내에서 구문은 위에서 아래로 쓰여진 순서대로 실행. \n",
    "    - 블럭은 분기문에서 조건에 따라 수행되어야 할 작업이나, 반복문에서 반복적으로 수행해야 하는 일련의 작업을 나타낼 때 사용하며, 클래스나 함수를 정의할 때에도 쓰임. \n",
    "* 조건(분기) : 조건에 따라 수행할 작업을 나눌 때 사용. \n",
    "    - Ex) if 문 반복문 : 특정한 작업을 반복수행할때 사용. Ex) for 문 및 while 문 예외처리\n",
    "\n",
    "### 표현식 표현식(expression) = 평가식 = 식 \n",
    "* 값 \n",
    "* 값들과 연산자를 함께 사용해서 표현한 것 이후 '평가'되면서 하나의 특정한 결과값으로 축약\n",
    "    - 수 \n",
    "            - 1 + 1 \n",
    "                - 1 + 1 이라는 표현식은 평가될 때 2라는 값으로 계산되어 축약 \n",
    "                - 0과 같이 값 리터럴로 값을 표현해놓은 것 \n",
    "            - 문자열\n",
    "                - 'hello world' \n",
    "                - \"hello\" + \", world\" \n",
    "            -함수 \n",
    "                - lambda \n",
    "* 궁극적으로 '평가'되며, 평가된다는 것은 결국 하나의 값으로 수렴한다는 의미\n",
    "    - python 에서는 기본적으로 left-to-right 로  평가"
   ]
  },
  {
   "cell_type": "markdown",
   "metadata": {},
   "source": [
    "## if문과 True/False\n",
    "statement 中 1 인 `if문`과 관련된 True/False에 대해 학습.  \n",
    "**python에서 `True/False`(if a:)는 `존재론적 관점의 있다/없다`** -> 에러발생은 안한다.\n",
    "  \n",
    "  \n",
    "### 존재론적 관점(if a:)에서 `False`를 의미하는 7가지\n",
    "1. 0 : 정수 0\n",
    "2. 0.0 : 실수 0.0  \n",
    "    - 아래의 5개는 값은 0이 아니지만, 존재론적 관점에서 if a: False\n",
    "3. [] : 빈 리스트\n",
    "4. ( ) : 빈 튜플\n",
    "5. '' : 빈 문자열\n",
    "6. '''''' : 빈 문자열(인용부호6개)\n",
    "7. None : False와 달리 값이 없지만, 존재론적 관점에서는 0\n",
    "  \n",
    "  \n",
    "  \n",
    "### 주의 해야할 관점**  : `존재론적 없다(if a: false)` <--> `값`\n",
    "\n",
    "* **None([], (), '', '''''')**은 존재론적 관점(if a:)에서 **`없다`**이다. 값(==)은 **`0 이 아니다`.**\n",
    "* **False(0, 0.0)** 는 존재론적 관점(if a:)에서 **`없다`**지만, **값(==)이 `0`**으로 있어서 다르다"
   ]
  },
  {
   "cell_type": "markdown",
   "metadata": {},
   "source": [
    "참고로  \n",
    "`if`는 if문이 아니라 if조건**식(=하나의 값으로 나오는)** 이 가능하다.  \n"
   ]
  },
  {
   "cell_type": "code",
   "execution_count": 31,
   "metadata": {},
   "outputs": [
    {
     "name": "stdout",
     "output_type": "stream",
     "text": [
      "False\n"
     ]
    }
   ],
   "source": [
    "# 0은 존재하지 않는 것 = False\n",
    "if 0:\n",
    "    print('True')\n",
    "else:\n",
    "    print('False')"
   ]
  },
  {
   "cell_type": "code",
   "execution_count": 32,
   "metadata": {},
   "outputs": [
    {
     "data": {
      "text/plain": [
       "True"
      ]
     },
     "execution_count": 32,
     "metadata": {},
     "output_type": "execute_result"
    }
   ],
   "source": [
    "# 존재 없다. 값도 0\n",
    "0 == False"
   ]
  },
  {
   "cell_type": "code",
   "execution_count": 33,
   "metadata": {},
   "outputs": [
    {
     "name": "stdout",
     "output_type": "stream",
     "text": [
      "False\n"
     ]
    }
   ],
   "source": [
    "# 실수 0.0도 존재하지 않는 것 == False\n",
    "if 0.0:\n",
    "    print('True')\n",
    "else:\n",
    "    print('False')"
   ]
  },
  {
   "cell_type": "code",
   "execution_count": 34,
   "metadata": {},
   "outputs": [
    {
     "data": {
      "text/plain": [
       "True"
      ]
     },
     "execution_count": 34,
     "metadata": {},
     "output_type": "execute_result"
    }
   ],
   "source": [
    "# 존재 없다. 값도 0\n",
    "0.0 == False"
   ]
  },
  {
   "cell_type": "code",
   "execution_count": 35,
   "metadata": {},
   "outputs": [
    {
     "name": "stdout",
     "output_type": "stream",
     "text": [
      "False\n"
     ]
    }
   ],
   "source": [
    "# 빈 리스트도 존재가 없는 것 = False\n",
    "if []:\n",
    "    print('True')\n",
    "else:\n",
    "    print('False')"
   ]
  },
  {
   "cell_type": "code",
   "execution_count": 36,
   "metadata": {},
   "outputs": [
    {
     "data": {
      "text/plain": [
       "False"
      ]
     },
     "execution_count": 36,
     "metadata": {},
     "output_type": "execute_result"
    }
   ],
   "source": [
    "# 존재는 없다. 그러나 값은 0이 아니다.\n",
    "[] == False"
   ]
  },
  {
   "cell_type": "code",
   "execution_count": 37,
   "metadata": {},
   "outputs": [
    {
     "name": "stdout",
     "output_type": "stream",
     "text": [
      "False\n"
     ]
    }
   ],
   "source": [
    "# 빈 튜플도 없는 것\n",
    "if ():\n",
    "    print('True')\n",
    "else:\n",
    "    print('False')"
   ]
  },
  {
   "cell_type": "code",
   "execution_count": 38,
   "metadata": {},
   "outputs": [
    {
     "data": {
      "text/plain": [
       "False"
      ]
     },
     "execution_count": 38,
     "metadata": {},
     "output_type": "execute_result"
    }
   ],
   "source": [
    "() == False"
   ]
  },
  {
   "cell_type": "code",
   "execution_count": 39,
   "metadata": {},
   "outputs": [
    {
     "name": "stdout",
     "output_type": "stream",
     "text": [
      "False\n"
     ]
    }
   ],
   "source": [
    "# 빈 문자열도 없는 것\n",
    "if '':\n",
    "    print('True')\n",
    "else:\n",
    "    print('False')"
   ]
  },
  {
   "cell_type": "code",
   "execution_count": 40,
   "metadata": {},
   "outputs": [
    {
     "data": {
      "text/plain": [
       "False"
      ]
     },
     "execution_count": 40,
     "metadata": {},
     "output_type": "execute_result"
    }
   ],
   "source": [
    "'' == False"
   ]
  },
  {
   "cell_type": "code",
   "execution_count": 41,
   "metadata": {},
   "outputs": [
    {
     "name": "stdout",
     "output_type": "stream",
     "text": [
      "False\n"
     ]
    }
   ],
   "source": [
    "#'''''' 인용부호 6개도 없는 것 -> `''' 좌우 3개씩이 하나의 문자열이므로'''\n",
    "if '''''':\n",
    "    print('True')\n",
    "else:\n",
    "    print('False')"
   ]
  },
  {
   "cell_type": "code",
   "execution_count": 42,
   "metadata": {},
   "outputs": [
    {
     "data": {
      "text/plain": [
       "False"
      ]
     },
     "execution_count": 42,
     "metadata": {},
     "output_type": "execute_result"
    }
   ],
   "source": [
    "'''''' == False"
   ]
  },
  {
   "cell_type": "code",
   "execution_count": 43,
   "metadata": {},
   "outputs": [
    {
     "name": "stdout",
     "output_type": "stream",
     "text": [
      "False\n"
     ]
    }
   ],
   "source": [
    "# None도 없는 것\n",
    "if None:\n",
    "    print('True')\n",
    "else:\n",
    "    print('False')"
   ]
  },
  {
   "cell_type": "code",
   "execution_count": 44,
   "metadata": {},
   "outputs": [
    {
     "data": {
      "text/plain": [
       "False"
      ]
     },
     "execution_count": 44,
     "metadata": {},
     "output_type": "execute_result"
    }
   ],
   "source": [
    "None == False"
   ]
  },
  {
   "cell_type": "code",
   "execution_count": 45,
   "metadata": {},
   "outputs": [
    {
     "data": {
      "text/plain": [
       "True"
      ]
     },
     "execution_count": 45,
     "metadata": {},
     "output_type": "execute_result"
    }
   ],
   "source": [
    "# None과 False는 존재론적 관점에서 없는 것이 동일하지만\n",
    "# False는 bool형->int처럼쓰이는 0이라는 `값`이 있다.\n",
    "False == 0"
   ]
  },
  {
   "cell_type": "code",
   "execution_count": 46,
   "metadata": {},
   "outputs": [
    {
     "data": {
      "text/plain": [
       "False"
      ]
     },
     "execution_count": 46,
     "metadata": {},
     "output_type": "execute_result"
    }
   ],
   "source": [
    "None == 0"
   ]
  },
  {
   "cell_type": "code",
   "execution_count": 47,
   "metadata": {},
   "outputs": [
    {
     "data": {
      "text/plain": [
       "False"
      ]
     },
     "execution_count": 47,
     "metadata": {},
     "output_type": "execute_result"
    }
   ],
   "source": [
    "# False는 없다 지만, 값(==)으로는 0을 가진다.\n",
    "False == None"
   ]
  },
  {
   "cell_type": "markdown",
   "metadata": {},
   "source": [
    "### if문에서 멍청한 짓 in python\n",
    "\n",
    "python에서는 `if a: `만으로도, 존재론적 관점에서 `값이 있냐/없냐`를 판단할 수 있다."
   ]
  },
  {
   "cell_type": "code",
   "execution_count": 48,
   "metadata": {},
   "outputs": [
    {
     "name": "stdout",
     "output_type": "stream",
     "text": [
      "True\n"
     ]
    }
   ],
   "source": [
    "# a의 값이 있냐 없냐는 물어볼려면 (==)로 물어보든가.... 그냥 a:로 물어볼 수 있다.\n",
    "a = 1\n",
    "\n",
    "# 식별자 a에 메모리공간이 할당되어있느냐를 물어보고 있다...\n",
    "if a is not None:\n",
    "    print('True')\n",
    "else : \n",
    "    print('False')"
   ]
  },
  {
   "cell_type": "code",
   "execution_count": 49,
   "metadata": {},
   "outputs": [
    {
     "name": "stdout",
     "output_type": "stream",
     "text": [
      "True\n"
     ]
    }
   ],
   "source": [
    "# a의 값이 있냐없냐...\n",
    "if a != None:\n",
    "    print('True')\n",
    "else : \n",
    "    print('False')"
   ]
  },
  {
   "cell_type": "code",
   "execution_count": 50,
   "metadata": {},
   "outputs": [
    {
     "name": "stdout",
     "output_type": "stream",
     "text": [
      "True\n"
     ]
    }
   ],
   "source": [
    "# 진짜배기는 이거다\n",
    "\n",
    "if a:\n",
    "    print('True')\n",
    "else : \n",
    "    print('False')"
   ]
  },
  {
   "cell_type": "markdown",
   "metadata": {},
   "source": [
    "## if문을 위한,  and 와 or ,  &&와 | in python\n",
    "python에서 `and`와 `or`는 조금 독특하게 쓰인다.  \n",
    "앞에서부터 **순차적으로** True인지 False인지 확인한다.  \n",
    "* **`and`** : 순차적으로 보다가...  \n",
    "    - True가 나타나면, 다음 것으로 넘어간다\n",
    "    - **False가 나타나면, False를 그대로 return**\n",
    "    - **모두 True면, 맨 마지막값을 return**  \n",
    "    \n",
    "    \n",
    "* **`or`** : 순차적으로 보다가...  \n",
    "    - **True가 나타나면 , True를 그대로 return**\n",
    "\n",
    "  \n",
    "python에서는 **&&가 없지만, `|`는 있다.**\n"
   ]
  },
  {
   "cell_type": "markdown",
   "metadata": {},
   "source": [
    "### and \n",
    "존재론적으로..  \n",
    "* true가 나타나면 넘어가고, all true면 마지막 true값 리턴\n",
    "* false가 나타나는 순간 false인 값 리턴"
   ]
  },
  {
   "cell_type": "code",
   "execution_count": 51,
   "metadata": {},
   "outputs": [
    {
     "data": {
      "text/plain": [
       "3"
      ]
     },
     "execution_count": 51,
     "metadata": {},
     "output_type": "execute_result"
    }
   ],
   "source": [
    "# true가 나오면 넘어가다가 all true면, 맨 마지막 true값 리턴\n",
    "1 and 3"
   ]
  },
  {
   "cell_type": "code",
   "execution_count": 52,
   "metadata": {},
   "outputs": [
    {
     "data": {
      "text/plain": [
       "0"
      ]
     },
     "execution_count": 52,
     "metadata": {},
     "output_type": "execute_result"
    }
   ],
   "source": [
    "# 존재론적 false가 나타나면, false값 리턴\n",
    "0 and 3"
   ]
  },
  {
   "cell_type": "code",
   "execution_count": 53,
   "metadata": {},
   "outputs": [
    {
     "data": {
      "text/plain": [
       "''"
      ]
     },
     "execution_count": 53,
     "metadata": {},
     "output_type": "execute_result"
    }
   ],
   "source": [
    "# false가 나타나면 리턴\n",
    "\"\" and 3"
   ]
  },
  {
   "cell_type": "code",
   "execution_count": 54,
   "metadata": {},
   "outputs": [
    {
     "data": {
      "text/plain": [
       "''"
      ]
     },
     "execution_count": 54,
     "metadata": {},
     "output_type": "execute_result"
    }
   ],
   "source": [
    "'''''' and 3"
   ]
  },
  {
   "cell_type": "markdown",
   "metadata": {},
   "source": [
    "### or\n",
    "존재론적으로....  \n",
    "* false가 나오면 넘어가다가, all false면, 마지막 false값 리턴\n",
    "* true가 나오는 순간, true인 값 리턴"
   ]
  },
  {
   "cell_type": "code",
   "execution_count": 55,
   "metadata": {},
   "outputs": [
    {
     "data": {
      "text/plain": [
       "0.0"
      ]
     },
     "execution_count": 55,
     "metadata": {},
     "output_type": "execute_result"
    }
   ],
   "source": [
    "# false가 나오면 넘어가다가 all false면, 맨 마지막 false 값 리턴\n",
    "0 or 0.0"
   ]
  },
  {
   "cell_type": "code",
   "execution_count": 56,
   "metadata": {},
   "outputs": [
    {
     "data": {
      "text/plain": [
       "1"
      ]
     },
     "execution_count": 56,
     "metadata": {},
     "output_type": "execute_result"
    }
   ],
   "source": [
    "# true가 나오는 순간, true값 리턴\n",
    "0 or 1 or 0.0"
   ]
  },
  {
   "cell_type": "code",
   "execution_count": 57,
   "metadata": {},
   "outputs": [
    {
     "data": {
      "text/plain": [
       "3"
      ]
     },
     "execution_count": 57,
     "metadata": {},
     "output_type": "execute_result"
    }
   ],
   "source": [
    "0 or 3"
   ]
  },
  {
   "cell_type": "markdown",
   "metadata": {},
   "source": [
    "my) and는 false를 밝히고, or는 true에 환장한다"
   ]
  },
  {
   "cell_type": "markdown",
   "metadata": {},
   "source": [
    "### and 와 or 섞어서\n",
    "좋아하는 것에 걸려 return한 값... 그대로 뒷 연산자서 사용하자.."
   ]
  },
  {
   "cell_type": "code",
   "execution_count": 58,
   "metadata": {},
   "outputs": [
    {
     "data": {
      "text/plain": [
       "3"
      ]
     },
     "execution_count": 58,
     "metadata": {},
     "output_type": "execute_result"
    }
   ],
   "source": [
    "# and는 false를, or는 true를 기다리고 있다.\n",
    "3\n",
    "1 and 3 or 2"
   ]
  },
  {
   "cell_type": "code",
   "execution_count": 59,
   "metadata": {},
   "outputs": [
    {
     "data": {
      "text/plain": [
       "3"
      ]
     },
     "execution_count": 59,
     "metadata": {},
     "output_type": "execute_result"
    }
   ],
   "source": [
    "# 2를 retrun -> 2 and 3 -> all true -> 3\n",
    "0 or 2 and 3"
   ]
  },
  {
   "cell_type": "code",
   "execution_count": null,
   "metadata": {},
   "outputs": [],
   "source": []
  },
  {
   "cell_type": "markdown",
   "metadata": {},
   "source": [
    "### and / or 요소에 ZeroDivisionError가 있어도...\n",
    "\n",
    "0으로 나누는 식은 error식이다. 그러나 **and / or 에서 순차적으로 가다가  error문을 거치기 전에 끝나면** 괜찮다!"
   ]
  },
  {
   "cell_type": "code",
   "execution_count": 60,
   "metadata": {},
   "outputs": [
    {
     "ename": "ZeroDivisionError",
     "evalue": "division by zero",
     "output_type": "error",
     "traceback": [
      "\u001b[1;31m---------------------------------------------------------------------------\u001b[0m",
      "\u001b[1;31mZeroDivisionError\u001b[0m                         Traceback (most recent call last)",
      "\u001b[1;32m<ipython-input-60-e1965806ec03>\u001b[0m in \u001b[0;36m<module>\u001b[1;34m\u001b[0m\n\u001b[1;32m----> 1\u001b[1;33m \u001b[1;36m3\u001b[0m \u001b[1;33m/\u001b[0m \u001b[1;36m0\u001b[0m\u001b[1;33m\u001b[0m\u001b[1;33m\u001b[0m\u001b[0m\n\u001b[0m",
      "\u001b[1;31mZeroDivisionError\u001b[0m: division by zero"
     ]
    }
   ],
   "source": [
    "3 / 0"
   ]
  },
  {
   "cell_type": "code",
   "execution_count": 61,
   "metadata": {},
   "outputs": [
    {
     "ename": "ZeroDivisionError",
     "evalue": "division by zero",
     "output_type": "error",
     "traceback": [
      "\u001b[1;31m---------------------------------------------------------------------------\u001b[0m",
      "\u001b[1;31mZeroDivisionError\u001b[0m                         Traceback (most recent call last)",
      "\u001b[1;32m<ipython-input-61-457267259f25>\u001b[0m in \u001b[0;36m<module>\u001b[1;34m\u001b[0m\n\u001b[0;32m      1\u001b[0m \u001b[1;31m# or는 true를 밝힌다. false가 나오면 지나간다\u001b[0m\u001b[1;33m\u001b[0m\u001b[1;33m\u001b[0m\u001b[1;33m\u001b[0m\u001b[0m\n\u001b[1;32m----> 2\u001b[1;33m \u001b[1;36m0\u001b[0m \u001b[1;32mor\u001b[0m \u001b[1;36m3\u001b[0m \u001b[1;33m/\u001b[0m \u001b[1;36m0\u001b[0m\u001b[1;33m\u001b[0m\u001b[1;33m\u001b[0m\u001b[0m\n\u001b[0m",
      "\u001b[1;31mZeroDivisionError\u001b[0m: division by zero"
     ]
    }
   ],
   "source": [
    "# or는 true를 밝힌다. false가 나오면 지나간다\n",
    "0 or 3 / 0"
   ]
  },
  {
   "cell_type": "code",
   "execution_count": null,
   "metadata": {},
   "outputs": [],
   "source": [
    "# or는 true를 밝히다가, 에러를 보지도 못하고 return\n",
    "1 or 3/0"
   ]
  },
  {
   "cell_type": "code",
   "execution_count": null,
   "metadata": {},
   "outputs": [],
   "source": [
    "# and는 false를 밝힌다.\n",
    "1 and 3/0"
   ]
  },
  {
   "cell_type": "code",
   "execution_count": 62,
   "metadata": {},
   "outputs": [
    {
     "data": {
      "text/plain": [
       "0"
      ]
     },
     "execution_count": 62,
     "metadata": {},
     "output_type": "execute_result"
    }
   ],
   "source": [
    "# and는 false가 나오면 뒤에 에러 보지도 않고 바로 리턴\n",
    "0 and 3/0"
   ]
  },
  {
   "cell_type": "code",
   "execution_count": null,
   "metadata": {},
   "outputs": [],
   "source": []
  },
  {
   "cell_type": "code",
   "execution_count": 63,
   "metadata": {},
   "outputs": [
    {
     "ename": "SyntaxError",
     "evalue": "invalid syntax (<ipython-input-63-1bedcfa28789>, line 2)",
     "output_type": "error",
     "traceback": [
      "\u001b[1;36m  File \u001b[1;32m\"<ipython-input-63-1bedcfa28789>\"\u001b[1;36m, line \u001b[1;32m2\u001b[0m\n\u001b[1;33m    1 && 1\u001b[0m\n\u001b[1;37m       ^\u001b[0m\n\u001b[1;31mSyntaxError\u001b[0m\u001b[1;31m:\u001b[0m invalid syntax\n"
     ]
    }
   ],
   "source": [
    "# python에서는 &&가 없다\n",
    "1 && 1"
   ]
  },
  {
   "cell_type": "code",
   "execution_count": 64,
   "metadata": {},
   "outputs": [
    {
     "data": {
      "text/plain": [
       "2"
      ]
     },
     "execution_count": 64,
     "metadata": {},
     "output_type": "execute_result"
    }
   ],
   "source": [
    "# python에서는 | 만 존재한다.\n",
    "0 | 2 | 0"
   ]
  },
  {
   "cell_type": "markdown",
   "metadata": {},
   "source": [
    "## %%timeit과 %%time 퍼포먼스 체크\n",
    "* `%timeit` : 여러번 시간을 잰뒤,  걸리는시간 + 신뢰구간 제시\n",
    "* `%time` :   1번만 돌고나서, 걸리는 시간 제시"
   ]
  },
  {
   "cell_type": "markdown",
   "metadata": {},
   "source": [
    "## 반복문\n",
    "반복하는 예약어 + 식"
   ]
  },
  {
   "cell_type": "code",
   "execution_count": 65,
   "metadata": {},
   "outputs": [
    {
     "name": "stdout",
     "output_type": "stream",
     "text": [
      "2.02 µs ± 69.4 ns per loop (mean ± std. dev. of 7 runs, 1000000 loops each)\n"
     ]
    }
   ],
   "source": [
    "%%timeit\n",
    "\n",
    "temp = []\n",
    "for i in range(10):\n",
    "    temp.append(i)"
   ]
  },
  {
   "cell_type": "code",
   "execution_count": 66,
   "metadata": {},
   "outputs": [
    {
     "name": "stdout",
     "output_type": "stream",
     "text": [
      "Wall time: 0 ns\n"
     ]
    }
   ],
   "source": [
    "%%time\n",
    "\n",
    "temp = []\n",
    "for i in range(10):\n",
    "    temp.append(i)"
   ]
  },
  {
   "cell_type": "markdown",
   "metadata": {},
   "source": [
    "### for반복문과 in 속 Iterable\n",
    "for 반복문의 `in`다음에 올 수 있는 것을 `iterable`이라고 하며,  \n",
    "`itertor`란 **순서와 무관하게  원소를 하나씩 뽑아 낼 수 있는 우리가 알고 있는 container 9가지**를 의미한다.  \n",
    "\n",
    "1. sequence형 6가지 container는 모두 iterable\n",
    "    * str, bytes, bytearray\n",
    "    * tuple - list \n",
    "    * range\n",
    "----\n",
    "2. non-sequence형 3가지 container도 모두 iterable\n",
    "    * set - frozenset\n",
    "    * dictionary\n",
    "---\n",
    "3. iterable이 될 수 없는 숫자형 4가지\n",
    "    * int, float, complex, bool\n",
    "    \n",
    "    \n",
    "**iterable을 가져오는 방식**\n",
    "1. iterable의 class를 상속한다.\n",
    "2. duck-typing 방식을 사용한다.\n",
    "\n"
   ]
  },
  {
   "cell_type": "markdown",
   "metadata": {},
   "source": [
    "#### sequence container 6가지를 iterable로 사용해보기\n",
    "* str, bytes, bytearray\n",
    "* tuple, list, range"
   ]
  },
  {
   "cell_type": "code",
   "execution_count": 67,
   "metadata": {},
   "outputs": [
    {
     "name": "stdout",
     "output_type": "stream",
     "text": [
      "문\n",
      "근\n",
      "영\n"
     ]
    }
   ],
   "source": [
    "# str를 iterable로 \n",
    "for i in '문근영':\n",
    "    print(i)"
   ]
  },
  {
   "cell_type": "code",
   "execution_count": 68,
   "metadata": {},
   "outputs": [
    {
     "name": "stdout",
     "output_type": "stream",
     "text": [
      "1\n",
      "2\n",
      "3\n",
      "문근영\n",
      "4\n"
     ]
    }
   ],
   "source": [
    "# 괄호생략한 튜플을 iterable로\n",
    "for i in 1, 2, 3, '문근영', 4:\n",
    "    print(i)"
   ]
  },
  {
   "cell_type": "code",
   "execution_count": 71,
   "metadata": {},
   "outputs": [
    {
     "data": {
      "text/plain": [
       "(1, 2, 3)"
      ]
     },
     "execution_count": 71,
     "metadata": {},
     "output_type": "execute_result"
    }
   ],
   "source": [
    "# 참고)\n",
    "# 괄호없는 튜플\n",
    "a = 1, 2, 3\n",
    "a"
   ]
  },
  {
   "cell_type": "code",
   "execution_count": 73,
   "metadata": {},
   "outputs": [
    {
     "name": "stdout",
     "output_type": "stream",
     "text": [
      "3 2 1\n"
     ]
    }
   ],
   "source": [
    "# 동시할당을 통해 튜플을 unpacking(분리)\n",
    "a, b, c = 1, 2, 3\n",
    "print(c, b, a)"
   ]
  },
  {
   "cell_type": "code",
   "execution_count": 90,
   "metadata": {},
   "outputs": [
    {
     "name": "stdout",
     "output_type": "stream",
     "text": [
      "3 2 1\n"
     ]
    }
   ],
   "source": [
    "# 튜플의 원소개수만큼을 동시할당시켜 분리하는 unpacking\n",
    "\n",
    "# 괄호x튜플 unpacking\n",
    "a, b, c = 1, 2, 3\n",
    "# 괄호o튜플 unpacking\n",
    "d, e, f = (1, 2, 3,)\n",
    "\n",
    "print(f, e, d)"
   ]
  },
  {
   "cell_type": "code",
   "execution_count": 75,
   "metadata": {},
   "outputs": [
    {
     "name": "stdout",
     "output_type": "stream",
     "text": [
      "튜플을 unpacking하면,  1와 2\n",
      "튜플을 unpacking하면,  2와 3\n"
     ]
    }
   ],
   "source": [
    "# iterable로 나오는 각 원소들은\n",
    "# 원소의 수만큼 인자로 주면, container를 언패킹(unpacking)할 수 있다.\n",
    "tu_list  = [(1, 2), (2, 3)]\n",
    "for i, j in tu_list:\n",
    "    print(f'튜플을 unpacking하면,  {i}와 {j}')"
   ]
  },
  {
   "cell_type": "code",
   "execution_count": 76,
   "metadata": {
    "scrolled": true
   },
   "outputs": [
    {
     "name": "stdout",
     "output_type": "stream",
     "text": [
      "1 51\n",
      "2 52\n",
      "3 53\n",
      "4 54\n",
      "5 55\n",
      "6 56\n",
      "7 57\n",
      "8 58\n",
      "9 59\n",
      "10 60\n",
      "11 61\n",
      "12 62\n",
      "13 63\n",
      "14 64\n",
      "15 65\n",
      "16 66\n",
      "17 67\n",
      "18 68\n",
      "19 69\n",
      "20 70\n",
      "21 71\n",
      "22 72\n",
      "23 73\n",
      "24 74\n",
      "25 75\n",
      "26 76\n",
      "27 77\n",
      "28 78\n",
      "29 79\n",
      "30 80\n",
      "31 81\n",
      "32 82\n",
      "33 83\n",
      "34 84\n",
      "35 85\n",
      "36 86\n",
      "37 87\n",
      "38 88\n",
      "39 89\n",
      "40 90\n",
      "41 91\n",
      "42 92\n",
      "43 93\n",
      "44 94\n",
      "45 95\n",
      "46 96\n",
      "47 97\n",
      "48 98\n",
      "49 99\n",
      "50 100\n"
     ]
    }
   ],
   "source": [
    "# zip을 쓰면, 2개의 container를 튜플unpacking처럼 할 수 있다.\n",
    "for x, y in zip(range(1, 51), range(51, 101)):\n",
    "    print(x, y)"
   ]
  },
  {
   "cell_type": "code",
   "execution_count": 77,
   "metadata": {},
   "outputs": [
    {
     "name": "stdout",
     "output_type": "stream",
     "text": [
      "1\n",
      "2\n",
      "문근영\n"
     ]
    }
   ],
   "source": [
    "# list를 iterable로\n",
    "for i in [1, 2, '문근영']:\n",
    "    print(i)"
   ]
  },
  {
   "cell_type": "code",
   "execution_count": 78,
   "metadata": {},
   "outputs": [
    {
     "name": "stdout",
     "output_type": "stream",
     "text": [
      "0\n",
      "1\n",
      "2\n",
      "3\n",
      "4\n",
      "5\n",
      "6\n",
      "7\n",
      "8\n",
      "9\n"
     ]
    }
   ],
   "source": [
    "# range를 iterable로 \n",
    "for i in range(10):\n",
    "    print(i)"
   ]
  },
  {
   "cell_type": "markdown",
   "metadata": {},
   "source": [
    "#### non-sequence container 3가지를 iterable로 \n",
    "* set, frozonset, dictionary"
   ]
  },
  {
   "cell_type": "code",
   "execution_count": 79,
   "metadata": {},
   "outputs": [
    {
     "name": "stdout",
     "output_type": "stream",
     "text": [
      "1\n",
      "2\n",
      "3\n"
     ]
    }
   ],
   "source": [
    "# set을 iterable로\n",
    "# set은 iterable로서 하나의 원소를 뽑아내기 전에, < 내부 순서 관리 >를 해서 나온다!\n",
    "for i in {3, 1, 2}:\n",
    "    print(i)"
   ]
  },
  {
   "cell_type": "code",
   "execution_count": 80,
   "metadata": {},
   "outputs": [
    {
     "name": "stdout",
     "output_type": "stream",
     "text": [
      "a\n",
      "b\n"
     ]
    }
   ],
   "source": [
    "# dict를 iterable로\n",
    "# 기본적으로 key만 뽑아쓴다. = dict.keys()\n",
    "for i in {'a':1, 'b':2}:\n",
    "    print(i)"
   ]
  },
  {
   "cell_type": "code",
   "execution_count": 81,
   "metadata": {},
   "outputs": [
    {
     "name": "stdout",
     "output_type": "stream",
     "text": [
      "1\n",
      "2\n"
     ]
    }
   ],
   "source": [
    "# dict.values()를 iterable로\n",
    "for i in {'a':1, 'b':2}.values():\n",
    "    print(i)"
   ]
  },
  {
   "cell_type": "code",
   "execution_count": 82,
   "metadata": {},
   "outputs": [
    {
     "name": "stdout",
     "output_type": "stream",
     "text": [
      "('a', 1) <class 'tuple'>\n",
      "('b', 2) <class 'tuple'>\n"
     ]
    }
   ],
   "source": [
    "# dict.items() -> 1개의 인자로 받을 경우 ( key, value)의 튜플 !!!\n",
    "for i in {'a':1, 'b':2}.items():\n",
    "    print(i, type(i))"
   ]
  },
  {
   "cell_type": "code",
   "execution_count": 83,
   "metadata": {},
   "outputs": [
    {
     "name": "stdout",
     "output_type": "stream",
     "text": [
      "a <class 'str'> 1 <class 'int'>\n",
      "b <class 'str'> 2 <class 'int'>\n"
     ]
    }
   ],
   "source": [
    "# dict.items() -> 2개의 인자로 받을 경우 (key, value)의 container를  unpacking\n",
    "for i,j  in {'a':1, 'b':2}.items():\n",
    "    print(i, type(i), j, type(j))"
   ]
  },
  {
   "cell_type": "markdown",
   "metadata": {},
   "source": [
    "### 반복문 + else문\n",
    "특히하게, if + else문이 아니라 `반복문(for, while) + else문`의 형태는 \n",
    "* for문이 **완벽하게 모두 완료**된 경우 else문이 실행된다\n",
    "* for문이 **`break` 등으로 조기종료, `raise`등으로 error가 발생**하는 경우, else문이 실행되지 않는다.   \n",
    "* while문은 **조건에 걸려 0회전 돌았어도, 모두 완료한 것**으로 보고 else문이 실행된다.  \n",
    "  \n",
    "  \n",
    "**hyper parameter tunning**시 잘 쓰인다고 한다.\n",
    " - 엄청나게 많은 for문이 메모리 안터지고, 완벽하게 완료 되었다면?, 텔레그램 봇으로 else가 작동되게 한다"
   ]
  },
  {
   "cell_type": "code",
   "execution_count": 84,
   "metadata": {},
   "outputs": [
    {
     "name": "stdout",
     "output_type": "stream",
     "text": [
      "a 1\n",
      "b 2\n",
      "for문 완벽 완료\n",
      "else문 실행\n"
     ]
    }
   ],
   "source": [
    "# for문이 모두 돌면, else문이 실행된다.\n",
    "for i,j in {'a':1,'b':2}.items():\n",
    "    print(i,j)\n",
    "else :\n",
    "    print('for문 완벽 완료')\n",
    "    print('else문 실행')"
   ]
  },
  {
   "cell_type": "code",
   "execution_count": 85,
   "metadata": {},
   "outputs": [
    {
     "name": "stdout",
     "output_type": "stream",
     "text": [
      "0\n",
      "1\n",
      "2\n",
      "3\n",
      "4\n",
      "5\n",
      "6\n",
      "7\n",
      "8\n",
      "9\n"
     ]
    }
   ],
   "source": [
    "# for반복문이 break로 끝어졌다면? else문이 실행 안된다.\n",
    "for i in range(100):\n",
    "    if i==10:\n",
    "        break\n",
    "    else :\n",
    "        print(i)\n",
    "else :\n",
    "    print('for문 완벽종료->else 실행')"
   ]
  },
  {
   "cell_type": "code",
   "execution_count": 86,
   "metadata": {},
   "outputs": [
    {
     "name": "stdout",
     "output_type": "stream",
     "text": [
      "0\n",
      "1\n",
      "2\n",
      "3\n",
      "4\n"
     ]
    },
    {
     "ename": "RuntimeError",
     "evalue": "No active exception to reraise",
     "output_type": "error",
     "traceback": [
      "\u001b[1;31m---------------------------------------------------------------------------\u001b[0m",
      "\u001b[1;31mRuntimeError\u001b[0m                              Traceback (most recent call last)",
      "\u001b[1;32m<ipython-input-86-1732a7431e81>\u001b[0m in \u001b[0;36m<module>\u001b[1;34m\u001b[0m\n\u001b[0;32m      3\u001b[0m \u001b[1;32mfor\u001b[0m \u001b[0mi\u001b[0m \u001b[1;32min\u001b[0m \u001b[0mrange\u001b[0m\u001b[1;33m(\u001b[0m\u001b[1;36m10\u001b[0m\u001b[1;33m)\u001b[0m\u001b[1;33m:\u001b[0m\u001b[1;33m\u001b[0m\u001b[1;33m\u001b[0m\u001b[0m\n\u001b[0;32m      4\u001b[0m     \u001b[1;32mif\u001b[0m \u001b[0mi\u001b[0m \u001b[1;33m==\u001b[0m \u001b[1;36m5\u001b[0m\u001b[1;33m:\u001b[0m\u001b[1;33m\u001b[0m\u001b[1;33m\u001b[0m\u001b[0m\n\u001b[1;32m----> 5\u001b[1;33m         \u001b[1;32mraise\u001b[0m\u001b[1;33m\u001b[0m\u001b[1;33m\u001b[0m\u001b[0m\n\u001b[0m\u001b[0;32m      6\u001b[0m     \u001b[1;32melse\u001b[0m\u001b[1;33m:\u001b[0m\u001b[1;33m\u001b[0m\u001b[1;33m\u001b[0m\u001b[0m\n\u001b[0;32m      7\u001b[0m         \u001b[0mprint\u001b[0m\u001b[1;33m(\u001b[0m\u001b[0mi\u001b[0m\u001b[1;33m)\u001b[0m\u001b[1;33m\u001b[0m\u001b[1;33m\u001b[0m\u001b[0m\n",
      "\u001b[1;31mRuntimeError\u001b[0m: No active exception to reraise"
     ]
    }
   ],
   "source": [
    "# for반복문이 돌다가 raise(error)가 발생하면? else문이 실행 안된다.\n",
    "\n",
    "for i in range(10):\n",
    "    if i == 5:\n",
    "        raise\n",
    "    else:\n",
    "        print(i)\n",
    "else:\n",
    "    print('for문 완벽종료->else 실행')"
   ]
  },
  {
   "cell_type": "code",
   "execution_count": 91,
   "metadata": {},
   "outputs": [
    {
     "name": "stdout",
     "output_type": "stream",
     "text": [
      "0\n",
      "1\n",
      "2\n",
      "3\n",
      "4\n",
      "5\n",
      "6\n",
      "7\n",
      "8\n",
      "9\n",
      "11\n",
      "12\n",
      "13\n",
      "14\n",
      "15\n",
      "16\n",
      "17\n",
      "18\n",
      "19\n",
      "10을 건너뛰는 continue가 있어도, break/raise만 아니면, for문 완료후 esle문 실행\n"
     ]
    }
   ],
   "source": [
    "# for \n",
    "for i in range(20):\n",
    "    if i == 10:\n",
    "        continue\n",
    "    else:\n",
    "        print(i)\n",
    "else:\n",
    "    print('10을 건너뛰는 continue가 있어도, break/raise만 아니면, for문 완료후 esle문 실행')"
   ]
  },
  {
   "cell_type": "code",
   "execution_count": 87,
   "metadata": {},
   "outputs": [
    {
     "name": "stdout",
     "output_type": "stream",
     "text": [
      "while은 조건에 걸려 0회전 되어도 모두 완료로 취급 -> else문 실행\n"
     ]
    }
   ],
   "source": [
    "# while반복문은 0회전부터 시작한다.\n",
    "# 0회전 돌았어도, 완벽 종료로서 else문이 실행된다.\n",
    "a = 10\n",
    "\n",
    "while a>10:\n",
    "    a -= 1\n",
    "    # 작아지다가 5일 경우 건너뛰자.\n",
    "    if a==5:\n",
    "        continue\n",
    "    print(a)\n",
    "else:\n",
    "    print('while은 조건에 걸려 0회전 되어도 모두 완료로 취급 -> else문 실행')\n",
    "    "
   ]
  },
  {
   "cell_type": "markdown",
   "metadata": {},
   "source": [
    "#### 반복문 + else문의 else가 작동하지 않는 경우\n",
    "1. break를 통해 직접 종료\n",
    "2. error가 발생한 경우"
   ]
  },
  {
   "cell_type": "markdown",
   "metadata": {},
   "source": [
    "### While반복문과 else문\n",
    "\n",
    "while문도 for문과 마찬가지로 break/raise가 없다면, else문이 실행된다.  \n",
    "특이하게도, 처음 조건에 걸려 실행을 못했어도 **0회전 완료로 보고 else문이 실행**된다."
   ]
  },
  {
   "cell_type": "code",
   "execution_count": 93,
   "metadata": {},
   "outputs": [
    {
     "name": "stdout",
     "output_type": "stream",
     "text": [
      "문근영\n"
     ]
    }
   ],
   "source": [
    "# while문에서도 완벽히 실행되면 else가 실행된다.\n",
    "# a>10 조건이 처음부터 부합하지 않아서 print가 안 찍혔다. 그럼에도 불구하고 else가 실행되었다.\n",
    "# 0번도 완벽히 돌았다고 간주하고 else가 실행된다.\n",
    "\n",
    "a = 10\n",
    "while a>10:\n",
    "    a-=1\n",
    "    print(a)\n",
    "else:\n",
    "    print('문근영')"
   ]
  },
  {
   "cell_type": "code",
   "execution_count": null,
   "metadata": {},
   "outputs": [],
   "source": []
  },
  {
   "cell_type": "code",
   "execution_count": null,
   "metadata": {},
   "outputs": [],
   "source": []
  },
  {
   "cell_type": "code",
   "execution_count": null,
   "metadata": {},
   "outputs": [],
   "source": []
  },
  {
   "cell_type": "markdown",
   "metadata": {},
   "source": [
    "#### 무한루프(while True:)를 만들 수 있는 while반복문\n",
    "for 반복문과의 가장 큰 차이점은 **while**은 **무한루프**가 가능하다는 것이다.  \n",
    "for는 iterable의 원소를 다 꺼내쓰면 종료된다.   \n",
    "  \n",
    "  \n",
    "  \n",
    "**무한 루프(`while True:)`** + **`try ~ except ~ else`**로 로그인 시스템을 만들 수 있다.\n",
    "1. **try**로 무한루프 상태에서 **input**을 받을 수 있다.\n",
    "    1. **except**의 예외사항일 경우, **건너뛰거나(continue) 예외처리**를 한다\n",
    "    2. **else**를 통해, **try의 정상 종료 후 작업**을 한다.\n",
    " \n",
    " \n",
    "* `try` --> `except(에러, 예외)`와 **`else(정상종료)`**의 경우의 수를 가진다!!"
   ]
  },
  {
   "cell_type": "code",
   "execution_count": 95,
   "metadata": {},
   "outputs": [
    {
     "name": "stdout",
     "output_type": "stream",
     "text": [
      "1\n",
      "<class 'str'>\n",
      "숫자를 int로 바꿔놨어요!\n"
     ]
    }
   ],
   "source": [
    "# try는 한번만 실행된 뒤, except로 가거나 else로 간다\n",
    "# input()을 통해 입력받으면, 숫자라도 str으로 받는다\n",
    "a = input()\n",
    "print(type(a))\n",
    "try : \n",
    "    a = int(a)\n",
    "except:\n",
    "    print('숫자가 아니라서 int로 못바꿈')\n",
    "else:\n",
    "    print('숫자를 int로 바꿔놨어요!')"
   ]
  },
  {
   "cell_type": "code",
   "execution_count": 92,
   "metadata": {},
   "outputs": [
    {
     "name": "stdout",
     "output_type": "stream",
     "text": [
      "숫자를 입력해주세요\n",
      "ㅁ\n",
      "try에서 입력시. 예외사항이 발생하여 건너뜁니다\n",
      "숫자를 입력해주세요\n",
      "3\n",
      "try에서 입력시, 정상적으로 입력받았습니다. 무한루프를 종료합니다.\n"
     ]
    }
   ],
   "source": [
    "# while True:를 이용하면, for문과 다르게 무한루프가 가능하다\n",
    "# 무한루프에서는 break가 필요할 것이다. try가 성공해서 else로 가면 break해주자\n",
    "while True:\n",
    "    try:\n",
    "        # 입력받은 숫자를 int형 -> a에 할당\n",
    "        print('숫자를 입력해주세요')\n",
    "        a = int( input() )\n",
    "    # try의 예외처리\n",
    "    except:\n",
    "        print('try에서 입력시. 예외사항이 발생하여 건너뜁니다')\n",
    "        continue\n",
    "    # try의 정상종료\n",
    "    else:\n",
    "        print('try에서 입력시, 정상적으로 입력받았습니다. 무한루프를 종료합니다.')\n",
    "        break"
   ]
  },
  {
   "cell_type": "code",
   "execution_count": null,
   "metadata": {},
   "outputs": [],
   "source": [
    "while True:\n",
    "    try:\n",
    "        # 입력받은 숫자를 int형 -> a에 할당\n",
    "        print('숫자를 입력해주세요')\n",
    "        a = int( input() )\n",
    "    # try의 예외처리\n",
    "    except:\n",
    "        print('try에서 입력시. 예외사항이 발생하여 건너뜁니다')\n",
    "        continue\n",
    "    # try의 정상종료\n",
    "    else:\n",
    "        print('try에서 입력시, 정상적으로 입력받았습니다. 무한루프를 종료합니다.')\n",
    "        break"
   ]
  },
  {
   "cell_type": "markdown",
   "metadata": {},
   "source": [
    "### eval()을 이용한 자동 형변환\n",
    "input()을 통해 입력받은 문자열을 자동으로 형변환 시켜보자\n",
    "* eval의 단점은 파이썬 키워드들을 str로 입력받을 시, 에러가 난다는 것이다."
   ]
  },
  {
   "cell_type": "code",
   "execution_count": 97,
   "metadata": {},
   "outputs": [
    {
     "name": "stdout",
     "output_type": "stream",
     "text": [
      "a\n",
      "문자열  a 를 입력받았어요\n",
      "eval() 자동 형변환 결과는?  <class 'str'>\n"
     ]
    }
   ],
   "source": [
    "a = input()\n",
    "print('문자열 ',a,'를 입력받았어요')\n",
    "a=eval(a)\n",
    "print('eval() 자동 형변환 결과는? ', type(a))"
   ]
  },
  {
   "cell_type": "code",
   "execution_count": 98,
   "metadata": {},
   "outputs": [
    {
     "name": "stdout",
     "output_type": "stream",
     "text": [
      "1, 2\n",
      "문자열  1, 2 를 입력받았어요\n",
      "eval() 자동 형변환 결과는?  <class 'tuple'>\n"
     ]
    }
   ],
   "source": [
    "a = input()\n",
    "print('문자열 ',a,'를 입력받았어요')\n",
    "a=eval(a)\n",
    "print('eval() 자동 형변환 결과는? ', type(a))"
   ]
  },
  {
   "cell_type": "code",
   "execution_count": 99,
   "metadata": {},
   "outputs": [
    {
     "name": "stdout",
     "output_type": "stream",
     "text": [
      "[1, 2, 3,]\n",
      "문자열  [1, 2, 3,] 를 입력받았어요\n",
      "eval() 자동 형변환 결과는?  <class 'list'>\n"
     ]
    }
   ],
   "source": [
    "a = input()\n",
    "print('문자열 ',a,'를 입력받았어요')\n",
    "a=eval(a)\n",
    "print('eval() 자동 형변환 결과는? ', type(a))"
   ]
  },
  {
   "cell_type": "code",
   "execution_count": 100,
   "metadata": {},
   "outputs": [
    {
     "name": "stdout",
     "output_type": "stream",
     "text": [
      "123\n",
      "문자열  123 를 입력받았어요\n",
      "eval() 자동 형변환 결과는?  <class 'int'>\n"
     ]
    }
   ],
   "source": [
    "a = input()\n",
    "print('문자열 ',a,'를 입력받았어요')\n",
    "a=eval(a)\n",
    "print('eval() 자동 형변환 결과는? ', type(a))"
   ]
  },
  {
   "cell_type": "code",
   "execution_count": 107,
   "metadata": {},
   "outputs": [
    {
     "name": "stdout",
     "output_type": "stream",
     "text": [
      "1.2\n",
      "문자열  1.2 를 입력받았어요\n",
      "eval() 자동 형변환 결과는?  <class 'float'>\n"
     ]
    }
   ],
   "source": [
    "a = input()\n",
    "print('문자열 ',a,'를 입력받았어요')\n",
    "a=eval(a)\n",
    "print('eval() 자동 형변환 결과는? ', type(a))"
   ]
  },
  {
   "cell_type": "code",
   "execution_count": 104,
   "metadata": {},
   "outputs": [
    {
     "name": "stdout",
     "output_type": "stream",
     "text": [
      "in\n",
      "문자열  in 를 입력받았어요\n"
     ]
    },
    {
     "ename": "SyntaxError",
     "evalue": "unexpected EOF while parsing (<string>, line 1)",
     "output_type": "error",
     "traceback": [
      "Traceback \u001b[1;36m(most recent call last)\u001b[0m:\n",
      "  File \u001b[0;32m\"C:\\Users\\is2js\\Anaconda3\\lib\\site-packages\\IPython\\core\\interactiveshell.py\"\u001b[0m, line \u001b[0;32m3267\u001b[0m, in \u001b[0;35mrun_code\u001b[0m\n    exec(code_obj, self.user_global_ns, self.user_ns)\n",
      "\u001b[1;36m  File \u001b[1;32m\"<ipython-input-104-de5ce1c8a479>\"\u001b[1;36m, line \u001b[1;32m4\u001b[1;36m, in \u001b[1;35m<module>\u001b[1;36m\u001b[0m\n\u001b[1;33m    a=eval(a)\u001b[0m\n",
      "\u001b[1;36m  File \u001b[1;32m\"<string>\"\u001b[1;36m, line \u001b[1;32m1\u001b[0m\n\u001b[1;33m    in\u001b[0m\n\u001b[1;37m     ^\u001b[0m\n\u001b[1;31mSyntaxError\u001b[0m\u001b[1;31m:\u001b[0m unexpected EOF while parsing\n"
     ]
    }
   ],
   "source": [
    "# eval의 단점은 파이썬 키워드들을 str로 입력받을 시, 에러가 난다는 것이다.\n",
    "a = input()\n",
    "print('문자열 ',a,'를 입력받았어요')\n",
    "a=eval(a)\n",
    "print('eval() 자동 형변환 결과는? ', type(a))"
   ]
  },
  {
   "cell_type": "markdown",
   "metadata": {},
   "source": [
    "### builtins 패키지\n",
    "에러들을 포함한 **파이썬 키워드(예약어)** 등이 담겨 있는 기본적 내장 명령어들"
   ]
  },
  {
   "cell_type": "code",
   "execution_count": 101,
   "metadata": {},
   "outputs": [
    {
     "data": {
      "text/plain": [
       "['ArithmeticError',\n",
       " 'AssertionError',\n",
       " 'AttributeError',\n",
       " 'BaseException',\n",
       " 'BlockingIOError',\n",
       " 'BrokenPipeError',\n",
       " 'BufferError',\n",
       " 'BytesWarning',\n",
       " 'ChildProcessError',\n",
       " 'ConnectionAbortedError',\n",
       " 'ConnectionError',\n",
       " 'ConnectionRefusedError',\n",
       " 'ConnectionResetError',\n",
       " 'DeprecationWarning',\n",
       " 'EOFError',\n",
       " 'Ellipsis',\n",
       " 'EnvironmentError',\n",
       " 'Exception',\n",
       " 'False',\n",
       " 'FileExistsError',\n",
       " 'FileNotFoundError',\n",
       " 'FloatingPointError',\n",
       " 'FutureWarning',\n",
       " 'GeneratorExit',\n",
       " 'IOError',\n",
       " 'ImportError',\n",
       " 'ImportWarning',\n",
       " 'IndentationError',\n",
       " 'IndexError',\n",
       " 'InterruptedError',\n",
       " 'IsADirectoryError',\n",
       " 'KeyError',\n",
       " 'KeyboardInterrupt',\n",
       " 'LookupError',\n",
       " 'MemoryError',\n",
       " 'ModuleNotFoundError',\n",
       " 'NameError',\n",
       " 'None',\n",
       " 'NotADirectoryError',\n",
       " 'NotImplemented',\n",
       " 'NotImplementedError',\n",
       " 'OSError',\n",
       " 'OverflowError',\n",
       " 'PendingDeprecationWarning',\n",
       " 'PermissionError',\n",
       " 'ProcessLookupError',\n",
       " 'RecursionError',\n",
       " 'ReferenceError',\n",
       " 'ResourceWarning',\n",
       " 'RuntimeError',\n",
       " 'RuntimeWarning',\n",
       " 'StopAsyncIteration',\n",
       " 'StopIteration',\n",
       " 'SyntaxError',\n",
       " 'SyntaxWarning',\n",
       " 'SystemError',\n",
       " 'SystemExit',\n",
       " 'TabError',\n",
       " 'TimeoutError',\n",
       " 'True',\n",
       " 'TypeError',\n",
       " 'UnboundLocalError',\n",
       " 'UnicodeDecodeError',\n",
       " 'UnicodeEncodeError',\n",
       " 'UnicodeError',\n",
       " 'UnicodeTranslateError',\n",
       " 'UnicodeWarning',\n",
       " 'UserWarning',\n",
       " 'ValueError',\n",
       " 'Warning',\n",
       " 'WindowsError',\n",
       " 'ZeroDivisionError',\n",
       " '__IPYTHON__',\n",
       " '__build_class__',\n",
       " '__debug__',\n",
       " '__doc__',\n",
       " '__import__',\n",
       " '__loader__',\n",
       " '__name__',\n",
       " '__package__',\n",
       " '__spec__',\n",
       " 'abs',\n",
       " 'all',\n",
       " 'any',\n",
       " 'ascii',\n",
       " 'bin',\n",
       " 'bool',\n",
       " 'bytearray',\n",
       " 'bytes',\n",
       " 'callable',\n",
       " 'chr',\n",
       " 'classmethod',\n",
       " 'compile',\n",
       " 'complex',\n",
       " 'copyright',\n",
       " 'credits',\n",
       " 'delattr',\n",
       " 'dict',\n",
       " 'dir',\n",
       " 'display',\n",
       " 'divmod',\n",
       " 'enumerate',\n",
       " 'eval',\n",
       " 'exec',\n",
       " 'filter',\n",
       " 'float',\n",
       " 'format',\n",
       " 'frozenset',\n",
       " 'get_ipython',\n",
       " 'getattr',\n",
       " 'globals',\n",
       " 'hasattr',\n",
       " 'hash',\n",
       " 'help',\n",
       " 'hex',\n",
       " 'id',\n",
       " 'input',\n",
       " 'int',\n",
       " 'isinstance',\n",
       " 'issubclass',\n",
       " 'iter',\n",
       " 'len',\n",
       " 'license',\n",
       " 'list',\n",
       " 'locals',\n",
       " 'map',\n",
       " 'max',\n",
       " 'memoryview',\n",
       " 'min',\n",
       " 'next',\n",
       " 'object',\n",
       " 'oct',\n",
       " 'open',\n",
       " 'ord',\n",
       " 'pow',\n",
       " 'print',\n",
       " 'property',\n",
       " 'range',\n",
       " 'repr',\n",
       " 'reversed',\n",
       " 'round',\n",
       " 'set',\n",
       " 'setattr',\n",
       " 'slice',\n",
       " 'sorted',\n",
       " 'staticmethod',\n",
       " 'str',\n",
       " 'sum',\n",
       " 'super',\n",
       " 'tuple',\n",
       " 'type',\n",
       " 'vars',\n",
       " 'zip']"
      ]
     },
     "execution_count": 101,
     "metadata": {},
     "output_type": "execute_result"
    }
   ],
   "source": [
    "import builtins\n",
    "dir(builtins)"
   ]
  },
  {
   "cell_type": "code",
   "execution_count": 103,
   "metadata": {},
   "outputs": [
    {
     "data": {
      "text/plain": [
       "True"
      ]
     },
     "execution_count": 103,
     "metadata": {},
     "output_type": "execute_result"
    }
   ],
   "source": [
    "# eval()함수도 내장 되어 있는 것 같다.\n",
    "# 명령어 포함여부는 '명령어'의 문자열로 검색하자\n",
    "'eval' in dir(builtins)"
   ]
  },
  {
   "cell_type": "code",
   "execution_count": 111,
   "metadata": {},
   "outputs": [
    {
     "data": {
      "text/plain": [
       "0            ArithmeticError\n",
       "1             AssertionError\n",
       "2             AttributeError\n",
       "4            BlockingIOError\n",
       "5            BrokenPipeError\n",
       "6                BufferError\n",
       "8          ChildProcessError\n",
       "9     ConnectionAbortedError\n",
       "10           ConnectionError\n",
       "11    ConnectionRefusedError\n",
       "12      ConnectionResetError\n",
       "14                  EOFError\n",
       "16          EnvironmentError\n",
       "19           FileExistsError\n",
       "20         FileNotFoundError\n",
       "21        FloatingPointError\n",
       "24                   IOError\n",
       "25               ImportError\n",
       "27          IndentationError\n",
       "28                IndexError\n",
       "29          InterruptedError\n",
       "30         IsADirectoryError\n",
       "31                  KeyError\n",
       "33               LookupError\n",
       "34               MemoryError\n",
       "35       ModuleNotFoundError\n",
       "36                 NameError\n",
       "38        NotADirectoryError\n",
       "40       NotImplementedError\n",
       "41                   OSError\n",
       "42             OverflowError\n",
       "44           PermissionError\n",
       "45        ProcessLookupError\n",
       "46            RecursionError\n",
       "47            ReferenceError\n",
       "49              RuntimeError\n",
       "53               SyntaxError\n",
       "55               SystemError\n",
       "57                  TabError\n",
       "58              TimeoutError\n",
       "60                 TypeError\n",
       "61         UnboundLocalError\n",
       "62        UnicodeDecodeError\n",
       "63        UnicodeEncodeError\n",
       "64              UnicodeError\n",
       "65     UnicodeTranslateError\n",
       "68                ValueError\n",
       "70              WindowsError\n",
       "71         ZeroDivisionError\n",
       "dtype: object"
      ]
     },
     "execution_count": 111,
     "metadata": {},
     "output_type": "execute_result"
    }
   ],
   "source": [
    "# 판다스의 포함단어 색인 이용하기\n",
    "import pandas as pd\n",
    "\n",
    "a = pd.Series( dir(builtins) )\n",
    "a.loc [ a.str.contains('Error')]"
   ]
  },
  {
   "cell_type": "code",
   "execution_count": null,
   "metadata": {},
   "outputs": [],
   "source": []
  },
  {
   "cell_type": "code",
   "execution_count": null,
   "metadata": {},
   "outputs": [],
   "source": []
  },
  {
   "cell_type": "markdown",
   "metadata": {},
   "source": [
    "## else 정리\n",
    "1. for, while 반복문의 정상종료시 호출되어, **반복문의 정상종료**를 알려줄 수 있다.\n",
    "2. if-else문으로 쓰여, 조건에 안맞는 경우\n",
    "3. **try문**의 except와 반대되는 개념, **try의 정상종료**를 알려준다."
   ]
  },
  {
   "cell_type": "code",
   "execution_count": null,
   "metadata": {},
   "outputs": [],
   "source": []
  },
  {
   "cell_type": "markdown",
   "metadata": {},
   "source": [
    "## lambda함수"
   ]
  },
  {
   "cell_type": "code",
   "execution_count": null,
   "metadata": {},
   "outputs": [],
   "source": []
  },
  {
   "cell_type": "code",
   "execution_count": null,
   "metadata": {},
   "outputs": [],
   "source": []
  },
  {
   "cell_type": "code",
   "execution_count": null,
   "metadata": {},
   "outputs": [],
   "source": []
  },
  {
   "cell_type": "code",
   "execution_count": null,
   "metadata": {},
   "outputs": [],
   "source": []
  },
  {
   "cell_type": "code",
   "execution_count": null,
   "metadata": {},
   "outputs": [],
   "source": []
  },
  {
   "cell_type": "code",
   "execution_count": null,
   "metadata": {},
   "outputs": [],
   "source": []
  },
  {
   "cell_type": "code",
   "execution_count": null,
   "metadata": {},
   "outputs": [],
   "source": []
  }
 ],
 "metadata": {
  "kernelspec": {
   "display_name": "Python 3",
   "language": "python",
   "name": "python3"
  },
  "language_info": {
   "codemirror_mode": {
    "name": "ipython",
    "version": 3
   },
   "file_extension": ".py",
   "mimetype": "text/x-python",
   "name": "python",
   "nbconvert_exporter": "python",
   "pygments_lexer": "ipython3",
   "version": "3.6.8"
  },
  "toc": {
   "base_numbering": 1,
   "nav_menu": {},
   "number_sections": true,
   "sideBar": true,
   "skip_h1_title": false,
   "title_cell": "Table of Contents",
   "title_sidebar": "Contents",
   "toc_cell": false,
   "toc_position": {
    "height": "calc(100% - 180px)",
    "left": "10px",
    "top": "150px",
    "width": "187.431px"
   },
   "toc_section_display": true,
   "toc_window_display": true
  }
 },
 "nbformat": 4,
 "nbformat_minor": 2
}

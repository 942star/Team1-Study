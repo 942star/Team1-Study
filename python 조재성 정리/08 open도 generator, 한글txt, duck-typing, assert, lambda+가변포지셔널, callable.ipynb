{
 "cells": [
  {
   "cell_type": "markdown",
   "metadata": {},
   "source": [
    "## open\n",
    "%%writefile로 만든 txt을 **`with open('파일명') as alias`** 으로 잠시동안 열거나,  \n",
    "**`alias = open('파일명.txt')`**으로 열게 되면, alias는 **generator의 성질**을 가져  \n",
    "* **next()도 가능**하지만,  **`.readline()`**으로 한줄씩 읽는다.\n",
    "* readline()으로 한줄씩 읽는다\n",
    "* with open as alias 와 동시에 alias.close()를 미리 작성해 두면 좋다.  \n",
    "  \n",
    "  \n",
    "cf) generator = 함수 + yield(from)으로 만든 iterator"
   ]
  },
  {
   "cell_type": "markdown",
   "metadata": {},
   "source": [
    "### txt파일 만들기\n",
    "한글이 포함된 txt파일 안열어질때 4가지\n",
    "\n",
    "1. reading_file = open(\"test.txt\", \"r\")의 \"r\"을 \"rt\"로 바꾸어 reading_file = open(\"test.txt\", \"rt\")로 써주는 방법\n",
    "2. reading_file = open( \"test.txt\", \"r\", \"utf-8\" )로 표기해주는 방법\n",
    "\n",
    "3. reading_file = open('test.txt', 'rt', encoding='UTF8')\n",
    "4. py 파일 시작(line1)에 #-*- coding: utf-8 -*- 를 써주는 방법\n",
    "5. 파일의 인코딩을 ANSI로 바꾸는 방법"
   ]
  },
  {
   "cell_type": "code",
   "execution_count": 3,
   "metadata": {},
   "outputs": [
    {
     "name": "stdout",
     "output_type": "stream",
     "text": [
      "Overwriting moon.txt\n"
     ]
    }
   ],
   "source": [
    "%%writefile moon.txt\n",
    "조재성\n",
    "문근영\n",
    "김석영\n",
    "눈꾸녕"
   ]
  },
  {
   "cell_type": "code",
   "execution_count": null,
   "metadata": {},
   "outputs": [
    {
     "data": {
      "application/javascript": [
       "IPython.notebook.kernel.restart()\n"
      ],
      "text/plain": [
       "<IPython.core.display.Javascript object>"
      ]
     },
     "metadata": {},
     "output_type": "display_data"
    }
   ],
   "source": [
    "%%javascript\n",
    "IPython.notebook.kernel.restart()"
   ]
  },
  {
   "cell_type": "code",
   "execution_count": 1,
   "metadata": {},
   "outputs": [
    {
     "ename": "UnicodeDecodeError",
     "evalue": "'cp949' codec can't decode byte 0xec in position 6: illegal multibyte sequence",
     "output_type": "error",
     "traceback": [
      "\u001b[1;31m---------------------------------------------------------------------------\u001b[0m",
      "\u001b[1;31mUnicodeDecodeError\u001b[0m                        Traceback (most recent call last)",
      "\u001b[1;32m<ipython-input-1-76e15f756804>\u001b[0m in \u001b[0;36m<module>\u001b[1;34m\u001b[0m\n\u001b[0;32m      1\u001b[0m \u001b[0mfile\u001b[0m \u001b[1;33m=\u001b[0m \u001b[0mopen\u001b[0m\u001b[1;33m(\u001b[0m\u001b[1;34m'moon.txt'\u001b[0m\u001b[1;33m)\u001b[0m\u001b[1;33m\u001b[0m\u001b[1;33m\u001b[0m\u001b[0m\n\u001b[1;32m----> 2\u001b[1;33m \u001b[0mfile\u001b[0m\u001b[1;33m.\u001b[0m\u001b[0mread\u001b[0m\u001b[1;33m(\u001b[0m\u001b[1;33m)\u001b[0m\u001b[1;33m\u001b[0m\u001b[1;33m\u001b[0m\u001b[0m\n\u001b[0m",
      "\u001b[1;31mUnicodeDecodeError\u001b[0m: 'cp949' codec can't decode byte 0xec in position 6: illegal multibyte sequence"
     ]
    }
   ],
   "source": [
    "file = open('moon.txt')"
   ]
  },
  {
   "cell_type": "code",
   "execution_count": 4,
   "metadata": {},
   "outputs": [],
   "source": [
    "#open(\"파일명.txt, \"r\", \"utf-8\" )\n",
    "file = open('moon.txt', 'rt')"
   ]
  },
  {
   "cell_type": "code",
   "execution_count": 6,
   "metadata": {},
   "outputs": [],
   "source": [
    "# open('test.txt', 'rt', encoding='UTF8')\n",
    "file = open('moon.txt', 'r', encoding='UTF8')"
   ]
  },
  {
   "cell_type": "markdown",
   "metadata": {},
   "source": [
    "### open된 txt파일을 읽는 3가지 방법\n",
    "단순 open으로 열었으면, 마지막 close()해주기!  \n",
    "1. .read() : 개행문자 포함 한번에 다읽고나서 비우기(generator)\n",
    "2. .readline() : 개행문자기준으로 한줄씩 읽어나가기(generator)\n",
    "3. .readlines() : 개행문자기준으로 한줄씩 **리스트로 반환**하기"
   ]
  },
  {
   "cell_type": "markdown",
   "metadata": {},
   "source": [
    "#### .read()으로 generator 한번에 다 읽어보내기"
   ]
  },
  {
   "cell_type": "code",
   "execution_count": 7,
   "metadata": {},
   "outputs": [
    {
     "data": {
      "text/plain": [
       "'조재성\\n문근영\\n김석영\\n눈꾸녕\\n'"
      ]
     },
     "execution_count": 7,
     "metadata": {},
     "output_type": "execute_result"
    }
   ],
   "source": [
    "# 개행문자 포함한번에 다 읽어서 비우기( generator라서...)\n",
    "file.read()"
   ]
  },
  {
   "cell_type": "markdown",
   "metadata": {},
   "source": [
    "#### .readline()으로 개행문자기준 한라인씩 읽어보내기"
   ]
  },
  {
   "cell_type": "code",
   "execution_count": 11,
   "metadata": {},
   "outputs": [],
   "source": [
    "file.close()\n",
    "file = open('moon.txt', 'r', encoding='UTF8')"
   ]
  },
  {
   "cell_type": "code",
   "execution_count": 12,
   "metadata": {},
   "outputs": [
    {
     "data": {
      "text/plain": [
       "'조재성\\n'"
      ]
     },
     "execution_count": 12,
     "metadata": {},
     "output_type": "execute_result"
    }
   ],
   "source": [
    "# 개행문자 포함 한 라인씩 읽기\n",
    "file.readline()"
   ]
  },
  {
   "cell_type": "code",
   "execution_count": 13,
   "metadata": {},
   "outputs": [
    {
     "data": {
      "text/plain": [
       "'문근영\\n'"
      ]
     },
     "execution_count": 13,
     "metadata": {},
     "output_type": "execute_result"
    }
   ],
   "source": [
    "# 개행문자 포함한번에 다 읽기\n",
    "file.readline()"
   ]
  },
  {
   "cell_type": "code",
   "execution_count": 14,
   "metadata": {},
   "outputs": [
    {
     "data": {
      "text/plain": [
       "'김석영\\n'"
      ]
     },
     "execution_count": 14,
     "metadata": {},
     "output_type": "execute_result"
    }
   ],
   "source": [
    "file.readline()"
   ]
  },
  {
   "cell_type": "code",
   "execution_count": 15,
   "metadata": {},
   "outputs": [
    {
     "data": {
      "text/plain": [
       "'눈꾸녕\\n'"
      ]
     },
     "execution_count": 15,
     "metadata": {},
     "output_type": "execute_result"
    }
   ],
   "source": [
    "file.readline()"
   ]
  },
  {
   "cell_type": "code",
   "execution_count": 16,
   "metadata": {},
   "outputs": [],
   "source": [
    "file.close()"
   ]
  },
  {
   "cell_type": "markdown",
   "metadata": {},
   "source": [
    "#### .readlines() : 개행문자기준으로 한줄씩 리스트로 반환하기"
   ]
  },
  {
   "cell_type": "code",
   "execution_count": 28,
   "metadata": {},
   "outputs": [
    {
     "data": {
      "text/plain": [
       "['조재성\\n', '문근영\\n', '김석영\\n', '눈꾸녕\\n']"
      ]
     },
     "execution_count": 28,
     "metadata": {},
     "output_type": "execute_result"
    }
   ],
   "source": [
    "file = open('moon.txt', 'r', encoding='UTF8')\n",
    "file_list = file.readlines()\n",
    "file.close()\n",
    "\n",
    "file_list"
   ]
  },
  {
   "cell_type": "code",
   "execution_count": null,
   "metadata": {},
   "outputs": [],
   "source": []
  },
  {
   "cell_type": "code",
   "execution_count": null,
   "metadata": {},
   "outputs": [],
   "source": []
  },
  {
   "cell_type": "markdown",
   "metadata": {},
   "source": [
    "### 참고) with open으로 읽기\n",
    "**`with open('moon.txt', 'r', encoding='UTF8') as file:`**  \n",
    "* close() 따로 안해줘도 된다. \n",
    "* read()를 통해 with안 이지만, 전역변수에 전체 문자열(개행문자 포함)이 할당된다.\n",
    "* readline()을 통해 한줄씩 읽는다. -> for문을 통해 하나씩 처리?\n",
    "* readlines()를 통해 한번에 리스트로 반환받는다"
   ]
  },
  {
   "cell_type": "code",
   "execution_count": 22,
   "metadata": {},
   "outputs": [],
   "source": [
    "with open('moon.txt', 'r', encoding='UTF8') as file:\n",
    "    read_ = file.read()"
   ]
  },
  {
   "cell_type": "code",
   "execution_count": 23,
   "metadata": {},
   "outputs": [
    {
     "name": "stdout",
     "output_type": "stream",
     "text": [
      "Variable   Type             Data/Info\n",
      "-------------------------------------\n",
      "buffer     str              조재성\\n문근영\\n김석영\\n눈꾸녕\\n\n",
      "file       TextIOWrapper    <_io.TextIOWrapper name='<...>mode='r' encoding='UTF8'>\n",
      "read_      str              조재성\\n문근영\\n김석영\\n눈꾸녕\\n\n"
     ]
    }
   ],
   "source": [
    "%whos"
   ]
  },
  {
   "cell_type": "code",
   "execution_count": 25,
   "metadata": {},
   "outputs": [
    {
     "data": {
      "text/plain": [
       "'조재성\\n문근영\\n김석영\\n눈꾸녕\\n'"
      ]
     },
     "execution_count": 25,
     "metadata": {},
     "output_type": "execute_result"
    }
   ],
   "source": [
    "read_"
   ]
  },
  {
   "cell_type": "code",
   "execution_count": 26,
   "metadata": {},
   "outputs": [],
   "source": [
    "with open('moon.txt', 'r', encoding='UTF8') as file:\n",
    "    read_lines = file.readlines()"
   ]
  },
  {
   "cell_type": "code",
   "execution_count": 27,
   "metadata": {},
   "outputs": [
    {
     "data": {
      "text/plain": [
       "['조재성\\n', '문근영\\n', '김석영\\n', '눈꾸녕\\n']"
      ]
     },
     "execution_count": 27,
     "metadata": {},
     "output_type": "execute_result"
    }
   ],
   "source": [
    "read_lines"
   ]
  },
  {
   "cell_type": "markdown",
   "metadata": {},
   "source": [
    "## 매직명령어  %history로 지금까지 코드 전체보기"
   ]
  },
  {
   "cell_type": "code",
   "execution_count": 29,
   "metadata": {},
   "outputs": [
    {
     "name": "stdout",
     "output_type": "stream",
     "text": [
      "file = open('moon.txt')\n",
      "file.read()\n",
      "#open(\"파일명.txt, \"r\", \"utf-8\" )\n",
      "file = open('moon.txt', 'utf-8')\n",
      "#open(\"파일명.txt, \"r\", \"utf-8\" )\n",
      "file = open('moon.txt', 'r', 'utf-8')\n",
      "#open(\"파일명.txt, \"r\", \"utf-8\" )\n",
      "file = open('moon.txt', 'rt')\n",
      "file = open('moon.txt', 'r', encoding='UTF8')\n",
      "# open('test.txt', 'rt', encoding='UTF8')\n",
      "file = open('moon.txt', 'r', encoding='UTF8')\n",
      "file.read()\n",
      "# 개행문자 포함한번에 다 읽기\n",
      "file.readline()\n",
      "file.readline()\n",
      "file.readline()\n",
      "file.close()\n",
      "file = open('moon.txt', 'r', encoding='UTF8')\n",
      "file.readline()\n",
      "# 개행문자 포함한번에 다 읽기\n",
      "file.readline()\n",
      "file.readline()\n",
      "file.readline()\n",
      "file.close()\n",
      "%history\n",
      "with open('moon.txt', 'r', encoding='UTF8') as file:\n",
      "    buffer = file.read()\n",
      "%whos\n",
      "buffer\n",
      "buffer.readline()\n",
      "with open('moon.txt', 'r', encoding='UTF8') as file:\n",
      "    read_ = file.read()\n",
      "%whos\n",
      "read\n",
      "read_\n",
      "with open('moon.txt', 'r', encoding='UTF8') as file:\n",
      "    read_lines = file.readlines()\n",
      "read_lines\n",
      "file = open('moon.txt', 'r', encoding='UTF8')\n",
      "file_list = file.readlines()\n",
      "file.close()\n",
      "\n",
      "file_list\n",
      "%history\n"
     ]
    }
   ],
   "source": [
    "%history"
   ]
  },
  {
   "cell_type": "markdown",
   "metadata": {},
   "source": [
    "## Duck-typing( 덕 타이핑 )\n",
    "올바른 인터페이스를 가졌는지 판단하는데 **객체의 형을 보지 않는** 프로그래밍 스타일; 대신, 단순히 메서드나 어트리뷰트가 호출되거나 사용됩니다 (\"오리처럼 보이고 오리처럼 꽥꽥댄다면, 그것은 오리다.\") 특정한 형 대신에 인터페이스를 강조함으로써, 잘 설계된 코드는 다형적인 치환을 허락함으로써 유연성을 개선할 수 있습니다. 덕 타이핑은 type() 이나 isinstance() 을 사용한 검사를 피합니다. (하지만, 덕 타이핑이 추상 베이스 클래스 로 보완될 수 있음에 유의해야 합니다.) 대신에, hasattr() 검사나 EAFP 프로그래밍을 씁니다.\n",
    "  \n",
    "cf)  \n",
    "* **파이썬의 최상위 클래스인 object class 를 자동으로 상속하는 방식**\n",
    "* 클래스 상속 없이도, method만 같다면 iterator로 쓸 수 있다?\n",
    "* 덕 타이핑을 할 줄 알면, 알고리즘을 설계할 수 있다.\n",
    "* 파이썬은 꼬리재귀를 제공하지 않기 때문에, 파이썬에서 재귀함수를 잘 사용하진 않는다.  \n"
   ]
  },
  {
   "cell_type": "markdown",
   "metadata": {},
   "source": [
    "## Assert\n",
    "False를 발견하면 error를 발생시키는 것으로, **중간중간마다 error check**하면서 **debugging**"
   ]
  },
  {
   "cell_type": "code",
   "execution_count": 30,
   "metadata": {},
   "outputs": [
    {
     "ename": "AssertionError",
     "evalue": "",
     "output_type": "error",
     "traceback": [
      "\u001b[1;31m---------------------------------------------------------------------------\u001b[0m",
      "\u001b[1;31mAssertionError\u001b[0m                            Traceback (most recent call last)",
      "\u001b[1;32m<ipython-input-30-84642aeb6ea0>\u001b[0m in \u001b[0;36m<module>\u001b[1;34m\u001b[0m\n\u001b[0;32m      1\u001b[0m \u001b[0ma\u001b[0m \u001b[1;33m=\u001b[0m \u001b[1;36m0\u001b[0m\u001b[1;33m\u001b[0m\u001b[1;33m\u001b[0m\u001b[0m\n\u001b[1;32m----> 2\u001b[1;33m \u001b[1;32massert\u001b[0m \u001b[0ma\u001b[0m\u001b[1;33m>\u001b[0m\u001b[1;36m3\u001b[0m\u001b[1;33m\u001b[0m\u001b[1;33m\u001b[0m\u001b[0m\n\u001b[0m",
      "\u001b[1;31mAssertionError\u001b[0m: "
     ]
    }
   ],
   "source": [
    "a = 0\n",
    "\n",
    "# False면, assert는 에러를 발생시킨다.\n",
    "assert a>3"
   ]
  },
  {
   "cell_type": "markdown",
   "metadata": {},
   "source": [
    "## Operator 패키지의 add, mul, sub\n",
    "+, -, * 연산을 메소드로 만들어 놓은 것"
   ]
  },
  {
   "cell_type": "code",
   "execution_count": 31,
   "metadata": {},
   "outputs": [
    {
     "data": {
      "text/plain": [
       "7"
      ]
     },
     "execution_count": 31,
     "metadata": {},
     "output_type": "execute_result"
    }
   ],
   "source": [
    "from operator import add, sub, mul\n",
    "\n",
    "add(3, 4)"
   ]
  },
  {
   "cell_type": "code",
   "execution_count": 32,
   "metadata": {},
   "outputs": [
    {
     "data": {
      "text/plain": [
       "-1"
      ]
     },
     "execution_count": 32,
     "metadata": {},
     "output_type": "execute_result"
    }
   ],
   "source": [
    "sub(4, 5)"
   ]
  },
  {
   "cell_type": "code",
   "execution_count": 33,
   "metadata": {},
   "outputs": [
    {
     "data": {
      "text/plain": [
       "20"
      ]
     },
     "execution_count": 33,
     "metadata": {},
     "output_type": "execute_result"
    }
   ],
   "source": [
    "mul(2, 10)"
   ]
  },
  {
   "cell_type": "markdown",
   "metadata": {},
   "source": [
    "## lambda with 가변 포지셔널 방식 \\*args\n",
    "lambda는 Closure기법에서, 바깥함수의 return 되는 안쪽함수의 객체로 취급되었다.  \n",
    "map, filter, reduce와 함께, 데이터 변형 or 데이터 필터링 or 데이터 누적연산도 했다.  \n",
    "* lambda의 parameter를 가변방식으로 받는 방법 : 인자부분에 \\*agrs를 사용"
   ]
  },
  {
   "cell_type": "code",
   "execution_count": 36,
   "metadata": {},
   "outputs": [
    {
     "data": {
      "text/plain": [
       "['1', '2', '3', '4', '5']"
      ]
     },
     "execution_count": 36,
     "metadata": {},
     "output_type": "execute_result"
    }
   ],
   "source": [
    "# lambda에 인자로 가변포지셔널방식을 사용해서, 문자열로 바꾸는 변형식을 넣었다.\n",
    "# 각각의 인자들이 들어와서 str()을 받는다\n",
    "do_it = lambda *args : str(*args)\n",
    "\n",
    "#map( lambda식 , 기존데이터)\n",
    "list( map(do_it, [1, 2, 3, 4, 5]) )"
   ]
  },
  {
   "cell_type": "markdown",
   "metadata": {},
   "source": [
    "## Callable\n",
    "호출 할 수 있는 것은 ? 함수만?\n",
    "* **함수명**\n",
    "* **클래스명**!까지 callable()로 확인한다. 확인결과 **True면 뒤에 ()를 붙혀 호출**할 수 있다."
   ]
  },
  {
   "cell_type": "code",
   "execution_count": 44,
   "metadata": {},
   "outputs": [
    {
     "data": {
      "text/plain": [
       "True"
      ]
     },
     "execution_count": 44,
     "metadata": {},
     "output_type": "execute_result"
    }
   ],
   "source": [
    "#int()의 함수명으로 callable확인\n",
    "callable( int )"
   ]
  },
  {
   "cell_type": "code",
   "execution_count": 47,
   "metadata": {},
   "outputs": [],
   "source": [
    "# def로 정의한 함수의 callable확인\n",
    "def hello( name ):\n",
    "    print(\"hello {}\".format( name ))"
   ]
  },
  {
   "cell_type": "code",
   "execution_count": 48,
   "metadata": {},
   "outputs": [
    {
     "name": "stdout",
     "output_type": "stream",
     "text": [
      "hello 조재성\n"
     ]
    }
   ],
   "source": [
    "hello('조재성')"
   ]
  },
  {
   "cell_type": "code",
   "execution_count": 49,
   "metadata": {},
   "outputs": [
    {
     "data": {
      "text/plain": [
       "True"
      ]
     },
     "execution_count": 49,
     "metadata": {},
     "output_type": "execute_result"
    }
   ],
   "source": [
    "callable( hello)"
   ]
  },
  {
   "cell_type": "markdown",
   "metadata": {},
   "source": [
    "### lambda함수식  =  함수의 객체 (아직 ()없는 것 ) -> 괄호빠진 함수명과 동일"
   ]
  },
  {
   "cell_type": "code",
   "execution_count": 51,
   "metadata": {},
   "outputs": [
    {
     "name": "stdout",
     "output_type": "stream",
     "text": [
      "hello 조재성\n"
     ]
    }
   ],
   "source": [
    "# 람다함수식 -> 함수의 객체 -> 나중에 ()붙혀서 호출한다.\n",
    "# 즉, 함수명과 동일하므로, callable True이다.\n",
    "hello_ = lambda name : print(f\"hello {name}\")\n",
    "hello_(\"조재성\")"
   ]
  },
  {
   "cell_type": "code",
   "execution_count": 52,
   "metadata": {},
   "outputs": [
    {
     "data": {
      "text/plain": [
       "True"
      ]
     },
     "execution_count": 52,
     "metadata": {},
     "output_type": "execute_result"
    }
   ],
   "source": [
    "callable( hello_ )"
   ]
  },
  {
   "cell_type": "markdown",
   "metadata": {},
   "source": [
    "### 함수명과 lambda식의 차이점???\n",
    "둘다 함수에서 ()가 빠진 상태라는 것은 동일하다. = callable True이다.  \n",
    "그러나 .__name__으로 확인시 **이름이다르다는 것만 차이점**"
   ]
  },
  {
   "cell_type": "code",
   "execution_count": 53,
   "metadata": {},
   "outputs": [
    {
     "data": {
      "text/plain": [
       "'hello'"
      ]
     },
     "execution_count": 53,
     "metadata": {},
     "output_type": "execute_result"
    }
   ],
   "source": [
    "# 함수명의 이름을 확인하면 그냥 함수명\n",
    "hello.__name__"
   ]
  },
  {
   "cell_type": "code",
   "execution_count": 54,
   "metadata": {},
   "outputs": [
    {
     "data": {
      "text/plain": [
       "'<lambda>'"
      ]
     },
     "execution_count": 54,
     "metadata": {},
     "output_type": "execute_result"
    }
   ],
   "source": [
    "# 람다식의 이름을 확인하면 <>꺽쇠의람다\n",
    "hello_.__name__"
   ]
  },
  {
   "cell_type": "markdown",
   "metadata": {},
   "source": [
    "## 복습 \n"
   ]
  },
  {
   "cell_type": "markdown",
   "metadata": {},
   "source": [
    "### itertools의 cycle()로 만드는 순환 iterator\n",
    "next()는 앞에서 빠져나간것을 출력한다"
   ]
  },
  {
   "cell_type": "code",
   "execution_count": 37,
   "metadata": {},
   "outputs": [],
   "source": [
    "from itertools import cycle\n",
    "\n",
    "a = cycle([1, 2, 3])"
   ]
  },
  {
   "cell_type": "code",
   "execution_count": 38,
   "metadata": {},
   "outputs": [
    {
     "data": {
      "text/plain": [
       "1"
      ]
     },
     "execution_count": 38,
     "metadata": {},
     "output_type": "execute_result"
    }
   ],
   "source": [
    "next(a)"
   ]
  },
  {
   "cell_type": "code",
   "execution_count": 40,
   "metadata": {},
   "outputs": [
    {
     "data": {
      "text/plain": [
       "2"
      ]
     },
     "execution_count": 40,
     "metadata": {},
     "output_type": "execute_result"
    }
   ],
   "source": [
    "next(a)"
   ]
  },
  {
   "cell_type": "markdown",
   "metadata": {},
   "source": [
    "### inspect를 이용해서 함수의 소스보기\n",
    "소스 보는 3가지 방법\n",
    "1. ??\n",
    "2. shift+tab여러번\n",
    "3. inspect.get_source( 함수명 )"
   ]
  },
  {
   "cell_type": "code",
   "execution_count": 42,
   "metadata": {
    "scrolled": true
   },
   "outputs": [
    {
     "name": "stdout",
     "output_type": "stream",
     "text": [
      "    def parser_f(filepath_or_buffer,\n",
      "                 sep=sep,\n",
      "                 delimiter=None,\n",
      "\n",
      "                 # Column and Index Locations and Names\n",
      "                 header='infer',\n",
      "                 names=None,\n",
      "                 index_col=None,\n",
      "                 usecols=None,\n",
      "                 squeeze=False,\n",
      "                 prefix=None,\n",
      "                 mangle_dupe_cols=True,\n",
      "\n",
      "                 # General Parsing Configuration\n",
      "                 dtype=None,\n",
      "                 engine=None,\n",
      "                 converters=None,\n",
      "                 true_values=None,\n",
      "                 false_values=None,\n",
      "                 skipinitialspace=False,\n",
      "                 skiprows=None,\n",
      "                 skipfooter=0,\n",
      "                 nrows=None,\n",
      "\n",
      "                 # NA and Missing Data Handling\n",
      "                 na_values=None,\n",
      "                 keep_default_na=True,\n",
      "                 na_filter=True,\n",
      "                 verbose=False,\n",
      "                 skip_blank_lines=True,\n",
      "\n",
      "                 # Datetime Handling\n",
      "                 parse_dates=False,\n",
      "                 infer_datetime_format=False,\n",
      "                 keep_date_col=False,\n",
      "                 date_parser=None,\n",
      "                 dayfirst=False,\n",
      "\n",
      "                 # Iteration\n",
      "                 iterator=False,\n",
      "                 chunksize=None,\n",
      "\n",
      "                 # Quoting, Compression, and File Format\n",
      "                 compression='infer',\n",
      "                 thousands=None,\n",
      "                 decimal=b'.',\n",
      "                 lineterminator=None,\n",
      "                 quotechar='\"',\n",
      "                 quoting=csv.QUOTE_MINIMAL,\n",
      "                 doublequote=True,\n",
      "                 escapechar=None,\n",
      "                 comment=None,\n",
      "                 encoding=None,\n",
      "                 dialect=None,\n",
      "                 tupleize_cols=None,\n",
      "\n",
      "                 # Error Handling\n",
      "                 error_bad_lines=True,\n",
      "                 warn_bad_lines=True,\n",
      "\n",
      "                 # Internal\n",
      "                 delim_whitespace=False,\n",
      "                 low_memory=_c_parser_defaults['low_memory'],\n",
      "                 memory_map=False,\n",
      "                 float_precision=None):\n",
      "\n",
      "        # deprecate read_table GH21948\n",
      "        if name == \"read_table\":\n",
      "            if sep is False and delimiter is None:\n",
      "                warnings.warn(\"read_table is deprecated, use read_csv \"\n",
      "                              \"instead, passing sep='\\\\t'.\",\n",
      "                              FutureWarning, stacklevel=2)\n",
      "            else:\n",
      "                warnings.warn(\"read_table is deprecated, use read_csv \"\n",
      "                              \"instead.\",\n",
      "                              FutureWarning, stacklevel=2)\n",
      "            if sep is False:\n",
      "                sep = default_sep\n",
      "\n",
      "        # gh-23761\n",
      "        #\n",
      "        # When a dialect is passed, it overrides any of the overlapping\n",
      "        # parameters passed in directly. We don't want to warn if the\n",
      "        # default parameters were passed in (since it probably means\n",
      "        # that the user didn't pass them in explicitly in the first place).\n",
      "        #\n",
      "        # \"delimiter\" is the annoying corner case because we alias it to\n",
      "        # \"sep\" before doing comparison to the dialect values later on.\n",
      "        # Thus, we need a flag to indicate that we need to \"override\"\n",
      "        # the comparison to dialect values by checking if default values\n",
      "        # for BOTH \"delimiter\" and \"sep\" were provided.\n",
      "        if dialect is not None:\n",
      "            sep_override = delimiter is None and sep == default_sep\n",
      "            kwds = dict(sep_override=sep_override)\n",
      "        else:\n",
      "            kwds = dict()\n",
      "\n",
      "        # Alias sep -> delimiter.\n",
      "        if delimiter is None:\n",
      "            delimiter = sep\n",
      "\n",
      "        if delim_whitespace and delimiter != default_sep:\n",
      "            raise ValueError(\"Specified a delimiter with both sep and\"\n",
      "                             \" delim_whitespace=True; you can only\"\n",
      "                             \" specify one.\")\n",
      "\n",
      "        if engine is not None:\n",
      "            engine_specified = True\n",
      "        else:\n",
      "            engine = 'c'\n",
      "            engine_specified = False\n",
      "\n",
      "        kwds.update(delimiter=delimiter,\n",
      "                    engine=engine,\n",
      "                    dialect=dialect,\n",
      "                    compression=compression,\n",
      "                    engine_specified=engine_specified,\n",
      "\n",
      "                    doublequote=doublequote,\n",
      "                    escapechar=escapechar,\n",
      "                    quotechar=quotechar,\n",
      "                    quoting=quoting,\n",
      "                    skipinitialspace=skipinitialspace,\n",
      "                    lineterminator=lineterminator,\n",
      "\n",
      "                    header=header,\n",
      "                    index_col=index_col,\n",
      "                    names=names,\n",
      "                    prefix=prefix,\n",
      "                    skiprows=skiprows,\n",
      "                    skipfooter=skipfooter,\n",
      "                    na_values=na_values,\n",
      "                    true_values=true_values,\n",
      "                    false_values=false_values,\n",
      "                    keep_default_na=keep_default_na,\n",
      "                    thousands=thousands,\n",
      "                    comment=comment,\n",
      "                    decimal=decimal,\n",
      "\n",
      "                    parse_dates=parse_dates,\n",
      "                    keep_date_col=keep_date_col,\n",
      "                    dayfirst=dayfirst,\n",
      "                    date_parser=date_parser,\n",
      "\n",
      "                    nrows=nrows,\n",
      "                    iterator=iterator,\n",
      "                    chunksize=chunksize,\n",
      "                    converters=converters,\n",
      "                    dtype=dtype,\n",
      "                    usecols=usecols,\n",
      "                    verbose=verbose,\n",
      "                    encoding=encoding,\n",
      "                    squeeze=squeeze,\n",
      "                    memory_map=memory_map,\n",
      "                    float_precision=float_precision,\n",
      "\n",
      "                    na_filter=na_filter,\n",
      "                    delim_whitespace=delim_whitespace,\n",
      "                    warn_bad_lines=warn_bad_lines,\n",
      "                    error_bad_lines=error_bad_lines,\n",
      "                    low_memory=low_memory,\n",
      "                    mangle_dupe_cols=mangle_dupe_cols,\n",
      "                    tupleize_cols=tupleize_cols,\n",
      "                    infer_datetime_format=infer_datetime_format,\n",
      "                    skip_blank_lines=skip_blank_lines)\n",
      "\n",
      "        return _read(filepath_or_buffer, kwds)\n",
      "\n"
     ]
    }
   ],
   "source": [
    "import inspect\n",
    "\n",
    "import pandas as pd\n",
    "print(inspect.getsource( pd.read_csv ))"
   ]
  },
  {
   "cell_type": "markdown",
   "metadata": {},
   "source": [
    "### count iterator로 세기"
   ]
  },
  {
   "cell_type": "code",
   "execution_count": 43,
   "metadata": {},
   "outputs": [
    {
     "data": {
      "text/plain": [
       "0"
      ]
     },
     "execution_count": 43,
     "metadata": {},
     "output_type": "execute_result"
    }
   ],
   "source": [
    "from itertools import count\n",
    "\n",
    "c = count()\n",
    "next(c)"
   ]
  },
  {
   "cell_type": "code",
   "execution_count": null,
   "metadata": {},
   "outputs": [],
   "source": []
  }
 ],
 "metadata": {
  "kernelspec": {
   "display_name": "Python 3",
   "language": "python",
   "name": "python3"
  },
  "language_info": {
   "codemirror_mode": {
    "name": "ipython",
    "version": 3
   },
   "file_extension": ".py",
   "mimetype": "text/x-python",
   "name": "python",
   "nbconvert_exporter": "python",
   "pygments_lexer": "ipython3",
   "version": "3.6.8"
  },
  "toc": {
   "base_numbering": 1,
   "nav_menu": {},
   "number_sections": true,
   "sideBar": true,
   "skip_h1_title": false,
   "title_cell": "Table of Contents",
   "title_sidebar": "Contents",
   "toc_cell": false,
   "toc_position": {},
   "toc_section_display": true,
   "toc_window_display": false
  }
 },
 "nbformat": 4,
 "nbformat_minor": 2
}

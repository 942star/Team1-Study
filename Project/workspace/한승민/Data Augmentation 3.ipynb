{
  "nbformat": 4,
  "nbformat_minor": 0,
  "metadata": {
    "colab": {
      "name": "Augmentation 해보기.ipynb",
      "version": "0.3.2",
      "provenance": [],
      "collapsed_sections": []
    },
    "kernelspec": {
      "name": "python3",
      "display_name": "Python 3"
    },
    "accelerator": "GPU"
  },
  "cells": [
    {
      "cell_type": "code",
      "metadata": {
        "id": "Qf5dp8u3r_DD",
        "colab_type": "code",
        "colab": {}
      },
      "source": [
        "import torch\n",
        "import torchvision\n",
        "from google.colab import drive\n",
        "import os\n",
        "import numpy as np\n",
        "import matplotlib.pyplot as plt"
      ],
      "execution_count": 0,
      "outputs": []
    },
    {
      "cell_type": "code",
      "metadata": {
        "id": "vfgk7Tayuqe2",
        "colab_type": "code",
        "colab": {}
      },
      "source": [
        "drive.mount(\"/drive/\", force_remount=True)"
      ],
      "execution_count": 0,
      "outputs": []
    },
    {
      "cell_type": "markdown",
      "metadata": {
        "id": "rSDzMdXPGr5X",
        "colab_type": "text"
      },
      "source": [
        "---"
      ]
    },
    {
      "cell_type": "markdown",
      "metadata": {
        "id": "V02Tp3eIGtOa",
        "colab_type": "text"
      },
      "source": [
        "위는 Colab Drive Mount 하는 설정"
      ]
    },
    {
      "cell_type": "code",
      "metadata": {
        "id": "zkdnDP0_xvs9",
        "colab_type": "code",
        "colab": {}
      },
      "source": [
        "from keras.preprocessing.image import ImageDataGenerator, array_to_img, img_to_array, load_img\n",
        "import os\n",
        "\n",
        "\n",
        "def augmentation(img, save_path, n=20):\n",
        "    dataGen = ImageDataGenerator(\n",
        "                rotation_range=40,\n",
        "                width_shift_range=0.2,\n",
        "                height_shift_range=0.2,\n",
        "                shear_range=0.2,\n",
        "                zoom_range=0.2,\n",
        "                horizontal_flip=True,\n",
        "                fill_mode='nearest')\n",
        "\n",
        "    path = img[0]\n",
        "    prefix = path.split('/')[-2].split('_')[0]\n",
        "\n",
        "    save = save_path + prefix\n",
        "    if not os.path.exists(save):\n",
        "        os.mkdir(save)\n",
        "\n",
        "    image = load_img(path)\n",
        "    x = img_to_array(image)\n",
        "    x = x.reshape((1,) + x.shape)\n",
        "    \n",
        "    for i, _ in enumerate(\n",
        "        dataGen.flow(x,\n",
        "                     batch_size=1,\n",
        "                     save_to_dir=save,\n",
        "                     save_prefix=prefix,\n",
        "                     save_format='jpg')):\n",
        "        if i == n:\n",
        "            break"
      ],
      "execution_count": 0,
      "outputs": []
    },
    {
      "cell_type": "code",
      "metadata": {
        "id": "1Dn7pelE1FTb",
        "colab_type": "code",
        "colab": {}
      },
      "source": [
        "# directory 안에 있는 datasets의 경로 다 가져오는 함수\n",
        "# 정의만 해놓음. 실제로는 사용 안함\n",
        "\n",
        "def getDataPath(directory):\n",
        "    dataPath = {'train':[], 'test':[]}\n",
        "\n",
        "    for path, _, files in os.walk(directory):\n",
        "        if files:\n",
        "            if 'train' in path:\n",
        "                dataPath['train'].append(path)\n",
        "            elif 'test' in path:\n",
        "                dataPath['test'].append(path)\n",
        "    return dataPath"
      ],
      "execution_count": 0,
      "outputs": []
    },
    {
      "cell_type": "code",
      "metadata": {
        "id": "An4iOeRkGZFh",
        "colab_type": "code",
        "colab": {}
      },
      "source": [
        "# Windows의 경우, 경로 구분을 전부 \\\\로 바꿔서 돌려야 함\n",
        "# trainDir = '/path/to/dir/\n",
        "# 위의 코드를 아래처럼\n",
        "# trainDir = '\\\\path\\\\to\\\\dir\\\\'"
      ],
      "execution_count": 0,
      "outputs": []
    },
    {
      "cell_type": "code",
      "metadata": {
        "id": "vYD_38CCtBfK",
        "colab_type": "code",
        "colab": {}
      },
      "source": [
        "from torchvision.transforms import Compose, CenterCrop, Resize, ToTensor, Normalize\n",
        "from torchvision.datasets import ImageFolder\n",
        "\n",
        "\n",
        "dataTransforms = Compose([\n",
        "    CenterCrop(2688),\n",
        "    Resize(224),\n",
        "    ToTensor(),\n",
        "    Normalize((0.5, 0.5, 0.5), (0.3, 0.3, 0.3))\n",
        "])\n",
        "\n",
        "\n",
        "# trainDir --> 전체 train dataset이 들어있는 경로 \n",
        "# testDir  --> 전체 test dataset이 들어있는 경로\n",
        "\n",
        "trainDir = '/drive/My Drive/공유 문서/K-Data 고려대학교 빅데이터 청년인재 교육과정 1조/프로젝트/Total/train/'\n",
        "testDir = '/drive/My Drive/공유 문서/K-Data 고려대학교 빅데이터 청년인재 교육과정 1조/프로젝트/Total/test/'\n",
        "datasets = {\n",
        "    'train':ImageFolder(trainDir, dataTransforms),\n",
        "    'test':ImageFolder(testDir, dataTransforms)\n",
        "}"
      ],
      "execution_count": 0,
      "outputs": []
    },
    {
      "cell_type": "code",
      "metadata": {
        "id": "WUq_4oAkBtAo",
        "colab_type": "code",
        "colab": {}
      },
      "source": [
        "# 테스트\n",
        "\n",
        "from threading import Thread\n",
        "\n",
        "\n",
        "# 저장할 위치\n",
        "saveTrainDir = '/drive/My Drive/workspace/Total/train/'\n",
        "saveTestDir = '/drive/My Drive/workspace/Total/test/'\n",
        "\n",
        "nImages = 1\n",
        "\n",
        "# Thread 돌려서 trainset, testset 각각 Augmentation 수행\n",
        "for img in datasets['train'].imgs:\n",
        "    Thread(target=augmentation, args=(img, saveTrainDir, nImages)).start()\n",
        "    break\n",
        "\n",
        "for img in datasets['test'].imgs:\n",
        "    Thread(target=augmentation, args=(img, saveTestDir, nImages)).start()\n",
        "    break"
      ],
      "execution_count": 0,
      "outputs": []
    },
    {
      "cell_type": "code",
      "metadata": {
        "id": "4mnub22s4NP4",
        "colab_type": "code",
        "colab": {}
      },
      "source": [
        "# 돌릴 때 주의 ...\n",
        "\n",
        "nImages = 5\n",
        "\n",
        "for img in datasets['train'].imgs:\n",
        "    Thread(target=augmentation, args=(img, saveTrainDir, nImages)).start()\n",
        "\n",
        "for img in datasets['test'].imgs:\n",
        "    Thread(target=augmentation, args=(img, saveTestDir, nImages)).start()"
      ],
      "execution_count": 0,
      "outputs": []
    },
    {
      "cell_type": "code",
      "metadata": {
        "id": "6qwZDfPDHV4I",
        "colab_type": "code",
        "colab": {}
      },
      "source": [
        "# Non-Thread\n",
        "\n",
        "nImages = 5\n",
        "\n",
        "for img in datasets['train'].imgs:\n",
        "    augmentation(img, saveTrainDir, nImages)\n",
        "\n",
        "for img in datasets['test'].imgs:\n",
        "    augmentation(img, saveTrainDir, nImages)"
      ],
      "execution_count": 0,
      "outputs": []
    }
  ]
}

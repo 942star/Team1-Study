{
 "cells": [
  {
   "cell_type": "markdown",
   "metadata": {},
   "source": [
    "# Numpy\n",
    "- 쓰는 이유\n",
    "    1. 속도가 빠르다.\n",
    "    2. 사용하기 쉽고 편하다.\n",
    "\n",
    "\n",
    "- 속도가 빠른 이유\n",
    "    - C로 만들어졌기 때문이다.\n",
    "    \n",
    "    \n",
    "- numpy를 기반으로 pandas, scikit, tensorflow, pytorch 만들었다.\n",
    "    - numpy는 low level이기 때문에 high level(pandas 등)을 쓰면 굳이 알 필요가 없긴 하다.\n",
    "    - 그러나 이 분야를  깊게 배우고 잘 사용하려면 low level을 알아야한다.\n",
    "    - 최근에는 numpy만으로 구현하는 책들이 유행하고 있다.\n",
    "\n",
    "\n",
    "- vectorization(벡터화)\n",
    "    - 행렬의 장점: 한번에 여러가지 연산을 계산할 수 있다.\n",
    "    - for문 없이 연산하는 녀석들(이터레이터, 제너레이터, map/filter/reduce, 컴프리헨션) 이 빠른 이유와 비슷함.\n",
    "    \n",
    "\n",
    "- GPU를 지원하지 않는다.\n",
    "    - 그래서 tensorflow와 pytorch는 GPU를 지원하는 tensor라는 구조를 만들었다."
   ]
  },
  {
   "cell_type": "markdown",
   "metadata": {},
   "source": [
    "- 어떤 현상을 벡터화시키는 것이 핵심이다.\n",
    "    - 흑백 이미지: 2차원으로 표현 가능\n",
    "    - 컬러 이미지: 3차원으로 표현 가능(r,g,b 채널)\n",
    "    - 흑백 동영상: 3차원으로 표현 가능 (흑백이미지를 시간에 따라서 나열하면 됨)\n",
    "    - 컬러 동영상: 4차원으로 표현 가능"
   ]
  },
  {
   "cell_type": "markdown",
   "metadata": {},
   "source": [
    "---"
   ]
  },
  {
   "cell_type": "markdown",
   "metadata": {},
   "source": [
    "## 개념"
   ]
  },
  {
   "cell_type": "code",
   "execution_count": 1,
   "metadata": {},
   "outputs": [],
   "source": [
    "import numpy as np"
   ]
  },
  {
   "cell_type": "code",
   "execution_count": 2,
   "metadata": {},
   "outputs": [
    {
     "data": {
      "text/plain": [
       "['ALLOW_THREADS',\n",
       " 'AxisError',\n",
       " 'BUFSIZE',\n",
       " 'CLIP',\n",
       " 'ComplexWarning',\n",
       " 'DataSource',\n",
       " 'ERR_CALL',\n",
       " 'ERR_DEFAULT',\n",
       " 'ERR_IGNORE',\n",
       " 'ERR_LOG',\n",
       " 'ERR_PRINT',\n",
       " 'ERR_RAISE',\n",
       " 'ERR_WARN',\n",
       " 'FLOATING_POINT_SUPPORT',\n",
       " 'FPE_DIVIDEBYZERO',\n",
       " 'FPE_INVALID',\n",
       " 'FPE_OVERFLOW',\n",
       " 'FPE_UNDERFLOW',\n",
       " 'False_',\n",
       " 'Inf',\n",
       " 'Infinity',\n",
       " 'MAXDIMS',\n",
       " 'MAY_SHARE_BOUNDS',\n",
       " 'MAY_SHARE_EXACT',\n",
       " 'MachAr',\n",
       " 'ModuleDeprecationWarning',\n",
       " 'NAN',\n",
       " 'NINF',\n",
       " 'NZERO',\n",
       " 'NaN',\n",
       " 'PINF',\n",
       " 'PZERO',\n",
       " 'RAISE',\n",
       " 'RankWarning',\n",
       " 'SHIFT_DIVIDEBYZERO',\n",
       " 'SHIFT_INVALID',\n",
       " 'SHIFT_OVERFLOW',\n",
       " 'SHIFT_UNDERFLOW',\n",
       " 'ScalarType',\n",
       " 'Tester',\n",
       " 'TooHardError',\n",
       " 'True_',\n",
       " 'UFUNC_BUFSIZE_DEFAULT',\n",
       " 'UFUNC_PYVALS_NAME',\n",
       " 'VisibleDeprecationWarning',\n",
       " 'WRAP',\n",
       " '_NoValue',\n",
       " '_UFUNC_API',\n",
       " '__NUMPY_SETUP__',\n",
       " '__all__',\n",
       " '__builtins__',\n",
       " '__cached__',\n",
       " '__config__',\n",
       " '__doc__',\n",
       " '__file__',\n",
       " '__git_revision__',\n",
       " '__loader__',\n",
       " '__mkl_version__',\n",
       " '__name__',\n",
       " '__package__',\n",
       " '__path__',\n",
       " '__spec__',\n",
       " '__version__',\n",
       " '_add_newdoc_ufunc',\n",
       " '_arg',\n",
       " '_distributor_init',\n",
       " '_globals',\n",
       " '_mat',\n",
       " '_mklinit',\n",
       " '_pytesttester',\n",
       " 'abs',\n",
       " 'absolute',\n",
       " 'absolute_import',\n",
       " 'add',\n",
       " 'add_docstring',\n",
       " 'add_newdoc',\n",
       " 'add_newdoc_ufunc',\n",
       " 'alen',\n",
       " 'all',\n",
       " 'allclose',\n",
       " 'alltrue',\n",
       " 'amax',\n",
       " 'amin',\n",
       " 'angle',\n",
       " 'any',\n",
       " 'append',\n",
       " 'apply_along_axis',\n",
       " 'apply_over_axes',\n",
       " 'arange',\n",
       " 'arccos',\n",
       " 'arccosh',\n",
       " 'arcsin',\n",
       " 'arcsinh',\n",
       " 'arctan',\n",
       " 'arctan2',\n",
       " 'arctanh',\n",
       " 'argmax',\n",
       " 'argmin',\n",
       " 'argpartition',\n",
       " 'argsort',\n",
       " 'argwhere',\n",
       " 'around',\n",
       " 'array',\n",
       " 'array2string',\n",
       " 'array_equal',\n",
       " 'array_equiv',\n",
       " 'array_repr',\n",
       " 'array_split',\n",
       " 'array_str',\n",
       " 'asanyarray',\n",
       " 'asarray',\n",
       " 'asarray_chkfinite',\n",
       " 'ascontiguousarray',\n",
       " 'asfarray',\n",
       " 'asfortranarray',\n",
       " 'asmatrix',\n",
       " 'asscalar',\n",
       " 'atleast_1d',\n",
       " 'atleast_2d',\n",
       " 'atleast_3d',\n",
       " 'average',\n",
       " 'bartlett',\n",
       " 'base_repr',\n",
       " 'binary_repr',\n",
       " 'bincount',\n",
       " 'bitwise_and',\n",
       " 'bitwise_not',\n",
       " 'bitwise_or',\n",
       " 'bitwise_xor',\n",
       " 'blackman',\n",
       " 'block',\n",
       " 'bmat',\n",
       " 'bool',\n",
       " 'bool8',\n",
       " 'bool_',\n",
       " 'broadcast',\n",
       " 'broadcast_arrays',\n",
       " 'broadcast_to',\n",
       " 'busday_count',\n",
       " 'busday_offset',\n",
       " 'busdaycalendar',\n",
       " 'byte',\n",
       " 'byte_bounds',\n",
       " 'bytes0',\n",
       " 'bytes_',\n",
       " 'c_',\n",
       " 'can_cast',\n",
       " 'cast',\n",
       " 'cbrt',\n",
       " 'cdouble',\n",
       " 'ceil',\n",
       " 'cfloat',\n",
       " 'char',\n",
       " 'character',\n",
       " 'chararray',\n",
       " 'choose',\n",
       " 'clip',\n",
       " 'clongdouble',\n",
       " 'clongfloat',\n",
       " 'column_stack',\n",
       " 'common_type',\n",
       " 'compare_chararrays',\n",
       " 'compat',\n",
       " 'complex',\n",
       " 'complex128',\n",
       " 'complex64',\n",
       " 'complex_',\n",
       " 'complexfloating',\n",
       " 'compress',\n",
       " 'concatenate',\n",
       " 'conj',\n",
       " 'conjugate',\n",
       " 'convolve',\n",
       " 'copy',\n",
       " 'copysign',\n",
       " 'copyto',\n",
       " 'core',\n",
       " 'corrcoef',\n",
       " 'correlate',\n",
       " 'cos',\n",
       " 'cosh',\n",
       " 'count_nonzero',\n",
       " 'cov',\n",
       " 'cross',\n",
       " 'csingle',\n",
       " 'ctypeslib',\n",
       " 'cumprod',\n",
       " 'cumproduct',\n",
       " 'cumsum',\n",
       " 'datetime64',\n",
       " 'datetime_as_string',\n",
       " 'datetime_data',\n",
       " 'deg2rad',\n",
       " 'degrees',\n",
       " 'delete',\n",
       " 'deprecate',\n",
       " 'deprecate_with_doc',\n",
       " 'diag',\n",
       " 'diag_indices',\n",
       " 'diag_indices_from',\n",
       " 'diagflat',\n",
       " 'diagonal',\n",
       " 'diff',\n",
       " 'digitize',\n",
       " 'disp',\n",
       " 'divide',\n",
       " 'division',\n",
       " 'divmod',\n",
       " 'dot',\n",
       " 'double',\n",
       " 'dsplit',\n",
       " 'dstack',\n",
       " 'dtype',\n",
       " 'e',\n",
       " 'ediff1d',\n",
       " 'einsum',\n",
       " 'einsum_path',\n",
       " 'emath',\n",
       " 'empty',\n",
       " 'empty_like',\n",
       " 'equal',\n",
       " 'errstate',\n",
       " 'euler_gamma',\n",
       " 'exp',\n",
       " 'exp2',\n",
       " 'expand_dims',\n",
       " 'expm1',\n",
       " 'extract',\n",
       " 'eye',\n",
       " 'fabs',\n",
       " 'fastCopyAndTranspose',\n",
       " 'fft',\n",
       " 'fill_diagonal',\n",
       " 'find_common_type',\n",
       " 'finfo',\n",
       " 'fix',\n",
       " 'flatiter',\n",
       " 'flatnonzero',\n",
       " 'flexible',\n",
       " 'flip',\n",
       " 'fliplr',\n",
       " 'flipud',\n",
       " 'float',\n",
       " 'float16',\n",
       " 'float32',\n",
       " 'float64',\n",
       " 'float_',\n",
       " 'float_power',\n",
       " 'floating',\n",
       " 'floor',\n",
       " 'floor_divide',\n",
       " 'fmax',\n",
       " 'fmin',\n",
       " 'fmod',\n",
       " 'format_float_positional',\n",
       " 'format_float_scientific',\n",
       " 'format_parser',\n",
       " 'frexp',\n",
       " 'frombuffer',\n",
       " 'fromfile',\n",
       " 'fromfunction',\n",
       " 'fromiter',\n",
       " 'frompyfunc',\n",
       " 'fromregex',\n",
       " 'fromstring',\n",
       " 'full',\n",
       " 'full_like',\n",
       " 'fv',\n",
       " 'gcd',\n",
       " 'generic',\n",
       " 'genfromtxt',\n",
       " 'geomspace',\n",
       " 'get_array_wrap',\n",
       " 'get_include',\n",
       " 'get_printoptions',\n",
       " 'getbufsize',\n",
       " 'geterr',\n",
       " 'geterrcall',\n",
       " 'geterrobj',\n",
       " 'gradient',\n",
       " 'greater',\n",
       " 'greater_equal',\n",
       " 'half',\n",
       " 'hamming',\n",
       " 'hanning',\n",
       " 'heaviside',\n",
       " 'histogram',\n",
       " 'histogram2d',\n",
       " 'histogram_bin_edges',\n",
       " 'histogramdd',\n",
       " 'hsplit',\n",
       " 'hstack',\n",
       " 'hypot',\n",
       " 'i0',\n",
       " 'identity',\n",
       " 'iinfo',\n",
       " 'imag',\n",
       " 'in1d',\n",
       " 'index_exp',\n",
       " 'indices',\n",
       " 'inexact',\n",
       " 'inf',\n",
       " 'info',\n",
       " 'infty',\n",
       " 'inner',\n",
       " 'insert',\n",
       " 'int',\n",
       " 'int0',\n",
       " 'int16',\n",
       " 'int32',\n",
       " 'int64',\n",
       " 'int8',\n",
       " 'int_',\n",
       " 'int_asbuffer',\n",
       " 'intc',\n",
       " 'integer',\n",
       " 'interp',\n",
       " 'intersect1d',\n",
       " 'intp',\n",
       " 'invert',\n",
       " 'ipmt',\n",
       " 'irr',\n",
       " 'is_busday',\n",
       " 'isclose',\n",
       " 'iscomplex',\n",
       " 'iscomplexobj',\n",
       " 'isfinite',\n",
       " 'isfortran',\n",
       " 'isin',\n",
       " 'isinf',\n",
       " 'isnan',\n",
       " 'isnat',\n",
       " 'isneginf',\n",
       " 'isposinf',\n",
       " 'isreal',\n",
       " 'isrealobj',\n",
       " 'isscalar',\n",
       " 'issctype',\n",
       " 'issubclass_',\n",
       " 'issubdtype',\n",
       " 'issubsctype',\n",
       " 'iterable',\n",
       " 'ix_',\n",
       " 'kaiser',\n",
       " 'kron',\n",
       " 'lcm',\n",
       " 'ldexp',\n",
       " 'left_shift',\n",
       " 'less',\n",
       " 'less_equal',\n",
       " 'lexsort',\n",
       " 'lib',\n",
       " 'linalg',\n",
       " 'linspace',\n",
       " 'little_endian',\n",
       " 'load',\n",
       " 'loads',\n",
       " 'loadtxt',\n",
       " 'log',\n",
       " 'log10',\n",
       " 'log1p',\n",
       " 'log2',\n",
       " 'logaddexp',\n",
       " 'logaddexp2',\n",
       " 'logical_and',\n",
       " 'logical_not',\n",
       " 'logical_or',\n",
       " 'logical_xor',\n",
       " 'logspace',\n",
       " 'long',\n",
       " 'longcomplex',\n",
       " 'longdouble',\n",
       " 'longfloat',\n",
       " 'longlong',\n",
       " 'lookfor',\n",
       " 'ma',\n",
       " 'mafromtxt',\n",
       " 'mask_indices',\n",
       " 'mat',\n",
       " 'math',\n",
       " 'matmul',\n",
       " 'matrix',\n",
       " 'matrixlib',\n",
       " 'max',\n",
       " 'maximum',\n",
       " 'maximum_sctype',\n",
       " 'may_share_memory',\n",
       " 'mean',\n",
       " 'median',\n",
       " 'memmap',\n",
       " 'meshgrid',\n",
       " 'mgrid',\n",
       " 'min',\n",
       " 'min_scalar_type',\n",
       " 'minimum',\n",
       " 'mintypecode',\n",
       " 'mirr',\n",
       " 'mod',\n",
       " 'modf',\n",
       " 'moveaxis',\n",
       " 'msort',\n",
       " 'multiply',\n",
       " 'nan',\n",
       " 'nan_to_num',\n",
       " 'nanargmax',\n",
       " 'nanargmin',\n",
       " 'nancumprod',\n",
       " 'nancumsum',\n",
       " 'nanmax',\n",
       " 'nanmean',\n",
       " 'nanmedian',\n",
       " 'nanmin',\n",
       " 'nanpercentile',\n",
       " 'nanprod',\n",
       " 'nanquantile',\n",
       " 'nanstd',\n",
       " 'nansum',\n",
       " 'nanvar',\n",
       " 'nbytes',\n",
       " 'ndarray',\n",
       " 'ndenumerate',\n",
       " 'ndfromtxt',\n",
       " 'ndim',\n",
       " 'ndindex',\n",
       " 'nditer',\n",
       " 'negative',\n",
       " 'nested_iters',\n",
       " 'newaxis',\n",
       " 'nextafter',\n",
       " 'nonzero',\n",
       " 'not_equal',\n",
       " 'nper',\n",
       " 'npv',\n",
       " 'numarray',\n",
       " 'number',\n",
       " 'obj2sctype',\n",
       " 'object',\n",
       " 'object0',\n",
       " 'object_',\n",
       " 'ogrid',\n",
       " 'oldnumeric',\n",
       " 'ones',\n",
       " 'ones_like',\n",
       " 'outer',\n",
       " 'packbits',\n",
       " 'pad',\n",
       " 'partition',\n",
       " 'percentile',\n",
       " 'pi',\n",
       " 'piecewise',\n",
       " 'place',\n",
       " 'pmt',\n",
       " 'poly',\n",
       " 'poly1d',\n",
       " 'polyadd',\n",
       " 'polyder',\n",
       " 'polydiv',\n",
       " 'polyfit',\n",
       " 'polyint',\n",
       " 'polymul',\n",
       " 'polynomial',\n",
       " 'polysub',\n",
       " 'polyval',\n",
       " 'positive',\n",
       " 'power',\n",
       " 'ppmt',\n",
       " 'print_function',\n",
       " 'printoptions',\n",
       " 'prod',\n",
       " 'product',\n",
       " 'promote_types',\n",
       " 'ptp',\n",
       " 'put',\n",
       " 'put_along_axis',\n",
       " 'putmask',\n",
       " 'pv',\n",
       " 'quantile',\n",
       " 'r_',\n",
       " 'rad2deg',\n",
       " 'radians',\n",
       " 'random',\n",
       " 'rank',\n",
       " 'rate',\n",
       " 'ravel',\n",
       " 'ravel_multi_index',\n",
       " 'real',\n",
       " 'real_if_close',\n",
       " 'rec',\n",
       " 'recarray',\n",
       " 'recfromcsv',\n",
       " 'recfromtxt',\n",
       " 'reciprocal',\n",
       " 'record',\n",
       " 'remainder',\n",
       " 'repeat',\n",
       " 'require',\n",
       " 'reshape',\n",
       " 'resize',\n",
       " 'result_type',\n",
       " 'right_shift',\n",
       " 'rint',\n",
       " 'roll',\n",
       " 'rollaxis',\n",
       " 'roots',\n",
       " 'rot90',\n",
       " 'round',\n",
       " 'round_',\n",
       " 'row_stack',\n",
       " 's_',\n",
       " 'safe_eval',\n",
       " 'save',\n",
       " 'savetxt',\n",
       " 'savez',\n",
       " 'savez_compressed',\n",
       " 'sctype2char',\n",
       " 'sctypeDict',\n",
       " 'sctypeNA',\n",
       " 'sctypes',\n",
       " 'searchsorted',\n",
       " 'select',\n",
       " 'set_numeric_ops',\n",
       " 'set_printoptions',\n",
       " 'set_string_function',\n",
       " 'setbufsize',\n",
       " 'setdiff1d',\n",
       " 'seterr',\n",
       " 'seterrcall',\n",
       " 'seterrobj',\n",
       " 'setxor1d',\n",
       " 'shape',\n",
       " 'shares_memory',\n",
       " 'short',\n",
       " 'show_config',\n",
       " 'sign',\n",
       " 'signbit',\n",
       " 'signedinteger',\n",
       " 'sin',\n",
       " 'sinc',\n",
       " 'single',\n",
       " 'singlecomplex',\n",
       " 'sinh',\n",
       " 'size',\n",
       " 'sometrue',\n",
       " 'sort',\n",
       " 'sort_complex',\n",
       " 'source',\n",
       " 'spacing',\n",
       " 'split',\n",
       " 'sqrt',\n",
       " 'square',\n",
       " 'squeeze',\n",
       " 'stack',\n",
       " 'std',\n",
       " 'str',\n",
       " 'str0',\n",
       " 'str_',\n",
       " 'string_',\n",
       " 'subtract',\n",
       " 'sum',\n",
       " 'swapaxes',\n",
       " 'sys',\n",
       " 'take',\n",
       " 'take_along_axis',\n",
       " 'tan',\n",
       " 'tanh',\n",
       " 'tensordot',\n",
       " 'test',\n",
       " 'testing',\n",
       " 'tile',\n",
       " 'timedelta64',\n",
       " 'trace',\n",
       " 'tracemalloc_domain',\n",
       " 'transpose',\n",
       " 'trapz',\n",
       " 'tri',\n",
       " 'tril',\n",
       " 'tril_indices',\n",
       " 'tril_indices_from',\n",
       " 'trim_zeros',\n",
       " 'triu',\n",
       " 'triu_indices',\n",
       " 'triu_indices_from',\n",
       " 'true_divide',\n",
       " 'trunc',\n",
       " 'typeDict',\n",
       " 'typeNA',\n",
       " 'typecodes',\n",
       " 'typename',\n",
       " 'ubyte',\n",
       " 'ufunc',\n",
       " 'uint',\n",
       " 'uint0',\n",
       " 'uint16',\n",
       " 'uint32',\n",
       " 'uint64',\n",
       " 'uint8',\n",
       " 'uintc',\n",
       " 'uintp',\n",
       " 'ulonglong',\n",
       " 'unicode',\n",
       " 'unicode_',\n",
       " 'union1d',\n",
       " 'unique',\n",
       " 'unpackbits',\n",
       " 'unravel_index',\n",
       " 'unsignedinteger',\n",
       " 'unwrap',\n",
       " 'ushort',\n",
       " 'vander',\n",
       " 'var',\n",
       " 'vdot',\n",
       " 'vectorize',\n",
       " 'version',\n",
       " 'void',\n",
       " 'void0',\n",
       " 'vsplit',\n",
       " 'vstack',\n",
       " 'warnings',\n",
       " 'where',\n",
       " 'who',\n",
       " 'zeros',\n",
       " 'zeros_like']"
      ]
     },
     "execution_count": 2,
     "metadata": {},
     "output_type": "execute_result"
    }
   ],
   "source": [
    "# __dir__과 dir()의 차이점 : dir()은 정렬되서 나온다.\n",
    "# 대문자 부터 나오는 이유: ascii 코드 순서대로... A는 65, a는 97....\n",
    "\n",
    "# 중간중간 보면 수학 함수 용어 많이 보임\n",
    "\n",
    "dir(np)"
   ]
  },
  {
   "cell_type": "code",
   "execution_count": null,
   "metadata": {},
   "outputs": [],
   "source": [
    "# factory method\n",
    "# 디자인 패턴 중 하나\n",
    "# 인스턴스화 하지 않고 인스턴스로 사용하는 방법.\n",
    "# 인스턴스를 만드는 방법 3가지: 클래스를 인스턴스화, 리터럴 방식, factory method\n",
    "\n",
    "# import array 하면 파이썬 공식적으로 array라는게 있다.\n",
    "# 그런데 파이썬 공식 array는 안쓴다.\n",
    "\n",
    "# np.array는 호모지니어스이다.\n",
    "# 호모지니어스는 데이터 타입 체크를 할 필요가 없기 때문에 속도가 빠르다.\n",
    "\n",
    "np.array"
   ]
  },
  {
   "cell_type": "code",
   "execution_count": 8,
   "metadata": {},
   "outputs": [
    {
     "data": {
      "text/plain": [
       "array(1)"
      ]
     },
     "execution_count": 8,
     "metadata": {},
     "output_type": "execute_result"
    }
   ],
   "source": [
    "# array 타입을 만들자. \n",
    "# int 들어감.\n",
    "# array라고 앞에 붙어있음.  ->  앞으로 라이브러리 쓰다가 array라고 붙은 애들은 다 numpy로 만들어서 그렇다 생각하믄 됨.\n",
    "\n",
    "a = np.array(1)\n",
    "a"
   ]
  },
  {
   "cell_type": "code",
   "execution_count": 6,
   "metadata": {},
   "outputs": [
    {
     "data": {
      "text/plain": [
       "array([1, 2])"
      ]
     },
     "execution_count": 6,
     "metadata": {},
     "output_type": "execute_result"
    }
   ],
   "source": [
    "# 리스트를 넣을 수도 있다.\n",
    "\n",
    "a = np.array([1,2])\n",
    "a"
   ]
  },
  {
   "cell_type": "code",
   "execution_count": 7,
   "metadata": {},
   "outputs": [
    {
     "data": {
      "text/plain": [
       "array([1, 2])"
      ]
     },
     "execution_count": 7,
     "metadata": {},
     "output_type": "execute_result"
    }
   ],
   "source": [
    "# 튜플을 집어넣었는데 리스트로 바뀌었다.\n",
    "# mutable 타입이구나!\n",
    "# mutable이면 골치아픈 일이 생길 수 있따... deep copy, swallow copy 개념 알아야함.\n",
    "\n",
    "a = np.array((1,2))\n",
    "a"
   ]
  },
  {
   "cell_type": "code",
   "execution_count": 9,
   "metadata": {},
   "outputs": [
    {
     "data": {
      "text/plain": [
       "numpy.ndarray"
      ]
     },
     "execution_count": 9,
     "metadata": {},
     "output_type": "execute_result"
    }
   ],
   "source": [
    "# 원래 이름은 ndarray\n",
    "# ndarray : n차원 array이다.\n",
    "\n",
    "type(a)"
   ]
  },
  {
   "cell_type": "code",
   "execution_count": 11,
   "metadata": {},
   "outputs": [
    {
     "data": {
      "text/plain": [
       "array([[[1, 2],\n",
       "        [3, 4]],\n",
       "\n",
       "       [[1, 2],\n",
       "        [3, 4]]])"
      ]
     },
     "execution_count": 11,
     "metadata": {},
     "output_type": "execute_result"
    }
   ],
   "source": [
    "# 공백이 있으면 차원이 나뉘어짐을 알 수 있다.\n",
    "# 다차원을 읽기 편하게 보여주는 것이지....\n",
    "\n",
    "a = np.array([[[1,2], [3,4]], [[1,2], [3,4]]])\n",
    "a"
   ]
  },
  {
   "cell_type": "code",
   "execution_count": 16,
   "metadata": {},
   "outputs": [
    {
     "data": {
      "text/plain": [
       "array([], dtype=float64)"
      ]
     },
     "execution_count": 16,
     "metadata": {},
     "output_type": "execute_result"
    }
   ],
   "source": [
    "# dtype이라는게 생겼다.\n",
    "# 호모지니어스인데 data type이 왜 필요할까?\n",
    "\n",
    "n = np.ndarray(0)\n",
    "n"
   ]
  },
  {
   "cell_type": "code",
   "execution_count": 17,
   "metadata": {},
   "outputs": [
    {
     "data": {
      "text/plain": [
       "numpy.ndarray"
      ]
     },
     "execution_count": 17,
     "metadata": {},
     "output_type": "execute_result"
    }
   ],
   "source": [
    "# type은 똑같다.\n",
    "\n",
    "type(n)"
   ]
  },
  {
   "cell_type": "code",
   "execution_count": 23,
   "metadata": {},
   "outputs": [
    {
     "name": "stdout",
     "output_type": "stream",
     "text": [
      "<class 'type'>\n",
      "<class 'builtin_function_or_method'>\n"
     ]
    }
   ],
   "source": [
    "# 얘는 클래스\n",
    "print(type(np.ndarray))\n",
    "\n",
    "# 얘는 factory method\n",
    "print(type(np.array))"
   ]
  },
  {
   "cell_type": "code",
   "execution_count": 14,
   "metadata": {},
   "outputs": [
    {
     "data": {
      "text/plain": [
       "array(['1', '2', '3'], dtype='<U1')"
      ]
     },
     "execution_count": 14,
     "metadata": {},
     "output_type": "execute_result"
    }
   ],
   "source": [
    "# 아까의 np.array는 호모지니어스라고 했다.\n",
    "# 그런데 int와 str을 섞었는데 된다?  =>  dtype이 '<U1'이 되었다. 유니코드라는 뜻이다.\n",
    "# 결과를 잘 보면 '1', '2', '3'으로 바뀌었다.  =>  '1'에 맞춰서 나머지도 같은 타입으로 바뀌었다. -> 호모지니어스\n",
    "# 팩토리 메서드라서...가능...?\n",
    "\n",
    "n = np.array(['1',2,3])\n",
    "n"
   ]
  },
  {
   "cell_type": "code",
   "execution_count": 60,
   "metadata": {},
   "outputs": [
    {
     "ename": "TypeError",
     "evalue": "'str' object cannot be interpreted as an integer",
     "output_type": "error",
     "traceback": [
      "\u001b[1;31m---------------------------------------------------------------------------\u001b[0m",
      "\u001b[1;31mTypeError\u001b[0m                                 Traceback (most recent call last)",
      "\u001b[1;32m<ipython-input-60-8de975f61dfc>\u001b[0m in \u001b[0;36m<module>\u001b[1;34m\u001b[0m\n\u001b[0;32m      1\u001b[0m \u001b[1;31m# np.ndarray는 int가 아니면 에러를 내버린다.\u001b[0m\u001b[1;33m\u001b[0m\u001b[1;33m\u001b[0m\u001b[1;33m\u001b[0m\u001b[0m\n\u001b[0;32m      2\u001b[0m \u001b[1;33m\u001b[0m\u001b[0m\n\u001b[1;32m----> 3\u001b[1;33m \u001b[0mnp\u001b[0m\u001b[1;33m.\u001b[0m\u001b[0mndarray\u001b[0m\u001b[1;33m(\u001b[0m\u001b[1;33m[\u001b[0m\u001b[1;34m'1'\u001b[0m\u001b[1;33m,\u001b[0m\u001b[1;36m2\u001b[0m\u001b[1;33m,\u001b[0m\u001b[1;36m3\u001b[0m\u001b[1;33m]\u001b[0m\u001b[1;33m)\u001b[0m\u001b[1;33m\u001b[0m\u001b[1;33m\u001b[0m\u001b[0m\n\u001b[0m",
      "\u001b[1;31mTypeError\u001b[0m: 'str' object cannot be interpreted as an integer"
     ]
    }
   ],
   "source": [
    "# np.ndarray는 int가 아니면 에러를 내버린다.\n",
    "\n",
    "np.ndarray(['1',2,3])"
   ]
  },
  {
   "cell_type": "code",
   "execution_count": 57,
   "metadata": {},
   "outputs": [
    {
     "ename": "TypeError",
     "evalue": "'str' object cannot be interpreted as an integer",
     "output_type": "error",
     "traceback": [
      "\u001b[1;31m---------------------------------------------------------------------------\u001b[0m",
      "\u001b[1;31mTypeError\u001b[0m                                 Traceback (most recent call last)",
      "\u001b[1;32m<ipython-input-57-2f4c8840406c>\u001b[0m in \u001b[0;36m<module>\u001b[1;34m\u001b[0m\n\u001b[1;32m----> 1\u001b[1;33m \u001b[0mnp\u001b[0m\u001b[1;33m.\u001b[0m\u001b[0mndarray\u001b[0m\u001b[1;33m(\u001b[0m\u001b[1;33m[\u001b[0m\u001b[1;34m'1'\u001b[0m\u001b[1;33m,\u001b[0m\u001b[1;36m2\u001b[0m\u001b[1;33m,\u001b[0m\u001b[1;36m3\u001b[0m\u001b[1;33m]\u001b[0m\u001b[1;33m,\u001b[0m \u001b[0mdtype\u001b[0m\u001b[1;33m=\u001b[0m\u001b[1;34m\"<U1\"\u001b[0m\u001b[1;33m)\u001b[0m\u001b[1;33m\u001b[0m\u001b[1;33m\u001b[0m\u001b[0m\n\u001b[0m",
      "\u001b[1;31mTypeError\u001b[0m: 'str' object cannot be interpreted as an integer"
     ]
    }
   ],
   "source": [
    "# dtype을 지정해도 안된다.\n",
    "\n",
    "np.ndarray(['1',2,3], dtype=\"<U1\")"
   ]
  },
  {
   "cell_type": "code",
   "execution_count": 58,
   "metadata": {},
   "outputs": [
    {
     "ename": "TypeError",
     "evalue": "'str' object cannot be interpreted as an integer",
     "output_type": "error",
     "traceback": [
      "\u001b[1;31m---------------------------------------------------------------------------\u001b[0m",
      "\u001b[1;31mTypeError\u001b[0m                                 Traceback (most recent call last)",
      "\u001b[1;32m<ipython-input-58-5af089c874cb>\u001b[0m in \u001b[0;36m<module>\u001b[1;34m\u001b[0m\n\u001b[1;32m----> 1\u001b[1;33m \u001b[0mnp\u001b[0m\u001b[1;33m.\u001b[0m\u001b[0mndarray\u001b[0m\u001b[1;33m(\u001b[0m\u001b[1;33m[\u001b[0m\u001b[1;34m'1'\u001b[0m\u001b[1;33m,\u001b[0m\u001b[1;34m'2'\u001b[0m\u001b[1;33m,\u001b[0m\u001b[1;34m'3'\u001b[0m\u001b[1;33m]\u001b[0m\u001b[1;33m)\u001b[0m\u001b[1;33m\u001b[0m\u001b[1;33m\u001b[0m\u001b[0m\n\u001b[0m",
      "\u001b[1;31mTypeError\u001b[0m: 'str' object cannot be interpreted as an integer"
     ]
    }
   ],
   "source": [
    "# type을 통일시켜도 문자열 자체가 안된다.\n",
    "\n",
    "np.ndarray(['1','2','3'])"
   ]
  },
  {
   "cell_type": "code",
   "execution_count": 59,
   "metadata": {},
   "outputs": [
    {
     "ename": "TypeError",
     "evalue": "'str' object cannot be interpreted as an integer",
     "output_type": "error",
     "traceback": [
      "\u001b[1;31m---------------------------------------------------------------------------\u001b[0m",
      "\u001b[1;31mTypeError\u001b[0m                                 Traceback (most recent call last)",
      "\u001b[1;32m<ipython-input-59-d00cc1ac81f6>\u001b[0m in \u001b[0;36m<module>\u001b[1;34m\u001b[0m\n\u001b[1;32m----> 1\u001b[1;33m \u001b[0mnp\u001b[0m\u001b[1;33m.\u001b[0m\u001b[0mndarray\u001b[0m\u001b[1;33m(\u001b[0m\u001b[1;33m[\u001b[0m\u001b[1;34m'1'\u001b[0m\u001b[1;33m,\u001b[0m\u001b[1;34m'2'\u001b[0m\u001b[1;33m,\u001b[0m\u001b[1;34m'3'\u001b[0m\u001b[1;33m]\u001b[0m\u001b[1;33m,\u001b[0m \u001b[0mdtype\u001b[0m\u001b[1;33m=\u001b[0m\u001b[1;34m\"<U1\"\u001b[0m\u001b[1;33m)\u001b[0m\u001b[1;33m\u001b[0m\u001b[1;33m\u001b[0m\u001b[0m\n\u001b[0m",
      "\u001b[1;31mTypeError\u001b[0m: 'str' object cannot be interpreted as an integer"
     ]
    }
   ],
   "source": [
    "# 다 안된다~\n",
    "# ndarray 객체 만들때는 np.array / np.ones / np.zeros / np.empty 등을 쓰자~\n",
    "\n",
    "np.ndarray(['1','2','3'], dtype=\"<U1\")"
   ]
  },
  {
   "cell_type": "code",
   "execution_count": 25,
   "metadata": {},
   "outputs": [
    {
     "data": {
      "text/plain": [
       "['T',\n",
       " '__abs__',\n",
       " '__add__',\n",
       " '__and__',\n",
       " '__array__',\n",
       " '__array_finalize__',\n",
       " '__array_function__',\n",
       " '__array_interface__',\n",
       " '__array_prepare__',\n",
       " '__array_priority__',\n",
       " '__array_struct__',\n",
       " '__array_ufunc__',\n",
       " '__array_wrap__',\n",
       " '__bool__',\n",
       " '__class__',\n",
       " '__complex__',\n",
       " '__contains__',\n",
       " '__copy__',\n",
       " '__deepcopy__',\n",
       " '__delattr__',\n",
       " '__delitem__',\n",
       " '__dir__',\n",
       " '__divmod__',\n",
       " '__doc__',\n",
       " '__eq__',\n",
       " '__float__',\n",
       " '__floordiv__',\n",
       " '__format__',\n",
       " '__ge__',\n",
       " '__getattribute__',\n",
       " '__getitem__',\n",
       " '__gt__',\n",
       " '__hash__',\n",
       " '__iadd__',\n",
       " '__iand__',\n",
       " '__ifloordiv__',\n",
       " '__ilshift__',\n",
       " '__imatmul__',\n",
       " '__imod__',\n",
       " '__imul__',\n",
       " '__index__',\n",
       " '__init__',\n",
       " '__init_subclass__',\n",
       " '__int__',\n",
       " '__invert__',\n",
       " '__ior__',\n",
       " '__ipow__',\n",
       " '__irshift__',\n",
       " '__isub__',\n",
       " '__iter__',\n",
       " '__itruediv__',\n",
       " '__ixor__',\n",
       " '__le__',\n",
       " '__len__',\n",
       " '__lshift__',\n",
       " '__lt__',\n",
       " '__matmul__',\n",
       " '__mod__',\n",
       " '__mul__',\n",
       " '__ne__',\n",
       " '__neg__',\n",
       " '__new__',\n",
       " '__or__',\n",
       " '__pos__',\n",
       " '__pow__',\n",
       " '__radd__',\n",
       " '__rand__',\n",
       " '__rdivmod__',\n",
       " '__reduce__',\n",
       " '__reduce_ex__',\n",
       " '__repr__',\n",
       " '__rfloordiv__',\n",
       " '__rlshift__',\n",
       " '__rmatmul__',\n",
       " '__rmod__',\n",
       " '__rmul__',\n",
       " '__ror__',\n",
       " '__rpow__',\n",
       " '__rrshift__',\n",
       " '__rshift__',\n",
       " '__rsub__',\n",
       " '__rtruediv__',\n",
       " '__rxor__',\n",
       " '__setattr__',\n",
       " '__setitem__',\n",
       " '__setstate__',\n",
       " '__sizeof__',\n",
       " '__str__',\n",
       " '__sub__',\n",
       " '__subclasshook__',\n",
       " '__truediv__',\n",
       " '__xor__',\n",
       " 'all',\n",
       " 'any',\n",
       " 'argmax',\n",
       " 'argmin',\n",
       " 'argpartition',\n",
       " 'argsort',\n",
       " 'astype',\n",
       " 'base',\n",
       " 'byteswap',\n",
       " 'choose',\n",
       " 'clip',\n",
       " 'compress',\n",
       " 'conj',\n",
       " 'conjugate',\n",
       " 'copy',\n",
       " 'ctypes',\n",
       " 'cumprod',\n",
       " 'cumsum',\n",
       " 'data',\n",
       " 'diagonal',\n",
       " 'dot',\n",
       " 'dtype',\n",
       " 'dump',\n",
       " 'dumps',\n",
       " 'fill',\n",
       " 'flags',\n",
       " 'flat',\n",
       " 'flatten',\n",
       " 'getfield',\n",
       " 'imag',\n",
       " 'item',\n",
       " 'itemset',\n",
       " 'itemsize',\n",
       " 'max',\n",
       " 'mean',\n",
       " 'min',\n",
       " 'nbytes',\n",
       " 'ndim',\n",
       " 'newbyteorder',\n",
       " 'nonzero',\n",
       " 'partition',\n",
       " 'prod',\n",
       " 'ptp',\n",
       " 'put',\n",
       " 'ravel',\n",
       " 'real',\n",
       " 'repeat',\n",
       " 'reshape',\n",
       " 'resize',\n",
       " 'round',\n",
       " 'searchsorted',\n",
       " 'setfield',\n",
       " 'setflags',\n",
       " 'shape',\n",
       " 'size',\n",
       " 'sort',\n",
       " 'squeeze',\n",
       " 'std',\n",
       " 'strides',\n",
       " 'sum',\n",
       " 'swapaxes',\n",
       " 'take',\n",
       " 'tobytes',\n",
       " 'tofile',\n",
       " 'tolist',\n",
       " 'tostring',\n",
       " 'trace',\n",
       " 'transpose',\n",
       " 'var',\n",
       " 'view']"
      ]
     },
     "execution_count": 25,
     "metadata": {},
     "output_type": "execute_result"
    }
   ],
   "source": [
    "# dir로 살펴보자.\n",
    "\n",
    "n = np.array(['1',2,3])\n",
    "dir(n)"
   ]
  },
  {
   "cell_type": "code",
   "execution_count": 26,
   "metadata": {},
   "outputs": [
    {
     "ename": "TypeError",
     "evalue": "vars() argument must have __dict__ attribute",
     "output_type": "error",
     "traceback": [
      "\u001b[1;31m---------------------------------------------------------------------------\u001b[0m",
      "\u001b[1;31mTypeError\u001b[0m                                 Traceback (most recent call last)",
      "\u001b[1;32m<ipython-input-26-08ddfd970fe6>\u001b[0m in \u001b[0;36m<module>\u001b[1;34m\u001b[0m\n\u001b[1;32m----> 1\u001b[1;33m \u001b[0mvars\u001b[0m\u001b[1;33m(\u001b[0m\u001b[0mn\u001b[0m\u001b[1;33m)\u001b[0m\u001b[1;33m\u001b[0m\u001b[1;33m\u001b[0m\u001b[0m\n\u001b[0m",
      "\u001b[1;31mTypeError\u001b[0m: vars() argument must have __dict__ attribute"
     ]
    }
   ],
   "source": [
    "# vars는 인스턴스가 가지고 있는 값을 보여준다.\n",
    "# 값을 한개만 가지는 애다.\n",
    "# 값을 한개만 기지는 vars가 안 된다.\n",
    "\n",
    "vars(n)"
   ]
  },
  {
   "cell_type": "code",
   "execution_count": 49,
   "metadata": {},
   "outputs": [],
   "source": [
    "a = np.array([[1,2],[3,4]])"
   ]
  },
  {
   "cell_type": "code",
   "execution_count": 28,
   "metadata": {},
   "outputs": [
    {
     "data": {
      "text/plain": [
       "2"
      ]
     },
     "execution_count": 28,
     "metadata": {},
     "output_type": "execute_result"
    }
   ],
   "source": [
    "# 몇차원인지 알려주는 어트리뷰트\n",
    "\n",
    "a.ndim"
   ]
  },
  {
   "cell_type": "code",
   "execution_count": 29,
   "metadata": {},
   "outputs": [
    {
     "data": {
      "text/plain": [
       "2"
      ]
     },
     "execution_count": 29,
     "metadata": {},
     "output_type": "execute_result"
    }
   ],
   "source": [
    "# len을 쓸 수도 있따. \n",
    "\n",
    "len(a)"
   ]
  },
  {
   "cell_type": "code",
   "execution_count": 30,
   "metadata": {},
   "outputs": [
    {
     "data": {
      "text/plain": [
       "(2, 2)"
      ]
     },
     "execution_count": 30,
     "metadata": {},
     "output_type": "execute_result"
    }
   ],
   "source": [
    "# 행렬의 구조를 알려주는 어트리뷰트\n",
    "# 행렬 계산을 하려면 행과 열의 구조가 맞아야하므로 중요하다.\n",
    "\n",
    "a.shape"
   ]
  },
  {
   "cell_type": "code",
   "execution_count": 31,
   "metadata": {},
   "outputs": [
    {
     "data": {
      "text/plain": [
       "  C_CONTIGUOUS : True\n",
       "  F_CONTIGUOUS : False\n",
       "  OWNDATA : True\n",
       "  WRITEABLE : True\n",
       "  ALIGNED : True\n",
       "  WRITEBACKIFCOPY : False\n",
       "  UPDATEIFCOPY : False"
      ]
     },
     "execution_count": 31,
     "metadata": {},
     "output_type": "execute_result"
    }
   ],
   "source": [
    "# C 방식으로 저장했는지, 포트란 방식으로 저장했는지 알 수 있다.\n",
    "# C 방식은 1,2,3,4로 저장하고, 포트란은 1,3,2,4로 저장한다.\n",
    "# C는 가로, 포트란은 세로.\n",
    "\n",
    "a.flags"
   ]
  },
  {
   "cell_type": "code",
   "execution_count": 32,
   "metadata": {},
   "outputs": [
    {
     "data": {
      "text/plain": [
       "4"
      ]
     },
     "execution_count": 32,
     "metadata": {},
     "output_type": "execute_result"
    }
   ],
   "source": [
    "# 원소의 갯수를 알려줌.\n",
    "# 1,2,3,4 니까 4개\n",
    "\n",
    "a.size"
   ]
  },
  {
   "cell_type": "code",
   "execution_count": 33,
   "metadata": {},
   "outputs": [
    {
     "data": {
      "text/plain": [
       "4"
      ]
     },
     "execution_count": 33,
     "metadata": {},
     "output_type": "execute_result"
    }
   ],
   "source": [
    "# 각각의 원소가 몇 비트인가? 알려줌.\n",
    "# 얘는 4비트네.\n",
    "\n",
    "a.itemsize"
   ]
  },
  {
   "cell_type": "code",
   "execution_count": 34,
   "metadata": {},
   "outputs": [
    {
     "data": {
      "text/plain": [
       "dtype('int32')"
      ]
     },
     "execution_count": 34,
     "metadata": {},
     "output_type": "execute_result"
    }
   ],
   "source": [
    "# data type을 알려줌.\n",
    "# itemsize와 밀접한 연관이 있음.\n",
    "# itemsize*8=dtype\n",
    "\n",
    "a.dtype"
   ]
  },
  {
   "cell_type": "code",
   "execution_count": 50,
   "metadata": {},
   "outputs": [
    {
     "data": {
      "text/plain": [
       "(8, 4)"
      ]
     },
     "execution_count": 50,
     "metadata": {},
     "output_type": "execute_result"
    }
   ],
   "source": [
    "# numpy는 행렬을 1렬로 저장한다.  ->  속도가 빠른 이유.\n",
    "#                              ->  파이썬 list는 ㅣinked list로서 원소의 메모리 주소만 일고 있으며, 필요할때 원소 주소를 찾아서 가져옴.\n",
    "#                              ->  넘파이는 메모리 주소가 필요없이 메모리 상에서 연속적으로 (1줄로) 저장한다. \n",
    "#                              ->  호모지니어스이므로 타입 체크도 안함(=빠름)\n",
    "# 보여줄때는 행렬로 보여준다.\n",
    "# 1렬로 저장된 값을 일정한 길이로 잘라서 행렬로 보여준다.\n",
    "# strides는 (일정한 길이, 비트크기) \n",
    "# (8, 4) ->  8비트마다 1개의 행으로 잘라서 보여주고, 1개 원소는 4비트이다.\n",
    "#        -> 8비트마다 1개 행(row to row), 4비트마다 1개 열(column to column)\n",
    "\n",
    "# 포트란 방식일 경우 strides의 순서가 반대일 것임(4,8)\n",
    "\n",
    "# ppt의 그림으로 봐야 이해가 잘 됨.\n",
    "\n",
    "a.strides"
   ]
  },
  {
   "cell_type": "code",
   "execution_count": 39,
   "metadata": {},
   "outputs": [
    {
     "data": {
      "text/plain": [
       "[1, 2, 3, 4, 2, 3, 4, 5]"
      ]
     },
     "execution_count": 39,
     "metadata": {},
     "output_type": "execute_result"
    }
   ],
   "source": [
    "# 파이썬에서는 리스트끼리 + 연산하면 그대로 이어붙여줬다.\n",
    "\n",
    "x = [1,2,3,4]\n",
    "y = [2,3,4,5]\n",
    "x + y"
   ]
  },
  {
   "cell_type": "code",
   "execution_count": 40,
   "metadata": {},
   "outputs": [
    {
     "data": {
      "text/plain": [
       "array([3, 5, 7, 9])"
      ]
     },
     "execution_count": 40,
     "metadata": {},
     "output_type": "execute_result"
    }
   ],
   "source": [
    "# numpy에서는 행렬처럼 각각의 행과 열을 더해준다.\n",
    "\n",
    "a = np.array([1,2,3,4])\n",
    "b = np.array([2,3,4,5])\n",
    "a + b"
   ]
  },
  {
   "cell_type": "code",
   "execution_count": 42,
   "metadata": {},
   "outputs": [
    {
     "data": {
      "text/plain": [
       "[3, 5, 7, 9]"
      ]
     },
     "execution_count": 42,
     "metadata": {},
     "output_type": "execute_result"
    }
   ],
   "source": [
    "# 파이썬에서 이렇게 행렬 더하기 연산을 하려면 어렵게 해야한다. 다음같이.\n",
    "# 그래서 numpy가 편하다고 하는 것이다!\n",
    "\n",
    "[x+y for x,y in zip(x,y)]"
   ]
  },
  {
   "cell_type": "code",
   "execution_count": 43,
   "metadata": {},
   "outputs": [
    {
     "data": {
      "text/plain": [
       "array([-1, -1, -1, -1])"
      ]
     },
     "execution_count": 43,
     "metadata": {},
     "output_type": "execute_result"
    }
   ],
   "source": [
    "# 행렬 빼기도 할 수 있다.\n",
    "\n",
    "a - b"
   ]
  },
  {
   "cell_type": "code",
   "execution_count": 44,
   "metadata": {},
   "outputs": [
    {
     "data": {
      "text/plain": [
       "array([ 2,  6, 12, 20])"
      ]
     },
     "execution_count": 44,
     "metadata": {},
     "output_type": "execute_result"
    }
   ],
   "source": [
    "# 곱하기는 행렬 곱셈이 아니다.\n",
    "# 같은 위치에 있는 원소끼리 곱해줬다. \n",
    "# element-wise 라고 한다.\n",
    "\n",
    "a * b"
   ]
  },
  {
   "cell_type": "code",
   "execution_count": 46,
   "metadata": {},
   "outputs": [
    {
     "data": {
      "text/plain": [
       "array([[1, 3],\n",
       "       [2, 4]])"
      ]
     },
     "execution_count": 46,
     "metadata": {},
     "output_type": "execute_result"
    }
   ],
   "source": [
    "a = np.array([[1,2],[3,4]])\n",
    "\n",
    "# 행과 열을 반전시켜줌.\n",
    "a.T"
   ]
  },
  {
   "cell_type": "code",
   "execution_count": 52,
   "metadata": {},
   "outputs": [
    {
     "data": {
      "text/plain": [
       "array([[1, 2],\n",
       "       [3, 4]], dtype=int64)"
      ]
     },
     "execution_count": 52,
     "metadata": {},
     "output_type": "execute_result"
    }
   ],
   "source": [
    "# dtype을 정할 수 있다.\n",
    "\n",
    "np.array([[1,2],[3,4]], dtype=\"int64\")"
   ]
  },
  {
   "cell_type": "code",
   "execution_count": 51,
   "metadata": {},
   "outputs": [
    {
     "data": {
      "text/plain": [
       "array([[1, 2],\n",
       "       [3, 4]], dtype=int64)"
      ]
     },
     "execution_count": 51,
     "metadata": {},
     "output_type": "execute_result"
    }
   ],
   "source": [
    "# type code로 짧게 표현할 수도 있다.\n",
    "\n",
    "np.array([[1,2],[3,4]], dtype=\"i8\")"
   ]
  },
  {
   "cell_type": "code",
   "execution_count": 55,
   "metadata": {},
   "outputs": [
    {
     "data": {
      "text/plain": [
       "{'?': numpy.bool_,\n",
       " 0: numpy.bool_,\n",
       " 'byte': numpy.int8,\n",
       " 'b': numpy.int8,\n",
       " 1: numpy.int8,\n",
       " 'ubyte': numpy.uint8,\n",
       " 'B': numpy.uint8,\n",
       " 2: numpy.uint8,\n",
       " 'short': numpy.int16,\n",
       " 'h': numpy.int16,\n",
       " 3: numpy.int16,\n",
       " 'ushort': numpy.uint16,\n",
       " 'H': numpy.uint16,\n",
       " 4: numpy.uint16,\n",
       " 'i': numpy.int32,\n",
       " 5: numpy.int32,\n",
       " 'uint': numpy.uint32,\n",
       " 'I': numpy.uint32,\n",
       " 6: numpy.uint32,\n",
       " 'intp': numpy.int64,\n",
       " 'p': numpy.int64,\n",
       " 9: numpy.int64,\n",
       " 'uintp': numpy.uint64,\n",
       " 'P': numpy.uint64,\n",
       " 10: numpy.uint64,\n",
       " 'long': numpy.int32,\n",
       " 'l': numpy.int32,\n",
       " 7: numpy.int32,\n",
       " 'L': numpy.uint32,\n",
       " 8: numpy.uint32,\n",
       " 'longlong': numpy.int64,\n",
       " 'q': numpy.int64,\n",
       " 'ulonglong': numpy.uint64,\n",
       " 'Q': numpy.uint64,\n",
       " 'half': numpy.float16,\n",
       " 'e': numpy.float16,\n",
       " 23: numpy.float16,\n",
       " 'f': numpy.float32,\n",
       " 11: numpy.float32,\n",
       " 'double': numpy.float64,\n",
       " 'd': numpy.float64,\n",
       " 12: numpy.float64,\n",
       " 'longdouble': numpy.float64,\n",
       " 'g': numpy.float64,\n",
       " 13: numpy.float64,\n",
       " 'cfloat': numpy.complex128,\n",
       " 'F': numpy.complex64,\n",
       " 14: numpy.complex64,\n",
       " 'cdouble': numpy.complex128,\n",
       " 'D': numpy.complex128,\n",
       " 15: numpy.complex128,\n",
       " 'clongdouble': numpy.complex128,\n",
       " 'G': numpy.complex128,\n",
       " 16: numpy.complex128,\n",
       " 'O': numpy.object_,\n",
       " 17: numpy.object_,\n",
       " 'S': numpy.bytes_,\n",
       " 18: numpy.bytes_,\n",
       " 'unicode': numpy.str_,\n",
       " 'U': numpy.str_,\n",
       " 19: numpy.str_,\n",
       " 'void': numpy.void,\n",
       " 'V': numpy.void,\n",
       " 20: numpy.void,\n",
       " 'M': numpy.datetime64,\n",
       " 21: numpy.datetime64,\n",
       " 'm': numpy.timedelta64,\n",
       " 22: numpy.timedelta64,\n",
       " 'bool8': numpy.bool_,\n",
       " 'Bool': numpy.bool_,\n",
       " 'b1': numpy.bool_,\n",
       " 'int64': numpy.int64,\n",
       " 'Int64': numpy.int64,\n",
       " 'i8': numpy.int64,\n",
       " 'uint64': numpy.uint64,\n",
       " 'Uint64': numpy.uint64,\n",
       " 'u8': numpy.uint64,\n",
       " 'float16': numpy.float16,\n",
       " 'Float16': numpy.float16,\n",
       " 'f2': numpy.float16,\n",
       " 'float32': numpy.float32,\n",
       " 'Float32': numpy.float32,\n",
       " 'f4': numpy.float32,\n",
       " 'float64': numpy.float64,\n",
       " 'Float64': numpy.float64,\n",
       " 'f8': numpy.float64,\n",
       " 'complex64': numpy.complex64,\n",
       " 'Complex32': numpy.complex64,\n",
       " 'c8': numpy.complex64,\n",
       " 'complex128': numpy.complex128,\n",
       " 'Complex64': numpy.complex128,\n",
       " 'c16': numpy.complex128,\n",
       " 'object0': numpy.object_,\n",
       " 'Object0': numpy.object_,\n",
       " 'bytes0': numpy.bytes_,\n",
       " 'Bytes0': numpy.bytes_,\n",
       " 'str0': numpy.str_,\n",
       " 'Str0': numpy.str_,\n",
       " 'void0': numpy.void,\n",
       " 'Void0': numpy.void,\n",
       " 'datetime64': numpy.datetime64,\n",
       " 'Datetime64': numpy.datetime64,\n",
       " 'M8': numpy.datetime64,\n",
       " 'timedelta64': numpy.timedelta64,\n",
       " 'Timedelta64': numpy.timedelta64,\n",
       " 'm8': numpy.timedelta64,\n",
       " 'int32': numpy.int32,\n",
       " 'Int32': numpy.int32,\n",
       " 'i4': numpy.int32,\n",
       " 'uint32': numpy.uint32,\n",
       " 'UInt32': numpy.uint32,\n",
       " 'u4': numpy.uint32,\n",
       " 'UInt64': numpy.uint64,\n",
       " 'int16': numpy.int16,\n",
       " 'Int16': numpy.int16,\n",
       " 'i2': numpy.int16,\n",
       " 'uint16': numpy.uint16,\n",
       " 'UInt16': numpy.uint16,\n",
       " 'u2': numpy.uint16,\n",
       " 'int8': numpy.int8,\n",
       " 'Int8': numpy.int8,\n",
       " 'i1': numpy.int8,\n",
       " 'uint8': numpy.uint8,\n",
       " 'UInt8': numpy.uint8,\n",
       " 'u1': numpy.uint8,\n",
       " 'complex_': numpy.complex128,\n",
       " 'int0': numpy.int64,\n",
       " 'uint0': numpy.uint64,\n",
       " 'single': numpy.float32,\n",
       " 'csingle': numpy.complex64,\n",
       " 'singlecomplex': numpy.complex64,\n",
       " 'float_': numpy.float64,\n",
       " 'intc': numpy.int32,\n",
       " 'uintc': numpy.uint32,\n",
       " 'int_': numpy.int32,\n",
       " 'longfloat': numpy.float64,\n",
       " 'clongfloat': numpy.complex128,\n",
       " 'longcomplex': numpy.complex128,\n",
       " 'bool_': numpy.bool_,\n",
       " 'bytes_': numpy.bytes_,\n",
       " 'string_': numpy.bytes_,\n",
       " 'unicode_': numpy.str_,\n",
       " 'object_': numpy.object_,\n",
       " 'str_': numpy.str_,\n",
       " 'int': numpy.int32,\n",
       " 'float': numpy.float64,\n",
       " 'complex': numpy.complex128,\n",
       " 'bool': numpy.bool_,\n",
       " 'object': numpy.object_,\n",
       " 'str': numpy.str_,\n",
       " 'bytes': numpy.bytes_,\n",
       " 'a': numpy.bytes_}"
      ]
     },
     "execution_count": 55,
     "metadata": {},
     "output_type": "execute_result"
    }
   ],
   "source": [
    "# 사용할 수 있는 dtype 종류.\n",
    "# 엄청 많다;;\n",
    "# 하지만 우리는 빅데이터 과정.... 우리가 관심있는 애는 int64, float64뿐이다.\n",
    "\n",
    "np.sctypeDict"
   ]
  },
  {
   "cell_type": "code",
   "execution_count": 53,
   "metadata": {},
   "outputs": [
    {
     "data": {
      "text/plain": [
       "152"
      ]
     },
     "execution_count": 53,
     "metadata": {},
     "output_type": "execute_result"
    }
   ],
   "source": [
    "# 32bit짜리를 설치했는지, 64bit짜리를 설치했는지에 따라서 다르게 나옴.\n",
    "# 32비트로 설치했으면 152개 나오고, 64비트로 설치하면 더 나옴.\n",
    "\n",
    "len(np.sctypeDict)"
   ]
  },
  {
   "cell_type": "code",
   "execution_count": 54,
   "metadata": {},
   "outputs": [
    {
     "name": "stdout",
     "output_type": "stream",
     "text": [
      "mkl_info:\n",
      "    libraries = ['mkl_rt']\n",
      "    library_dirs = ['C:/Users/JINHYO/Anaconda3\\\\Library\\\\lib']\n",
      "    define_macros = [('SCIPY_MKL_H', None), ('HAVE_CBLAS', None)]\n",
      "    include_dirs = ['C:\\\\Program Files (x86)\\\\IntelSWTools\\\\compilers_and_libraries_2019.0.117\\\\windows\\\\mkl', 'C:\\\\Program Files (x86)\\\\IntelSWTools\\\\compilers_and_libraries_2019.0.117\\\\windows\\\\mkl\\\\include', 'C:\\\\Program Files (x86)\\\\IntelSWTools\\\\compilers_and_libraries_2019.0.117\\\\windows\\\\mkl\\\\lib', 'C:/Users/JINHYO/Anaconda3\\\\Library\\\\include']\n",
      "blas_mkl_info:\n",
      "    libraries = ['mkl_rt']\n",
      "    library_dirs = ['C:/Users/JINHYO/Anaconda3\\\\Library\\\\lib']\n",
      "    define_macros = [('SCIPY_MKL_H', None), ('HAVE_CBLAS', None)]\n",
      "    include_dirs = ['C:\\\\Program Files (x86)\\\\IntelSWTools\\\\compilers_and_libraries_2019.0.117\\\\windows\\\\mkl', 'C:\\\\Program Files (x86)\\\\IntelSWTools\\\\compilers_and_libraries_2019.0.117\\\\windows\\\\mkl\\\\include', 'C:\\\\Program Files (x86)\\\\IntelSWTools\\\\compilers_and_libraries_2019.0.117\\\\windows\\\\mkl\\\\lib', 'C:/Users/JINHYO/Anaconda3\\\\Library\\\\include']\n",
      "blas_opt_info:\n",
      "    libraries = ['mkl_rt']\n",
      "    library_dirs = ['C:/Users/JINHYO/Anaconda3\\\\Library\\\\lib']\n",
      "    define_macros = [('SCIPY_MKL_H', None), ('HAVE_CBLAS', None)]\n",
      "    include_dirs = ['C:\\\\Program Files (x86)\\\\IntelSWTools\\\\compilers_and_libraries_2019.0.117\\\\windows\\\\mkl', 'C:\\\\Program Files (x86)\\\\IntelSWTools\\\\compilers_and_libraries_2019.0.117\\\\windows\\\\mkl\\\\include', 'C:\\\\Program Files (x86)\\\\IntelSWTools\\\\compilers_and_libraries_2019.0.117\\\\windows\\\\mkl\\\\lib', 'C:/Users/JINHYO/Anaconda3\\\\Library\\\\include']\n",
      "lapack_mkl_info:\n",
      "    libraries = ['mkl_rt']\n",
      "    library_dirs = ['C:/Users/JINHYO/Anaconda3\\\\Library\\\\lib']\n",
      "    define_macros = [('SCIPY_MKL_H', None), ('HAVE_CBLAS', None)]\n",
      "    include_dirs = ['C:\\\\Program Files (x86)\\\\IntelSWTools\\\\compilers_and_libraries_2019.0.117\\\\windows\\\\mkl', 'C:\\\\Program Files (x86)\\\\IntelSWTools\\\\compilers_and_libraries_2019.0.117\\\\windows\\\\mkl\\\\include', 'C:\\\\Program Files (x86)\\\\IntelSWTools\\\\compilers_and_libraries_2019.0.117\\\\windows\\\\mkl\\\\lib', 'C:/Users/JINHYO/Anaconda3\\\\Library\\\\include']\n",
      "lapack_opt_info:\n",
      "    libraries = ['mkl_rt']\n",
      "    library_dirs = ['C:/Users/JINHYO/Anaconda3\\\\Library\\\\lib']\n",
      "    define_macros = [('SCIPY_MKL_H', None), ('HAVE_CBLAS', None)]\n",
      "    include_dirs = ['C:\\\\Program Files (x86)\\\\IntelSWTools\\\\compilers_and_libraries_2019.0.117\\\\windows\\\\mkl', 'C:\\\\Program Files (x86)\\\\IntelSWTools\\\\compilers_and_libraries_2019.0.117\\\\windows\\\\mkl\\\\include', 'C:\\\\Program Files (x86)\\\\IntelSWTools\\\\compilers_and_libraries_2019.0.117\\\\windows\\\\mkl\\\\lib', 'C:/Users/JINHYO/Anaconda3\\\\Library\\\\include']\n"
     ]
    }
   ],
   "source": [
    "# 내가 뭘 설치했는지 보자.\n",
    "# x86(32비트)를 설치했군.\n",
    "\n",
    "np.show_config()"
   ]
  },
  {
   "cell_type": "code",
   "execution_count": null,
   "metadata": {},
   "outputs": [],
   "source": [
    "# axis\n",
    "\n",
    "# ppt를 봐야할거 같다... 말로 설명 불가...\n",
    "\n",
    "# axis=0  :  행끼리 계산\n",
    "# axis=1  :  열끼리 계산\n",
    "\n",
    "# shpae이 (10,3)일때,  \n",
    "# axis=0으로 더하면  ->  결과는 3개\n",
    "# axis=1으로 더하면  ->  결과는 10개"
   ]
  },
  {
   "cell_type": "markdown",
   "metadata": {},
   "source": [
    "## 만들기"
   ]
  },
  {
   "cell_type": "code",
   "execution_count": 63,
   "metadata": {},
   "outputs": [
    {
     "data": {
      "text/plain": [
       "array([0, 1, 2, 3, 4, 5, 6, 7, 8, 9])"
      ]
     },
     "execution_count": 63,
     "metadata": {},
     "output_type": "execute_result"
    }
   ],
   "source": [
    "# 파이썬의 range같은 녀석\n",
    "\n",
    "a = np.arange(10)\n",
    "a"
   ]
  },
  {
   "cell_type": "code",
   "execution_count": 64,
   "metadata": {},
   "outputs": [
    {
     "data": {
      "text/plain": [
       "array([[0, 1, 2, 3, 4],\n",
       "       [5, 6, 7, 8, 9]])"
      ]
     },
     "execution_count": 64,
     "metadata": {},
     "output_type": "execute_result"
    }
   ],
   "source": [
    "# 모양을 바꿔준다.\n",
    "# mutable의 메서드 결과 3가지 유형 : 자기자신을 바꾸고 none을 반환, return은 있지만 자기자신은 그대로, return도 있고 자기자신도 바뀜\n",
    "# reshape은 자기자신을 바꾸지 않고 return만 있음.\n",
    "# copy 개념\n",
    "\n",
    "a.reshape(2,5)"
   ]
  },
  {
   "cell_type": "code",
   "execution_count": 65,
   "metadata": {},
   "outputs": [
    {
     "data": {
      "text/plain": [
       "array([0, 1, 2, 3, 4, 5, 6, 7, 8, 9])"
      ]
     },
     "execution_count": 65,
     "metadata": {},
     "output_type": "execute_result"
    }
   ],
   "source": [
    "# 자기자신은 안 바뀌었음.\n",
    "\n",
    "a"
   ]
  },
  {
   "cell_type": "code",
   "execution_count": 66,
   "metadata": {},
   "outputs": [],
   "source": [
    "# 바꾼 결과를 저장하려면 재할당해줘야함.\n",
    "\n",
    "a = a.reshape(2,5)"
   ]
  },
  {
   "cell_type": "code",
   "execution_count": 72,
   "metadata": {},
   "outputs": [
    {
     "data": {
      "text/plain": [
       "45"
      ]
     },
     "execution_count": 72,
     "metadata": {},
     "output_type": "execute_result"
    }
   ],
   "source": [
    "# 더하기!\n",
    "# 모든 원소를 더해준다.\n",
    "\n",
    "a.sum()"
   ]
  },
  {
   "cell_type": "code",
   "execution_count": 68,
   "metadata": {},
   "outputs": [],
   "source": [
    "# sum에 axis를 지정할수가 있다.\n",
    "\n",
    "?a.sum"
   ]
  },
  {
   "cell_type": "code",
   "execution_count": 69,
   "metadata": {},
   "outputs": [
    {
     "data": {
      "text/plain": [
       "array([ 5,  7,  9, 11, 13])"
      ]
     },
     "execution_count": 69,
     "metadata": {},
     "output_type": "execute_result"
    }
   ],
   "source": [
    "# axis에 따라서 원소를 더해준다.\n",
    "\n",
    "a.sum(axis=0)"
   ]
  },
  {
   "cell_type": "code",
   "execution_count": 70,
   "metadata": {},
   "outputs": [
    {
     "data": {
      "text/plain": [
       "array([10, 35])"
      ]
     },
     "execution_count": 70,
     "metadata": {},
     "output_type": "execute_result"
    }
   ],
   "source": [
    "a.sum(axis=1)"
   ]
  },
  {
   "cell_type": "code",
   "execution_count": 71,
   "metadata": {},
   "outputs": [
    {
     "data": {
      "text/plain": [
       "array([2.5, 3.5, 4.5, 5.5, 6.5])"
      ]
     },
     "execution_count": 71,
     "metadata": {},
     "output_type": "execute_result"
    }
   ],
   "source": [
    "# 평균(mean)도 axis를 지정할 수 있음.\n",
    "# 시험성적 평균 내기 같은거에 유용함.\n",
    "\n",
    "a.mean(axis=0)"
   ]
  },
  {
   "cell_type": "code",
   "execution_count": 73,
   "metadata": {},
   "outputs": [
    {
     "name": "stdout",
     "output_type": "stream",
     "text": [
      "Wall time: 46 ms\n"
     ]
    },
    {
     "data": {
      "text/plain": [
       "499999500000"
      ]
     },
     "execution_count": 73,
     "metadata": {},
     "output_type": "execute_result"
    }
   ],
   "source": [
    "# 넘파이가 얼마나 빠른가 볼까나?\n",
    "\n",
    "%time sum(range(1000000))"
   ]
  },
  {
   "cell_type": "code",
   "execution_count": 85,
   "metadata": {},
   "outputs": [
    {
     "name": "stdout",
     "output_type": "stream",
     "text": [
      "Wall time: 7 ms\n"
     ]
    },
    {
     "data": {
      "text/plain": [
       "499999500000"
      ]
     },
     "execution_count": 85,
     "metadata": {},
     "output_type": "execute_result"
    }
   ],
   "source": [
    "# 속도가 훨씬 빠르다;; 거의 5배;;\n",
    "\n",
    "%time np.sum(np.arange(1000000, dtype='i8'))"
   ]
  },
  {
   "cell_type": "code",
   "execution_count": 86,
   "metadata": {},
   "outputs": [
    {
     "name": "stdout",
     "output_type": "stream",
     "text": [
      "Wall time: 4 ms\n"
     ]
    },
    {
     "data": {
      "text/plain": [
       "1783293664"
      ]
     },
     "execution_count": 86,
     "metadata": {},
     "output_type": "execute_result"
    }
   ],
   "source": [
    "# 참고\n",
    "# dtype 기본이 int32라고 지금 되어 있어서 결과가 다르게 나옴.\n",
    "\n",
    "%time np.sum(np.arange(1000000))"
   ]
  },
  {
   "cell_type": "code",
   "execution_count": 87,
   "metadata": {},
   "outputs": [
    {
     "data": {
      "text/plain": [
       "array([[0., 0., 0., 0.],\n",
       "       [0., 0., 0., 0.],\n",
       "       [0., 0., 0., 0.]])"
      ]
     },
     "execution_count": 87,
     "metadata": {},
     "output_type": "execute_result"
    }
   ],
   "source": [
    "# 0으로 된 행렬 만들기.\n",
    "# 인자로 shape을 준다.\n",
    "\n",
    "np.zeros((3,4))"
   ]
  },
  {
   "cell_type": "code",
   "execution_count": 89,
   "metadata": {},
   "outputs": [
    {
     "data": {
      "text/plain": [
       "array([[1., 1., 1., 1.],\n",
       "       [1., 1., 1., 1.],\n",
       "       [1., 1., 1., 1.]])"
      ]
     },
     "execution_count": 89,
     "metadata": {},
     "output_type": "execute_result"
    }
   ],
   "source": [
    "# 1로만 된 행렬 만들기.\n",
    "\n",
    "np.ones((3,4))"
   ]
  },
  {
   "cell_type": "code",
   "execution_count": 90,
   "metadata": {},
   "outputs": [
    {
     "data": {
      "text/plain": [
       "array([[3, 3, 3, 3],\n",
       "       [3, 3, 3, 3],\n",
       "       [3, 3, 3, 3]])"
      ]
     },
     "execution_count": 90,
     "metadata": {},
     "output_type": "execute_result"
    }
   ],
   "source": [
    "# 원하는 값으로만 된 행렬 만들기.\n",
    "\n",
    "np.full((3,4), 3)"
   ]
  },
  {
   "cell_type": "code",
   "execution_count": 94,
   "metadata": {},
   "outputs": [
    {
     "data": {
      "text/plain": [
       "array([[1., 1., 1., 1.],\n",
       "       [1., 1., 1., 1.],\n",
       "       [1., 1., 1., 1.]])"
      ]
     },
     "execution_count": 94,
     "metadata": {},
     "output_type": "execute_result"
    }
   ],
   "source": [
    "a = np.ones((3,4))\n",
    "a"
   ]
  },
  {
   "cell_type": "code",
   "execution_count": 95,
   "metadata": {},
   "outputs": [
    {
     "data": {
      "text/plain": [
       "array([[0., 0., 0., 0.],\n",
       "       [0., 0., 0., 0.],\n",
       "       [0., 0., 0., 0.]])"
      ]
     },
     "execution_count": 95,
     "metadata": {},
     "output_type": "execute_result"
    }
   ],
   "source": [
    "# like가 붙으면 인자로 들어오는 행렬과 같은 모양으로 만들어준다.\n",
    "# 행렬 연산할때 모양(shape)이 맞아야 한다.\n",
    "# 그래서 like를 자주 쓰게 된다.\n",
    "\n",
    "np.zeros_like(a)"
   ]
  },
  {
   "cell_type": "code",
   "execution_count": 97,
   "metadata": {},
   "outputs": [
    {
     "data": {
      "text/plain": [
       "array([[1., 0., 0.],\n",
       "       [0., 1., 0.],\n",
       "       [0., 0., 1.]])"
      ]
     },
     "execution_count": 97,
     "metadata": {},
     "output_type": "execute_result"
    }
   ],
   "source": [
    "# 단위 행렬\n",
    "# 옵션이 더 많다.\n",
    "\n",
    "np.eye(3)"
   ]
  },
  {
   "cell_type": "code",
   "execution_count": 98,
   "metadata": {},
   "outputs": [
    {
     "data": {
      "text/plain": [
       "array([[1., 0., 0.],\n",
       "       [0., 1., 0.],\n",
       "       [0., 0., 1.]])"
      ]
     },
     "execution_count": 98,
     "metadata": {},
     "output_type": "execute_result"
    }
   ],
   "source": [
    "# 단위행렬\n",
    "# 옵션이 eye보다 적어서 빨리 만들 수 있다.\n",
    "\n",
    "np.identity(3)"
   ]
  },
  {
   "cell_type": "code",
   "execution_count": 99,
   "metadata": {},
   "outputs": [
    {
     "data": {
      "text/plain": [
       "array([[1., 0., 0.],\n",
       "       [1., 1., 0.],\n",
       "       [1., 1., 1.]])"
      ]
     },
     "execution_count": 99,
     "metadata": {},
     "output_type": "execute_result"
    }
   ],
   "source": [
    "# 하삼각 행렬 만들기. (lower triangle)\n",
    "# 아무튼... 이렇게 이름 붙은 행렬은 다 만들 수 있다.\n",
    "\n",
    "np.tri(3)"
   ]
  },
  {
   "cell_type": "code",
   "execution_count": 101,
   "metadata": {},
   "outputs": [
    {
     "data": {
      "text/plain": [
       "array([[3, 3],\n",
       "       [0, 3]])"
      ]
     },
     "execution_count": 101,
     "metadata": {},
     "output_type": "execute_result"
    }
   ],
   "source": [
    "# 상삼각 행렬\n",
    "\n",
    "np.triu((3,3))"
   ]
  },
  {
   "cell_type": "code",
   "execution_count": 104,
   "metadata": {},
   "outputs": [
    {
     "data": {
      "text/plain": [
       "array([[1., 1., 1.],\n",
       "       [0., 1., 1.],\n",
       "       [0., 0., 1.]])"
      ]
     },
     "execution_count": 104,
     "metadata": {},
     "output_type": "execute_result"
    }
   ],
   "source": [
    "# 전치행렬\n",
    "\n",
    "b = np.tri(3)\n",
    "np.transpose(b)"
   ]
  },
  {
   "cell_type": "code",
   "execution_count": 108,
   "metadata": {},
   "outputs": [
    {
     "data": {
      "text/plain": [
       "array([ 0.        ,  2.02040816,  4.04081633,  6.06122449,  8.08163265,\n",
       "       10.10204082, 12.12244898, 14.14285714, 16.16326531, 18.18367347,\n",
       "       20.20408163, 22.2244898 , 24.24489796, 26.26530612, 28.28571429,\n",
       "       30.30612245, 32.32653061, 34.34693878, 36.36734694, 38.3877551 ,\n",
       "       40.40816327, 42.42857143, 44.44897959, 46.46938776, 48.48979592,\n",
       "       50.51020408, 52.53061224, 54.55102041, 56.57142857, 58.59183673,\n",
       "       60.6122449 , 62.63265306, 64.65306122, 66.67346939, 68.69387755,\n",
       "       70.71428571, 72.73469388, 74.75510204, 76.7755102 , 78.79591837,\n",
       "       80.81632653, 82.83673469, 84.85714286, 86.87755102, 88.89795918,\n",
       "       90.91836735, 92.93877551, 94.95918367, 96.97959184, 99.        ])"
      ]
     },
     "execution_count": 108,
     "metadata": {},
     "output_type": "execute_result"
    }
   ],
   "source": [
    "# n등분 해준다.\n",
    "# default는 50이다.\n",
    "\n",
    "np.linspace(0, 99)"
   ]
  },
  {
   "cell_type": "code",
   "execution_count": 106,
   "metadata": {},
   "outputs": [
    {
     "data": {
      "text/plain": [
       "array([1.00000000e+001, 1.04811313e+003, 1.09854114e+005, 1.15139540e+007,\n",
       "       1.20679264e+009, 1.26485522e+011, 1.32571137e+013, 1.38949549e+015,\n",
       "       1.45634848e+017, 1.52641797e+019, 1.59985872e+021, 1.67683294e+023,\n",
       "       1.75751062e+025, 1.84206997e+027, 1.93069773e+029, 2.02358965e+031,\n",
       "       2.12095089e+033, 2.22299648e+035, 2.32995181e+037, 2.44205309e+039,\n",
       "       2.55954792e+041, 2.68269580e+043, 2.81176870e+045, 2.94705170e+047,\n",
       "       3.08884360e+049, 3.23745754e+051, 3.39322177e+053, 3.55648031e+055,\n",
       "       3.72759372e+057, 3.90693994e+059, 4.09491506e+061, 4.29193426e+063,\n",
       "       4.49843267e+065, 4.71486636e+067, 4.94171336e+069, 5.17947468e+071,\n",
       "       5.42867544e+073, 5.68986603e+075, 5.96362332e+077, 6.25055193e+079,\n",
       "       6.55128557e+081, 6.86648845e+083, 7.19685673e+085, 7.54312006e+087,\n",
       "       7.90604321e+089, 8.28642773e+091, 8.68511374e+093, 9.10298178e+095,\n",
       "       9.54095476e+097, 1.00000000e+100])"
      ]
     },
     "execution_count": 106,
     "metadata": {},
     "output_type": "execute_result"
    }
   ],
   "source": [
    "# 로그를 n등분 해준다.\n",
    "# default는 50이다.\n",
    "\n",
    "np.logspace(1,100)"
   ]
  },
  {
   "cell_type": "code",
   "execution_count": 109,
   "metadata": {},
   "outputs": [
    {
     "data": {
      "text/plain": [
       "array([[0.00000000e+000, 0.00000000e+000],\n",
       "       [0.00000000e+000, 0.00000000e+000],\n",
       "       [0.00000000e+000, 2.21341409e-321],\n",
       "       [1.42410974e-306, 1.02916796e-311]])"
      ]
     },
     "execution_count": 109,
     "metadata": {},
     "output_type": "execute_result"
    }
   ],
   "source": [
    "# 아무 값이나 채워넣음.\n",
    "\n",
    "np.empty((4,2))"
   ]
  },
  {
   "cell_type": "markdown",
   "metadata": {},
   "source": [
    "## 뽑아내기"
   ]
  },
  {
   "cell_type": "code",
   "execution_count": 140,
   "metadata": {},
   "outputs": [
    {
     "data": {
      "text/plain": [
       "array([[0, 1, 2, 3, 4],\n",
       "       [5, 6, 7, 8, 9]])"
      ]
     },
     "execution_count": 140,
     "metadata": {},
     "output_type": "execute_result"
    }
   ],
   "source": [
    "a = np.arange(10).reshape((2,5))\n",
    "a"
   ]
  },
  {
   "cell_type": "code",
   "execution_count": 141,
   "metadata": {},
   "outputs": [
    {
     "data": {
      "text/plain": [
       "array([5, 6, 7, 8, 9])"
      ]
     },
     "execution_count": 141,
     "metadata": {},
     "output_type": "execute_result"
    }
   ],
   "source": [
    "# 인덱싱과 슬라이싱 가능함.\n",
    "# 행을 뽑아옴.\n",
    "\n",
    "a[1]"
   ]
  },
  {
   "cell_type": "code",
   "execution_count": 142,
   "metadata": {},
   "outputs": [
    {
     "data": {
      "text/plain": [
       "8"
      ]
     },
     "execution_count": 142,
     "metadata": {},
     "output_type": "execute_result"
    }
   ],
   "source": [
    "# 행에서 슬라이싱 한번 더 할 수 있다. -> 열 뽑음\n",
    "\n",
    "a[1][3]"
   ]
  },
  {
   "cell_type": "code",
   "execution_count": 143,
   "metadata": {},
   "outputs": [
    {
     "data": {
      "text/plain": [
       "8"
      ]
     },
     "execution_count": 143,
     "metadata": {},
     "output_type": "execute_result"
    }
   ],
   "source": [
    "# 컴마로 한번에 인덱싱할 수 있다.\n",
    "# 파이썬에는 없고 넘파이에만 있는 기능\n",
    "# 첫번째는 행, 두번째는 열\n",
    "\n",
    "a[1,3]"
   ]
  },
  {
   "cell_type": "code",
   "execution_count": 144,
   "metadata": {},
   "outputs": [
    {
     "data": {
      "text/plain": [
       "array([3, 8])"
      ]
     },
     "execution_count": 144,
     "metadata": {},
     "output_type": "execute_result"
    }
   ],
   "source": [
    "# :는 처음부터 끝까지라는 뜻.\n",
    "# 모든 행에서, 3번째 열만 가져오라는 뜻.\n",
    "\n",
    "a[:,3]"
   ]
  },
  {
   "cell_type": "code",
   "execution_count": 146,
   "metadata": {},
   "outputs": [
    {
     "data": {
      "text/plain": [
       "array([[2, 3],\n",
       "       [7, 8]])"
      ]
     },
     "execution_count": 146,
     "metadata": {},
     "output_type": "execute_result"
    }
   ],
   "source": [
    "# (시작):(끝)  ->  파이썬 list의 슬라이싱과 같음.\n",
    "\n",
    "a[:, 2:4]"
   ]
  },
  {
   "cell_type": "code",
   "execution_count": 145,
   "metadata": {},
   "outputs": [
    {
     "data": {
      "text/plain": [
       "array([[0, 2, 4],\n",
       "       [5, 7, 9]])"
      ]
     },
     "execution_count": 145,
     "metadata": {},
     "output_type": "execute_result"
    }
   ],
   "source": [
    "# :을 하나 더 쓰면  ->  ~마다.\n",
    "# :2  ->  2개마다 가져옴.\n",
    "\n",
    "a[:,::2]"
   ]
  },
  {
   "cell_type": "code",
   "execution_count": 119,
   "metadata": {},
   "outputs": [
    {
     "data": {
      "text/plain": [
       "array([[[ 0,  1,  2],\n",
       "        [ 3,  4,  5],\n",
       "        [ 6,  7,  8]],\n",
       "\n",
       "       [[ 9, 10, 11],\n",
       "        [12, 13, 14],\n",
       "        [15, 16, 17]],\n",
       "\n",
       "       [[18, 19, 20],\n",
       "        [21, 22, 23],\n",
       "        [24, 25, 26]]])"
      ]
     },
     "execution_count": 119,
     "metadata": {},
     "output_type": "execute_result"
    }
   ],
   "source": [
    "a = np.arange(27).reshape(3,3,3)\n",
    "a"
   ]
  },
  {
   "cell_type": "code",
   "execution_count": 122,
   "metadata": {},
   "outputs": [
    {
     "data": {
      "text/plain": [
       "array([[ 6,  7,  8],\n",
       "       [15, 16, 17],\n",
       "       [24, 25, 26]])"
      ]
     },
     "execution_count": 122,
     "metadata": {},
     "output_type": "execute_result"
    }
   ],
   "source": [
    "a[:,2]"
   ]
  },
  {
   "cell_type": "code",
   "execution_count": 123,
   "metadata": {},
   "outputs": [
    {
     "data": {
      "text/plain": [
       "array([[ 9, 10, 11],\n",
       "       [12, 13, 14],\n",
       "       [15, 16, 17]])"
      ]
     },
     "execution_count": 123,
     "metadata": {},
     "output_type": "execute_result"
    }
   ],
   "source": [
    "# ...은 전체라는 뜻으로 쓸 수 있다.\n",
    "\n",
    "a[1,...]"
   ]
  },
  {
   "cell_type": "code",
   "execution_count": 125,
   "metadata": {},
   "outputs": [
    {
     "data": {
      "text/plain": [
       "array([[ 1,  4,  7],\n",
       "       [10, 13, 16]])"
      ]
     },
     "execution_count": 125,
     "metadata": {},
     "output_type": "execute_result"
    }
   ],
   "source": [
    "a[:2, :, 1]"
   ]
  },
  {
   "cell_type": "code",
   "execution_count": 147,
   "metadata": {},
   "outputs": [
    {
     "data": {
      "text/plain": [
       "array([0, 1, 2, 3, 4, 5, 6, 7, 8, 9])"
      ]
     },
     "execution_count": 147,
     "metadata": {},
     "output_type": "execute_result"
    }
   ],
   "source": [
    "a = np.arange(10)\n",
    "a"
   ]
  },
  {
   "cell_type": "code",
   "execution_count": 131,
   "metadata": {},
   "outputs": [
    {
     "data": {
      "text/plain": [
       "array([4, 5, 6, 7, 8, 9])"
      ]
     },
     "execution_count": 131,
     "metadata": {},
     "output_type": "execute_result"
    }
   ],
   "source": [
    "# 조건을 이용할 수도 있다.\n",
    "\n",
    "a[a>3]"
   ]
  },
  {
   "cell_type": "code",
   "execution_count": 139,
   "metadata": {},
   "outputs": [
    {
     "data": {
      "text/plain": [
       "array([0, 1, 2, 8, 9])"
      ]
     },
     "execution_count": 139,
     "metadata": {},
     "output_type": "execute_result"
    }
   ],
   "source": [
    "# 조건을 여러개 쓸 수도 있다. \n",
    "\n",
    "a[(a<3) | (a>7)]"
   ]
  },
  {
   "cell_type": "code",
   "execution_count": 136,
   "metadata": {},
   "outputs": [
    {
     "data": {
      "text/plain": [
       "array([0, 1, 4, 5, 6, 7, 8, 9])"
      ]
     },
     "execution_count": 136,
     "metadata": {},
     "output_type": "execute_result"
    }
   ],
   "source": [
    "# 마스킹 기법을 쓸 수도 있따.\n",
    "# True에 해당하는 값만 나오고, False는 안나온다.\n",
    "\n",
    "a[[True,True,False,False,True,True,True,True,True,True,]]"
   ]
  },
  {
   "cell_type": "code",
   "execution_count": 154,
   "metadata": {},
   "outputs": [
    {
     "data": {
      "text/plain": [
       "array([[0, 1],\n",
       "       [2, 3],\n",
       "       [4, 5],\n",
       "       [6, 7],\n",
       "       [8, 9]])"
      ]
     },
     "execution_count": 154,
     "metadata": {},
     "output_type": "execute_result"
    }
   ],
   "source": [
    "a = np.arange(10).reshape(5,2)\n",
    "a"
   ]
  },
  {
   "cell_type": "code",
   "execution_count": 155,
   "metadata": {},
   "outputs": [
    {
     "data": {
      "text/plain": [
       "array([[2, 3],\n",
       "       [6, 7]])"
      ]
     },
     "execution_count": 155,
     "metadata": {},
     "output_type": "execute_result"
    }
   ],
   "source": [
    "# fancy indexing\n",
    "# 행 뽑는 방법.\n",
    "# 해당하는 행만 뽑아온다.\n",
    "# 리스트로 전달한다.\n",
    "# 리스트 안에 있는 숫자들은 다 행을 의미한다. (열x)\n",
    "\n",
    "a[[1,3]]  # ->  두번째행과 네번째행 가져오기"
   ]
  },
  {
   "cell_type": "code",
   "execution_count": 160,
   "metadata": {},
   "outputs": [
    {
     "data": {
      "text/plain": [
       "array([[ 0,  1,  2,  3,  4],\n",
       "       [ 5,  6,  7,  8,  9],\n",
       "       [10, 11, 12, 13, 14],\n",
       "       [15, 16, 17, 18, 19],\n",
       "       [20, 21, 22, 23, 24]])"
      ]
     },
     "execution_count": 160,
     "metadata": {},
     "output_type": "execute_result"
    }
   ],
   "source": [
    "a = np.arange(25).reshape(5,5)\n",
    "a"
   ]
  },
  {
   "cell_type": "code",
   "execution_count": 164,
   "metadata": {},
   "outputs": [
    {
     "data": {
      "text/plain": [
       "array([ 7, 13, 24])"
      ]
     },
     "execution_count": 164,
     "metadata": {},
     "output_type": "execute_result"
    }
   ],
   "source": [
    "# 행과 열을 지정해서 가져오기.\n",
    "# zip처럼 행에서 값1개, 열에서 값1개 가져와서 인덱싱해온다.\n",
    "# (1,2), (2,3), (4,4) 를 가져오는 것과 같다.\n",
    "\n",
    "a[[1,2,4], [2,3,4]]"
   ]
  },
  {
   "cell_type": "markdown",
   "metadata": {},
   "source": [
    "---"
   ]
  },
  {
   "cell_type": "markdown",
   "metadata": {},
   "source": [
    "# 연산하기"
   ]
  },
  {
   "cell_type": "code",
   "execution_count": 167,
   "metadata": {},
   "outputs": [],
   "source": [
    "b = np.nditer(a)"
   ]
  },
  {
   "cell_type": "code",
   "execution_count": 171,
   "metadata": {},
   "outputs": [
    {
     "data": {
      "text/plain": [
       "array(3)"
      ]
     },
     "execution_count": 171,
     "metadata": {},
     "output_type": "execute_result"
    }
   ],
   "source": [
    "# iter는 next가 짝궁이지!\n",
    "# for 쓰면 vectorize 개념에 부합하지 않는것이다.\n",
    "\n",
    "next(b)"
   ]
  },
  {
   "cell_type": "code",
   "execution_count": 172,
   "metadata": {},
   "outputs": [],
   "source": [
    "x = np.arange(5)\n",
    "y = np.arange(5)"
   ]
  },
  {
   "cell_type": "code",
   "execution_count": 173,
   "metadata": {},
   "outputs": [
    {
     "data": {
      "text/plain": [
       "array([ 0,  3,  6,  9, 12])"
      ]
     },
     "execution_count": 173,
     "metadata": {},
     "output_type": "execute_result"
    }
   ],
   "source": [
    "# element-wise로 계산함.\n",
    "# 행렬곱이 아님.\n",
    "\n",
    "x*3"
   ]
  },
  {
   "cell_type": "code",
   "execution_count": 174,
   "metadata": {},
   "outputs": [
    {
     "data": {
      "text/plain": [
       "array([3, 4, 5, 6, 7])"
      ]
     },
     "execution_count": 174,
     "metadata": {},
     "output_type": "execute_result"
    }
   ],
   "source": [
    "# broadcasting\n",
    "# numpy가 이놈 덕분에 편하다.\n",
    "# 행렬 연산인데 shape이 안 맞아도 계산해준다.\n",
    "# 자동으로 크기를 맞춰준다.\n",
    "\n",
    "x + 3"
   ]
  },
  {
   "cell_type": "markdown",
   "metadata": {},
   "source": [
    "# ufunc(Universal Function)\n",
    "- python에 있는 함수는 대부분 있다고 생각하면 된다.\n",
    "- 속도가 python보다 빠르다\n",
    "- ndarray 안에 있는 데이터 원소 별로 연산을 수행하는 함수\n",
    "- vectoriaze 시킨 것과 안 시킨거 다 적용시킬 수 있는 함수 (보편적'universal'으로 적용가능함)"
   ]
  },
  {
   "cell_type": "code",
   "execution_count": 175,
   "metadata": {},
   "outputs": [
    {
     "data": {
      "text/plain": [
       "1"
      ]
     },
     "execution_count": 175,
     "metadata": {},
     "output_type": "execute_result"
    }
   ],
   "source": [
    "# 숫자 관련해서 많은 함수가 있다.\n",
    "\n",
    "np.abs(-1)"
   ]
  },
  {
   "cell_type": "code",
   "execution_count": 176,
   "metadata": {},
   "outputs": [
    {
     "data": {
      "text/plain": [
       "array([3., 1., 2., 3., 1.])"
      ]
     },
     "execution_count": 176,
     "metadata": {},
     "output_type": "execute_result"
    }
   ],
   "source": [
    "np.ceil([2.9, 1, 2, 3, 0.3])"
   ]
  },
  {
   "cell_type": "code",
   "execution_count": 178,
   "metadata": {},
   "outputs": [],
   "source": [
    "?np.ceil"
   ]
  },
  {
   "cell_type": "markdown",
   "metadata": {},
   "source": [
    "# etc"
   ]
  },
  {
   "cell_type": "code",
   "execution_count": 177,
   "metadata": {},
   "outputs": [
    {
     "name": "stdout",
     "output_type": "stream",
     "text": [
      "ceil(x, /, out=None, *, where=True, casting='same_kind', order='K', dtype=None, subok=True[, signature, extobj])\n",
      "\n",
      "Return the ceiling of the input, element-wise.\n",
      "\n",
      "The ceil of the scalar `x` is the smallest integer `i`, such that\n",
      "`i >= x`.  It is often denoted as :math:`\\lceil x \\rceil`.\n",
      "\n",
      "Parameters\n",
      "----------\n",
      "x : array_like\n",
      "    Input data.\n",
      "out : ndarray, None, or tuple of ndarray and None, optional\n",
      "    A location into which the result is stored. If provided, it must have\n",
      "    a shape that the inputs broadcast to. If not provided or `None`,\n",
      "    a freshly-allocated array is returned. A tuple (possible only as a\n",
      "    keyword argument) must have length equal to the number of outputs.\n",
      "where : array_like, optional\n",
      "    Values of True indicate to calculate the ufunc at that position, values\n",
      "    of False indicate to leave the value in the output alone.\n",
      "**kwargs\n",
      "    For other keyword-only arguments, see the\n",
      "    :ref:`ufunc docs <ufuncs.kwargs>`.\n",
      "\n",
      "Returns\n",
      "-------\n",
      "y : ndarray or scalar\n",
      "    The ceiling of each element in `x`, with `float` dtype.\n",
      "    This is a scalar if `x` is a scalar.\n",
      "\n",
      "See Also\n",
      "--------\n",
      "floor, trunc, rint\n",
      "\n",
      "Examples\n",
      "--------\n",
      ">>> a = np.array([-1.7, -1.5, -0.2, 0.2, 1.5, 1.7, 2.0])\n",
      ">>> np.ceil(a)\n",
      "array([-1., -1., -0.,  1.,  2.,  2.,  2.])\n"
     ]
    }
   ],
   "source": [
    "# numpy 자체에서 함수를 설명해주는 기능이 있다.\n",
    "# shift + tab 해서 나오는 정보가 빈약하다 싶으면 numpy의 설명을 보면 자세하다.\n",
    "\n",
    "np.info(np.ceil)"
   ]
  },
  {
   "cell_type": "code",
   "execution_count": 183,
   "metadata": {},
   "outputs": [
    {
     "data": {
      "text/plain": [
       "iinfo(min=-9223372036854775808, max=9223372036854775807, dtype=int64)"
      ]
     },
     "execution_count": 183,
     "metadata": {},
     "output_type": "execute_result"
    }
   ],
   "source": [
    "# iinfo는 numpy의 숫자형에 대한 설명\n",
    "\n",
    "np.iinfo(np.int64)"
   ]
  },
  {
   "cell_type": "code",
   "execution_count": 184,
   "metadata": {},
   "outputs": [],
   "source": [
    "b = np.arange(5,10)"
   ]
  },
  {
   "cell_type": "code",
   "execution_count": 185,
   "metadata": {},
   "outputs": [
    {
     "data": {
      "text/plain": [
       "(array([1, 2, 3, 4], dtype=int64),)"
      ]
     },
     "execution_count": 185,
     "metadata": {},
     "output_type": "execute_result"
    }
   ],
   "source": [
    "# db할때 where는 조건이었다.\n",
    "# where는 조건에 해당하는 index를 반환한다.\n",
    "\n",
    "np.where(b>5)"
   ]
  },
  {
   "cell_type": "code",
   "execution_count": 186,
   "metadata": {},
   "outputs": [
    {
     "data": {
      "text/plain": [
       "array([6, 7, 8, 9])"
      ]
     },
     "execution_count": 186,
     "metadata": {},
     "output_type": "execute_result"
    }
   ],
   "source": [
    "# where해서 index를 알아낸 다음에, fancy indexing에 활용할 수 있다.\n",
    "\n",
    "b[np.where(b>5)]"
   ]
  },
  {
   "cell_type": "code",
   "execution_count": 187,
   "metadata": {},
   "outputs": [
    {
     "data": {
      "text/plain": [
       "0"
      ]
     },
     "execution_count": 187,
     "metadata": {},
     "output_type": "execute_result"
    }
   ],
   "source": [
    "# 최소값 찾기-1\n",
    "# 얘는 함수\n",
    "\n",
    "np.argmin(b)"
   ]
  },
  {
   "cell_type": "code",
   "execution_count": 188,
   "metadata": {},
   "outputs": [
    {
     "data": {
      "text/plain": [
       "0"
      ]
     },
     "execution_count": 188,
     "metadata": {},
     "output_type": "execute_result"
    }
   ],
   "source": [
    "# 최소값 찾기-2\n",
    "# 얘는 메소드\n",
    "\n",
    "b.argmin()"
   ]
  },
  {
   "cell_type": "code",
   "execution_count": 189,
   "metadata": {},
   "outputs": [],
   "source": [
    "from numpy import pi"
   ]
  },
  {
   "cell_type": "code",
   "execution_count": 190,
   "metadata": {},
   "outputs": [],
   "source": [
    "from math import pi as mpi"
   ]
  },
  {
   "cell_type": "code",
   "execution_count": 191,
   "metadata": {},
   "outputs": [
    {
     "data": {
      "text/plain": [
       "3.141592653589793"
      ]
     },
     "execution_count": 191,
     "metadata": {},
     "output_type": "execute_result"
    }
   ],
   "source": [
    "pi"
   ]
  },
  {
   "cell_type": "code",
   "execution_count": 192,
   "metadata": {},
   "outputs": [
    {
     "data": {
      "text/plain": [
       "3.141592653589793"
      ]
     },
     "execution_count": 192,
     "metadata": {},
     "output_type": "execute_result"
    }
   ],
   "source": [
    "mpi"
   ]
  },
  {
   "cell_type": "code",
   "execution_count": 193,
   "metadata": {},
   "outputs": [
    {
     "data": {
      "text/plain": [
       "True"
      ]
     },
     "execution_count": 193,
     "metadata": {},
     "output_type": "execute_result"
    }
   ],
   "source": [
    "# numpy의 pi와 python math의 pi와 똑같다.\n",
    "# 똑같음에도 불구하고 만들어 놓은 이유는 -> import했을때 memory 관리에 효율적임.\n",
    "\n",
    "pi == mpi"
   ]
  },
  {
   "cell_type": "code",
   "execution_count": 194,
   "metadata": {},
   "outputs": [
    {
     "data": {
      "text/plain": [
       "ellipsis"
      ]
     },
     "execution_count": 194,
     "metadata": {},
     "output_type": "execute_result"
    }
   ],
   "source": [
    "# ...은 슬라이싱할때 전체라는 뜻으로 썼었다.\n",
    "# 얘는 원래 파이썬에 있는 애다.\n",
    "# 그리고 행렬이 너무 클때 중간에 생략하는 뜻으로 ...이 사용되기도 한다.\n",
    "\n",
    "type(...)"
   ]
  },
  {
   "cell_type": "code",
   "execution_count": 195,
   "metadata": {},
   "outputs": [
    {
     "data": {
      "text/plain": [
       "['__class__',\n",
       " '__delattr__',\n",
       " '__dir__',\n",
       " '__doc__',\n",
       " '__eq__',\n",
       " '__format__',\n",
       " '__ge__',\n",
       " '__getattribute__',\n",
       " '__gt__',\n",
       " '__hash__',\n",
       " '__init__',\n",
       " '__init_subclass__',\n",
       " '__le__',\n",
       " '__lt__',\n",
       " '__ne__',\n",
       " '__new__',\n",
       " '__reduce__',\n",
       " '__reduce_ex__',\n",
       " '__repr__',\n",
       " '__setattr__',\n",
       " '__sizeof__',\n",
       " '__str__',\n",
       " '__subclasshook__']"
      ]
     },
     "execution_count": 195,
     "metadata": {},
     "output_type": "execute_result"
    }
   ],
   "source": [
    "# 얘를 초기화도 할 수 있고 별거 다 할 수 있음\n",
    "# 근데 ...은 안쓰는게 좋다. 실수 많이 함.\n",
    "\n",
    "dir(...)"
   ]
  },
  {
   "cell_type": "code",
   "execution_count": 196,
   "metadata": {},
   "outputs": [
    {
     "data": {
      "text/plain": [
       "False"
      ]
     },
     "execution_count": 196,
     "metadata": {},
     "output_type": "execute_result"
    }
   ],
   "source": [
    "# 아까 pi는 파이썬의 pi와 같았는데,\n",
    "# numpy의 nan은 파이썬의 nan과 다르다.\n",
    "# 얘는 외워야함...\n",
    "\n",
    "np.nan == float('nan')"
   ]
  },
  {
   "cell_type": "code",
   "execution_count": 198,
   "metadata": {},
   "outputs": [
    {
     "data": {
      "text/plain": [
       "nan"
      ]
     },
     "execution_count": 198,
     "metadata": {},
     "output_type": "execute_result"
    }
   ],
   "source": [
    "t = float('nan')\n",
    "t"
   ]
  },
  {
   "cell_type": "code",
   "execution_count": 200,
   "metadata": {},
   "outputs": [
    {
     "ename": "ValueError",
     "evalue": "threshold must be numeric and non-NAN, try sys.maxsize for untruncated representation",
     "output_type": "error",
     "traceback": [
      "\u001b[1;31m---------------------------------------------------------------------------\u001b[0m",
      "\u001b[1;31mValueError\u001b[0m                                Traceback (most recent call last)",
      "\u001b[1;32m<ipython-input-200-99d2dafa7c0f>\u001b[0m in \u001b[0;36m<module>\u001b[1;34m\u001b[0m\n\u001b[1;32m----> 1\u001b[1;33m \u001b[0mnp\u001b[0m\u001b[1;33m.\u001b[0m\u001b[0mset_printoptions\u001b[0m\u001b[1;33m(\u001b[0m\u001b[0mthreshold\u001b[0m\u001b[1;33m=\u001b[0m\u001b[0mnp\u001b[0m\u001b[1;33m.\u001b[0m\u001b[0mnan\u001b[0m\u001b[1;33m)\u001b[0m\u001b[1;33m\u001b[0m\u001b[1;33m\u001b[0m\u001b[0m\n\u001b[0m",
      "\u001b[1;32m~\\Anaconda3\\lib\\site-packages\\numpy\\core\\arrayprint.py\u001b[0m in \u001b[0;36mset_printoptions\u001b[1;34m(precision, threshold, edgeitems, linewidth, suppress, nanstr, infstr, formatter, sign, floatmode, **kwarg)\u001b[0m\n\u001b[0;32m    244\u001b[0m     opt = _make_options_dict(precision, threshold, edgeitems, linewidth,\n\u001b[0;32m    245\u001b[0m                              \u001b[0msuppress\u001b[0m\u001b[1;33m,\u001b[0m \u001b[0mnanstr\u001b[0m\u001b[1;33m,\u001b[0m \u001b[0minfstr\u001b[0m\u001b[1;33m,\u001b[0m \u001b[0msign\u001b[0m\u001b[1;33m,\u001b[0m \u001b[0mformatter\u001b[0m\u001b[1;33m,\u001b[0m\u001b[1;33m\u001b[0m\u001b[1;33m\u001b[0m\u001b[0m\n\u001b[1;32m--> 246\u001b[1;33m                              floatmode, legacy)\n\u001b[0m\u001b[0;32m    247\u001b[0m     \u001b[1;31m# formatter is always reset\u001b[0m\u001b[1;33m\u001b[0m\u001b[1;33m\u001b[0m\u001b[1;33m\u001b[0m\u001b[0m\n\u001b[0;32m    248\u001b[0m     \u001b[0mopt\u001b[0m\u001b[1;33m[\u001b[0m\u001b[1;34m'formatter'\u001b[0m\u001b[1;33m]\u001b[0m \u001b[1;33m=\u001b[0m \u001b[0mformatter\u001b[0m\u001b[1;33m\u001b[0m\u001b[1;33m\u001b[0m\u001b[0m\n",
      "\u001b[1;32m~\\Anaconda3\\lib\\site-packages\\numpy\\core\\arrayprint.py\u001b[0m in \u001b[0;36m_make_options_dict\u001b[1;34m(precision, threshold, edgeitems, linewidth, suppress, nanstr, infstr, sign, formatter, floatmode, legacy)\u001b[0m\n\u001b[0;32m     91\u001b[0m         \u001b[1;31m# forbid the bad threshold arg suggested by stack overflow, gh-12351\u001b[0m\u001b[1;33m\u001b[0m\u001b[1;33m\u001b[0m\u001b[1;33m\u001b[0m\u001b[0m\n\u001b[0;32m     92\u001b[0m         \u001b[1;32mif\u001b[0m \u001b[1;32mnot\u001b[0m \u001b[0misinstance\u001b[0m\u001b[1;33m(\u001b[0m\u001b[0mthreshold\u001b[0m\u001b[1;33m,\u001b[0m \u001b[0mnumbers\u001b[0m\u001b[1;33m.\u001b[0m\u001b[0mNumber\u001b[0m\u001b[1;33m)\u001b[0m \u001b[1;32mor\u001b[0m \u001b[0mnp\u001b[0m\u001b[1;33m.\u001b[0m\u001b[0misnan\u001b[0m\u001b[1;33m(\u001b[0m\u001b[0mthreshold\u001b[0m\u001b[1;33m)\u001b[0m\u001b[1;33m:\u001b[0m\u001b[1;33m\u001b[0m\u001b[1;33m\u001b[0m\u001b[0m\n\u001b[1;32m---> 93\u001b[1;33m             raise ValueError(\"threshold must be numeric and non-NAN, try \"\n\u001b[0m\u001b[0;32m     94\u001b[0m                              \"sys.maxsize for untruncated representation\")\n\u001b[0;32m     95\u001b[0m     \u001b[1;32mreturn\u001b[0m \u001b[0moptions\u001b[0m\u001b[1;33m\u001b[0m\u001b[1;33m\u001b[0m\u001b[0m\n",
      "\u001b[1;31mValueError\u001b[0m: threshold must be numeric and non-NAN, try sys.maxsize for untruncated representation"
     ]
    }
   ],
   "source": [
    "np.set_printoptions(threshold=np.nan)"
   ]
  },
  {
   "cell_type": "code",
   "execution_count": 199,
   "metadata": {},
   "outputs": [
    {
     "ename": "ValueError",
     "evalue": "threshold must be numeric and non-NAN, try sys.maxsize for untruncated representation",
     "output_type": "error",
     "traceback": [
      "\u001b[1;31m---------------------------------------------------------------------------\u001b[0m",
      "\u001b[1;31mValueError\u001b[0m                                Traceback (most recent call last)",
      "\u001b[1;32m<ipython-input-199-d834ef4d3708>\u001b[0m in \u001b[0;36m<module>\u001b[1;34m\u001b[0m\n\u001b[1;32m----> 1\u001b[1;33m \u001b[0mnp\u001b[0m\u001b[1;33m.\u001b[0m\u001b[0mset_printoptions\u001b[0m\u001b[1;33m(\u001b[0m\u001b[0mthreshold\u001b[0m\u001b[1;33m=\u001b[0m\u001b[0mt\u001b[0m\u001b[1;33m)\u001b[0m\u001b[1;33m\u001b[0m\u001b[1;33m\u001b[0m\u001b[0m\n\u001b[0m",
      "\u001b[1;32m~\\Anaconda3\\lib\\site-packages\\numpy\\core\\arrayprint.py\u001b[0m in \u001b[0;36mset_printoptions\u001b[1;34m(precision, threshold, edgeitems, linewidth, suppress, nanstr, infstr, formatter, sign, floatmode, **kwarg)\u001b[0m\n\u001b[0;32m    244\u001b[0m     opt = _make_options_dict(precision, threshold, edgeitems, linewidth,\n\u001b[0;32m    245\u001b[0m                              \u001b[0msuppress\u001b[0m\u001b[1;33m,\u001b[0m \u001b[0mnanstr\u001b[0m\u001b[1;33m,\u001b[0m \u001b[0minfstr\u001b[0m\u001b[1;33m,\u001b[0m \u001b[0msign\u001b[0m\u001b[1;33m,\u001b[0m \u001b[0mformatter\u001b[0m\u001b[1;33m,\u001b[0m\u001b[1;33m\u001b[0m\u001b[1;33m\u001b[0m\u001b[0m\n\u001b[1;32m--> 246\u001b[1;33m                              floatmode, legacy)\n\u001b[0m\u001b[0;32m    247\u001b[0m     \u001b[1;31m# formatter is always reset\u001b[0m\u001b[1;33m\u001b[0m\u001b[1;33m\u001b[0m\u001b[1;33m\u001b[0m\u001b[0m\n\u001b[0;32m    248\u001b[0m     \u001b[0mopt\u001b[0m\u001b[1;33m[\u001b[0m\u001b[1;34m'formatter'\u001b[0m\u001b[1;33m]\u001b[0m \u001b[1;33m=\u001b[0m \u001b[0mformatter\u001b[0m\u001b[1;33m\u001b[0m\u001b[1;33m\u001b[0m\u001b[0m\n",
      "\u001b[1;32m~\\Anaconda3\\lib\\site-packages\\numpy\\core\\arrayprint.py\u001b[0m in \u001b[0;36m_make_options_dict\u001b[1;34m(precision, threshold, edgeitems, linewidth, suppress, nanstr, infstr, sign, formatter, floatmode, legacy)\u001b[0m\n\u001b[0;32m     91\u001b[0m         \u001b[1;31m# forbid the bad threshold arg suggested by stack overflow, gh-12351\u001b[0m\u001b[1;33m\u001b[0m\u001b[1;33m\u001b[0m\u001b[1;33m\u001b[0m\u001b[0m\n\u001b[0;32m     92\u001b[0m         \u001b[1;32mif\u001b[0m \u001b[1;32mnot\u001b[0m \u001b[0misinstance\u001b[0m\u001b[1;33m(\u001b[0m\u001b[0mthreshold\u001b[0m\u001b[1;33m,\u001b[0m \u001b[0mnumbers\u001b[0m\u001b[1;33m.\u001b[0m\u001b[0mNumber\u001b[0m\u001b[1;33m)\u001b[0m \u001b[1;32mor\u001b[0m \u001b[0mnp\u001b[0m\u001b[1;33m.\u001b[0m\u001b[0misnan\u001b[0m\u001b[1;33m(\u001b[0m\u001b[0mthreshold\u001b[0m\u001b[1;33m)\u001b[0m\u001b[1;33m:\u001b[0m\u001b[1;33m\u001b[0m\u001b[1;33m\u001b[0m\u001b[0m\n\u001b[1;32m---> 93\u001b[1;33m             raise ValueError(\"threshold must be numeric and non-NAN, try \"\n\u001b[0m\u001b[0;32m     94\u001b[0m                              \"sys.maxsize for untruncated representation\")\n\u001b[0;32m     95\u001b[0m     \u001b[1;32mreturn\u001b[0m \u001b[0moptions\u001b[0m\u001b[1;33m\u001b[0m\u001b[1;33m\u001b[0m\u001b[0m\n",
      "\u001b[1;31mValueError\u001b[0m: threshold must be numeric and non-NAN, try sys.maxsize for untruncated representation"
     ]
    }
   ],
   "source": [
    "np.set_printoptions(threshold=t)"
   ]
  },
  {
   "cell_type": "code",
   "execution_count": 201,
   "metadata": {},
   "outputs": [
    {
     "data": {
      "text/plain": [
       "True"
      ]
     },
     "execution_count": 201,
     "metadata": {},
     "output_type": "execute_result"
    }
   ],
   "source": [
    "# 상수인 애를 이렇게 만들어놓음\n",
    "# 이건 어쩔 수 없이 외워야한다...\n",
    "\n",
    "np.newaxis is None"
   ]
  },
  {
   "cell_type": "code",
   "execution_count": 202,
   "metadata": {},
   "outputs": [],
   "source": [
    "a = np.array([[1,2], [3,4]])\n",
    "b = np.array([[2,1], [4,3]])"
   ]
  },
  {
   "cell_type": "code",
   "execution_count": 205,
   "metadata": {},
   "outputs": [
    {
     "data": {
      "text/plain": [
       "array([[ 2,  2],\n",
       "       [12, 12]])"
      ]
     },
     "execution_count": 205,
     "metadata": {},
     "output_type": "execute_result"
    }
   ],
   "source": [
    "# element-wise\n",
    "a * b"
   ]
  },
  {
   "cell_type": "code",
   "execution_count": 203,
   "metadata": {},
   "outputs": [
    {
     "data": {
      "text/plain": [
       "array([[10,  7],\n",
       "       [22, 15]])"
      ]
     },
     "execution_count": 203,
     "metadata": {},
     "output_type": "execute_result"
    }
   ],
   "source": [
    "# 이 연산자는 numpy에서만 사용한다.\n",
    "# numpy측에서 연산자가 부족하다고 파이썬 측에 요구해서 3.6부터 생김.\n",
    "# numpy가 얼마나 파워가 쎈지 알 수 있는 사례.\n",
    "\n",
    "# 행렬 곱\n",
    "\n",
    "a @ b"
   ]
  },
  {
   "cell_type": "code",
   "execution_count": 204,
   "metadata": {},
   "outputs": [
    {
     "data": {
      "text/plain": [
       "array([[10,  7],\n",
       "       [22, 15]])"
      ]
     },
     "execution_count": 204,
     "metadata": {},
     "output_type": "execute_result"
    }
   ],
   "source": [
    "# 또 다른 행렬 곱 계산.\n",
    "\n",
    "a.dot(b)"
   ]
  },
  {
   "cell_type": "code",
   "execution_count": 206,
   "metadata": {},
   "outputs": [],
   "source": [
    "a = np.arange(10).reshape(2,5)"
   ]
  },
  {
   "cell_type": "code",
   "execution_count": 207,
   "metadata": {},
   "outputs": [],
   "source": [
    "b = a"
   ]
  },
  {
   "cell_type": "code",
   "execution_count": 208,
   "metadata": {},
   "outputs": [],
   "source": [
    "a[0][0] = 100"
   ]
  },
  {
   "cell_type": "code",
   "execution_count": 209,
   "metadata": {},
   "outputs": [
    {
     "data": {
      "text/plain": [
       "array([[100,   1,   2,   3,   4],\n",
       "       [  5,   6,   7,   8,   9]])"
      ]
     },
     "execution_count": 209,
     "metadata": {},
     "output_type": "execute_result"
    }
   ],
   "source": [
    "a"
   ]
  },
  {
   "cell_type": "code",
   "execution_count": 210,
   "metadata": {},
   "outputs": [
    {
     "data": {
      "text/plain": [
       "array([[100,   1,   2,   3,   4],\n",
       "       [  5,   6,   7,   8,   9]])"
      ]
     },
     "execution_count": 210,
     "metadata": {},
     "output_type": "execute_result"
    }
   ],
   "source": [
    "# 얘는 카피가 아니라 그냥 할당했기 때문에 바뀌는게 맞다.\n",
    "\n",
    "b"
   ]
  },
  {
   "cell_type": "code",
   "execution_count": 211,
   "metadata": {},
   "outputs": [],
   "source": [
    "c = b.copy()"
   ]
  },
  {
   "cell_type": "code",
   "execution_count": 212,
   "metadata": {},
   "outputs": [],
   "source": [
    "b[0][0] = -100"
   ]
  },
  {
   "cell_type": "code",
   "execution_count": 213,
   "metadata": {},
   "outputs": [
    {
     "data": {
      "text/plain": [
       "array([[-100,    1,    2,    3,    4],\n",
       "       [   5,    6,    7,    8,    9]])"
      ]
     },
     "execution_count": 213,
     "metadata": {},
     "output_type": "execute_result"
    }
   ],
   "source": [
    "b"
   ]
  },
  {
   "cell_type": "code",
   "execution_count": 214,
   "metadata": {},
   "outputs": [
    {
     "data": {
      "text/plain": [
       "array([[100,   1,   2,   3,   4],\n",
       "       [  5,   6,   7,   8,   9]])"
      ]
     },
     "execution_count": 214,
     "metadata": {},
     "output_type": "execute_result"
    }
   ],
   "source": [
    "# numpy의 copy는 기본적으로 deepcopy이다.\n",
    "# python에서 copy하면 기본적으로 swallow copy인 것과 다르다.\n",
    "\n",
    "c"
   ]
  },
  {
   "cell_type": "code",
   "execution_count": 215,
   "metadata": {},
   "outputs": [],
   "source": [
    "# numpy에서는 swallow copy가 view()이다.\n",
    "\n",
    "d = c.view()"
   ]
  },
  {
   "cell_type": "code",
   "execution_count": 217,
   "metadata": {},
   "outputs": [],
   "source": [
    "d[0][0] = 50"
   ]
  },
  {
   "cell_type": "code",
   "execution_count": 218,
   "metadata": {},
   "outputs": [
    {
     "data": {
      "text/plain": [
       "array([[50,  1,  2,  3,  4],\n",
       "       [ 5,  6,  7,  8,  9]])"
      ]
     },
     "execution_count": 218,
     "metadata": {},
     "output_type": "execute_result"
    }
   ],
   "source": [
    "d"
   ]
  },
  {
   "cell_type": "code",
   "execution_count": 219,
   "metadata": {},
   "outputs": [
    {
     "data": {
      "text/plain": [
       "array([[50,  1,  2,  3,  4],\n",
       "       [ 5,  6,  7,  8,  9]])"
      ]
     },
     "execution_count": 219,
     "metadata": {},
     "output_type": "execute_result"
    }
   ],
   "source": [
    "# swallow copy이므로 변한다.\n",
    "\n",
    "c"
   ]
  },
  {
   "cell_type": "markdown",
   "metadata": {},
   "source": [
    "##### 공식 문서 quick start 보고 복습\n",
    "- https://docs.scipy.org/doc/numpy/user/quickstart.html\n",
    "- 스스로 학습하기"
   ]
  },
  {
   "cell_type": "markdown",
   "metadata": {},
   "source": [
    "---"
   ]
  },
  {
   "cell_type": "markdown",
   "metadata": {},
   "source": [
    "# scipy\n",
    "- 과학에서 많이 사용하는 기능(함수)을 미리 만들어놓은 패키지"
   ]
  },
  {
   "cell_type": "code",
   "execution_count": 179,
   "metadata": {},
   "outputs": [],
   "source": [
    "from scipy.special import factorial"
   ]
  },
  {
   "cell_type": "code",
   "execution_count": 180,
   "metadata": {},
   "outputs": [
    {
     "data": {
      "text/plain": [
       "array([  6.,  24., 120.])"
      ]
     },
     "execution_count": 180,
     "metadata": {},
     "output_type": "execute_result"
    }
   ],
   "source": [
    "factorial([3,4,5])"
   ]
  },
  {
   "cell_type": "code",
   "execution_count": 181,
   "metadata": {},
   "outputs": [
    {
     "name": "stdout",
     "output_type": "stream",
     "text": [
      " factorial(n, exact=False)\n",
      "\n",
      "The factorial of a number or array of numbers.\n",
      "\n",
      "The factorial of non-negative integer `n` is the product of all\n",
      "positive integers less than or equal to `n`::\n",
      "\n",
      "    n! = n * (n - 1) * (n - 2) * ... * 1\n",
      "\n",
      "Parameters\n",
      "----------\n",
      "n : int or array_like of ints\n",
      "    Input values.  If ``n < 0``, the return value is 0.\n",
      "exact : bool, optional\n",
      "    If True, calculate the answer exactly using long integer arithmetic.\n",
      "    If False, result is approximated in floating point rapidly using the\n",
      "    `gamma` function.\n",
      "    Default is False.\n",
      "\n",
      "Returns\n",
      "-------\n",
      "nf : float or int or ndarray\n",
      "    Factorial of `n`, as integer or float depending on `exact`.\n",
      "\n",
      "Notes\n",
      "-----\n",
      "For arrays with ``exact=True``, the factorial is computed only once, for\n",
      "the largest input, with each other result computed in the process.\n",
      "The output dtype is increased to ``int64`` or ``object`` if necessary.\n",
      "\n",
      "With ``exact=False`` the factorial is approximated using the gamma\n",
      "function:\n",
      "\n",
      ".. math:: n! = \\Gamma(n+1)\n",
      "\n",
      "Examples\n",
      "--------\n",
      ">>> from scipy.special import factorial\n",
      ">>> arr = np.array([3, 4, 5])\n",
      ">>> factorial(arr, exact=False)\n",
      "array([   6.,   24.,  120.])\n",
      ">>> factorial(arr, exact=True)\n",
      "array([  6,  24, 120])\n",
      ">>> factorial(5, exact=True)\n",
      "120L\n"
     ]
    }
   ],
   "source": [
    "# scipy도 numpy를 기반으로 만들었기 때문에, np.info에서도 설명을 볼 수 있다.\n",
    "\n",
    "np.info(factorial)"
   ]
  },
  {
   "cell_type": "markdown",
   "metadata": {},
   "source": [
    "# 과제\n",
    "- quickstart 안의 링크의 크로울링해서 정리해오기...\n",
    "- 자기가 공부할 수 있게 정리하는 목적..?인척? ㅋ"
   ]
  },
  {
   "cell_type": "code",
   "execution_count": 231,
   "metadata": {},
   "outputs": [],
   "source": [
    "import sqlite3\n",
    "import requests\n",
    "from bs4 import BeautifulSoup"
   ]
  },
  {
   "cell_type": "code",
   "execution_count": 242,
   "metadata": {},
   "outputs": [],
   "source": [
    "url = \"https://docs.scipy.org/doc/numpy/user/quickstart.html\"\n",
    "headers= {\"User-Agent\": \"Mozilla/5.0 (Windows NT 10.0; Win64; x64) AppleWebKit/537.36 (KHTML, like Gecko) Chrome/75.0.3770.142 Safari/537.36\"}\n",
    "resp = requests.request('get', url, headers=headers)\n",
    "dom = BeautifulSoup(resp.text, 'lxml')"
   ]
  },
  {
   "cell_type": "code",
   "execution_count": 243,
   "metadata": {},
   "outputs": [
    {
     "data": {
      "text/plain": [
       "[<a class=\"reference internal\" href=\"../reference/generated/numpy.array.html#numpy.array\" title=\"numpy.array\"><code class=\"xref py py-obj docutils literal notranslate\"><span class=\"pre\">array</span></code></a>,\n",
       " <a class=\"reference internal\" href=\"../reference/generated/numpy.zeros.html#numpy.zeros\" title=\"numpy.zeros\"><code class=\"xref py py-obj docutils literal notranslate\"><span class=\"pre\">zeros</span></code></a>,\n",
       " <a class=\"reference internal\" href=\"../reference/generated/numpy.zeros_like.html#numpy.zeros_like\" title=\"numpy.zeros_like\"><code class=\"xref py py-obj docutils literal notranslate\"><span class=\"pre\">zeros_like</span></code></a>,\n",
       " <a class=\"reference internal\" href=\"../reference/generated/numpy.ones.html#numpy.ones\" title=\"numpy.ones\"><code class=\"xref py py-obj docutils literal notranslate\"><span class=\"pre\">ones</span></code></a>,\n",
       " <a class=\"reference internal\" href=\"../reference/generated/numpy.ones_like.html#numpy.ones_like\" title=\"numpy.ones_like\"><code class=\"xref py py-obj docutils literal notranslate\"><span class=\"pre\">ones_like</span></code></a>,\n",
       " <a class=\"reference internal\" href=\"../reference/generated/numpy.empty.html#numpy.empty\" title=\"numpy.empty\"><code class=\"xref py py-obj docutils literal notranslate\"><span class=\"pre\">empty</span></code></a>,\n",
       " <a class=\"reference internal\" href=\"../reference/generated/numpy.empty_like.html#numpy.empty_like\" title=\"numpy.empty_like\"><code class=\"xref py py-obj docutils literal notranslate\"><span class=\"pre\">empty_like</span></code></a>,\n",
       " <a class=\"reference internal\" href=\"../reference/generated/numpy.arange.html#numpy.arange\" title=\"numpy.arange\"><code class=\"xref py py-obj docutils literal notranslate\"><span class=\"pre\">arange</span></code></a>,\n",
       " <a class=\"reference internal\" href=\"../reference/generated/numpy.linspace.html#numpy.linspace\" title=\"numpy.linspace\"><code class=\"xref py py-obj docutils literal notranslate\"><span class=\"pre\">linspace</span></code></a>,\n",
       " <a class=\"reference internal\" href=\"../reference/generated/numpy.random.rand.html#numpy.random.rand\" title=\"numpy.random.rand\"><code class=\"xref py py-obj docutils literal notranslate\"><span class=\"pre\">numpy.random.rand</span></code></a>,\n",
       " <a class=\"reference internal\" href=\"../reference/generated/numpy.random.randn.html#numpy.random.randn\" title=\"numpy.random.randn\"><code class=\"xref py py-obj docutils literal notranslate\"><span class=\"pre\">numpy.random.randn</span></code></a>,\n",
       " <a class=\"reference internal\" href=\"../reference/generated/numpy.fromfunction.html#numpy.fromfunction\" title=\"numpy.fromfunction\"><code class=\"xref py py-obj docutils literal notranslate\"><span class=\"pre\">fromfunction</span></code></a>,\n",
       " <a class=\"reference internal\" href=\"../reference/generated/numpy.fromfile.html#numpy.fromfile\" title=\"numpy.fromfile\"><code class=\"xref py py-obj docutils literal notranslate\"><span class=\"pre\">fromfile</span></code></a>,\n",
       " <a class=\"reference internal\" href=\"#quickstart-shape-manipulation\"><span class=\"std std-ref\">below</span></a>,\n",
       " <a class=\"reference internal\" href=\"../reference/generated/numpy.all.html#numpy.all\" title=\"numpy.all\"><code class=\"xref py py-obj docutils literal notranslate\"><span class=\"pre\">all</span></code></a>,\n",
       " <a class=\"reference internal\" href=\"../reference/generated/numpy.any.html#numpy.any\" title=\"numpy.any\"><code class=\"xref py py-obj docutils literal notranslate\"><span class=\"pre\">any</span></code></a>,\n",
       " <a class=\"reference internal\" href=\"../reference/generated/numpy.apply_along_axis.html#numpy.apply_along_axis\" title=\"numpy.apply_along_axis\"><code class=\"xref py py-obj docutils literal notranslate\"><span class=\"pre\">apply_along_axis</span></code></a>,\n",
       " <a class=\"reference internal\" href=\"../reference/generated/numpy.argmax.html#numpy.argmax\" title=\"numpy.argmax\"><code class=\"xref py py-obj docutils literal notranslate\"><span class=\"pre\">argmax</span></code></a>,\n",
       " <a class=\"reference internal\" href=\"../reference/generated/numpy.argmin.html#numpy.argmin\" title=\"numpy.argmin\"><code class=\"xref py py-obj docutils literal notranslate\"><span class=\"pre\">argmin</span></code></a>,\n",
       " <a class=\"reference internal\" href=\"../reference/generated/numpy.argsort.html#numpy.argsort\" title=\"numpy.argsort\"><code class=\"xref py py-obj docutils literal notranslate\"><span class=\"pre\">argsort</span></code></a>,\n",
       " <a class=\"reference internal\" href=\"../reference/generated/numpy.average.html#numpy.average\" title=\"numpy.average\"><code class=\"xref py py-obj docutils literal notranslate\"><span class=\"pre\">average</span></code></a>,\n",
       " <a class=\"reference internal\" href=\"../reference/generated/numpy.bincount.html#numpy.bincount\" title=\"numpy.bincount\"><code class=\"xref py py-obj docutils literal notranslate\"><span class=\"pre\">bincount</span></code></a>,\n",
       " <a class=\"reference internal\" href=\"../reference/generated/numpy.ceil.html#numpy.ceil\" title=\"numpy.ceil\"><code class=\"xref py py-obj docutils literal notranslate\"><span class=\"pre\">ceil</span></code></a>,\n",
       " <a class=\"reference internal\" href=\"../reference/generated/numpy.clip.html#numpy.clip\" title=\"numpy.clip\"><code class=\"xref py py-obj docutils literal notranslate\"><span class=\"pre\">clip</span></code></a>,\n",
       " <a class=\"reference internal\" href=\"../reference/generated/numpy.conj.html#numpy.conj\" title=\"numpy.conj\"><code class=\"xref py py-obj docutils literal notranslate\"><span class=\"pre\">conj</span></code></a>,\n",
       " <a class=\"reference internal\" href=\"../reference/generated/numpy.corrcoef.html#numpy.corrcoef\" title=\"numpy.corrcoef\"><code class=\"xref py py-obj docutils literal notranslate\"><span class=\"pre\">corrcoef</span></code></a>,\n",
       " <a class=\"reference internal\" href=\"../reference/generated/numpy.cov.html#numpy.cov\" title=\"numpy.cov\"><code class=\"xref py py-obj docutils literal notranslate\"><span class=\"pre\">cov</span></code></a>,\n",
       " <a class=\"reference internal\" href=\"../reference/generated/numpy.cross.html#numpy.cross\" title=\"numpy.cross\"><code class=\"xref py py-obj docutils literal notranslate\"><span class=\"pre\">cross</span></code></a>,\n",
       " <a class=\"reference internal\" href=\"../reference/generated/numpy.cumprod.html#numpy.cumprod\" title=\"numpy.cumprod\"><code class=\"xref py py-obj docutils literal notranslate\"><span class=\"pre\">cumprod</span></code></a>,\n",
       " <a class=\"reference internal\" href=\"../reference/generated/numpy.cumsum.html#numpy.cumsum\" title=\"numpy.cumsum\"><code class=\"xref py py-obj docutils literal notranslate\"><span class=\"pre\">cumsum</span></code></a>,\n",
       " <a class=\"reference internal\" href=\"../reference/generated/numpy.diff.html#numpy.diff\" title=\"numpy.diff\"><code class=\"xref py py-obj docutils literal notranslate\"><span class=\"pre\">diff</span></code></a>,\n",
       " <a class=\"reference internal\" href=\"../reference/generated/numpy.dot.html#numpy.dot\" title=\"numpy.dot\"><code class=\"xref py py-obj docutils literal notranslate\"><span class=\"pre\">dot</span></code></a>,\n",
       " <a class=\"reference internal\" href=\"../reference/generated/numpy.floor.html#numpy.floor\" title=\"numpy.floor\"><code class=\"xref py py-obj docutils literal notranslate\"><span class=\"pre\">floor</span></code></a>,\n",
       " <a class=\"reference internal\" href=\"../reference/generated/numpy.inner.html#numpy.inner\" title=\"numpy.inner\"><code class=\"xref py py-obj docutils literal notranslate\"><span class=\"pre\">inner</span></code></a>,\n",
       " <a class=\"reference internal\" href=\"../reference/generated/numpy.lexsort.html#numpy.lexsort\" title=\"numpy.lexsort\"><code class=\"xref py py-obj docutils literal notranslate\"><span class=\"pre\">lexsort</span></code></a>,\n",
       " <a class=\"reference internal\" href=\"../reference/generated/numpy.maximum.html#numpy.maximum\" title=\"numpy.maximum\"><code class=\"xref py py-obj docutils literal notranslate\"><span class=\"pre\">maximum</span></code></a>,\n",
       " <a class=\"reference internal\" href=\"../reference/generated/numpy.mean.html#numpy.mean\" title=\"numpy.mean\"><code class=\"xref py py-obj docutils literal notranslate\"><span class=\"pre\">mean</span></code></a>,\n",
       " <a class=\"reference internal\" href=\"../reference/generated/numpy.median.html#numpy.median\" title=\"numpy.median\"><code class=\"xref py py-obj docutils literal notranslate\"><span class=\"pre\">median</span></code></a>,\n",
       " <a class=\"reference internal\" href=\"../reference/generated/numpy.minimum.html#numpy.minimum\" title=\"numpy.minimum\"><code class=\"xref py py-obj docutils literal notranslate\"><span class=\"pre\">minimum</span></code></a>,\n",
       " <a class=\"reference internal\" href=\"../reference/generated/numpy.nonzero.html#numpy.nonzero\" title=\"numpy.nonzero\"><code class=\"xref py py-obj docutils literal notranslate\"><span class=\"pre\">nonzero</span></code></a>,\n",
       " <a class=\"reference internal\" href=\"../reference/generated/numpy.outer.html#numpy.outer\" title=\"numpy.outer\"><code class=\"xref py py-obj docutils literal notranslate\"><span class=\"pre\">outer</span></code></a>,\n",
       " <a class=\"reference internal\" href=\"../reference/generated/numpy.prod.html#numpy.prod\" title=\"numpy.prod\"><code class=\"xref py py-obj docutils literal notranslate\"><span class=\"pre\">prod</span></code></a>,\n",
       " <a class=\"reference internal\" href=\"../reference/generated/numpy.sort.html#numpy.sort\" title=\"numpy.sort\"><code class=\"xref py py-obj docutils literal notranslate\"><span class=\"pre\">sort</span></code></a>,\n",
       " <a class=\"reference internal\" href=\"../reference/generated/numpy.std.html#numpy.std\" title=\"numpy.std\"><code class=\"xref py py-obj docutils literal notranslate\"><span class=\"pre\">std</span></code></a>,\n",
       " <a class=\"reference internal\" href=\"../reference/generated/numpy.sum.html#numpy.sum\" title=\"numpy.sum\"><code class=\"xref py py-obj docutils literal notranslate\"><span class=\"pre\">sum</span></code></a>,\n",
       " <a class=\"reference internal\" href=\"../reference/generated/numpy.trace.html#numpy.trace\" title=\"numpy.trace\"><code class=\"xref py py-obj docutils literal notranslate\"><span class=\"pre\">trace</span></code></a>,\n",
       " <a class=\"reference internal\" href=\"../reference/generated/numpy.transpose.html#numpy.transpose\" title=\"numpy.transpose\"><code class=\"xref py py-obj docutils literal notranslate\"><span class=\"pre\">transpose</span></code></a>,\n",
       " <a class=\"reference internal\" href=\"../reference/generated/numpy.var.html#numpy.var\" title=\"numpy.var\"><code class=\"xref py py-obj docutils literal notranslate\"><span class=\"pre\">var</span></code></a>,\n",
       " <a class=\"reference internal\" href=\"../reference/generated/numpy.vdot.html#numpy.vdot\" title=\"numpy.vdot\"><code class=\"xref py py-obj docutils literal notranslate\"><span class=\"pre\">vdot</span></code></a>,\n",
       " <a class=\"reference internal\" href=\"../reference/generated/numpy.vectorize.html#numpy.vectorize\" title=\"numpy.vectorize\"><code class=\"xref py py-obj docutils literal notranslate\"><span class=\"pre\">vectorize</span></code></a>,\n",
       " <a class=\"reference internal\" href=\"../reference/generated/numpy.where.html#numpy.where\" title=\"numpy.where\"><code class=\"xref py py-obj docutils literal notranslate\"><span class=\"pre\">where</span></code></a>,\n",
       " <a class=\"reference internal\" href=\"basics.indexing.html#basics-indexing\"><span class=\"std std-ref\">Indexing</span></a>,\n",
       " <a class=\"reference internal\" href=\"../reference/arrays.indexing.html#arrays-indexing\"><span class=\"std std-ref\">Indexing</span></a>,\n",
       " <a class=\"reference internal\" href=\"../reference/constants.html#numpy.newaxis\" title=\"numpy.newaxis\"><code class=\"xref py py-obj docutils literal notranslate\"><span class=\"pre\">newaxis</span></code></a>,\n",
       " <a class=\"reference internal\" href=\"../reference/generated/numpy.ndenumerate.html#numpy.ndenumerate\" title=\"numpy.ndenumerate\"><code class=\"xref py py-obj docutils literal notranslate\"><span class=\"pre\">ndenumerate</span></code></a>,\n",
       " <a class=\"reference internal\" href=\"../reference/generated/numpy.indices.html#numpy.indices\" title=\"numpy.indices\"><code class=\"xref py py-obj docutils literal notranslate\"><span class=\"pre\">indices</span></code></a>,\n",
       " <a class=\"reference internal\" href=\"../reference/generated/numpy.reshape.html#numpy.reshape\" title=\"numpy.reshape\"><code class=\"xref py py-obj docutils literal notranslate\"><span class=\"pre\">reshape</span></code></a>,\n",
       " <a class=\"reference internal\" href=\"../reference/generated/numpy.ndarray.resize.html#numpy.ndarray.resize\" title=\"numpy.ndarray.resize\"><code class=\"xref py py-obj docutils literal notranslate\"><span class=\"pre\">ndarray.resize</span></code></a>,\n",
       " <a class=\"reference internal\" href=\"../reference/generated/numpy.ndarray.shape.html#numpy.ndarray.shape\" title=\"numpy.ndarray.shape\"><code class=\"xref py py-obj docutils literal notranslate\"><span class=\"pre\">ndarray.shape</span></code></a>,\n",
       " <a class=\"reference internal\" href=\"../reference/generated/numpy.reshape.html#numpy.reshape\" title=\"numpy.reshape\"><code class=\"xref py py-obj docutils literal notranslate\"><span class=\"pre\">reshape</span></code></a>,\n",
       " <a class=\"reference internal\" href=\"../reference/generated/numpy.resize.html#numpy.resize\" title=\"numpy.resize\"><code class=\"xref py py-obj docutils literal notranslate\"><span class=\"pre\">resize</span></code></a>,\n",
       " <a class=\"reference internal\" href=\"../reference/generated/numpy.ravel.html#numpy.ravel\" title=\"numpy.ravel\"><code class=\"xref py py-obj docutils literal notranslate\"><span class=\"pre\">ravel</span></code></a>,\n",
       " <a class=\"reference internal\" href=\"../reference/generated/numpy.column_stack.html#numpy.column_stack\" title=\"numpy.column_stack\"><code class=\"xref py py-obj docutils literal notranslate\"><span class=\"pre\">column_stack</span></code></a>,\n",
       " <a class=\"reference internal\" href=\"../reference/generated/numpy.hstack.html#numpy.hstack\" title=\"numpy.hstack\"><code class=\"xref py py-obj docutils literal notranslate\"><span class=\"pre\">hstack</span></code></a>,\n",
       " <a class=\"reference internal\" href=\"../reference/generated/numpy.vstack.html#numpy.vstack\" title=\"numpy.vstack\"><code class=\"xref py py-obj docutils literal notranslate\"><span class=\"pre\">vstack</span></code></a>,\n",
       " <a class=\"reference internal\" href=\"../reference/generated/numpy.hstack.html#numpy.hstack\" title=\"numpy.hstack\"><code class=\"xref py py-obj docutils literal notranslate\"><span class=\"pre\">hstack</span></code></a>,\n",
       " <a class=\"reference internal\" href=\"../reference/generated/numpy.vstack.html#numpy.vstack\" title=\"numpy.vstack\"><code class=\"xref py py-obj docutils literal notranslate\"><span class=\"pre\">vstack</span></code></a>,\n",
       " <a class=\"reference internal\" href=\"../reference/generated/numpy.concatenate.html#numpy.concatenate\" title=\"numpy.concatenate\"><code class=\"xref py py-obj docutils literal notranslate\"><span class=\"pre\">concatenate</span></code></a>,\n",
       " <a class=\"reference internal\" href=\"../reference/generated/numpy.r_.html#numpy.r_\" title=\"numpy.r_\"><code class=\"xref py py-obj docutils literal notranslate\"><span class=\"pre\">r_</span></code></a>,\n",
       " <a class=\"reference internal\" href=\"../reference/generated/numpy.c_.html#numpy.c_\" title=\"numpy.c_\"><code class=\"xref py py-obj docutils literal notranslate\"><span class=\"pre\">c_</span></code></a>,\n",
       " <a class=\"reference internal\" href=\"../reference/generated/numpy.r_.html#numpy.r_\" title=\"numpy.r_\"><code class=\"xref py py-obj docutils literal notranslate\"><span class=\"pre\">r_</span></code></a>,\n",
       " <a class=\"reference internal\" href=\"../reference/generated/numpy.c_.html#numpy.c_\" title=\"numpy.c_\"><code class=\"xref py py-obj docutils literal notranslate\"><span class=\"pre\">c_</span></code></a>,\n",
       " <a class=\"reference internal\" href=\"../reference/generated/numpy.vstack.html#numpy.vstack\" title=\"numpy.vstack\"><code class=\"xref py py-obj docutils literal notranslate\"><span class=\"pre\">vstack</span></code></a>,\n",
       " <a class=\"reference internal\" href=\"../reference/generated/numpy.hstack.html#numpy.hstack\" title=\"numpy.hstack\"><code class=\"xref py py-obj docutils literal notranslate\"><span class=\"pre\">hstack</span></code></a>,\n",
       " <a class=\"reference internal\" href=\"../reference/generated/numpy.hstack.html#numpy.hstack\" title=\"numpy.hstack\"><code class=\"xref py py-obj docutils literal notranslate\"><span class=\"pre\">hstack</span></code></a>,\n",
       " <a class=\"reference internal\" href=\"../reference/generated/numpy.vstack.html#numpy.vstack\" title=\"numpy.vstack\"><code class=\"xref py py-obj docutils literal notranslate\"><span class=\"pre\">vstack</span></code></a>,\n",
       " <a class=\"reference internal\" href=\"../reference/generated/numpy.column_stack.html#numpy.column_stack\" title=\"numpy.column_stack\"><code class=\"xref py py-obj docutils literal notranslate\"><span class=\"pre\">column_stack</span></code></a>,\n",
       " <a class=\"reference internal\" href=\"../reference/generated/numpy.concatenate.html#numpy.concatenate\" title=\"numpy.concatenate\"><code class=\"xref py py-obj docutils literal notranslate\"><span class=\"pre\">concatenate</span></code></a>,\n",
       " <a class=\"reference internal\" href=\"../reference/generated/numpy.c_.html#numpy.c_\" title=\"numpy.c_\"><code class=\"xref py py-obj docutils literal notranslate\"><span class=\"pre\">c_</span></code></a>,\n",
       " <a class=\"reference internal\" href=\"../reference/generated/numpy.r_.html#numpy.r_\" title=\"numpy.r_\"><code class=\"xref py py-obj docutils literal notranslate\"><span class=\"pre\">r_</span></code></a>,\n",
       " <a class=\"reference internal\" href=\"../reference/generated/numpy.hsplit.html#numpy.hsplit\" title=\"numpy.hsplit\"><code class=\"xref py py-obj docutils literal notranslate\"><span class=\"pre\">hsplit</span></code></a>,\n",
       " <a class=\"reference internal\" href=\"../reference/generated/numpy.vsplit.html#numpy.vsplit\" title=\"numpy.vsplit\"><code class=\"xref py py-obj docutils literal notranslate\"><span class=\"pre\">vsplit</span></code></a>,\n",
       " <a class=\"reference internal\" href=\"../reference/generated/numpy.array_split.html#numpy.array_split\" title=\"numpy.array_split\"><code class=\"xref py py-obj docutils literal notranslate\"><span class=\"pre\">array_split</span></code></a>,\n",
       " <a class=\"reference internal\" href=\"../reference/routines.html#routines\"><span class=\"std std-ref\">Routines</span></a>,\n",
       " <a class=\"reference internal\" href=\"../reference/generated/numpy.arange.html#numpy.arange\" title=\"numpy.arange\"><code class=\"xref py py-obj docutils literal notranslate\"><span class=\"pre\">arange</span></code></a>,\n",
       " <a class=\"reference internal\" href=\"../reference/generated/numpy.array.html#numpy.array\" title=\"numpy.array\"><code class=\"xref py py-obj docutils literal notranslate\"><span class=\"pre\">array</span></code></a>,\n",
       " <a class=\"reference internal\" href=\"../reference/generated/numpy.copy.html#numpy.copy\" title=\"numpy.copy\"><code class=\"xref py py-obj docutils literal notranslate\"><span class=\"pre\">copy</span></code></a>,\n",
       " <a class=\"reference internal\" href=\"../reference/generated/numpy.empty.html#numpy.empty\" title=\"numpy.empty\"><code class=\"xref py py-obj docutils literal notranslate\"><span class=\"pre\">empty</span></code></a>,\n",
       " <a class=\"reference internal\" href=\"../reference/generated/numpy.empty_like.html#numpy.empty_like\" title=\"numpy.empty_like\"><code class=\"xref py py-obj docutils literal notranslate\"><span class=\"pre\">empty_like</span></code></a>,\n",
       " <a class=\"reference internal\" href=\"../reference/generated/numpy.eye.html#numpy.eye\" title=\"numpy.eye\"><code class=\"xref py py-obj docutils literal notranslate\"><span class=\"pre\">eye</span></code></a>,\n",
       " <a class=\"reference internal\" href=\"../reference/generated/numpy.fromfile.html#numpy.fromfile\" title=\"numpy.fromfile\"><code class=\"xref py py-obj docutils literal notranslate\"><span class=\"pre\">fromfile</span></code></a>,\n",
       " <a class=\"reference internal\" href=\"../reference/generated/numpy.fromfunction.html#numpy.fromfunction\" title=\"numpy.fromfunction\"><code class=\"xref py py-obj docutils literal notranslate\"><span class=\"pre\">fromfunction</span></code></a>,\n",
       " <a class=\"reference internal\" href=\"../reference/generated/numpy.identity.html#numpy.identity\" title=\"numpy.identity\"><code class=\"xref py py-obj docutils literal notranslate\"><span class=\"pre\">identity</span></code></a>,\n",
       " <a class=\"reference internal\" href=\"../reference/generated/numpy.linspace.html#numpy.linspace\" title=\"numpy.linspace\"><code class=\"xref py py-obj docutils literal notranslate\"><span class=\"pre\">linspace</span></code></a>,\n",
       " <a class=\"reference internal\" href=\"../reference/generated/numpy.logspace.html#numpy.logspace\" title=\"numpy.logspace\"><code class=\"xref py py-obj docutils literal notranslate\"><span class=\"pre\">logspace</span></code></a>,\n",
       " <a class=\"reference internal\" href=\"../reference/generated/numpy.mgrid.html#numpy.mgrid\" title=\"numpy.mgrid\"><code class=\"xref py py-obj docutils literal notranslate\"><span class=\"pre\">mgrid</span></code></a>,\n",
       " <a class=\"reference internal\" href=\"../reference/generated/numpy.ogrid.html#numpy.ogrid\" title=\"numpy.ogrid\"><code class=\"xref py py-obj docutils literal notranslate\"><span class=\"pre\">ogrid</span></code></a>,\n",
       " <a class=\"reference internal\" href=\"../reference/generated/numpy.ones.html#numpy.ones\" title=\"numpy.ones\"><code class=\"xref py py-obj docutils literal notranslate\"><span class=\"pre\">ones</span></code></a>,\n",
       " <a class=\"reference internal\" href=\"../reference/generated/numpy.ones_like.html#numpy.ones_like\" title=\"numpy.ones_like\"><code class=\"xref py py-obj docutils literal notranslate\"><span class=\"pre\">ones_like</span></code></a>,\n",
       " <a class=\"reference internal\" href=\"../reference/generated/numpy.zeros.html#numpy.zeros\" title=\"numpy.zeros\"><code class=\"xref py py-obj docutils literal notranslate\"><span class=\"pre\">zeros</span></code></a>,\n",
       " <a class=\"reference internal\" href=\"../reference/generated/numpy.zeros_like.html#numpy.zeros_like\" title=\"numpy.zeros_like\"><code class=\"xref py py-obj docutils literal notranslate\"><span class=\"pre\">zeros_like</span></code></a>,\n",
       " <a class=\"reference internal\" href=\"../reference/generated/numpy.ndarray.astype.html#numpy.ndarray.astype\" title=\"numpy.ndarray.astype\"><code class=\"xref py py-obj docutils literal notranslate\"><span class=\"pre\">ndarray.astype</span></code></a>,\n",
       " <a class=\"reference internal\" href=\"../reference/generated/numpy.atleast_1d.html#numpy.atleast_1d\" title=\"numpy.atleast_1d\"><code class=\"xref py py-obj docutils literal notranslate\"><span class=\"pre\">atleast_1d</span></code></a>,\n",
       " <a class=\"reference internal\" href=\"../reference/generated/numpy.atleast_2d.html#numpy.atleast_2d\" title=\"numpy.atleast_2d\"><code class=\"xref py py-obj docutils literal notranslate\"><span class=\"pre\">atleast_2d</span></code></a>,\n",
       " <a class=\"reference internal\" href=\"../reference/generated/numpy.atleast_3d.html#numpy.atleast_3d\" title=\"numpy.atleast_3d\"><code class=\"xref py py-obj docutils literal notranslate\"><span class=\"pre\">atleast_3d</span></code></a>,\n",
       " <a class=\"reference internal\" href=\"../reference/generated/numpy.mat.html#numpy.mat\" title=\"numpy.mat\"><code class=\"xref py py-obj docutils literal notranslate\"><span class=\"pre\">mat</span></code></a>,\n",
       " <a class=\"reference internal\" href=\"../reference/generated/numpy.array_split.html#numpy.array_split\" title=\"numpy.array_split\"><code class=\"xref py py-obj docutils literal notranslate\"><span class=\"pre\">array_split</span></code></a>,\n",
       " <a class=\"reference internal\" href=\"../reference/generated/numpy.column_stack.html#numpy.column_stack\" title=\"numpy.column_stack\"><code class=\"xref py py-obj docutils literal notranslate\"><span class=\"pre\">column_stack</span></code></a>,\n",
       " <a class=\"reference internal\" href=\"../reference/generated/numpy.concatenate.html#numpy.concatenate\" title=\"numpy.concatenate\"><code class=\"xref py py-obj docutils literal notranslate\"><span class=\"pre\">concatenate</span></code></a>,\n",
       " <a class=\"reference internal\" href=\"../reference/generated/numpy.diagonal.html#numpy.diagonal\" title=\"numpy.diagonal\"><code class=\"xref py py-obj docutils literal notranslate\"><span class=\"pre\">diagonal</span></code></a>,\n",
       " <a class=\"reference internal\" href=\"../reference/generated/numpy.dsplit.html#numpy.dsplit\" title=\"numpy.dsplit\"><code class=\"xref py py-obj docutils literal notranslate\"><span class=\"pre\">dsplit</span></code></a>,\n",
       " <a class=\"reference internal\" href=\"../reference/generated/numpy.dstack.html#numpy.dstack\" title=\"numpy.dstack\"><code class=\"xref py py-obj docutils literal notranslate\"><span class=\"pre\">dstack</span></code></a>,\n",
       " <a class=\"reference internal\" href=\"../reference/generated/numpy.hsplit.html#numpy.hsplit\" title=\"numpy.hsplit\"><code class=\"xref py py-obj docutils literal notranslate\"><span class=\"pre\">hsplit</span></code></a>,\n",
       " <a class=\"reference internal\" href=\"../reference/generated/numpy.hstack.html#numpy.hstack\" title=\"numpy.hstack\"><code class=\"xref py py-obj docutils literal notranslate\"><span class=\"pre\">hstack</span></code></a>,\n",
       " <a class=\"reference internal\" href=\"../reference/generated/numpy.ndarray.item.html#numpy.ndarray.item\" title=\"numpy.ndarray.item\"><code class=\"xref py py-obj docutils literal notranslate\"><span class=\"pre\">ndarray.item</span></code></a>,\n",
       " <a class=\"reference internal\" href=\"../reference/constants.html#numpy.newaxis\" title=\"numpy.newaxis\"><code class=\"xref py py-obj docutils literal notranslate\"><span class=\"pre\">newaxis</span></code></a>,\n",
       " <a class=\"reference internal\" href=\"../reference/generated/numpy.ravel.html#numpy.ravel\" title=\"numpy.ravel\"><code class=\"xref py py-obj docutils literal notranslate\"><span class=\"pre\">ravel</span></code></a>,\n",
       " <a class=\"reference internal\" href=\"../reference/generated/numpy.repeat.html#numpy.repeat\" title=\"numpy.repeat\"><code class=\"xref py py-obj docutils literal notranslate\"><span class=\"pre\">repeat</span></code></a>,\n",
       " <a class=\"reference internal\" href=\"../reference/generated/numpy.reshape.html#numpy.reshape\" title=\"numpy.reshape\"><code class=\"xref py py-obj docutils literal notranslate\"><span class=\"pre\">reshape</span></code></a>,\n",
       " <a class=\"reference internal\" href=\"../reference/generated/numpy.resize.html#numpy.resize\" title=\"numpy.resize\"><code class=\"xref py py-obj docutils literal notranslate\"><span class=\"pre\">resize</span></code></a>,\n",
       " <a class=\"reference internal\" href=\"../reference/generated/numpy.squeeze.html#numpy.squeeze\" title=\"numpy.squeeze\"><code class=\"xref py py-obj docutils literal notranslate\"><span class=\"pre\">squeeze</span></code></a>,\n",
       " <a class=\"reference internal\" href=\"../reference/generated/numpy.swapaxes.html#numpy.swapaxes\" title=\"numpy.swapaxes\"><code class=\"xref py py-obj docutils literal notranslate\"><span class=\"pre\">swapaxes</span></code></a>,\n",
       " <a class=\"reference internal\" href=\"../reference/generated/numpy.take.html#numpy.take\" title=\"numpy.take\"><code class=\"xref py py-obj docutils literal notranslate\"><span class=\"pre\">take</span></code></a>,\n",
       " <a class=\"reference internal\" href=\"../reference/generated/numpy.transpose.html#numpy.transpose\" title=\"numpy.transpose\"><code class=\"xref py py-obj docutils literal notranslate\"><span class=\"pre\">transpose</span></code></a>,\n",
       " <a class=\"reference internal\" href=\"../reference/generated/numpy.vsplit.html#numpy.vsplit\" title=\"numpy.vsplit\"><code class=\"xref py py-obj docutils literal notranslate\"><span class=\"pre\">vsplit</span></code></a>,\n",
       " <a class=\"reference internal\" href=\"../reference/generated/numpy.vstack.html#numpy.vstack\" title=\"numpy.vstack\"><code class=\"xref py py-obj docutils literal notranslate\"><span class=\"pre\">vstack</span></code></a>,\n",
       " <a class=\"reference internal\" href=\"../reference/generated/numpy.all.html#numpy.all\" title=\"numpy.all\"><code class=\"xref py py-obj docutils literal notranslate\"><span class=\"pre\">all</span></code></a>,\n",
       " <a class=\"reference internal\" href=\"../reference/generated/numpy.any.html#numpy.any\" title=\"numpy.any\"><code class=\"xref py py-obj docutils literal notranslate\"><span class=\"pre\">any</span></code></a>,\n",
       " <a class=\"reference internal\" href=\"../reference/generated/numpy.nonzero.html#numpy.nonzero\" title=\"numpy.nonzero\"><code class=\"xref py py-obj docutils literal notranslate\"><span class=\"pre\">nonzero</span></code></a>,\n",
       " <a class=\"reference internal\" href=\"../reference/generated/numpy.where.html#numpy.where\" title=\"numpy.where\"><code class=\"xref py py-obj docutils literal notranslate\"><span class=\"pre\">where</span></code></a>,\n",
       " <a class=\"reference internal\" href=\"../reference/generated/numpy.argmax.html#numpy.argmax\" title=\"numpy.argmax\"><code class=\"xref py py-obj docutils literal notranslate\"><span class=\"pre\">argmax</span></code></a>,\n",
       " <a class=\"reference internal\" href=\"../reference/generated/numpy.argmin.html#numpy.argmin\" title=\"numpy.argmin\"><code class=\"xref py py-obj docutils literal notranslate\"><span class=\"pre\">argmin</span></code></a>,\n",
       " <a class=\"reference internal\" href=\"../reference/generated/numpy.argsort.html#numpy.argsort\" title=\"numpy.argsort\"><code class=\"xref py py-obj docutils literal notranslate\"><span class=\"pre\">argsort</span></code></a>,\n",
       " <a class=\"reference internal\" href=\"../reference/generated/numpy.ptp.html#numpy.ptp\" title=\"numpy.ptp\"><code class=\"xref py py-obj docutils literal notranslate\"><span class=\"pre\">ptp</span></code></a>,\n",
       " <a class=\"reference internal\" href=\"../reference/generated/numpy.searchsorted.html#numpy.searchsorted\" title=\"numpy.searchsorted\"><code class=\"xref py py-obj docutils literal notranslate\"><span class=\"pre\">searchsorted</span></code></a>,\n",
       " <a class=\"reference internal\" href=\"../reference/generated/numpy.sort.html#numpy.sort\" title=\"numpy.sort\"><code class=\"xref py py-obj docutils literal notranslate\"><span class=\"pre\">sort</span></code></a>,\n",
       " <a class=\"reference internal\" href=\"../reference/generated/numpy.choose.html#numpy.choose\" title=\"numpy.choose\"><code class=\"xref py py-obj docutils literal notranslate\"><span class=\"pre\">choose</span></code></a>,\n",
       " <a class=\"reference internal\" href=\"../reference/generated/numpy.compress.html#numpy.compress\" title=\"numpy.compress\"><code class=\"xref py py-obj docutils literal notranslate\"><span class=\"pre\">compress</span></code></a>,\n",
       " <a class=\"reference internal\" href=\"../reference/generated/numpy.cumprod.html#numpy.cumprod\" title=\"numpy.cumprod\"><code class=\"xref py py-obj docutils literal notranslate\"><span class=\"pre\">cumprod</span></code></a>,\n",
       " <a class=\"reference internal\" href=\"../reference/generated/numpy.cumsum.html#numpy.cumsum\" title=\"numpy.cumsum\"><code class=\"xref py py-obj docutils literal notranslate\"><span class=\"pre\">cumsum</span></code></a>,\n",
       " <a class=\"reference internal\" href=\"../reference/generated/numpy.inner.html#numpy.inner\" title=\"numpy.inner\"><code class=\"xref py py-obj docutils literal notranslate\"><span class=\"pre\">inner</span></code></a>,\n",
       " <a class=\"reference internal\" href=\"../reference/generated/numpy.ndarray.fill.html#numpy.ndarray.fill\" title=\"numpy.ndarray.fill\"><code class=\"xref py py-obj docutils literal notranslate\"><span class=\"pre\">ndarray.fill</span></code></a>,\n",
       " <a class=\"reference internal\" href=\"../reference/generated/numpy.imag.html#numpy.imag\" title=\"numpy.imag\"><code class=\"xref py py-obj docutils literal notranslate\"><span class=\"pre\">imag</span></code></a>,\n",
       " <a class=\"reference internal\" href=\"../reference/generated/numpy.prod.html#numpy.prod\" title=\"numpy.prod\"><code class=\"xref py py-obj docutils literal notranslate\"><span class=\"pre\">prod</span></code></a>,\n",
       " <a class=\"reference internal\" href=\"../reference/generated/numpy.put.html#numpy.put\" title=\"numpy.put\"><code class=\"xref py py-obj docutils literal notranslate\"><span class=\"pre\">put</span></code></a>,\n",
       " <a class=\"reference internal\" href=\"../reference/generated/numpy.putmask.html#numpy.putmask\" title=\"numpy.putmask\"><code class=\"xref py py-obj docutils literal notranslate\"><span class=\"pre\">putmask</span></code></a>,\n",
       " <a class=\"reference internal\" href=\"../reference/generated/numpy.real.html#numpy.real\" title=\"numpy.real\"><code class=\"xref py py-obj docutils literal notranslate\"><span class=\"pre\">real</span></code></a>,\n",
       " <a class=\"reference internal\" href=\"../reference/generated/numpy.sum.html#numpy.sum\" title=\"numpy.sum\"><code class=\"xref py py-obj docutils literal notranslate\"><span class=\"pre\">sum</span></code></a>,\n",
       " <a class=\"reference internal\" href=\"../reference/generated/numpy.cov.html#numpy.cov\" title=\"numpy.cov\"><code class=\"xref py py-obj docutils literal notranslate\"><span class=\"pre\">cov</span></code></a>,\n",
       " <a class=\"reference internal\" href=\"../reference/generated/numpy.mean.html#numpy.mean\" title=\"numpy.mean\"><code class=\"xref py py-obj docutils literal notranslate\"><span class=\"pre\">mean</span></code></a>,\n",
       " <a class=\"reference internal\" href=\"../reference/generated/numpy.std.html#numpy.std\" title=\"numpy.std\"><code class=\"xref py py-obj docutils literal notranslate\"><span class=\"pre\">std</span></code></a>,\n",
       " <a class=\"reference internal\" href=\"../reference/generated/numpy.var.html#numpy.var\" title=\"numpy.var\"><code class=\"xref py py-obj docutils literal notranslate\"><span class=\"pre\">var</span></code></a>,\n",
       " <a class=\"reference internal\" href=\"../reference/generated/numpy.cross.html#numpy.cross\" title=\"numpy.cross\"><code class=\"xref py py-obj docutils literal notranslate\"><span class=\"pre\">cross</span></code></a>,\n",
       " <a class=\"reference internal\" href=\"../reference/generated/numpy.dot.html#numpy.dot\" title=\"numpy.dot\"><code class=\"xref py py-obj docutils literal notranslate\"><span class=\"pre\">dot</span></code></a>,\n",
       " <a class=\"reference internal\" href=\"../reference/generated/numpy.outer.html#numpy.outer\" title=\"numpy.outer\"><code class=\"xref py py-obj docutils literal notranslate\"><span class=\"pre\">outer</span></code></a>,\n",
       " <a class=\"reference internal\" href=\"../reference/generated/numpy.linalg.svd.html#numpy.linalg.svd\" title=\"numpy.linalg.svd\"><code class=\"xref py py-obj docutils literal notranslate\"><span class=\"pre\">linalg.svd</span></code></a>,\n",
       " <a class=\"reference internal\" href=\"../reference/generated/numpy.vdot.html#numpy.vdot\" title=\"numpy.vdot\"><code class=\"xref py py-obj docutils literal notranslate\"><span class=\"pre\">vdot</span></code></a>,\n",
       " <a class=\"reference internal\" href=\"basics.broadcasting.html\"><span class=\"doc\">Broadcasting</span></a>,\n",
       " <a class=\"reference internal\" href=\"../reference/generated/numpy.ix_.html#numpy.ix_\" title=\"numpy.ix_\"><code class=\"xref py py-obj docutils literal notranslate\"><span class=\"pre\">ix_</span></code></a>,\n",
       " <a class=\"reference internal\" href=\"basics.rec.html#structured-arrays\"><span class=\"std std-ref\">Structured arrays</span></a>,\n",
       " <a class=\"reference internal\" href=\"numpy-for-matlab-users.html\"><span class=\"doc\">NumPy for Matlab users</span></a>,\n",
       " <a class=\"reference internal\" href=\"../reference/index.html#reference\"><span class=\"std std-ref\">NumPy Reference</span></a>,\n",
       " <a class=\"reference internal\" href=\"#\">Quickstart tutorial</a>,\n",
       " <a class=\"reference internal\" href=\"#prerequisites\">Prerequisites</a>,\n",
       " <a class=\"reference internal\" href=\"#the-basics\">The Basics</a>,\n",
       " <a class=\"reference internal\" href=\"#an-example\">An example</a>,\n",
       " <a class=\"reference internal\" href=\"#array-creation\">Array Creation</a>,\n",
       " <a class=\"reference internal\" href=\"#printing-arrays\">Printing Arrays</a>,\n",
       " <a class=\"reference internal\" href=\"#basic-operations\">Basic Operations</a>,\n",
       " <a class=\"reference internal\" href=\"#universal-functions\">Universal Functions</a>,\n",
       " <a class=\"reference internal\" href=\"#indexing-slicing-and-iterating\">Indexing, Slicing and Iterating</a>,\n",
       " <a class=\"reference internal\" href=\"#shape-manipulation\">Shape Manipulation</a>,\n",
       " <a class=\"reference internal\" href=\"#changing-the-shape-of-an-array\">Changing the shape of an array</a>,\n",
       " <a class=\"reference internal\" href=\"#stacking-together-different-arrays\">Stacking together different arrays</a>,\n",
       " <a class=\"reference internal\" href=\"#splitting-one-array-into-several-smaller-ones\">Splitting one array into several smaller ones</a>,\n",
       " <a class=\"reference internal\" href=\"#copies-and-views\">Copies and Views</a>,\n",
       " <a class=\"reference internal\" href=\"#no-copy-at-all\">No Copy at All</a>,\n",
       " <a class=\"reference internal\" href=\"#view-or-shallow-copy\">View or Shallow Copy</a>,\n",
       " <a class=\"reference internal\" href=\"#deep-copy\">Deep Copy</a>,\n",
       " <a class=\"reference internal\" href=\"#functions-and-methods-overview\">Functions and Methods Overview</a>,\n",
       " <a class=\"reference internal\" href=\"#less-basic\">Less Basic</a>,\n",
       " <a class=\"reference internal\" href=\"#broadcasting-rules\">Broadcasting rules</a>,\n",
       " <a class=\"reference internal\" href=\"#fancy-indexing-and-index-tricks\">Fancy indexing and index tricks</a>,\n",
       " <a class=\"reference internal\" href=\"#indexing-with-arrays-of-indices\">Indexing with Arrays of Indices</a>,\n",
       " <a class=\"reference internal\" href=\"#indexing-with-boolean-arrays\">Indexing with Boolean Arrays</a>,\n",
       " <a class=\"reference internal\" href=\"#the-ix-function\">The ix_() function</a>,\n",
       " <a class=\"reference internal\" href=\"#indexing-with-strings\">Indexing with strings</a>,\n",
       " <a class=\"reference internal\" href=\"#linear-algebra\">Linear Algebra</a>,\n",
       " <a class=\"reference internal\" href=\"#simple-array-operations\">Simple Array Operations</a>,\n",
       " <a class=\"reference internal\" href=\"#tricks-and-tips\">Tricks and Tips</a>,\n",
       " <a class=\"reference internal\" href=\"#automatic-reshaping\">âAutomaticâ Reshaping</a>,\n",
       " <a class=\"reference internal\" href=\"#vector-stacking\">Vector Stacking</a>,\n",
       " <a class=\"reference internal\" href=\"#histograms\">Histograms</a>,\n",
       " <a class=\"reference internal\" href=\"#further-reading\">Further reading</a>]"
      ]
     },
     "execution_count": 243,
     "metadata": {},
     "output_type": "execute_result"
    }
   ],
   "source": [
    "dom.select('a.reference.internal')"
   ]
  },
  {
   "cell_type": "code",
   "execution_count": 246,
   "metadata": {},
   "outputs": [],
   "source": [
    "con = sqlite3.connect(\"numpyReferences.db\")"
   ]
  },
  {
   "cell_type": "code",
   "execution_count": 247,
   "metadata": {},
   "outputs": [],
   "source": [
    "cur = con.cursor()"
   ]
  },
  {
   "cell_type": "code",
   "execution_count": 267,
   "metadata": {},
   "outputs": [
    {
     "data": {
      "text/plain": [
       "<sqlite3.Cursor at 0x1e5761c07a0>"
      ]
     },
     "execution_count": 267,
     "metadata": {},
     "output_type": "execute_result"
    }
   ],
   "source": [
    "cur.executescript(\"\"\"\n",
    "DROP TABLE IF EXISTS table1;\n",
    "CREATE TABLE table1(\n",
    "    id INTEGER PRIMARY KEY AUTOINCREMENT NOT NULL,\n",
    "    reference VARCHAR(30) NOT NULL,\n",
    "    url TEXT NOT NULL);\"\"\")"
   ]
  },
  {
   "cell_type": "code",
   "execution_count": 268,
   "metadata": {},
   "outputs": [],
   "source": [
    "con.commit()"
   ]
  },
  {
   "cell_type": "code",
   "execution_count": 269,
   "metadata": {},
   "outputs": [
    {
     "data": {
      "text/plain": [
       "154"
      ]
     },
     "execution_count": 269,
     "metadata": {},
     "output_type": "execute_result"
    }
   ],
   "source": [
    "len([_ for _ in dom.select('a.reference.internal') if _.has_attr(\"title\")])"
   ]
  },
  {
   "cell_type": "code",
   "execution_count": 270,
   "metadata": {},
   "outputs": [],
   "source": [
    "for tag in  [_ for _ in dom.select('a.reference.internal') if _.has_attr(\"title\")]:\n",
    "    ref = tag[\"title\"]\n",
    "    ref_url = requests.compat.urljoin(url, tag[\"href\"])\n",
    "    cur.execute(\"INSERT INTO table1(reference, url) VALUES(?, ?)\", [ref, ref_url])\n",
    "con.commit()"
   ]
  },
  {
   "cell_type": "code",
   "execution_count": 271,
   "metadata": {},
   "outputs": [],
   "source": [
    "cur.executescript(\"\"\"\n",
    "DROP TABLE IF EXISTS table2;\n",
    "CREATE TABLE table2(\n",
    "    id INTEGER PRIMARY KEY AUTOINCREMENT NOT NULL,\n",
    "    table1_id INTEGER NOT NULL,\n",
    "    expression VARCHAR(30) NOT NULL,\n",
    "    description TEXT NOT NULL);\"\"\")\n",
    "con.commit()"
   ]
  },
  {
   "cell_type": "code",
   "execution_count": 294,
   "metadata": {},
   "outputs": [],
   "source": [
    "cur.execute(\"SELECT id, url FROM table1\")\n",
    "for table1_id, url in cur.fetchall():\n",
    "    resp = requests.request('get', url)\n",
    "    dom = BeautifulSoup(resp.text, 'lxml')\n",
    "    exp = dom.select(\"dl > dt\")[0].text\n",
    "    desc = dom.select_one(\"dl > dd > p\").text\n",
    "    cur.execute(\"INSERT INTO table2(table1_id, expression, description) VALUES(?, ?, ?)\", [table1_id, exp, desc])\n",
    "con.commit()"
   ]
  },
  {
   "cell_type": "code",
   "execution_count": null,
   "metadata": {},
   "outputs": [],
   "source": []
  }
 ],
 "metadata": {
  "kernelspec": {
   "display_name": "Python 3",
   "language": "python",
   "name": "python3"
  },
  "language_info": {
   "codemirror_mode": {
    "name": "ipython",
    "version": 3
   },
   "file_extension": ".py",
   "mimetype": "text/x-python",
   "name": "python",
   "nbconvert_exporter": "python",
   "pygments_lexer": "ipython3",
   "version": "3.7.3"
  }
 },
 "nbformat": 4,
 "nbformat_minor": 2
}

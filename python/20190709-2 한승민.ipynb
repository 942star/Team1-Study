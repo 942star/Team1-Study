{
 "cells": [
  {
   "cell_type": "code",
   "execution_count": 1,
   "metadata": {},
   "outputs": [],
   "source": [
    "import sqlalchemy"
   ]
  },
  {
   "cell_type": "code",
   "execution_count": 2,
   "metadata": {},
   "outputs": [],
   "source": [
    "engine = sqlalchemy.create_engine('sqlite:///newdb7.db', echo=True)"
   ]
  },
  {
   "cell_type": "code",
   "execution_count": 3,
   "metadata": {},
   "outputs": [],
   "source": [
    "from sqlalchemy.ext.declarative import declarative_base"
   ]
  },
  {
   "cell_type": "code",
   "execution_count": 4,
   "metadata": {},
   "outputs": [],
   "source": [
    "base = declarative_base()"
   ]
  },
  {
   "cell_type": "code",
   "execution_count": 5,
   "metadata": {},
   "outputs": [],
   "source": [
    "from sqlalchemy import Table, Column, Integer, String"
   ]
  },
  {
   "cell_type": "code",
   "execution_count": 6,
   "metadata": {},
   "outputs": [],
   "source": [
    "class User(base):\n",
    "    __tablename__ = 'users'\n",
    "    \n",
    "    id = Column(Integer, primary_key=True)\n",
    "    name = Column(String)\n",
    "    fullname = Column(String)\n",
    "    password = Column('passwd', String)\n",
    "    \n",
    "    def __repr__(self):\n",
    "        return f'<Table User(name={self.name}, fullname={self.fullname}, password={self.password}>'"
   ]
  },
  {
   "cell_type": "code",
   "execution_count": 7,
   "metadata": {},
   "outputs": [],
   "source": [
    "from sqlalchemy.orm import sessionmaker"
   ]
  },
  {
   "cell_type": "code",
   "execution_count": 8,
   "metadata": {},
   "outputs": [
    {
     "name": "stdout",
     "output_type": "stream",
     "text": [
      "2019-07-09 06:23:12,502 INFO sqlalchemy.engine.base.Engine SELECT CAST('test plain returns' AS VARCHAR(60)) AS anon_1\n",
      "2019-07-09 06:23:12,504 INFO sqlalchemy.engine.base.Engine ()\n",
      "2019-07-09 06:23:12,506 INFO sqlalchemy.engine.base.Engine SELECT CAST('test unicode returns' AS VARCHAR(60)) AS anon_1\n",
      "2019-07-09 06:23:12,513 INFO sqlalchemy.engine.base.Engine ()\n",
      "2019-07-09 06:23:12,515 INFO sqlalchemy.engine.base.Engine PRAGMA table_info(\"users\")\n",
      "2019-07-09 06:23:12,521 INFO sqlalchemy.engine.base.Engine ()\n"
     ]
    }
   ],
   "source": [
    "base.metadata.create_all(engine)"
   ]
  },
  {
   "cell_type": "code",
   "execution_count": 9,
   "metadata": {},
   "outputs": [],
   "source": [
    "Session = sessionmaker(bind=engine)"
   ]
  },
  {
   "cell_type": "code",
   "execution_count": 10,
   "metadata": {},
   "outputs": [],
   "source": [
    "session = Session()"
   ]
  },
  {
   "cell_type": "code",
   "execution_count": 11,
   "metadata": {},
   "outputs": [],
   "source": [
    "kim = User(name='test')"
   ]
  },
  {
   "cell_type": "code",
   "execution_count": 12,
   "metadata": {},
   "outputs": [],
   "source": [
    "session.add(kim)"
   ]
  },
  {
   "cell_type": "code",
   "execution_count": 13,
   "metadata": {},
   "outputs": [
    {
     "data": {
      "text/plain": [
       "IdentitySet([])"
      ]
     },
     "execution_count": 13,
     "metadata": {},
     "output_type": "execute_result"
    }
   ],
   "source": [
    "session.dirty"
   ]
  },
  {
   "cell_type": "code",
   "execution_count": 14,
   "metadata": {},
   "outputs": [
    {
     "name": "stdout",
     "output_type": "stream",
     "text": [
      "2019-07-09 06:23:12,610 INFO sqlalchemy.engine.base.Engine BEGIN (implicit)\n",
      "2019-07-09 06:23:12,615 INFO sqlalchemy.engine.base.Engine INSERT INTO users (name, fullname, passwd) VALUES (?, ?, ?)\n",
      "2019-07-09 06:23:12,619 INFO sqlalchemy.engine.base.Engine ('test', None, None)\n",
      "2019-07-09 06:23:12,624 INFO sqlalchemy.engine.base.Engine COMMIT\n"
     ]
    }
   ],
   "source": [
    "session.commit()"
   ]
  },
  {
   "cell_type": "code",
   "execution_count": 15,
   "metadata": {},
   "outputs": [
    {
     "data": {
      "text/plain": [
       "IdentitySet([])"
      ]
     },
     "execution_count": 15,
     "metadata": {},
     "output_type": "execute_result"
    }
   ],
   "source": [
    "session.dirty"
   ]
  },
  {
   "cell_type": "code",
   "execution_count": 32,
   "metadata": {},
   "outputs": [],
   "source": [
    "engine = sqlalchemy.create_engine('sqlite:///newdb8.db', echo=True)\n",
    "base = declarative_base()"
   ]
  },
  {
   "cell_type": "code",
   "execution_count": 33,
   "metadata": {},
   "outputs": [],
   "source": [
    "class Artist(base):\n",
    "    __tablename__ = 'Artist'\n",
    "\n",
    "    id = Column('id', Integer, primary_key=True)\n",
    "    name = Column('name', String, nullable=False)\n",
    "    \n",
    "class Album(base):\n",
    "    __tablename__ = 'Album'\n",
    "    \n",
    "    id = Column('id', Integer, primary_key=True)\n",
    "    title = Column('title', String, nullable=False)\n",
    "    artist_id = Column('artist_id', Integer, sqlalchemy.ForeignKey('Artist.id'))\n",
    "    \n",
    "class Genre(base):\n",
    "    __tablename__ = 'Genre'\n",
    "    \n",
    "    id = Column('id', Integer, primary_key=True)\n",
    "    name = Column('name', String, nullable=False)\n",
    "    \n",
    "class Track(base):\n",
    "    __tablename__ = 'Track'\n",
    "    \n",
    "    id = Column('id', Integer, primary_key=True)\n",
    "    title = Column('title', String, nullable=False)\n",
    "    length = Column('length', Integer, nullable=False)\n",
    "    rating = Column('rating', Integer, nullable=False)\n",
    "    count = Column('count', Integer, nullable=False)\n",
    "    album_id = Column('album_id', Integer, sqlalchemy.ForeignKey('Album.id'))\n",
    "    genre_id = Column('genre_id', Integer, sqlalchemy.ForeignKey('Genre.id'))"
   ]
  },
  {
   "cell_type": "code",
   "execution_count": 37,
   "metadata": {},
   "outputs": [
    {
     "name": "stdout",
     "output_type": "stream",
     "text": [
      "2019-07-09 06:31:45,303 INFO sqlalchemy.engine.base.Engine SELECT CAST('test plain returns' AS VARCHAR(60)) AS anon_1\n",
      "2019-07-09 06:31:45,307 INFO sqlalchemy.engine.base.Engine ()\n",
      "2019-07-09 06:31:45,309 INFO sqlalchemy.engine.base.Engine SELECT CAST('test unicode returns' AS VARCHAR(60)) AS anon_1\n",
      "2019-07-09 06:31:45,314 INFO sqlalchemy.engine.base.Engine ()\n",
      "2019-07-09 06:31:45,317 INFO sqlalchemy.engine.base.Engine PRAGMA table_info(\"Artist\")\n",
      "2019-07-09 06:31:45,317 INFO sqlalchemy.engine.base.Engine ()\n",
      "2019-07-09 06:31:45,321 INFO sqlalchemy.engine.base.Engine PRAGMA table_info(\"Album\")\n",
      "2019-07-09 06:31:45,323 INFO sqlalchemy.engine.base.Engine ()\n",
      "2019-07-09 06:31:45,327 INFO sqlalchemy.engine.base.Engine PRAGMA table_info(\"Genre\")\n",
      "2019-07-09 06:31:45,328 INFO sqlalchemy.engine.base.Engine ()\n",
      "2019-07-09 06:31:45,329 INFO sqlalchemy.engine.base.Engine PRAGMA table_info(\"Track\")\n",
      "2019-07-09 06:31:45,331 INFO sqlalchemy.engine.base.Engine ()\n",
      "2019-07-09 06:31:45,332 INFO sqlalchemy.engine.base.Engine \n",
      "CREATE TABLE \"Artist\" (\n",
      "\tid INTEGER NOT NULL, \n",
      "\tname VARCHAR NOT NULL, \n",
      "\tPRIMARY KEY (id)\n",
      ")\n",
      "\n",
      "\n",
      "2019-07-09 06:31:45,341 INFO sqlalchemy.engine.base.Engine ()\n",
      "2019-07-09 06:31:45,345 INFO sqlalchemy.engine.base.Engine COMMIT\n",
      "2019-07-09 06:31:45,346 INFO sqlalchemy.engine.base.Engine \n",
      "CREATE TABLE \"Genre\" (\n",
      "\tid INTEGER NOT NULL, \n",
      "\tname VARCHAR NOT NULL, \n",
      "\tPRIMARY KEY (id)\n",
      ")\n",
      "\n",
      "\n",
      "2019-07-09 06:31:45,347 INFO sqlalchemy.engine.base.Engine ()\n",
      "2019-07-09 06:31:45,351 INFO sqlalchemy.engine.base.Engine COMMIT\n",
      "2019-07-09 06:31:45,353 INFO sqlalchemy.engine.base.Engine \n",
      "CREATE TABLE \"Album\" (\n",
      "\tid INTEGER NOT NULL, \n",
      "\ttitle VARCHAR NOT NULL, \n",
      "\tartist_id INTEGER, \n",
      "\tPRIMARY KEY (id), \n",
      "\tFOREIGN KEY(artist_id) REFERENCES \"Artist\" (id)\n",
      ")\n",
      "\n",
      "\n",
      "2019-07-09 06:31:45,353 INFO sqlalchemy.engine.base.Engine ()\n",
      "2019-07-09 06:31:45,361 INFO sqlalchemy.engine.base.Engine COMMIT\n",
      "2019-07-09 06:31:45,364 INFO sqlalchemy.engine.base.Engine \n",
      "CREATE TABLE \"Track\" (\n",
      "\tid INTEGER NOT NULL, \n",
      "\ttitle VARCHAR NOT NULL, \n",
      "\tlength INTEGER NOT NULL, \n",
      "\trating INTEGER NOT NULL, \n",
      "\tcount INTEGER NOT NULL, \n",
      "\talbum_id INTEGER, \n",
      "\tgenre_id INTEGER, \n",
      "\tPRIMARY KEY (id), \n",
      "\tFOREIGN KEY(album_id) REFERENCES \"Album\" (id), \n",
      "\tFOREIGN KEY(genre_id) REFERENCES \"Genre\" (id)\n",
      ")\n",
      "\n",
      "\n",
      "2019-07-09 06:31:45,364 INFO sqlalchemy.engine.base.Engine ()\n",
      "2019-07-09 06:31:45,371 INFO sqlalchemy.engine.base.Engine COMMIT\n"
     ]
    }
   ],
   "source": [
    "base.metadata.create_all(engine)"
   ]
  },
  {
   "cell_type": "code",
   "execution_count": 38,
   "metadata": {},
   "outputs": [],
   "source": [
    "art1 = Artist(name='Artist1')\n",
    "art2 = Artist(name='Artist2')"
   ]
  },
  {
   "cell_type": "code",
   "execution_count": 39,
   "metadata": {},
   "outputs": [],
   "source": [
    "Session = sessionmaker(bind=engine)\n",
    "session = Session()"
   ]
  },
  {
   "cell_type": "code",
   "execution_count": 40,
   "metadata": {},
   "outputs": [],
   "source": [
    "session.add_all([art1, art2])"
   ]
  },
  {
   "cell_type": "code",
   "execution_count": 41,
   "metadata": {},
   "outputs": [
    {
     "name": "stdout",
     "output_type": "stream",
     "text": [
      "2019-07-09 06:31:49,081 INFO sqlalchemy.engine.base.Engine BEGIN (implicit)\n",
      "2019-07-09 06:31:49,085 INFO sqlalchemy.engine.base.Engine INSERT INTO \"Artist\" (name) VALUES (?)\n",
      "2019-07-09 06:31:49,087 INFO sqlalchemy.engine.base.Engine ('Artist1',)\n",
      "2019-07-09 06:31:49,090 INFO sqlalchemy.engine.base.Engine INSERT INTO \"Artist\" (name) VALUES (?)\n",
      "2019-07-09 06:31:49,092 INFO sqlalchemy.engine.base.Engine ('Artist2',)\n",
      "2019-07-09 06:31:49,095 INFO sqlalchemy.engine.base.Engine COMMIT\n"
     ]
    }
   ],
   "source": [
    "session.commit()"
   ]
  },
  {
   "cell_type": "code",
   "execution_count": 45,
   "metadata": {},
   "outputs": [
    {
     "name": "stdout",
     "output_type": "stream",
     "text": [
      "2019-07-09 06:32:24,994 INFO sqlalchemy.engine.base.Engine SELECT \"Track\".title AS \"Track_title\", \"Album\".title AS \"Album_title\", \"Genre\".name AS \"Genre_name\", \"Artist\".name AS \"Artist_name\" \n",
      "FROM \"Track\", \"Album\", \"Genre\", \"Artist\"\n",
      "2019-07-09 06:32:24,999 INFO sqlalchemy.engine.base.Engine ()\n"
     ]
    }
   ],
   "source": [
    "result = session.query(Track.title, Album.title, Genre.name, Artist.name).all()"
   ]
  },
  {
   "cell_type": "code",
   "execution_count": 48,
   "metadata": {},
   "outputs": [],
   "source": [
    "result = session.query(Track.title, Album.title, Genre.name, Artist.name).select_from(Track).join(Album).join(Genre).join(Artist)"
   ]
  },
  {
   "cell_type": "code",
   "execution_count": 50,
   "metadata": {},
   "outputs": [
    {
     "name": "stdout",
     "output_type": "stream",
     "text": [
      "2019-07-09 06:32:48,156 INFO sqlalchemy.engine.base.Engine SELECT \"Track\".title AS \"Track_title\", \"Album\".title AS \"Album_title\", \"Genre\".name AS \"Genre_name\", \"Artist\".name AS \"Artist_name\" \n",
      "FROM \"Track\" JOIN \"Album\" ON \"Album\".id = \"Track\".album_id JOIN \"Genre\" ON \"Genre\".id = \"Track\".genre_id JOIN \"Artist\" ON \"Artist\".id = \"Album\".artist_id\n",
      "2019-07-09 06:32:48,161 INFO sqlalchemy.engine.base.Engine ()\n"
     ]
    },
    {
     "data": {
      "text/plain": [
       "[('Black Dog', 'IV', 'Rock', 'Artist1'),\n",
       " ('Stairway', 'IV', 'Rock', 'Artist1'),\n",
       " ('About to Rock', 'Who Made Who', 'Metal', 'Artist2'),\n",
       " ('Who Made Who', 'Who Made Who', 'Metal', 'Artist2')]"
      ]
     },
     "execution_count": 50,
     "metadata": {},
     "output_type": "execute_result"
    }
   ],
   "source": [
    "result.all()"
   ]
  },
  {
   "cell_type": "code",
   "execution_count": 2,
   "metadata": {},
   "outputs": [],
   "source": [
    "import sqlalchemy\n",
    "engine = sqlalchemy.create_engine('sqlite:///newdb10.db', echo=True)"
   ]
  },
  {
   "cell_type": "code",
   "execution_count": 18,
   "metadata": {},
   "outputs": [],
   "source": [
    "from sqlalchemy.ext.declarative import declarative_base\n",
    "base = declarative_base(bind=engine)"
   ]
  },
  {
   "cell_type": "code",
   "execution_count": 21,
   "metadata": {},
   "outputs": [],
   "source": [
    "from sqlalchemy import Table, Column, Integer, String\n",
    "from sqlalchemy.orm import relationship"
   ]
  },
  {
   "cell_type": "code",
   "execution_count": 22,
   "metadata": {},
   "outputs": [],
   "source": [
    "class Artist(base):\n",
    "    __tablename__ = 'Artist'\n",
    "\n",
    "    id = Column('id', Integer, primary_key=True)\n",
    "    name = Column('name', String, nullable=False)\n",
    "    \n",
    "    albumList = relationship('Album', back_populates='artist')\n",
    "    \n",
    "class Album(base):\n",
    "    __tablename__ = 'Album'\n",
    "    \n",
    "    id = Column('id', Integer, primary_key=True)\n",
    "    title = Column('title', String, nullable=False)\n",
    "    artist_id = Column('artist_id', Integer, sqlalchemy.ForeignKey('Artist.id'))\n",
    "    \n",
    "    artist = relationship('Artist', back_populates='albumList', uselist=False)\n",
    "    trackList = relationship('Track', back_populates='album')\n",
    "    \n",
    "class Genre(base):\n",
    "    __tablename__ = 'Genre'\n",
    "    \n",
    "    id = Column('id', Integer, primary_key=True)\n",
    "    name = Column('name', String, nullable=False)\n",
    "    \n",
    "    trackList = relationship('Track', back_populates='genre')\n",
    "    \n",
    "class Track(base):\n",
    "    __tablename__ = 'Track'\n",
    "    \n",
    "    id = Column('id', Integer, primary_key=True)\n",
    "    title = Column('title', String, nullable=False)\n",
    "    length = Column('length', Integer, nullable=False)\n",
    "    rating = Column('rating', Integer, nullable=False)\n",
    "    count = Column('count', Integer, nullable=False)\n",
    "    album_id = Column('album_id', Integer, sqlalchemy.ForeignKey('Album.id'))\n",
    "    genre_id = Column('genre_id', Integer, sqlalchemy.ForeignKey('Genre.id'))\n",
    "    \n",
    "    album = relationship('Album', back_populates='trackList', uselist=False)\n",
    "    genre = relationship('Genre', back_populates='trackList', uselist=False)"
   ]
  },
  {
   "cell_type": "code",
   "execution_count": 24,
   "metadata": {},
   "outputs": [
    {
     "name": "stdout",
     "output_type": "stream",
     "text": [
      "2019-07-09 06:46:59,018 INFO sqlalchemy.engine.base.Engine SELECT CAST('test plain returns' AS VARCHAR(60)) AS anon_1\n",
      "2019-07-09 06:46:59,022 INFO sqlalchemy.engine.base.Engine ()\n",
      "2019-07-09 06:46:59,024 INFO sqlalchemy.engine.base.Engine SELECT CAST('test unicode returns' AS VARCHAR(60)) AS anon_1\n",
      "2019-07-09 06:46:59,031 INFO sqlalchemy.engine.base.Engine ()\n",
      "2019-07-09 06:46:59,037 INFO sqlalchemy.engine.base.Engine PRAGMA table_info(\"Artist\")\n",
      "2019-07-09 06:46:59,039 INFO sqlalchemy.engine.base.Engine ()\n",
      "2019-07-09 06:46:59,040 INFO sqlalchemy.engine.base.Engine PRAGMA table_info(\"Album\")\n",
      "2019-07-09 06:46:59,045 INFO sqlalchemy.engine.base.Engine ()\n",
      "2019-07-09 06:46:59,047 INFO sqlalchemy.engine.base.Engine PRAGMA table_info(\"Genre\")\n",
      "2019-07-09 06:46:59,047 INFO sqlalchemy.engine.base.Engine ()\n",
      "2019-07-09 06:46:59,049 INFO sqlalchemy.engine.base.Engine PRAGMA table_info(\"Track\")\n",
      "2019-07-09 06:46:59,049 INFO sqlalchemy.engine.base.Engine ()\n",
      "2019-07-09 06:46:59,050 INFO sqlalchemy.engine.base.Engine \n",
      "CREATE TABLE \"Artist\" (\n",
      "\tid INTEGER NOT NULL, \n",
      "\tname VARCHAR NOT NULL, \n",
      "\tPRIMARY KEY (id)\n",
      ")\n",
      "\n",
      "\n",
      "2019-07-09 06:46:59,058 INFO sqlalchemy.engine.base.Engine ()\n",
      "2019-07-09 06:46:59,064 INFO sqlalchemy.engine.base.Engine COMMIT\n",
      "2019-07-09 06:46:59,064 INFO sqlalchemy.engine.base.Engine \n",
      "CREATE TABLE \"Genre\" (\n",
      "\tid INTEGER NOT NULL, \n",
      "\tname VARCHAR NOT NULL, \n",
      "\tPRIMARY KEY (id)\n",
      ")\n",
      "\n",
      "\n",
      "2019-07-09 06:46:59,066 INFO sqlalchemy.engine.base.Engine ()\n",
      "2019-07-09 06:46:59,069 INFO sqlalchemy.engine.base.Engine COMMIT\n",
      "2019-07-09 06:46:59,070 INFO sqlalchemy.engine.base.Engine \n",
      "CREATE TABLE \"Album\" (\n",
      "\tid INTEGER NOT NULL, \n",
      "\ttitle VARCHAR NOT NULL, \n",
      "\tartist_id INTEGER, \n",
      "\tPRIMARY KEY (id), \n",
      "\tFOREIGN KEY(artist_id) REFERENCES \"Artist\" (id)\n",
      ")\n",
      "\n",
      "\n",
      "2019-07-09 06:46:59,073 INFO sqlalchemy.engine.base.Engine ()\n",
      "2019-07-09 06:46:59,081 INFO sqlalchemy.engine.base.Engine COMMIT\n",
      "2019-07-09 06:46:59,082 INFO sqlalchemy.engine.base.Engine \n",
      "CREATE TABLE \"Track\" (\n",
      "\tid INTEGER NOT NULL, \n",
      "\ttitle VARCHAR NOT NULL, \n",
      "\tlength INTEGER NOT NULL, \n",
      "\trating INTEGER NOT NULL, \n",
      "\tcount INTEGER NOT NULL, \n",
      "\talbum_id INTEGER, \n",
      "\tgenre_id INTEGER, \n",
      "\tPRIMARY KEY (id), \n",
      "\tFOREIGN KEY(album_id) REFERENCES \"Album\" (id), \n",
      "\tFOREIGN KEY(genre_id) REFERENCES \"Genre\" (id)\n",
      ")\n",
      "\n",
      "\n",
      "2019-07-09 06:46:59,083 INFO sqlalchemy.engine.base.Engine ()\n",
      "2019-07-09 06:46:59,088 INFO sqlalchemy.engine.base.Engine COMMIT\n"
     ]
    }
   ],
   "source": [
    "base.metadata.create_all(engine)"
   ]
  }
 ],
 "metadata": {
  "kernelspec": {
   "display_name": "Python 3",
   "language": "python",
   "name": "python3"
  },
  "language_info": {
   "codemirror_mode": {
    "name": "ipython",
    "version": 3
   },
   "file_extension": ".py",
   "mimetype": "text/x-python",
   "name": "python",
   "nbconvert_exporter": "python",
   "pygments_lexer": "ipython3",
   "version": "3.6.7"
  },
  "latex_envs": {
   "LaTeX_envs_menu_present": true,
   "autoclose": false,
   "autocomplete": true,
   "bibliofile": "biblio.bib",
   "cite_by": "apalike",
   "current_citInitial": 1,
   "eqLabelWithNumbers": true,
   "eqNumInitial": 1,
   "hotkeys": {
    "equation": "Ctrl-E",
    "itemize": "Ctrl-I"
   },
   "labels_anchors": false,
   "latex_user_defs": false,
   "report_style_numbering": false,
   "user_envs_cfg": false
  },
  "varInspector": {
   "cols": {
    "lenName": 16,
    "lenType": 16,
    "lenVar": 40
   },
   "kernels_config": {
    "python": {
     "delete_cmd_postfix": "",
     "delete_cmd_prefix": "del ",
     "library": "var_list.py",
     "varRefreshCmd": "print(var_dic_list())"
    },
    "r": {
     "delete_cmd_postfix": ") ",
     "delete_cmd_prefix": "rm(",
     "library": "var_list.r",
     "varRefreshCmd": "cat(var_dic_list()) "
    }
   },
   "types_to_exclude": [
    "module",
    "function",
    "builtin_function_or_method",
    "instance",
    "_Feature"
   ],
   "window_display": false
  }
 },
 "nbformat": 4,
 "nbformat_minor": 2
}

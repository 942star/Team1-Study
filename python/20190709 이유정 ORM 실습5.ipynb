{
 "cells": [
  {
   "cell_type": "code",
   "execution_count": 1,
   "metadata": {},
   "outputs": [],
   "source": [
    "from sqlalchemy import create_engine"
   ]
  },
  {
   "cell_type": "code",
   "execution_count": 2,
   "metadata": {},
   "outputs": [],
   "source": [
    "engine = create_engine(\"sqlite:///newdb1.db\", echo=True)"
   ]
  },
  {
   "cell_type": "code",
   "execution_count": 9,
   "metadata": {},
   "outputs": [],
   "source": [
    "from sqlalchemy.ext.declarative import declarative_base\n",
    "from sqlalchemy import Table, Column, Integer, String, MetaData, ForeignKey\n",
    "from sqlalchemy.orm import relationship, backref, sessionmaker"
   ]
  },
  {
   "cell_type": "code",
   "execution_count": 10,
   "metadata": {},
   "outputs": [
    {
     "data": {
      "text/plain": [
       "sqlalchemy.ext.declarative.api.Base"
      ]
     },
     "execution_count": 10,
     "metadata": {},
     "output_type": "execute_result"
    }
   ],
   "source": [
    "base = declarative_base()\n",
    "\n",
    "base"
   ]
  },
  {
   "cell_type": "code",
   "execution_count": 11,
   "metadata": {},
   "outputs": [],
   "source": [
    "class Artist(base):\n",
    "    __tablename__ = \"Artist\"\n",
    "    \n",
    "    id = Column(Integer, primary_key=True)\n",
    "    name = Column(String)\n",
    "    \n",
    "    albumList = relationship(\"Album\", back_populates=\"artist\")\n",
    "    \n",
    "class Album(base):\n",
    "    __tablename__ = \"Album\"\n",
    "    \n",
    "    id = Column(Integer, primary_key=True)\n",
    "    title = Column(String)\n",
    "    artist_id = Column(Integer, ForeignKey(\"Artist.id\"))\n",
    "    \n",
    "    artist = relationship(\"Artist\", back_populates=\"albumList\", uselist=False)\n",
    "    trackList = relationship(\"Track\", back_populates=\"album\")\n",
    "\n",
    "class Genre(base):\n",
    "    __tablename__ = \"Genre\"\n",
    "    \n",
    "    id = Column(Integer, primary_key=True)\n",
    "    name = Column(String)\n",
    "    \n",
    "    trackList = relationship(\"Track\", back_populates=\"genre\")\n",
    "    \n",
    "class Track(base):\n",
    "    __tablename__ = \"Track\"\n",
    "    \n",
    "    id = Column(Integer, primary_key=True)\n",
    "    title = Column(String)\n",
    "    length = Column(Integer)\n",
    "    rating = Column(Integer)\n",
    "    count = Column(Integer)\n",
    "    album_id = Column(Integer, ForeignKey(\"Album.id\"))\n",
    "    genre_id = Column(Integer, ForeignKey(\"Genre.id\"))\n",
    "    \n",
    "    album = relationship(\"Album\", back_populates=\"trackList\", uselist=False)\n",
    "    genre = relationship(\"Genre\", back_populates=\"trackList\", uselist=False)"
   ]
  },
  {
   "cell_type": "code",
   "execution_count": 12,
   "metadata": {},
   "outputs": [
    {
     "name": "stdout",
     "output_type": "stream",
     "text": [
      "2019-07-09 15:52:12,982 INFO sqlalchemy.engine.base.Engine SELECT CAST('test plain returns' AS VARCHAR(60)) AS anon_1\n",
      "2019-07-09 15:52:12,985 INFO sqlalchemy.engine.base.Engine ()\n",
      "2019-07-09 15:52:12,986 INFO sqlalchemy.engine.base.Engine SELECT CAST('test unicode returns' AS VARCHAR(60)) AS anon_1\n",
      "2019-07-09 15:52:12,987 INFO sqlalchemy.engine.base.Engine ()\n",
      "2019-07-09 15:52:12,989 INFO sqlalchemy.engine.base.Engine PRAGMA table_info(\"Artist\")\n",
      "2019-07-09 15:52:12,989 INFO sqlalchemy.engine.base.Engine ()\n",
      "2019-07-09 15:52:12,992 INFO sqlalchemy.engine.base.Engine PRAGMA table_info(\"Album\")\n",
      "2019-07-09 15:52:12,993 INFO sqlalchemy.engine.base.Engine ()\n",
      "2019-07-09 15:52:12,994 INFO sqlalchemy.engine.base.Engine PRAGMA table_info(\"Genre\")\n",
      "2019-07-09 15:52:12,996 INFO sqlalchemy.engine.base.Engine ()\n",
      "2019-07-09 15:52:12,997 INFO sqlalchemy.engine.base.Engine PRAGMA table_info(\"Track\")\n",
      "2019-07-09 15:52:12,998 INFO sqlalchemy.engine.base.Engine ()\n",
      "2019-07-09 15:52:13,000 INFO sqlalchemy.engine.base.Engine \n",
      "CREATE TABLE \"Artist\" (\n",
      "\tid INTEGER NOT NULL, \n",
      "\tname VARCHAR, \n",
      "\tPRIMARY KEY (id)\n",
      ")\n",
      "\n",
      "\n",
      "2019-07-09 15:52:13,001 INFO sqlalchemy.engine.base.Engine ()\n",
      "2019-07-09 15:52:13,011 INFO sqlalchemy.engine.base.Engine COMMIT\n",
      "2019-07-09 15:52:13,012 INFO sqlalchemy.engine.base.Engine \n",
      "CREATE TABLE \"Genre\" (\n",
      "\tid INTEGER NOT NULL, \n",
      "\tname VARCHAR, \n",
      "\tPRIMARY KEY (id)\n",
      ")\n",
      "\n",
      "\n",
      "2019-07-09 15:52:13,013 INFO sqlalchemy.engine.base.Engine ()\n",
      "2019-07-09 15:52:13,021 INFO sqlalchemy.engine.base.Engine COMMIT\n",
      "2019-07-09 15:52:13,022 INFO sqlalchemy.engine.base.Engine \n",
      "CREATE TABLE \"Album\" (\n",
      "\tid INTEGER NOT NULL, \n",
      "\ttitle VARCHAR, \n",
      "\tartist_id INTEGER, \n",
      "\tPRIMARY KEY (id), \n",
      "\tFOREIGN KEY(artist_id) REFERENCES \"Artist\" (id)\n",
      ")\n",
      "\n",
      "\n",
      "2019-07-09 15:52:13,023 INFO sqlalchemy.engine.base.Engine ()\n",
      "2019-07-09 15:52:13,031 INFO sqlalchemy.engine.base.Engine COMMIT\n",
      "2019-07-09 15:52:13,032 INFO sqlalchemy.engine.base.Engine \n",
      "CREATE TABLE \"Track\" (\n",
      "\tid INTEGER NOT NULL, \n",
      "\ttitle VARCHAR, \n",
      "\tlength INTEGER, \n",
      "\trating INTEGER, \n",
      "\tcount INTEGER, \n",
      "\talbum_id INTEGER, \n",
      "\tgenre_id INTEGER, \n",
      "\tPRIMARY KEY (id), \n",
      "\tFOREIGN KEY(album_id) REFERENCES \"Album\" (id), \n",
      "\tFOREIGN KEY(genre_id) REFERENCES \"Genre\" (id)\n",
      ")\n",
      "\n",
      "\n",
      "2019-07-09 15:52:13,033 INFO sqlalchemy.engine.base.Engine ()\n",
      "2019-07-09 15:52:13,041 INFO sqlalchemy.engine.base.Engine COMMIT\n"
     ]
    }
   ],
   "source": [
    "base.metadata.create_all(engine)"
   ]
  },
  {
   "cell_type": "code",
   "execution_count": 13,
   "metadata": {},
   "outputs": [
    {
     "name": "stdout",
     "output_type": "stream",
     "text": [
      "2019-07-09 15:52:15,710 INFO sqlalchemy.engine.base.Engine PRAGMA table_info(\"Artist\")\n",
      "2019-07-09 15:52:15,711 INFO sqlalchemy.engine.base.Engine ()\n",
      "2019-07-09 15:52:15,712 INFO sqlalchemy.engine.base.Engine PRAGMA table_info(\"Album\")\n",
      "2019-07-09 15:52:15,713 INFO sqlalchemy.engine.base.Engine ()\n",
      "2019-07-09 15:52:15,714 INFO sqlalchemy.engine.base.Engine PRAGMA table_info(\"Genre\")\n",
      "2019-07-09 15:52:15,715 INFO sqlalchemy.engine.base.Engine ()\n",
      "2019-07-09 15:52:15,716 INFO sqlalchemy.engine.base.Engine PRAGMA table_info(\"Track\")\n",
      "2019-07-09 15:52:15,717 INFO sqlalchemy.engine.base.Engine ()\n"
     ]
    }
   ],
   "source": [
    "base.metadata.create_all(engine)"
   ]
  },
  {
   "cell_type": "code",
   "execution_count": null,
   "metadata": {},
   "outputs": [],
   "source": []
  }
 ],
 "metadata": {
  "kernelspec": {
   "display_name": "Python 3",
   "language": "python",
   "name": "python3"
  },
  "language_info": {
   "codemirror_mode": {
    "name": "ipython",
    "version": 3
   },
   "file_extension": ".py",
   "mimetype": "text/x-python",
   "name": "python",
   "nbconvert_exporter": "python",
   "pygments_lexer": "ipython3",
   "version": "3.7.1"
  }
 },
 "nbformat": 4,
 "nbformat_minor": 2
}

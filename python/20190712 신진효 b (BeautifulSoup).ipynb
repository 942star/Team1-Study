{
 "cells": [
  {
   "cell_type": "code",
   "execution_count": 3,
   "metadata": {},
   "outputs": [
    {
     "name": "stdout",
     "output_type": "stream",
     "text": [
      "Requirement already satisfied: beautifulsoup4 in c:\\users\\jinhyo\\anaconda3\\lib\\site-packages (4.7.1)\n",
      "Requirement already satisfied: soupsieve>=1.2 in c:\\users\\jinhyo\\anaconda3\\lib\\site-packages (from beautifulsoup4) (1.8)\n"
     ]
    }
   ],
   "source": [
    "# requests와 정규식을 사용하기 힘든 사람을 구원해주는 마지막 방법!\n",
    "\n",
    "!pip install beautifulsoup4"
   ]
  },
  {
   "cell_type": "code",
   "execution_count": 2,
   "metadata": {},
   "outputs": [],
   "source": [
    "# import할때는 bs4라고 해야함\n",
    "\n",
    "from bs4 import BeautifulSoup"
   ]
  },
  {
   "cell_type": "code",
   "execution_count": 3,
   "metadata": {},
   "outputs": [],
   "source": [
    "# 표준을 완벽하게 지킨 html 코드이다. -> well-formed\n",
    "# 여는 태그, 닫는 태그 정확함.\n",
    "# 대소문자 구분 확실함.\n",
    "\n",
    "# 하지만 원래 태그간에는 띄워쓰기 1개가 표준이다. \n",
    "# 그러면 한줄로 되버려서 사람이 알아보기 힘드니까 개행(줄바꿈)을 해서 만들자.\n",
    "\n",
    "html = \"\"\"\n",
    "<html>\n",
    " <head></head>\n",
    " <body>\n",
    "  <div>\n",
    "   <p>\n",
    "    <a>go to page</a>\n",
    "   </p>\n",
    "  </div>\n",
    " </body>\n",
    "</html>\n",
    "\"\"\""
   ]
  },
  {
   "cell_type": "code",
   "execution_count": 4,
   "metadata": {},
   "outputs": [],
   "source": [
    "# dom 객체를 생성해보자\n",
    "# well formed html은 lxml이 더 빠르게 잘 할 수 있다.\n",
    "# well formed html -> html 문법을 잘 지킨 경우\n",
    "# html은 여는태그, 닫는 태그 를 잘 지키지 않아도 에러가 나지않고 실행이 된다. 그래서 거지같이 만드는 사이트가 많다.\n",
    "# naver, google은 잘 만들어졌지만, 뽐뿌 같은 사이트는 html 문법을 제대로 지키고 만들지 않아서 crawling할때 잘 안되는 경우가 있당.\n",
    "# 이떄는 html.parser를 쓰는게 좋다.\n",
    "\n",
    "dom = BeautifulSoup(html, 'lxml')"
   ]
  },
  {
   "cell_type": "code",
   "execution_count": 5,
   "metadata": {},
   "outputs": [
    {
     "data": {
      "text/plain": [
       "<html>\n",
       "<head></head>\n",
       "<body>\n",
       "<div>\n",
       "<p>\n",
       "<a>go to page</a>\n",
       "</p>\n",
       "</div>\n",
       "</body>\n",
       "</html>"
      ]
     },
     "execution_count": 5,
     "metadata": {},
     "output_type": "execute_result"
    }
   ],
   "source": [
    "# well formed html이라서 parsing은 두가지 방식 다 잘 되었다.\n",
    "\n",
    "dom"
   ]
  },
  {
   "cell_type": "code",
   "execution_count": 6,
   "metadata": {},
   "outputs": [],
   "source": [
    "# dom 객체를 생성해보자\n",
    "# html.parser로 파싱하도록 정했다.\n",
    "# html 코드가 거지같아도 parsing을 잘 한다. 단 느리다.\n",
    "# lxml이 잘 안될때 차선책으로 알고 있으면 좋음.\n",
    "\n",
    "dom = BeautifulSoup(html, 'html.parser')"
   ]
  },
  {
   "cell_type": "code",
   "execution_count": 7,
   "metadata": {},
   "outputs": [
    {
     "data": {
      "text/plain": [
       "\n",
       "<html>\n",
       "<head></head>\n",
       "<body>\n",
       "<div>\n",
       "<p>\n",
       "<a>go to page</a>\n",
       "</p>\n",
       "</div>\n",
       "</body>\n",
       "</html>"
      ]
     },
     "execution_count": 7,
     "metadata": {},
     "output_type": "execute_result"
    }
   ],
   "source": [
    "dom"
   ]
  },
  {
   "cell_type": "code",
   "execution_count": 8,
   "metadata": {},
   "outputs": [
    {
     "data": {
      "text/plain": [
       "<a>go to page</a>"
      ]
     },
     "execution_count": 8,
     "metadata": {},
     "output_type": "execute_result"
    }
   ],
   "source": [
    "# .해서 attribute 방식으로 자식 태그에 접근할 수 있다!\n",
    "# dom의 body의 div의 a 태그를 가져옴\n",
    "\n",
    "dom.body.div.p.a"
   ]
  },
  {
   "cell_type": "code",
   "execution_count": 9,
   "metadata": {},
   "outputs": [
    {
     "data": {
      "text/plain": [
       "<a>go to page</a>"
      ]
     },
     "execution_count": 9,
     "metadata": {},
     "output_type": "execute_result"
    }
   ],
   "source": [
    "# 중간 부모자식 관계를 뛰어넘을 수 있다.\n",
    "\n",
    "dom.a"
   ]
  },
  {
   "cell_type": "code",
   "execution_count": 10,
   "metadata": {},
   "outputs": [],
   "source": [
    "# a 태그를 하나 더 만들었다.\n",
    "\n",
    "html = \"\"\"\n",
    "<html>\n",
    " <head></head>\n",
    " <body>\n",
    "  <div>\n",
    "   <p>\n",
    "    <a>go to page</a>\n",
    "    <a>back to home</a>\n",
    "   </p>\n",
    "  </div>\n",
    " </body>\n",
    "</html>\n",
    "\"\"\""
   ]
  },
  {
   "cell_type": "code",
   "execution_count": 11,
   "metadata": {},
   "outputs": [],
   "source": [
    "dom = BeautifulSoup(html, 'lxml')"
   ]
  },
  {
   "cell_type": "code",
   "execution_count": 12,
   "metadata": {},
   "outputs": [
    {
     "data": {
      "text/plain": [
       "<html>\n",
       "<head></head>\n",
       "<body>\n",
       "<div>\n",
       "<p>\n",
       "<a>go to page</a>\n",
       "<a>back to home</a>\n",
       "</p>\n",
       "</div>\n",
       "</body>\n",
       "</html>"
      ]
     },
     "execution_count": 12,
     "metadata": {},
     "output_type": "execute_result"
    }
   ],
   "source": [
    "# a가 2개가 있음을 확인\n",
    "\n",
    "dom"
   ]
  },
  {
   "cell_type": "code",
   "execution_count": 13,
   "metadata": {},
   "outputs": [
    {
     "data": {
      "text/plain": [
       "<a>go to page</a>"
      ]
     },
     "execution_count": 13,
     "metadata": {},
     "output_type": "execute_result"
    }
   ],
   "source": [
    "# a를 가져와보자\n",
    "# 첫번째 a를 가져왔다.\n",
    "\n",
    "dom.a"
   ]
  },
  {
   "cell_type": "code",
   "execution_count": 15,
   "metadata": {},
   "outputs": [
    {
     "data": {
      "text/plain": [
       "<a>back to home</a>"
      ]
     },
     "execution_count": 15,
     "metadata": {},
     "output_type": "execute_result"
    }
   ],
   "source": [
    "# 2번째 a를 가져오는 방법!\n",
    "# 복수형 silblings는 뒤에 있는 형재 태그를 모두 가져옴!\n",
    "# 자매품: find_previous_sibling()은 앞에 있는 형제 태그를 가져옴. 복수형도 가능.\n",
    "\n",
    "dom.a.find_next_sibling()"
   ]
  },
  {
   "cell_type": "code",
   "execution_count": 18,
   "metadata": {},
   "outputs": [],
   "source": [
    "# id를 추가한 html을 만들어보자.\n",
    "\n",
    "html = \"\"\"\n",
    "<html>\n",
    " <head></head>\n",
    " <body>\n",
    "  <div id=\"result\">\n",
    "   <p class=\"row\">\n",
    "    <a class=\"red\">go to page</a>\n",
    "    <a class=\"blue\">back to home</a>\n",
    "   </p>\n",
    "  </div>\n",
    " </body>\n",
    "</html>\n",
    "\"\"\""
   ]
  },
  {
   "cell_type": "code",
   "execution_count": 19,
   "metadata": {},
   "outputs": [],
   "source": [
    "dom = BeautifulSoup(html, \"lxml\")"
   ]
  },
  {
   "cell_type": "code",
   "execution_count": 23,
   "metadata": {},
   "outputs": [
    {
     "data": {
      "text/plain": [
       "<list_iterator at 0x1a4978b95f8>"
      ]
     },
     "execution_count": 23,
     "metadata": {},
     "output_type": "execute_result"
    }
   ],
   "source": [
    "# a의 부모가 p이다.\n",
    "# p의 children을 찾아보자.\n",
    "# iterator가 나왔다.\n",
    "\n",
    "dom.p.children"
   ]
  },
  {
   "cell_type": "code",
   "execution_count": 24,
   "metadata": {},
   "outputs": [
    {
     "name": "stdout",
     "output_type": "stream",
     "text": [
      "\n",
      "\n",
      "<a class=\"red\">go to page</a>\n",
      "\n",
      "\n",
      "<a class=\"blue\">back to home</a>\n",
      "\n",
      "\n"
     ]
    }
   ],
   "source": [
    "# for문으로 내용물을 확인해보자.\n",
    "\n",
    "for i in dom.p.children:\n",
    "    print(i)"
   ]
  },
  {
   "cell_type": "code",
   "execution_count": 29,
   "metadata": {},
   "outputs": [
    {
     "name": "stdout",
     "output_type": "stream",
     "text": [
      "\n",
      "\n",
      "<p class=\"row\">\n",
      "<a class=\"red\">go to page</a>\n",
      "<a class=\"blue\">back to home</a>\n",
      "</p>\n",
      "\n",
      "\n"
     ]
    }
   ],
   "source": [
    "# p의 부모인 div의 children을 확인해보자.\n",
    "# div의 자식인 p도 나오고, p의 자식인 a도 나온다.\n",
    "\n",
    "for i in (dom.div.children):\n",
    "    print(i)"
   ]
  },
  {
   "cell_type": "code",
   "execution_count": 27,
   "metadata": {},
   "outputs": [
    {
     "data": {
      "text/plain": [
       "'result'"
      ]
     },
     "execution_count": 27,
     "metadata": {},
     "output_type": "execute_result"
    }
   ],
   "source": [
    "# div에 추가했던 id 속성을 확인해보자.\n",
    "\n",
    "dom.div[\"id\"]"
   ]
  },
  {
   "cell_type": "code",
   "execution_count": 104,
   "metadata": {},
   "outputs": [
    {
     "data": {
      "text/plain": [
       "['red']"
      ]
     },
     "execution_count": 104,
     "metadata": {},
     "output_type": "execute_result"
    }
   ],
   "source": [
    "# a에 추가했던 class 속성도 확인할 수 있다.\n",
    "\n",
    "dom.a[\"class\"]"
   ]
  },
  {
   "cell_type": "markdown",
   "metadata": {},
   "source": [
    "---"
   ]
  },
  {
   "cell_type": "code",
   "execution_count": 18,
   "metadata": {},
   "outputs": [],
   "source": [
    "# a 태그에 href와 id를 추가해보자\n",
    "\n",
    "html = \"\"\"\n",
    "<html>\n",
    " <head></head>\n",
    " <body>\n",
    "  <div id=\"result\">\n",
    "   <p class=\"row\">\n",
    "    <a class=\"red\" href=\"http://www.google.com\" id=\"first\">go to page</a>\n",
    "    <a class=\"blue\" href=\"http://www.naver.com\" id=\"second\">back to home</a>\n",
    "   </p>\n",
    "  </div>\n",
    " </body>\n",
    "</html>\n",
    "\"\"\""
   ]
  },
  {
   "cell_type": "code",
   "execution_count": 19,
   "metadata": {},
   "outputs": [],
   "source": [
    "dom = BeautifulSoup(html, 'lxml')"
   ]
  },
  {
   "cell_type": "code",
   "execution_count": 107,
   "metadata": {},
   "outputs": [
    {
     "data": {
      "text/plain": [
       "<list_iterator at 0x1a498264da0>"
      ]
     },
     "execution_count": 107,
     "metadata": {},
     "output_type": "execute_result"
    }
   ],
   "source": [
    "dom.p.children"
   ]
  },
  {
   "cell_type": "code",
   "execution_count": 108,
   "metadata": {},
   "outputs": [
    {
     "data": {
      "text/plain": [
       "['\\n',\n",
       " <a class=\"red\" href=\"http://www.google.com\" id=\"first\">go to page</a>,\n",
       " '\\n',\n",
       " <a class=\"blue\" href=\"http://www.naver.com\" id=\"second\">back to home</a>,\n",
       " '\\n']"
      ]
     },
     "execution_count": 108,
     "metadata": {},
     "output_type": "execute_result"
    }
   ],
   "source": [
    "# children은 iterator 객체이다.\n",
    "# 이번에는 for문 대신에 comprehension으로 풀어보자.\n",
    "\n",
    "[tag for tag in dom.p.children]"
   ]
  },
  {
   "cell_type": "code",
   "execution_count": 41,
   "metadata": {},
   "outputs": [
    {
     "data": {
      "text/plain": [
       "{'class': ['red'], 'href': 'http://www.google.com', 'id': 'first'}"
      ]
     },
     "execution_count": 41,
     "metadata": {},
     "output_type": "execute_result"
    }
   ],
   "source": [
    "# .attrs를 하면 해당 태그가 가진 속성을 모두 보여준다.\n",
    "\n",
    "dom.a.attrs"
   ]
  },
  {
   "cell_type": "code",
   "execution_count": 32,
   "metadata": {},
   "outputs": [
    {
     "ename": "AttributeError",
     "evalue": "'NavigableString' object has no attribute 'attrs'",
     "output_type": "error",
     "traceback": [
      "\u001b[1;31m---------------------------------------------------------------------------\u001b[0m",
      "\u001b[1;31mAttributeError\u001b[0m                            Traceback (most recent call last)",
      "\u001b[1;32m<ipython-input-32-274b8c7bf3c3>\u001b[0m in \u001b[0;36m<module>\u001b[1;34m\u001b[0m\n\u001b[1;32m----> 1\u001b[1;33m \u001b[1;33m[\u001b[0m\u001b[0mchild\u001b[0m\u001b[1;33m.\u001b[0m\u001b[0mattrs\u001b[0m \u001b[1;32mfor\u001b[0m \u001b[0mchild\u001b[0m \u001b[1;32min\u001b[0m \u001b[0mdom\u001b[0m\u001b[1;33m.\u001b[0m\u001b[0mchildren\u001b[0m\u001b[1;33m]\u001b[0m\u001b[1;33m\u001b[0m\u001b[1;33m\u001b[0m\u001b[0m\n\u001b[0m",
      "\u001b[1;32m<ipython-input-32-274b8c7bf3c3>\u001b[0m in \u001b[0;36m<listcomp>\u001b[1;34m(.0)\u001b[0m\n\u001b[1;32m----> 1\u001b[1;33m \u001b[1;33m[\u001b[0m\u001b[0mchild\u001b[0m\u001b[1;33m.\u001b[0m\u001b[0mattrs\u001b[0m \u001b[1;32mfor\u001b[0m \u001b[0mchild\u001b[0m \u001b[1;32min\u001b[0m \u001b[0mdom\u001b[0m\u001b[1;33m.\u001b[0m\u001b[0mchildren\u001b[0m\u001b[1;33m]\u001b[0m\u001b[1;33m\u001b[0m\u001b[1;33m\u001b[0m\u001b[0m\n\u001b[0m",
      "\u001b[1;32m~\\Anaconda3\\lib\\site-packages\\bs4\\element.py\u001b[0m in \u001b[0;36m__getattr__\u001b[1;34m(self, attr)\u001b[0m\n\u001b[0;32m    740\u001b[0m             raise AttributeError(\n\u001b[0;32m    741\u001b[0m                 \"'%s' object has no attribute '%s'\" % (\n\u001b[1;32m--> 742\u001b[1;33m                     self.__class__.__name__, attr))\n\u001b[0m\u001b[0;32m    743\u001b[0m \u001b[1;33m\u001b[0m\u001b[0m\n\u001b[0;32m    744\u001b[0m     \u001b[1;32mdef\u001b[0m \u001b[0moutput_ready\u001b[0m\u001b[1;33m(\u001b[0m\u001b[0mself\u001b[0m\u001b[1;33m,\u001b[0m \u001b[0mformatter\u001b[0m\u001b[1;33m=\u001b[0m\u001b[1;34m\"minimal\"\u001b[0m\u001b[1;33m)\u001b[0m\u001b[1;33m:\u001b[0m\u001b[1;33m\u001b[0m\u001b[1;33m\u001b[0m\u001b[0m\n",
      "\u001b[1;31mAttributeError\u001b[0m: 'NavigableString' object has no attribute 'attrs'"
     ]
    }
   ],
   "source": [
    "# dom의 자식태그의 attrs를 불러보자.\n",
    "# 에러가 발생했따.\n",
    "\n",
    "[child.attrs for child in dom.children]"
   ]
  },
  {
   "cell_type": "code",
   "execution_count": 94,
   "metadata": {},
   "outputs": [
    {
     "data": {
      "text/plain": [
       "[<html>\n",
       " <head></head>\n",
       " <body>\n",
       " <div id=\"result\">\n",
       " <p class=\"row\">\n",
       " <a class=\"red\" href=\"http://www.google.com\" id=\"first\">go to page</a>\n",
       " <a class=\"blue\" href=\"http://www.naver.com\" id=\"second\">back to home</a>\n",
       " </p>\n",
       " </div>\n",
       " </body>\n",
       " </html>, '\\n']"
      ]
     },
     "execution_count": 94,
     "metadata": {},
     "output_type": "execute_result"
    }
   ],
   "source": [
    "# 두번째 애가 개행문자 \\n이다.\n",
    "\n",
    "dom_children = [child for child in dom.children]\n",
    "dom_children"
   ]
  },
  {
   "cell_type": "code",
   "execution_count": 67,
   "metadata": {},
   "outputs": [
    {
     "name": "stdout",
     "output_type": "stream",
     "text": [
      "<class 'bs4.element.Tag'>\n",
      "<class 'bs4.element.NavigableString'>\n"
     ]
    }
   ],
   "source": [
    "# 개행문자는 Tag가 아니라 String이다. -> .attrs를 쓸 수 없다.\n",
    "# 원래 html 태그는 모두 한줄로 되어있다. response의 text를 보면 항상 한줄로 되어있다. \n",
    "# 연습용 html코드를 사람이 읽기 쉽게 하려고 줄을 나눈것이 개행문자로 인식되어버린 탓에 결과에 포함되었다.\n",
    "\n",
    "for i in dom_children:\n",
    "    print(type(i))"
   ]
  },
  {
   "cell_type": "code",
   "execution_count": 72,
   "metadata": {},
   "outputs": [
    {
     "data": {
      "text/plain": [
       "{}"
      ]
     },
     "execution_count": 72,
     "metadata": {},
     "output_type": "execute_result"
    }
   ],
   "source": [
    "# dom의 자식 태그의 어트리뷰트를 확인\n",
    "# html 태그의 어트리뷰트는 없기 때문에 비어있는 딕셔너리.\n",
    "\n",
    "dom_children[0].attrs"
   ]
  },
  {
   "cell_type": "code",
   "execution_count": 234,
   "metadata": {},
   "outputs": [
    {
     "data": {
      "text/plain": [
       "<div id=\"result\">\n",
       "<p class=\"row\">\n",
       "<a class=\"red\" href=\"http://www.google.com\" id=\"first\">go to page</a>\n",
       "<a class=\"blue\" href=\"http://www.naver.com\" id=\"second\">back to home</a>\n",
       "<div><a>안녕하세요</a></div>\n",
       "<a class=\"green\">go to page2</a>\n",
       "</p>\n",
       "</div>"
      ]
     },
     "execution_count": 234,
     "metadata": {},
     "output_type": "execute_result"
    }
   ],
   "source": [
    "dom.div"
   ]
  },
  {
   "cell_type": "code",
   "execution_count": 233,
   "metadata": {},
   "outputs": [
    {
     "data": {
      "text/plain": [
       "'result'"
      ]
     },
     "execution_count": 233,
     "metadata": {},
     "output_type": "execute_result"
    }
   ],
   "source": [
    "dom.div[\"id\"]"
   ]
  },
  {
   "cell_type": "code",
   "execution_count": 89,
   "metadata": {},
   "outputs": [
    {
     "data": {
      "text/plain": [
       "<list_iterator at 0x1a497c771d0>"
      ]
     },
     "execution_count": 89,
     "metadata": {},
     "output_type": "execute_result"
    }
   ],
   "source": [
    "dom.div.children"
   ]
  },
  {
   "cell_type": "code",
   "execution_count": 90,
   "metadata": {},
   "outputs": [
    {
     "data": {
      "text/plain": [
       "['\\n', <p class=\"row\">\n",
       " <a class=\"red\" href=\"http://www.google.com\" id=\"first\">go to page</a>\n",
       " <a class=\"blue\" href=\"http://www.naver.com\" id=\"second\">back to home</a>\n",
       " </p>, '\\n']"
      ]
     },
     "execution_count": 90,
     "metadata": {},
     "output_type": "execute_result"
    }
   ],
   "source": [
    "[tag for tag in dom.div.children]"
   ]
  },
  {
   "cell_type": "code",
   "execution_count": 88,
   "metadata": {},
   "outputs": [
    {
     "name": "stdout",
     "output_type": "stream",
     "text": [
      "<class 'bs4.element.NavigableString'> \n",
      "\n",
      "<class 'bs4.element.Tag'> <p class=\"row\">\n",
      "<a class=\"red\" href=\"http://www.google.com\" id=\"first\">go to page</a>\n",
      "<a class=\"blue\" href=\"http://www.naver.com\" id=\"second\">back to home</a>\n",
      "</p>\n",
      "<class 'bs4.element.NavigableString'> \n",
      "\n"
     ]
    }
   ],
   "source": [
    "for _ in dom.div.children:\n",
    "    print(type(_), _)"
   ]
  },
  {
   "cell_type": "markdown",
   "metadata": {},
   "source": [
    "---"
   ]
  },
  {
   "cell_type": "markdown",
   "metadata": {},
   "source": [
    "## 태그를 찾아오는 방법 3가지.\n",
    "\n",
    "1. 태그이름 쓰는 방법\n",
    "2. attrs를 이용하는 방법.\n",
    "3. 본문에 있는 내용을 검색하는 방법"
   ]
  },
  {
   "cell_type": "code",
   "execution_count": 73,
   "metadata": {},
   "outputs": [
    {
     "data": {
      "text/plain": [
       "[<a class=\"red\" href=\"http://www.google.com\" id=\"first\">go to page</a>,\n",
       " <a class=\"blue\" href=\"http://www.naver.com\" id=\"second\">back to home</a>]"
      ]
     },
     "execution_count": 73,
     "metadata": {},
     "output_type": "execute_result"
    }
   ],
   "source": [
    "# a 태그를 모두 찾아와라\n",
    "\n",
    "dom.find_all('a')"
   ]
  },
  {
   "cell_type": "code",
   "execution_count": 79,
   "metadata": {},
   "outputs": [
    {
     "data": {
      "text/plain": [
       "[<a class=\"red\" href=\"http://www.google.com\" id=\"first\">go to page</a>]"
      ]
     },
     "execution_count": 79,
     "metadata": {},
     "output_type": "execute_result"
    }
   ],
   "source": [
    "# a태그를 limit 갯수만큼만 찾아와라\n",
    "\n",
    "dom.find_all('a', limit=1)"
   ]
  },
  {
   "cell_type": "code",
   "execution_count": 85,
   "metadata": {},
   "outputs": [
    {
     "data": {
      "text/plain": [
       "[<p class=\"row\">\n",
       " <a class=\"red\" href=\"http://www.google.com\" id=\"first\">go to page</a>\n",
       " <a class=\"blue\" href=\"http://www.naver.com\" id=\"second\">back to home</a>\n",
       " </p>]"
      ]
     },
     "execution_count": 85,
     "metadata": {},
     "output_type": "execute_result"
    }
   ],
   "source": [
    "dom.find_all('p')"
   ]
  },
  {
   "cell_type": "code",
   "execution_count": 74,
   "metadata": {},
   "outputs": [
    {
     "data": {
      "text/plain": [
       "[<div id=\"result\">\n",
       " <p class=\"row\">\n",
       " <a class=\"red\" href=\"http://www.google.com\" id=\"first\">go to page</a>\n",
       " <a class=\"blue\" href=\"http://www.naver.com\" id=\"second\">back to home</a>\n",
       " </p>\n",
       " </div>, <p class=\"row\">\n",
       " <a class=\"red\" href=\"http://www.google.com\" id=\"first\">go to page</a>\n",
       " <a class=\"blue\" href=\"http://www.naver.com\" id=\"second\">back to home</a>\n",
       " </p>]"
      ]
     },
     "execution_count": 74,
     "metadata": {},
     "output_type": "execute_result"
    }
   ],
   "source": [
    "# 여러개를 동시에 넣을 수 있다.\n",
    "\n",
    "dom.find_all({'div','p'})"
   ]
  },
  {
   "cell_type": "code",
   "execution_count": 75,
   "metadata": {},
   "outputs": [
    {
     "data": {
      "text/plain": [
       "[<div id=\"result\">\n",
       " <p class=\"row\">\n",
       " <a class=\"red\" href=\"http://www.google.com\" id=\"first\">go to page</a>\n",
       " <a class=\"blue\" href=\"http://www.naver.com\" id=\"second\">back to home</a>\n",
       " </p>\n",
       " </div>]"
      ]
     },
     "execution_count": 75,
     "metadata": {},
     "output_type": "execute_result"
    }
   ],
   "source": [
    "# 어트리뷰트(attrs)를 활용하는 방법\n",
    "\n",
    "# id가 result라는 attr을 가진 div 태그만 가져와라.\n",
    "\n",
    "dom.find_all('div', {'id':'result'})"
   ]
  },
  {
   "cell_type": "code",
   "execution_count": 76,
   "metadata": {},
   "outputs": [
    {
     "data": {
      "text/plain": [
       "[<a class=\"red\" href=\"http://www.google.com\" id=\"first\">go to page</a>]"
      ]
     },
     "execution_count": 76,
     "metadata": {},
     "output_type": "execute_result"
    }
   ],
   "source": [
    "# class=\"red\"를 속성으로 가지는 태그만 가져와라\n",
    "\n",
    "dom.find_all('', attrs={'class':'red'})"
   ]
  },
  {
   "cell_type": "code",
   "execution_count": 77,
   "metadata": {},
   "outputs": [
    {
     "data": {
      "text/plain": [
       "[]"
      ]
     },
     "execution_count": 77,
     "metadata": {},
     "output_type": "execute_result"
    }
   ],
   "source": [
    "# 손자 태그는 제외하는 옵션\n",
    "# 1촌 자식 태그만 가져온다. 다음 예제에서 다시 설명함.\n",
    "\n",
    "dom.find_all('a', recursive=False)"
   ]
  },
  {
   "cell_type": "code",
   "execution_count": 20,
   "metadata": {},
   "outputs": [
    {
     "data": {
      "text/plain": [
       "[<a class=\"red\" href=\"http://www.google.com\" id=\"first\">go to page</a>]"
      ]
     },
     "execution_count": 20,
     "metadata": {},
     "output_type": "execute_result"
    }
   ],
   "source": [
    "# \"go to page\"라는 내용을 포함하고 있는 a 태그를 찾아와라\n",
    "\n",
    "dom.find_all('a', text=\"go to page\")"
   ]
  },
  {
   "cell_type": "markdown",
   "metadata": {},
   "source": [
    "---"
   ]
  },
  {
   "cell_type": "code",
   "execution_count": 21,
   "metadata": {},
   "outputs": [],
   "source": [
    "# p 태그에 div 태그를 추가함.\n",
    "# div 태그는 a 태그를 내포함.\n",
    "\n",
    "html = \"\"\"\n",
    "<html>\n",
    " <head></head>\n",
    " <body>\n",
    "  <div id=\"result\">\n",
    "   <p class=\"row\">\n",
    "    <a class=\"red\" href=\"http://www.google.com\" id=\"first\">go to page</a>\n",
    "    <a class=\"blue\" href=\"http://www.naver.com\" id=\"second\">back to home</a>\n",
    "    <div><a>안녕하세요</a></div>\n",
    "   </p>\n",
    "  </div>\n",
    " </body>\n",
    "</html>\n",
    "\"\"\""
   ]
  },
  {
   "cell_type": "code",
   "execution_count": 22,
   "metadata": {},
   "outputs": [],
   "source": [
    "dom = BeautifulSoup(html, 'lxml')"
   ]
  },
  {
   "cell_type": "code",
   "execution_count": 23,
   "metadata": {},
   "outputs": [
    {
     "data": {
      "text/plain": [
       "<a class=\"red\" href=\"http://www.google.com\" id=\"first\">go to page</a>"
      ]
     },
     "execution_count": 23,
     "metadata": {},
     "output_type": "execute_result"
    }
   ],
   "source": [
    "# 이 녀석은 당연히 첫번째 a태그\n",
    "\n",
    "dom.a"
   ]
  },
  {
   "cell_type": "code",
   "execution_count": 24,
   "metadata": {},
   "outputs": [
    {
     "data": {
      "text/plain": [
       "<a class=\"blue\" href=\"http://www.naver.com\" id=\"second\">back to home</a>"
      ]
     },
     "execution_count": 24,
     "metadata": {},
     "output_type": "execute_result"
    }
   ],
   "source": [
    "# 두번째 a태그를 불러왔다!\n",
    "\n",
    "dom.a.find_next_sibling()"
   ]
  },
  {
   "cell_type": "code",
   "execution_count": 28,
   "metadata": {},
   "outputs": [
    {
     "data": {
      "text/plain": [
       "[<a class=\"red\" href=\"http://www.google.com\" id=\"first\">go to page</a>,\n",
       " <a class=\"blue\" href=\"http://www.naver.com\" id=\"second\">back to home</a>,\n",
       " <a>안녕하세요</a>]"
      ]
     },
     "execution_count": 28,
     "metadata": {},
     "output_type": "execute_result"
    }
   ],
   "source": [
    "# 모든 a태그를 찾아본다.\n",
    "\n",
    "dom.find_all('a')"
   ]
  },
  {
   "cell_type": "code",
   "execution_count": 184,
   "metadata": {},
   "outputs": [
    {
     "data": {
      "text/plain": [
       "[<a class=\"red\" href=\"http://www.google.com\" id=\"first\">go to page</a>,\n",
       " <a class=\"blue\" href=\"http://www.naver.com\" id=\"second\">back to home</a>]"
      ]
     },
     "execution_count": 184,
     "metadata": {},
     "output_type": "execute_result"
    }
   ],
   "source": [
    "# p 안에 있는 a태그만 찾아본다.\n",
    "# recursive=False 옵션으로 1촌 자식만 가져온다.\n",
    "\n",
    "dom.p.find_all('a', recursive=False)"
   ]
  },
  {
   "cell_type": "code",
   "execution_count": 185,
   "metadata": {},
   "outputs": [
    {
     "data": {
      "text/plain": [
       "[<a class=\"red\" href=\"http://www.google.com\" id=\"first\">go to page</a>,\n",
       " <a class=\"blue\" href=\"http://www.naver.com\" id=\"second\">back to home</a>]"
      ]
     },
     "execution_count": 185,
     "metadata": {},
     "output_type": "execute_result"
    }
   ],
   "source": [
    "# 근데 왜 True를 해도 2개가 나올까?\n",
    "# 뭔가 이상하다.\n",
    "\n",
    "dom.p.find_all('a', recursive=True)"
   ]
  },
  {
   "cell_type": "code",
   "execution_count": 187,
   "metadata": {},
   "outputs": [
    {
     "data": {
      "text/plain": [
       "<p class=\"row\">\n",
       "<a class=\"red\" href=\"http://www.google.com\" id=\"first\">go to page</a>\n",
       "<a class=\"blue\" href=\"http://www.naver.com\" id=\"second\">back to home</a>\n",
       "</p>"
      ]
     },
     "execution_count": 187,
     "metadata": {},
     "output_type": "execute_result"
    }
   ],
   "source": [
    "# dom.p를 해보니, div 태그가 없다.\n",
    "\n",
    "dom.p"
   ]
  },
  {
   "cell_type": "code",
   "execution_count": 188,
   "metadata": {},
   "outputs": [],
   "source": [
    "# paser의 문제인것 같다. parser를 바꿔보자\n",
    "\n",
    "dom = BeautifulSoup(html, 'html.parser')"
   ]
  },
  {
   "cell_type": "code",
   "execution_count": 189,
   "metadata": {},
   "outputs": [
    {
     "data": {
      "text/plain": [
       "[<a class=\"red\" href=\"http://www.google.com\" id=\"first\">go to page</a>,\n",
       " <a class=\"blue\" href=\"http://www.naver.com\" id=\"second\">back to home</a>,\n",
       " <a>안녕하세요</a>]"
      ]
     },
     "execution_count": 189,
     "metadata": {},
     "output_type": "execute_result"
    }
   ],
   "source": [
    "# 모든 a 태그를 찾기 때문에 총 3개가 나옴.\n",
    "\n",
    "dom.p.find_all('a')"
   ]
  },
  {
   "cell_type": "code",
   "execution_count": 190,
   "metadata": {},
   "outputs": [
    {
     "data": {
      "text/plain": [
       "[<a class=\"red\" href=\"http://www.google.com\" id=\"first\">go to page</a>,\n",
       " <a class=\"blue\" href=\"http://www.naver.com\" id=\"second\">back to home</a>]"
      ]
     },
     "execution_count": 190,
     "metadata": {},
     "output_type": "execute_result"
    }
   ],
   "source": [
    "# recursive=False 옵션은 태그 속의 태그는 무시한다.\n",
    "# p의 자식 태그 중에서만 a 태그를 찾는다.\n",
    "# p의 자식인 div 태그 안에 있는 a 태그는 무시하고 2개만 가져왔다. (손자 태그는 제외함.)\n",
    "\n",
    "dom.p.find_all('a', recursive=False)"
   ]
  },
  {
   "cell_type": "code",
   "execution_count": 210,
   "metadata": {},
   "outputs": [
    {
     "data": {
      "text/plain": [
       "<p class=\"row\">\n",
       "<a class=\"red\" href=\"http://www.google.com\" id=\"first\">go to page</a>\n",
       "<a class=\"blue\" href=\"http://www.naver.com\" id=\"second\">back to home</a>\n",
       "<div><a>안녕하세요</a></div>\n",
       "</p>"
      ]
     },
     "execution_count": 210,
     "metadata": {},
     "output_type": "execute_result"
    }
   ],
   "source": [
    "# find_parent은 부모 태그를 찾는다. \n",
    "\n",
    "dom.p.a.find_parent()"
   ]
  },
  {
   "cell_type": "code",
   "execution_count": 201,
   "metadata": {},
   "outputs": [
    {
     "data": {
      "text/plain": [
       "'p'"
      ]
     },
     "execution_count": 201,
     "metadata": {},
     "output_type": "execute_result"
    }
   ],
   "source": [
    "# .name으로 이름을 확인해보면 p.\n",
    "# p 태그이다.\n",
    "\n",
    "dom.p.a.find_parent().name"
   ]
  },
  {
   "cell_type": "code",
   "execution_count": 212,
   "metadata": {},
   "outputs": [
    {
     "data": {
      "text/plain": [
       "[<p class=\"row\">\n",
       " <a class=\"red\" href=\"http://www.google.com\" id=\"first\">go to page</a>\n",
       " <a class=\"blue\" href=\"http://www.naver.com\" id=\"second\">back to home</a>\n",
       " <div><a>안녕하세요</a></div>\n",
       " </p>, <div id=\"result\">\n",
       " <p class=\"row\">\n",
       " <a class=\"red\" href=\"http://www.google.com\" id=\"first\">go to page</a>\n",
       " <a class=\"blue\" href=\"http://www.naver.com\" id=\"second\">back to home</a>\n",
       " <div><a>안녕하세요</a></div>\n",
       " </p>\n",
       " </div>, <body>\n",
       " <div id=\"result\">\n",
       " <p class=\"row\">\n",
       " <a class=\"red\" href=\"http://www.google.com\" id=\"first\">go to page</a>\n",
       " <a class=\"blue\" href=\"http://www.naver.com\" id=\"second\">back to home</a>\n",
       " <div><a>안녕하세요</a></div>\n",
       " </p>\n",
       " </div>\n",
       " </body>, <html>\n",
       " <head></head>\n",
       " <body>\n",
       " <div id=\"result\">\n",
       " <p class=\"row\">\n",
       " <a class=\"red\" href=\"http://www.google.com\" id=\"first\">go to page</a>\n",
       " <a class=\"blue\" href=\"http://www.naver.com\" id=\"second\">back to home</a>\n",
       " <div><a>안녕하세요</a></div>\n",
       " </p>\n",
       " </div>\n",
       " </body>\n",
       " </html>, \n",
       " <html>\n",
       " <head></head>\n",
       " <body>\n",
       " <div id=\"result\">\n",
       " <p class=\"row\">\n",
       " <a class=\"red\" href=\"http://www.google.com\" id=\"first\">go to page</a>\n",
       " <a class=\"blue\" href=\"http://www.naver.com\" id=\"second\">back to home</a>\n",
       " <div><a>안녕하세요</a></div>\n",
       " </p>\n",
       " </div>\n",
       " </body>\n",
       " </html>]"
      ]
     },
     "execution_count": 212,
     "metadata": {},
     "output_type": "execute_result"
    }
   ],
   "source": [
    "# find_parents는 부모들을 찾는다.\n",
    "# list로 되어있다.\n",
    "# html태그 까지 나온다.\n",
    "\n",
    "dom.p.a.find_parents()"
   ]
  },
  {
   "cell_type": "code",
   "execution_count": 30,
   "metadata": {},
   "outputs": [
    {
     "data": {
      "text/plain": [
       "'html'"
      ]
     },
     "execution_count": 30,
     "metadata": {},
     "output_type": "execute_result"
    }
   ],
   "source": [
    "# 최상위 태그인 html 태그까지 가져왔다.\n",
    "\n",
    "dom.p.a.find_parents()[-2].name"
   ]
  },
  {
   "cell_type": "code",
   "execution_count": 31,
   "metadata": {},
   "outputs": [
    {
     "data": {
      "text/plain": [
       "'[document]'"
      ]
     },
     "execution_count": 31,
     "metadata": {},
     "output_type": "execute_result"
    }
   ],
   "source": [
    "# html보다 상위 개념인 document까지 가져왔다.\n",
    "\n",
    "dom.p.a.find_parents()[-1].name"
   ]
  },
  {
   "cell_type": "markdown",
   "metadata": {},
   "source": [
    "---"
   ]
  },
  {
   "cell_type": "code",
   "execution_count": 228,
   "metadata": {},
   "outputs": [],
   "source": [
    "# a 태그 하나 더 추가함\n",
    "\n",
    "html = \"\"\"\n",
    "<html>\n",
    " <head></head>\n",
    " <body>\n",
    "  <div id=\"result\">\n",
    "   <p class=\"row\">\n",
    "    <a class=\"red\" href=\"http://www.google.com\" id=\"first\">go to page</a>\n",
    "    <a class=\"blue\" href=\"http://www.naver.com\" id=\"second\">back to home</a>\n",
    "    <div><a>안녕하세요</a></div>\n",
    "    <a class=\"green\">go to page2</a>\n",
    "   </p>\n",
    "  </div>\n",
    " </body>\n",
    "</html>\n",
    "\"\"\""
   ]
  },
  {
   "cell_type": "code",
   "execution_count": 229,
   "metadata": {},
   "outputs": [],
   "source": [
    "dom = BeautifulSoup(html, 'html.parser')"
   ]
  },
  {
   "cell_type": "code",
   "execution_count": 230,
   "metadata": {},
   "outputs": [
    {
     "data": {
      "text/plain": [
       "<a>안녕하세요</a>"
      ]
     },
     "execution_count": 230,
     "metadata": {},
     "output_type": "execute_result"
    }
   ],
   "source": [
    "# 3번째 a를 가져와보자\n",
    "# 여기서부터 시작하자.\n",
    "\n",
    "dom.p.div.a"
   ]
  },
  {
   "cell_type": "code",
   "execution_count": 232,
   "metadata": {},
   "outputs": [
    {
     "data": {
      "text/plain": [
       "<a class=\"green\">go to page2</a>"
      ]
     },
     "execution_count": 232,
     "metadata": {},
     "output_type": "execute_result"
    }
   ],
   "source": [
    "# 4번째 a를 가져와보자\n",
    "# find_parent로 부모를 찾아가자. => div\n",
    "# find_next_sibling으로 div와 동등한 위치의 다음 태그를 가져돈다 => 4번째 a 태그\n",
    "\n",
    "dom.p.div.a.find_parent().find_next_sibling()"
   ]
  },
  {
   "cell_type": "code",
   "execution_count": 231,
   "metadata": {},
   "outputs": [
    {
     "data": {
      "text/plain": [
       "<a class=\"blue\" href=\"http://www.naver.com\" id=\"second\">back to home</a>"
      ]
     },
     "execution_count": 231,
     "metadata": {},
     "output_type": "execute_result"
    }
   ],
   "source": [
    "# 2번째 a를 가져와보자\n",
    "\n",
    "dom.p.div.a.find_parent().find_previous_sibling()"
   ]
  },
  {
   "cell_type": "code",
   "execution_count": null,
   "metadata": {},
   "outputs": [],
   "source": []
  }
 ],
 "metadata": {
  "kernelspec": {
   "display_name": "Python 3",
   "language": "python",
   "name": "python3"
  },
  "language_info": {
   "codemirror_mode": {
    "name": "ipython",
    "version": 3
   },
   "file_extension": ".py",
   "mimetype": "text/x-python",
   "name": "python",
   "nbconvert_exporter": "python",
   "pygments_lexer": "ipython3",
   "version": "3.7.3"
  }
 },
 "nbformat": 4,
 "nbformat_minor": 2
}

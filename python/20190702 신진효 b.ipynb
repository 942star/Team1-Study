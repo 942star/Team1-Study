{
 "cells": [
  {
   "cell_type": "code",
   "execution_count": 1,
   "metadata": {},
   "outputs": [],
   "source": [
    "import sys"
   ]
  },
  {
   "cell_type": "code",
   "execution_count": 2,
   "metadata": {},
   "outputs": [
    {
     "data": {
      "text/plain": [
       "['C:\\\\Users\\\\JINHYO\\\\1. My Training\\\\Korea Univ',\n",
       " 'C:\\\\Users\\\\JINHYO\\\\Anaconda3\\\\python37.zip',\n",
       " 'C:\\\\Users\\\\JINHYO\\\\Anaconda3\\\\DLLs',\n",
       " 'C:\\\\Users\\\\JINHYO\\\\Anaconda3\\\\lib',\n",
       " 'C:\\\\Users\\\\JINHYO\\\\Anaconda3',\n",
       " '',\n",
       " 'C:\\\\Users\\\\JINHYO\\\\Anaconda3\\\\lib\\\\site-packages',\n",
       " 'C:\\\\Users\\\\JINHYO\\\\Anaconda3\\\\lib\\\\site-packages\\\\win32',\n",
       " 'C:\\\\Users\\\\JINHYO\\\\Anaconda3\\\\lib\\\\site-packages\\\\win32\\\\lib',\n",
       " 'C:\\\\Users\\\\JINHYO\\\\Anaconda3\\\\lib\\\\site-packages\\\\Pythonwin',\n",
       " 'C:\\\\Users\\\\JINHYO\\\\Anaconda3\\\\lib\\\\site-packages\\\\IPython\\\\extensions',\n",
       " 'C:\\\\Users\\\\JINHYO\\\\.ipython']"
      ]
     },
     "execution_count": 2,
     "metadata": {},
     "output_type": "execute_result"
    }
   ],
   "source": [
    "sys.path\n",
    "\n",
    "# 제일 위에는 현재 작업 중인 폴더가 나올 것이다.\n",
    "# import할때 찾아볼 디렉토리 모음\n",
    "# list로 리턴되었다."
   ]
  },
  {
   "cell_type": "code",
   "execution_count": 3,
   "metadata": {},
   "outputs": [],
   "source": [
    "# 내가 만든 모듈 불러오기\n",
    "# .py로 저장하면 import로 불러올 수 있다.\n",
    "\n",
    "import moon"
   ]
  },
  {
   "cell_type": "code",
   "execution_count": 4,
   "metadata": {},
   "outputs": [
    {
     "data": {
      "text/plain": [
       "['__builtins__',\n",
       " '__cached__',\n",
       " '__doc__',\n",
       " '__file__',\n",
       " '__loader__',\n",
       " '__name__',\n",
       " '__package__',\n",
       " '__spec__',\n",
       " '_b',\n",
       " '_y',\n",
       " 'a',\n",
       " 'x']"
      ]
     },
     "execution_count": 4,
     "metadata": {},
     "output_type": "execute_result"
    }
   ],
   "source": [
    "dir(moon)"
   ]
  },
  {
   "cell_type": "code",
   "execution_count": 5,
   "metadata": {},
   "outputs": [
    {
     "data": {
      "text/plain": [
       "1"
      ]
     },
     "execution_count": 5,
     "metadata": {},
     "output_type": "execute_result"
    }
   ],
   "source": [
    "moon.a"
   ]
  },
  {
   "cell_type": "code",
   "execution_count": 6,
   "metadata": {},
   "outputs": [
    {
     "data": {
      "text/plain": [
       "2"
      ]
     },
     "execution_count": 6,
     "metadata": {},
     "output_type": "execute_result"
    }
   ],
   "source": [
    "moon._b"
   ]
  },
  {
   "cell_type": "code",
   "execution_count": 7,
   "metadata": {},
   "outputs": [
    {
     "name": "stdout",
     "output_type": "stream",
     "text": [
      "Variable   Type      Data/Info\n",
      "------------------------------\n",
      "moon       module    <module 'moon' from 'C:\\\\<...>ng\\\\Korea Univ\\\\moon.py'>\n",
      "sys        module    <module 'sys' (built-in)>\n"
     ]
    }
   ],
   "source": [
    "%whos\n",
    "\n",
    "# moon의 type은 모듈이다."
   ]
  },
  {
   "cell_type": "code",
   "execution_count": 8,
   "metadata": {},
   "outputs": [],
   "source": [
    "from moon import a"
   ]
  },
  {
   "cell_type": "code",
   "execution_count": 9,
   "metadata": {},
   "outputs": [
    {
     "data": {
      "text/plain": [
       "1"
      ]
     },
     "execution_count": 9,
     "metadata": {},
     "output_type": "execute_result"
    }
   ],
   "source": [
    "# moon 할 필요 없이 바로 a를 쓸수 있게 되었다.\n",
    "\n",
    "a"
   ]
  },
  {
   "cell_type": "code",
   "execution_count": 10,
   "metadata": {},
   "outputs": [
    {
     "name": "stdout",
     "output_type": "stream",
     "text": [
      "Variable   Type      Data/Info\n",
      "------------------------------\n",
      "a          int       1\n",
      "moon       module    <module 'moon' from 'C:\\\\<...>ng\\\\Korea Univ\\\\moon.py'>\n",
      "sys        module    <module 'sys' (built-in)>\n"
     ]
    }
   ],
   "source": [
    "%whos\n",
    "\n",
    "# name space에 a가 생겼다."
   ]
  },
  {
   "cell_type": "code",
   "execution_count": 11,
   "metadata": {},
   "outputs": [],
   "source": [
    "from moon import *"
   ]
  },
  {
   "cell_type": "code",
   "execution_count": 12,
   "metadata": {},
   "outputs": [
    {
     "name": "stdout",
     "output_type": "stream",
     "text": [
      "Variable   Type        Data/Info\n",
      "--------------------------------\n",
      "a          int         1\n",
      "moon       module      <module 'moon' from 'C:\\\\<...>ng\\\\Korea Univ\\\\moon.py'>\n",
      "sys        module      <module 'sys' (built-in)>\n",
      "x          function    <function x at 0x0000016F3C301268>\n"
     ]
    }
   ],
   "source": [
    "%whos\n",
    "\n",
    "# 이름에 _가 붙어있는 _b와 _y는 import안 되었다.\n",
    "# 이런 식으로 *를 사용할 수 있다.\n",
    "# 사용자가 보지 못하게 하는 "
   ]
  },
  {
   "cell_type": "code",
   "execution_count": 13,
   "metadata": {},
   "outputs": [
    {
     "ename": "TypeError",
     "evalue": "attribute name must be string, not 'int'",
     "output_type": "error",
     "traceback": [
      "\u001b[1;31m---------------------------------------------------------------------------\u001b[0m",
      "\u001b[1;31mTypeError\u001b[0m                                 Traceback (most recent call last)",
      "\u001b[1;32m<ipython-input-13-e7d7d21bf258>\u001b[0m in \u001b[0;36m<module>\u001b[1;34m\u001b[0m\n\u001b[1;32m----> 1\u001b[1;33m \u001b[1;32mfrom\u001b[0m \u001b[0mstar\u001b[0m \u001b[1;32mimport\u001b[0m \u001b[1;33m*\u001b[0m\u001b[1;33m\u001b[0m\u001b[1;33m\u001b[0m\u001b[0m\n\u001b[0m",
      "\u001b[1;31mTypeError\u001b[0m: attribute name must be string, not 'int'"
     ]
    }
   ],
   "source": [
    "from star import *\n",
    "\n",
    "# star에는 __all__이 str로 안되어 있어서 에러가 난다."
   ]
  },
  {
   "cell_type": "code",
   "execution_count": null,
   "metadata": {},
   "outputs": [],
   "source": [
    "# 다음 파일 참고"
   ]
  }
 ],
 "metadata": {
  "kernelspec": {
   "display_name": "Python 3",
   "language": "python",
   "name": "python3"
  },
  "language_info": {
   "codemirror_mode": {
    "name": "ipython",
    "version": 3
   },
   "file_extension": ".py",
   "mimetype": "text/x-python",
   "name": "python",
   "nbconvert_exporter": "python",
   "pygments_lexer": "ipython3",
   "version": "3.7.3"
  }
 },
 "nbformat": 4,
 "nbformat_minor": 2
}

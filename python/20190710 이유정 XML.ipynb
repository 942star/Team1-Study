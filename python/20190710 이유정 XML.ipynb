{
 "cells": [
  {
   "cell_type": "markdown",
   "metadata": {},
   "source": [
    "# XML"
   ]
  },
  {
   "cell_type": "code",
   "execution_count": 3,
   "metadata": {},
   "outputs": [],
   "source": [
    "import xml.etree.ElementTree as et"
   ]
  },
  {
   "cell_type": "code",
   "execution_count": 5,
   "metadata": {},
   "outputs": [],
   "source": [
    "from lxml import etree"
   ]
  },
  {
   "cell_type": "code",
   "execution_count": null,
   "metadata": {},
   "outputs": [],
   "source": []
  },
  {
   "cell_type": "code",
   "execution_count": 31,
   "metadata": {},
   "outputs": [],
   "source": [
    "bookStore = et.Element(\"bookstore\")\n",
    "\n",
    "book1 = et.Element(\"book\", category = \"cooking\")\n",
    "bookStore.insert(0, book1)\n",
    "\n",
    "title1 = et.Element(\"title\")\n",
    "title1.attrib[\"lang\"] = \"en\"\n",
    "title1.text = \"Everyday Italian\"\n",
    "book1.append(title1)\n",
    "\n",
    "et.SubElement(book1, \"author\").text = \"Giada De Laurentiis\"\n",
    "et.SubElement(book1, \"year\").text = \"2005\"\n",
    "et.SubElement(book1, \"pricer\").text = \"30.00\""
   ]
  },
  {
   "cell_type": "code",
   "execution_count": 33,
   "metadata": {},
   "outputs": [],
   "source": [
    "book2 = et.Element(\"book\", {\"category\" : \"children\"})\n",
    "bookStore.append(book2)\n",
    "\n",
    "title2 = et.Element(\"title\")\n",
    "title2.attrib[\"lang\"] = title1.get(\"lang\")\n",
    "title2.text = \"Harry Potter\"\n",
    "book2.append(title2)\n",
    "\n",
    "et.SubElement(book2, \"author\").text = \"Giada De Laurentiis\"\n",
    "et.SubElement(book2, \"year\").text = \"2005\"\n",
    "et.SubElement(book2, \"pricer\").text = \"30.00\""
   ]
  },
  {
   "cell_type": "code",
   "execution_count": 34,
   "metadata": {},
   "outputs": [
    {
     "name": "stdout",
     "output_type": "stream",
     "text": [
      "<bookstore><book category=\"cooking\"><title lang=\"en\">Everyday Italian</title><author>Giada De Laurentiis</author><year>2005</year><pricer>30.00</pricer></book><book category=\"children\"><title lang=\"en\">Harry Potter</title><author>Giada De Laurentiis</author><year>2005</year><pricer>30.00</pricer></book></bookstore>\n"
     ]
    }
   ],
   "source": [
    "et.dump(bookStore)"
   ]
  },
  {
   "cell_type": "code",
   "execution_count": null,
   "metadata": {},
   "outputs": [],
   "source": []
  },
  {
   "cell_type": "markdown",
   "metadata": {},
   "source": [
    "Parsing"
   ]
  },
  {
   "cell_type": "code",
   "execution_count": 35,
   "metadata": {},
   "outputs": [],
   "source": [
    "root = et.fromstring(et.tostring(bookStore))"
   ]
  },
  {
   "cell_type": "code",
   "execution_count": 36,
   "metadata": {},
   "outputs": [
    {
     "data": {
      "text/plain": [
       "NoneType"
      ]
     },
     "execution_count": 36,
     "metadata": {},
     "output_type": "execute_result"
    }
   ],
   "source": [
    "type(book)"
   ]
  },
  {
   "cell_type": "code",
   "execution_count": 37,
   "metadata": {},
   "outputs": [
    {
     "name": "stdout",
     "output_type": "stream",
     "text": [
      "book cooking\n"
     ]
    }
   ],
   "source": [
    "book = root.find(\"book\")\n",
    "print(book.tag, book.get(\"category\"))"
   ]
  },
  {
   "cell_type": "code",
   "execution_count": 39,
   "metadata": {},
   "outputs": [
    {
     "name": "stdout",
     "output_type": "stream",
     "text": [
      "title None\n",
      "author None\n",
      "year None\n",
      "pricer None\n"
     ]
    }
   ],
   "source": [
    "bookList = root.find(\"book\")\n",
    "for book in bookList:\n",
    "    print(book.tag, book.get(\"category\"))"
   ]
  },
  {
   "cell_type": "code",
   "execution_count": 40,
   "metadata": {},
   "outputs": [
    {
     "name": "stdout",
     "output_type": "stream",
     "text": [
      "<class 'xml.etree.ElementTree.Element'> Everyday Italian\n"
     ]
    }
   ],
   "source": [
    "title = root.find(\".//title\")\n",
    "print(type(title), title.text)"
   ]
  },
  {
   "cell_type": "code",
   "execution_count": 41,
   "metadata": {},
   "outputs": [
    {
     "name": "stdout",
     "output_type": "stream",
     "text": [
      "['Everyday Italian', 'Harry Potter']\n"
     ]
    }
   ],
   "source": [
    "titleList = root.findall(\".//title\")\n",
    "print([title.text for title in titleList])"
   ]
  },
  {
   "cell_type": "code",
   "execution_count": 42,
   "metadata": {},
   "outputs": [
    {
     "name": "stdout",
     "output_type": "stream",
     "text": [
      "<class 'str'> Everyday Italian\n"
     ]
    }
   ],
   "source": [
    "title = root.findtext(\".//title\")\n",
    "print(type(title), title)"
   ]
  },
  {
   "cell_type": "code",
   "execution_count": 43,
   "metadata": {},
   "outputs": [
    {
     "name": "stdout",
     "output_type": "stream",
     "text": [
      "<Element 'book' at 0x000001EB1C696DB8> book\n"
     ]
    }
   ],
   "source": [
    "book = root.find(\".//book[@category = 'children']\")\n",
    "print(book, book.tag)"
   ]
  },
  {
   "cell_type": "code",
   "execution_count": null,
   "metadata": {},
   "outputs": [],
   "source": []
  },
  {
   "cell_type": "code",
   "execution_count": 45,
   "metadata": {},
   "outputs": [],
   "source": [
    "from xml.etree.ElementTree import ElementTree\n",
    "\n",
    "tree = ElementTree(root)\n",
    "tree.write(\"book_xml.xml\", encoding = \"utf-8\", xml_declaration = \"utf-8\")"
   ]
  },
  {
   "cell_type": "code",
   "execution_count": 47,
   "metadata": {},
   "outputs": [
    {
     "name": "stdout",
     "output_type": "stream",
     "text": [
      "bookstore None\n",
      "book None\n",
      "title Everyday Italian\n",
      "author Giada De Laurentiis\n",
      "year 2005\n",
      "pricer 30.00\n",
      "book None\n",
      "title Harry Potter\n",
      "author Giada De Laurentiis\n",
      "year 2005\n",
      "pricer 30.00\n"
     ]
    }
   ],
   "source": [
    "from xml.etree.ElementTree import parse\n",
    "\n",
    "tree = parse(\"book_xml.xml\")\n",
    "root = tree.getroot()\n",
    "\n",
    "for node in root.iter():\n",
    "    print(node.tag, node.text)"
   ]
  },
  {
   "cell_type": "code",
   "execution_count": 49,
   "metadata": {},
   "outputs": [
    {
     "name": "stdout",
     "output_type": "stream",
     "text": [
      "bookstore None\n",
      "book None\n",
      "title Everyday Italian\n",
      "author Giada De Laurentiis\n",
      "year 2005\n",
      "pricer 30.00\n",
      "book None\n",
      "title Harry Potter\n",
      "author Giada De Laurentiis\n",
      "year 2005\n",
      "pricer 30.00\n"
     ]
    }
   ],
   "source": [
    "tree = ElementTree(file = \"book_xml.xml\")\n",
    "root = tree.getroot()\n",
    "\n",
    "for node in root.iter():\n",
    "    print(node.tag, node.text)"
   ]
  },
  {
   "cell_type": "code",
   "execution_count": null,
   "metadata": {},
   "outputs": [],
   "source": []
  },
  {
   "cell_type": "markdown",
   "metadata": {},
   "source": [
    "# lxml "
   ]
  },
  {
   "cell_type": "code",
   "execution_count": 51,
   "metadata": {},
   "outputs": [
    {
     "name": "stdout",
     "output_type": "stream",
     "text": [
      "4\n",
      "<class 'bytes'> <class 'str'>\n",
      "<bookstore>\n",
      "  <book category=\"cooking\">\n",
      "    <title lang=\"en\">Everyday Italian</title>\n",
      "    <author>Giada De Laurentiis</author>\n",
      "    <year>2005</year>\n",
      "    <pricer>30.00</pricer>\n",
      "  </book>\n",
      "  <book category=\"children\">\n",
      "    <title lang=\"en\">Harry Potter</title>\n",
      "    <author>Giada De Laurentiis</author>\n",
      "    <year>2005</year>\n",
      "    <price>30.00</price>\n",
      "  </book>\n",
      "</bookstore>\n"
     ]
    }
   ],
   "source": [
    "bookStore = etree.Element(\"bookstore\")\n",
    "\n",
    "book1 = etree.SubElement(bookStore, \"book\")\n",
    "book2 = etree.SubElement(bookStore, \"book\", attrib = {\"category\":\"children\"})\n",
    "\n",
    "book1.attrib[\"category\"] = \"cooking\"\n",
    "\n",
    "title1 = etree.Element(\"title\", lang = \"en\")\n",
    "title1.text = \"Everyday Italian\"\n",
    "book1.append(title1)\n",
    "\n",
    "etree.SubElement(book1, \"author\").text = \"Giada De Laurentiis\"\n",
    "etree.SubElement(book1, \"year\").text = \"2005\"\n",
    "etree.SubElement(book1, \"pricer\").text = \"30.00\"\n",
    "\n",
    "title2 = etree.Element(\"title\")\n",
    "title2.set(\"lang\", title1.get(\"lang\"))\n",
    "title2.text = \"Harry Potter\"\n",
    "book2.append(title2)\n",
    "\n",
    "etree.SubElement(book2, \"author\").text = \"Giada De Laurentiis\"\n",
    "etree.SubElement(book2, \"year\").text = \"2005\"\n",
    "book2.insert(3, etree.Element(\"price\"))\n",
    "\n",
    "print(len(book2))\n",
    "book2[-1].text = \"30.00\"\n",
    "\n",
    "xmlBytes = etree.tostring(bookStore, encoding = \"utf-8\", pretty_print = True, xml_declaration = True)\n",
    "xmlStr = etree.tounicode(bookStore, pretty_print = True)\n",
    "print(type(xmlBytes), type(xmlStr))\n",
    "etree.dump(bookStore)"
   ]
  },
  {
   "cell_type": "code",
   "execution_count": 53,
   "metadata": {},
   "outputs": [
    {
     "name": "stdout",
     "output_type": "stream",
     "text": [
      "1.0\n",
      "UTF-8\n",
      "\n",
      "bookstore\n",
      "2\n",
      "book {'category': 'cooking'}\n",
      "book {'category': 'children'}\n"
     ]
    }
   ],
   "source": [
    "xml = etree.XML(etree.tostring(bookStore))\n",
    "xmlTree = etree.ElementTree(xml)\n",
    "xmlRoot = xmlTree.getroot()\n",
    "\n",
    "print(xmlTree.docinfo.xml_version)\n",
    "print(xmlTree.docinfo.encoding)\n",
    "print(xmlTree.docinfo.doctype)\n",
    "print(xmlTree.docinfo.root_name)\n",
    "\n",
    "print(len(xmlRoot))\n",
    "for childNode in xmlRoot:\n",
    "    print(childNode.tag, childNode.attrib)"
   ]
  },
  {
   "cell_type": "code",
   "execution_count": 55,
   "metadata": {},
   "outputs": [
    {
     "name": "stdout",
     "output_type": "stream",
     "text": [
      "<class 'lxml.etree._Element'> Everyday Italian\n"
     ]
    }
   ],
   "source": [
    "title = xmlRoot.find(\".//title\")\n",
    "print(type(title), title.text)"
   ]
  },
  {
   "cell_type": "code",
   "execution_count": 56,
   "metadata": {},
   "outputs": [
    {
     "name": "stdout",
     "output_type": "stream",
     "text": [
      "['Everyday Italian', 'Harry Potter']\n"
     ]
    }
   ],
   "source": [
    "titleList = xmlRoot.findall(\".//title\")\n",
    "print([title.text for title in titleList])"
   ]
  },
  {
   "cell_type": "code",
   "execution_count": 57,
   "metadata": {},
   "outputs": [
    {
     "name": "stdout",
     "output_type": "stream",
     "text": [
      "<class 'str'> Everyday Italian\n"
     ]
    }
   ],
   "source": [
    "title = xmlRoot.findtext(\".//title\")\n",
    "print(type(title), title)"
   ]
  },
  {
   "cell_type": "code",
   "execution_count": 58,
   "metadata": {},
   "outputs": [
    {
     "name": "stdout",
     "output_type": "stream",
     "text": [
      "<Element book at 0x1eb1c65a848> book\n"
     ]
    }
   ],
   "source": [
    "book = xmlRoot.find(\".//book[@category = 'children']\")\n",
    "print(book, book.tag)"
   ]
  },
  {
   "cell_type": "code",
   "execution_count": null,
   "metadata": {},
   "outputs": [],
   "source": []
  },
  {
   "cell_type": "code",
   "execution_count": null,
   "metadata": {},
   "outputs": [],
   "source": []
  },
  {
   "cell_type": "code",
   "execution_count": null,
   "metadata": {},
   "outputs": [],
   "source": []
  },
  {
   "cell_type": "code",
   "execution_count": 118,
   "metadata": {},
   "outputs": [],
   "source": [
    "import urllib\n",
    "import xml"
   ]
  },
  {
   "cell_type": "code",
   "execution_count": 119,
   "metadata": {},
   "outputs": [],
   "source": [
    "url = \"http://openapi.airkorea.or.kr/openapi/services/rest/ArpltnInforInqireSvc/getCtprvnRltmMesureDnsty\"\n",
    "\n",
    "params = {\n",
    "    \"serviceKey\":\"MOiHJUIkHVrIoLVw9SpEA%2BxSOFp%2FqvpS9SiV3wRfNTJ9Rgv7azGbY7miXPVGxJDuswJDDxPpu1Vn3wtD7VsSmw%3D%3D\",\n",
    "    \"numOfRows\": 10,\n",
    "    \"pageNo\": 1,\n",
    "    \"sidoName\": \"서울\",\n",
    "    \"dataTerm\": \"DAILY\",\n",
    "    \"ver\": 1.3\n",
    "         }"
   ]
  },
  {
   "cell_type": "code",
   "execution_count": 120,
   "metadata": {},
   "outputs": [
    {
     "name": "stdout",
     "output_type": "stream",
     "text": [
      "{'serviceKey': 'MOiHJUIkHVrIoLVw9SpEA+xSOFp/qvpS9SiV3wRfNTJ9Rgv7azGbY7miXPVGxJDuswJDDxPpu1Vn3wtD7VsSmw==', 'numOfRows': 10, 'pageNo': 1, 'sidoName': '서울', 'dataTerm': 'DAILY', 'ver': 1.3}\n"
     ]
    },
    {
     "data": {
      "text/plain": [
       "dict"
      ]
     },
     "execution_count": 120,
     "metadata": {},
     "output_type": "execute_result"
    }
   ],
   "source": [
    "params[\"serviceKey\"] = urllib.parse.unquote(params[\"serviceKey\"])\n",
    "print(params);type(params)"
   ]
  },
  {
   "cell_type": "code",
   "execution_count": 121,
   "metadata": {},
   "outputs": [
    {
     "name": "stdout",
     "output_type": "stream",
     "text": [
      "serviceKey=MOiHJUIkHVrIoLVw9SpEA%2BxSOFp%2FqvpS9SiV3wRfNTJ9Rgv7azGbY7miXPVGxJDuswJDDxPpu1Vn3wtD7VsSmw%3D%3D&numOfRows=10&pageNo=1&sidoName=%EC%84%9C%EC%9A%B8&dataTerm=DAILY&ver=1.3\n"
     ]
    },
    {
     "data": {
      "text/plain": [
       "str"
      ]
     },
     "execution_count": 121,
     "metadata": {},
     "output_type": "execute_result"
    }
   ],
   "source": [
    "params = urllib.parse.urlencode(params)\n",
    "print(params);type(params)"
   ]
  },
  {
   "cell_type": "code",
   "execution_count": 122,
   "metadata": {},
   "outputs": [
    {
     "name": "stdout",
     "output_type": "stream",
     "text": [
      "b'serviceKey=MOiHJUIkHVrIoLVw9SpEA%2BxSOFp%2FqvpS9SiV3wRfNTJ9Rgv7azGbY7miXPVGxJDuswJDDxPpu1Vn3wtD7VsSmw%3D%3D&numOfRows=10&pageNo=1&sidoName=%EC%84%9C%EC%9A%B8&dataTerm=DAILY&ver=1.3'\n"
     ]
    },
    {
     "data": {
      "text/plain": [
       "bytes"
      ]
     },
     "execution_count": 122,
     "metadata": {},
     "output_type": "execute_result"
    }
   ],
   "source": [
    "params = params.encode(\"utf-8\")\n",
    "print(params);type(params)"
   ]
  },
  {
   "cell_type": "code",
   "execution_count": 123,
   "metadata": {},
   "outputs": [],
   "source": [
    "req = urllib.request.Request(url, data=params)\n",
    "res = urllib.request.urlopen(req)"
   ]
  },
  {
   "cell_type": "code",
   "execution_count": 124,
   "metadata": {},
   "outputs": [],
   "source": [
    "resByte = res.read()"
   ]
  },
  {
   "cell_type": "code",
   "execution_count": 132,
   "metadata": {},
   "outputs": [
    {
     "data": {
      "text/plain": [
       "lxml.etree._Element"
      ]
     },
     "execution_count": 132,
     "metadata": {},
     "output_type": "execute_result"
    }
   ],
   "source": [
    "xmlObj = etree.fromstring(resByte)\n",
    "type(xmlObj)"
   ]
  },
  {
   "cell_type": "code",
   "execution_count": 134,
   "metadata": {
    "scrolled": true
   },
   "outputs": [
    {
     "name": "stdout",
     "output_type": "stream",
     "text": [
      "<Element response at 0x1eb1c6ae9c8>\n"
     ]
    }
   ],
   "source": [
    "xmlRoot = etree.ElementTree(xmlObj).getroot()\n",
    "type(xmlRoot)\n"
   ]
  },
  {
   "cell_type": "code",
   "execution_count": 127,
   "metadata": {},
   "outputs": [
    {
     "name": "stdout",
     "output_type": "stream",
     "text": [
      "<response>\n",
      "\t<header>\n",
      "\t\t<resultCode>00</resultCode>\n",
      "\t\t<resultMsg>NORMAL SERVICE.</resultMsg>\n",
      "\t</header>\n",
      "\t<body>\n",
      "\t\t<items>\n",
      "\t\t\t\n",
      "\t\t\t\t<item>\n",
      "\t\t\t\t\t<stationName>중구</stationName>\n",
      "\t\t\t\t\t\n",
      "                        <mangName>도시대기</mangName>\n",
      "                    \n",
      "\t\t\t\t\t<dataTime>2019-07-10 16:00</dataTime>\n",
      "\t\t\t\t\t<so2Value>0.002</so2Value>\n",
      "\t\t\t\t\t<coValue>0.3</coValue>\n",
      "\t\t\t\t\t<o3Value>0.029</o3Value>\n",
      "\t\t\t\t\t<no2Value>0.021</no2Value>\n",
      "\t\t\t\t\t<pm10Value>11</pm10Value>\n",
      "\t\t\t\t\t\n",
      "                        <pm10Value24>10</pm10Value24>\n",
      "                    \n",
      "\t\t\t\t\t\n",
      "\t\t\t\t        <pm25Value>6</pm25Value>\n",
      "\t\t\t\t    \n",
      "\t\t\t\t    \n",
      "                        <pm25Value24>6</pm25Value24>\n",
      "                    \n",
      "\t\t\t\t\t<khaiValue>48</khaiValue>\n",
      "\t\t\t\t\t<khaiGrade>1</khaiGrade>\n",
      "\t\t\t\t\t<so2Grade>1</so2Grade>\n",
      "\t\t\t\t\t<coGrade>1</coGrade>\n",
      "\t\t\t\t\t<o3Grade>1</o3Grade>\n",
      "\t\t\t\t\t<no2Grade>1</no2Grade>\n",
      "\t\t\t\t\t<pm10Grade>1</pm10Grade>\n",
      "\t\t\t\t\t\n",
      "\t\t\t\t        <pm25Grade>1</pm25Grade>\n",
      "\t\t\t\t    \n",
      "\t\t\t\t    \n",
      "                        <pm10Grade1h>1</pm10Grade1h>\n",
      "                        <pm25Grade1h>1</pm25Grade1h>\n",
      "                    \n",
      "\t\t\t\t</item>\n",
      "\t\t\t\n",
      "\t\t\t\t<item>\n",
      "\t\t\t\t\t<stationName>한강대로</stationName>\n",
      "\t\t\t\t\t\n",
      "                        <mangName>도로변대기</mangName>\n",
      "                    \n",
      "\t\t\t\t\t<dataTime>2019-07-10 16:00</dataTime>\n",
      "\t\t\t\t\t<so2Value>0.003</so2Value>\n",
      "\t\t\t\t\t<coValue>0.3</coValue>\n",
      "\t\t\t\t\t<o3Value>0.018</o3Value>\n",
      "\t\t\t\t\t<no2Value>0.026</no2Value>\n",
      "\t\t\t\t\t<pm10Value>17</pm10Value>\n",
      "\t\t\t\t\t\n",
      "                        <pm10Value24>21</pm10Value24>\n",
      "                    \n",
      "\t\t\t\t\t\n",
      "\t\t\t\t        <pm25Value>5</pm25Value>\n",
      "\t\t\t\t    \n",
      "\t\t\t\t    \n",
      "                        <pm25Value24>7</pm25Value24>\n",
      "                    \n",
      "\t\t\t\t\t<khaiValue>43</khaiValue>\n",
      "\t\t\t\t\t<khaiGrade>1</khaiGrade>\n",
      "\t\t\t\t\t<so2Grade>1</so2Grade>\n",
      "\t\t\t\t\t<coGrade>1</coGrade>\n",
      "\t\t\t\t\t<o3Grade>1</o3Grade>\n",
      "\t\t\t\t\t<no2Grade>1</no2Grade>\n",
      "\t\t\t\t\t<pm10Grade>1</pm10Grade>\n",
      "\t\t\t\t\t\n",
      "\t\t\t\t        <pm25Grade>1</pm25Grade>\n",
      "\t\t\t\t    \n",
      "\t\t\t\t    \n",
      "                        <pm10Grade1h>1</pm10Grade1h>\n",
      "                        <pm25Grade1h>1</pm25Grade1h>\n",
      "                    \n",
      "\t\t\t\t</item>\n",
      "\t\t\t\n",
      "\t\t\t\t<item>\n",
      "\t\t\t\t\t<stationName>종로구</stationName>\n",
      "\t\t\t\t\t\n",
      "                        <mangName>도시대기</mangName>\n",
      "                    \n",
      "\t\t\t\t\t<dataTime>2019-07-10 16:00</dataTime>\n",
      "\t\t\t\t\t<so2Value>0.003</so2Value>\n",
      "\t\t\t\t\t<coValue>0.4</coValue>\n",
      "\t\t\t\t\t<o3Value>0.027</o3Value>\n",
      "\t\t\t\t\t<no2Value>0.012</no2Value>\n",
      "\t\t\t\t\t<pm10Value>12</pm10Value>\n",
      "\t\t\t\t\t\n",
      "                        <pm10Value24>12</pm10Value24>\n",
      "                    \n",
      "\t\t\t\t\t\n",
      "\t\t\t\t        <pm25Value>6</pm25Value>\n",
      "\t\t\t\t    \n",
      "\t\t\t\t    \n",
      "                        <pm25Value24>6</pm25Value24>\n",
      "                    \n",
      "\t\t\t\t\t<khaiValue>45</khaiValue>\n",
      "\t\t\t\t\t<khaiGrade>1</khaiGrade>\n",
      "\t\t\t\t\t<so2Grade>1</so2Grade>\n",
      "\t\t\t\t\t<coGrade>1</coGrade>\n",
      "\t\t\t\t\t<o3Grade>1</o3Grade>\n",
      "\t\t\t\t\t<no2Grade>1</no2Grade>\n",
      "\t\t\t\t\t<pm10Grade>1</pm10Grade>\n",
      "\t\t\t\t\t\n",
      "\t\t\t\t        <pm25Grade>1</pm25Grade>\n",
      "\t\t\t\t    \n",
      "\t\t\t\t    \n",
      "                        <pm10Grade1h>1</pm10Grade1h>\n",
      "                        <pm25Grade1h>1</pm25Grade1h>\n",
      "                    \n",
      "\t\t\t\t</item>\n",
      "\t\t\t\n",
      "\t\t\t\t<item>\n",
      "\t\t\t\t\t<stationName>청계천로</stationName>\n",
      "\t\t\t\t\t\n",
      "                        <mangName>도로변대기</mangName>\n",
      "                    \n",
      "\t\t\t\t\t<dataTime>2019-07-10 16:00</dataTime>\n",
      "\t\t\t\t\t<so2Value>0.003</so2Value>\n",
      "\t\t\t\t\t<coValue>0.6</coValue>\n",
      "\t\t\t\t\t<o3Value>0.026</o3Value>\n",
      "\t\t\t\t\t<no2Value>0.023</no2Value>\n",
      "\t\t\t\t\t<pm10Value>14</pm10Value>\n",
      "\t\t\t\t\t\n",
      "                        <pm10Value24>14</pm10Value24>\n",
      "                    \n",
      "\t\t\t\t\t\n",
      "\t\t\t\t        <pm25Value>7</pm25Value>\n",
      "\t\t\t\t    \n",
      "\t\t\t\t    \n",
      "                        <pm25Value24>9</pm25Value24>\n",
      "                    \n",
      "\t\t\t\t\t<khaiValue>43</khaiValue>\n",
      "\t\t\t\t\t<khaiGrade>1</khaiGrade>\n",
      "\t\t\t\t\t<so2Grade>1</so2Grade>\n",
      "\t\t\t\t\t<coGrade>1</coGrade>\n",
      "\t\t\t\t\t<o3Grade>1</o3Grade>\n",
      "\t\t\t\t\t<no2Grade>1</no2Grade>\n",
      "\t\t\t\t\t<pm10Grade>1</pm10Grade>\n",
      "\t\t\t\t\t\n",
      "\t\t\t\t        <pm25Grade>1</pm25Grade>\n",
      "\t\t\t\t    \n",
      "\t\t\t\t    \n",
      "                        <pm10Grade1h>1</pm10Grade1h>\n",
      "                        <pm25Grade1h>1</pm25Grade1h>\n",
      "                    \n",
      "\t\t\t\t</item>\n",
      "\t\t\t\n",
      "\t\t\t\t<item>\n",
      "\t\t\t\t\t<stationName>종로</stationName>\n",
      "\t\t\t\t\t\n",
      "                        <mangName>도로변대기</mangName>\n",
      "                    \n",
      "\t\t\t\t\t<dataTime>2019-07-10 16:00</dataTime>\n",
      "\t\t\t\t\t<so2Value>0.003</so2Value>\n",
      "\t\t\t\t\t<coValue>0.5</coValue>\n",
      "\t\t\t\t\t<o3Value>0.018</o3Value>\n",
      "\t\t\t\t\t<no2Value>0.033</no2Value>\n",
      "\t\t\t\t\t<pm10Value>12</pm10Value>\n",
      "\t\t\t\t\t\n",
      "                        <pm10Value24>13</pm10Value24>\n",
      "                    \n",
      "\t\t\t\t\t\n",
      "\t\t\t\t        <pm25Value>5</pm25Value>\n",
      "\t\t\t\t    \n",
      "\t\t\t\t    \n",
      "                        <pm25Value24>4</pm25Value24>\n",
      "                    \n",
      "\t\t\t\t\t<khaiValue>54</khaiValue>\n",
      "\t\t\t\t\t<khaiGrade>2</khaiGrade>\n",
      "\t\t\t\t\t<so2Grade>1</so2Grade>\n",
      "\t\t\t\t\t<coGrade>1</coGrade>\n",
      "\t\t\t\t\t<o3Grade>1</o3Grade>\n",
      "\t\t\t\t\t<no2Grade>2</no2Grade>\n",
      "\t\t\t\t\t<pm10Grade>1</pm10Grade>\n",
      "\t\t\t\t\t\n",
      "\t\t\t\t        <pm25Grade>1</pm25Grade>\n",
      "\t\t\t\t    \n",
      "\t\t\t\t    \n",
      "                        <pm10Grade1h>1</pm10Grade1h>\n",
      "                        <pm25Grade1h>1</pm25Grade1h>\n",
      "                    \n",
      "\t\t\t\t</item>\n",
      "\t\t\t\n",
      "\t\t\t\t<item>\n",
      "\t\t\t\t\t<stationName>용산구</stationName>\n",
      "\t\t\t\t\t\n",
      "                        <mangName>도시대기</mangName>\n",
      "                    \n",
      "\t\t\t\t\t<dataTime>2019-07-10 16:00</dataTime>\n",
      "\t\t\t\t\t<so2Value>-</so2Value>\n",
      "\t\t\t\t\t<coValue>0.2</coValue>\n",
      "\t\t\t\t\t<o3Value>0.037</o3Value>\n",
      "\t\t\t\t\t<no2Value>0.006</no2Value>\n",
      "\t\t\t\t\t<pm10Value>7</pm10Value>\n",
      "\t\t\t\t\t\n",
      "                        <pm10Value24>6</pm10Value24>\n",
      "                    \n",
      "\t\t\t\t\t\n",
      "\t\t\t\t        <pm25Value>6</pm25Value>\n",
      "\t\t\t\t    \n",
      "\t\t\t\t    \n",
      "                        <pm25Value24>4</pm25Value24>\n",
      "                    \n",
      "\t\t\t\t\t<khaiValue>56</khaiValue>\n",
      "\t\t\t\t\t<khaiGrade>2</khaiGrade>\n",
      "\t\t\t\t\t<so2Grade/>\n",
      "\t\t\t\t\t<coGrade>1</coGrade>\n",
      "\t\t\t\t\t<o3Grade>2</o3Grade>\n",
      "\t\t\t\t\t<no2Grade>1</no2Grade>\n",
      "\t\t\t\t\t<pm10Grade>1</pm10Grade>\n",
      "\t\t\t\t\t\n",
      "\t\t\t\t        <pm25Grade>1</pm25Grade>\n",
      "\t\t\t\t    \n",
      "\t\t\t\t    \n",
      "                        <pm10Grade1h>1</pm10Grade1h>\n",
      "                        <pm25Grade1h>1</pm25Grade1h>\n",
      "                    \n",
      "\t\t\t\t</item>\n",
      "\t\t\t\n",
      "\t\t\t\t<item>\n",
      "\t\t\t\t\t<stationName>광진구</stationName>\n",
      "\t\t\t\t\t\n",
      "                        <mangName>도시대기</mangName>\n",
      "                    \n",
      "\t\t\t\t\t<dataTime>2019-07-10 16:00</dataTime>\n",
      "\t\t\t\t\t<so2Value>0.003</so2Value>\n",
      "\t\t\t\t\t<coValue>0.4</coValue>\n",
      "\t\t\t\t\t<o3Value>0.026</o3Value>\n",
      "\t\t\t\t\t<no2Value>0.012</no2Value>\n",
      "\t\t\t\t\t<pm10Value>9</pm10Value>\n",
      "\t\t\t\t\t\n",
      "                        <pm10Value24>-</pm10Value24>\n",
      "                    \n",
      "\t\t\t\t\t\n",
      "\t\t\t\t        <pm25Value>-</pm25Value>\n",
      "\t\t\t\t    \n",
      "\t\t\t\t    \n",
      "                        <pm25Value24>9</pm25Value24>\n",
      "                    \n",
      "\t\t\t\t\t<khaiValue>-</khaiValue>\n",
      "\t\t\t\t\t<khaiGrade/>\n",
      "\t\t\t\t\t<so2Grade>1</so2Grade>\n",
      "\t\t\t\t\t<coGrade>1</coGrade>\n",
      "\t\t\t\t\t<o3Grade>1</o3Grade>\n",
      "\t\t\t\t\t<no2Grade>1</no2Grade>\n",
      "\t\t\t\t\t<pm10Grade/>\n",
      "\t\t\t\t\t\n",
      "\t\t\t\t        <pm25Grade>1</pm25Grade>\n",
      "\t\t\t\t    \n",
      "\t\t\t\t    \n",
      "                        <pm10Grade1h>1</pm10Grade1h>\n",
      "                        <pm25Grade1h/>\n",
      "                    \n",
      "\t\t\t\t</item>\n",
      "\t\t\t\n",
      "\t\t\t\t<item>\n",
      "\t\t\t\t\t<stationName>성동구</stationName>\n",
      "\t\t\t\t\t\n",
      "                        <mangName>도시대기</mangName>\n",
      "                    \n",
      "\t\t\t\t\t<dataTime>2019-07-10 16:00</dataTime>\n",
      "\t\t\t\t\t<so2Value>0.003</so2Value>\n",
      "\t\t\t\t\t<coValue>0.2</coValue>\n",
      "\t\t\t\t\t<o3Value>0.036</o3Value>\n",
      "\t\t\t\t\t<no2Value>0.010</no2Value>\n",
      "\t\t\t\t\t<pm10Value>15</pm10Value>\n",
      "\t\t\t\t\t\n",
      "                        <pm10Value24>18</pm10Value24>\n",
      "                    \n",
      "\t\t\t\t\t\n",
      "\t\t\t\t        <pm25Value>5</pm25Value>\n",
      "\t\t\t\t    \n",
      "\t\t\t\t    \n",
      "                        <pm25Value24>7</pm25Value24>\n",
      "                    \n",
      "\t\t\t\t\t<khaiValue>55</khaiValue>\n",
      "\t\t\t\t\t<khaiGrade>2</khaiGrade>\n",
      "\t\t\t\t\t<so2Grade>1</so2Grade>\n",
      "\t\t\t\t\t<coGrade>1</coGrade>\n",
      "\t\t\t\t\t<o3Grade>2</o3Grade>\n",
      "\t\t\t\t\t<no2Grade>1</no2Grade>\n",
      "\t\t\t\t\t<pm10Grade>1</pm10Grade>\n",
      "\t\t\t\t\t\n",
      "\t\t\t\t        <pm25Grade>1</pm25Grade>\n",
      "\t\t\t\t    \n",
      "\t\t\t\t    \n",
      "                        <pm10Grade1h>1</pm10Grade1h>\n",
      "                        <pm25Grade1h>1</pm25Grade1h>\n",
      "                    \n",
      "\t\t\t\t</item>\n",
      "\t\t\t\n",
      "\t\t\t\t<item>\n",
      "\t\t\t\t\t<stationName>강변북로</stationName>\n",
      "\t\t\t\t\t\n",
      "                        <mangName>도로변대기</mangName>\n",
      "                    \n",
      "\t\t\t\t\t<dataTime>2019-07-10 16:00</dataTime>\n",
      "\t\t\t\t\t<so2Value>-</so2Value>\n",
      "\t\t\t\t\t<coValue>-</coValue>\n",
      "\t\t\t\t\t<o3Value>-</o3Value>\n",
      "\t\t\t\t\t<no2Value>-</no2Value>\n",
      "\t\t\t\t\t<pm10Value>9</pm10Value>\n",
      "\t\t\t\t\t\n",
      "                        <pm10Value24>8</pm10Value24>\n",
      "                    \n",
      "\t\t\t\t\t\n",
      "\t\t\t\t        <pm25Value>3</pm25Value>\n",
      "\t\t\t\t    \n",
      "\t\t\t\t    \n",
      "                        <pm25Value24>3</pm25Value24>\n",
      "                    \n",
      "\t\t\t\t\t<khaiValue>-</khaiValue>\n",
      "\t\t\t\t\t<khaiGrade/>\n",
      "\t\t\t\t\t<so2Grade/>\n",
      "\t\t\t\t\t<coGrade/>\n",
      "\t\t\t\t\t<o3Grade/>\n",
      "\t\t\t\t\t<no2Grade/>\n",
      "\t\t\t\t\t<pm10Grade>1</pm10Grade>\n",
      "\t\t\t\t\t\n",
      "\t\t\t\t        <pm25Grade>1</pm25Grade>\n",
      "\t\t\t\t    \n",
      "\t\t\t\t    \n",
      "                        <pm10Grade1h>1</pm10Grade1h>\n",
      "                        <pm25Grade1h>1</pm25Grade1h>\n",
      "                    \n",
      "\t\t\t\t</item>\n",
      "\t\t\t\n",
      "\t\t\t\t<item>\n",
      "\t\t\t\t\t<stationName>중랑구</stationName>\n",
      "\t\t\t\t\t\n",
      "                        <mangName>도시대기</mangName>\n",
      "                    \n",
      "\t\t\t\t\t<dataTime>2019-07-10 16:00</dataTime>\n",
      "\t\t\t\t\t<so2Value>0.005</so2Value>\n",
      "\t\t\t\t\t<coValue>0.2</coValue>\n",
      "\t\t\t\t\t<o3Value>0.034</o3Value>\n",
      "\t\t\t\t\t<no2Value>0.008</no2Value>\n",
      "\t\t\t\t\t<pm10Value>9</pm10Value>\n",
      "\t\t\t\t\t\n",
      "                        <pm10Value24>8</pm10Value24>\n",
      "                    \n",
      "\t\t\t\t\t\n",
      "\t\t\t\t        <pm25Value>6</pm25Value>\n",
      "\t\t\t\t    \n",
      "\t\t\t\t    \n",
      "                        <pm25Value24>6</pm25Value24>\n",
      "                    \n",
      "\t\t\t\t\t<khaiValue>53</khaiValue>\n",
      "\t\t\t\t\t<khaiGrade>2</khaiGrade>\n",
      "\t\t\t\t\t<so2Grade>1</so2Grade>\n",
      "\t\t\t\t\t<coGrade>1</coGrade>\n",
      "\t\t\t\t\t<o3Grade>2</o3Grade>\n",
      "\t\t\t\t\t<no2Grade>1</no2Grade>\n",
      "\t\t\t\t\t<pm10Grade>1</pm10Grade>\n",
      "\t\t\t\t\t\n",
      "\t\t\t\t        <pm25Grade>1</pm25Grade>\n",
      "\t\t\t\t    \n",
      "\t\t\t\t    \n",
      "                        <pm10Grade1h>1</pm10Grade1h>\n",
      "                        <pm25Grade1h>1</pm25Grade1h>\n",
      "                    \n",
      "\t\t\t\t</item>\n",
      "\t\t\t\n",
      "\t\t</items>\n",
      "\t\t\t<numOfRows>10</numOfRows>\n",
      "\t\t\t<pageNo>1</pageNo>\n",
      "\t\t\t<totalCount>40</totalCount>\n",
      "\t</body>\n",
      "</response>\n"
     ]
    }
   ],
   "source": [
    "etree.dump(xmlRoot)"
   ]
  },
  {
   "cell_type": "code",
   "execution_count": 128,
   "metadata": {},
   "outputs": [
    {
     "name": "stdout",
     "output_type": "stream",
     "text": [
      "response \n",
      "\t\n",
      "header \n",
      "\t\t\n",
      "resultCode 00\n",
      "resultMsg NORMAL SERVICE.\n",
      "body \n",
      "\t\t\n",
      "items \n",
      "\t\t\t\n",
      "\t\t\t\t\n",
      "item \n",
      "\t\t\t\t\t\n",
      "stationName 중구\n",
      "mangName 도시대기\n",
      "dataTime 2019-07-10 16:00\n",
      "so2Value 0.002\n",
      "coValue 0.3\n",
      "o3Value 0.029\n",
      "no2Value 0.021\n",
      "pm10Value 11\n",
      "pm10Value24 10\n",
      "pm25Value 6\n",
      "pm25Value24 6\n",
      "khaiValue 48\n",
      "khaiGrade 1\n",
      "so2Grade 1\n",
      "coGrade 1\n",
      "o3Grade 1\n",
      "no2Grade 1\n",
      "pm10Grade 1\n",
      "pm25Grade 1\n",
      "pm10Grade1h 1\n",
      "pm25Grade1h 1\n",
      "item \n",
      "\t\t\t\t\t\n",
      "stationName 한강대로\n",
      "mangName 도로변대기\n",
      "dataTime 2019-07-10 16:00\n",
      "so2Value 0.003\n",
      "coValue 0.3\n",
      "o3Value 0.018\n",
      "no2Value 0.026\n",
      "pm10Value 17\n",
      "pm10Value24 21\n",
      "pm25Value 5\n",
      "pm25Value24 7\n",
      "khaiValue 43\n",
      "khaiGrade 1\n",
      "so2Grade 1\n",
      "coGrade 1\n",
      "o3Grade 1\n",
      "no2Grade 1\n",
      "pm10Grade 1\n",
      "pm25Grade 1\n",
      "pm10Grade1h 1\n",
      "pm25Grade1h 1\n",
      "item \n",
      "\t\t\t\t\t\n",
      "stationName 종로구\n",
      "mangName 도시대기\n",
      "dataTime 2019-07-10 16:00\n",
      "so2Value 0.003\n",
      "coValue 0.4\n",
      "o3Value 0.027\n",
      "no2Value 0.012\n",
      "pm10Value 12\n",
      "pm10Value24 12\n",
      "pm25Value 6\n",
      "pm25Value24 6\n",
      "khaiValue 45\n",
      "khaiGrade 1\n",
      "so2Grade 1\n",
      "coGrade 1\n",
      "o3Grade 1\n",
      "no2Grade 1\n",
      "pm10Grade 1\n",
      "pm25Grade 1\n",
      "pm10Grade1h 1\n",
      "pm25Grade1h 1\n",
      "item \n",
      "\t\t\t\t\t\n",
      "stationName 청계천로\n",
      "mangName 도로변대기\n",
      "dataTime 2019-07-10 16:00\n",
      "so2Value 0.003\n",
      "coValue 0.6\n",
      "o3Value 0.026\n",
      "no2Value 0.023\n",
      "pm10Value 14\n",
      "pm10Value24 14\n",
      "pm25Value 7\n",
      "pm25Value24 9\n",
      "khaiValue 43\n",
      "khaiGrade 1\n",
      "so2Grade 1\n",
      "coGrade 1\n",
      "o3Grade 1\n",
      "no2Grade 1\n",
      "pm10Grade 1\n",
      "pm25Grade 1\n",
      "pm10Grade1h 1\n",
      "pm25Grade1h 1\n",
      "item \n",
      "\t\t\t\t\t\n",
      "stationName 종로\n",
      "mangName 도로변대기\n",
      "dataTime 2019-07-10 16:00\n",
      "so2Value 0.003\n",
      "coValue 0.5\n",
      "o3Value 0.018\n",
      "no2Value 0.033\n",
      "pm10Value 12\n",
      "pm10Value24 13\n",
      "pm25Value 5\n",
      "pm25Value24 4\n",
      "khaiValue 54\n",
      "khaiGrade 2\n",
      "so2Grade 1\n",
      "coGrade 1\n",
      "o3Grade 1\n",
      "no2Grade 2\n",
      "pm10Grade 1\n",
      "pm25Grade 1\n",
      "pm10Grade1h 1\n",
      "pm25Grade1h 1\n",
      "item \n",
      "\t\t\t\t\t\n",
      "stationName 용산구\n",
      "mangName 도시대기\n",
      "dataTime 2019-07-10 16:00\n",
      "so2Value -\n",
      "coValue 0.2\n",
      "o3Value 0.037\n",
      "no2Value 0.006\n",
      "pm10Value 7\n",
      "pm10Value24 6\n",
      "pm25Value 6\n",
      "pm25Value24 4\n",
      "khaiValue 56\n",
      "khaiGrade 2\n",
      "so2Grade None\n",
      "coGrade 1\n",
      "o3Grade 2\n",
      "no2Grade 1\n",
      "pm10Grade 1\n",
      "pm25Grade 1\n",
      "pm10Grade1h 1\n",
      "pm25Grade1h 1\n",
      "item \n",
      "\t\t\t\t\t\n",
      "stationName 광진구\n",
      "mangName 도시대기\n",
      "dataTime 2019-07-10 16:00\n",
      "so2Value 0.003\n",
      "coValue 0.4\n",
      "o3Value 0.026\n",
      "no2Value 0.012\n",
      "pm10Value 9\n",
      "pm10Value24 -\n",
      "pm25Value -\n",
      "pm25Value24 9\n",
      "khaiValue -\n",
      "khaiGrade None\n",
      "so2Grade 1\n",
      "coGrade 1\n",
      "o3Grade 1\n",
      "no2Grade 1\n",
      "pm10Grade None\n",
      "pm25Grade 1\n",
      "pm10Grade1h 1\n",
      "pm25Grade1h None\n",
      "item \n",
      "\t\t\t\t\t\n",
      "stationName 성동구\n",
      "mangName 도시대기\n",
      "dataTime 2019-07-10 16:00\n",
      "so2Value 0.003\n",
      "coValue 0.2\n",
      "o3Value 0.036\n",
      "no2Value 0.010\n",
      "pm10Value 15\n",
      "pm10Value24 18\n",
      "pm25Value 5\n",
      "pm25Value24 7\n",
      "khaiValue 55\n",
      "khaiGrade 2\n",
      "so2Grade 1\n",
      "coGrade 1\n",
      "o3Grade 2\n",
      "no2Grade 1\n",
      "pm10Grade 1\n",
      "pm25Grade 1\n",
      "pm10Grade1h 1\n",
      "pm25Grade1h 1\n",
      "item \n",
      "\t\t\t\t\t\n",
      "stationName 강변북로\n",
      "mangName 도로변대기\n",
      "dataTime 2019-07-10 16:00\n",
      "so2Value -\n",
      "coValue -\n",
      "o3Value -\n",
      "no2Value -\n",
      "pm10Value 9\n",
      "pm10Value24 8\n",
      "pm25Value 3\n",
      "pm25Value24 3\n",
      "khaiValue -\n",
      "khaiGrade None\n",
      "so2Grade None\n",
      "coGrade None\n",
      "o3Grade None\n",
      "no2Grade None\n",
      "pm10Grade 1\n",
      "pm25Grade 1\n",
      "pm10Grade1h 1\n",
      "pm25Grade1h 1\n",
      "item \n",
      "\t\t\t\t\t\n",
      "stationName 중랑구\n",
      "mangName 도시대기\n",
      "dataTime 2019-07-10 16:00\n",
      "so2Value 0.005\n",
      "coValue 0.2\n",
      "o3Value 0.034\n",
      "no2Value 0.008\n",
      "pm10Value 9\n",
      "pm10Value24 8\n",
      "pm25Value 6\n",
      "pm25Value24 6\n",
      "khaiValue 53\n",
      "khaiGrade 2\n",
      "so2Grade 1\n",
      "coGrade 1\n",
      "o3Grade 2\n",
      "no2Grade 1\n",
      "pm10Grade 1\n",
      "pm25Grade 1\n",
      "pm10Grade1h 1\n",
      "pm25Grade1h 1\n",
      "numOfRows 10\n",
      "pageNo 1\n",
      "totalCount 40\n"
     ]
    }
   ],
   "source": [
    "for node in xmlRoot.iter():\n",
    "    print(node.tag, node.text)"
   ]
  },
  {
   "cell_type": "code",
   "execution_count": 129,
   "metadata": {},
   "outputs": [],
   "source": [
    "itemList = xmlRoot.findall(\".//item\")"
   ]
  },
  {
   "cell_type": "code",
   "execution_count": 130,
   "metadata": {},
   "outputs": [
    {
     "name": "stdout",
     "output_type": "stream",
     "text": [
      "10\n",
      "stationName 중구\n",
      "mangName 도시대기\n",
      "dataTime 2019-07-10 16:00\n",
      "so2Value 0.002\n",
      "coValue 0.3\n",
      "o3Value 0.029\n",
      "no2Value 0.021\n",
      "pm10Value 11\n",
      "pm10Value24 10\n",
      "pm25Value 6\n",
      "pm25Value24 6\n",
      "khaiValue 48\n",
      "khaiGrade 1\n",
      "so2Grade 1\n",
      "coGrade 1\n",
      "o3Grade 1\n",
      "no2Grade 1\n",
      "pm10Grade 1\n",
      "pm25Grade 1\n",
      "pm10Grade1h 1\n",
      "pm25Grade1h 1\n",
      "stationName 한강대로\n",
      "mangName 도로변대기\n",
      "dataTime 2019-07-10 16:00\n",
      "so2Value 0.003\n",
      "coValue 0.3\n",
      "o3Value 0.018\n",
      "no2Value 0.026\n",
      "pm10Value 17\n",
      "pm10Value24 21\n",
      "pm25Value 5\n",
      "pm25Value24 7\n",
      "khaiValue 43\n",
      "khaiGrade 1\n",
      "so2Grade 1\n",
      "coGrade 1\n",
      "o3Grade 1\n",
      "no2Grade 1\n",
      "pm10Grade 1\n",
      "pm25Grade 1\n",
      "pm10Grade1h 1\n",
      "pm25Grade1h 1\n",
      "stationName 종로구\n",
      "mangName 도시대기\n",
      "dataTime 2019-07-10 16:00\n",
      "so2Value 0.003\n",
      "coValue 0.4\n",
      "o3Value 0.027\n",
      "no2Value 0.012\n",
      "pm10Value 12\n",
      "pm10Value24 12\n",
      "pm25Value 6\n",
      "pm25Value24 6\n",
      "khaiValue 45\n",
      "khaiGrade 1\n",
      "so2Grade 1\n",
      "coGrade 1\n",
      "o3Grade 1\n",
      "no2Grade 1\n",
      "pm10Grade 1\n",
      "pm25Grade 1\n",
      "pm10Grade1h 1\n",
      "pm25Grade1h 1\n",
      "stationName 청계천로\n",
      "mangName 도로변대기\n",
      "dataTime 2019-07-10 16:00\n",
      "so2Value 0.003\n",
      "coValue 0.6\n",
      "o3Value 0.026\n",
      "no2Value 0.023\n",
      "pm10Value 14\n",
      "pm10Value24 14\n",
      "pm25Value 7\n",
      "pm25Value24 9\n",
      "khaiValue 43\n",
      "khaiGrade 1\n",
      "so2Grade 1\n",
      "coGrade 1\n",
      "o3Grade 1\n",
      "no2Grade 1\n",
      "pm10Grade 1\n",
      "pm25Grade 1\n",
      "pm10Grade1h 1\n",
      "pm25Grade1h 1\n",
      "stationName 종로\n",
      "mangName 도로변대기\n",
      "dataTime 2019-07-10 16:00\n",
      "so2Value 0.003\n",
      "coValue 0.5\n",
      "o3Value 0.018\n",
      "no2Value 0.033\n",
      "pm10Value 12\n",
      "pm10Value24 13\n",
      "pm25Value 5\n",
      "pm25Value24 4\n",
      "khaiValue 54\n",
      "khaiGrade 2\n",
      "so2Grade 1\n",
      "coGrade 1\n",
      "o3Grade 1\n",
      "no2Grade 2\n",
      "pm10Grade 1\n",
      "pm25Grade 1\n",
      "pm10Grade1h 1\n",
      "pm25Grade1h 1\n",
      "stationName 용산구\n",
      "mangName 도시대기\n",
      "dataTime 2019-07-10 16:00\n",
      "so2Value -\n",
      "coValue 0.2\n",
      "o3Value 0.037\n",
      "no2Value 0.006\n",
      "pm10Value 7\n",
      "pm10Value24 6\n",
      "pm25Value 6\n",
      "pm25Value24 4\n",
      "khaiValue 56\n",
      "khaiGrade 2\n",
      "so2Grade None\n",
      "coGrade 1\n",
      "o3Grade 2\n",
      "no2Grade 1\n",
      "pm10Grade 1\n",
      "pm25Grade 1\n",
      "pm10Grade1h 1\n",
      "pm25Grade1h 1\n",
      "stationName 광진구\n",
      "mangName 도시대기\n",
      "dataTime 2019-07-10 16:00\n",
      "so2Value 0.003\n",
      "coValue 0.4\n",
      "o3Value 0.026\n",
      "no2Value 0.012\n",
      "pm10Value 9\n",
      "pm10Value24 -\n",
      "pm25Value -\n",
      "pm25Value24 9\n",
      "khaiValue -\n",
      "khaiGrade None\n",
      "so2Grade 1\n",
      "coGrade 1\n",
      "o3Grade 1\n",
      "no2Grade 1\n",
      "pm10Grade None\n",
      "pm25Grade 1\n",
      "pm10Grade1h 1\n",
      "pm25Grade1h None\n",
      "stationName 성동구\n",
      "mangName 도시대기\n",
      "dataTime 2019-07-10 16:00\n",
      "so2Value 0.003\n",
      "coValue 0.2\n",
      "o3Value 0.036\n",
      "no2Value 0.010\n",
      "pm10Value 15\n",
      "pm10Value24 18\n",
      "pm25Value 5\n",
      "pm25Value24 7\n",
      "khaiValue 55\n",
      "khaiGrade 2\n",
      "so2Grade 1\n",
      "coGrade 1\n",
      "o3Grade 2\n",
      "no2Grade 1\n",
      "pm10Grade 1\n",
      "pm25Grade 1\n",
      "pm10Grade1h 1\n",
      "pm25Grade1h 1\n",
      "stationName 강변북로\n",
      "mangName 도로변대기\n",
      "dataTime 2019-07-10 16:00\n",
      "so2Value -\n",
      "coValue -\n",
      "o3Value -\n",
      "no2Value -\n",
      "pm10Value 9\n",
      "pm10Value24 8\n",
      "pm25Value 3\n",
      "pm25Value24 3\n",
      "khaiValue -\n",
      "khaiGrade None\n",
      "so2Grade None\n",
      "coGrade None\n",
      "o3Grade None\n",
      "no2Grade None\n",
      "pm10Grade 1\n",
      "pm25Grade 1\n",
      "pm10Grade1h 1\n",
      "pm25Grade1h 1\n",
      "stationName 중랑구\n",
      "mangName 도시대기\n",
      "dataTime 2019-07-10 16:00\n",
      "so2Value 0.005\n",
      "coValue 0.2\n",
      "o3Value 0.034\n",
      "no2Value 0.008\n",
      "pm10Value 9\n",
      "pm10Value24 8\n",
      "pm25Value 6\n",
      "pm25Value24 6\n",
      "khaiValue 53\n",
      "khaiGrade 2\n",
      "so2Grade 1\n",
      "coGrade 1\n",
      "o3Grade 2\n",
      "no2Grade 1\n",
      "pm10Grade 1\n",
      "pm25Grade 1\n",
      "pm10Grade1h 1\n",
      "pm25Grade1h 1\n"
     ]
    }
   ],
   "source": [
    "print(len(itemList))\n",
    "for item in itemList:\n",
    "    for i in range(len(item)):\n",
    "        print(item[i].tag, item[i].text)\n",
    "        "
   ]
  },
  {
   "cell_type": "code",
   "execution_count": 131,
   "metadata": {},
   "outputs": [
    {
     "name": "stdout",
     "output_type": "stream",
     "text": [
      "pm25Value 6\n",
      "pm25Value 5\n",
      "pm25Value 6\n",
      "pm25Value 7\n",
      "pm25Value 5\n",
      "pm25Value 6\n",
      "pm25Value -\n",
      "pm25Value 5\n",
      "pm25Value 3\n",
      "pm25Value 6\n"
     ]
    }
   ],
   "source": [
    "pm25List = xmlRoot.findall(\".//item/pm25Value\")\n",
    "for item in pm25List:\n",
    "    print(item.tag, item.text)"
   ]
  },
  {
   "cell_type": "code",
   "execution_count": 136,
   "metadata": {},
   "outputs": [
    {
     "name": "stdout",
     "output_type": "stream",
     "text": [
      "stationName 중구\n",
      "stationName 한강대로\n",
      "stationName 종로구\n",
      "stationName 청계천로\n",
      "stationName 종로\n",
      "stationName 용산구\n",
      "stationName 광진구\n",
      "stationName 성동구\n",
      "stationName 강변북로\n",
      "stationName 중랑구\n"
     ]
    }
   ],
   "source": [
    "stationName = xmlRoot.findall(\".//item/stationName\")\n",
    "for item in stationName:\n",
    "    print(item.tag, item.text)"
   ]
  },
  {
   "cell_type": "code",
   "execution_count": null,
   "metadata": {},
   "outputs": [],
   "source": []
  }
 ],
 "metadata": {
  "kernelspec": {
   "display_name": "Python 3",
   "language": "python",
   "name": "python3"
  },
  "language_info": {
   "codemirror_mode": {
    "name": "ipython",
    "version": 3
   },
   "file_extension": ".py",
   "mimetype": "text/x-python",
   "name": "python",
   "nbconvert_exporter": "python",
   "pygments_lexer": "ipython3",
   "version": "3.7.1"
  }
 },
 "nbformat": 4,
 "nbformat_minor": 2
}

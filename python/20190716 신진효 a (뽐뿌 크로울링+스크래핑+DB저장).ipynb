{
 "cells": [
  {
   "cell_type": "markdown",
   "metadata": {},
   "source": [
    "# scraping"
   ]
  },
  {
   "cell_type": "markdown",
   "metadata": {},
   "source": [
    "#### scraper <-> crawler\n",
    "- scraper: 페이지에서 필요한 내용을 찾아 가져오는 것.\n",
    "\n",
    "- crawler: anchor 태그를 찾아 링크를 타고 돌아다니는 것."
   ]
  },
  {
   "cell_type": "markdown",
   "metadata": {},
   "source": [
    "#### 사이트가 표준을 잘 지켰는지 검사해주는 사이트\n",
    "- https://validator.w3.org/unicorn/?ucn_lang=ko\n",
    "- 여기서 http://ppomppu.co.kr 을 검색해보면 얼마나 거지같이 만들었는지 알 수 있다.\n",
    "\n",
    "#### 뽐뿌는 국내 3대 커뮤니티로 큰 규모 사이트이면서 거지같이 만든 사이트의 대표격임.\n",
    "- 극악의 뽐뿌를 크로울링 해보면 왠만한 사이트는 크로울링할 수 있게 될 것이다."
   ]
  },
  {
   "cell_type": "markdown",
   "metadata": {},
   "source": [
    "----"
   ]
  },
  {
   "cell_type": "markdown",
   "metadata": {},
   "source": [
    "# 뽐뿌에서 (제목, 추천수, 조회수)를 리스트로 크로울링하기"
   ]
  },
  {
   "cell_type": "code",
   "execution_count": 2,
   "metadata": {},
   "outputs": [],
   "source": [
    "import requests\n",
    "import time\n",
    "\n",
    "def download(method, url, params=None, data=None, headers=None, timeout=1, retries=4):\n",
    "    if headers == None:\n",
    "        headers = {\"User-Agent\":\"Mozilla/5.0 (Windows NT 10.0; Win64; x64) AppleWebKit/537.36 (KHTML, like Gecko) Chrome/75.0.3770.100 Safari/537.36\"}\n",
    "    \n",
    "    try:\n",
    "        resp = requests.request(method, url, \n",
    "                                params=params, data=data, \n",
    "                                headers=headers, timeout=timeout)\n",
    "        resp.raise_for_status()\n",
    "        \n",
    "    except requests.exceptions.HTTPError as e:\n",
    "        if 500 <= e.response.status_code < 600 and retries > 0:\n",
    "            print(\"remained retry:\", retries)\n",
    "            time.sleep(timeout)\n",
    "            resp = download(method, url, params, data, headers, timeout, retries-1) \n",
    "        else:\n",
    "            print(resp.status_code)\n",
    "            print(resp.reason)\n",
    "        \n",
    "    return resp"
   ]
  },
  {
   "cell_type": "code",
   "execution_count": 3,
   "metadata": {},
   "outputs": [],
   "source": [
    "from bs4 import BeautifulSoup"
   ]
  },
  {
   "cell_type": "code",
   "execution_count": 13,
   "metadata": {},
   "outputs": [],
   "source": [
    "# GET방식 파라미터가 url에 안보여서 request 헤더 가져옴\n",
    "\n",
    "url = \"http://ppompu.co.kr\"\n",
    "params = {\n",
    "    \"ai\": \"C_CM2lGEtXcrVH8vmgQOo8KjoDo2qh7tX-o-PwuUJwI23ARABIP-epiFgm4PphJwpoAGaiJzdAsgBAqkCjXTFtF4aDT6oAwHIA5kEqgSxAU_Qw9BhZdOwvT2TcacvMh-RjgF5ZPdoQZBH5RMhEmCLpFxvNkKZh37HNcmagSb6OlzkIgB8tB7gBP8XrY1fnqwBEsLTnBe7NgGztaYSedKt8Agf87R0Hd53v2V-MK0qCsSL6Sq2AuPOyMyxas4GzuragitmrvrbNKGD3yKJDfyGCD7Z-24W76RFWMsDhan7uwNfKQ684nyf1RySFFd_OV9VwUMrk3LIALfVOGPv-FxYr-AEA5AGAaAGAoAHzvfjogGIBwGQBwKoB47OG6gH1ckbqAfB0xuoB4XUG6gHgdQbqAeC1BuoB4bUG6gHhNQbqAfg0xuoB7oGqAfZyxuoB8_MG6gHpr4b2AcA0ggGCAAQAhgNgAoDsBOo5vgG0BMA2BMD2BQB\",\n",
    "\"sigh\": \"VwbL0y_4HsU\",\n",
    "\"cid\": \"CAQSQwDwy9IZGsUXixiO1W-MIPAfjc9LYcKA4QkBOou3XTnwoJY6D5tfHQkbgytoUkGB5p0kvCKo1GVHlKzGJ1UGaEnDHL4\",\n",
    "\"label\": \"window_focus\",\n",
    "\"qqid\": \"CMrv0bHbuOMCFUtzYAodKDgK7Q\",\n",
    "\"fg\": \"1\"\n",
    "}\n"
   ]
  },
  {
   "cell_type": "code",
   "execution_count": 14,
   "metadata": {},
   "outputs": [],
   "source": [
    "html = download(\"get\", url, params)"
   ]
  },
  {
   "cell_type": "code",
   "execution_count": 15,
   "metadata": {},
   "outputs": [
    {
     "data": {
      "text/plain": [
       "'<html>\\n<head>\\n<meta http-equiv=\"content-type\" content=\"text/html; charset=utf-8\">\\n<title>ì\\x82¬ë\\x9e\\x8cì\\x9d´ ì¢\\x8bì\\x95\\x84 í\\x95¨ê»\\x98í\\x95\\x98ë\\x8a\\x94ê³³.. ë½\\x90ë¿\\x8c!</title>\\n<script type=\"text/javascript\" src=\"http://code.jquery.com/jquery-1.10.2.min.js\"></script>\\n<script type=\"text/javascript\" src=\"popup/jquery.cookie.js\"></script>\\n<script type=\"text/javascript\" src=\"popup/popup_cfg.js\"></script>\\n<script type=\"text/javascript\" src=\"popup/popup.js\"></script>\\n</head>\\n<body style=\"margin:0;padding:0;overflow:hidden;\">\\n\\t<iframe frameborder=\"0\" width=\"100%\" height=\"100%\" src=\"http://www.ppomppu.co.kr/\"></iframe>\\n</body>\\n</html> '"
      ]
     },
     "execution_count": 15,
     "metadata": {},
     "output_type": "execute_result"
    }
   ],
   "source": [
    "# 안됨 ㅜㅜ\n",
    "# url 주소가 pp가 두개씩 있어야한다!\n",
    "# ppomppu.co.kr 은 get방식 url이 안보임!! \n",
    "\n",
    "html.text"
   ]
  },
  {
   "cell_type": "code",
   "execution_count": 16,
   "metadata": {},
   "outputs": [],
   "source": [
    "# 종익이한테 주소 받아옴\n",
    "\n",
    "url = \"http://www.ppomppu.co.kr/zboard/zboard.php\"\n",
    "html = download(\"get\", url, params={\"id\":\"ppomppu\"})\n",
    "\n",
    "# 뽐뿌는 well-formed가 아니니까 html.parser\n",
    "dom = BeautifulSoup(html.text, \"html.parser\")"
   ]
  },
  {
   "cell_type": "code",
   "execution_count": 17,
   "metadata": {},
   "outputs": [
    {
     "data": {
      "text/plain": [
       "[<font class=\"list_title\">[Gsuite] Gsuite Basic India (3700원(월) / 무료)</font>,\n",
       " <font class=\"list_title\">[하이마트몰] 갤럭시버즈 (138,500원 / 무배) 오너스 첫달 무료체험시, 최대 50% 페이백</font>,\n",
       " <font class=\"list_title\">[옥션] 식사에반하다25개입 (26,530원 / 무배)</font>,\n",
       " <font class=\"list_title\">[티몬] (티몬페이전용)해피머니 10만원권 3장(271,500원/쿠폰적용시 269,900원)</font>,\n",
       " <font class=\"list_title\">[티몬] 해피머니 10만원권 (90,900원/0원)</font>,\n",
       " <font class=\"list_title\">[티몬] 1등급 한돈 삼겹살 600g (6,500/무료배송)</font>,\n",
       " <font class=\"list_title\">[우체국쇼핑] 진안 매콤화끈 중독의맛 뼈없는 직화불닭발 1+1(2팩)(8500/무료) 쿠폰적용시7650</font>,\n",
       " <font class=\"list_title\">[유튜브] 유튜브프리미엄 인도 ( 2200원(월), 3200원(월)6명 / 무료)</font>,\n",
       " <font class=\"list_title\">[11번가] 벨킨 스마트폰 전기종 호환 충전케이블(9,900/무배)</font>,\n",
       " <font class=\"list_title\">[네이버스토어팜] 뉴발란스 잔테v3 (49,800원/무료)</font>,\n",
       " <font class=\"list_title\">[LG생활건강] 홈스타 뿌리는 곰팡이 (9,900/무료)</font>,\n",
       " <font class=\"list_title\">[Gsshop] 본이트츄잉캔디(12900/무배)</font>,\n",
       " <font class=\"list_title\">[11번가] LG 식기세척기 DFB22W (1,119,000/무료배송)</font>,\n",
       " <font class=\"list_title\">[옥션] 유니온 135c 55인치 UHDTV  (299,000/무료)</font>,\n",
       " <font class=\"list_title\">[G9] 토니모리 에너지24 맨즈 올인원 모이스처 에센스 1+1 (11,000/무료배송)</font>,\n",
       " <font class=\"list_title\">[티몬] 초코무쵸 27g 40봉 (7,900원/무료)</font>,\n",
       " <font class=\"list_title\">[티몬] 루앱 차량용 고속 무선 충전 자동센서 거치대(18,900/무배)</font>]"
      ]
     },
     "execution_count": 17,
     "metadata": {},
     "output_type": "execute_result"
    }
   ],
   "source": [
    "dom.select(\"font.list_title\")"
   ]
  },
  {
   "cell_type": "code",
   "execution_count": 27,
   "metadata": {},
   "outputs": [
    {
     "data": {
      "text/plain": [
       "'[하이마트몰] 갤럭시버즈 (138,500원 / 무배) 오너스 첫달 무료체험시, 최대 50% 페이백'"
      ]
     },
     "execution_count": 27,
     "metadata": {},
     "output_type": "execute_result"
    }
   ],
   "source": [
    "dom.select(\"tr.list0\")[0].find_all({\"font\"})[0].text"
   ]
  },
  {
   "cell_type": "code",
   "execution_count": 25,
   "metadata": {},
   "outputs": [
    {
     "data": {
      "text/plain": [
       "[<td class=\"eng list_vspace\" colspan=\"2\" nowrap=\"\">9 - 5</td>,\n",
       " <td class=\"eng list_vspace\" colspan=\"2\" nowrap=\"\">5803</td>]"
      ]
     },
     "execution_count": 25,
     "metadata": {},
     "output_type": "execute_result"
    }
   ],
   "source": [
    "dom.select(\"tr.list0\")[0].find_all(\"td\", {\"class\":\"eng list_vspace\"})[-2:]"
   ]
  },
  {
   "cell_type": "code",
   "execution_count": 35,
   "metadata": {},
   "outputs": [
    {
     "data": {
      "text/plain": [
       "[('[하이마트몰] 갤럭시버즈 (138,500원 / 무배) 오너스 첫달 무료체험시, 최대 50% 페이백', '9 - 5', '5803'),\n",
       " ('[옥션](스마일클럽전용딜) 생활공작소 제습제 520ml*12개*2 ->24개 (14,280원/무료) 하나/NH농협/KB국민/비씨/현대/신한 12,300원',\n",
       "  '9 - 0',\n",
       "  '2149'),\n",
       " ('[티몬] 해피머니 10만원권 (90,900원/0원)', '78 - 0', '12147'),\n",
       " ('[우체국쇼핑] 진안 매콤화끈 중독의맛 뼈없는 직화불닭발 1+1(2팩)(8500/무료) 쿠폰적용시7650',\n",
       "  '6 - 0',\n",
       "  '3868'),\n",
       " ('[KW 주식회사 ] 휴대용 미니 선풍기 ( 5,900~8,900 / 무료)', '0 - 1', '2382'),\n",
       " ('[네이버스토어팜] 뉴발란스 잔테v3 (49,800원/무료)', '10 - 0', '9139'),\n",
       " ('[네이버쇼핑] 잘만 CNPS10X OPTIMA II 블랙 CPU쿨러 (19,900/2500)', '1 - 0', '3102'),\n",
       " ('[11번가] LG 식기세척기 DFB22W (1,119,000/무료배송)', '', '2388'),\n",
       " ('[G9] 토니모리 에너지24 맨즈 올인원 모이스처 에센스 1+1 (11,000/무료배송)', '14 - 0', '9478'),\n",
       " ('[티몬] 루앱 차량용 고속 무선 충전 자동센서 거치대(18,900/무배)', '', '4786')]"
      ]
     },
     "execution_count": 35,
     "metadata": {},
     "output_type": "execute_result"
    }
   ],
   "source": [
    "want_list0 = [(tag.find_all(\"font\")[0].text, \n",
    "  tag.find_all(\"td\", {\"class\":\"eng list_vspace\"})[-2].text, \n",
    "  tag.find_all(\"td\", {\"class\":\"eng list_vspace\"})[-1].text) for tag in dom.select(\"tr.list0\")]\n",
    "want_list0"
   ]
  },
  {
   "cell_type": "code",
   "execution_count": 36,
   "metadata": {},
   "outputs": [
    {
     "data": {
      "text/plain": [
       "[('[Gsuite] Gsuite Basic India (3700원(월) / 무료)', '3 - 0', '3844'),\n",
       " ('[옥션] 식사에반하다25개입 (26,530원 / 무배)', '', '3798'),\n",
       " ('[티몬] (티몬페이전용)해피머니 10만원권 3장(271,500원/쿠폰적용시 269,900원)', '33 - 0', '8296'),\n",
       " ('[티몬] 1등급 한돈 삼겹살 600g (6,500/무료배송)', '1 - 0', '5109'),\n",
       " ('[유튜브] 유튜브프리미엄 인도 ( 2200원(월), 3200원(월)6명 / 무료)', '77 - 16', '35288'),\n",
       " ('[11번가] 벨킨 스마트폰 전기종 호환 충전케이블(9,900/무배)', '3 - 0', '3208'),\n",
       " ('[LG생활건강] 홈스타 뿌리는 곰팡이 (9,900/무료)', '3 - 0', '2175'),\n",
       " ('[Gsshop] 본이트츄잉캔디(12900/무배)', '', '1295'),\n",
       " ('[옥션] 유니온 135c 55인치 UHDTV  (299,000/무료)', '2 - 2', '5558'),\n",
       " ('[티몬] 초코무쵸 27g 40봉 (7,900원/무료)', '10 - 0', '2351')]"
      ]
     },
     "execution_count": 36,
     "metadata": {},
     "output_type": "execute_result"
    }
   ],
   "source": [
    "want_list1 = [(tag.find_all(\"font\")[0].text, \n",
    "  tag.find_all(\"td\", {\"class\":\"eng list_vspace\"})[-2].text, \n",
    "  tag.find_all(\"td\", {\"class\":\"eng list_vspace\"})[-1].text) for tag in dom.select(\"tr.list1\")]\n",
    "want_list1"
   ]
  },
  {
   "cell_type": "code",
   "execution_count": 38,
   "metadata": {},
   "outputs": [
    {
     "data": {
      "text/plain": [
       "[('[하이마트몰] 갤럭시버즈 (138,500원 / 무배) 오너스 첫달 무료체험시, 최대 50% 페이백', '9 - 5', '5803'),\n",
       " ('[옥션](스마일클럽전용딜) 생활공작소 제습제 520ml*12개*2 ->24개 (14,280원/무료) 하나/NH농협/KB국민/비씨/현대/신한 12,300원',\n",
       "  '9 - 0',\n",
       "  '2149'),\n",
       " ('[티몬] 해피머니 10만원권 (90,900원/0원)', '78 - 0', '12147'),\n",
       " ('[우체국쇼핑] 진안 매콤화끈 중독의맛 뼈없는 직화불닭발 1+1(2팩)(8500/무료) 쿠폰적용시7650',\n",
       "  '6 - 0',\n",
       "  '3868'),\n",
       " ('[KW 주식회사 ] 휴대용 미니 선풍기 ( 5,900~8,900 / 무료)', '0 - 1', '2382'),\n",
       " ('[네이버스토어팜] 뉴발란스 잔테v3 (49,800원/무료)', '10 - 0', '9139'),\n",
       " ('[네이버쇼핑] 잘만 CNPS10X OPTIMA II 블랙 CPU쿨러 (19,900/2500)', '1 - 0', '3102'),\n",
       " ('[11번가] LG 식기세척기 DFB22W (1,119,000/무료배송)', '', '2388'),\n",
       " ('[G9] 토니모리 에너지24 맨즈 올인원 모이스처 에센스 1+1 (11,000/무료배송)', '14 - 0', '9478'),\n",
       " ('[티몬] 루앱 차량용 고속 무선 충전 자동센서 거치대(18,900/무배)', '', '4786'),\n",
       " ('[Gsuite] Gsuite Basic India (3700원(월) / 무료)', '3 - 0', '3844'),\n",
       " ('[옥션] 식사에반하다25개입 (26,530원 / 무배)', '', '3798'),\n",
       " ('[티몬] (티몬페이전용)해피머니 10만원권 3장(271,500원/쿠폰적용시 269,900원)', '33 - 0', '8296'),\n",
       " ('[티몬] 1등급 한돈 삼겹살 600g (6,500/무료배송)', '1 - 0', '5109'),\n",
       " ('[유튜브] 유튜브프리미엄 인도 ( 2200원(월), 3200원(월)6명 / 무료)', '77 - 16', '35288'),\n",
       " ('[11번가] 벨킨 스마트폰 전기종 호환 충전케이블(9,900/무배)', '3 - 0', '3208'),\n",
       " ('[LG생활건강] 홈스타 뿌리는 곰팡이 (9,900/무료)', '3 - 0', '2175'),\n",
       " ('[Gsshop] 본이트츄잉캔디(12900/무배)', '', '1295'),\n",
       " ('[옥션] 유니온 135c 55인치 UHDTV  (299,000/무료)', '2 - 2', '5558'),\n",
       " ('[티몬] 초코무쵸 27g 40봉 (7,900원/무료)', '10 - 0', '2351')]"
      ]
     },
     "execution_count": 38,
     "metadata": {},
     "output_type": "execute_result"
    }
   ],
   "source": [
    "wants = want_list0 + want_list1\n",
    "wants"
   ]
  },
  {
   "cell_type": "code",
   "execution_count": 44,
   "metadata": {},
   "outputs": [
    {
     "data": {
      "text/plain": [
       "20"
      ]
     },
     "execution_count": 44,
     "metadata": {},
     "output_type": "execute_result"
    }
   ],
   "source": [
    "len(wants)"
   ]
  },
  {
   "cell_type": "markdown",
   "metadata": {},
   "source": [
    "---"
   ]
  },
  {
   "cell_type": "code",
   "execution_count": 49,
   "metadata": {},
   "outputs": [
    {
     "data": {
      "text/plain": [
       "[('[하이마트몰] 갤럭시버즈 (138,500원 / 무배) 오너스 첫달 무료체험시, 최대 50% 페이백', '9 - 5', '5803'),\n",
       " ('[옥션](스마일클럽전용딜) 생활공작소 제습제 520ml*12개*2 ->24개 (14,280원/무료) 하나/NH농협/KB국민/비씨/현대/신한 12,300원',\n",
       "  '9 - 0',\n",
       "  '2149'),\n",
       " ('[티몬] 해피머니 10만원권 (90,900원/0원)', '78 - 0', '12147'),\n",
       " ('[우체국쇼핑] 진안 매콤화끈 중독의맛 뼈없는 직화불닭발 1+1(2팩)(8500/무료) 쿠폰적용시7650',\n",
       "  '6 - 0',\n",
       "  '3868'),\n",
       " ('[KW 주식회사 ] 휴대용 미니 선풍기 ( 5,900~8,900 / 무료)', '0 - 1', '2382'),\n",
       " ('[네이버스토어팜] 뉴발란스 잔테v3 (49,800원/무료)', '10 - 0', '9139'),\n",
       " ('[네이버쇼핑] 잘만 CNPS10X OPTIMA II 블랙 CPU쿨러 (19,900/2500)', '1 - 0', '3102'),\n",
       " ('[11번가] LG 식기세척기 DFB22W (1,119,000/무료배송)', '', '2388'),\n",
       " ('[G9] 토니모리 에너지24 맨즈 올인원 모이스처 에센스 1+1 (11,000/무료배송)', '14 - 0', '9478'),\n",
       " ('[티몬] 루앱 차량용 고속 무선 충전 자동센서 거치대(18,900/무배)', '', '4786'),\n",
       " ('[Gsuite] Gsuite Basic India (3700원(월) / 무료)', '3 - 0', '3844'),\n",
       " ('[옥션] 식사에반하다25개입 (26,530원 / 무배)', '', '3798'),\n",
       " ('[티몬] (티몬페이전용)해피머니 10만원권 3장(271,500원/쿠폰적용시 269,900원)', '33 - 0', '8296'),\n",
       " ('[티몬] 1등급 한돈 삼겹살 600g (6,500/무료배송)', '1 - 0', '5109'),\n",
       " ('[유튜브] 유튜브프리미엄 인도 ( 2200원(월), 3200원(월)6명 / 무료)', '77 - 16', '35288'),\n",
       " ('[11번가] 벨킨 스마트폰 전기종 호환 충전케이블(9,900/무배)', '3 - 0', '3208'),\n",
       " ('[LG생활건강] 홈스타 뿌리는 곰팡이 (9,900/무료)', '3 - 0', '2175'),\n",
       " ('[Gsshop] 본이트츄잉캔디(12900/무배)', '', '1295'),\n",
       " ('[옥션] 유니온 135c 55인치 UHDTV  (299,000/무료)', '2 - 2', '5558'),\n",
       " ('[티몬] 초코무쵸 27g 40봉 (7,900원/무료)', '10 - 0', '2351')]"
      ]
     },
     "execution_count": 49,
     "metadata": {},
     "output_type": "execute_result"
    }
   ],
   "source": [
    "[ (tag.find_all(\"font\")[0].text, \n",
    "  tag.find_all(\"td\", {\"class\":\"eng list_vspace\"})[-2].text, \n",
    "  tag.find_all(\"td\", {\"class\":\"eng list_vspace\"})[-1].text) \n",
    " for tag in dom.select(\"tr.list0\") + dom.select(\"tr.list1\")]"
   ]
  },
  {
   "cell_type": "markdown",
   "metadata": {},
   "source": [
    "---"
   ]
  },
  {
   "cell_type": "code",
   "execution_count": 53,
   "metadata": {},
   "outputs": [
    {
     "data": {
      "text/plain": [
       "[<tr align=\"center\" class=\"list_notice\" id=\"page_show_noti_1\" name=\"page_show_noti_1\" onmouseout=\"this.style.backgroundColor=''\" onmouseover=\"this.style.backgroundColor='#F5F5F5'\" style=\"height:50;word-break:break-all;display:table-row;*display:block;\" valign=\"middle\">\n",
       " <td align=\"center\" colspan=\"2\">\n",
       " <img alt=\"notice\" border=\"0\" src=\"/images/notice_icon.jpg\"/></td>\n",
       " <td class=\"han list_vspace\" colspan=\"2\" nowrap=\"\"><nobr class=\"han list_vspace\">기타</nobr></td>\n",
       " <!--<td nowrap colspan=2 style='padding:0'><input type=checkbox name=cart value=\"6\"></td>-->\n",
       " <td align=\"left\" class=\"list_vspace\" colspan=\"2\"><div class=\"list_name\" style=\"width:80px;overflow:hidden;text-overflow:ellipsis\"><nobr class=\"list_vspace\"> <a href=\"#\" onclick=\"return false\"><img align=\"absmiddle\" alt=\"관리자3\" border=\"0\" src=\"//nic.ppomppu.co.kr/zboard/nickcon/157163.gif?v=201907161441\"/></a></nobr></div></td> <td align=\"left\" class=\"list_vspace\">\n",
       " <a href=\"view.php?id=regulation&amp;page=1&amp;divpage=202&amp;no=6\">[필독] 제목에는 특수 문자 사용을 절대 금지합니다.- 2010년 2월 24일</a>\n",
       " <td class=\"eng list_vspace\" colspan=\"2\" nowrap=\"\" title=\"13.10.24 13:24:54\"><nobr class=\"eng list_vspace\">13/10/24</nobr></td> <td class=\"eng list_vspace\" colspan=\"2\" nowrap=\"\">0</td> <td class=\"eng list_vspace\" colspan=\"2\" nowrap=\"\">2424970</td></td></tr>,\n",
       " <tr align=\"center\" class=\"list1\" onmouseout=\"this.style.backgroundColor=''\" onmouseover=\"this.style.backgroundColor='#F5F5F5'\" style=\"height:50;word-break:break-all;\" valign=\"middle\">\n",
       " <td class=\"eng list_vspace\" colspan=\"2\">\n",
       " 323876\t</td> <td class=\"han4 list_vspace\" colspan=\"2\" nowrap=\"\"><nobr class=\"han4 list_vspace\">디지털</nobr></td>\n",
       " <!--<td nowrap colspan=2 style='padding:0'><input type=checkbox name=cart value=\"323876\"></td>-->\n",
       " <td align=\"left\" class=\"list_vspace\" colspan=\"2\"><div class=\"list_name\" style=\"width:80px;overflow:hidden;text-overflow:ellipsis\"><nobr class=\"list_name\"> <a href=\"#\" onclick=\"return false\"><span class=\"list_name\">준내싸다</span></a></nobr></div></td> <td align=\"left\" class=\"list_vspace\">\n",
       " <table border=\"0\" cellpadding=\"0\" cellspacing=\"0\" height=\"100%\" style=\"table-layout:fixed\" width=\"100%\">\n",
       " <tr>\n",
       " <td align=\"right\" style=\"padding:0 5px 0 0\" valign=\"top\" width=\"75\"><a href=\"zboard.php?id=ppomppu&amp;page=1&amp;divpage=56&amp;&amp;no=323876\" onfocus=\"blur()\" tooltip=\"P_img://cdn.ppomppu.co.kr/zboard/data3/2019/0716/m_20190716135409_ghshxxrm.png\"><img align=\"absmiddle\" border=\"0\" class=\"thumb_border\" height=\"50\" onerror=\"this.src='//static.ppomppu.co.kr/www/img/noimage/noimage_60x50.jpg'\" onfocus=\"blur()\" src=\"//cdn.ppomppu.co.kr/zboard/data/_thumb/ppomppu/6/small_323876.jpg?t=20190716134948\" style=\"margin:0px 5px 0px 5px;\" width=\"60\"/></a></td>\n",
       " <td valign=\"middle\">\n",
       " <a href=\"zboard.php?id=ppomppu&amp;page=1&amp;divpage=56&amp;no=323876\"><font class=\"list_title\">[Gsuite] Gsuite Basic India (3700원(월) / 무료)</font></a> <span class=\"list_comment2\"> <span onclick='win_comment(\"popup_comment.php?id=ppomppu&amp;no=323876\");' style=\"cursor:pointer;\">36</span> </span> </td></tr></table></td>\n",
       " <td class=\"eng list_vspace\" colspan=\"2\" nowrap=\"\" title=\"19.07.16 13:54:21\"><nobr class=\"eng list_vspace\">13:54:21</nobr></td> <td class=\"eng list_vspace\" colspan=\"2\" nowrap=\"\">3 - 0</td> <td class=\"eng list_vspace\" colspan=\"2\" nowrap=\"\">3844</td></tr>,\n",
       " <tr align=\"center\" class=\"list0\" onmouseout=\"this.style.backgroundColor=''\" onmouseover=\"this.style.backgroundColor='#F5F5F5'\" style=\"height:50;word-break:break-all;\" valign=\"middle\">\n",
       " <td class=\"eng list_vspace\" colspan=\"2\">\n",
       " 323875\t</td> <td class=\"han4 list_vspace\" colspan=\"2\" nowrap=\"\"><nobr class=\"han4 list_vspace\">디지털</nobr></td>\n",
       " <!--<td nowrap colspan=2 style='padding:0'><input type=checkbox name=cart value=\"323875\"></td>-->\n",
       " <td align=\"left\" class=\"list_vspace\" colspan=\"2\"><div class=\"list_name\" style=\"width:80px;overflow:hidden;text-overflow:ellipsis\"><nobr class=\"list_name\"> <a href=\"#\" onclick=\"return false\"><span class=\"list_name\">2빌리</span></a></nobr></div></td> <td align=\"left\" class=\"list_vspace\">\n",
       " <table border=\"0\" cellpadding=\"0\" cellspacing=\"0\" height=\"100%\" style=\"table-layout:fixed\" width=\"100%\">\n",
       " <tr>\n",
       " <td align=\"right\" style=\"padding:0 5px 0 0\" valign=\"top\" width=\"75\"><a href=\"zboard.php?id=ppomppu&amp;page=1&amp;divpage=56&amp;&amp;no=323875\" onfocus=\"blur()\" tooltip=\"P_img://cdn.ppomppu.co.kr/zboard/data3/2019/0716/m_20190716134121_dsvgmlzf.png\"><img align=\"absmiddle\" border=\"0\" class=\"thumb_border\" height=\"50\" onerror=\"this.src='//static.ppomppu.co.kr/www/img/noimage/noimage_60x50.jpg'\" onfocus=\"blur()\" src=\"//cdn.ppomppu.co.kr/zboard/data/_thumb/ppomppu/5/small_323875.jpg?t=20190716133713\" style=\"margin:0px 5px 0px 5px;\" width=\"60\"/></a></td>\n",
       " <td valign=\"middle\">\n",
       " <a href=\"zboard.php?id=ppomppu&amp;page=1&amp;divpage=56&amp;no=323875\"><font class=\"list_title\">[하이마트몰] 갤럭시버즈 (138,500원 / 무배) 오너스 첫달 무료체험시, 최대 50% 페이백</font></a> <span class=\"list_comment2\"> <span onclick='win_comment(\"popup_comment.php?id=ppomppu&amp;no=323875\");' style=\"cursor:pointer;\">19</span> </span> </td></tr></table></td>\n",
       " <td class=\"eng list_vspace\" colspan=\"2\" nowrap=\"\" title=\"19.07.16 13:41:45\"><nobr class=\"eng list_vspace\">13:41:45</nobr></td> <td class=\"eng list_vspace\" colspan=\"2\" nowrap=\"\">9 - 5</td> <td class=\"eng list_vspace\" colspan=\"2\" nowrap=\"\">5803</td></tr>,\n",
       " <tr align=\"center\" class=\"list1\" onmouseout=\"this.style.backgroundColor=''\" onmouseover=\"this.style.backgroundColor='#F5F5F5'\" style=\"height:50;word-break:break-all;\" valign=\"middle\">\n",
       " <td class=\"eng list_vspace\" colspan=\"2\">\n",
       " 323874\t</td> <td class=\"han4 list_vspace\" colspan=\"2\" nowrap=\"\"><nobr class=\"han4 list_vspace\">식품/건강</nobr></td>\n",
       " <!--<td nowrap colspan=2 style='padding:0'><input type=checkbox name=cart value=\"323874\"></td>-->\n",
       " <td align=\"left\" class=\"list_vspace\" colspan=\"2\"><div class=\"list_name\" style=\"width:80px;overflow:hidden;text-overflow:ellipsis\"><nobr class=\"list_name\"> <a href=\"#\" onclick=\"return false\"><span class=\"list_name\">티거0082</span></a></nobr></div></td> <td align=\"left\" class=\"list_vspace\">\n",
       " <table border=\"0\" cellpadding=\"0\" cellspacing=\"0\" height=\"100%\" style=\"table-layout:fixed\" width=\"100%\">\n",
       " <tr>\n",
       " <td align=\"right\" style=\"padding:0 5px 0 0\" valign=\"top\" width=\"75\"><a href=\"zboard.php?id=ppomppu&amp;page=1&amp;divpage=56&amp;&amp;no=323874\" onfocus=\"blur()\" tooltip=\"P_img://cdn.ppomppu.co.kr/zboard/data3/2019/0716/m_20190716133116_iuqaixpi.jpg\"><img align=\"absmiddle\" border=\"0\" class=\"thumb_border\" height=\"50\" onerror=\"this.src='//static.ppomppu.co.kr/www/img/noimage/noimage_60x50.jpg'\" onfocus=\"blur()\" src=\"//cdn.ppomppu.co.kr/zboard/data/_thumb/ppomppu/4/small_323874.jpg?t=20190716133521\" style=\"margin:0px 5px 0px 5px;\" width=\"60\"/></a></td>\n",
       " <td valign=\"middle\">\n",
       " <a href=\"zboard.php?id=ppomppu&amp;page=1&amp;divpage=56&amp;no=323874\"><font class=\"list_title\">[옥션] 식사에반하다25개입 (26,530원 / 무배)</font></a> <span class=\"list_comment2\"> <span onclick='win_comment(\"popup_comment.php?id=ppomppu&amp;no=323874\");' style=\"cursor:pointer;\">15</span> </span> </td></tr></table></td>\n",
       " <td class=\"eng list_vspace\" colspan=\"2\" nowrap=\"\" title=\"19.07.16 13:34:57\"><nobr class=\"eng list_vspace\">13:34:57</nobr></td> <td class=\"eng list_vspace\" colspan=\"2\" nowrap=\"\"></td> <td class=\"eng list_vspace\" colspan=\"2\" nowrap=\"\">3798</td></tr>,\n",
       " <tr align=\"center\" class=\"list0\" onmouseout=\"this.style.backgroundColor=''\" onmouseover=\"this.style.backgroundColor='#F5F5F5'\" style=\"height:50;word-break:break-all;\" valign=\"middle\">\n",
       " <td class=\"eng list_vspace\" colspan=\"2\">\n",
       " 323873\t</td> <td class=\"han4 list_vspace\" colspan=\"2\" nowrap=\"\"><nobr class=\"han4 list_vspace\">기타</nobr></td>\n",
       " <!--<td nowrap colspan=2 style='padding:0'><input type=checkbox name=cart value=\"323873\"></td>-->\n",
       " <td align=\"left\" class=\"list_vspace\" colspan=\"2\"><div class=\"list_name\" style=\"width:80px;overflow:hidden;text-overflow:ellipsis\"><nobr class=\"list_name\"> <a href=\"#\" onclick=\"return false\"><span class=\"list_name\">나의일상</span></a></nobr></div></td> <td align=\"left\" class=\"list_vspace\">\n",
       " <table border=\"0\" cellpadding=\"0\" cellspacing=\"0\" height=\"100%\" style=\"table-layout:fixed\" width=\"100%\">\n",
       " <tr>\n",
       " <td align=\"right\" style=\"padding:0 5px 0 0\" valign=\"top\" width=\"75\"><a href=\"zboard.php?id=ppomppu&amp;page=1&amp;divpage=56&amp;&amp;no=323873\" onfocus=\"blur()\" tooltip=\"P_img://cdn.ppomppu.co.kr/zboard/data3/2019/0716/m_20190716130047_pueuaclt.png\"><img align=\"absmiddle\" border=\"0\" class=\"thumb_border\" height=\"50\" onerror=\"this.src='//static.ppomppu.co.kr/www/img/noimage/noimage_60x50.jpg'\" onfocus=\"blur()\" src=\"//cdn.ppomppu.co.kr/zboard/data/_thumb/ppomppu/3/small_323873.jpg?t=20190716130113\" style=\"margin:0px 5px 0px 5px;\" width=\"60\"/></a></td>\n",
       " <td valign=\"middle\">\n",
       " <a href=\"zboard.php?id=ppomppu&amp;page=1&amp;divpage=56&amp;no=323873\"><font color=\"#ACACAC\">[옥션](스마일클럽전용딜) 생활공작소 제습제 520ml*12개*2 -&gt;24개 (14,280원/무료) 하나/NH농협/KB국민/비씨/현대/신한 12,300원</font></a> <span class=\"list_comment2\"> <span onclick='win_comment(\"popup_comment.php?id=ppomppu&amp;no=323873\");' style=\"cursor:pointer;\">10</span> </span> <img src=\"/zboard/skin/DQ_Revolution_BBS_New1/end_icon.PNG\"> </img></td></tr></table></td>\n",
       " <td class=\"eng list_vspace\" colspan=\"2\" nowrap=\"\" title=\"19.07.16 13:01:59\"><nobr class=\"eng list_vspace\">13:01:59</nobr></td> <td class=\"eng list_vspace\" colspan=\"2\" nowrap=\"\">9 - 0</td> <td class=\"eng list_vspace\" colspan=\"2\" nowrap=\"\">2149</td></tr>,\n",
       " <tr align=\"center\" class=\"list1\" onmouseout=\"this.style.backgroundColor=''\" onmouseover=\"this.style.backgroundColor='#F5F5F5'\" style=\"height:50;word-break:break-all;\" valign=\"middle\">\n",
       " <td class=\"eng list_vspace\" colspan=\"2\">\n",
       " 323872\t</td> <td class=\"han4 list_vspace\" colspan=\"2\" nowrap=\"\"><nobr class=\"han4 list_vspace\">상품권</nobr></td>\n",
       " <!--<td nowrap colspan=2 style='padding:0'><input type=checkbox name=cart value=\"323872\"></td>-->\n",
       " <td align=\"left\" class=\"list_vspace\" colspan=\"2\"><div class=\"list_name\" style=\"width:80px;overflow:hidden;text-overflow:ellipsis\"><nobr class=\"list_name\"> <a href=\"#\" onclick=\"return false\"><span class=\"list_name\">lmk1481</span></a></nobr></div></td> <td align=\"left\" class=\"list_vspace\">\n",
       " <table border=\"0\" cellpadding=\"0\" cellspacing=\"0\" height=\"100%\" style=\"table-layout:fixed\" width=\"100%\">\n",
       " <tr>\n",
       " <td align=\"right\" style=\"padding:0 5px 0 0\" valign=\"top\" width=\"75\"><a href=\"zboard.php?id=ppomppu&amp;page=1&amp;divpage=56&amp;&amp;no=323872\" onfocus=\"blur()\" tooltip=\"P_img://cdn.ppomppu.co.kr/zboard/data3/2019/0716/m_20190716123246_niqzaoco.png\"><img align=\"absmiddle\" border=\"0\" class=\"thumb_border\" height=\"50\" onerror=\"this.src='//static.ppomppu.co.kr/www/img/noimage/noimage_60x50.jpg'\" onfocus=\"blur()\" src=\"//cdn.ppomppu.co.kr/zboard/data/_thumb/ppomppu/2/small_323872.jpg?t=20190716123402\" style=\"margin:0px 5px 0px 5px;\" width=\"60\"/></a></td>\n",
       " <td valign=\"middle\">\n",
       " <img src=\"/images/menu/hot_icon2.jpg\"/> <a href=\"zboard.php?id=ppomppu&amp;page=1&amp;divpage=56&amp;no=323872\"><font class=\"list_title\">[티몬] (티몬페이전용)해피머니 10만원권 3장(271,500원/쿠폰적용시 269,900원)</font></a> <span class=\"list_comment2\"> <span onclick='win_comment(\"popup_comment.php?id=ppomppu&amp;no=323872\");' style=\"cursor:pointer;\">32</span> </span> </td></tr></table></td>\n",
       " <td class=\"eng list_vspace\" colspan=\"2\" nowrap=\"\" title=\"19.07.16 12:33:29\"><nobr class=\"eng list_vspace\">12:33:29</nobr></td> <td class=\"eng list_vspace\" colspan=\"2\" nowrap=\"\">33 - 0</td> <td class=\"eng list_vspace\" colspan=\"2\" nowrap=\"\">8296</td></tr>,\n",
       " <tr align=\"center\" class=\"list0\" onmouseout=\"this.style.backgroundColor=''\" onmouseover=\"this.style.backgroundColor='#F5F5F5'\" style=\"height:50;word-break:break-all;\" valign=\"middle\">\n",
       " <td class=\"eng list_vspace\" colspan=\"2\">\n",
       " 323871\t</td> <td class=\"han4 list_vspace\" colspan=\"2\" nowrap=\"\"><nobr class=\"han4 list_vspace\">디지털</nobr></td>\n",
       " <!--<td nowrap colspan=2 style='padding:0'><input type=checkbox name=cart value=\"323871\"></td>-->\n",
       " <td align=\"left\" class=\"list_vspace\" colspan=\"2\"><div class=\"list_name\" style=\"width:80px;overflow:hidden;text-overflow:ellipsis\"><nobr class=\"list_name\"> <a href=\"#\" onclick=\"return false\"><span class=\"list_name\">Ascii</span></a></nobr></div></td> <td align=\"left\" class=\"list_vspace\">\n",
       " <table border=\"0\" cellpadding=\"0\" cellspacing=\"0\" height=\"100%\" style=\"table-layout:fixed\" width=\"100%\">\n",
       " <tr>\n",
       " <td align=\"right\" style=\"padding:0 5px 0 0\" valign=\"top\" width=\"75\"><a href=\"zboard.php?id=ppomppu&amp;page=1&amp;divpage=56&amp;&amp;no=323871\" onfocus=\"blur()\" tooltip=\"P_img://cdn.ppomppu.co.kr/zboard/data3/2019/0716/m_20190716122228_ezlmclxt.png\"><img align=\"absmiddle\" border=\"0\" class=\"thumb_border\" height=\"50\" onerror=\"this.src='//static.ppomppu.co.kr/www/img/noimage/noimage_60x50.jpg'\" onfocus=\"blur()\" src=\"//cdn.ppomppu.co.kr/zboard/data/_thumb/ppomppu/1/small_323871.jpg?t=20190716121801\" style=\"margin:0px 5px 0px 5px;\" width=\"60\"/></a></td>\n",
       " <td valign=\"middle\">\n",
       " <img src=\"/images/menu/hot_icon2.jpg\"/> <a href=\"zboard.php?id=ppomppu&amp;page=1&amp;divpage=56&amp;no=323871\"><font class=\"list_title\">[티몬] 해피머니 10만원권 (90,900원/0원)</font></a> <span class=\"list_comment2\"> <span onclick='win_comment(\"popup_comment.php?id=ppomppu&amp;no=323871\");' style=\"cursor:pointer;\">98</span> </span> </td></tr></table></td>\n",
       " <td class=\"eng list_vspace\" colspan=\"2\" nowrap=\"\" title=\"19.07.16 12:22:33\"><nobr class=\"eng list_vspace\">12:22:33</nobr></td> <td class=\"eng list_vspace\" colspan=\"2\" nowrap=\"\">78 - 0</td> <td class=\"eng list_vspace\" colspan=\"2\" nowrap=\"\">12147</td></tr>,\n",
       " <tr align=\"center\" class=\"list1\" onmouseout=\"this.style.backgroundColor=''\" onmouseover=\"this.style.backgroundColor='#F5F5F5'\" style=\"height:50;word-break:break-all;\" valign=\"middle\">\n",
       " <td class=\"eng list_vspace\" colspan=\"2\">\n",
       " 323870\t</td> <td class=\"han4 list_vspace\" colspan=\"2\" nowrap=\"\"><nobr class=\"han4 list_vspace\">식품/건강</nobr></td>\n",
       " <!--<td nowrap colspan=2 style='padding:0'><input type=checkbox name=cart value=\"323870\"></td>-->\n",
       " <td align=\"left\" class=\"list_vspace\" colspan=\"2\"><div class=\"list_name\" style=\"width:80px;overflow:hidden;text-overflow:ellipsis\"><nobr class=\"list_name\"> <a href=\"#\" onclick=\"return false\"><span class=\"list_name\">번동몬스타</span></a></nobr></div></td> <td align=\"left\" class=\"list_vspace\">\n",
       " <table border=\"0\" cellpadding=\"0\" cellspacing=\"0\" height=\"100%\" style=\"table-layout:fixed\" width=\"100%\">\n",
       " <tr>\n",
       " <td align=\"right\" style=\"padding:0 5px 0 0\" valign=\"top\" width=\"75\"><a href=\"zboard.php?id=ppomppu&amp;page=1&amp;divpage=56&amp;&amp;no=323870\" onfocus=\"blur()\" tooltip=\"P_img://cdn.ppomppu.co.kr/zboard/data3/2019/0716/m_20190716121820_vcpimplf.jpg\"><img align=\"absmiddle\" border=\"0\" class=\"thumb_border\" height=\"50\" onerror=\"this.src='//static.ppomppu.co.kr/www/img/noimage/noimage_60x50.jpg'\" onfocus=\"blur()\" src=\"//cdn.ppomppu.co.kr/zboard/data/_thumb/ppomppu/0/small_323870.jpg?t=20190716121542\" style=\"margin:0px 5px 0px 5px;\" width=\"60\"/></a></td>\n",
       " <td valign=\"middle\">\n",
       " <a href=\"zboard.php?id=ppomppu&amp;page=1&amp;divpage=56&amp;no=323870\"><font class=\"list_title\">[티몬] 1등급 한돈 삼겹살 600g (6,500/무료배송)</font></a> <span class=\"list_comment2\"> <span onclick='win_comment(\"popup_comment.php?id=ppomppu&amp;no=323870\");' style=\"cursor:pointer;\">22</span> </span> </td></tr></table></td>\n",
       " <td class=\"eng list_vspace\" colspan=\"2\" nowrap=\"\" title=\"19.07.16 12:20:14\"><nobr class=\"eng list_vspace\">12:20:14</nobr></td> <td class=\"eng list_vspace\" colspan=\"2\" nowrap=\"\">1 - 0</td> <td class=\"eng list_vspace\" colspan=\"2\" nowrap=\"\">5109</td></tr>,\n",
       " <tr align=\"center\" class=\"list0\" onmouseout=\"this.style.backgroundColor=''\" onmouseover=\"this.style.backgroundColor='#F5F5F5'\" style=\"height:50;word-break:break-all;\" valign=\"middle\">\n",
       " <td class=\"eng list_vspace\" colspan=\"2\">\n",
       " 323869\t</td> <td class=\"han4 list_vspace\" colspan=\"2\" nowrap=\"\"><nobr class=\"han4 list_vspace\">식품/건강</nobr></td>\n",
       " <!--<td nowrap colspan=2 style='padding:0'><input type=checkbox name=cart value=\"323869\"></td>-->\n",
       " <td align=\"left\" class=\"list_vspace\" colspan=\"2\"><div class=\"list_name\" style=\"width:80px;overflow:hidden;text-overflow:ellipsis\"><nobr class=\"list_name\"> <a href=\"#\" onclick=\"return false\"><span class=\"list_name\">갑부님</span></a></nobr></div></td> <td align=\"left\" class=\"list_vspace\">\n",
       " <table border=\"0\" cellpadding=\"0\" cellspacing=\"0\" height=\"100%\" style=\"table-layout:fixed\" width=\"100%\">\n",
       " <tr>\n",
       " <td align=\"right\" style=\"padding:0 5px 0 0\" valign=\"top\" width=\"75\"><a href=\"zboard.php?id=ppomppu&amp;page=1&amp;divpage=56&amp;&amp;no=323869\" onfocus=\"blur()\" tooltip=\"P_img://cdn.ppomppu.co.kr/zboard/data3/2019/0716/m_20190716115023_ixormilr.png\"><img align=\"absmiddle\" border=\"0\" class=\"thumb_border\" height=\"50\" onerror=\"this.src='//static.ppomppu.co.kr/www/img/noimage/noimage_60x50.jpg'\" onfocus=\"blur()\" src=\"//cdn.ppomppu.co.kr/zboard/data/_thumb/ppomppu/9/small_323869.jpg?t=20190716114613\" style=\"margin:0px 5px 0px 5px;\" width=\"60\"/></a></td>\n",
       " <td valign=\"middle\">\n",
       " <img src=\"/images/menu/pop_icon2.jpg\"/> <a href=\"zboard.php?id=ppomppu&amp;page=1&amp;divpage=56&amp;no=323869\"><font class=\"list_title\">[우체국쇼핑] 진안 매콤화끈 중독의맛 뼈없는 직화불닭발 1+1(2팩)(8500/무료) 쿠폰적용시7650</font></a> <span class=\"list_comment2\"> <span onclick='win_comment(\"popup_comment.php?id=ppomppu&amp;no=323869\");' style=\"cursor:pointer;\">45</span> </span> </td></tr></table></td>\n",
       " <td class=\"eng list_vspace\" colspan=\"2\" nowrap=\"\" title=\"19.07.16 11:50:45\"><nobr class=\"eng list_vspace\">11:50:45</nobr></td> <td class=\"eng list_vspace\" colspan=\"2\" nowrap=\"\">6 - 0</td> <td class=\"eng list_vspace\" colspan=\"2\" nowrap=\"\">3868</td></tr>,\n",
       " <tr align=\"center\" class=\"list1\" onmouseout=\"this.style.backgroundColor=''\" onmouseover=\"this.style.backgroundColor='#F5F5F5'\" style=\"height:50;word-break:break-all;\" valign=\"middle\">\n",
       " <td class=\"eng list_vspace\" colspan=\"2\">\n",
       " 323868\t</td> <td class=\"han4 list_vspace\" colspan=\"2\" nowrap=\"\"><nobr class=\"han4 list_vspace\">디지털</nobr></td>\n",
       " <!--<td nowrap colspan=2 style='padding:0'><input type=checkbox name=cart value=\"323868\"></td>-->\n",
       " <td align=\"left\" class=\"list_vspace\" colspan=\"2\"><div class=\"list_name\" style=\"width:80px;overflow:hidden;text-overflow:ellipsis\"><nobr class=\"list_name\"> <a href=\"#\" onclick=\"return false\"><span class=\"list_name\">준내싸다</span></a></nobr></div></td> <td align=\"left\" class=\"list_vspace\">\n",
       " <table border=\"0\" cellpadding=\"0\" cellspacing=\"0\" height=\"100%\" style=\"table-layout:fixed\" width=\"100%\">\n",
       " <tr>\n",
       " <td align=\"right\" style=\"padding:0 5px 0 0\" valign=\"top\" width=\"75\"><a href=\"zboard.php?id=ppomppu&amp;page=1&amp;divpage=56&amp;&amp;no=323868\" onfocus=\"blur()\" tooltip=\"P_img://cdn.ppomppu.co.kr/zboard/data3/2019/0716/m_20190716113151_hokwnxtg.png\"><img align=\"absmiddle\" border=\"0\" class=\"thumb_border\" height=\"50\" onerror=\"this.src='//static.ppomppu.co.kr/www/img/noimage/noimage_60x50.jpg'\" onfocus=\"blur()\" src=\"//cdn.ppomppu.co.kr/zboard/data/_thumb/ppomppu/8/small_323868.jpg?t=20190716114856\" style=\"margin:0px 5px 0px 5px;\" width=\"60\"/></a></td>\n",
       " <td valign=\"middle\">\n",
       " <img src=\"/images/menu/hot_icon2.jpg\"/> <a href=\"zboard.php?id=ppomppu&amp;page=1&amp;divpage=56&amp;no=323868\"><font class=\"list_title\">[유튜브] 유튜브프리미엄 인도 ( 2200원(월), 3200원(월)6명 / 무료)</font></a> <span class=\"list_comment2\"> <span onclick='win_comment(\"popup_comment.php?id=ppomppu&amp;no=323868\");' style=\"cursor:pointer;\">401</span> </span> </td></tr></table></td>\n",
       " <td class=\"eng list_vspace\" colspan=\"2\" nowrap=\"\" title=\"19.07.16 11:30:29\"><nobr class=\"eng list_vspace\">11:30:29</nobr></td> <td class=\"eng list_vspace\" colspan=\"2\" nowrap=\"\">77 - 16</td> <td class=\"eng list_vspace\" colspan=\"2\" nowrap=\"\">35288</td></tr>,\n",
       " <tr align=\"center\" class=\"list0\" onmouseout=\"this.style.backgroundColor=''\" onmouseover=\"this.style.backgroundColor='#F5F5F5'\" style=\"height:50;word-break:break-all;\" valign=\"middle\">\n",
       " <td class=\"eng list_vspace\" colspan=\"2\">\n",
       " 323867\t</td> <td class=\"han4 list_vspace\" colspan=\"2\" nowrap=\"\"><nobr class=\"han4 list_vspace\">디지털</nobr></td>\n",
       " <!--<td nowrap colspan=2 style='padding:0'><input type=checkbox name=cart value=\"323867\"></td>-->\n",
       " <td align=\"left\" class=\"list_vspace\" colspan=\"2\"><div class=\"list_name\" style=\"width:80px;overflow:hidden;text-overflow:ellipsis\"><nobr class=\"list_name\"> <a href=\"#\" onclick=\"return false\"><span class=\"list_name\">마스크필수</span></a></nobr></div></td> <td align=\"left\" class=\"list_vspace\">\n",
       " <table border=\"0\" cellpadding=\"0\" cellspacing=\"0\" height=\"100%\" style=\"table-layout:fixed\" width=\"100%\">\n",
       " <tr>\n",
       " <td align=\"right\" style=\"padding:0 5px 0 0\" valign=\"top\" width=\"75\"><a href=\"zboard.php?id=ppomppu&amp;page=1&amp;divpage=56&amp;&amp;no=323867\" onfocus=\"blur()\" tooltip=\"P_img://cdn.ppomppu.co.kr/zboard/data3/2019/0716/m_20190716112425_qevulpnv.jpg\"><img align=\"absmiddle\" border=\"0\" class=\"thumb_border\" height=\"50\" onerror=\"this.src='//static.ppomppu.co.kr/www/img/noimage/noimage_60x50.jpg'\" onfocus=\"blur()\" src=\"//cdn.ppomppu.co.kr/zboard/data/_thumb/ppomppu/7/small_323867.jpg?t=20190716112037\" style=\"margin:0px 5px 0px 5px;\" width=\"60\"/></a></td>\n",
       " <td valign=\"middle\">\n",
       " <a href=\"zboard.php?id=ppomppu&amp;page=1&amp;divpage=56&amp;no=323867\"><font color=\"#ACACAC\">[KW 주식회사 ] 휴대용 미니 선풍기 ( 5,900~8,900 / 무료)</font></a> <span class=\"list_comment2\"> <span onclick='win_comment(\"popup_comment.php?id=ppomppu&amp;no=323867\");' style=\"cursor:pointer;\">8</span> </span> <img src=\"/zboard/skin/DQ_Revolution_BBS_New1/end_icon.PNG\"> </img></td></tr></table></td>\n",
       " <td class=\"eng list_vspace\" colspan=\"2\" nowrap=\"\" title=\"19.07.16 11:25:09\"><nobr class=\"eng list_vspace\">11:25:09</nobr></td> <td class=\"eng list_vspace\" colspan=\"2\" nowrap=\"\">0 - 1</td> <td class=\"eng list_vspace\" colspan=\"2\" nowrap=\"\">2382</td></tr>,\n",
       " <tr align=\"center\" class=\"list1\" onmouseout=\"this.style.backgroundColor=''\" onmouseover=\"this.style.backgroundColor='#F5F5F5'\" style=\"height:50;word-break:break-all;\" valign=\"middle\">\n",
       " <td class=\"eng list_vspace\" colspan=\"2\">\n",
       " 323866\t</td> <td class=\"han4 list_vspace\" colspan=\"2\" nowrap=\"\"><nobr class=\"han4 list_vspace\">디지털</nobr></td>\n",
       " <!--<td nowrap colspan=2 style='padding:0'><input type=checkbox name=cart value=\"323866\"></td>-->\n",
       " <td align=\"left\" class=\"list_vspace\" colspan=\"2\"><div class=\"list_name\" style=\"width:80px;overflow:hidden;text-overflow:ellipsis\"><nobr class=\"list_name\"> <a href=\"#\" onclick=\"return false\"><span class=\"list_name\">pastrami</span></a></nobr></div></td> <td align=\"left\" class=\"list_vspace\">\n",
       " <table border=\"0\" cellpadding=\"0\" cellspacing=\"0\" height=\"100%\" style=\"table-layout:fixed\" width=\"100%\">\n",
       " <tr>\n",
       " <td align=\"right\" style=\"padding:0 5px 0 0\" valign=\"top\" width=\"75\"><a href=\"zboard.php?id=ppomppu&amp;page=1&amp;divpage=56&amp;&amp;no=323866\" onfocus=\"blur()\" tooltip=\"P_img://cdn.ppomppu.co.kr/zboard/data3/2019/0716/m_20190716112017_ubwlaodn.jpg\"><img align=\"absmiddle\" border=\"0\" class=\"thumb_border\" height=\"50\" onerror=\"this.src='//static.ppomppu.co.kr/www/img/noimage/noimage_60x50.jpg'\" onfocus=\"blur()\" src=\"//cdn.ppomppu.co.kr/zboard/data/_thumb/ppomppu/6/small_323866.jpg?t=20190716111807\" style=\"margin:0px 5px 0px 5px;\" width=\"60\"/></a></td>\n",
       " <td valign=\"middle\">\n",
       " <a href=\"zboard.php?id=ppomppu&amp;page=1&amp;divpage=56&amp;no=323866\"><font class=\"list_title\">[11번가] 벨킨 스마트폰 전기종 호환 충전케이블(9,900/무배)</font></a> <span class=\"list_comment2\"> <span onclick='win_comment(\"popup_comment.php?id=ppomppu&amp;no=323866\");' style=\"cursor:pointer;\">21</span> </span> </td></tr></table></td>\n",
       " <td class=\"eng list_vspace\" colspan=\"2\" nowrap=\"\" title=\"19.07.16 11:22:39\"><nobr class=\"eng list_vspace\">11:22:39</nobr></td> <td class=\"eng list_vspace\" colspan=\"2\" nowrap=\"\">3 - 0</td> <td class=\"eng list_vspace\" colspan=\"2\" nowrap=\"\">3208</td></tr>,\n",
       " <tr align=\"center\" class=\"list0\" onmouseout=\"this.style.backgroundColor=''\" onmouseover=\"this.style.backgroundColor='#F5F5F5'\" style=\"height:50;word-break:break-all;\" valign=\"middle\">\n",
       " <td class=\"eng list_vspace\" colspan=\"2\">\n",
       " 323865\t</td> <td class=\"han4 list_vspace\" colspan=\"2\" nowrap=\"\"><nobr class=\"han4 list_vspace\">의류/잡화</nobr></td>\n",
       " <!--<td nowrap colspan=2 style='padding:0'><input type=checkbox name=cart value=\"323865\"></td>-->\n",
       " <td align=\"left\" class=\"list_vspace\" colspan=\"2\"><div class=\"list_name\" style=\"width:80px;overflow:hidden;text-overflow:ellipsis\"><nobr class=\"list_name\"> <a href=\"#\" onclick=\"return false\"><span class=\"list_name\">amsoji</span></a></nobr></div></td> <td align=\"left\" class=\"list_vspace\">\n",
       " <table border=\"0\" cellpadding=\"0\" cellspacing=\"0\" height=\"100%\" style=\"table-layout:fixed\" width=\"100%\">\n",
       " <tr>\n",
       " <td align=\"right\" style=\"padding:0 5px 0 0\" valign=\"top\" width=\"75\"><a href=\"zboard.php?id=ppomppu&amp;page=1&amp;divpage=56&amp;&amp;no=323865\" onfocus=\"blur()\" tooltip=\"P_img://cdn.ppomppu.co.kr/zboard/data3/2019/0716/m_20190716111849_odeerncu.jpg\"><img align=\"absmiddle\" border=\"0\" class=\"thumb_border\" height=\"50\" onerror=\"this.src='//static.ppomppu.co.kr/www/img/noimage/noimage_60x50.jpg'\" onfocus=\"blur()\" src=\"//cdn.ppomppu.co.kr/zboard/data/_thumb/ppomppu/5/small_323865.jpg?t=20190716111521\" style=\"margin:0px 5px 0px 5px;\" width=\"60\"/></a></td>\n",
       " <td valign=\"middle\">\n",
       " <img src=\"/images/menu/pop_icon2.jpg\"/> <a href=\"zboard.php?id=ppomppu&amp;page=1&amp;divpage=56&amp;no=323865\"><font class=\"list_title\">[네이버스토어팜] 뉴발란스 잔테v3 (49,800원/무료)</font></a> <span class=\"list_comment2\"> <span onclick='win_comment(\"popup_comment.php?id=ppomppu&amp;no=323865\");' style=\"cursor:pointer;\">54</span> </span> </td></tr></table></td>\n",
       " <td class=\"eng list_vspace\" colspan=\"2\" nowrap=\"\" title=\"19.07.16 11:19:39\"><nobr class=\"eng list_vspace\">11:19:39</nobr></td> <td class=\"eng list_vspace\" colspan=\"2\" nowrap=\"\">10 - 0</td> <td class=\"eng list_vspace\" colspan=\"2\" nowrap=\"\">9139</td></tr>,\n",
       " <tr align=\"center\" class=\"list1\" onmouseout=\"this.style.backgroundColor=''\" onmouseover=\"this.style.backgroundColor='#F5F5F5'\" style=\"height:50;word-break:break-all;\" valign=\"middle\">\n",
       " <td class=\"eng list_vspace\" colspan=\"2\">\n",
       " 323864\t</td> <td class=\"han4 list_vspace\" colspan=\"2\" nowrap=\"\"><nobr class=\"han4 list_vspace\">기타</nobr></td>\n",
       " <!--<td nowrap colspan=2 style='padding:0'><input type=checkbox name=cart value=\"323864\"></td>-->\n",
       " <td align=\"left\" class=\"list_vspace\" colspan=\"2\"><div class=\"list_name\" style=\"width:80px;overflow:hidden;text-overflow:ellipsis\"><nobr class=\"list_name\"> <a href=\"#\" onclick=\"return false\"><span class=\"list_name\">suk20734</span></a></nobr></div></td> <td align=\"left\" class=\"list_vspace\">\n",
       " <table border=\"0\" cellpadding=\"0\" cellspacing=\"0\" height=\"100%\" style=\"table-layout:fixed\" width=\"100%\">\n",
       " <tr>\n",
       " <td align=\"right\" style=\"padding:0 5px 0 0\" valign=\"top\" width=\"75\"><a href=\"zboard.php?id=ppomppu&amp;page=1&amp;divpage=56&amp;&amp;no=323864\" onfocus=\"blur()\" tooltip=\"P_img://cdn.ppomppu.co.kr/zboard/data3/2019/0716/m_20190716110424_bnowfley.png\"><img align=\"absmiddle\" border=\"0\" class=\"thumb_border\" height=\"50\" onerror=\"this.src='//static.ppomppu.co.kr/www/img/noimage/noimage_60x50.jpg'\" onfocus=\"blur()\" src=\"//cdn.ppomppu.co.kr/zboard/data/_thumb/ppomppu/4/small_323864.jpg?t=20190716110141\" style=\"margin:0px 5px 0px 5px;\" width=\"60\"/></a></td>\n",
       " <td valign=\"middle\">\n",
       " <a href=\"zboard.php?id=ppomppu&amp;page=1&amp;divpage=56&amp;no=323864\"><font class=\"list_title\">[LG생활건강] 홈스타 뿌리는 곰팡이 (9,900/무료)</font></a> <span class=\"list_comment2\"> <span onclick='win_comment(\"popup_comment.php?id=ppomppu&amp;no=323864\");' style=\"cursor:pointer;\">29</span> </span> </td></tr></table></td>\n",
       " <td class=\"eng list_vspace\" colspan=\"2\" nowrap=\"\" title=\"19.07.16 11:06:13\"><nobr class=\"eng list_vspace\">11:06:13</nobr></td> <td class=\"eng list_vspace\" colspan=\"2\" nowrap=\"\">3 - 0</td> <td class=\"eng list_vspace\" colspan=\"2\" nowrap=\"\">2175</td></tr>,\n",
       " <tr align=\"center\" class=\"list0\" onmouseout=\"this.style.backgroundColor=''\" onmouseover=\"this.style.backgroundColor='#F5F5F5'\" style=\"height:50;word-break:break-all;\" valign=\"middle\">\n",
       " <td class=\"eng list_vspace\" colspan=\"2\">\n",
       " 323863\t</td> <td class=\"han4 list_vspace\" colspan=\"2\" nowrap=\"\"><nobr class=\"han4 list_vspace\">컴퓨터</nobr></td>\n",
       " <!--<td nowrap colspan=2 style='padding:0'><input type=checkbox name=cart value=\"323863\"></td>-->\n",
       " <td align=\"left\" class=\"list_vspace\" colspan=\"2\"><div class=\"list_name\" style=\"width:80px;overflow:hidden;text-overflow:ellipsis\"><nobr class=\"list_name\"> <a href=\"#\" onclick=\"return false\"><span class=\"list_name\">등대e</span></a></nobr></div></td> <td align=\"left\" class=\"list_vspace\">\n",
       " <table border=\"0\" cellpadding=\"0\" cellspacing=\"0\" height=\"100%\" style=\"table-layout:fixed\" width=\"100%\">\n",
       " <tr>\n",
       " <td align=\"right\" style=\"padding:0 5px 0 0\" valign=\"top\" width=\"75\"><a href=\"zboard.php?id=ppomppu&amp;page=1&amp;divpage=56&amp;&amp;no=323863\" onfocus=\"blur()\" tooltip=\"P_img://cdn.ppomppu.co.kr/zboard/data3/2019/0716/m_20190716104744_bddoyysb.jpg\"><img align=\"absmiddle\" border=\"0\" class=\"thumb_border\" height=\"50\" onerror=\"this.src='//static.ppomppu.co.kr/www/img/noimage/noimage_60x50.jpg'\" onfocus=\"blur()\" src=\"//cdn.ppomppu.co.kr/zboard/data/_thumb/ppomppu/3/small_323863.jpg?t=20190716104522\" style=\"margin:0px 5px 0px 5px;\" width=\"60\"/></a></td>\n",
       " <td valign=\"middle\">\n",
       " <a href=\"zboard.php?id=ppomppu&amp;page=1&amp;divpage=56&amp;no=323863\"><font color=\"#ACACAC\">[네이버쇼핑] 잘만 CNPS10X OPTIMA II 블랙 CPU쿨러 (19,900/2500)</font></a> <span class=\"list_comment2\"> <span onclick='win_comment(\"popup_comment.php?id=ppomppu&amp;no=323863\");' style=\"cursor:pointer;\">15</span> </span> <img src=\"/zboard/skin/DQ_Revolution_BBS_New1/end_icon.PNG\"> </img></td></tr></table></td>\n",
       " <td class=\"eng list_vspace\" colspan=\"2\" nowrap=\"\" title=\"19.07.16 10:49:07\"><nobr class=\"eng list_vspace\">10:49:07</nobr></td> <td class=\"eng list_vspace\" colspan=\"2\" nowrap=\"\">1 - 0</td> <td class=\"eng list_vspace\" colspan=\"2\" nowrap=\"\">3102</td></tr>,\n",
       " <tr align=\"center\" class=\"list1\" onmouseout=\"this.style.backgroundColor=''\" onmouseover=\"this.style.backgroundColor='#F5F5F5'\" style=\"height:50;word-break:break-all;\" valign=\"middle\">\n",
       " <td class=\"eng list_vspace\" colspan=\"2\">\n",
       " 323862\t</td> <td class=\"han4 list_vspace\" colspan=\"2\" nowrap=\"\"><nobr class=\"han4 list_vspace\">식품/건강</nobr></td>\n",
       " <!--<td nowrap colspan=2 style='padding:0'><input type=checkbox name=cart value=\"323862\"></td>-->\n",
       " <td align=\"left\" class=\"list_vspace\" colspan=\"2\"><div class=\"list_name\" style=\"width:80px;overflow:hidden;text-overflow:ellipsis\"><nobr class=\"list_name\"> <a href=\"#\" onclick=\"return false\"><span class=\"list_name\">갓코재</span></a></nobr></div></td> <td align=\"left\" class=\"list_vspace\">\n",
       " <table border=\"0\" cellpadding=\"0\" cellspacing=\"0\" height=\"100%\" style=\"table-layout:fixed\" width=\"100%\">\n",
       " <tr>\n",
       " <td align=\"right\" style=\"padding:0 5px 0 0\" valign=\"top\" width=\"75\"><a href=\"zboard.php?id=ppomppu&amp;page=1&amp;divpage=56&amp;&amp;no=323862\" onfocus=\"blur()\"><img align=\"absmiddle\" border=\"0\" class=\"thumb_border\" height=\"50\" onfocus=\"blur()\" src=\"//static.ppomppu.co.kr/www/img/noimage/noimage_60x50.jpg\" style=\"margin:0px 5px 0px 5px;\" width=\"60\"/></a></td>\n",
       " <td valign=\"middle\">\n",
       " <a href=\"zboard.php?id=ppomppu&amp;page=1&amp;divpage=56&amp;no=323862\"><font class=\"list_title\">[Gsshop] 본이트츄잉캔디(12900/무배)</font></a> <span class=\"list_comment2\"> <span onclick='win_comment(\"popup_comment.php?id=ppomppu&amp;no=323862\");' style=\"cursor:pointer;\">6</span> </span> </td></tr></table></td>\n",
       " <td class=\"eng list_vspace\" colspan=\"2\" nowrap=\"\" title=\"19.07.16 10:44:35\"><nobr class=\"eng list_vspace\">10:44:35</nobr></td> <td class=\"eng list_vspace\" colspan=\"2\" nowrap=\"\"></td> <td class=\"eng list_vspace\" colspan=\"2\" nowrap=\"\">1295</td></tr>,\n",
       " <tr align=\"center\" class=\"list0\" onmouseout=\"this.style.backgroundColor=''\" onmouseover=\"this.style.backgroundColor='#F5F5F5'\" style=\"height:50;word-break:break-all;\" valign=\"middle\">\n",
       " <td class=\"eng list_vspace\" colspan=\"2\">\n",
       " 323861\t</td> <td class=\"han4 list_vspace\" colspan=\"2\" nowrap=\"\"><nobr class=\"han4 list_vspace\">가전/가구</nobr></td>\n",
       " <!--<td nowrap colspan=2 style='padding:0'><input type=checkbox name=cart value=\"323861\"></td>-->\n",
       " <td align=\"left\" class=\"list_vspace\" colspan=\"2\"><div class=\"list_name\" style=\"width:80px;overflow:hidden;text-overflow:ellipsis\"><nobr class=\"list_name\"> <a href=\"#\" onclick=\"return false\"><span class=\"list_name\">세스코999</span></a></nobr></div></td> <td align=\"left\" class=\"list_vspace\">\n",
       " <table border=\"0\" cellpadding=\"0\" cellspacing=\"0\" height=\"100%\" style=\"table-layout:fixed\" width=\"100%\">\n",
       " <tr>\n",
       " <td align=\"right\" style=\"padding:0 5px 0 0\" valign=\"top\" width=\"75\"><a href=\"zboard.php?id=ppomppu&amp;page=1&amp;divpage=56&amp;&amp;no=323861\" onfocus=\"blur()\" tooltip=\"P_img://cdn.ppomppu.co.kr/zboard/data3/2019/0716/m_20190716102419_vqkqousy.png\"><img align=\"absmiddle\" border=\"0\" class=\"thumb_border\" height=\"50\" onerror=\"this.src='//static.ppomppu.co.kr/www/img/noimage/noimage_60x50.jpg'\" onfocus=\"blur()\" src=\"//cdn.ppomppu.co.kr/zboard/data/_thumb/ppomppu/1/small_323861.jpg?t=20190716103430\" style=\"margin:0px 5px 0px 5px;\" width=\"60\"/></a></td>\n",
       " <td valign=\"middle\">\n",
       " <a href=\"zboard.php?id=ppomppu&amp;page=1&amp;divpage=56&amp;no=323861\"><font class=\"list_title\">[11번가] LG 식기세척기 DFB22W (1,119,000/무료배송)</font></a> <span class=\"list_comment2\"> <span onclick='win_comment(\"popup_comment.php?id=ppomppu&amp;no=323861\");' style=\"cursor:pointer;\">19</span> </span> </td></tr></table></td>\n",
       " <td class=\"eng list_vspace\" colspan=\"2\" nowrap=\"\" title=\"19.07.16 10:39:02\"><nobr class=\"eng list_vspace\">10:39:02</nobr></td> <td class=\"eng list_vspace\" colspan=\"2\" nowrap=\"\"></td> <td class=\"eng list_vspace\" colspan=\"2\" nowrap=\"\">2388</td></tr>,\n",
       " <tr align=\"center\" class=\"list1\" onmouseout=\"this.style.backgroundColor=''\" onmouseover=\"this.style.backgroundColor='#F5F5F5'\" style=\"height:50;word-break:break-all;\" valign=\"middle\">\n",
       " <td class=\"eng list_vspace\" colspan=\"2\">\n",
       " 323860\t</td> <td class=\"han4 list_vspace\" colspan=\"2\" nowrap=\"\"><nobr class=\"han4 list_vspace\">가전/가구</nobr></td>\n",
       " <!--<td nowrap colspan=2 style='padding:0'><input type=checkbox name=cart value=\"323860\"></td>-->\n",
       " <td align=\"left\" class=\"list_vspace\" colspan=\"2\"><div class=\"list_name\" style=\"width:80px;overflow:hidden;text-overflow:ellipsis\"><nobr class=\"list_name\"> <a href=\"#\" onclick=\"return false\"><span class=\"list_name\">우지니13</span></a></nobr></div></td> <td align=\"left\" class=\"list_vspace\">\n",
       " <table border=\"0\" cellpadding=\"0\" cellspacing=\"0\" height=\"100%\" style=\"table-layout:fixed\" width=\"100%\">\n",
       " <tr>\n",
       " <td align=\"right\" style=\"padding:0 5px 0 0\" valign=\"top\" width=\"75\"><a href=\"zboard.php?id=ppomppu&amp;page=1&amp;divpage=56&amp;&amp;no=323860\" onfocus=\"blur()\" tooltip=\"P_img://cdn.ppomppu.co.kr/zboard/data3/2019/0716/m_20190716102333_fhcisnlp.png\"><img align=\"absmiddle\" border=\"0\" class=\"thumb_border\" height=\"50\" onerror=\"this.src='//static.ppomppu.co.kr/www/img/noimage/noimage_60x50.jpg'\" onfocus=\"blur()\" src=\"//cdn.ppomppu.co.kr/zboard/data/_thumb/ppomppu/0/small_323860.jpg?t=20190716102757\" style=\"margin:0px 5px 0px 5px;\" width=\"60\"/></a></td>\n",
       " <td valign=\"middle\">\n",
       " <a href=\"zboard.php?id=ppomppu&amp;page=1&amp;divpage=56&amp;no=323860\"><font class=\"list_title\">[옥션] 유니온 135c 55인치 UHDTV  (299,000/무료)</font></a> <span class=\"list_comment2\"> <span onclick='win_comment(\"popup_comment.php?id=ppomppu&amp;no=323860\");' style=\"cursor:pointer;\">40</span> </span> </td></tr></table></td>\n",
       " <td class=\"eng list_vspace\" colspan=\"2\" nowrap=\"\" title=\"19.07.16 10:23:56\"><nobr class=\"eng list_vspace\">10:23:56</nobr></td> <td class=\"eng list_vspace\" colspan=\"2\" nowrap=\"\">2 - 2</td> <td class=\"eng list_vspace\" colspan=\"2\" nowrap=\"\">5558</td></tr>,\n",
       " <tr align=\"center\" class=\"list0\" onmouseout=\"this.style.backgroundColor=''\" onmouseover=\"this.style.backgroundColor='#F5F5F5'\" style=\"height:50;word-break:break-all;\" valign=\"middle\">\n",
       " <td class=\"eng list_vspace\" colspan=\"2\">\n",
       " 323859\t</td> <td class=\"han4 list_vspace\" colspan=\"2\" nowrap=\"\"><nobr class=\"han4 list_vspace\">화장품</nobr></td>\n",
       " <!--<td nowrap colspan=2 style='padding:0'><input type=checkbox name=cart value=\"323859\"></td>-->\n",
       " <td align=\"left\" class=\"list_vspace\" colspan=\"2\"><div class=\"list_name\" style=\"width:80px;overflow:hidden;text-overflow:ellipsis\"><nobr class=\"list_name\"> <a href=\"#\" onclick=\"return false\"><span class=\"list_name\">looper</span></a></nobr></div></td> <td align=\"left\" class=\"list_vspace\">\n",
       " <table border=\"0\" cellpadding=\"0\" cellspacing=\"0\" height=\"100%\" style=\"table-layout:fixed\" width=\"100%\">\n",
       " <tr>\n",
       " <td align=\"right\" style=\"padding:0 5px 0 0\" valign=\"top\" width=\"75\"><a href=\"zboard.php?id=ppomppu&amp;page=1&amp;divpage=56&amp;&amp;no=323859\" onfocus=\"blur()\" tooltip=\"P_img://cdn.ppomppu.co.kr/zboard/data3/2019/0716/m_20190716101913_atwpfrmd.jpg\"><img align=\"absmiddle\" border=\"0\" class=\"thumb_border\" height=\"50\" onerror=\"this.src='//static.ppomppu.co.kr/www/img/noimage/noimage_60x50.jpg'\" onfocus=\"blur()\" src=\"//cdn.ppomppu.co.kr/zboard/data/_thumb/ppomppu/9/small_323859.jpg?t=20190716101607\" style=\"margin:0px 5px 0px 5px;\" width=\"60\"/></a></td>\n",
       " <td valign=\"middle\">\n",
       " <img src=\"/images/menu/pop_icon2.jpg\"/> <a href=\"zboard.php?id=ppomppu&amp;page=1&amp;divpage=56&amp;no=323859\"><font class=\"list_title\">[G9] 토니모리 에너지24 맨즈 올인원 모이스처 에센스 1+1 (11,000/무료배송)</font></a> <span class=\"list_comment2\"> <span onclick='win_comment(\"popup_comment.php?id=ppomppu&amp;no=323859\");' style=\"cursor:pointer;\">42</span> </span> </td></tr></table></td>\n",
       " <td class=\"eng list_vspace\" colspan=\"2\" nowrap=\"\" title=\"19.07.16 10:20:40\"><nobr class=\"eng list_vspace\">10:20:40</nobr></td> <td class=\"eng list_vspace\" colspan=\"2\" nowrap=\"\">14 - 0</td> <td class=\"eng list_vspace\" colspan=\"2\" nowrap=\"\">9478</td></tr>,\n",
       " <tr align=\"center\" class=\"list1\" onmouseout=\"this.style.backgroundColor=''\" onmouseover=\"this.style.backgroundColor='#F5F5F5'\" style=\"height:50;word-break:break-all;\" valign=\"middle\">\n",
       " <td class=\"eng list_vspace\" colspan=\"2\">\n",
       " 323858\t</td> <td class=\"han4 list_vspace\" colspan=\"2\" nowrap=\"\"><nobr class=\"han4 list_vspace\">식품/건강</nobr></td>\n",
       " <!--<td nowrap colspan=2 style='padding:0'><input type=checkbox name=cart value=\"323858\"></td>-->\n",
       " <td align=\"left\" class=\"list_vspace\" colspan=\"2\"><div class=\"list_name\" style=\"width:80px;overflow:hidden;text-overflow:ellipsis\"><nobr class=\"list_name\"> <a href=\"#\" onclick=\"return false\"><span class=\"list_name\">생활의발견</span></a></nobr></div></td> <td align=\"left\" class=\"list_vspace\">\n",
       " <table border=\"0\" cellpadding=\"0\" cellspacing=\"0\" height=\"100%\" style=\"table-layout:fixed\" width=\"100%\">\n",
       " <tr>\n",
       " <td align=\"right\" style=\"padding:0 5px 0 0\" valign=\"top\" width=\"75\"><a href=\"zboard.php?id=ppomppu&amp;page=1&amp;divpage=56&amp;&amp;no=323858\" onfocus=\"blur()\" tooltip=\"P_img://cdn.ppomppu.co.kr/zboard/data3/2019/0716/m_20190716101837_nridyntf.jpg\"><img align=\"absmiddle\" border=\"0\" class=\"thumb_border\" height=\"50\" onerror=\"this.src='//static.ppomppu.co.kr/www/img/noimage/noimage_60x50.jpg'\" onfocus=\"blur()\" src=\"//cdn.ppomppu.co.kr/zboard/data/_thumb/ppomppu/8/small_323858.jpg?t=20190716101452\" style=\"margin:0px 5px 0px 5px;\" width=\"60\"/></a></td>\n",
       " <td valign=\"middle\">\n",
       " <a href=\"zboard.php?id=ppomppu&amp;page=1&amp;divpage=56&amp;no=323858\"><font class=\"list_title\">[티몬] 초코무쵸 27g 40봉 (7,900원/무료)</font></a> <span class=\"list_comment2\"> <span onclick='win_comment(\"popup_comment.php?id=ppomppu&amp;no=323858\");' style=\"cursor:pointer;\">15</span> </span> </td></tr></table></td>\n",
       " <td class=\"eng list_vspace\" colspan=\"2\" nowrap=\"\" title=\"19.07.16 10:19:24\"><nobr class=\"eng list_vspace\">10:19:24</nobr></td> <td class=\"eng list_vspace\" colspan=\"2\" nowrap=\"\">10 - 0</td> <td class=\"eng list_vspace\" colspan=\"2\" nowrap=\"\">2351</td></tr>,\n",
       " <tr align=\"center\" class=\"list0\" onmouseout=\"this.style.backgroundColor=''\" onmouseover=\"this.style.backgroundColor='#F5F5F5'\" style=\"height:50;word-break:break-all;\" valign=\"middle\">\n",
       " <td class=\"eng list_vspace\" colspan=\"2\">\n",
       " 323857\t</td> <td class=\"han4 list_vspace\" colspan=\"2\" nowrap=\"\"><nobr class=\"han4 list_vspace\">디지털</nobr></td>\n",
       " <!--<td nowrap colspan=2 style='padding:0'><input type=checkbox name=cart value=\"323857\"></td>-->\n",
       " <td align=\"left\" class=\"list_vspace\" colspan=\"2\"><div class=\"list_name\" style=\"width:80px;overflow:hidden;text-overflow:ellipsis\"><nobr class=\"list_name\"> <a href=\"#\" onclick=\"return false\"><span class=\"list_name\">soulmove</span></a></nobr></div></td> <td align=\"left\" class=\"list_vspace\">\n",
       " <table border=\"0\" cellpadding=\"0\" cellspacing=\"0\" height=\"100%\" style=\"table-layout:fixed\" width=\"100%\">\n",
       " <tr>\n",
       " <td align=\"right\" style=\"padding:0 5px 0 0\" valign=\"top\" width=\"75\"><a href=\"zboard.php?id=ppomppu&amp;page=1&amp;divpage=56&amp;&amp;no=323857\" onfocus=\"blur()\" tooltip=\"P_img://cdn.ppomppu.co.kr/zboard/data3/2019/0716/m_20190716101040_sfgcelwk.png\"><img align=\"absmiddle\" border=\"0\" class=\"thumb_border\" height=\"50\" onerror=\"this.src='//static.ppomppu.co.kr/www/img/noimage/noimage_60x50.jpg'\" onfocus=\"blur()\" src=\"//cdn.ppomppu.co.kr/zboard/data/_thumb/ppomppu/7/small_323857.jpg?t=20190716101252\" style=\"margin:0px 5px 0px 5px;\" width=\"60\"/></a></td>\n",
       " <td valign=\"middle\">\n",
       " <a href=\"zboard.php?id=ppomppu&amp;page=1&amp;divpage=56&amp;no=323857\"><font class=\"list_title\">[티몬] 루앱 차량용 고속 무선 충전 자동센서 거치대(18,900/무배)</font></a> <span class=\"list_comment2\"> <span onclick='win_comment(\"popup_comment.php?id=ppomppu&amp;no=323857\");' style=\"cursor:pointer;\">20</span> </span> </td></tr></table></td>\n",
       " <td class=\"eng list_vspace\" colspan=\"2\" nowrap=\"\" title=\"19.07.16 10:17:24\"><nobr class=\"eng list_vspace\">10:17:24</nobr></td> <td class=\"eng list_vspace\" colspan=\"2\" nowrap=\"\"></td> <td class=\"eng list_vspace\" colspan=\"2\" nowrap=\"\">4786</td></tr>]"
      ]
     },
     "execution_count": 53,
     "metadata": {},
     "output_type": "execute_result"
    }
   ],
   "source": [
    "# 클래스 이름이 list로 시작하는 이라는 뜻  =>  ^=\n",
    "\n",
    "dom.select(\"tr[class^=list]\")"
   ]
  },
  {
   "cell_type": "code",
   "execution_count": 67,
   "metadata": {},
   "outputs": [
    {
     "name": "stdout",
     "output_type": "stream",
     "text": [
      "[Gsuite] Gsuite Basic India (3700원(월) / 무료)\n",
      "3 , 0\n",
      "3844\n",
      "[하이마트몰] 갤럭시버즈 (138,500원 / 무배) 오너스 첫달 무료체험시, 최대 50% 페이백\n",
      "9 , 5\n",
      "5803\n",
      "[옥션] 식사에반하다25개입 (26,530원 / 무배)\n",
      "(0, 0)\n",
      "3798\n",
      "[옥션](스마일클럽전용딜) 생활공작소 제습제 520ml*12개*2 ->24개 (14,280원/무료) 하나/NH농협/KB국민/비씨/현대/신한 12,300원\n",
      "9 , 0\n",
      "2149\n",
      "[티몬] (티몬페이전용)해피머니 10만원권 3장(271,500원/쿠폰적용시 269,900원)\n",
      "33 , 0\n",
      "8296\n",
      "[티몬] 해피머니 10만원권 (90,900원/0원)\n",
      "78 , 0\n",
      "12147\n",
      "[티몬] 1등급 한돈 삼겹살 600g (6,500/무료배송)\n",
      "1 , 0\n",
      "5109\n",
      "[우체국쇼핑] 진안 매콤화끈 중독의맛 뼈없는 직화불닭발 1+1(2팩)(8500/무료) 쿠폰적용시7650\n",
      "6 , 0\n",
      "3868\n",
      "[유튜브] 유튜브프리미엄 인도 ( 2200원(월), 3200원(월)6명 / 무료)\n",
      "77 , 16\n",
      "35288\n",
      "[KW 주식회사 ] 휴대용 미니 선풍기 ( 5,900~8,900 / 무료)\n",
      "0 , 1\n",
      "2382\n",
      "[11번가] 벨킨 스마트폰 전기종 호환 충전케이블(9,900/무배)\n",
      "3 , 0\n",
      "3208\n",
      "[네이버스토어팜] 뉴발란스 잔테v3 (49,800원/무료)\n",
      "10 , 0\n",
      "9139\n",
      "[LG생활건강] 홈스타 뿌리는 곰팡이 (9,900/무료)\n",
      "3 , 0\n",
      "2175\n",
      "[네이버쇼핑] 잘만 CNPS10X OPTIMA II 블랙 CPU쿨러 (19,900/2500)\n",
      "1 , 0\n",
      "3102\n",
      "[Gsshop] 본이트츄잉캔디(12900/무배)\n",
      "(0, 0)\n",
      "1295\n",
      "[11번가] LG 식기세척기 DFB22W (1,119,000/무료배송)\n",
      "(0, 0)\n",
      "2388\n",
      "[옥션] 유니온 135c 55인치 UHDTV  (299,000/무료)\n",
      "2 , 2\n",
      "5558\n",
      "[G9] 토니모리 에너지24 맨즈 올인원 모이스처 에센스 1+1 (11,000/무료배송)\n",
      "14 , 0\n",
      "9478\n",
      "[티몬] 초코무쵸 27g 40봉 (7,900원/무료)\n",
      "10 , 0\n",
      "2351\n",
      "[티몬] 루앱 차량용 고속 무선 충전 자동센서 거치대(18,900/무배)\n",
      "(0, 0)\n",
      "4786\n"
     ]
    }
   ],
   "source": [
    "# 선생님 방법\n",
    "\n",
    "for tr in dom.select(\"tr[class^=list]\")[1:]:\n",
    "    td = tr.find_all (\"td\", recursive=False)\n",
    "    print(td[3].select(\"td[valign=middle] > a\")[0].text)\n",
    "    temp = td[5].text.split(\"-\")\n",
    "    print((0, 0) if len(temp) < 2 else \",\".join(temp)) # 추천 비추천이 없는 게시물이 에러를 낼 수 있으므로 예외처리함.\n",
    "    print(td[6].text.strip()) # strip은 공백 제거하는 메서드"
   ]
  },
  {
   "cell_type": "code",
   "execution_count": 62,
   "metadata": {},
   "outputs": [
    {
     "data": {
      "text/plain": [
       "[<td class=\"eng list_vspace\" colspan=\"2\" nowrap=\"\">0</td>,\n",
       " <td class=\"eng list_vspace\" colspan=\"2\" nowrap=\"\">2424970</td>]"
      ]
     },
     "execution_count": 62,
     "metadata": {},
     "output_type": "execute_result"
    }
   ],
   "source": [
    "dom.select(\"tr[class^=list]\")[0].find_all(\"td\", {\"class\":\"eng list_vspace\"})[-2:]"
   ]
  },
  {
   "cell_type": "code",
   "execution_count": 63,
   "metadata": {},
   "outputs": [
    {
     "data": {
      "text/plain": [
       "[('[Gsuite] Gsuite Basic India (3700원(월) / 무료)', '3 - 0', '3844'),\n",
       " ('[하이마트몰] 갤럭시버즈 (138,500원 / 무배) 오너스 첫달 무료체험시, 최대 50% 페이백', '9 - 5', '5803'),\n",
       " ('[옥션] 식사에반하다25개입 (26,530원 / 무배)', '', '3798'),\n",
       " ('[옥션](스마일클럽전용딜) 생활공작소 제습제 520ml*12개*2 ->24개 (14,280원/무료) 하나/NH농협/KB국민/비씨/현대/신한 12,300원',\n",
       "  '9 - 0',\n",
       "  '2149'),\n",
       " ('[티몬] (티몬페이전용)해피머니 10만원권 3장(271,500원/쿠폰적용시 269,900원)', '33 - 0', '8296'),\n",
       " ('[티몬] 해피머니 10만원권 (90,900원/0원)', '78 - 0', '12147'),\n",
       " ('[티몬] 1등급 한돈 삼겹살 600g (6,500/무료배송)', '1 - 0', '5109'),\n",
       " ('[우체국쇼핑] 진안 매콤화끈 중독의맛 뼈없는 직화불닭발 1+1(2팩)(8500/무료) 쿠폰적용시7650',\n",
       "  '6 - 0',\n",
       "  '3868'),\n",
       " ('[유튜브] 유튜브프리미엄 인도 ( 2200원(월), 3200원(월)6명 / 무료)', '77 - 16', '35288'),\n",
       " ('[KW 주식회사 ] 휴대용 미니 선풍기 ( 5,900~8,900 / 무료)', '0 - 1', '2382'),\n",
       " ('[11번가] 벨킨 스마트폰 전기종 호환 충전케이블(9,900/무배)', '3 - 0', '3208'),\n",
       " ('[네이버스토어팜] 뉴발란스 잔테v3 (49,800원/무료)', '10 - 0', '9139'),\n",
       " ('[LG생활건강] 홈스타 뿌리는 곰팡이 (9,900/무료)', '3 - 0', '2175'),\n",
       " ('[네이버쇼핑] 잘만 CNPS10X OPTIMA II 블랙 CPU쿨러 (19,900/2500)', '1 - 0', '3102'),\n",
       " ('[Gsshop] 본이트츄잉캔디(12900/무배)', '', '1295'),\n",
       " ('[11번가] LG 식기세척기 DFB22W (1,119,000/무료배송)', '', '2388'),\n",
       " ('[옥션] 유니온 135c 55인치 UHDTV  (299,000/무료)', '2 - 2', '5558'),\n",
       " ('[G9] 토니모리 에너지24 맨즈 올인원 모이스처 에센스 1+1 (11,000/무료배송)', '14 - 0', '9478'),\n",
       " ('[티몬] 초코무쵸 27g 40봉 (7,900원/무료)', '10 - 0', '2351'),\n",
       " ('[티몬] 루앱 차량용 고속 무선 충전 자동센서 거치대(18,900/무배)', '', '4786')]"
      ]
     },
     "execution_count": 63,
     "metadata": {},
     "output_type": "execute_result"
    }
   ],
   "source": [
    "[ (tag.find_all(\"font\")[0].text, \n",
    "  *[i.text for i in tag.find_all(\"td\", {\"class\":\"eng list_vspace\"})[-2:]]) \n",
    " for tag in dom.select(\"tr[class^=list]\")[1:]]"
   ]
  },
  {
   "cell_type": "markdown",
   "metadata": {},
   "source": [
    "---"
   ]
  },
  {
   "cell_type": "code",
   "execution_count": 78,
   "metadata": {},
   "outputs": [
    {
     "name": "stdout",
     "output_type": "stream",
     "text": [
      "[Gsuite] Gsuite Basic India (3700원(월) / 무료)\n",
      "3 , 0\n",
      "3844\n",
      "[<img align=\"absmiddle\" border=\"0\" class=\"thumb_border\" height=\"50\" onerror=\"this.src='//static.ppomppu.co.kr/www/img/noimage/noimage_60x50.jpg'\" onfocus=\"blur()\" src=\"//cdn.ppomppu.co.kr/zboard/data/_thumb/ppomppu/6/small_323876.jpg?t=20190716134948\" style=\"margin:0px 5px 0px 5px;\" width=\"60\"/>]\n",
      "[하이마트몰] 갤럭시버즈 (138,500원 / 무배) 오너스 첫달 무료체험시, 최대 50% 페이백\n",
      "9 , 5\n",
      "5803\n",
      "[<img align=\"absmiddle\" border=\"0\" class=\"thumb_border\" height=\"50\" onerror=\"this.src='//static.ppomppu.co.kr/www/img/noimage/noimage_60x50.jpg'\" onfocus=\"blur()\" src=\"//cdn.ppomppu.co.kr/zboard/data/_thumb/ppomppu/5/small_323875.jpg?t=20190716133713\" style=\"margin:0px 5px 0px 5px;\" width=\"60\"/>]\n",
      "[옥션] 식사에반하다25개입 (26,530원 / 무배)\n",
      "(0, 0)\n",
      "3798\n",
      "[<img align=\"absmiddle\" border=\"0\" class=\"thumb_border\" height=\"50\" onerror=\"this.src='//static.ppomppu.co.kr/www/img/noimage/noimage_60x50.jpg'\" onfocus=\"blur()\" src=\"//cdn.ppomppu.co.kr/zboard/data/_thumb/ppomppu/4/small_323874.jpg?t=20190716133521\" style=\"margin:0px 5px 0px 5px;\" width=\"60\"/>]\n",
      "[옥션](스마일클럽전용딜) 생활공작소 제습제 520ml*12개*2 ->24개 (14,280원/무료) 하나/NH농협/KB국민/비씨/현대/신한 12,300원\n",
      "9 , 0\n",
      "2149\n",
      "[<img align=\"absmiddle\" border=\"0\" class=\"thumb_border\" height=\"50\" onerror=\"this.src='//static.ppomppu.co.kr/www/img/noimage/noimage_60x50.jpg'\" onfocus=\"blur()\" src=\"//cdn.ppomppu.co.kr/zboard/data/_thumb/ppomppu/3/small_323873.jpg?t=20190716130113\" style=\"margin:0px 5px 0px 5px;\" width=\"60\"/>]\n",
      "[티몬] (티몬페이전용)해피머니 10만원권 3장(271,500원/쿠폰적용시 269,900원)\n",
      "33 , 0\n",
      "8296\n",
      "[<img align=\"absmiddle\" border=\"0\" class=\"thumb_border\" height=\"50\" onerror=\"this.src='//static.ppomppu.co.kr/www/img/noimage/noimage_60x50.jpg'\" onfocus=\"blur()\" src=\"//cdn.ppomppu.co.kr/zboard/data/_thumb/ppomppu/2/small_323872.jpg?t=20190716123402\" style=\"margin:0px 5px 0px 5px;\" width=\"60\"/>]\n",
      "[티몬] 해피머니 10만원권 (90,900원/0원)\n",
      "78 , 0\n",
      "12147\n",
      "[<img align=\"absmiddle\" border=\"0\" class=\"thumb_border\" height=\"50\" onerror=\"this.src='//static.ppomppu.co.kr/www/img/noimage/noimage_60x50.jpg'\" onfocus=\"blur()\" src=\"//cdn.ppomppu.co.kr/zboard/data/_thumb/ppomppu/1/small_323871.jpg?t=20190716121801\" style=\"margin:0px 5px 0px 5px;\" width=\"60\"/>]\n",
      "[티몬] 1등급 한돈 삼겹살 600g (6,500/무료배송)\n",
      "1 , 0\n",
      "5109\n",
      "[<img align=\"absmiddle\" border=\"0\" class=\"thumb_border\" height=\"50\" onerror=\"this.src='//static.ppomppu.co.kr/www/img/noimage/noimage_60x50.jpg'\" onfocus=\"blur()\" src=\"//cdn.ppomppu.co.kr/zboard/data/_thumb/ppomppu/0/small_323870.jpg?t=20190716121542\" style=\"margin:0px 5px 0px 5px;\" width=\"60\"/>]\n",
      "[우체국쇼핑] 진안 매콤화끈 중독의맛 뼈없는 직화불닭발 1+1(2팩)(8500/무료) 쿠폰적용시7650\n",
      "6 , 0\n",
      "3868\n",
      "[<img align=\"absmiddle\" border=\"0\" class=\"thumb_border\" height=\"50\" onerror=\"this.src='//static.ppomppu.co.kr/www/img/noimage/noimage_60x50.jpg'\" onfocus=\"blur()\" src=\"//cdn.ppomppu.co.kr/zboard/data/_thumb/ppomppu/9/small_323869.jpg?t=20190716114613\" style=\"margin:0px 5px 0px 5px;\" width=\"60\"/>]\n",
      "[유튜브] 유튜브프리미엄 인도 ( 2200원(월), 3200원(월)6명 / 무료)\n",
      "77 , 16\n",
      "35288\n",
      "[<img align=\"absmiddle\" border=\"0\" class=\"thumb_border\" height=\"50\" onerror=\"this.src='//static.ppomppu.co.kr/www/img/noimage/noimage_60x50.jpg'\" onfocus=\"blur()\" src=\"//cdn.ppomppu.co.kr/zboard/data/_thumb/ppomppu/8/small_323868.jpg?t=20190716114856\" style=\"margin:0px 5px 0px 5px;\" width=\"60\"/>]\n",
      "[KW 주식회사 ] 휴대용 미니 선풍기 ( 5,900~8,900 / 무료)\n",
      "0 , 1\n",
      "2382\n",
      "[<img align=\"absmiddle\" border=\"0\" class=\"thumb_border\" height=\"50\" onerror=\"this.src='//static.ppomppu.co.kr/www/img/noimage/noimage_60x50.jpg'\" onfocus=\"blur()\" src=\"//cdn.ppomppu.co.kr/zboard/data/_thumb/ppomppu/7/small_323867.jpg?t=20190716112037\" style=\"margin:0px 5px 0px 5px;\" width=\"60\"/>]\n",
      "[11번가] 벨킨 스마트폰 전기종 호환 충전케이블(9,900/무배)\n",
      "3 , 0\n",
      "3208\n",
      "[<img align=\"absmiddle\" border=\"0\" class=\"thumb_border\" height=\"50\" onerror=\"this.src='//static.ppomppu.co.kr/www/img/noimage/noimage_60x50.jpg'\" onfocus=\"blur()\" src=\"//cdn.ppomppu.co.kr/zboard/data/_thumb/ppomppu/6/small_323866.jpg?t=20190716111807\" style=\"margin:0px 5px 0px 5px;\" width=\"60\"/>]\n",
      "[네이버스토어팜] 뉴발란스 잔테v3 (49,800원/무료)\n",
      "10 , 0\n",
      "9139\n",
      "[<img align=\"absmiddle\" border=\"0\" class=\"thumb_border\" height=\"50\" onerror=\"this.src='//static.ppomppu.co.kr/www/img/noimage/noimage_60x50.jpg'\" onfocus=\"blur()\" src=\"//cdn.ppomppu.co.kr/zboard/data/_thumb/ppomppu/5/small_323865.jpg?t=20190716111521\" style=\"margin:0px 5px 0px 5px;\" width=\"60\"/>]\n",
      "[LG생활건강] 홈스타 뿌리는 곰팡이 (9,900/무료)\n",
      "3 , 0\n",
      "2175\n",
      "[<img align=\"absmiddle\" border=\"0\" class=\"thumb_border\" height=\"50\" onerror=\"this.src='//static.ppomppu.co.kr/www/img/noimage/noimage_60x50.jpg'\" onfocus=\"blur()\" src=\"//cdn.ppomppu.co.kr/zboard/data/_thumb/ppomppu/4/small_323864.jpg?t=20190716110141\" style=\"margin:0px 5px 0px 5px;\" width=\"60\"/>]\n",
      "[네이버쇼핑] 잘만 CNPS10X OPTIMA II 블랙 CPU쿨러 (19,900/2500)\n",
      "1 , 0\n",
      "3102\n",
      "[<img align=\"absmiddle\" border=\"0\" class=\"thumb_border\" height=\"50\" onerror=\"this.src='//static.ppomppu.co.kr/www/img/noimage/noimage_60x50.jpg'\" onfocus=\"blur()\" src=\"//cdn.ppomppu.co.kr/zboard/data/_thumb/ppomppu/3/small_323863.jpg?t=20190716104522\" style=\"margin:0px 5px 0px 5px;\" width=\"60\"/>]\n",
      "[Gsshop] 본이트츄잉캔디(12900/무배)\n",
      "(0, 0)\n",
      "1295\n",
      "[<img align=\"absmiddle\" border=\"0\" class=\"thumb_border\" height=\"50\" onfocus=\"blur()\" src=\"//static.ppomppu.co.kr/www/img/noimage/noimage_60x50.jpg\" style=\"margin:0px 5px 0px 5px;\" width=\"60\"/>]\n",
      "[11번가] LG 식기세척기 DFB22W (1,119,000/무료배송)\n",
      "(0, 0)\n",
      "2388\n",
      "[<img align=\"absmiddle\" border=\"0\" class=\"thumb_border\" height=\"50\" onerror=\"this.src='//static.ppomppu.co.kr/www/img/noimage/noimage_60x50.jpg'\" onfocus=\"blur()\" src=\"//cdn.ppomppu.co.kr/zboard/data/_thumb/ppomppu/1/small_323861.jpg?t=20190716103430\" style=\"margin:0px 5px 0px 5px;\" width=\"60\"/>]\n",
      "[옥션] 유니온 135c 55인치 UHDTV  (299,000/무료)\n",
      "2 , 2\n",
      "5558\n",
      "[<img align=\"absmiddle\" border=\"0\" class=\"thumb_border\" height=\"50\" onerror=\"this.src='//static.ppomppu.co.kr/www/img/noimage/noimage_60x50.jpg'\" onfocus=\"blur()\" src=\"//cdn.ppomppu.co.kr/zboard/data/_thumb/ppomppu/0/small_323860.jpg?t=20190716102757\" style=\"margin:0px 5px 0px 5px;\" width=\"60\"/>]\n",
      "[G9] 토니모리 에너지24 맨즈 올인원 모이스처 에센스 1+1 (11,000/무료배송)\n",
      "14 , 0\n",
      "9478\n",
      "[<img align=\"absmiddle\" border=\"0\" class=\"thumb_border\" height=\"50\" onerror=\"this.src='//static.ppomppu.co.kr/www/img/noimage/noimage_60x50.jpg'\" onfocus=\"blur()\" src=\"//cdn.ppomppu.co.kr/zboard/data/_thumb/ppomppu/9/small_323859.jpg?t=20190716101607\" style=\"margin:0px 5px 0px 5px;\" width=\"60\"/>]\n",
      "[티몬] 초코무쵸 27g 40봉 (7,900원/무료)\n",
      "10 , 0\n",
      "2351\n",
      "[<img align=\"absmiddle\" border=\"0\" class=\"thumb_border\" height=\"50\" onerror=\"this.src='//static.ppomppu.co.kr/www/img/noimage/noimage_60x50.jpg'\" onfocus=\"blur()\" src=\"//cdn.ppomppu.co.kr/zboard/data/_thumb/ppomppu/8/small_323858.jpg?t=20190716101452\" style=\"margin:0px 5px 0px 5px;\" width=\"60\"/>]\n",
      "[티몬] 루앱 차량용 고속 무선 충전 자동센서 거치대(18,900/무배)\n",
      "(0, 0)\n",
      "4786\n",
      "[<img align=\"absmiddle\" border=\"0\" class=\"thumb_border\" height=\"50\" onerror=\"this.src='//static.ppomppu.co.kr/www/img/noimage/noimage_60x50.jpg'\" onfocus=\"blur()\" src=\"//cdn.ppomppu.co.kr/zboard/data/_thumb/ppomppu/7/small_323857.jpg?t=20190716101252\" style=\"margin:0px 5px 0px 5px;\" width=\"60\"/>]\n"
     ]
    }
   ],
   "source": [
    "# 선생님 방법\n",
    "# 썸네일도 가져오기\n",
    "\n",
    "for tr in dom.select(\"tr[class^=list]\")[1:]:\n",
    "    td = tr.find_all (\"td\", recursive=False)\n",
    "    print(td[3].select(\"td[valign=middle] > a\")[0].text)\n",
    "    temp = td[5].text.split(\"-\")\n",
    "    print((0, 0) if len(temp) < 2 else \",\".join(temp)) # 추천 비추천이 없는 게시물이 에러를 낼 수 있으므로 예외처리함.\n",
    "    print(td[6].text.strip()) # strip은 공백 제거하는 메서드\n",
    "    print(td[3].select(\"img[class=thumb_border]\"))"
   ]
  },
  {
   "cell_type": "markdown",
   "metadata": {},
   "source": [
    "---"
   ]
  },
  {
   "cell_type": "markdown",
   "metadata": {},
   "source": [
    "# 과제"
   ]
  },
  {
   "cell_type": "markdown",
   "metadata": {},
   "source": [
    "뽐뿌 자유게시판(1시간동안)\n",
    "\n",
    "\n",
    "[Crawling]\n",
    "1. Focused Crawling(10페이지 내에서)\n",
    "2. 각 페이지 당 게시글(제목) 부분의 a 수직\n",
    "3. 수집된 a로부터 Scrapping\n",
    "\n",
    "\n",
    "[Scrapping]\n",
    "1. 제목, 본문내용, 댓글 파싱\n",
    "(댓글은 있거나 여러개 있음)\n",
    "\n",
    "=========== Scraping이 잘 안될 거임 ========"
   ]
  },
  {
   "cell_type": "code",
   "execution_count": 230,
   "metadata": {},
   "outputs": [],
   "source": [
    "url = \"http://www.ppomppu.co.kr/zboard/zboard.php\"\n",
    "params = {\"id\":\"freeboard\"}\n",
    "html = download('get', url, params)"
   ]
  },
  {
   "cell_type": "code",
   "execution_count": 231,
   "metadata": {},
   "outputs": [],
   "source": [
    "dom = BeautifulSoup(html.text, \"html.parser\")"
   ]
  },
  {
   "cell_type": "markdown",
   "metadata": {},
   "source": [
    "### 1. 게시판의 게시물들의 url을 가져와보자"
   ]
  },
  {
   "cell_type": "code",
   "execution_count": 95,
   "metadata": {},
   "outputs": [
    {
     "data": {
      "text/plain": [
       "<a href=\"/zboard/view.php?id=issue&amp;no=160987\" onclick=\"informAdClick('http://s.ppomppu.co.kr/inform_ad_click.php?p=aW5mb3JtX2FkX3B2X2NsaWNrfDEwMTI%3D')\">\n",
       "<font class=\"list_title\"><img align=\"absmiddle\" border=\"0\" src=\"/images/icon_04.png\" style=\"margin:0px;\"/>  [알려드립니다] 정치자유게시판 정식 운영에 대해 안내드립니다.</font>\n",
       "</a>"
      ]
     },
     "execution_count": 95,
     "metadata": {},
     "output_type": "execute_result"
    }
   ],
   "source": [
    "dom.select(\".list_title\")[0].find_parent()"
   ]
  },
  {
   "cell_type": "code",
   "execution_count": 98,
   "metadata": {},
   "outputs": [
    {
     "data": {
      "text/plain": [
       "['http://www.ppomppu.co.kr/zboard/view.php?id=issue&no=160987',\n",
       " 'http://www.ppomppu.co.kr/zboard/zboard.php?id=freeboard&page=1&divpage=1221&no=6543080',\n",
       " 'http://www.ppomppu.co.kr/zboard/zboard.php?id=freeboard&page=1&divpage=1221&no=6543079',\n",
       " 'http://www.ppomppu.co.kr/zboard/zboard.php?id=freeboard&page=1&divpage=1221&no=6543078',\n",
       " 'http://www.ppomppu.co.kr/zboard/zboard.php?id=freeboard&page=1&divpage=1221&no=6543077',\n",
       " 'http://www.ppomppu.co.kr/zboard/zboard.php?id=freeboard&page=1&divpage=1221&no=6543076',\n",
       " 'http://www.ppomppu.co.kr/zboard/zboard.php?id=freeboard&page=1&divpage=1221&no=6543075',\n",
       " 'http://www.ppomppu.co.kr/zboard/zboard.php?id=freeboard&page=1&divpage=1221&no=6543074',\n",
       " 'http://www.ppomppu.co.kr/zboard/zboard.php?id=freeboard&page=1&divpage=1221&no=6543073',\n",
       " 'http://www.ppomppu.co.kr/zboard/zboard.php?id=freeboard&page=1&divpage=1221&no=6543072',\n",
       " 'http://www.ppomppu.co.kr/zboard/zboard.php?id=freeboard&page=1&divpage=1221&no=6543071',\n",
       " 'http://www.ppomppu.co.kr/zboard/zboard.php?id=freeboard&page=1&divpage=1221&no=6543070',\n",
       " 'http://www.ppomppu.co.kr/zboard/zboard.php?id=freeboard&page=1&divpage=1221&no=6543069',\n",
       " 'http://www.ppomppu.co.kr/zboard/zboard.php?id=freeboard&page=1&divpage=1221&no=6543068',\n",
       " 'http://www.ppomppu.co.kr/zboard/zboard.php?id=freeboard&page=1&divpage=1221&no=6543067',\n",
       " 'http://www.ppomppu.co.kr/zboard/zboard.php?id=freeboard&page=1&divpage=1221&no=6543066',\n",
       " 'http://www.ppomppu.co.kr/zboard/zboard.php?id=freeboard&page=1&divpage=1221&no=6543065',\n",
       " 'http://www.ppomppu.co.kr/zboard/zboard.php?id=freeboard&page=1&divpage=1221&no=6543064',\n",
       " 'http://www.ppomppu.co.kr/zboard/zboard.php?id=freeboard&page=1&divpage=1221&no=6543063',\n",
       " 'http://www.ppomppu.co.kr/zboard/zboard.php?id=freeboard&page=1&divpage=1221&no=6543062',\n",
       " 'http://www.ppomppu.co.kr/zboard/zboard.php?id=freeboard&page=1&divpage=1221&no=6543061',\n",
       " 'http://www.ppomppu.co.kr/zboard/zboard.php?id=freeboard&page=1&divpage=1221&no=6543060',\n",
       " 'http://www.ppomppu.co.kr/zboard/zboard.php?id=freeboard&page=1&divpage=1221&no=6543059',\n",
       " 'http://www.ppomppu.co.kr/zboard/zboard.php?id=freeboard&page=1&divpage=1221&no=6543058',\n",
       " 'http://www.ppomppu.co.kr/zboard/zboard.php?id=freeboard&page=1&divpage=1221&no=6543057',\n",
       " 'http://www.ppomppu.co.kr/zboard/zboard.php?id=freeboard&page=1&divpage=1221&no=6543056',\n",
       " 'http://www.ppomppu.co.kr/zboard/zboard.php?id=freeboard&page=1&divpage=1221&no=6543055',\n",
       " 'http://www.ppomppu.co.kr/zboard/zboard.php?id=freeboard&page=1&divpage=1221&no=6543054',\n",
       " 'http://www.ppomppu.co.kr/zboard/zboard.php?id=freeboard&page=1&divpage=1221&no=6543053',\n",
       " 'http://www.ppomppu.co.kr/zboard/zboard.php?id=freeboard&page=1&divpage=1221&no=6543052',\n",
       " 'http://www.ppomppu.co.kr/zboard/zboard.php?id=freeboard&page=1&divpage=1221&no=6543051']"
      ]
     },
     "execution_count": 98,
     "metadata": {},
     "output_type": "execute_result"
    }
   ],
   "source": [
    "title_urls = [requests.compat.urljoin(url, tag.find_parent()[\"href\"]) for tag in dom.select(\".list_title\")]\n",
    "title_urls"
   ]
  },
  {
   "cell_type": "markdown",
   "metadata": {},
   "source": [
    "### 2. 게시판의 다음 페이지로 넘어가기 기능을 만들어보자"
   ]
  },
  {
   "cell_type": "code",
   "execution_count": 112,
   "metadata": {},
   "outputs": [
    {
     "data": {
      "text/plain": [
       "<td id=\"page_list\">\n",
       "<font class=\"han\">\n",
       "<font class=\"page_inert\">1</font> <a href=\"/zboard/zboard.php?id=freeboard&amp;page=2&amp;divpage=1221\" onfocus=\"blur()\">2</a> <a href=\"/zboard/zboard.php?id=freeboard&amp;page=3&amp;divpage=1221\" onfocus=\"blur()\">3</a> <a href=\"/zboard/zboard.php?id=freeboard&amp;page=4&amp;divpage=1221\" onfocus=\"blur()\">4</a> <a href=\"/zboard/zboard.php?id=freeboard&amp;page=5&amp;divpage=1221\" onfocus=\"blur()\">5</a> <a href=\"/zboard/zboard.php?id=freeboard&amp;page=6&amp;divpage=1221\" onfocus=\"blur()\">6</a> <a href=\"/zboard/zboard.php?id=freeboard&amp;page=7&amp;divpage=1221\" onfocus=\"blur()\">7</a> <a href=\"/zboard/zboard.php?id=freeboard&amp;page=8&amp;divpage=1221\" onfocus=\"blur()\">8</a> <a href=\"/zboard/zboard.php?id=freeboard&amp;page=9&amp;divpage=1221\" onfocus=\"blur()\">9</a> <a href=\"/zboard/zboard.php?id=freeboard&amp;page=10&amp;divpage=1221\" onfocus=\"blur()\">10</a> <a class=\"page_next\" href=\"/zboard/zboard.php?id=freeboard&amp;page=11&amp;divpage=1221\" onfocus=\"blur()\">다음<img src=\"/images/main/arrow_right_icon.gif\"/></a> </font>\n",
       "</td>"
      ]
     },
     "execution_count": 112,
     "metadata": {},
     "output_type": "execute_result"
    }
   ],
   "source": [
    "# 페이지 하단의 게시판 페이지 정보 있는 태그.\n",
    "\n",
    "dom.select(\"td#page_list\")[0]"
   ]
  },
  {
   "cell_type": "code",
   "execution_count": 121,
   "metadata": {},
   "outputs": [
    {
     "data": {
      "text/plain": [
       "'/zboard/zboard.php?id=freeboard&page=2&divpage=1221'"
      ]
     },
     "execution_count": 121,
     "metadata": {},
     "output_type": "execute_result"
    }
   ],
   "source": [
    "# 2페이지의 url 뽑기\n",
    "\n",
    "dom.select(\"td#page_list\")[0].find_all(\"a\", text=\"2\")[0][\"href\"]"
   ]
  },
  {
   "cell_type": "code",
   "execution_count": 123,
   "metadata": {},
   "outputs": [
    {
     "data": {
      "text/plain": [
       "'http://www.ppomppu.co.kr/zboard/zboard.php?id=freeboard&page=2&divpage=1221'"
      ]
     },
     "execution_count": 123,
     "metadata": {},
     "output_type": "execute_result"
    }
   ],
   "source": [
    "# urljoin으로 url 완성\n",
    "\n",
    "next_page = requests.compat.urljoin(url, dom.select(\"td#page_list\")[0].find_all(\"a\", text=\"2\")[0][\"href\"])\n",
    "next_page"
   ]
  },
  {
   "cell_type": "code",
   "execution_count": 132,
   "metadata": {},
   "outputs": [
    {
     "data": {
      "text/plain": [
       "'1'"
      ]
     },
     "execution_count": 132,
     "metadata": {},
     "output_type": "execute_result"
    }
   ],
   "source": [
    "# 현재 페이지 넘버\n",
    "\n",
    "dom.select(\".page_inert\")[0].text"
   ]
  },
  {
   "cell_type": "code",
   "execution_count": 228,
   "metadata": {},
   "outputs": [],
   "source": [
    "# 다음 페이지로 넘어가 게시물 url을 따오는 함수로 만듦.\n",
    "\n",
    "def go_to_next(dom):\n",
    "    current_page = int(dom.select(\".page_inert\")[0].text)\n",
    "    next_url = requests.compat.urljoin(url, dom.select(\"td#page_list\")[0].find_all(\"a\", text=current_page+1)[0][\"href\"])\n",
    "    next_html = download(\"get\", next_url)\n",
    "    next_dom = BeautifulSoup(next_html.text, \"html.parser\")        \n",
    "    return [requests.compat.urljoin(url, tag.find_parent()[\"href\"]) for tag in next_dom.select(\".list_title\")]"
   ]
  },
  {
   "cell_type": "code",
   "execution_count": 232,
   "metadata": {},
   "outputs": [
    {
     "data": {
      "text/plain": [
       "['http://www.ppomppu.co.kr/zboard/zboard.php?id=freeboard&page=2&divpage=1221&no=6543294',\n",
       " 'http://www.ppomppu.co.kr/zboard/zboard.php?id=freeboard&page=2&divpage=1221&no=6543293',\n",
       " 'http://www.ppomppu.co.kr/zboard/zboard.php?id=freeboard&page=2&divpage=1221&no=6543292',\n",
       " 'http://www.ppomppu.co.kr/zboard/zboard.php?id=freeboard&page=2&divpage=1221&no=6543291',\n",
       " 'http://www.ppomppu.co.kr/zboard/zboard.php?id=freeboard&page=2&divpage=1221&no=6543290',\n",
       " 'http://www.ppomppu.co.kr/zboard/zboard.php?id=freeboard&page=2&divpage=1221&no=6543289',\n",
       " 'http://www.ppomppu.co.kr/zboard/zboard.php?id=freeboard&page=2&divpage=1221&no=6543288',\n",
       " 'http://www.ppomppu.co.kr/zboard/zboard.php?id=freeboard&page=2&divpage=1221&no=6543287',\n",
       " 'http://www.ppomppu.co.kr/zboard/zboard.php?id=freeboard&page=2&divpage=1221&no=6543285',\n",
       " 'http://www.ppomppu.co.kr/zboard/zboard.php?id=freeboard&page=2&divpage=1221&no=6543284',\n",
       " 'http://www.ppomppu.co.kr/zboard/zboard.php?id=freeboard&page=2&divpage=1221&no=6543283',\n",
       " 'http://www.ppomppu.co.kr/zboard/zboard.php?id=freeboard&page=2&divpage=1221&no=6543281',\n",
       " 'http://www.ppomppu.co.kr/zboard/zboard.php?id=freeboard&page=2&divpage=1221&no=6543280',\n",
       " 'http://www.ppomppu.co.kr/zboard/zboard.php?id=freeboard&page=2&divpage=1221&no=6543278',\n",
       " 'http://www.ppomppu.co.kr/zboard/zboard.php?id=freeboard&page=2&divpage=1221&no=6543277',\n",
       " 'http://www.ppomppu.co.kr/zboard/zboard.php?id=freeboard&page=2&divpage=1221&no=6543274',\n",
       " 'http://www.ppomppu.co.kr/zboard/zboard.php?id=freeboard&page=2&divpage=1221&no=6543273',\n",
       " 'http://www.ppomppu.co.kr/zboard/zboard.php?id=freeboard&page=2&divpage=1221&no=6543272',\n",
       " 'http://www.ppomppu.co.kr/zboard/zboard.php?id=freeboard&page=2&divpage=1221&no=6543271',\n",
       " 'http://www.ppomppu.co.kr/zboard/zboard.php?id=freeboard&page=2&divpage=1221&no=6543270',\n",
       " 'http://www.ppomppu.co.kr/zboard/zboard.php?id=freeboard&page=2&divpage=1221&no=6543269',\n",
       " 'http://www.ppomppu.co.kr/zboard/zboard.php?id=freeboard&page=2&divpage=1221&no=6543268',\n",
       " 'http://www.ppomppu.co.kr/zboard/zboard.php?id=freeboard&page=2&divpage=1221&no=6543267',\n",
       " 'http://www.ppomppu.co.kr/zboard/zboard.php?id=freeboard&page=2&divpage=1221&no=6543265',\n",
       " 'http://www.ppomppu.co.kr/zboard/zboard.php?id=freeboard&page=2&divpage=1221&no=6543263',\n",
       " 'http://www.ppomppu.co.kr/zboard/zboard.php?id=freeboard&page=2&divpage=1221&no=6543262',\n",
       " 'http://www.ppomppu.co.kr/zboard/zboard.php?id=freeboard&page=2&divpage=1221&no=6543261',\n",
       " 'http://www.ppomppu.co.kr/zboard/zboard.php?id=freeboard&page=2&divpage=1221&no=6543260',\n",
       " 'http://www.ppomppu.co.kr/zboard/zboard.php?id=freeboard&page=2&divpage=1221&no=6543259',\n",
       " 'http://www.ppomppu.co.kr/zboard/zboard.php?id=freeboard&page=2&divpage=1221&no=6543258']"
      ]
     },
     "execution_count": 232,
     "metadata": {},
     "output_type": "execute_result"
    }
   ],
   "source": [
    "go_to_next(dom)"
   ]
  },
  {
   "cell_type": "markdown",
   "metadata": {},
   "source": [
    "### 크로울링 중간 점검"
   ]
  },
  {
   "cell_type": "code",
   "execution_count": 144,
   "metadata": {},
   "outputs": [
    {
     "name": "stdout",
     "output_type": "stream",
     "text": [
      "Queue: 30, Seen: 1\n",
      "Queue: 29, Seen: 2\n",
      "Queue: 28, Seen: 3\n",
      "Queue: 27, Seen: 4\n",
      "Queue: 26, Seen: 5\n",
      "Queue: 25, Seen: 6\n",
      "Queue: 24, Seen: 7\n",
      "Queue: 23, Seen: 8\n",
      "Queue: 22, Seen: 9\n",
      "Queue: 21, Seen: 10\n",
      "Queue: 20, Seen: 11\n",
      "Queue: 19, Seen: 12\n",
      "Queue: 18, Seen: 13\n",
      "Queue: 17, Seen: 14\n",
      "Queue: 16, Seen: 15\n",
      "Queue: 15, Seen: 16\n",
      "Queue: 14, Seen: 17\n",
      "Queue: 13, Seen: 18\n",
      "Queue: 12, Seen: 19\n",
      "Queue: 11, Seen: 20\n",
      "Queue: 10, Seen: 21\n",
      "Queue: 9, Seen: 22\n",
      "Queue: 8, Seen: 23\n",
      "Queue: 7, Seen: 24\n",
      "Queue: 6, Seen: 25\n",
      "Queue: 5, Seen: 26\n",
      "Queue: 4, Seen: 27\n",
      "Queue: 3, Seen: 28\n",
      "Queue: 2, Seen: 29\n",
      "Queue: 1, Seen: 30\n",
      "Queue: 30, Seen: 31\n",
      "Queue: 29, Seen: 32\n",
      "Queue: 28, Seen: 33\n",
      "Queue: 27, Seen: 34\n",
      "Queue: 26, Seen: 35\n",
      "Queue: 25, Seen: 36\n",
      "Queue: 24, Seen: 37\n",
      "Queue: 23, Seen: 38\n",
      "Queue: 22, Seen: 39\n",
      "Queue: 21, Seen: 40\n",
      "Queue: 20, Seen: 41\n",
      "Queue: 19, Seen: 42\n"
     ]
    },
    {
     "ename": "KeyboardInterrupt",
     "evalue": "",
     "output_type": "error",
     "traceback": [
      "\u001b[1;31m---------------------------------------------------------------------------\u001b[0m",
      "\u001b[1;31mKeyboardInterrupt\u001b[0m                         Traceback (most recent call last)",
      "\u001b[1;32m<ipython-input-144-f875d3596a9d>\u001b[0m in \u001b[0;36m<module>\u001b[1;34m\u001b[0m\n\u001b[0;32m      8\u001b[0m \u001b[1;33m\u001b[0m\u001b[0m\n\u001b[0;32m      9\u001b[0m     \u001b[0mhtml\u001b[0m \u001b[1;33m=\u001b[0m \u001b[0mdownload\u001b[0m\u001b[1;33m(\u001b[0m\u001b[1;34m\"get\"\u001b[0m\u001b[1;33m,\u001b[0m \u001b[0mbaseURL\u001b[0m\u001b[1;33m)\u001b[0m\u001b[1;33m\u001b[0m\u001b[1;33m\u001b[0m\u001b[0m\n\u001b[1;32m---> 10\u001b[1;33m     \u001b[0mdom\u001b[0m \u001b[1;33m=\u001b[0m \u001b[0mBeautifulSoup\u001b[0m\u001b[1;33m(\u001b[0m\u001b[0mhtml\u001b[0m\u001b[1;33m.\u001b[0m\u001b[0mtext\u001b[0m\u001b[1;33m,\u001b[0m \u001b[1;34m\"html.parser\"\u001b[0m\u001b[1;33m)\u001b[0m\u001b[1;33m\u001b[0m\u001b[1;33m\u001b[0m\u001b[0m\n\u001b[0m\u001b[0;32m     11\u001b[0m \u001b[1;33m\u001b[0m\u001b[0m\n\u001b[0;32m     12\u001b[0m     \u001b[1;31m# 게시물 scrapping\u001b[0m\u001b[1;33m\u001b[0m\u001b[1;33m\u001b[0m\u001b[1;33m\u001b[0m\u001b[0m\n",
      "\u001b[1;32m~\\Anaconda3\\lib\\site-packages\\bs4\\__init__.py\u001b[0m in \u001b[0;36m__init__\u001b[1;34m(self, markup, features, builder, parse_only, from_encoding, exclude_encodings, **kwargs)\u001b[0m\n\u001b[0;32m    279\u001b[0m             \u001b[0mself\u001b[0m\u001b[1;33m.\u001b[0m\u001b[0mreset\u001b[0m\u001b[1;33m(\u001b[0m\u001b[1;33m)\u001b[0m\u001b[1;33m\u001b[0m\u001b[1;33m\u001b[0m\u001b[0m\n\u001b[0;32m    280\u001b[0m             \u001b[1;32mtry\u001b[0m\u001b[1;33m:\u001b[0m\u001b[1;33m\u001b[0m\u001b[1;33m\u001b[0m\u001b[0m\n\u001b[1;32m--> 281\u001b[1;33m                 \u001b[0mself\u001b[0m\u001b[1;33m.\u001b[0m\u001b[0m_feed\u001b[0m\u001b[1;33m(\u001b[0m\u001b[1;33m)\u001b[0m\u001b[1;33m\u001b[0m\u001b[1;33m\u001b[0m\u001b[0m\n\u001b[0m\u001b[0;32m    282\u001b[0m                 \u001b[1;32mbreak\u001b[0m\u001b[1;33m\u001b[0m\u001b[1;33m\u001b[0m\u001b[0m\n\u001b[0;32m    283\u001b[0m             \u001b[1;32mexcept\u001b[0m \u001b[0mParserRejectedMarkup\u001b[0m\u001b[1;33m:\u001b[0m\u001b[1;33m\u001b[0m\u001b[1;33m\u001b[0m\u001b[0m\n",
      "\u001b[1;32m~\\Anaconda3\\lib\\site-packages\\bs4\\__init__.py\u001b[0m in \u001b[0;36m_feed\u001b[1;34m(self)\u001b[0m\n\u001b[0;32m    340\u001b[0m         \u001b[0mself\u001b[0m\u001b[1;33m.\u001b[0m\u001b[0mbuilder\u001b[0m\u001b[1;33m.\u001b[0m\u001b[0mreset\u001b[0m\u001b[1;33m(\u001b[0m\u001b[1;33m)\u001b[0m\u001b[1;33m\u001b[0m\u001b[1;33m\u001b[0m\u001b[0m\n\u001b[0;32m    341\u001b[0m \u001b[1;33m\u001b[0m\u001b[0m\n\u001b[1;32m--> 342\u001b[1;33m         \u001b[0mself\u001b[0m\u001b[1;33m.\u001b[0m\u001b[0mbuilder\u001b[0m\u001b[1;33m.\u001b[0m\u001b[0mfeed\u001b[0m\u001b[1;33m(\u001b[0m\u001b[0mself\u001b[0m\u001b[1;33m.\u001b[0m\u001b[0mmarkup\u001b[0m\u001b[1;33m)\u001b[0m\u001b[1;33m\u001b[0m\u001b[1;33m\u001b[0m\u001b[0m\n\u001b[0m\u001b[0;32m    343\u001b[0m         \u001b[1;31m# Close out any unfinished strings and close all the open tags.\u001b[0m\u001b[1;33m\u001b[0m\u001b[1;33m\u001b[0m\u001b[1;33m\u001b[0m\u001b[0m\n\u001b[0;32m    344\u001b[0m         \u001b[0mself\u001b[0m\u001b[1;33m.\u001b[0m\u001b[0mendData\u001b[0m\u001b[1;33m(\u001b[0m\u001b[1;33m)\u001b[0m\u001b[1;33m\u001b[0m\u001b[1;33m\u001b[0m\u001b[0m\n",
      "\u001b[1;32m~\\Anaconda3\\lib\\site-packages\\bs4\\builder\\_htmlparser.py\u001b[0m in \u001b[0;36mfeed\u001b[1;34m(self, markup)\u001b[0m\n\u001b[0;32m    245\u001b[0m         \u001b[0mparser\u001b[0m\u001b[1;33m.\u001b[0m\u001b[0msoup\u001b[0m \u001b[1;33m=\u001b[0m \u001b[0mself\u001b[0m\u001b[1;33m.\u001b[0m\u001b[0msoup\u001b[0m\u001b[1;33m\u001b[0m\u001b[1;33m\u001b[0m\u001b[0m\n\u001b[0;32m    246\u001b[0m         \u001b[1;32mtry\u001b[0m\u001b[1;33m:\u001b[0m\u001b[1;33m\u001b[0m\u001b[1;33m\u001b[0m\u001b[0m\n\u001b[1;32m--> 247\u001b[1;33m             \u001b[0mparser\u001b[0m\u001b[1;33m.\u001b[0m\u001b[0mfeed\u001b[0m\u001b[1;33m(\u001b[0m\u001b[0mmarkup\u001b[0m\u001b[1;33m)\u001b[0m\u001b[1;33m\u001b[0m\u001b[1;33m\u001b[0m\u001b[0m\n\u001b[0m\u001b[0;32m    248\u001b[0m             \u001b[0mparser\u001b[0m\u001b[1;33m.\u001b[0m\u001b[0mclose\u001b[0m\u001b[1;33m(\u001b[0m\u001b[1;33m)\u001b[0m\u001b[1;33m\u001b[0m\u001b[1;33m\u001b[0m\u001b[0m\n\u001b[0;32m    249\u001b[0m         \u001b[1;32mexcept\u001b[0m \u001b[0mHTMLParseError\u001b[0m \u001b[1;32mas\u001b[0m \u001b[0me\u001b[0m\u001b[1;33m:\u001b[0m\u001b[1;33m\u001b[0m\u001b[1;33m\u001b[0m\u001b[0m\n",
      "\u001b[1;32m~\\Anaconda3\\lib\\html\\parser.py\u001b[0m in \u001b[0;36mfeed\u001b[1;34m(self, data)\u001b[0m\n\u001b[0;32m    109\u001b[0m         \"\"\"\n\u001b[0;32m    110\u001b[0m         \u001b[0mself\u001b[0m\u001b[1;33m.\u001b[0m\u001b[0mrawdata\u001b[0m \u001b[1;33m=\u001b[0m \u001b[0mself\u001b[0m\u001b[1;33m.\u001b[0m\u001b[0mrawdata\u001b[0m \u001b[1;33m+\u001b[0m \u001b[0mdata\u001b[0m\u001b[1;33m\u001b[0m\u001b[1;33m\u001b[0m\u001b[0m\n\u001b[1;32m--> 111\u001b[1;33m         \u001b[0mself\u001b[0m\u001b[1;33m.\u001b[0m\u001b[0mgoahead\u001b[0m\u001b[1;33m(\u001b[0m\u001b[1;36m0\u001b[0m\u001b[1;33m)\u001b[0m\u001b[1;33m\u001b[0m\u001b[1;33m\u001b[0m\u001b[0m\n\u001b[0m\u001b[0;32m    112\u001b[0m \u001b[1;33m\u001b[0m\u001b[0m\n\u001b[0;32m    113\u001b[0m     \u001b[1;32mdef\u001b[0m \u001b[0mclose\u001b[0m\u001b[1;33m(\u001b[0m\u001b[0mself\u001b[0m\u001b[1;33m)\u001b[0m\u001b[1;33m:\u001b[0m\u001b[1;33m\u001b[0m\u001b[1;33m\u001b[0m\u001b[0m\n",
      "\u001b[1;32m~\\Anaconda3\\lib\\html\\parser.py\u001b[0m in \u001b[0;36mgoahead\u001b[1;34m(self, end)\u001b[0m\n\u001b[0;32m    169\u001b[0m             \u001b[1;32mif\u001b[0m \u001b[0mstartswith\u001b[0m\u001b[1;33m(\u001b[0m\u001b[1;34m'<'\u001b[0m\u001b[1;33m,\u001b[0m \u001b[0mi\u001b[0m\u001b[1;33m)\u001b[0m\u001b[1;33m:\u001b[0m\u001b[1;33m\u001b[0m\u001b[1;33m\u001b[0m\u001b[0m\n\u001b[0;32m    170\u001b[0m                 \u001b[1;32mif\u001b[0m \u001b[0mstarttagopen\u001b[0m\u001b[1;33m.\u001b[0m\u001b[0mmatch\u001b[0m\u001b[1;33m(\u001b[0m\u001b[0mrawdata\u001b[0m\u001b[1;33m,\u001b[0m \u001b[0mi\u001b[0m\u001b[1;33m)\u001b[0m\u001b[1;33m:\u001b[0m \u001b[1;31m# < + letter\u001b[0m\u001b[1;33m\u001b[0m\u001b[1;33m\u001b[0m\u001b[0m\n\u001b[1;32m--> 171\u001b[1;33m                     \u001b[0mk\u001b[0m \u001b[1;33m=\u001b[0m \u001b[0mself\u001b[0m\u001b[1;33m.\u001b[0m\u001b[0mparse_starttag\u001b[0m\u001b[1;33m(\u001b[0m\u001b[0mi\u001b[0m\u001b[1;33m)\u001b[0m\u001b[1;33m\u001b[0m\u001b[1;33m\u001b[0m\u001b[0m\n\u001b[0m\u001b[0;32m    172\u001b[0m                 \u001b[1;32melif\u001b[0m \u001b[0mstartswith\u001b[0m\u001b[1;33m(\u001b[0m\u001b[1;34m\"</\"\u001b[0m\u001b[1;33m,\u001b[0m \u001b[0mi\u001b[0m\u001b[1;33m)\u001b[0m\u001b[1;33m:\u001b[0m\u001b[1;33m\u001b[0m\u001b[1;33m\u001b[0m\u001b[0m\n\u001b[0;32m    173\u001b[0m                     \u001b[0mk\u001b[0m \u001b[1;33m=\u001b[0m \u001b[0mself\u001b[0m\u001b[1;33m.\u001b[0m\u001b[0mparse_endtag\u001b[0m\u001b[1;33m(\u001b[0m\u001b[0mi\u001b[0m\u001b[1;33m)\u001b[0m\u001b[1;33m\u001b[0m\u001b[1;33m\u001b[0m\u001b[0m\n",
      "\u001b[1;32m~\\Anaconda3\\lib\\html\\parser.py\u001b[0m in \u001b[0;36mparse_starttag\u001b[1;34m(self, i)\u001b[0m\n\u001b[0;32m    343\u001b[0m             \u001b[0mself\u001b[0m\u001b[1;33m.\u001b[0m\u001b[0mhandle_startendtag\u001b[0m\u001b[1;33m(\u001b[0m\u001b[0mtag\u001b[0m\u001b[1;33m,\u001b[0m \u001b[0mattrs\u001b[0m\u001b[1;33m)\u001b[0m\u001b[1;33m\u001b[0m\u001b[1;33m\u001b[0m\u001b[0m\n\u001b[0;32m    344\u001b[0m         \u001b[1;32melse\u001b[0m\u001b[1;33m:\u001b[0m\u001b[1;33m\u001b[0m\u001b[1;33m\u001b[0m\u001b[0m\n\u001b[1;32m--> 345\u001b[1;33m             \u001b[0mself\u001b[0m\u001b[1;33m.\u001b[0m\u001b[0mhandle_starttag\u001b[0m\u001b[1;33m(\u001b[0m\u001b[0mtag\u001b[0m\u001b[1;33m,\u001b[0m \u001b[0mattrs\u001b[0m\u001b[1;33m)\u001b[0m\u001b[1;33m\u001b[0m\u001b[1;33m\u001b[0m\u001b[0m\n\u001b[0m\u001b[0;32m    346\u001b[0m             \u001b[1;32mif\u001b[0m \u001b[0mtag\u001b[0m \u001b[1;32min\u001b[0m \u001b[0mself\u001b[0m\u001b[1;33m.\u001b[0m\u001b[0mCDATA_CONTENT_ELEMENTS\u001b[0m\u001b[1;33m:\u001b[0m\u001b[1;33m\u001b[0m\u001b[1;33m\u001b[0m\u001b[0m\n\u001b[0;32m    347\u001b[0m                 \u001b[0mself\u001b[0m\u001b[1;33m.\u001b[0m\u001b[0mset_cdata_mode\u001b[0m\u001b[1;33m(\u001b[0m\u001b[0mtag\u001b[0m\u001b[1;33m)\u001b[0m\u001b[1;33m\u001b[0m\u001b[1;33m\u001b[0m\u001b[0m\n",
      "\u001b[1;32m~\\Anaconda3\\lib\\site-packages\\bs4\\builder\\_htmlparser.py\u001b[0m in \u001b[0;36mhandle_starttag\u001b[1;34m(self, name, attrs, handle_empty_element)\u001b[0m\n\u001b[0;32m    100\u001b[0m             \u001b[0mattrvalue\u001b[0m \u001b[1;33m=\u001b[0m \u001b[1;34m'\"\"'\u001b[0m\u001b[1;33m\u001b[0m\u001b[1;33m\u001b[0m\u001b[0m\n\u001b[0;32m    101\u001b[0m         \u001b[1;31m#print \"START\", name\u001b[0m\u001b[1;33m\u001b[0m\u001b[1;33m\u001b[0m\u001b[1;33m\u001b[0m\u001b[0m\n\u001b[1;32m--> 102\u001b[1;33m         \u001b[0mtag\u001b[0m \u001b[1;33m=\u001b[0m \u001b[0mself\u001b[0m\u001b[1;33m.\u001b[0m\u001b[0msoup\u001b[0m\u001b[1;33m.\u001b[0m\u001b[0mhandle_starttag\u001b[0m\u001b[1;33m(\u001b[0m\u001b[0mname\u001b[0m\u001b[1;33m,\u001b[0m \u001b[1;32mNone\u001b[0m\u001b[1;33m,\u001b[0m \u001b[1;32mNone\u001b[0m\u001b[1;33m,\u001b[0m \u001b[0mattr_dict\u001b[0m\u001b[1;33m)\u001b[0m\u001b[1;33m\u001b[0m\u001b[1;33m\u001b[0m\u001b[0m\n\u001b[0m\u001b[0;32m    103\u001b[0m         \u001b[1;32mif\u001b[0m \u001b[0mtag\u001b[0m \u001b[1;32mand\u001b[0m \u001b[0mtag\u001b[0m\u001b[1;33m.\u001b[0m\u001b[0mis_empty_element\u001b[0m \u001b[1;32mand\u001b[0m \u001b[0mhandle_empty_element\u001b[0m\u001b[1;33m:\u001b[0m\u001b[1;33m\u001b[0m\u001b[1;33m\u001b[0m\u001b[0m\n\u001b[0;32m    104\u001b[0m             \u001b[1;31m# Unlike other parsers, html.parser doesn't send separate end tag\u001b[0m\u001b[1;33m\u001b[0m\u001b[1;33m\u001b[0m\u001b[1;33m\u001b[0m\u001b[0m\n",
      "\u001b[1;32m~\\Anaconda3\\lib\\site-packages\\bs4\\__init__.py\u001b[0m in \u001b[0;36mhandle_starttag\u001b[1;34m(self, name, namespace, nsprefix, attrs)\u001b[0m\n\u001b[0;32m    520\u001b[0m \u001b[1;33m\u001b[0m\u001b[0m\n\u001b[0;32m    521\u001b[0m         \u001b[1;31m# print \"Start tag %s: %s\" % (name, attrs)\u001b[0m\u001b[1;33m\u001b[0m\u001b[1;33m\u001b[0m\u001b[1;33m\u001b[0m\u001b[0m\n\u001b[1;32m--> 522\u001b[1;33m         \u001b[0mself\u001b[0m\u001b[1;33m.\u001b[0m\u001b[0mendData\u001b[0m\u001b[1;33m(\u001b[0m\u001b[1;33m)\u001b[0m\u001b[1;33m\u001b[0m\u001b[1;33m\u001b[0m\u001b[0m\n\u001b[0m\u001b[0;32m    523\u001b[0m \u001b[1;33m\u001b[0m\u001b[0m\n\u001b[0;32m    524\u001b[0m         if (self.parse_only and len(self.tagStack) <= 1\n",
      "\u001b[1;32m~\\Anaconda3\\lib\\site-packages\\bs4\\__init__.py\u001b[0m in \u001b[0;36mendData\u001b[1;34m(self, containerClass)\u001b[0m\n\u001b[0;32m    417\u001b[0m \u001b[1;33m\u001b[0m\u001b[0m\n\u001b[0;32m    418\u001b[0m             \u001b[0mo\u001b[0m \u001b[1;33m=\u001b[0m \u001b[0mcontainerClass\u001b[0m\u001b[1;33m(\u001b[0m\u001b[0mcurrent_data\u001b[0m\u001b[1;33m)\u001b[0m\u001b[1;33m\u001b[0m\u001b[1;33m\u001b[0m\u001b[0m\n\u001b[1;32m--> 419\u001b[1;33m             \u001b[0mself\u001b[0m\u001b[1;33m.\u001b[0m\u001b[0mobject_was_parsed\u001b[0m\u001b[1;33m(\u001b[0m\u001b[0mo\u001b[0m\u001b[1;33m)\u001b[0m\u001b[1;33m\u001b[0m\u001b[1;33m\u001b[0m\u001b[0m\n\u001b[0m\u001b[0;32m    420\u001b[0m \u001b[1;33m\u001b[0m\u001b[0m\n\u001b[0;32m    421\u001b[0m     \u001b[1;32mdef\u001b[0m \u001b[0mobject_was_parsed\u001b[0m\u001b[1;33m(\u001b[0m\u001b[0mself\u001b[0m\u001b[1;33m,\u001b[0m \u001b[0mo\u001b[0m\u001b[1;33m,\u001b[0m \u001b[0mparent\u001b[0m\u001b[1;33m=\u001b[0m\u001b[1;32mNone\u001b[0m\u001b[1;33m,\u001b[0m \u001b[0mmost_recent_element\u001b[0m\u001b[1;33m=\u001b[0m\u001b[1;32mNone\u001b[0m\u001b[1;33m)\u001b[0m\u001b[1;33m:\u001b[0m\u001b[1;33m\u001b[0m\u001b[1;33m\u001b[0m\u001b[0m\n",
      "\u001b[1;32m~\\Anaconda3\\lib\\site-packages\\bs4\\__init__.py\u001b[0m in \u001b[0;36mobject_was_parsed\u001b[1;34m(self, o, parent, most_recent_element)\u001b[0m\n\u001b[0;32m    438\u001b[0m         \u001b[0mfix\u001b[0m \u001b[1;33m=\u001b[0m \u001b[0mparent\u001b[0m\u001b[1;33m.\u001b[0m\u001b[0mnext_element\u001b[0m \u001b[1;32mis\u001b[0m \u001b[1;32mnot\u001b[0m \u001b[1;32mNone\u001b[0m\u001b[1;33m\u001b[0m\u001b[1;33m\u001b[0m\u001b[0m\n\u001b[0;32m    439\u001b[0m \u001b[1;33m\u001b[0m\u001b[0m\n\u001b[1;32m--> 440\u001b[1;33m         \u001b[0mo\u001b[0m\u001b[1;33m.\u001b[0m\u001b[0msetup\u001b[0m\u001b[1;33m(\u001b[0m\u001b[0mparent\u001b[0m\u001b[1;33m,\u001b[0m \u001b[0mprevious_element\u001b[0m\u001b[1;33m,\u001b[0m \u001b[0mnext_element\u001b[0m\u001b[1;33m,\u001b[0m \u001b[0mprevious_sibling\u001b[0m\u001b[1;33m,\u001b[0m \u001b[0mnext_sibling\u001b[0m\u001b[1;33m)\u001b[0m\u001b[1;33m\u001b[0m\u001b[1;33m\u001b[0m\u001b[0m\n\u001b[0m\u001b[0;32m    441\u001b[0m \u001b[1;33m\u001b[0m\u001b[0m\n\u001b[0;32m    442\u001b[0m         \u001b[0mself\u001b[0m\u001b[1;33m.\u001b[0m\u001b[0m_most_recent_element\u001b[0m \u001b[1;33m=\u001b[0m \u001b[0mo\u001b[0m\u001b[1;33m\u001b[0m\u001b[1;33m\u001b[0m\u001b[0m\n",
      "\u001b[1;32m~\\Anaconda3\\lib\\site-packages\\bs4\\element.py\u001b[0m in \u001b[0;36msetup\u001b[1;34m(self, parent, previous_element, next_element, previous_sibling, next_sibling)\u001b[0m\n\u001b[0;32m    275\u001b[0m \u001b[1;33m\u001b[0m\u001b[0m\n\u001b[0;32m    276\u001b[0m         if (previous_sibling is None\n\u001b[1;32m--> 277\u001b[1;33m             and self.parent is not None and self.parent.contents):\n\u001b[0m\u001b[0;32m    278\u001b[0m             \u001b[0mprevious_sibling\u001b[0m \u001b[1;33m=\u001b[0m \u001b[0mself\u001b[0m\u001b[1;33m.\u001b[0m\u001b[0mparent\u001b[0m\u001b[1;33m.\u001b[0m\u001b[0mcontents\u001b[0m\u001b[1;33m[\u001b[0m\u001b[1;33m-\u001b[0m\u001b[1;36m1\u001b[0m\u001b[1;33m]\u001b[0m\u001b[1;33m\u001b[0m\u001b[1;33m\u001b[0m\u001b[0m\n\u001b[0;32m    279\u001b[0m \u001b[1;33m\u001b[0m\u001b[0m\n",
      "\u001b[1;31mKeyboardInterrupt\u001b[0m: "
     ]
    }
   ],
   "source": [
    "# 가즈아~~\n",
    "\n",
    "queue = []\n",
    "queue.extend(title_urls)\n",
    "seen = []\n",
    "\n",
    "while queue:\n",
    "    baseURL = queue.pop(0)\n",
    "    seen.append(baseURL)\n",
    "    \n",
    "    # 게시물 html 다운로드\n",
    "    html = download(\"get\", baseURL)\n",
    "    dom = BeautifulSoup(html.text, \"html.parser\")\n",
    "    \n",
    "    # 게시물 scrapping\n",
    "    # 아직\n",
    "    \n",
    "    # 다음페이지 넘어가서 url 가져오기\n",
    "    if not queue:\n",
    "        current_page = int(dom.select(\".page_inert\")[0].text)\n",
    "        next_url = requests.compat.urljoin(url, dom.select(\"td#page_list\")[0].find_all(\"a\", text=current_page+1)[0][\"href\"])\n",
    "        next_html = download(\"get\", next_url)\n",
    "        next_dom = BeautifulSoup(next_html.text, \"html.parser\")        \n",
    "        queue.extend([requests.compat.urljoin(url, tag.find_parent()[\"href\"]) for tag in next_dom.select(\".list_title\")])\n",
    "        \n",
    "    print(\"Queue: {0}, Seen: {1}\".format(len(queue), len(seen)))"
   ]
  },
  {
   "cell_type": "markdown",
   "metadata": {},
   "source": [
    "### 3. 스크래핑하기"
   ]
  },
  {
   "cell_type": "code",
   "execution_count": 167,
   "metadata": {},
   "outputs": [],
   "source": [
    "# 게시물의 html을 가져오자\n",
    "\n",
    "free_html = download(\"get\", title_urls[1])\n",
    "free_dom = BeautifulSoup(free_html.text, \"html.parser\")"
   ]
  },
  {
   "cell_type": "code",
   "execution_count": 168,
   "metadata": {},
   "outputs": [
    {
     "data": {
      "text/plain": [
       "'커플룩~'"
      ]
     },
     "execution_count": 168,
     "metadata": {},
     "output_type": "execute_result"
    }
   ],
   "source": [
    "# 제목 가져오기\n",
    "\n",
    "free_dom.select(\".view_title2\")[0].text"
   ]
  },
  {
   "cell_type": "code",
   "execution_count": 169,
   "metadata": {},
   "outputs": [
    {
     "data": {
      "text/plain": [
       "'커플룩~'"
      ]
     },
     "execution_count": 169,
     "metadata": {},
     "output_type": "execute_result"
    }
   ],
   "source": [
    "free_dom.select_one(\".view_title2\").text"
   ]
  },
  {
   "cell_type": "code",
   "execution_count": 171,
   "metadata": {},
   "outputs": [
    {
     "data": {
      "text/plain": [
       "[]"
      ]
     },
     "execution_count": 171,
     "metadata": {},
     "output_type": "execute_result"
    }
   ],
   "source": [
    "# 본문 가져오기\n",
    "# 안됨?\n",
    "\n",
    "free_dom.select(\"td.board-contents\")"
   ]
  },
  {
   "cell_type": "code",
   "execution_count": 172,
   "metadata": {},
   "outputs": [
    {
     "data": {
      "text/plain": [
       "[]"
      ]
     },
     "execution_count": 172,
     "metadata": {},
     "output_type": "execute_result"
    }
   ],
   "source": [
    "# 이거도 안됨\n",
    "\n",
    "free_dom.select(\"td[class^=board]\")"
   ]
  },
  {
   "cell_type": "code",
   "execution_count": 177,
   "metadata": {},
   "outputs": [
    {
     "data": {
      "text/plain": [
       "'얼릉 나아서 집에가자~~\\n힘드네요!'"
      ]
     },
     "execution_count": 177,
     "metadata": {},
     "output_type": "execute_result"
    }
   ],
   "source": [
    "# 본문 가져오기\n",
    "# 소스코드를 까보면, 페이지를 거지같이 만들었다는 것을 알 수 있음.\n",
    "# 소스코드:   <td class='board-contents' align=\"left\" valign=top class=han>\n",
    "# td의 class를 board-contents라고 해놓고 태그 안에 han이라고 또 해놨다.\n",
    "# 뒤의 class(=han)이 앞의 class(=board-contents)를 덮어썼다. 그래서 안나오는 것이다.\n",
    "# 이따위로 만들어도 에러 안나고 실행되는 html이 참 신기;;\n",
    "\n",
    "free_dom.select_one(\"table.pic_bg td.han\").text.strip()"
   ]
  },
  {
   "cell_type": "code",
   "execution_count": 192,
   "metadata": {},
   "outputs": [
    {
     "data": {
      "text/plain": [
       "'0 0 \\n\\n애들 덕분에 피셔가셧네 ㅎㅎ\\n\\xa0\\n\\xa0\\n애들 덕분에 피셔가셧네 ㅎㅎ\\r\\n\\xa0\\r\\n\\xa0\\n\\n\\n2019-07-1615:46:29'"
      ]
     },
     "execution_count": 192,
     "metadata": {},
     "output_type": "execute_result"
    }
   ],
   "source": [
    "# 댓글 가져오기\n",
    "\n",
    "free_dom.select(\".comment_wrapper\")[0].text.strip()"
   ]
  },
  {
   "cell_type": "code",
   "execution_count": 204,
   "metadata": {},
   "outputs": [
    {
     "data": {
      "text/plain": [
       "[<div class=\"han\" id=\"commentContent_67878571\" style=\"position:relative; overflow:hidden; width:100%;\">애들 덕분에 피셔가셧네 ㅎㅎ\n",
       " <p> </p>\n",
       " <p> </p></div>,\n",
       " <div class=\"han\" id=\"commentContent_67878578\" style=\"position:relative; overflow:hidden; width:100%;\"><p>시원하긴한데..엄청피곤해요 ㅜㅜ</p>\n",
       " <p>잠을못자서</p></div>,\n",
       " <div class=\"han\" id=\"commentContent_67878714\" style=\"position:relative; overflow:hidden; width:100%;\">원숭이님도 입원하셨나요?ㅜ</div>,\n",
       " <div class=\"han\" id=\"commentContent_67878817\" style=\"position:relative; overflow:hidden; width:100%;\"><p>아들.딸이요!</p></div>,\n",
       " <div class=\"han\" id=\"commentContent_67878872\" style=\"position:relative; overflow:hidden; width:100%;\"><p>까치발 귀여워요~</p>\n",
       " <p>\n",
       " <br>\n",
       " </br></p></div>]"
      ]
     },
     "execution_count": 204,
     "metadata": {},
     "output_type": "execute_result"
    }
   ],
   "source": [
    "free_dom.select(\".comment_wrapper [id^=commentContent]\")"
   ]
  },
  {
   "cell_type": "code",
   "execution_count": 205,
   "metadata": {},
   "outputs": [
    {
     "data": {
      "text/plain": [
       "['애들 덕분에 피셔가셧네 ㅎㅎ',\n",
       " '시원하긴한데..엄청피곤해요 ㅜㅜ\\n잠을못자서',\n",
       " '원숭이님도 입원하셨나요?ㅜ',\n",
       " '아들.딸이요!',\n",
       " '까치발 귀여워요~']"
      ]
     },
     "execution_count": 205,
     "metadata": {},
     "output_type": "execute_result"
    }
   ],
   "source": [
    "[comment.text.strip() for comment in free_dom.select(\".comment_wrapper [id^=commentContent]\")]"
   ]
  },
  {
   "cell_type": "code",
   "execution_count": 187,
   "metadata": {},
   "outputs": [
    {
     "data": {
      "text/plain": [
       "[<div class=\"han\" id=\"commentContent_67878571\" style=\"position:relative; overflow:hidden; width:100%;\">애들 덕분에 피셔가셧네 ㅎㅎ\n",
       " <p> </p>\n",
       " <p> </p></div>,\n",
       " <div class=\"han\" id=\"commentContent_67878578\" style=\"position:relative; overflow:hidden; width:100%;\"><p>시원하긴한데..엄청피곤해요 ㅜㅜ</p>\n",
       " <p>잠을못자서</p></div>,\n",
       " <div class=\"han\" id=\"commentContent_67878714\" style=\"position:relative; overflow:hidden; width:100%;\">원숭이님도 입원하셨나요?ㅜ</div>,\n",
       " <div class=\"han\" id=\"commentContent_67878817\" style=\"position:relative; overflow:hidden; width:100%;\"><p>아들.딸이요!</p></div>,\n",
       " <div class=\"han\" id=\"commentContent_67878872\" style=\"position:relative; overflow:hidden; width:100%;\"><p>까치발 귀여워요~</p>\n",
       " <p>\n",
       " <br>\n",
       " </br></p></div>]"
      ]
     },
     "execution_count": 187,
     "metadata": {},
     "output_type": "execute_result"
    }
   ],
   "source": [
    "# id만으로도 뽑아올 수 있음.\n",
    "\n",
    "free_dom.select(\"[id^=commentContent]\")"
   ]
  },
  {
   "cell_type": "code",
   "execution_count": 233,
   "metadata": {},
   "outputs": [
    {
     "data": {
      "text/plain": [
       "['애들 덕분에 피셔가셧네 ㅎㅎ',\n",
       " '시원하긴한데..엄청피곤해요 ㅜㅜ\\n잠을못자서',\n",
       " '원숭이님도 입원하셨나요?ㅜ',\n",
       " '아들.딸이요!',\n",
       " '까치발 귀여워요~']"
      ]
     },
     "execution_count": 233,
     "metadata": {},
     "output_type": "execute_result"
    }
   ],
   "source": [
    "# 이렇게도 가능함.\n",
    "\n",
    "[comment.text.strip() for comment in free_dom.select(\"[id^=commentContent]\")]"
   ]
  },
  {
   "cell_type": "code",
   "execution_count": 207,
   "metadata": {},
   "outputs": [],
   "source": [
    "# 스크래핑 함수로 만들기\n",
    "\n",
    "def scraping(dom):\n",
    "    return {\"title\":dom.select_one(\".view_title2\").text.strip(),\n",
    "           \"content\":dom.select_one(\"table.pic_bg td.han\").text.strip(),\n",
    "           \"comments\":[comment.text.strip() for comment in dom.select(\".comment_wrapper [id^=commentContent]\")]}"
   ]
  },
  {
   "cell_type": "markdown",
   "metadata": {},
   "source": [
    "### 스크래핑 중간 점검"
   ]
  },
  {
   "cell_type": "code",
   "execution_count": 209,
   "metadata": {},
   "outputs": [],
   "source": [
    "# 사전 준비\n",
    "url = \"http://www.ppomppu.co.kr/zboard/zboard.php\"\n",
    "params = {\"id\":\"freeboard\"}\n",
    "html = download('get', url, params)\n",
    "dom = BeautifulSoup(html.text, \"html.parser\")\n",
    "title_urls = [requests.compat.urljoin(url, tag.find_parent()[\"href\"]) for tag in dom.select(\".list_title\")]"
   ]
  },
  {
   "cell_type": "code",
   "execution_count": 213,
   "metadata": {},
   "outputs": [
    {
     "name": "stdout",
     "output_type": "stream",
     "text": [
      "게시물에 정보가 없습니다.\n",
      "Queue: 30, Seen: 1\n",
      "Queue: 29, Seen: 2\n",
      "Queue: 28, Seen: 3\n",
      "Queue: 27, Seen: 4\n",
      "Queue: 26, Seen: 5\n",
      "Queue: 25, Seen: 6\n",
      "Queue: 24, Seen: 7\n",
      "Queue: 23, Seen: 8\n",
      "게시물에 정보가 없습니다.\n",
      "Queue: 22, Seen: 9\n",
      "Queue: 21, Seen: 10\n",
      "Queue: 20, Seen: 11\n",
      "Queue: 19, Seen: 12\n"
     ]
    },
    {
     "ename": "KeyboardInterrupt",
     "evalue": "",
     "output_type": "error",
     "traceback": [
      "\u001b[1;31m---------------------------------------------------------------------------\u001b[0m",
      "\u001b[1;31mKeyboardInterrupt\u001b[0m                         Traceback (most recent call last)",
      "\u001b[1;32m<ipython-input-213-aec0b4b643af>\u001b[0m in \u001b[0;36m<module>\u001b[1;34m\u001b[0m\n\u001b[0;32m     11\u001b[0m \u001b[1;33m\u001b[0m\u001b[0m\n\u001b[0;32m     12\u001b[0m     \u001b[1;31m# 게시물 html 다운로드\u001b[0m\u001b[1;33m\u001b[0m\u001b[1;33m\u001b[0m\u001b[1;33m\u001b[0m\u001b[0m\n\u001b[1;32m---> 13\u001b[1;33m     \u001b[0mhtml\u001b[0m \u001b[1;33m=\u001b[0m \u001b[0mdownload\u001b[0m\u001b[1;33m(\u001b[0m\u001b[1;34m\"get\"\u001b[0m\u001b[1;33m,\u001b[0m \u001b[0mbaseURL\u001b[0m\u001b[1;33m)\u001b[0m\u001b[1;33m\u001b[0m\u001b[1;33m\u001b[0m\u001b[0m\n\u001b[0m\u001b[0;32m     14\u001b[0m     \u001b[0mdom\u001b[0m \u001b[1;33m=\u001b[0m \u001b[0mBeautifulSoup\u001b[0m\u001b[1;33m(\u001b[0m\u001b[0mhtml\u001b[0m\u001b[1;33m.\u001b[0m\u001b[0mtext\u001b[0m\u001b[1;33m,\u001b[0m \u001b[1;34m\"html.parser\"\u001b[0m\u001b[1;33m)\u001b[0m\u001b[1;33m\u001b[0m\u001b[1;33m\u001b[0m\u001b[0m\n\u001b[0;32m     15\u001b[0m \u001b[1;33m\u001b[0m\u001b[0m\n",
      "\u001b[1;32m<ipython-input-2-6e896d8cd473>\u001b[0m in \u001b[0;36mdownload\u001b[1;34m(method, url, params, data, headers, timeout, retries)\u001b[0m\n\u001b[0;32m      9\u001b[0m         resp = requests.request(method, url, \n\u001b[0;32m     10\u001b[0m                                 \u001b[0mparams\u001b[0m\u001b[1;33m=\u001b[0m\u001b[0mparams\u001b[0m\u001b[1;33m,\u001b[0m \u001b[0mdata\u001b[0m\u001b[1;33m=\u001b[0m\u001b[0mdata\u001b[0m\u001b[1;33m,\u001b[0m\u001b[1;33m\u001b[0m\u001b[1;33m\u001b[0m\u001b[0m\n\u001b[1;32m---> 11\u001b[1;33m                                 headers=headers, timeout=timeout)\n\u001b[0m\u001b[0;32m     12\u001b[0m         \u001b[0mresp\u001b[0m\u001b[1;33m.\u001b[0m\u001b[0mraise_for_status\u001b[0m\u001b[1;33m(\u001b[0m\u001b[1;33m)\u001b[0m\u001b[1;33m\u001b[0m\u001b[1;33m\u001b[0m\u001b[0m\n\u001b[0;32m     13\u001b[0m \u001b[1;33m\u001b[0m\u001b[0m\n",
      "\u001b[1;32m~\\Anaconda3\\lib\\site-packages\\requests\\api.py\u001b[0m in \u001b[0;36mrequest\u001b[1;34m(method, url, **kwargs)\u001b[0m\n\u001b[0;32m     58\u001b[0m     \u001b[1;31m# cases, and look like a memory leak in others.\u001b[0m\u001b[1;33m\u001b[0m\u001b[1;33m\u001b[0m\u001b[1;33m\u001b[0m\u001b[0m\n\u001b[0;32m     59\u001b[0m     \u001b[1;32mwith\u001b[0m \u001b[0msessions\u001b[0m\u001b[1;33m.\u001b[0m\u001b[0mSession\u001b[0m\u001b[1;33m(\u001b[0m\u001b[1;33m)\u001b[0m \u001b[1;32mas\u001b[0m \u001b[0msession\u001b[0m\u001b[1;33m:\u001b[0m\u001b[1;33m\u001b[0m\u001b[1;33m\u001b[0m\u001b[0m\n\u001b[1;32m---> 60\u001b[1;33m         \u001b[1;32mreturn\u001b[0m \u001b[0msession\u001b[0m\u001b[1;33m.\u001b[0m\u001b[0mrequest\u001b[0m\u001b[1;33m(\u001b[0m\u001b[0mmethod\u001b[0m\u001b[1;33m=\u001b[0m\u001b[0mmethod\u001b[0m\u001b[1;33m,\u001b[0m \u001b[0murl\u001b[0m\u001b[1;33m=\u001b[0m\u001b[0murl\u001b[0m\u001b[1;33m,\u001b[0m \u001b[1;33m**\u001b[0m\u001b[0mkwargs\u001b[0m\u001b[1;33m)\u001b[0m\u001b[1;33m\u001b[0m\u001b[1;33m\u001b[0m\u001b[0m\n\u001b[0m\u001b[0;32m     61\u001b[0m \u001b[1;33m\u001b[0m\u001b[0m\n\u001b[0;32m     62\u001b[0m \u001b[1;33m\u001b[0m\u001b[0m\n",
      "\u001b[1;32m~\\Anaconda3\\lib\\site-packages\\requests\\sessions.py\u001b[0m in \u001b[0;36mrequest\u001b[1;34m(self, method, url, params, data, headers, cookies, files, auth, timeout, allow_redirects, proxies, hooks, stream, verify, cert, json)\u001b[0m\n\u001b[0;32m    531\u001b[0m         }\n\u001b[0;32m    532\u001b[0m         \u001b[0msend_kwargs\u001b[0m\u001b[1;33m.\u001b[0m\u001b[0mupdate\u001b[0m\u001b[1;33m(\u001b[0m\u001b[0msettings\u001b[0m\u001b[1;33m)\u001b[0m\u001b[1;33m\u001b[0m\u001b[1;33m\u001b[0m\u001b[0m\n\u001b[1;32m--> 533\u001b[1;33m         \u001b[0mresp\u001b[0m \u001b[1;33m=\u001b[0m \u001b[0mself\u001b[0m\u001b[1;33m.\u001b[0m\u001b[0msend\u001b[0m\u001b[1;33m(\u001b[0m\u001b[0mprep\u001b[0m\u001b[1;33m,\u001b[0m \u001b[1;33m**\u001b[0m\u001b[0msend_kwargs\u001b[0m\u001b[1;33m)\u001b[0m\u001b[1;33m\u001b[0m\u001b[1;33m\u001b[0m\u001b[0m\n\u001b[0m\u001b[0;32m    534\u001b[0m \u001b[1;33m\u001b[0m\u001b[0m\n\u001b[0;32m    535\u001b[0m         \u001b[1;32mreturn\u001b[0m \u001b[0mresp\u001b[0m\u001b[1;33m\u001b[0m\u001b[1;33m\u001b[0m\u001b[0m\n",
      "\u001b[1;32m~\\Anaconda3\\lib\\site-packages\\requests\\sessions.py\u001b[0m in \u001b[0;36msend\u001b[1;34m(self, request, **kwargs)\u001b[0m\n\u001b[0;32m    684\u001b[0m \u001b[1;33m\u001b[0m\u001b[0m\n\u001b[0;32m    685\u001b[0m         \u001b[1;32mif\u001b[0m \u001b[1;32mnot\u001b[0m \u001b[0mstream\u001b[0m\u001b[1;33m:\u001b[0m\u001b[1;33m\u001b[0m\u001b[1;33m\u001b[0m\u001b[0m\n\u001b[1;32m--> 686\u001b[1;33m             \u001b[0mr\u001b[0m\u001b[1;33m.\u001b[0m\u001b[0mcontent\u001b[0m\u001b[1;33m\u001b[0m\u001b[1;33m\u001b[0m\u001b[0m\n\u001b[0m\u001b[0;32m    687\u001b[0m \u001b[1;33m\u001b[0m\u001b[0m\n\u001b[0;32m    688\u001b[0m         \u001b[1;32mreturn\u001b[0m \u001b[0mr\u001b[0m\u001b[1;33m\u001b[0m\u001b[1;33m\u001b[0m\u001b[0m\n",
      "\u001b[1;32m~\\Anaconda3\\lib\\site-packages\\requests\\models.py\u001b[0m in \u001b[0;36mcontent\u001b[1;34m(self)\u001b[0m\n\u001b[0;32m    826\u001b[0m                 \u001b[0mself\u001b[0m\u001b[1;33m.\u001b[0m\u001b[0m_content\u001b[0m \u001b[1;33m=\u001b[0m \u001b[1;32mNone\u001b[0m\u001b[1;33m\u001b[0m\u001b[1;33m\u001b[0m\u001b[0m\n\u001b[0;32m    827\u001b[0m             \u001b[1;32melse\u001b[0m\u001b[1;33m:\u001b[0m\u001b[1;33m\u001b[0m\u001b[1;33m\u001b[0m\u001b[0m\n\u001b[1;32m--> 828\u001b[1;33m                 \u001b[0mself\u001b[0m\u001b[1;33m.\u001b[0m\u001b[0m_content\u001b[0m \u001b[1;33m=\u001b[0m \u001b[1;34mb''\u001b[0m\u001b[1;33m.\u001b[0m\u001b[0mjoin\u001b[0m\u001b[1;33m(\u001b[0m\u001b[0mself\u001b[0m\u001b[1;33m.\u001b[0m\u001b[0miter_content\u001b[0m\u001b[1;33m(\u001b[0m\u001b[0mCONTENT_CHUNK_SIZE\u001b[0m\u001b[1;33m)\u001b[0m\u001b[1;33m)\u001b[0m \u001b[1;32mor\u001b[0m \u001b[1;34mb''\u001b[0m\u001b[1;33m\u001b[0m\u001b[1;33m\u001b[0m\u001b[0m\n\u001b[0m\u001b[0;32m    829\u001b[0m \u001b[1;33m\u001b[0m\u001b[0m\n\u001b[0;32m    830\u001b[0m         \u001b[0mself\u001b[0m\u001b[1;33m.\u001b[0m\u001b[0m_content_consumed\u001b[0m \u001b[1;33m=\u001b[0m \u001b[1;32mTrue\u001b[0m\u001b[1;33m\u001b[0m\u001b[1;33m\u001b[0m\u001b[0m\n",
      "\u001b[1;32m~\\Anaconda3\\lib\\site-packages\\requests\\models.py\u001b[0m in \u001b[0;36mgenerate\u001b[1;34m()\u001b[0m\n\u001b[0;32m    748\u001b[0m             \u001b[1;32mif\u001b[0m \u001b[0mhasattr\u001b[0m\u001b[1;33m(\u001b[0m\u001b[0mself\u001b[0m\u001b[1;33m.\u001b[0m\u001b[0mraw\u001b[0m\u001b[1;33m,\u001b[0m \u001b[1;34m'stream'\u001b[0m\u001b[1;33m)\u001b[0m\u001b[1;33m:\u001b[0m\u001b[1;33m\u001b[0m\u001b[1;33m\u001b[0m\u001b[0m\n\u001b[0;32m    749\u001b[0m                 \u001b[1;32mtry\u001b[0m\u001b[1;33m:\u001b[0m\u001b[1;33m\u001b[0m\u001b[1;33m\u001b[0m\u001b[0m\n\u001b[1;32m--> 750\u001b[1;33m                     \u001b[1;32mfor\u001b[0m \u001b[0mchunk\u001b[0m \u001b[1;32min\u001b[0m \u001b[0mself\u001b[0m\u001b[1;33m.\u001b[0m\u001b[0mraw\u001b[0m\u001b[1;33m.\u001b[0m\u001b[0mstream\u001b[0m\u001b[1;33m(\u001b[0m\u001b[0mchunk_size\u001b[0m\u001b[1;33m,\u001b[0m \u001b[0mdecode_content\u001b[0m\u001b[1;33m=\u001b[0m\u001b[1;32mTrue\u001b[0m\u001b[1;33m)\u001b[0m\u001b[1;33m:\u001b[0m\u001b[1;33m\u001b[0m\u001b[1;33m\u001b[0m\u001b[0m\n\u001b[0m\u001b[0;32m    751\u001b[0m                         \u001b[1;32myield\u001b[0m \u001b[0mchunk\u001b[0m\u001b[1;33m\u001b[0m\u001b[1;33m\u001b[0m\u001b[0m\n\u001b[0;32m    752\u001b[0m                 \u001b[1;32mexcept\u001b[0m \u001b[0mProtocolError\u001b[0m \u001b[1;32mas\u001b[0m \u001b[0me\u001b[0m\u001b[1;33m:\u001b[0m\u001b[1;33m\u001b[0m\u001b[1;33m\u001b[0m\u001b[0m\n",
      "\u001b[1;32m~\\Anaconda3\\lib\\site-packages\\urllib3\\response.py\u001b[0m in \u001b[0;36mstream\u001b[1;34m(self, amt, decode_content)\u001b[0m\n\u001b[0;32m    488\u001b[0m         \"\"\"\n\u001b[0;32m    489\u001b[0m         \u001b[1;32mif\u001b[0m \u001b[0mself\u001b[0m\u001b[1;33m.\u001b[0m\u001b[0mchunked\u001b[0m \u001b[1;32mand\u001b[0m \u001b[0mself\u001b[0m\u001b[1;33m.\u001b[0m\u001b[0msupports_chunked_reads\u001b[0m\u001b[1;33m(\u001b[0m\u001b[1;33m)\u001b[0m\u001b[1;33m:\u001b[0m\u001b[1;33m\u001b[0m\u001b[1;33m\u001b[0m\u001b[0m\n\u001b[1;32m--> 490\u001b[1;33m             \u001b[1;32mfor\u001b[0m \u001b[0mline\u001b[0m \u001b[1;32min\u001b[0m \u001b[0mself\u001b[0m\u001b[1;33m.\u001b[0m\u001b[0mread_chunked\u001b[0m\u001b[1;33m(\u001b[0m\u001b[0mamt\u001b[0m\u001b[1;33m,\u001b[0m \u001b[0mdecode_content\u001b[0m\u001b[1;33m=\u001b[0m\u001b[0mdecode_content\u001b[0m\u001b[1;33m)\u001b[0m\u001b[1;33m:\u001b[0m\u001b[1;33m\u001b[0m\u001b[1;33m\u001b[0m\u001b[0m\n\u001b[0m\u001b[0;32m    491\u001b[0m                 \u001b[1;32myield\u001b[0m \u001b[0mline\u001b[0m\u001b[1;33m\u001b[0m\u001b[1;33m\u001b[0m\u001b[0m\n\u001b[0;32m    492\u001b[0m         \u001b[1;32melse\u001b[0m\u001b[1;33m:\u001b[0m\u001b[1;33m\u001b[0m\u001b[1;33m\u001b[0m\u001b[0m\n",
      "\u001b[1;32m~\\Anaconda3\\lib\\site-packages\\urllib3\\response.py\u001b[0m in \u001b[0;36mread_chunked\u001b[1;34m(self, amt, decode_content)\u001b[0m\n\u001b[0;32m    664\u001b[0m \u001b[1;33m\u001b[0m\u001b[0m\n\u001b[0;32m    665\u001b[0m             \u001b[1;32mwhile\u001b[0m \u001b[1;32mTrue\u001b[0m\u001b[1;33m:\u001b[0m\u001b[1;33m\u001b[0m\u001b[1;33m\u001b[0m\u001b[0m\n\u001b[1;32m--> 666\u001b[1;33m                 \u001b[0mself\u001b[0m\u001b[1;33m.\u001b[0m\u001b[0m_update_chunk_length\u001b[0m\u001b[1;33m(\u001b[0m\u001b[1;33m)\u001b[0m\u001b[1;33m\u001b[0m\u001b[1;33m\u001b[0m\u001b[0m\n\u001b[0m\u001b[0;32m    667\u001b[0m                 \u001b[1;32mif\u001b[0m \u001b[0mself\u001b[0m\u001b[1;33m.\u001b[0m\u001b[0mchunk_left\u001b[0m \u001b[1;33m==\u001b[0m \u001b[1;36m0\u001b[0m\u001b[1;33m:\u001b[0m\u001b[1;33m\u001b[0m\u001b[1;33m\u001b[0m\u001b[0m\n\u001b[0;32m    668\u001b[0m                     \u001b[1;32mbreak\u001b[0m\u001b[1;33m\u001b[0m\u001b[1;33m\u001b[0m\u001b[0m\n",
      "\u001b[1;32m~\\Anaconda3\\lib\\site-packages\\urllib3\\response.py\u001b[0m in \u001b[0;36m_update_chunk_length\u001b[1;34m(self)\u001b[0m\n\u001b[0;32m    596\u001b[0m         \u001b[1;32mif\u001b[0m \u001b[0mself\u001b[0m\u001b[1;33m.\u001b[0m\u001b[0mchunk_left\u001b[0m \u001b[1;32mis\u001b[0m \u001b[1;32mnot\u001b[0m \u001b[1;32mNone\u001b[0m\u001b[1;33m:\u001b[0m\u001b[1;33m\u001b[0m\u001b[1;33m\u001b[0m\u001b[0m\n\u001b[0;32m    597\u001b[0m             \u001b[1;32mreturn\u001b[0m\u001b[1;33m\u001b[0m\u001b[1;33m\u001b[0m\u001b[0m\n\u001b[1;32m--> 598\u001b[1;33m         \u001b[0mline\u001b[0m \u001b[1;33m=\u001b[0m \u001b[0mself\u001b[0m\u001b[1;33m.\u001b[0m\u001b[0m_fp\u001b[0m\u001b[1;33m.\u001b[0m\u001b[0mfp\u001b[0m\u001b[1;33m.\u001b[0m\u001b[0mreadline\u001b[0m\u001b[1;33m(\u001b[0m\u001b[1;33m)\u001b[0m\u001b[1;33m\u001b[0m\u001b[1;33m\u001b[0m\u001b[0m\n\u001b[0m\u001b[0;32m    599\u001b[0m         \u001b[0mline\u001b[0m \u001b[1;33m=\u001b[0m \u001b[0mline\u001b[0m\u001b[1;33m.\u001b[0m\u001b[0msplit\u001b[0m\u001b[1;33m(\u001b[0m\u001b[1;34mb';'\u001b[0m\u001b[1;33m,\u001b[0m \u001b[1;36m1\u001b[0m\u001b[1;33m)\u001b[0m\u001b[1;33m[\u001b[0m\u001b[1;36m0\u001b[0m\u001b[1;33m]\u001b[0m\u001b[1;33m\u001b[0m\u001b[1;33m\u001b[0m\u001b[0m\n\u001b[0;32m    600\u001b[0m         \u001b[1;32mtry\u001b[0m\u001b[1;33m:\u001b[0m\u001b[1;33m\u001b[0m\u001b[1;33m\u001b[0m\u001b[0m\n",
      "\u001b[1;32m~\\Anaconda3\\lib\\socket.py\u001b[0m in \u001b[0;36mreadinto\u001b[1;34m(self, b)\u001b[0m\n\u001b[0;32m    587\u001b[0m         \u001b[1;32mwhile\u001b[0m \u001b[1;32mTrue\u001b[0m\u001b[1;33m:\u001b[0m\u001b[1;33m\u001b[0m\u001b[1;33m\u001b[0m\u001b[0m\n\u001b[0;32m    588\u001b[0m             \u001b[1;32mtry\u001b[0m\u001b[1;33m:\u001b[0m\u001b[1;33m\u001b[0m\u001b[1;33m\u001b[0m\u001b[0m\n\u001b[1;32m--> 589\u001b[1;33m                 \u001b[1;32mreturn\u001b[0m \u001b[0mself\u001b[0m\u001b[1;33m.\u001b[0m\u001b[0m_sock\u001b[0m\u001b[1;33m.\u001b[0m\u001b[0mrecv_into\u001b[0m\u001b[1;33m(\u001b[0m\u001b[0mb\u001b[0m\u001b[1;33m)\u001b[0m\u001b[1;33m\u001b[0m\u001b[1;33m\u001b[0m\u001b[0m\n\u001b[0m\u001b[0;32m    590\u001b[0m             \u001b[1;32mexcept\u001b[0m \u001b[0mtimeout\u001b[0m\u001b[1;33m:\u001b[0m\u001b[1;33m\u001b[0m\u001b[1;33m\u001b[0m\u001b[0m\n\u001b[0;32m    591\u001b[0m                 \u001b[0mself\u001b[0m\u001b[1;33m.\u001b[0m\u001b[0m_timeout_occurred\u001b[0m \u001b[1;33m=\u001b[0m \u001b[1;32mTrue\u001b[0m\u001b[1;33m\u001b[0m\u001b[1;33m\u001b[0m\u001b[0m\n",
      "\u001b[1;31mKeyboardInterrupt\u001b[0m: "
     ]
    }
   ],
   "source": [
    "# 가즈아~~\n",
    "\n",
    "queue = []\n",
    "queue.extend(title_urls)\n",
    "seen = []\n",
    "results = []\n",
    "\n",
    "while queue:\n",
    "    baseURL = queue.pop(0)\n",
    "    seen.append(baseURL)\n",
    "    \n",
    "    # 게시물 html 다운로드\n",
    "    html = download(\"get\", baseURL)\n",
    "    dom = BeautifulSoup(html.text, \"html.parser\")\n",
    "    \n",
    "    # 게시물 scrapping\n",
    "    # 게시물에 댓글이 없거나 할 경우에 대비한 예외처리문\n",
    "    try:\n",
    "        results.append(scraping(dom))\n",
    "    except AttributeError:\n",
    "        print(\"게시물에 정보가 없습니다.\")      \n",
    "    \n",
    "    \n",
    "    # 다음페이지 넘어가서 url 가져오기\n",
    "    if not queue:\n",
    "        current_page = int(dom.select(\".page_inert\")[0].text)\n",
    "        next_url = requests.compat.urljoin(url, dom.select(\"td#page_list\")[0].find_all(\"a\", text=current_page+1)[0][\"href\"])\n",
    "        next_html = download(\"get\", next_url)\n",
    "        next_dom = BeautifulSoup(next_html.text, \"html.parser\")        \n",
    "        queue.extend([requests.compat.urljoin(url, tag.find_parent()[\"href\"]) for tag in next_dom.select(\".list_title\")])\n",
    "        \n",
    "    print(\"Queue: {0}, Seen: {1}\".format(len(queue), len(seen)))"
   ]
  },
  {
   "cell_type": "markdown",
   "metadata": {},
   "source": [
    "---"
   ]
  },
  {
   "cell_type": "markdown",
   "metadata": {},
   "source": [
    "### 4. DB에 연결해서 저장하기"
   ]
  },
  {
   "cell_type": "code",
   "execution_count": 194,
   "metadata": {},
   "outputs": [],
   "source": [
    "import sqlite3"
   ]
  },
  {
   "cell_type": "code",
   "execution_count": 218,
   "metadata": {},
   "outputs": [],
   "source": [
    "con = sqlite3.connect(\"ppomppu.db\")"
   ]
  },
  {
   "cell_type": "code",
   "execution_count": 219,
   "metadata": {},
   "outputs": [],
   "source": [
    "cur = con.cursor()"
   ]
  },
  {
   "cell_type": "code",
   "execution_count": 220,
   "metadata": {},
   "outputs": [
    {
     "data": {
      "text/plain": [
       "<sqlite3.Cursor at 0x11a675f0c00>"
      ]
     },
     "execution_count": 220,
     "metadata": {},
     "output_type": "execute_result"
    }
   ],
   "source": [
    "# 제목과 본문을 담는 테이블 1개\n",
    "# 댓글을 담는 테이블 1개\n",
    "\n",
    "cur.executescript(\"\"\"\n",
    "DROP TABLE IF EXISTS table3;\n",
    "CREATE TABLE table3(\n",
    "    id INTEGER PRIMARY KEY AUTOINCREMENT NOT NULL,\n",
    "    title TEXT NOT NULL,\n",
    "    content TECT NOT NULL,\n",
    "    date TIMESTAMP DEFAULT CURRENT_TIMESTAMP NOT NULL);\n",
    "    \n",
    "DROP TABLE IF EXISTS table4;\n",
    "CREATE TABLE table4(\n",
    "    id INTEGER PRIMARY KEY AUTOINCREMENT NOT NULL,\n",
    "    table3_id INEGER NOT NULL,\n",
    "    comment TEXT NOT NULL);\n",
    "\"\"\")"
   ]
  },
  {
   "cell_type": "code",
   "execution_count": 221,
   "metadata": {},
   "outputs": [],
   "source": [
    "con.commit()"
   ]
  },
  {
   "cell_type": "code",
   "execution_count": null,
   "metadata": {},
   "outputs": [],
   "source": [
    "# 이 코드는 실행 x\n",
    "# while문에 넣기 위해서 만든 코드임.\n",
    "\n",
    "cur.execute(\"\"\"\n",
    "    INSERT INTO table3 (title, content) \n",
    "    VALUE(?, ?)\"\"\", [content[\"title\"], content[\"body\"]])\n",
    "con.commit()\n",
    "\n",
    "cur.execute(\"\"\"\n",
    "    SELECT id\n",
    "    FROM table3\n",
    "    WHERE title=? AND content=?;\n",
    "    \"\"\", [content[\"title\"], content[\"body\"]])\n",
    "table3_id = cur.fetchone()[0]\n",
    "\n",
    "for comment in content[\"commenst\"]:\n",
    "    cur.execute(\"\"\"\n",
    "        INSERT INTO table4 (table3_id, comment)\n",
    "        VALUES (?, ?)\n",
    "        \"\"\", [table3_id, comment])\n",
    "    con.commit()"
   ]
  },
  {
   "cell_type": "code",
   "execution_count": 226,
   "metadata": {},
   "outputs": [
    {
     "name": "stdout",
     "output_type": "stream",
     "text": [
      "게시물에 정보가 없습니다.\n",
      "Queue: 30, Seen: 1\n",
      "Queue: 29, Seen: 2\n",
      "Queue: 28, Seen: 3\n",
      "Queue: 27, Seen: 4\n",
      "Queue: 26, Seen: 5\n",
      "Queue: 25, Seen: 6\n",
      "Queue: 24, Seen: 7\n",
      "Queue: 23, Seen: 8\n",
      "게시물에 정보가 없습니다.\n",
      "Queue: 22, Seen: 9\n",
      "Queue: 21, Seen: 10\n",
      "Queue: 20, Seen: 11\n",
      "Queue: 19, Seen: 12\n",
      "Queue: 18, Seen: 13\n",
      "Queue: 17, Seen: 14\n",
      "Queue: 16, Seen: 15\n",
      "Queue: 15, Seen: 16\n",
      "Queue: 14, Seen: 17\n",
      "Queue: 13, Seen: 18\n",
      "Queue: 12, Seen: 19\n",
      "Queue: 11, Seen: 20\n",
      "Queue: 10, Seen: 21\n",
      "Queue: 9, Seen: 22\n",
      "Queue: 8, Seen: 23\n",
      "Queue: 7, Seen: 24\n",
      "Queue: 6, Seen: 25\n",
      "Queue: 5, Seen: 26\n",
      "Queue: 4, Seen: 27\n",
      "Queue: 3, Seen: 28\n",
      "Queue: 2, Seen: 29\n",
      "Queue: 1, Seen: 30\n",
      "Queue: 30, Seen: 31\n",
      "Queue: 29, Seen: 32\n",
      "Queue: 28, Seen: 33\n",
      "Queue: 27, Seen: 34\n",
      "Queue: 26, Seen: 35\n",
      "Queue: 25, Seen: 36\n",
      "Queue: 24, Seen: 37\n",
      "Queue: 23, Seen: 38\n",
      "Queue: 22, Seen: 39\n",
      "Queue: 21, Seen: 40\n",
      "Queue: 20, Seen: 41\n",
      "Queue: 19, Seen: 42\n",
      "Queue: 18, Seen: 43\n",
      "Queue: 17, Seen: 44\n",
      "Queue: 16, Seen: 45\n",
      "Queue: 15, Seen: 46\n",
      "Queue: 14, Seen: 47\n",
      "Queue: 13, Seen: 48\n",
      "Queue: 12, Seen: 49\n",
      "Queue: 11, Seen: 50\n",
      "Queue: 10, Seen: 51\n",
      "Queue: 9, Seen: 52\n",
      "Queue: 8, Seen: 53\n",
      "Queue: 7, Seen: 54\n",
      "Queue: 6, Seen: 55\n",
      "Queue: 5, Seen: 56\n",
      "Queue: 4, Seen: 57\n",
      "Queue: 3, Seen: 58\n",
      "Queue: 2, Seen: 59\n",
      "Queue: 1, Seen: 60\n",
      "Queue: 30, Seen: 61\n",
      "Queue: 29, Seen: 62\n",
      "Queue: 28, Seen: 63\n",
      "Queue: 27, Seen: 64\n",
      "Queue: 26, Seen: 65\n",
      "Queue: 25, Seen: 66\n",
      "Queue: 24, Seen: 67\n",
      "Queue: 23, Seen: 68\n",
      "Queue: 22, Seen: 69\n",
      "Queue: 21, Seen: 70\n",
      "Queue: 20, Seen: 71\n",
      "Queue: 19, Seen: 72\n",
      "Queue: 18, Seen: 73\n",
      "Queue: 17, Seen: 74\n",
      "Queue: 16, Seen: 75\n",
      "Queue: 15, Seen: 76\n",
      "Queue: 14, Seen: 77\n",
      "Queue: 13, Seen: 78\n",
      "Queue: 12, Seen: 79\n",
      "Queue: 11, Seen: 80\n",
      "Queue: 10, Seen: 81\n",
      "Queue: 9, Seen: 82\n",
      "Queue: 8, Seen: 83\n",
      "Queue: 7, Seen: 84\n",
      "Queue: 6, Seen: 85\n",
      "Queue: 5, Seen: 86\n",
      "Queue: 4, Seen: 87\n",
      "Queue: 3, Seen: 88\n",
      "Queue: 2, Seen: 89\n",
      "Queue: 1, Seen: 90\n",
      "Queue: 30, Seen: 91\n",
      "Queue: 29, Seen: 92\n",
      "Queue: 28, Seen: 93\n",
      "Queue: 27, Seen: 94\n",
      "Queue: 26, Seen: 95\n",
      "Queue: 25, Seen: 96\n",
      "Queue: 24, Seen: 97\n",
      "Queue: 23, Seen: 98\n",
      "Queue: 22, Seen: 99\n",
      "Queue: 21, Seen: 100\n",
      "Queue: 20, Seen: 101\n",
      "Queue: 19, Seen: 102\n",
      "Queue: 18, Seen: 103\n",
      "Queue: 17, Seen: 104\n",
      "Queue: 16, Seen: 105\n",
      "Queue: 15, Seen: 106\n",
      "Queue: 14, Seen: 107\n",
      "Queue: 13, Seen: 108\n",
      "Queue: 12, Seen: 109\n",
      "Queue: 11, Seen: 110\n",
      "Queue: 10, Seen: 111\n",
      "Queue: 9, Seen: 112\n",
      "Queue: 8, Seen: 113\n",
      "Queue: 7, Seen: 114\n",
      "Queue: 6, Seen: 115\n",
      "Queue: 5, Seen: 116\n",
      "Queue: 4, Seen: 117\n",
      "Queue: 3, Seen: 118\n",
      "Queue: 2, Seen: 119\n",
      "Queue: 1, Seen: 120\n",
      "Queue: 30, Seen: 121\n",
      "Queue: 29, Seen: 122\n",
      "Queue: 28, Seen: 123\n",
      "Queue: 27, Seen: 124\n",
      "Queue: 26, Seen: 125\n",
      "Queue: 25, Seen: 126\n",
      "Queue: 24, Seen: 127\n",
      "Queue: 23, Seen: 128\n",
      "Queue: 22, Seen: 129\n",
      "Queue: 21, Seen: 130\n",
      "Queue: 20, Seen: 131\n",
      "Queue: 19, Seen: 132\n",
      "Queue: 18, Seen: 133\n",
      "Queue: 17, Seen: 134\n",
      "Queue: 16, Seen: 135\n",
      "Queue: 15, Seen: 136\n",
      "Queue: 14, Seen: 137\n",
      "Queue: 13, Seen: 138\n",
      "Queue: 12, Seen: 139\n",
      "Queue: 11, Seen: 140\n",
      "Queue: 10, Seen: 141\n",
      "Queue: 9, Seen: 142\n",
      "Queue: 8, Seen: 143\n",
      "Queue: 7, Seen: 144\n",
      "Queue: 6, Seen: 145\n",
      "Queue: 5, Seen: 146\n",
      "Queue: 4, Seen: 147\n",
      "Queue: 3, Seen: 148\n",
      "Queue: 2, Seen: 149\n",
      "Queue: 1, Seen: 150\n",
      "Queue: 30, Seen: 151\n",
      "Queue: 29, Seen: 152\n",
      "Queue: 28, Seen: 153\n",
      "Queue: 27, Seen: 154\n",
      "Queue: 26, Seen: 155\n",
      "Queue: 25, Seen: 156\n",
      "Queue: 24, Seen: 157\n",
      "Queue: 23, Seen: 158\n",
      "Queue: 22, Seen: 159\n",
      "Queue: 21, Seen: 160\n",
      "Queue: 20, Seen: 161\n",
      "Queue: 19, Seen: 162\n",
      "Queue: 18, Seen: 163\n",
      "Queue: 17, Seen: 164\n",
      "Queue: 16, Seen: 165\n",
      "Queue: 15, Seen: 166\n",
      "Queue: 14, Seen: 167\n",
      "Queue: 13, Seen: 168\n",
      "Queue: 12, Seen: 169\n",
      "Queue: 11, Seen: 170\n",
      "Queue: 10, Seen: 171\n",
      "Queue: 9, Seen: 172\n",
      "Queue: 8, Seen: 173\n",
      "Queue: 7, Seen: 174\n",
      "Queue: 6, Seen: 175\n",
      "Queue: 5, Seen: 176\n",
      "Queue: 4, Seen: 177\n",
      "Queue: 3, Seen: 178\n",
      "Queue: 2, Seen: 179\n",
      "Queue: 1, Seen: 180\n",
      "Queue: 30, Seen: 181\n",
      "Queue: 29, Seen: 182\n",
      "Queue: 28, Seen: 183\n",
      "Queue: 27, Seen: 184\n",
      "Queue: 26, Seen: 185\n",
      "Queue: 25, Seen: 186\n",
      "Queue: 24, Seen: 187\n",
      "Queue: 23, Seen: 188\n",
      "Queue: 22, Seen: 189\n",
      "Queue: 21, Seen: 190\n",
      "Queue: 20, Seen: 191\n",
      "Queue: 19, Seen: 192\n",
      "Queue: 18, Seen: 193\n",
      "Queue: 17, Seen: 194\n",
      "Queue: 16, Seen: 195\n",
      "Queue: 15, Seen: 196\n",
      "Queue: 14, Seen: 197\n",
      "Queue: 13, Seen: 198\n",
      "Queue: 12, Seen: 199\n",
      "Queue: 11, Seen: 200\n",
      "Queue: 10, Seen: 201\n",
      "Queue: 9, Seen: 202\n",
      "Queue: 8, Seen: 203\n",
      "Queue: 7, Seen: 204\n",
      "Queue: 6, Seen: 205\n",
      "Queue: 5, Seen: 206\n",
      "Queue: 4, Seen: 207\n",
      "Queue: 3, Seen: 208\n",
      "Queue: 2, Seen: 209\n",
      "Queue: 1, Seen: 210\n",
      "Queue: 30, Seen: 211\n",
      "Queue: 29, Seen: 212\n",
      "Queue: 28, Seen: 213\n",
      "Queue: 27, Seen: 214\n",
      "Queue: 26, Seen: 215\n",
      "Queue: 25, Seen: 216\n",
      "Queue: 24, Seen: 217\n",
      "Queue: 23, Seen: 218\n",
      "Queue: 22, Seen: 219\n",
      "Queue: 21, Seen: 220\n",
      "Queue: 20, Seen: 221\n",
      "Queue: 19, Seen: 222\n",
      "Queue: 18, Seen: 223\n",
      "Queue: 17, Seen: 224\n",
      "Queue: 16, Seen: 225\n",
      "Queue: 15, Seen: 226\n",
      "Queue: 14, Seen: 227\n",
      "Queue: 13, Seen: 228\n",
      "Queue: 12, Seen: 229\n",
      "Queue: 11, Seen: 230\n",
      "Queue: 10, Seen: 231\n",
      "Queue: 9, Seen: 232\n",
      "Queue: 8, Seen: 233\n",
      "Queue: 7, Seen: 234\n",
      "Queue: 6, Seen: 235\n",
      "Queue: 5, Seen: 236\n",
      "Queue: 4, Seen: 237\n",
      "Queue: 3, Seen: 238\n",
      "Queue: 2, Seen: 239\n",
      "Queue: 1, Seen: 240\n"
     ]
    },
    {
     "ename": "InvalidSchema",
     "evalue": "No connection adapters were found for 'javascript:go_page( 'freeboard', 6543036, 2 )'",
     "output_type": "error",
     "traceback": [
      "\u001b[1;31m---------------------------------------------------------------------------\u001b[0m",
      "\u001b[1;31mInvalidSchema\u001b[0m                             Traceback (most recent call last)",
      "\u001b[1;32m<ipython-input-226-da8b2aecc06a>\u001b[0m in \u001b[0;36m<module>\u001b[1;34m\u001b[0m\n\u001b[0;32m     46\u001b[0m         \u001b[0mcurrent_page\u001b[0m \u001b[1;33m=\u001b[0m \u001b[0mint\u001b[0m\u001b[1;33m(\u001b[0m\u001b[0mdom\u001b[0m\u001b[1;33m.\u001b[0m\u001b[0mselect\u001b[0m\u001b[1;33m(\u001b[0m\u001b[1;34m\".page_inert\"\u001b[0m\u001b[1;33m)\u001b[0m\u001b[1;33m[\u001b[0m\u001b[1;36m0\u001b[0m\u001b[1;33m]\u001b[0m\u001b[1;33m.\u001b[0m\u001b[0mtext\u001b[0m\u001b[1;33m)\u001b[0m\u001b[1;33m\u001b[0m\u001b[1;33m\u001b[0m\u001b[0m\n\u001b[0;32m     47\u001b[0m         \u001b[0mnext_url\u001b[0m \u001b[1;33m=\u001b[0m \u001b[0mrequests\u001b[0m\u001b[1;33m.\u001b[0m\u001b[0mcompat\u001b[0m\u001b[1;33m.\u001b[0m\u001b[0murljoin\u001b[0m\u001b[1;33m(\u001b[0m\u001b[0murl\u001b[0m\u001b[1;33m,\u001b[0m \u001b[0mdom\u001b[0m\u001b[1;33m.\u001b[0m\u001b[0mselect\u001b[0m\u001b[1;33m(\u001b[0m\u001b[1;34m\"td#page_list\"\u001b[0m\u001b[1;33m)\u001b[0m\u001b[1;33m[\u001b[0m\u001b[1;36m0\u001b[0m\u001b[1;33m]\u001b[0m\u001b[1;33m.\u001b[0m\u001b[0mfind_all\u001b[0m\u001b[1;33m(\u001b[0m\u001b[1;34m\"a\"\u001b[0m\u001b[1;33m,\u001b[0m \u001b[0mtext\u001b[0m\u001b[1;33m=\u001b[0m\u001b[0mcurrent_page\u001b[0m\u001b[1;33m+\u001b[0m\u001b[1;36m1\u001b[0m\u001b[1;33m)\u001b[0m\u001b[1;33m[\u001b[0m\u001b[1;36m0\u001b[0m\u001b[1;33m]\u001b[0m\u001b[1;33m[\u001b[0m\u001b[1;34m\"href\"\u001b[0m\u001b[1;33m]\u001b[0m\u001b[1;33m)\u001b[0m\u001b[1;33m\u001b[0m\u001b[1;33m\u001b[0m\u001b[0m\n\u001b[1;32m---> 48\u001b[1;33m         \u001b[0mnext_html\u001b[0m \u001b[1;33m=\u001b[0m \u001b[0mdownload\u001b[0m\u001b[1;33m(\u001b[0m\u001b[1;34m\"get\"\u001b[0m\u001b[1;33m,\u001b[0m \u001b[0mnext_url\u001b[0m\u001b[1;33m)\u001b[0m\u001b[1;33m\u001b[0m\u001b[1;33m\u001b[0m\u001b[0m\n\u001b[0m\u001b[0;32m     49\u001b[0m         \u001b[0mnext_dom\u001b[0m \u001b[1;33m=\u001b[0m \u001b[0mBeautifulSoup\u001b[0m\u001b[1;33m(\u001b[0m\u001b[0mnext_html\u001b[0m\u001b[1;33m.\u001b[0m\u001b[0mtext\u001b[0m\u001b[1;33m,\u001b[0m \u001b[1;34m\"html.parser\"\u001b[0m\u001b[1;33m)\u001b[0m\u001b[1;33m\u001b[0m\u001b[1;33m\u001b[0m\u001b[0m\n\u001b[0;32m     50\u001b[0m         \u001b[0mqueue\u001b[0m\u001b[1;33m.\u001b[0m\u001b[0mextend\u001b[0m\u001b[1;33m(\u001b[0m\u001b[1;33m[\u001b[0m\u001b[0mrequests\u001b[0m\u001b[1;33m.\u001b[0m\u001b[0mcompat\u001b[0m\u001b[1;33m.\u001b[0m\u001b[0murljoin\u001b[0m\u001b[1;33m(\u001b[0m\u001b[0murl\u001b[0m\u001b[1;33m,\u001b[0m \u001b[0mtag\u001b[0m\u001b[1;33m.\u001b[0m\u001b[0mfind_parent\u001b[0m\u001b[1;33m(\u001b[0m\u001b[1;33m)\u001b[0m\u001b[1;33m[\u001b[0m\u001b[1;34m\"href\"\u001b[0m\u001b[1;33m]\u001b[0m\u001b[1;33m)\u001b[0m \u001b[1;32mfor\u001b[0m \u001b[0mtag\u001b[0m \u001b[1;32min\u001b[0m \u001b[0mnext_dom\u001b[0m\u001b[1;33m.\u001b[0m\u001b[0mselect\u001b[0m\u001b[1;33m(\u001b[0m\u001b[1;34m\".list_title\"\u001b[0m\u001b[1;33m)\u001b[0m\u001b[1;33m]\u001b[0m\u001b[1;33m)\u001b[0m\u001b[1;33m\u001b[0m\u001b[1;33m\u001b[0m\u001b[0m\n",
      "\u001b[1;32m<ipython-input-2-6e896d8cd473>\u001b[0m in \u001b[0;36mdownload\u001b[1;34m(method, url, params, data, headers, timeout, retries)\u001b[0m\n\u001b[0;32m      9\u001b[0m         resp = requests.request(method, url, \n\u001b[0;32m     10\u001b[0m                                 \u001b[0mparams\u001b[0m\u001b[1;33m=\u001b[0m\u001b[0mparams\u001b[0m\u001b[1;33m,\u001b[0m \u001b[0mdata\u001b[0m\u001b[1;33m=\u001b[0m\u001b[0mdata\u001b[0m\u001b[1;33m,\u001b[0m\u001b[1;33m\u001b[0m\u001b[1;33m\u001b[0m\u001b[0m\n\u001b[1;32m---> 11\u001b[1;33m                                 headers=headers, timeout=timeout)\n\u001b[0m\u001b[0;32m     12\u001b[0m         \u001b[0mresp\u001b[0m\u001b[1;33m.\u001b[0m\u001b[0mraise_for_status\u001b[0m\u001b[1;33m(\u001b[0m\u001b[1;33m)\u001b[0m\u001b[1;33m\u001b[0m\u001b[1;33m\u001b[0m\u001b[0m\n\u001b[0;32m     13\u001b[0m \u001b[1;33m\u001b[0m\u001b[0m\n",
      "\u001b[1;32m~\\Anaconda3\\lib\\site-packages\\requests\\api.py\u001b[0m in \u001b[0;36mrequest\u001b[1;34m(method, url, **kwargs)\u001b[0m\n\u001b[0;32m     58\u001b[0m     \u001b[1;31m# cases, and look like a memory leak in others.\u001b[0m\u001b[1;33m\u001b[0m\u001b[1;33m\u001b[0m\u001b[1;33m\u001b[0m\u001b[0m\n\u001b[0;32m     59\u001b[0m     \u001b[1;32mwith\u001b[0m \u001b[0msessions\u001b[0m\u001b[1;33m.\u001b[0m\u001b[0mSession\u001b[0m\u001b[1;33m(\u001b[0m\u001b[1;33m)\u001b[0m \u001b[1;32mas\u001b[0m \u001b[0msession\u001b[0m\u001b[1;33m:\u001b[0m\u001b[1;33m\u001b[0m\u001b[1;33m\u001b[0m\u001b[0m\n\u001b[1;32m---> 60\u001b[1;33m         \u001b[1;32mreturn\u001b[0m \u001b[0msession\u001b[0m\u001b[1;33m.\u001b[0m\u001b[0mrequest\u001b[0m\u001b[1;33m(\u001b[0m\u001b[0mmethod\u001b[0m\u001b[1;33m=\u001b[0m\u001b[0mmethod\u001b[0m\u001b[1;33m,\u001b[0m \u001b[0murl\u001b[0m\u001b[1;33m=\u001b[0m\u001b[0murl\u001b[0m\u001b[1;33m,\u001b[0m \u001b[1;33m**\u001b[0m\u001b[0mkwargs\u001b[0m\u001b[1;33m)\u001b[0m\u001b[1;33m\u001b[0m\u001b[1;33m\u001b[0m\u001b[0m\n\u001b[0m\u001b[0;32m     61\u001b[0m \u001b[1;33m\u001b[0m\u001b[0m\n\u001b[0;32m     62\u001b[0m \u001b[1;33m\u001b[0m\u001b[0m\n",
      "\u001b[1;32m~\\Anaconda3\\lib\\site-packages\\requests\\sessions.py\u001b[0m in \u001b[0;36mrequest\u001b[1;34m(self, method, url, params, data, headers, cookies, files, auth, timeout, allow_redirects, proxies, hooks, stream, verify, cert, json)\u001b[0m\n\u001b[0;32m    531\u001b[0m         }\n\u001b[0;32m    532\u001b[0m         \u001b[0msend_kwargs\u001b[0m\u001b[1;33m.\u001b[0m\u001b[0mupdate\u001b[0m\u001b[1;33m(\u001b[0m\u001b[0msettings\u001b[0m\u001b[1;33m)\u001b[0m\u001b[1;33m\u001b[0m\u001b[1;33m\u001b[0m\u001b[0m\n\u001b[1;32m--> 533\u001b[1;33m         \u001b[0mresp\u001b[0m \u001b[1;33m=\u001b[0m \u001b[0mself\u001b[0m\u001b[1;33m.\u001b[0m\u001b[0msend\u001b[0m\u001b[1;33m(\u001b[0m\u001b[0mprep\u001b[0m\u001b[1;33m,\u001b[0m \u001b[1;33m**\u001b[0m\u001b[0msend_kwargs\u001b[0m\u001b[1;33m)\u001b[0m\u001b[1;33m\u001b[0m\u001b[1;33m\u001b[0m\u001b[0m\n\u001b[0m\u001b[0;32m    534\u001b[0m \u001b[1;33m\u001b[0m\u001b[0m\n\u001b[0;32m    535\u001b[0m         \u001b[1;32mreturn\u001b[0m \u001b[0mresp\u001b[0m\u001b[1;33m\u001b[0m\u001b[1;33m\u001b[0m\u001b[0m\n",
      "\u001b[1;32m~\\Anaconda3\\lib\\site-packages\\requests\\sessions.py\u001b[0m in \u001b[0;36msend\u001b[1;34m(self, request, **kwargs)\u001b[0m\n\u001b[0;32m    638\u001b[0m \u001b[1;33m\u001b[0m\u001b[0m\n\u001b[0;32m    639\u001b[0m         \u001b[1;31m# Get the appropriate adapter to use\u001b[0m\u001b[1;33m\u001b[0m\u001b[1;33m\u001b[0m\u001b[1;33m\u001b[0m\u001b[0m\n\u001b[1;32m--> 640\u001b[1;33m         \u001b[0madapter\u001b[0m \u001b[1;33m=\u001b[0m \u001b[0mself\u001b[0m\u001b[1;33m.\u001b[0m\u001b[0mget_adapter\u001b[0m\u001b[1;33m(\u001b[0m\u001b[0murl\u001b[0m\u001b[1;33m=\u001b[0m\u001b[0mrequest\u001b[0m\u001b[1;33m.\u001b[0m\u001b[0murl\u001b[0m\u001b[1;33m)\u001b[0m\u001b[1;33m\u001b[0m\u001b[1;33m\u001b[0m\u001b[0m\n\u001b[0m\u001b[0;32m    641\u001b[0m \u001b[1;33m\u001b[0m\u001b[0m\n\u001b[0;32m    642\u001b[0m         \u001b[1;31m# Start time (approximately) of the request\u001b[0m\u001b[1;33m\u001b[0m\u001b[1;33m\u001b[0m\u001b[1;33m\u001b[0m\u001b[0m\n",
      "\u001b[1;32m~\\Anaconda3\\lib\\site-packages\\requests\\sessions.py\u001b[0m in \u001b[0;36mget_adapter\u001b[1;34m(self, url)\u001b[0m\n\u001b[0;32m    729\u001b[0m \u001b[1;33m\u001b[0m\u001b[0m\n\u001b[0;32m    730\u001b[0m         \u001b[1;31m# Nothing matches :-/\u001b[0m\u001b[1;33m\u001b[0m\u001b[1;33m\u001b[0m\u001b[1;33m\u001b[0m\u001b[0m\n\u001b[1;32m--> 731\u001b[1;33m         \u001b[1;32mraise\u001b[0m \u001b[0mInvalidSchema\u001b[0m\u001b[1;33m(\u001b[0m\u001b[1;34m\"No connection adapters were found for '%s'\"\u001b[0m \u001b[1;33m%\u001b[0m \u001b[0murl\u001b[0m\u001b[1;33m)\u001b[0m\u001b[1;33m\u001b[0m\u001b[1;33m\u001b[0m\u001b[0m\n\u001b[0m\u001b[0;32m    732\u001b[0m \u001b[1;33m\u001b[0m\u001b[0m\n\u001b[0;32m    733\u001b[0m     \u001b[1;32mdef\u001b[0m \u001b[0mclose\u001b[0m\u001b[1;33m(\u001b[0m\u001b[0mself\u001b[0m\u001b[1;33m)\u001b[0m\u001b[1;33m:\u001b[0m\u001b[1;33m\u001b[0m\u001b[1;33m\u001b[0m\u001b[0m\n",
      "\u001b[1;31mInvalidSchema\u001b[0m: No connection adapters were found for 'javascript:go_page( 'freeboard', 6543036, 2 )'"
     ]
    }
   ],
   "source": [
    "# 가즈아~~\n",
    "\n",
    "queue = []\n",
    "queue.extend(title_urls)\n",
    "seen = []\n",
    "\n",
    "while queue:\n",
    "    baseURL = queue.pop(0)\n",
    "    seen.append(baseURL)\n",
    "    \n",
    "    # 게시물 html 다운로드\n",
    "    html = download(\"get\", baseURL)\n",
    "    dom = BeautifulSoup(html.text, \"html.parser\")\n",
    "    \n",
    "    # 게시물 scrapping\n",
    "    # 게시물에 댓글이 없거나 할 경우에 에러발생을 대비한 예외처리문\n",
    "    try:\n",
    "        content = scraping(dom)\n",
    "    except AttributeError\n",
    "    else: \n",
    "        cur.execute(\"\"\"\n",
    "            INSERT INTO table3 (title, content) \n",
    "            VALUES(?, ?)\"\"\", [content[\"title\"], content[\"content\"]])\n",
    "        con.commit()\n",
    "\n",
    "        cur.execute(\"\"\"\n",
    "            SELECT id\n",
    "            FROM table3\n",
    "            WHERE title=? AND content=?;\n",
    "            \"\"\", [content[\"title\"], content[\"content\"]])\n",
    "        table3_id = cur.fetchone()[0]\n",
    "\n",
    "        for comment in content[\"comments\"]:\n",
    "            cur.execute(\"\"\"\n",
    "                INSERT INTO table4 (table3_id, comment)\n",
    "                VALUES (?, ?)\n",
    "                \"\"\", [table3_id, comment])\n",
    "            con.commit()\n",
    "    \n",
    "    # 다음페이지 넘어가서 url 가져오기\n",
    "    if not queue:\n",
    "        current_page = int(dom.select(\".page_inert\")[0].text)\n",
    "        next_url = requests.compat.urljoin(url, dom.select(\"td#page_list\")[0].find_all(\"a\", text=current_page+1)[0][\"href\"])\n",
    "        next_html = download(\"get\", next_url)\n",
    "        next_dom = BeautifulSoup(next_html.text, \"html.parser\")        \n",
    "        queue.extend([requests.compat.urljoin(url, tag.find_parent()[\"href\"]) for tag in next_dom.select(\".list_title\")])\n",
    "        \n",
    "    print(\"Queue: {0}, Seen: {1}\".format(len(queue), len(seen)))"
   ]
  },
  {
   "cell_type": "code",
   "execution_count": null,
   "metadata": {},
   "outputs": [],
   "source": []
  }
 ],
 "metadata": {
  "kernelspec": {
   "display_name": "Python 3",
   "language": "python",
   "name": "python3"
  },
  "language_info": {
   "codemirror_mode": {
    "name": "ipython",
    "version": 3
   },
   "file_extension": ".py",
   "mimetype": "text/x-python",
   "name": "python",
   "nbconvert_exporter": "python",
   "pygments_lexer": "ipython3",
   "version": "3.7.3"
  }
 },
 "nbformat": 4,
 "nbformat_minor": 2
}

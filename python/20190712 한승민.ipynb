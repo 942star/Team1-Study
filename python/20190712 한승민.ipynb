{
 "cells": [
  {
   "cell_type": "markdown",
   "metadata": {},
   "source": [
    "# download 함수 정의"
   ]
  },
  {
   "cell_type": "code",
   "execution_count": 1,
   "metadata": {},
   "outputs": [],
   "source": [
    "import requests\n",
    "import time\n",
    "import json\n",
    "\n",
    "\n",
    "def download(method, url, params=None, data=None, headers=None, maxretries=4):\n",
    "    try:\n",
    "        resp = requests.request(method,\n",
    "                                url,\n",
    "                                params=params,\n",
    "                                data=data,\n",
    "                                headers=headers)\n",
    "        resp.raise_for_status()\n",
    "    except requests.exceptions.HTTPError as e:\n",
    "        if 500 <= e.response.status_code < 600 and maxretries > 0:\n",
    "            print(maxretries)\n",
    "            resp = download(method, url, params, data, maxretries - 1)\n",
    "        else:\n",
    "            print(e.response.status_code)\n",
    "            print(e.response.reason)\n",
    "    return resp"
   ]
  },
  {
   "cell_type": "markdown",
   "metadata": {},
   "source": [
    "# Naver 통합 검색 결과 중 뉴스 링크 및 제목 가져오기"
   ]
  },
  {
   "cell_type": "code",
   "execution_count": 2,
   "metadata": {},
   "outputs": [],
   "source": [
    "import re\n",
    "from html import unescape"
   ]
  },
  {
   "cell_type": "code",
   "execution_count": 3,
   "metadata": {},
   "outputs": [],
   "source": [
    "headers = {\n",
    "    'User-Agent':\n",
    "    'Mozilla/5.0 (Windows NT 10.0; Win64; x64) AppleWebKit/537.36 (KHTML, like Gecko) Chrome/75.0.3770.100 Safari/537.36'\n",
    "}\n",
    "url = 'https://search.naver.com/search.naver'\n",
    "params = {'query': '아이린', 'where': 'nexearch'}\n",
    "resp = download('get', url, params=params, headers=headers)\n",
    "html = unescape(resp.text)"
   ]
  },
  {
   "cell_type": "code",
   "execution_count": 4,
   "metadata": {},
   "outputs": [],
   "source": [
    "pattern = r'''<dt><a href=\"([^\"]*news[^\"]*)\"(?:[^>]*)?title=\"([^\"]*)\"'''"
   ]
  },
  {
   "cell_type": "markdown",
   "metadata": {},
   "source": [
    "# 첫 번째 그룹이 link, 두 번째 그룹이 title"
   ]
  },
  {
   "cell_type": "code",
   "execution_count": 5,
   "metadata": {},
   "outputs": [
    {
     "data": {
      "text/plain": [
       "[('http://www.chuksannews.co.kr/news/article.html?no=188624',\n",
       "  \"'올드스쿨' 모델 아이린, 韓 사랑이 다했다? \"),\n",
       " ('http://www.economytalk.kr/news/articleView.html?idxno=191197',\n",
       "  '레드벨벳 아이린, 걸그룹의 끝판왕 미모는 이런 것이다'),\n",
       " ('http://www.incheonilbo.com/news/articleView.html?idxno=961566',\n",
       "  \"'김창열의 올드스쿨' 하늘은 스무살 때 아이돌 연습생을 ...\")]"
      ]
     },
     "execution_count": 5,
     "metadata": {},
     "output_type": "execute_result"
    }
   ],
   "source": [
    "re.findall(pattern, html)"
   ]
  },
  {
   "cell_type": "markdown",
   "metadata": {},
   "source": [
    "---"
   ]
  },
  {
   "cell_type": "markdown",
   "metadata": {},
   "source": [
    "# BeautifulSoup"
   ]
  },
  {
   "cell_type": "code",
   "execution_count": 6,
   "metadata": {},
   "outputs": [],
   "source": [
    "import bs4\n",
    "from bs4 import BeautifulSoup"
   ]
  },
  {
   "cell_type": "markdown",
   "metadata": {},
   "source": [
    "## 예제"
   ]
  },
  {
   "cell_type": "code",
   "execution_count": 7,
   "metadata": {},
   "outputs": [],
   "source": [
    "html = \"\"\"\n",
    "<html>\n",
    " <head></head>\n",
    " <body>\n",
    "  <div id=\"result\">\n",
    "   <p class=\"row\">\n",
    "    <a class=\"red\">go to page1</a>\n",
    "    <a class=\"blue\">go to page2</a>\n",
    "    <div class=\"test\">\n",
    "     <a href=\"test.com\">test</a>\n",
    "    </div>\n",
    "   </p>\n",
    "  </div>\n",
    " </body>\n",
    "</html>\n",
    "\"\"\""
   ]
  },
  {
   "cell_type": "code",
   "execution_count": 8,
   "metadata": {},
   "outputs": [],
   "source": [
    "dom = BeautifulSoup(html, 'html.parser')"
   ]
  },
  {
   "cell_type": "code",
   "execution_count": 9,
   "metadata": {},
   "outputs": [
    {
     "data": {
      "text/plain": [
       "[<a class=\"red\">go to page1</a>, <a class=\"blue\">go to page2</a>]"
      ]
     },
     "execution_count": 9,
     "metadata": {},
     "output_type": "execute_result"
    }
   ],
   "source": [
    "dom.select('p > a')"
   ]
  },
  {
   "cell_type": "code",
   "execution_count": 10,
   "metadata": {},
   "outputs": [],
   "source": [
    "div = dom.select('div')"
   ]
  },
  {
   "cell_type": "code",
   "execution_count": 11,
   "metadata": {},
   "outputs": [
    {
     "data": {
      "text/plain": [
       "'result'"
      ]
     },
     "execution_count": 11,
     "metadata": {},
     "output_type": "execute_result"
    }
   ],
   "source": [
    "div[0]['id']"
   ]
  },
  {
   "cell_type": "code",
   "execution_count": 12,
   "metadata": {},
   "outputs": [
    {
     "data": {
      "text/plain": [
       "['red', 'blue', 'test']"
      ]
     },
     "execution_count": 12,
     "metadata": {},
     "output_type": "execute_result"
    }
   ],
   "source": [
    "[\n",
    "    tag['class'][0] for tag in dom.p.children\n",
    "    if type(tag) == bs4.element.Tag and tag.has_attr('class')\n",
    "]"
   ]
  },
  {
   "cell_type": "code",
   "execution_count": 13,
   "metadata": {},
   "outputs": [
    {
     "data": {
      "text/plain": [
       "[<a class=\"red\">go to page1</a>,\n",
       " <a class=\"blue\">go to page2</a>,\n",
       " <a href=\"test.com\">test</a>]"
      ]
     },
     "execution_count": 13,
     "metadata": {},
     "output_type": "execute_result"
    }
   ],
   "source": [
    "dom.find_all('a')"
   ]
  },
  {
   "cell_type": "code",
   "execution_count": 14,
   "metadata": {},
   "outputs": [
    {
     "data": {
      "text/plain": [
       "<p class=\"row\">\n",
       "<a class=\"red\">go to page1</a>\n",
       "<a class=\"blue\">go to page2</a>\n",
       "<div class=\"test\">\n",
       "<a href=\"test.com\">test</a>\n",
       "</div>\n",
       "</p>"
      ]
     },
     "execution_count": 14,
     "metadata": {},
     "output_type": "execute_result"
    }
   ],
   "source": [
    "dom.p"
   ]
  },
  {
   "cell_type": "code",
   "execution_count": 15,
   "metadata": {},
   "outputs": [
    {
     "data": {
      "text/plain": [
       "[<a class=\"red\">go to page1</a>,\n",
       " <a class=\"blue\">go to page2</a>,\n",
       " <a href=\"test.com\">test</a>]"
      ]
     },
     "execution_count": 15,
     "metadata": {},
     "output_type": "execute_result"
    }
   ],
   "source": [
    "dom.p.find_all('a')"
   ]
  },
  {
   "cell_type": "code",
   "execution_count": 16,
   "metadata": {},
   "outputs": [
    {
     "data": {
      "text/plain": [
       "[<a class=\"red\">go to page1</a>, <a class=\"blue\">go to page2</a>]"
      ]
     },
     "execution_count": 16,
     "metadata": {},
     "output_type": "execute_result"
    }
   ],
   "source": [
    "dom.p.find_all('a', recursive=False)"
   ]
  },
  {
   "cell_type": "code",
   "execution_count": 17,
   "metadata": {},
   "outputs": [
    {
     "data": {
      "text/plain": [
       "[<a class=\"red\">go to page1</a>,\n",
       " <a class=\"blue\">go to page2</a>,\n",
       " <a href=\"test.com\">test</a>]"
      ]
     },
     "execution_count": 17,
     "metadata": {},
     "output_type": "execute_result"
    }
   ],
   "source": [
    "dom.div.find_all('a')"
   ]
  },
  {
   "cell_type": "code",
   "execution_count": 18,
   "metadata": {},
   "outputs": [
    {
     "data": {
      "text/plain": [
       "<a href=\"test.com\">test</a>"
      ]
     },
     "execution_count": 18,
     "metadata": {},
     "output_type": "execute_result"
    }
   ],
   "source": [
    "dom.p.div.a"
   ]
  },
  {
   "cell_type": "code",
   "execution_count": 19,
   "metadata": {},
   "outputs": [],
   "source": [
    "p = dom.p"
   ]
  },
  {
   "cell_type": "code",
   "execution_count": 20,
   "metadata": {},
   "outputs": [
    {
     "data": {
      "text/plain": [
       "[<a class=\"red\">go to page1</a>,\n",
       " <a class=\"blue\">go to page2</a>,\n",
       " <div class=\"test\">\n",
       " <a href=\"test.com\">test</a>\n",
       " </div>,\n",
       " <a href=\"test.com\">test</a>]"
      ]
     },
     "execution_count": 20,
     "metadata": {},
     "output_type": "execute_result"
    }
   ],
   "source": [
    "p.a.parent()"
   ]
  },
  {
   "cell_type": "code",
   "execution_count": 21,
   "metadata": {},
   "outputs": [
    {
     "data": {
      "text/plain": [
       "[<p class=\"row\">\n",
       " <a class=\"red\">go to page1</a>\n",
       " <a class=\"blue\">go to page2</a>\n",
       " <div class=\"test\">\n",
       " <a href=\"test.com\">test</a>\n",
       " </div>\n",
       " </p>, <div id=\"result\">\n",
       " <p class=\"row\">\n",
       " <a class=\"red\">go to page1</a>\n",
       " <a class=\"blue\">go to page2</a>\n",
       " <div class=\"test\">\n",
       " <a href=\"test.com\">test</a>\n",
       " </div>\n",
       " </p>\n",
       " </div>, <body>\n",
       " <div id=\"result\">\n",
       " <p class=\"row\">\n",
       " <a class=\"red\">go to page1</a>\n",
       " <a class=\"blue\">go to page2</a>\n",
       " <div class=\"test\">\n",
       " <a href=\"test.com\">test</a>\n",
       " </div>\n",
       " </p>\n",
       " </div>\n",
       " </body>, <html>\n",
       " <head></head>\n",
       " <body>\n",
       " <div id=\"result\">\n",
       " <p class=\"row\">\n",
       " <a class=\"red\">go to page1</a>\n",
       " <a class=\"blue\">go to page2</a>\n",
       " <div class=\"test\">\n",
       " <a href=\"test.com\">test</a>\n",
       " </div>\n",
       " </p>\n",
       " </div>\n",
       " </body>\n",
       " </html>, \n",
       " <html>\n",
       " <head></head>\n",
       " <body>\n",
       " <div id=\"result\">\n",
       " <p class=\"row\">\n",
       " <a class=\"red\">go to page1</a>\n",
       " <a class=\"blue\">go to page2</a>\n",
       " <div class=\"test\">\n",
       " <a href=\"test.com\">test</a>\n",
       " </div>\n",
       " </p>\n",
       " </div>\n",
       " </body>\n",
       " </html>]"
      ]
     },
     "execution_count": 21,
     "metadata": {},
     "output_type": "execute_result"
    }
   ],
   "source": [
    "p.a.find_parents()"
   ]
  },
  {
   "cell_type": "code",
   "execution_count": 22,
   "metadata": {},
   "outputs": [],
   "source": [
    "parent = dom.p.div.find_parent()"
   ]
  },
  {
   "cell_type": "code",
   "execution_count": 23,
   "metadata": {},
   "outputs": [
    {
     "data": {
      "text/plain": [
       "<p class=\"row\">\n",
       "<a class=\"red\">go to page1</a>\n",
       "<a class=\"blue\">go to page2</a>\n",
       "<div class=\"test\">\n",
       "<a href=\"test.com\">test</a>\n",
       "</div>\n",
       "</p>"
      ]
     },
     "execution_count": 23,
     "metadata": {},
     "output_type": "execute_result"
    }
   ],
   "source": [
    "parent"
   ]
  },
  {
   "cell_type": "markdown",
   "metadata": {},
   "source": [
    "## 실습용 사이트\n",
    "http://pythonscraping.com/pages/page3.html"
   ]
  },
  {
   "cell_type": "code",
   "execution_count": 24,
   "metadata": {},
   "outputs": [],
   "source": [
    "resp = download('get',\n",
    "                'http://pythonscraping.com/pages/page3.html',\n",
    "                headers=headers)\n",
    "dom = BeautifulSoup(resp.text, 'lxml')"
   ]
  },
  {
   "cell_type": "code",
   "execution_count": 25,
   "metadata": {},
   "outputs": [],
   "source": [
    "result = dom.find('div', {'id': 'footer'})"
   ]
  },
  {
   "cell_type": "code",
   "execution_count": 26,
   "metadata": {},
   "outputs": [
    {
     "data": {
      "text/plain": [
       "['div', 'body', 'html', '[document]']"
      ]
     },
     "execution_count": 26,
     "metadata": {},
     "output_type": "execute_result"
    }
   ],
   "source": [
    "[tag.name for tag in result.find_parents()]"
   ]
  },
  {
   "cell_type": "code",
   "execution_count": 27,
   "metadata": {},
   "outputs": [
    {
     "data": {
      "text/plain": [
       "<div id=\"footer\">\n",
       "© Totally Normal Gifts, Inc. <br/>\n",
       "+234 (617) 863-0736\n",
       "</div>"
      ]
     },
     "execution_count": 27,
     "metadata": {},
     "output_type": "execute_result"
    }
   ],
   "source": [
    "dom.div.find_all('div')[1]"
   ]
  },
  {
   "cell_type": "code",
   "execution_count": 28,
   "metadata": {},
   "outputs": [
    {
     "data": {
      "text/plain": [
       "[<div id=\"footer\">\n",
       " © Totally Normal Gifts, Inc. <br/>\n",
       " +234 (617) 863-0736\n",
       " </div>]"
      ]
     },
     "execution_count": 28,
     "metadata": {},
     "output_type": "execute_result"
    }
   ],
   "source": [
    "dom.select('div > div#footer')"
   ]
  },
  {
   "cell_type": "code",
   "execution_count": 29,
   "metadata": {},
   "outputs": [
    {
     "data": {
      "text/plain": [
       "['img', 'h1', 'div', 'table', 'div']"
      ]
     },
     "execution_count": 29,
     "metadata": {},
     "output_type": "execute_result"
    }
   ],
   "source": [
    "[\n",
    "    tag.name for tag in result.find_parent().children\n",
    "    if type(tag) == bs4.element.Tag\n",
    "]"
   ]
  },
  {
   "cell_type": "code",
   "execution_count": 30,
   "metadata": {},
   "outputs": [
    {
     "data": {
      "text/plain": [
       "['img', 'h1', 'div', 'table', 'div']"
      ]
     },
     "execution_count": 30,
     "metadata": {},
     "output_type": "execute_result"
    }
   ],
   "source": [
    "[tag.name for tag in dom.div.find_all(recursive=False)]"
   ]
  },
  {
   "cell_type": "code",
   "execution_count": 31,
   "metadata": {},
   "outputs": [
    {
     "data": {
      "text/plain": [
       "['table', 'div', 'h1', 'img']"
      ]
     },
     "execution_count": 31,
     "metadata": {},
     "output_type": "execute_result"
    }
   ],
   "source": [
    "[tag.name for tag in result.find_previous_siblings()]"
   ]
  },
  {
   "cell_type": "code",
   "execution_count": 32,
   "metadata": {},
   "outputs": [
    {
     "data": {
      "text/plain": [
       "<img src=\"../img/gifts/img2.jpg\"/>"
      ]
     },
     "execution_count": 32,
     "metadata": {},
     "output_type": "execute_result"
    }
   ],
   "source": [
    "dom.table.find_all('img')[1]"
   ]
  },
  {
   "cell_type": "code",
   "execution_count": 33,
   "metadata": {},
   "outputs": [
    {
     "data": {
      "text/plain": [
       "<img src=\"../img/gifts/img2.jpg\"/>"
      ]
     },
     "execution_count": 33,
     "metadata": {},
     "output_type": "execute_result"
    }
   ],
   "source": [
    "dom.find_all('img')[2]"
   ]
  },
  {
   "cell_type": "code",
   "execution_count": 34,
   "metadata": {},
   "outputs": [
    {
     "data": {
      "text/plain": [
       "<img src=\"../img/gifts/img2.jpg\"/>"
      ]
     },
     "execution_count": 34,
     "metadata": {},
     "output_type": "execute_result"
    }
   ],
   "source": [
    "dom.select('img')[2]"
   ]
  },
  {
   "cell_type": "code",
   "execution_count": 35,
   "metadata": {},
   "outputs": [],
   "source": [
    "img = [tag for tag in result.find_previous_siblings() if tag.name == 'img'][0]"
   ]
  },
  {
   "cell_type": "code",
   "execution_count": 36,
   "metadata": {},
   "outputs": [],
   "source": [
    "from requests.compat import urljoin"
   ]
  },
  {
   "cell_type": "code",
   "execution_count": 37,
   "metadata": {},
   "outputs": [],
   "source": [
    "imgs = [\n",
    "    urljoin(resp.url, tag['src'])\n",
    "    for tag in result.find_previous_siblings()[0].find_all('img')\n",
    "]"
   ]
  },
  {
   "cell_type": "code",
   "execution_count": 38,
   "metadata": {},
   "outputs": [
    {
     "data": {
      "text/plain": [
       "['http://pythonscraping.com/img/gifts/img1.jpg',\n",
       " 'http://pythonscraping.com/img/gifts/img2.jpg',\n",
       " 'http://pythonscraping.com/img/gifts/img3.jpg',\n",
       " 'http://pythonscraping.com/img/gifts/img4.jpg',\n",
       " 'http://pythonscraping.com/img/gifts/img6.jpg']"
      ]
     },
     "execution_count": 38,
     "metadata": {},
     "output_type": "execute_result"
    }
   ],
   "source": [
    "imgs"
   ]
  },
  {
   "cell_type": "code",
   "execution_count": 39,
   "metadata": {},
   "outputs": [],
   "source": [
    "import os\n",
    "\n",
    "if not os.path.exists('이미지/'):\n",
    "    os.mkdir('이미지')"
   ]
  },
  {
   "cell_type": "code",
   "execution_count": 40,
   "metadata": {},
   "outputs": [],
   "source": [
    "for i, img in enumerate(imgs):\n",
    "    resp = download('get', img)\n",
    "    ext = '.' + resp.headers['Content-Type'].split('/')[-1]\n",
    "    with open('이미지/' + str(i) + ext, 'wb') as file:\n",
    "        file.write(resp.content)"
   ]
  },
  {
   "cell_type": "code",
   "execution_count": 41,
   "metadata": {},
   "outputs": [],
   "source": [
    "resp = download('get',\n",
    "                'http://pythonscraping.com/pages/page3.html',\n",
    "                headers=headers)"
   ]
  },
  {
   "cell_type": "code",
   "execution_count": 42,
   "metadata": {},
   "outputs": [],
   "source": [
    "pattern = r'''<img src=\"([^\"]*)\"'''"
   ]
  },
  {
   "cell_type": "code",
   "execution_count": 43,
   "metadata": {},
   "outputs": [
    {
     "data": {
      "text/plain": [
       "['../img/gifts/logo.jpg',\n",
       " '../img/gifts/img1.jpg',\n",
       " '../img/gifts/img2.jpg',\n",
       " '../img/gifts/img3.jpg',\n",
       " '../img/gifts/img4.jpg',\n",
       " '../img/gifts/img6.jpg']"
      ]
     },
     "execution_count": 43,
     "metadata": {},
     "output_type": "execute_result"
    }
   ],
   "source": [
    "re.findall(pattern, resp.text)"
   ]
  },
  {
   "cell_type": "code",
   "execution_count": 44,
   "metadata": {},
   "outputs": [
    {
     "data": {
      "text/plain": [
       "['http://pythonscraping.com/img/gifts/logo.jpg',\n",
       " 'http://pythonscraping.com/img/gifts/img1.jpg',\n",
       " 'http://pythonscraping.com/img/gifts/img2.jpg',\n",
       " 'http://pythonscraping.com/img/gifts/img3.jpg',\n",
       " 'http://pythonscraping.com/img/gifts/img4.jpg',\n",
       " 'http://pythonscraping.com/img/gifts/img6.jpg']"
      ]
     },
     "execution_count": 44,
     "metadata": {},
     "output_type": "execute_result"
    }
   ],
   "source": [
    "[urljoin(resp.url, link) for link in re.findall(pattern, resp.text)]"
   ]
  },
  {
   "cell_type": "markdown",
   "metadata": {},
   "source": [
    "---"
   ]
  },
  {
   "cell_type": "code",
   "execution_count": 45,
   "metadata": {},
   "outputs": [],
   "source": [
    "resp = download(\n",
    "    'get',\n",
    "    'https://search.naver.com/search.naver?sm=top_hty&fbm=1&ie=utf8&query=%EC%95%84%EC%9D%B4%EB%A6%B0'\n",
    ")"
   ]
  },
  {
   "cell_type": "code",
   "execution_count": 46,
   "metadata": {},
   "outputs": [],
   "source": [
    "dom = BeautifulSoup(resp.text, 'lxml')"
   ]
  },
  {
   "cell_type": "code",
   "execution_count": 47,
   "metadata": {},
   "outputs": [],
   "source": [
    "result = [(tag['href'], tag['title'])\n",
    "          for tag in dom.select('li[id^=sp_nws_all] > dl > dt > a')]"
   ]
  },
  {
   "cell_type": "code",
   "execution_count": 48,
   "metadata": {},
   "outputs": [
    {
     "data": {
      "text/plain": [
       "[('http://www.chuksannews.co.kr/news/article.html?no=188624',\n",
       "  '\\'올드스쿨\\' 모델 아이린, 韓 사랑이 다했다? \"차세대 리더로 꼽힌 이유는..\"'),\n",
       " ('http://www.economytalk.kr/news/articleView.html?idxno=191197',\n",
       "  '레드벨벳 아이린, 걸그룹의 끝판왕 미모는 이런 것이다'),\n",
       " ('http://www.gamemeca.com/mv.php?inflow=naver_s&gid=1565982',\n",
       "  '[공커 위클리] 킹 오브 파이터 올스타 7월 2주차, 쫄쫄이 용병단의 깜짝 습격'),\n",
       " ('http://www.wkorea.com/?p=133584', '아이돌이 사랑한 블레이즈 헤어!'),\n",
       " ('http://www.incheonilbo.com/news/articleView.html?idxno=961566',\n",
       "  \"'김창열의 올드스쿨' 하늘은 스무살 때 아이돌 연습생을 ...\")]"
      ]
     },
     "execution_count": 48,
     "metadata": {},
     "output_type": "execute_result"
    }
   ],
   "source": [
    "result"
   ]
  },
  {
   "cell_type": "code",
   "execution_count": 49,
   "metadata": {},
   "outputs": [],
   "source": [
    "resp = download('get',\n",
    "                'https://search.naver.com/search.naver',\n",
    "                params={\n",
    "                    'where': 'image',\n",
    "                    'sm': 'tab_jum',\n",
    "                    'query': '아이린'\n",
    "                },\n",
    "                headers=headers)\n",
    "dom = BeautifulSoup(resp.text, 'lxml')"
   ]
  },
  {
   "cell_type": "code",
   "execution_count": 50,
   "metadata": {},
   "outputs": [],
   "source": [
    "urls = [\n",
    "    tag['data-source'] for tag in dom.select('div.photo_grid._box img')\n",
    "    if tag.has_attr('data-source')\n",
    "]"
   ]
  },
  {
   "cell_type": "code",
   "execution_count": 51,
   "metadata": {},
   "outputs": [],
   "source": [
    "for i, url in enumerate(urls):\n",
    "    resp = download('get', url)\n",
    "    ext = '.' + resp.headers['Content-Type'].split('/')[-1]\n",
    "    with open('검색결과/' + str(i) + ext, 'wb') as file:\n",
    "        file.write(resp.content)"
   ]
  },
  {
   "cell_type": "markdown",
   "metadata": {},
   "source": [
    "## 정규식으로 네이버 이미지 검색결과 가져오기"
   ]
  },
  {
   "cell_type": "code",
   "execution_count": 52,
   "metadata": {},
   "outputs": [],
   "source": [
    "pattern = r'''<img src=\"(?:[^\"]*)\" class=\"(?:[^\"]*)\" alt=\"(?:[^\"]*)\" onerror=\"(?:[^\"]*)\" data-source=\"([^\"]*)\"'''"
   ]
  },
  {
   "cell_type": "markdown",
   "metadata": {},
   "source": [
    "---"
   ]
  },
  {
   "cell_type": "markdown",
   "metadata": {},
   "source": [
    "## 네이버 통합 검색 결과 중 뉴스 링크 및 제목만 가져오기"
   ]
  },
  {
   "cell_type": "code",
   "execution_count": 54,
   "metadata": {},
   "outputs": [],
   "source": [
    "url = 'https://search.naver.com/search.naver'\n",
    "resp = download('get', url, params=params, headers=headers)\n",
    "html = unescape(resp.text)"
   ]
  },
  {
   "cell_type": "code",
   "execution_count": 55,
   "metadata": {},
   "outputs": [],
   "source": [
    "dom = BeautifulSoup(html, 'lxml')"
   ]
  },
  {
   "cell_type": "code",
   "execution_count": 56,
   "metadata": {},
   "outputs": [
    {
     "data": {
      "text/plain": [
       "[('http://www.chuksannews.co.kr/news/article.html?no=188624',\n",
       "  \"'올드스쿨' 모델 아이린, 韓 사랑이 다했다? \"),\n",
       " ('http://www.economytalk.kr/news/articleView.html?idxno=191197',\n",
       "  '레드벨벳 아이린, 걸그룹의 끝판왕 미모는 이런 것이다'),\n",
       " ('http://www.gamemeca.com/mv.php?inflow=naver_s&gid=1565982',\n",
       "  '[공커 위클리] 킹 오브 파이터 올스타 7월 2주차, 쫄쫄이 용병단의 깜짝 습격'),\n",
       " ('http://www.wkorea.com/?p=133584', '아이돌이 사랑한 블레이즈 헤어!'),\n",
       " ('http://www.incheonilbo.com/news/articleView.html?idxno=961566',\n",
       "  \"'김창열의 올드스쿨' 하늘은 스무살 때 아이돌 연습생을 ...\")]"
      ]
     },
     "execution_count": 56,
     "metadata": {},
     "output_type": "execute_result"
    }
   ],
   "source": [
    "[(tag['href'], tag['title'])\n",
    " for tag in dom.select('li[id^=sp_nws_all] dt > a')]"
   ]
  },
  {
   "cell_type": "markdown",
   "metadata": {},
   "source": [
    "## 구글 검색결과 가져오기"
   ]
  },
  {
   "cell_type": "code",
   "execution_count": 57,
   "metadata": {},
   "outputs": [],
   "source": [
    "resp = download('get',\n",
    "                'https://www.google.com/search',\n",
    "                params={'q': '아이린'},\n",
    "                headers=headers)"
   ]
  },
  {
   "cell_type": "code",
   "execution_count": 58,
   "metadata": {},
   "outputs": [
    {
     "data": {
      "text/plain": [
       "[('https://namu.wiki/w/%EC%95%84%EC%9D%B4%EB%A6%B0(%EB%A0%88%EB%93%9C%EB%B2%A8%EB%B2%B3)',\n",
       "  '아이린(레드벨벳) - 나무위키https://namu.wiki/w/아이린(레드벨벳)'),\n",
       " ('https://ko.wikipedia.org/wiki/%EC%95%84%EC%9D%B4%EB%A6%B0_(1991%EB%85%84)',\n",
       "  '아이린 (1991년) - 위키백과, 우리 모두의 백과사전https://ko.wikipedia.org/wiki/아이린_(1991년)'),\n",
       " ('https://twitter.com/search/%23%EC%95%84%EC%9D%B4%EB%A6%B0',\n",
       "  '#아이린 - Twitter Searchhttps://twitter.com/search/%23아이린'),\n",
       " ('https://maeari33.tistory.com/5',\n",
       "  '아이린 과거와 성형전 썰 - 울려퍼지는 메아리 - 티스토리https://maeari33.tistory.com/5'),\n",
       " ('https://www.pinterest.co.kr/dreamtree001/%EC%95%84%EC%9D%B4%EB%A6%B0/',\n",
       "  '아이린 최고 인기 이미지 1478개 - 2019 | 레드벨벳 아이린, 레드벨벳 및 ...https://www.pinterest.co.kr/dreamtree001/아이린/'),\n",
       " ('https://www.pinterest.co.kr/charles780675/%EC%95%84%EC%9D%B4%EB%A6%B0/',\n",
       "  '아이린 최고 인기 이미지 860개 - 2019 | 레드벨벳 아이린, Kpop 및 레드 ...https://www.pinterest.co.kr/charles780675/아이린/'),\n",
       " ('https://gall.dcinside.com/board/lists?id=irene',\n",
       "  '아이린 갤러리https://gall.dcinside.com/board/lists?id=irene'),\n",
       " ('http://m.blog.naver.com/kyung3376in/220835785923',\n",
       "  '당신이 모르는 아이린에 대한 15가지 사실들 (feat. 배주현) <1탄 ...m.blog.naver.com/kyung3376in/220835785923')]"
      ]
     },
     "execution_count": 58,
     "metadata": {},
     "output_type": "execute_result"
    }
   ],
   "source": [
    "[(tag['href'], tag.text)\n",
    " for tag in BeautifulSoup(resp.text, 'lxml').select('div.r > a')]"
   ]
  }
 ],
 "metadata": {
  "kernelspec": {
   "display_name": "Python 3",
   "language": "python",
   "name": "python3"
  },
  "language_info": {
   "codemirror_mode": {
    "name": "ipython",
    "version": 3
   },
   "file_extension": ".py",
   "mimetype": "text/x-python",
   "name": "python",
   "nbconvert_exporter": "python",
   "pygments_lexer": "ipython3",
   "version": "3.7.3"
  },
  "varInspector": {
   "cols": {
    "lenName": 16,
    "lenType": 16,
    "lenVar": 40
   },
   "kernels_config": {
    "python": {
     "delete_cmd_postfix": "",
     "delete_cmd_prefix": "del ",
     "library": "var_list.py",
     "varRefreshCmd": "print(var_dic_list())"
    },
    "r": {
     "delete_cmd_postfix": ") ",
     "delete_cmd_prefix": "rm(",
     "library": "var_list.r",
     "varRefreshCmd": "cat(var_dic_list()) "
    }
   },
   "types_to_exclude": [
    "module",
    "function",
    "builtin_function_or_method",
    "instance",
    "_Feature"
   ],
   "window_display": false
  }
 },
 "nbformat": 4,
 "nbformat_minor": 2
}

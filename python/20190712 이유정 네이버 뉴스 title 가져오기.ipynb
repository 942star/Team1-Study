{
 "cells": [
  {
   "cell_type": "code",
   "execution_count": 6,
   "metadata": {},
   "outputs": [],
   "source": [
    "import requests\n",
    "from html import unescape\n",
    "from html import escape\n",
    "import re"
   ]
  },
  {
   "cell_type": "code",
   "execution_count": 7,
   "metadata": {},
   "outputs": [],
   "source": [
    "import time\n",
    "import json\n",
    "\n",
    "def download(method, url, param=None, data=None, \n",
    "             headers = None, maxretries=4 ):\n",
    "    try :\n",
    "        resp = requests.request(method, url, params = param, \n",
    "                                data=data,headers = headers )\n",
    "        resp.raise_for_status()\n",
    "    except requests.exceptions.HTTPError as e:\n",
    "        if 500 <= e.response.status_code < 600 and maxretries > 0 :\n",
    "            print(maxretries)\n",
    "            resp = download(method, url, param, data, maxretries - 1)\n",
    "        else :\n",
    "            print(e.response.status_code)\n",
    "            print(e.response.reason)\n",
    "    return resp"
   ]
  },
  {
   "cell_type": "code",
   "execution_count": 8,
   "metadata": {},
   "outputs": [],
   "source": [
    "headers = {'User-Agent': \"Mozilla/5.0 (Windows; U; Windows NT 6.1; en-US) AppleWebKit/534.7 (KHTML, like Gecko) Chrome/7.0.517.44 Safari/534.7\"}"
   ]
  },
  {
   "cell_type": "code",
   "execution_count": 9,
   "metadata": {},
   "outputs": [],
   "source": [
    "resp =download('get', 'https://search.naver.com/search.naver', param = {'query':'박보검', 'where':'nexearch'},headers=headers)"
   ]
  },
  {
   "cell_type": "code",
   "execution_count": 10,
   "metadata": {},
   "outputs": [],
   "source": [
    "pattern = r'''<dt><a href=\"([^\"]*)\"(?:[^>]*)?title=\"([^\"]*)\"'''"
   ]
  },
  {
   "cell_type": "code",
   "execution_count": 11,
   "metadata": {},
   "outputs": [
    {
     "data": {
      "text/plain": [
       "[('https://cafe.naver.com/andyhug/1482953', ''),\n",
       " ('https://cafe.naver.com/hayate1/600093', ''),\n",
       " ('https://cafe.naver.com/nds07/1419679', ''),\n",
       " ('https://cafe.naver.com/dasmora/328190', ''),\n",
       " ('https://cafe.naver.com/fox5282/2477716', ''),\n",
       " ('http://www.kjdaily.com/read.php3?aid=1562888505476439208',\n",
       "  \"박보검 '초복'날 함께 삼계탕 먹고 싶은 스타 1위…공유·방탄소년단 지민 順\"),\n",
       " ('https://view.asiae.co.kr/article/2019071211144216070',\n",
       "  '박보검과 햇반하러 오세요…CJ제일제당, 햇반 브랜드 위크 운행'),\n",
       " ('http://www.skyedaily.com/news/news_view.html?ID=86835',\n",
       "  '금융권, Z-세대 타깃으로 광고효과 톡톡'),\n",
       " ('http://www.theceluv.com/article.php?aid=1562768527266365010',\n",
       "  '‘한끼줍쇼’ 최대철 “중년 박보검” 어필로 한 끼 성공? 이경규 지인')]"
      ]
     },
     "execution_count": 11,
     "metadata": {},
     "output_type": "execute_result"
    }
   ],
   "source": [
    "re.findall(pattern, unescape(resp.text))"
   ]
  },
  {
   "cell_type": "code",
   "execution_count": null,
   "metadata": {},
   "outputs": [],
   "source": []
  }
 ],
 "metadata": {
  "kernelspec": {
   "display_name": "Python 3",
   "language": "python",
   "name": "python3"
  },
  "language_info": {
   "codemirror_mode": {
    "name": "ipython",
    "version": 3
   },
   "file_extension": ".py",
   "mimetype": "text/x-python",
   "name": "python",
   "nbconvert_exporter": "python",
   "pygments_lexer": "ipython3",
   "version": "3.7.1"
  }
 },
 "nbformat": 4,
 "nbformat_minor": 2
}

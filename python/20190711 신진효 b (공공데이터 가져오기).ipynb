{
 "cells": [
  {
   "cell_type": "code",
   "execution_count": 1,
   "metadata": {},
   "outputs": [],
   "source": [
    "# 공공데이터 포털의 미세먼지 관련 데이터 url이다.\n",
    "\n",
    "url = \"http://openapi.airkorea.or.kr/openapi/services/rest/ArpltnInforInqireSvc/getMsrstnAcctoRltmMesureDnsty\""
   ]
  },
  {
   "cell_type": "code",
   "execution_count": 12,
   "metadata": {},
   "outputs": [],
   "source": [
    "# 공공데이터 포털에서 회원가입한 후, 해당 데이터에 대한 사용 권한을 요청하면 ServiceKey를 받을 수 있다. (무료, 신청 후 승인 1시간 이내)\n",
    "\n",
    "params = {\"ServiceKey\":\"공공데이터 포털에서 데이터 사용 신청하면 받을 수 있음\",\n",
    "            \"numOfRows\":10,\n",
    "            \"pageNo\":1,\n",
    "            \"stationName\":\"성북구\",\n",
    "            \"dataTerm\":\"DAILY\",\n",
    "            \"ver\":1.3,\n",
    "          \"_returnType\":\"json\"\n",
    "         }"
   ]
  },
  {
   "cell_type": "code",
   "execution_count": 3,
   "metadata": {},
   "outputs": [],
   "source": [
    "import requests"
   ]
  },
  {
   "cell_type": "code",
   "execution_count": 4,
   "metadata": {},
   "outputs": [],
   "source": [
    "import time\n",
    "\n",
    "# download 함수는 한번 만들어놓으면 여러번 써먹을 수 있음.\n",
    "def download(method, url, param=None, data=None, headers = None, timeout=1, maxretries=3):\n",
    "    try:\n",
    "        resp = requests.request(method, url, \n",
    "                                params=param, data=data, \n",
    "                                headers = {'user-agent': 'Mozilla/5.0 (Windows NT 10.0; Win64; x64) AppleWebKit/537.36 (KHTML, like Gecko) Chrome/75.0.3770.100 Safari/537.36'})\n",
    "        resp.raise_for_status()\n",
    "    except requests.exceptions.HTTPError as e:\n",
    "        if 500 <= e.response.status_code < 600 and maxretries > 0:\n",
    "            print(maxretries)\n",
    "            time.sleep(timeout)\n",
    "            maxretries -= 1\n",
    "            resp = download(method, url, param, data, headers, timeout, maxretries)\n",
    "        else:\n",
    "            print(e.response.status_code)\n",
    "            print(e.response.reason)\n",
    "    return resp"
   ]
  },
  {
   "cell_type": "code",
   "execution_count": 5,
   "metadata": {},
   "outputs": [],
   "source": [
    "headers = None # 위에서 함수를 잘못 만들어서 headers를 정의하는게 의미가 없다 사실...\n",
    "html = download(\"get\", url, params)"
   ]
  },
  {
   "cell_type": "code",
   "execution_count": 6,
   "metadata": {},
   "outputs": [
    {
     "data": {
      "text/plain": [
       "'<?xml version=\"1.0\" encoding=\"UTF-8\"?>\\r\\n\\r\\n\\r\\n\\r\\n\\r\\n<response>\\r\\n\\t<header>\\r\\n\\t\\t<resultCode>30</resultCode>\\r\\n\\t\\t<resultMsg>SERVICE KEY IS NOT REGISTERED ERROR.</resultMsg>\\r\\n\\t</header>\\r\\n</response>\\r\\n'"
      ]
     },
     "execution_count": 6,
     "metadata": {},
     "output_type": "execute_result"
    }
   ],
   "source": [
    "# service key error가 나는 것이 정상이다.\n",
    "\n",
    "html.text"
   ]
  },
  {
   "cell_type": "code",
   "execution_count": 2,
   "metadata": {},
   "outputs": [
    {
     "data": {
      "text/plain": [
       "'91OkHjnWC8%2BaN3qexKJX4ZIeWU1kUrI73DtKhGtle4gb4rE63Aj2Y3Z3*********************************'"
      ]
     },
     "execution_count": 2,
     "metadata": {},
     "output_type": "execute_result"
    }
   ],
   "source": [
    "# 현재 ServiceKey는 퍼센트인코딩 되어있는 상태이다.\n",
    "# key 정보 보호용으로 가림.\n",
    "\n",
    "params[\"ServiceKey\"]"
   ]
  },
  {
   "cell_type": "code",
   "execution_count": 14,
   "metadata": {},
   "outputs": [],
   "source": [
    "# servicekey를 bytes type으로 변환해서 보내줘야한다.\n",
    "# 퍼센트 인코딩 되어있으면 다른 key로 인식함.\n",
    "# 그래서 unquote 함\n",
    "\n",
    "# 퍼센트 인코딩(percent-encoding)은 URL에 문자를 표현하는 문자 인코딩 방법이다. \n",
    "# 이 방법에 따르면 알파벳이나 숫자 등 몇몇 문자를 제외한 값은 옥텟 단위로 묶어서, 16진수 값으로 인코딩한다.\n",
    "\n",
    "params[\"ServiceKey\"] = requests.compat.unquote(params[\"ServiceKey\"])"
   ]
  },
  {
   "cell_type": "code",
   "execution_count": 6,
   "metadata": {},
   "outputs": [
    {
     "data": {
      "text/plain": [
       "'91OkHjnWC8+aN3qexKJX4ZIeWU1kUrI73DtKhGtle4gb4rE63Aj2Y3Z3***************************'"
      ]
     },
     "execution_count": 6,
     "metadata": {},
     "output_type": "execute_result"
    }
   ],
   "source": [
    "# unquote 하기 전과 달라진 것을 볼 수 있다.\n",
    "# key 일부 가림\n",
    "\n",
    "params[\"ServiceKey\"]"
   ]
  },
  {
   "cell_type": "code",
   "execution_count": 9,
   "metadata": {},
   "outputs": [],
   "source": [
    "headers = None\n",
    "html = download(\"get\", url, params)"
   ]
  },
  {
   "cell_type": "code",
   "execution_count": 10,
   "metadata": {},
   "outputs": [
    {
     "data": {
      "text/plain": [
       "'{\"list\":[{\"_returnType\":\"json\",\"coGrade\":\"1\",\"coValue\":\"0.5\",\"dataTerm\":\"\",\"dataTime\":\"2019-07-11 14:00\",\"khaiGrade\":\"1\",\"khaiValue\":\"37\",\"mangName\":\"도시대기\",\"no2Grade\":\"1\",\"no2Value\":\"0.020\",\"numOfRows\":\"10\",\"o3Grade\":\"1\",\"o3Value\":\"0.022\",\"pageNo\":\"1\",\"pm10Grade\":\"1\",\"pm10Grade1h\":\"1\",\"pm10Value\":\"8\",\"pm10Value24\":\"8\",\"pm25Grade\":\"1\",\"pm25Grade1h\":\"1\",\"pm25Value\":\"5\",\"pm25Value24\":\"4\",\"resultCode\":\"\",\"resultMsg\":\"\",\"rnum\":0,\"serviceKey\":\"\",\"sidoName\":\"\",\"so2Grade\":\"\",\"so2Value\":\"-\",\"stationCode\":\"\",\"stationName\":\"\",\"totalCount\":\"\",\"ver\":\"\"},{\"_returnType\":\"json\",\"coGrade\":\"1\",\"coValue\":\"0.5\",\"dataTerm\":\"\",\"dataTime\":\"2019-07-11 13:00\",\"khaiGrade\":\"1\",\"khaiValue\":\"40\",\"mangName\":\"도시대기\",\"no2Grade\":\"1\",\"no2Value\":\"0.014\",\"numOfRows\":\"10\",\"o3Grade\":\"1\",\"o3Value\":\"0.024\",\"pageNo\":\"1\",\"pm10Grade\":\"1\",\"pm10Grade1h\":\"1\",\"pm10Value\":\"8\",\"pm10Value24\":\"7\",\"pm25Grade\":\"1\",\"pm25Grade1h\":\"1\",\"pm25Value\":\"3\",\"pm25Value24\":\"3\",\"resultCode\":\"\",\"resultMsg\":\"\",\"rnum\":0,\"serviceKey\":\"\",\"sidoName\":\"\",\"so2Grade\":\"\",\"so2Value\":\"-\",\"stationCode\":\"\",\"stationName\":\"\",\"totalCount\":\"\",\"ver\":\"\"},{\"_returnType\":\"json\",\"coGrade\":\"1\",\"coValue\":\"0.5\",\"dataTerm\":\"\",\"dataTime\":\"2019-07-11 12:00\",\"khaiGrade\":\"1\",\"khaiValue\":\"37\",\"mangName\":\"도시대기\",\"no2Grade\":\"1\",\"no2Value\":\"0.014\",\"numOfRows\":\"10\",\"o3Grade\":\"1\",\"o3Value\":\"0.022\",\"pageNo\":\"1\",\"pm10Grade\":\"1\",\"pm10Grade1h\":\"1\",\"pm10Value\":\"15\",\"pm10Value24\":\"7\",\"pm25Grade\":\"1\",\"pm25Grade1h\":\"1\",\"pm25Value\":\"6\",\"pm25Value24\":\"3\",\"resultCode\":\"\",\"resultMsg\":\"\",\"rnum\":0,\"serviceKey\":\"\",\"sidoName\":\"\",\"so2Grade\":\"\",\"so2Value\":\"-\",\"stationCode\":\"\",\"stationName\":\"\",\"totalCount\":\"\",\"ver\":\"\"},{\"_returnType\":\"json\",\"coGrade\":\"1\",\"coValue\":\"0.6\",\"dataTerm\":\"\",\"dataTime\":\"2019-07-11 11:00\",\"khaiGrade\":\"1\",\"khaiValue\":\"32\",\"mangName\":\"도시대기\",\"no2Grade\":\"1\",\"no2Value\":\"0.015\",\"numOfRows\":\"10\",\"o3Grade\":\"1\",\"o3Value\":\"0.019\",\"pageNo\":\"1\",\"pm10Grade\":\"1\",\"pm10Grade1h\":\"1\",\"pm10Value\":\"7\",\"pm10Value24\":\"4\",\"pm25Grade\":\"1\",\"pm25Grade1h\":\"1\",\"pm25Value\":\"3\",\"pm25Value24\":\"3\",\"resultCode\":\"\",\"resultMsg\":\"\",\"rnum\":0,\"serviceKey\":\"\",\"sidoName\":\"\",\"so2Grade\":\"\",\"so2Value\":\"-\",\"stationCode\":\"\",\"stationName\":\"\",\"totalCount\":\"\",\"ver\":\"\"},{\"_returnType\":\"json\",\"coGrade\":\"1\",\"coValue\":\"0.5\",\"dataTerm\":\"\",\"dataTime\":\"2019-07-11 10:00\",\"khaiGrade\":\"\",\"khaiValue\":\"-\",\"mangName\":\"도시대기\",\"no2Grade\":\"1\",\"no2Value\":\"0.014\",\"numOfRows\":\"10\",\"o3Grade\":\"1\",\"o3Value\":\"0.019\",\"pageNo\":\"1\",\"pm10Grade\":\"1\",\"pm10Grade1h\":\"1\",\"pm10Value\":\"6\",\"pm10Value24\":\"4\",\"pm25Grade\":\"\",\"pm25Grade1h\":\"1\",\"pm25Value\":\"3\",\"pm25Value24\":\"-\",\"resultCode\":\"\",\"resultMsg\":\"\",\"rnum\":0,\"serviceKey\":\"\",\"sidoName\":\"\",\"so2Grade\":\"\",\"so2Value\":\"-\",\"stationCode\":\"\",\"stationName\":\"\",\"totalCount\":\"\",\"ver\":\"\"},{\"_returnType\":\"json\",\"coGrade\":\"1\",\"coValue\":\"0.5\",\"dataTerm\":\"\",\"dataTime\":\"2019-07-11 09:00\",\"khaiGrade\":\"\",\"khaiValue\":\"-\",\"mangName\":\"도시대기\",\"no2Grade\":\"1\",\"no2Value\":\"0.015\",\"numOfRows\":\"10\",\"o3Grade\":\"1\",\"o3Value\":\"0.017\",\"pageNo\":\"1\",\"pm10Grade\":\"1\",\"pm10Grade1h\":\"1\",\"pm10Value\":\"3\",\"pm10Value24\":\"3\",\"pm25Grade\":\"\",\"pm25Grade1h\":\"1\",\"pm25Value\":\"2\",\"pm25Value24\":\"-\",\"resultCode\":\"\",\"resultMsg\":\"\",\"rnum\":0,\"serviceKey\":\"\",\"sidoName\":\"\",\"so2Grade\":\"\",\"so2Value\":\"-\",\"stationCode\":\"\",\"stationName\":\"\",\"totalCount\":\"\",\"ver\":\"\"},{\"_returnType\":\"json\",\"coGrade\":\"1\",\"coValue\":\"0.5\",\"dataTerm\":\"\",\"dataTime\":\"2019-07-11 08:00\",\"khaiGrade\":\"\",\"khaiValue\":\"-\",\"mangName\":\"도시대기\",\"no2Grade\":\"1\",\"no2Value\":\"0.019\",\"numOfRows\":\"10\",\"o3Grade\":\"1\",\"o3Value\":\"0.014\",\"pageNo\":\"1\",\"pm10Grade\":\"1\",\"pm10Grade1h\":\"1\",\"pm10Value\":\"3\",\"pm10Value24\":\"3\",\"pm25Grade\":\"\",\"pm25Grade1h\":\"1\",\"pm25Value\":\"2\",\"pm25Value24\":\"-\",\"resultCode\":\"\",\"resultMsg\":\"\",\"rnum\":0,\"serviceKey\":\"\",\"sidoName\":\"\",\"so2Grade\":\"\",\"so2Value\":\"-\",\"stationCode\":\"\",\"stationName\":\"\",\"totalCount\":\"\",\"ver\":\"\"},{\"_returnType\":\"json\",\"coGrade\":\"1\",\"coValue\":\"0.5\",\"dataTerm\":\"\",\"dataTime\":\"2019-07-11 07:00\",\"khaiGrade\":\"\",\"khaiValue\":\"-\",\"mangName\":\"도시대기\",\"no2Grade\":\"1\",\"no2Value\":\"0.017\",\"numOfRows\":\"10\",\"o3Grade\":\"1\",\"o3Value\":\"0.014\",\"pageNo\":\"1\",\"pm10Grade\":\"1\",\"pm10Grade1h\":\"1\",\"pm10Value\":\"3\",\"pm10Value24\":\"4\",\"pm25Grade\":\"\",\"pm25Grade1h\":\"\",\"pm25Value\":\"-\",\"pm25Value24\":\"-\",\"resultCode\":\"\",\"resultMsg\":\"\",\"rnum\":0,\"serviceKey\":\"\",\"sidoName\":\"\",\"so2Grade\":\"\",\"so2Value\":\"-\",\"stationCode\":\"\",\"stationName\":\"\",\"totalCount\":\"\",\"ver\":\"\"},{\"_returnType\":\"json\",\"coGrade\":\"1\",\"coValue\":\"0.5\",\"dataTerm\":\"\",\"dataTime\":\"2019-07-11 06:00\",\"khaiGrade\":\"\",\"khaiValue\":\"-\",\"mangName\":\"도시대기\",\"no2Grade\":\"1\",\"no2Value\":\"0.012\",\"numOfRows\":\"10\",\"o3Grade\":\"1\",\"o3Value\":\"0.017\",\"pageNo\":\"1\",\"pm10Grade\":\"1\",\"pm10Grade1h\":\"1\",\"pm10Value\":\"3\",\"pm10Value24\":\"4\",\"pm25Grade\":\"\",\"pm25Grade1h\":\"1\",\"pm25Value\":\"3\",\"pm25Value24\":\"-\",\"resultCode\":\"\",\"resultMsg\":\"\",\"rnum\":0,\"serviceKey\":\"\",\"sidoName\":\"\",\"so2Grade\":\"\",\"so2Value\":\"-\",\"stationCode\":\"\",\"stationName\":\"\",\"totalCount\":\"\",\"ver\":\"\"},{\"_returnType\":\"json\",\"coGrade\":\"1\",\"coValue\":\"0.5\",\"dataTerm\":\"\",\"dataTime\":\"2019-07-11 05:00\",\"khaiGrade\":\"\",\"khaiValue\":\"-\",\"mangName\":\"도시대기\",\"no2Grade\":\"1\",\"no2Value\":\"0.010\",\"numOfRows\":\"10\",\"o3Grade\":\"1\",\"o3Value\":\"0.018\",\"pageNo\":\"1\",\"pm10Grade\":\"\",\"pm10Grade1h\":\"1\",\"pm10Value\":\"3\",\"pm10Value24\":\"-\",\"pm25Grade\":\"\",\"pm25Grade1h\":\"1\",\"pm25Value\":\"2\",\"pm25Value24\":\"-\",\"resultCode\":\"\",\"resultMsg\":\"\",\"rnum\":0,\"serviceKey\":\"\",\"sidoName\":\"\",\"so2Grade\":\"\",\"so2Value\":\"-\",\"stationCode\":\"\",\"stationName\":\"\",\"totalCount\":\"\",\"ver\":\"\"}],\"parm\":{\"_returnType\":\"json\",\"coGrade\":\"\",\"coValue\":\"\",\"dataTerm\":\"DAILY\",\"dataTime\":\"\",\"khaiGrade\":\"\",\"khaiValue\":\"\",\"mangName\":\"\",\"no2Grade\":\"\",\"no2Value\":\"\",\"numOfRows\":\"10\",\"o3Grade\":\"\",\"o3Value\":\"\",\"pageNo\":\"1\",\"pm10Grade\":\"\",\"pm10Grade1h\":\"\",\"pm10Value\":\"\",\"pm10Value24\":\"\",\"pm25Grade\":\"\",\"pm25Grade1h\":\"\",\"pm25Value\":\"\",\"pm25Value24\":\"\",\"resultCode\":\"\",\"resultMsg\":\"\",\"rnum\":0,\"serviceKey\":\"91OkHjnWC8+aN3qexKJX4ZIeWU1kUrI73DtKhGtle4gb4rE63Aj2Y3Z3XqnYExgEZB1YcroZbPBDMmSgb9m+sQ==\",\"sidoName\":\"\",\"so2Grade\":\"\",\"so2Value\":\"\",\"stationCode\":\"\",\"stationName\":\"성북구\",\"totalCount\":\"\",\"ver\":\"1.3\"},\"ArpltnInforInqireSvcVo\":{\"_returnType\":\"json\",\"coGrade\":\"\",\"coValue\":\"\",\"dataTerm\":\"DAILY\",\"dataTime\":\"\",\"khaiGrade\":\"\",\"khaiValue\":\"\",\"mangName\":\"\",\"no2Grade\":\"\",\"no2Value\":\"\",\"numOfRows\":\"10\",\"o3Grade\":\"\",\"o3Value\":\"\",\"pageNo\":\"1\",\"pm10Grade\":\"\",\"pm10Grade1h\":\"\",\"pm10Value\":\"\",\"pm10Value24\":\"\",\"pm25Grade\":\"\",\"pm25Grade1h\":\"\",\"pm25Value\":\"\",\"pm25Value24\":\"\",\"resultCode\":\"\",\"resultMsg\":\"\",\"rnum\":0,\"serviceKey\":\"91OkHjnWC8+aN3qexKJX4ZIeWU1kUrI73DtKhGtle4gb4rE63Aj2Y3Z3XqnYExgEZB1YcroZbPBDMmSgb9m+sQ==\",\"sidoName\":\"\",\"so2Grade\":\"\",\"so2Value\":\"\",\"stationCode\":\"\",\"stationName\":\"성북구\",\"totalCount\":\"\",\"ver\":\"1.3\"},\"totalCount\":23}'"
      ]
     },
     "execution_count": 10,
     "metadata": {},
     "output_type": "execute_result"
    }
   ],
   "source": [
    "# 제대로 받아왔다.\n",
    "\n",
    "html.text"
   ]
  },
  {
   "cell_type": "code",
   "execution_count": null,
   "metadata": {},
   "outputs": [],
   "source": []
  }
 ],
 "metadata": {
  "kernelspec": {
   "display_name": "Python 3",
   "language": "python",
   "name": "python3"
  },
  "language_info": {
   "codemirror_mode": {
    "name": "ipython",
    "version": 3
   },
   "file_extension": ".py",
   "mimetype": "text/x-python",
   "name": "python",
   "nbconvert_exporter": "python",
   "pygments_lexer": "ipython3",
   "version": "3.7.3"
  }
 },
 "nbformat": 4,
 "nbformat_minor": 2
}

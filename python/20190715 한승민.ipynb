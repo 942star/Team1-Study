{
 "cells": [
  {
   "cell_type": "markdown",
   "metadata": {},
   "source": [
    "# Crawling"
   ]
  },
  {
   "cell_type": "code",
   "execution_count": 1,
   "metadata": {},
   "outputs": [],
   "source": [
    "from crawler import download\n",
    "\n",
    "from bs4 import BeautifulSoup\n",
    "import requests\n",
    "import time"
   ]
  },
  {
   "cell_type": "code",
   "execution_count": 2,
   "metadata": {},
   "outputs": [],
   "source": [
    "def blogURL(url):\n",
    "    return requests.compat.urlparse(url[1].endswith(\"tistory.com\"))"
   ]
  },
  {
   "cell_type": "code",
   "execution_count": 3,
   "metadata": {},
   "outputs": [],
   "source": [
    "def parseURL(seed):\n",
    "    html = download(\"get\", seed[0])\n",
    "    dom = BeautifulSoup(html.text, \"lxml\")\n",
    "\n",
    "    return [(requests.compat.urljoin(seed[0], tag[\"href\"]), seed[1] + 1)\n",
    "            for tag in dom.find_all(\"a\")\n",
    "            if seed[1] < 2 and tag.has_attr(\"href\")\n",
    "            and 'javascript' not in tag['href'] and len(tag[\"href\"]) > 3\n",
    "            # and blogURL(requests.compat.urljoin(seed[0], tag[\"href\"]))\n",
    "            ]"
   ]
  },
  {
   "cell_type": "code",
   "execution_count": 4,
   "metadata": {},
   "outputs": [],
   "source": [
    "url = \"https://search.daum.net/search\"\n",
    "html = download(\"get\", url, params={'q': '박보영'})\n",
    "dom = BeautifulSoup(html.text, \"lxml\")"
   ]
  },
  {
   "cell_type": "markdown",
   "metadata": {},
   "source": [
    "## BFS Search"
   ]
  },
  {
   "cell_type": "code",
   "execution_count": 5,
   "metadata": {
    "scrolled": true
   },
   "outputs": [
    {
     "name": "stdout",
     "output_type": "stream",
     "text": [
      "Queue: 47, Seed: 1\n",
      "Queue: 64, Seed: 2\n",
      "Queue: 88, Seed: 3\n",
      "Queue: 95, Seed: 4\n",
      "Queue: 94, Seed: 5\n",
      "Queue: 93, Seed: 6\n",
      "Queue: 92, Seed: 7\n",
      "Queue: 91, Seed: 8\n",
      "Queue: 90, Seed: 9\n",
      "Queue: 89, Seed: 10\n",
      "Queue: 88, Seed: 11\n",
      "Queue: 87, Seed: 12\n",
      "Queue: 86, Seed: 13\n",
      "Queue: 85, Seed: 14\n",
      "Queue: 84, Seed: 15\n",
      "Queue: 83, Seed: 16\n",
      "Queue: 82, Seed: 17\n",
      "Queue: 81, Seed: 18\n",
      "Queue: 80, Seed: 19\n",
      "Queue: 79, Seed: 20\n",
      "Queue: 78, Seed: 21\n",
      "Queue: 77, Seed: 22\n",
      "Queue: 76, Seed: 23\n",
      "Queue: 75, Seed: 24\n",
      "Queue: 74, Seed: 25\n",
      "Queue: 73, Seed: 26\n",
      "Queue: 72, Seed: 27\n",
      "Queue: 71, Seed: 28\n",
      "Queue: 70, Seed: 29\n",
      "Queue: 69, Seed: 30\n",
      "Queue: 68, Seed: 31\n",
      "Queue: 67, Seed: 32\n",
      "Queue: 66, Seed: 33\n",
      "Queue: 65, Seed: 34\n",
      "Queue: 64, Seed: 35\n",
      "Queue: 63, Seed: 36\n",
      "Queue: 62, Seed: 37\n",
      "Queue: 61, Seed: 38\n",
      "Queue: 60, Seed: 39\n",
      "Queue: 59, Seed: 40\n",
      "Queue: 58, Seed: 41\n",
      "Queue: 57, Seed: 42\n",
      "Queue: 56, Seed: 43\n",
      "Queue: 55, Seed: 44\n",
      "Queue: 54, Seed: 45\n",
      "Queue: 53, Seed: 46\n",
      "Queue: 52, Seed: 47\n",
      "Queue: 51, Seed: 48\n",
      "Queue: 50, Seed: 49\n",
      "Queue: 49, Seed: 50\n",
      "Queue: 48, Seed: 51\n",
      "Queue: 47, Seed: 52\n",
      "Queue: 46, Seed: 53\n",
      "Queue: 45, Seed: 54\n",
      "Queue: 44, Seed: 55\n",
      "Queue: 43, Seed: 56\n",
      "Queue: 42, Seed: 57\n",
      "Queue: 41, Seed: 58\n",
      "Queue: 40, Seed: 59\n",
      "Queue: 39, Seed: 60\n",
      "Queue: 38, Seed: 61\n",
      "Queue: 37, Seed: 62\n",
      "Queue: 36, Seed: 63\n",
      "Queue: 35, Seed: 64\n",
      "Queue: 34, Seed: 65\n",
      "Queue: 33, Seed: 66\n",
      "Queue: 32, Seed: 67\n",
      "Queue: 31, Seed: 68\n",
      "Queue: 30, Seed: 69\n",
      "Queue: 29, Seed: 70\n",
      "Queue: 28, Seed: 71\n",
      "Queue: 27, Seed: 72\n",
      "Queue: 26, Seed: 73\n",
      "Queue: 25, Seed: 74\n",
      "Queue: 24, Seed: 75\n",
      "Queue: 23, Seed: 76\n",
      "Queue: 22, Seed: 77\n",
      "Queue: 21, Seed: 78\n",
      "Queue: 20, Seed: 79\n",
      "Queue: 19, Seed: 80\n",
      "Queue: 18, Seed: 81\n",
      "Queue: 17, Seed: 82\n",
      "Queue: 16, Seed: 83\n",
      "Queue: 15, Seed: 84\n",
      "Queue: 14, Seed: 85\n",
      "Queue: 13, Seed: 86\n",
      "Queue: 12, Seed: 87\n",
      "Queue: 11, Seed: 88\n",
      "Queue: 10, Seed: 89\n",
      "Queue: 9, Seed: 90\n",
      "Queue: 8, Seed: 91\n",
      "Queue: 7, Seed: 92\n",
      "Queue: 6, Seed: 93\n",
      "Queue: 5, Seed: 94\n",
      "Queue: 4, Seed: 95\n",
      "Queue: 3, Seed: 96\n",
      "Queue: 2, Seed: 97\n",
      "Queue: 1, Seed: 98\n",
      "Queue: 0, Seed: 99\n"
     ]
    }
   ],
   "source": [
    "queue = list()\n",
    "queue.extend([(_['href'], 1) for _ in dom.select(\"#blogColl a.f_link_b\")\n",
    "              if _.has_attr('href') and blogURL(_[\"href\"])])\n",
    "\n",
    "seen = list()\n",
    "\n",
    "while queue:\n",
    "    baseURL = queue.pop(0)  # 여기랑 밑에 줄 사이에 sleep을 줘야 할 것\n",
    "    seen.append(baseURL)\n",
    "\n",
    "    time.sleep(.25)\n",
    "    linkList = parseURL(baseURL)\n",
    "    for link in linkList:\n",
    "        if link not in queue and list not in seen:\n",
    "            queue.append(link)\n",
    "#    queue.extend(linkList)\n",
    "    print(f\"Queue: {len(queue)}, Seed: {len(seen)}\")"
   ]
  },
  {
   "cell_type": "code",
   "execution_count": 6,
   "metadata": {},
   "outputs": [],
   "source": [
    "def parseURL(seed):\n",
    "    html = download(\"get\", seed)\n",
    "    dom = BeautifulSoup(html.text, \"lxml\")\n",
    "    return [\n",
    "        requests.compat.urljoin(html.request.url, tag[\"href\"])\n",
    "        for tag in dom.find_all(\"a\")\n",
    "        if tag.has_attr(\"href\") and len(tag[\"href\"]) > 3\n",
    "    ]"
   ]
  },
  {
   "cell_type": "markdown",
   "metadata": {},
   "source": [
    "## Focused Crawling with Database Tables\n",
    "- Table 1: id(PK), path, param, seen, depth, inbound, date\n",
    "- Table 2: id(PK), netloc(Net Location), date\n",
    "- url: netloc + path + param"
   ]
  },
  {
   "cell_type": "code",
   "execution_count": 7,
   "metadata": {},
   "outputs": [],
   "source": [
    "import sqlite3\n",
    "conn = sqlite3.connect('bot.db')\n",
    "cur = conn.cursor()"
   ]
  },
  {
   "cell_type": "markdown",
   "metadata": {},
   "source": [
    "```sql\n",
    "    CREATE TABLE table1(\n",
    "        id INTEGER PRIMARY KEY AUTOINCREMENT NOT NULL,\n",
    "        table2_id INTEGER NOT NULL,\n",
    "        path TEXT NOT NULL,\n",
    "        param TEXT NOT NULL,\n",
    "        seen BOOLEAN DEFAULT FALSE,\n",
    "        date TIMESTAMP DEFAULT CURRENT_TIMESTAMP NOT NULL\n",
    "    );\n",
    "    \n",
    "    CREATE TABLE table2(\n",
    "        id INTEGER PRIMARY KEY AUTOINCREMENT NOT NULL,\n",
    "        netloc TEXT NOT NULL,\n",
    "        date TIMESTAMP DEFAULT CURRENT_TIMESTAMP NOT NULL\n",
    "    );\n",
    "```"
   ]
  },
  {
   "cell_type": "code",
   "execution_count": 8,
   "metadata": {},
   "outputs": [],
   "source": [
    "cur.executescript(\"\"\"\n",
    "    DROP TABLE IF EXISTS table1;\n",
    "    CREATE TABLE table1(\n",
    "        id INTEGER PRIMARY KEY AUTOINCREMENT NOT NULL,\n",
    "        table2_id INTEGER NOT NULL,\n",
    "        path TEXT NOT NULL,\n",
    "        param TEXT NULL,\n",
    "        depth INTEGER NOT NULL,\n",
    "        seen BOOLEAN DEFAULT FALSE,\n",
    "        inbound INTEGER NULL,\n",
    "        date TIMESTAMP DEFAULT CURRENT_TIMESTAMP NOT NULL\n",
    "    );\n",
    "\n",
    "    DROP TABLE IF EXISTS table2;\n",
    "    CREATE TABLE table2(\n",
    "        id INTEGER PRIMARY KEY AUTOINCREMENT NOT NULL,\n",
    "        netloc TEXT NOT NULL,\n",
    "        date TIMESTAMP DEFAULT CURRENT_TIMESTAMP NOT NULL\n",
    "    );\n",
    "\"\"\")\n",
    "conn.commit()"
   ]
  },
  {
   "cell_type": "markdown",
   "metadata": {},
   "source": [
    "### Seed URLs --> DB Insert"
   ]
  },
  {
   "cell_type": "code",
   "execution_count": 9,
   "metadata": {},
   "outputs": [],
   "source": [
    "url = 'https://www.google.com/search'\n",
    "html = download('get', url, params={'q': '아이린'})\n",
    "dom = BeautifulSoup(html.text, 'lxml')\n",
    "\n",
    "urlList = [_.find_parent()['href'] for _ in dom.select(\".LC20lb\")]\n",
    "for href in urlList:\n",
    "    parse = requests.compat.urlparse(href)\n",
    "    netloc, path, param, depth, inbound = '://'.join(\n",
    "        parse[:2]), parse[2], parse[4], 1, 0\n",
    "    #netloc, path, param, depth = parse.netloc, parse.path, parse.params, 0\n",
    "\n",
    "    # DB Select Limit 0, 1\n",
    "    cur.execute('SELECT id FROM table2 WHERE netloc=? LIMIT 0, 1;', (netloc, ))\n",
    "    netlocId = cur.fetchone()\n",
    "    if not netlocId:\n",
    "        cur.execute('INSERT INTO table2(netloc) VALUES(?);', (netloc, ))\n",
    "        conn.commit()\n",
    "        cur.execute('SELECT id FROM table2 WHERE netloc=?;', (netloc, ))\n",
    "        netlocId = cur.fetchone()\n",
    "    cur.execute(\n",
    "        'INSERT INTO table1(table2_id, path, param, depth, inbound) VALUES(?, ?, ?, ?, ?);',\n",
    "        (netlocId[0], path, param, depth, inbound))\n",
    "    conn.commit()\n",
    "    # print(cur.lastrowid, result)"
   ]
  },
  {
   "cell_type": "markdown",
   "metadata": {},
   "source": [
    "---"
   ]
  },
  {
   "cell_type": "code",
   "execution_count": 10,
   "metadata": {
    "scrolled": true
   },
   "outputs": [
    {
     "name": "stdout",
     "output_type": "stream",
     "text": [
      "https://namu.wiki/w/%EC%95%84%EC%9D%B4%EB%A6%B0(%EB%A0%88%EB%93%9C%EB%B2%A8%EB%B2%B3)?\n",
      "https://ko.wikipedia.org/wiki/%EC%95%84%EC%9D%B4%EB%A6%B0_(1991%EB%85%84)?\n",
      "https://maeari33.tistory.com/5?\n",
      "https://twitter.com/hashtag/%EC%95%84%EC%9D%B4%EB%A6%B0?\n",
      "https://twitter.com/search/%23%EC%95%84%EC%9D%B4%EB%A6%B0?\n",
      "https://ccnp.tistory.com/297?\n",
      "https://www.pinterest.co.kr/dreamtree001/%EC%95%84%EC%9D%B4%EB%A6%B0/?\n",
      "http://m.blog.naver.com/kyung3376in/220835785923?\n",
      "https://gall.dcinside.com/board/lists?id=irene\n",
      "https://namu.wiki/w/%EB%82%98%EB%AC%B4%EC%9C%84%ED%82%A4:%EB%8C%80%EB%AC%B8?\n",
      "https://namu.wiki/RecentChanges?\n",
      "https://namu.wiki/RecentDiscuss?\n",
      "https://board.namu.wiki/?\n",
      "https://namu.wiki/NeededPages?\n",
      "https://namu.wiki/OrphanedPages?\n",
      "https://namu.wiki/UncategorizedPages?\n",
      "https://namu.wiki/OldPages?\n",
      "https://namu.wiki/ShortestPages?\n",
      "https://namu.wiki/LongestPages?\n",
      "https://namu.wiki/BlockHistory?\n",
      "https://namu.wiki/RandomPage?\n",
      "https://namu.wiki/Upload?\n",
      "https://namu.wiki/License?\n",
      "https://namu.live/b/random?\n",
      "https://namu.live/private_boards?\n",
      "https://namu.live/b/live?\n",
      "https://namu.live/b/headline?\n",
      "https://namu.live/b/talk?\n",
      "https://namu.live/b/hobby?\n",
      "https://namu.live/b/namugame?\n",
      "https://namu.live/b/society?\n",
      "https://namu.live/b/lgbt?\n",
      "https://namu.live/b/game?\n",
      "https://namu.live/b/sports?\n",
      "https://namu.live/b/city?\n",
      "https://namu.wiki/settings?\n",
      "https://namu.wiki/contribution/ip/163.152.3.129/document?\n",
      "https://namu.wiki/contribution/ip/163.152.3.129/discuss?\n",
      "https://namu.wiki/member/login?redirect=%2Fw%2F%25EC%2595%2584%25EC%259D%25B4%25EB%25A6%25B0(%25EB%25A0%2588%25EB%2593%259C%25EB%25B2%25A8%25EB%25B2%25B3)\n",
      "https://namu.wiki/random?\n",
      "https://namu.wiki/RecentChanges?\n",
      "https://namu.live/b/headline?\n",
      "https://namu.wiki/member/star/%EC%95%84%EC%9D%B4%EB%A6%B0(%EB%A0%88%EB%93%9C%EB%B2%A8%EB%B2%B3)?\n",
      "https://namu.wiki/xref/%EC%95%84%EC%9D%B4%EB%A6%B0(%EB%A0%88%EB%93%9C%EB%B2%A8%EB%B2%B3)?\n",
      "https://namu.wiki/discuss/%EC%95%84%EC%9D%B4%EB%A6%B0(%EB%A0%88%EB%93%9C%EB%B2%A8%EB%B2%B3)?\n",
      "https://namu.wiki/edit/%EC%95%84%EC%9D%B4%EB%A6%B0(%EB%A0%88%EB%93%9C%EB%B2%A8%EB%B2%B3)?\n",
      "https://namu.wiki/history/%EC%95%84%EC%9D%B4%EB%A6%B0(%EB%A0%88%EB%93%9C%EB%B2%A8%EB%B2%B3)?\n",
      "https://namu.wiki/acl/%EC%95%84%EC%9D%B4%EB%A6%B0(%EB%A0%88%EB%93%9C%EB%B2%A8%EB%B2%B3)?\n",
      "https://namu.wiki/w/%EC%95%84%EC%9D%B4%EB%A6%B0(%EB%A0%88%EB%93%9C%EB%B2%A8%EB%B2%B3)?\n",
      "https://namu.wiki/w/%EB%B6%84%EB%A5%98:%EB%A0%88%EB%93%9C%EB%B2%A8%EB%B2%B3?\n",
      "https://namu.wiki/w/%EB%B6%84%EB%A5%98:1991%EB%85%84%20%EC%B6%9C%EC%83%9D?\n",
      "https://namu.wiki/w/%EB%B6%84%EB%A5%98:%EB%B6%81%EA%B5%AC(%EB%8C%80%EA%B5%AC)%20%EC%B6%9C%EC%8B%A0%20%EC%9D%B8%EB%AC%BC?\n",
      "https://namu.wiki/w/%EB%B6%84%EB%A5%98:%EC%95%84%EC%9D%B4%EB%8F%8C%20%EB%A6%AC%EB%8D%94?\n",
      "https://namu.wiki/w/%EB%B6%84%EB%A5%98:%EC%95%84%EC%9D%B4%EB%8F%8C%20%EB%8C%84%EC%84%9C?\n",
      "https://namu.wiki/w/%EB%B6%84%EB%A5%98:%EC%95%84%EC%9D%B4%EB%8F%8C%20%EB%9E%98%ED%8D%BC?\n",
      "https://namu.wiki/w/%EB%82%98%EB%AC%B4%EC%9C%84%ED%82%A4:%EC%A0%91%EA%B7%BC%20%EC%A0%9C%ED%95%9C/%EB%AC%B8%EC%84%9C%20%EB%AA%A9%EB%A1%9D/1%EB%8B%A8%EA%B3%84?\n",
      "https://namu.wiki/w/%EB%A0%88%EB%93%9C%EB%B2%A8%EB%B2%B3?\n",
      "https://namu.wiki/w/%EC%95%84%EC%9D%B4%EB%A6%B0(%EB%A0%88%EB%93%9C%EB%B2%A8%EB%B2%B3)?\n",
      "https://namu.wiki/w/%EC%8A%AC%EA%B8%B0(%EB%A0%88%EB%93%9C%EB%B2%A8%EB%B2%B3)?\n",
      "https://namu.wiki/w/%EC%9B%AC%EB%94%94(%EB%A0%88%EB%93%9C%EB%B2%A8%EB%B2%B3)?\n",
      "https://namu.wiki/w/%EC%A1%B0%EC%9D%B4(%EB%A0%88%EB%93%9C%EB%B2%A8%EB%B2%B3)?\n",
      "https://namu.wiki/w/%EC%98%88%EB%A6%AC?\n",
      "https://namu.wiki/w/%ED%96%89%EB%B3%B5%20(Happiness)?\n",
      "https://namu.wiki/w/Be%20Natural?\n",
      "https://namu.wiki/w/Ice%20Cream%20Cake?\n",
      "https://namu.wiki/w/The%20Red?\n",
      "https://namu.wiki/w/%ED%96%89%EB%B3%B5%20(Happiness)?\n",
      "https://namu.wiki/w/Be%20Natural?\n",
      "https://namu.wiki/w/Ice%20Cream%20Cake?\n",
      "https://namu.wiki/w/The%20Red?\n",
      "https://namu.wiki/w/The%20Velvet?\n",
      "https://namu.wiki/w/Russian%20Roulette?\n",
      "https://namu.wiki/w/Rookie?\n",
      "https://namu.wiki/w/The%20Red%20Summer?\n",
      "https://namu.wiki/w/The%20Velvet?\n",
      "https://namu.wiki/w/Russian%20Roulette?\n",
      "https://namu.wiki/w/Rookie?\n",
      "https://namu.wiki/w/The%20Red%20Summer?\n",
      "https://namu.wiki/w/Perfect%20Velvet?\n",
      "https://namu.wiki/w/The%20Perfect%20Red%20Velvet?\n",
      "https://namu.wiki/w/Summer%20Magic?\n",
      "https://namu.wiki/w/RBB?\n",
      "https://namu.wiki/w/Perfect%20Velvet?\n",
      "https://namu.wiki/w/The%20Perfect%20Red%20Velvet?\n",
      "https://namu.wiki/w/Summer%20Magic?\n",
      "https://namu.wiki/w/RBB?\n",
      "https://namu.wiki/w/'The%20ReVe%20Festival'%20Day%201?\n",
      "https://namu.wiki/w/'The%20ReVe%20Festival'%20Day%201?\n",
      "https://namu.wiki/w/%23Cookie%20Jar?\n",
      "https://namu.wiki/w/SAPPY?\n",
      "https://namu.wiki/w/Sayonara?\n",
      "https://namu.wiki/w/SAPPY?\n",
      "https://namu.wiki/w/%23Cookie%20Jar?\n",
      "https://namu.wiki/w/SAPPY?\n",
      "https://namu.wiki/w/SAPPY?\n",
      "https://namu.wiki/w/SAPPY?\n",
      "https://namu.wiki/w/SAPPY?\n",
      "https://namu.wiki/w/SAPPY?\n",
      "https://namu.wiki/w/%EB%A0%88%EB%93%9C%EB%B2%A8%EB%B2%B3/%EC%9D%8C%EB%B0%98?\n",
      "https://namu.wiki/w/%EB%A0%88%EB%93%9C%EB%B2%A8%EB%B2%B3/%ED%99%9C%EB%8F%99?\n",
      "https://namu.wiki/w/%EB%A0%88%EB%93%9C%EB%B2%A8%EB%B2%B3/%EB%B0%A9%EC%86%A1%20%EB%AA%A9%EB%A1%9D?\n",
      "https://namu.wiki/w/%EB%A0%88%EB%93%9C%EB%B2%A8%EB%B2%B3/%EB%85%B8%EB%9E%98%EB%B0%A9%20%EC%88%98%EB%A1%9D%20%EB%AA%A9%EB%A1%9D?\n",
      "https://namu.wiki/w/ReVeluv?\n",
      "https://namu.wiki/w/%EB%A0%88%EB%93%9C%EB%B2%A8%EB%B2%B3/%EC%9D%91%EC%9B%90%EB%B2%95?\n",
      "https://namu.wiki/w/%EB%A0%88%EB%93%9C%EB%B2%A8%EB%B2%B3/%EA%B3%B5%EC%97%B0%20%EB%AA%A9%EB%A1%9D?\n",
      "https://namu.wiki/w/%EB%A0%88%EB%B2%A8%EC%97%85%20%ED%94%84%EB%A1%9C%EC%A0%9D%ED%8A%B8?\n",
      "https://namu.wiki/w/%EB%A0%88%EB%93%9C%EB%B2%A8%EB%B2%B3/%EC%82%AC%EA%B1%B4%EC%82%AC%EA%B3%A0?\n",
      "https://namu.wiki/w/%ED%8C%8C%EC%9D%BC:%EC%A7%90%EC%82%B4%EB%9D%BC%EB%B9%94%EC%95%84%EC%9D%B4%EB%A6%B0%ED%8B%B0%EC%A0%801.jpg?\n",
      "https://namu.wiki/w/1991%EB%85%84?\n",
      "https://namu.wiki/w/3%EC%9B%94%2029%EC%9D%BC?\n",
      "https://namu.wiki/w/%EB%8C%80%EA%B5%AC%EA%B4%91%EC%97%AD%EC%8B%9C?\n",
      "https://namu.wiki/w/%EC%95%84%EC%9D%B4%EB%A6%B0(%EB%A0%88%EB%93%9C%EB%B2%A8%EB%B2%B3)?\n",
      "https://namu.wiki/w/%EB%B6%81%EA%B5%AC(%EB%8C%80%EA%B5%AC)?\n",
      "https://namu.wiki/w/%EC%B9%A0%EA%B3%A1%EC%A7%80%EA%B5%AC?\n",
      "https://namu.wiki/w/%EC%95%84%EC%9D%B4%EB%A6%B0(%EB%A0%88%EB%93%9C%EB%B2%A8%EB%B2%B3)?\n",
      "https://namu.wiki/w/%ED%8C%8C%EC%9D%BC:%EB%8C%80%ED%95%9C%EB%AF%BC%EA%B5%AD%20%EA%B5%AD%EA%B8%B0.png?\n",
      "https://namu.wiki/w/%EB%8C%80%ED%95%9C%EB%AF%BC%EA%B5%AD?\n",
      "https://namu.wiki/w/%EB%B0%B0(%EC%84%B1%EC%94%A8)?\n",
      "https://namu.wiki/w/%EC%95%84%EC%9D%B4%EB%A6%B0(%EB%A0%88%EB%93%9C%EB%B2%A8%EB%B2%B3)?\n",
      "https://ko.wikipedia.org/wiki/%EB%B6%84%EC%84%B1_%EB%B0%B0%EC%94%A8?\n",
      "https://namu.wiki/w/%EC%95%84%EC%9D%B4%EB%A6%B0(%EB%A0%88%EB%93%9C%EB%B2%A8%EB%B2%B3)?\n",
      "https://namu.wiki/w/%EC%95%84%EC%9D%B4%EB%A6%B0(%EB%A0%88%EB%93%9C%EB%B2%A8%EB%B2%B3)?\n",
      "https://namu.wiki/w/A%ED%98%95?\n",
      "https://namu.wiki/w/%EB%8C%80%EA%B5%AC%EC%9D%B8%EC%A7%80%EC%B4%88%EB%93%B1%ED%95%99%EA%B5%90?\n",
      "https://namu.wiki/w/%EC%9A%B4%EC%95%94%EC%A4%91%ED%95%99%EA%B5%90(%EB%8C%80%EA%B5%AC)?\n",
      "https://namu.wiki/w/%ED%95%99%EB%82%A8%EA%B3%A0%EB%93%B1%ED%95%99%EA%B5%90?\n",
      "https://namu.wiki/w/SM%EC%97%94%ED%84%B0%ED%85%8C%EC%9D%B8%EB%A8%BC%ED%8A%B8?\n",
      "https://namu.wiki/w/%EB%A0%88%EB%93%9C%EB%B2%A8%EB%B2%B3?\n",
      "https://namu.wiki/w/%EB%A0%88%EB%93%9C%EB%B2%A8%EB%B2%B3?\n",
      "https://namu.wiki/w/%ED%96%89%EB%B3%B5%20(Happiness)?\n",
      "https://namu.wiki/w/%EC%95%84%EC%9D%B4%EB%A6%B0(%EB%A0%88%EB%93%9C%EB%B2%A8%EB%B2%B3)?\n",
      "https://namu.wiki/w/%EB%B6%80%EB%AA%A8?\n",
      "https://namu.wiki/w/%EC%97%AC%EB%8F%99%EC%83%9D?\n",
      "https://namu.wiki/w/%EC%95%84%EC%9D%B4%EB%A6%B0(%EB%A0%88%EB%93%9C%EB%B2%A8%EB%B2%B3)?\n",
      "https://namu.wiki/w/%EC%95%84%EC%9D%B4%EB%A6%B0(%EB%A0%88%EB%93%9C%EB%B2%A8%EB%B2%B3)?\n",
      "https://namu.wiki/w/%EC%95%84%EC%9D%B4%EB%A6%B0(%EB%A0%88%EB%93%9C%EB%B2%A8%EB%B2%B3)?\n",
      "https://namu.wiki/w/%EC%95%84%EC%9D%B4%EB%A6%B0(%EB%A0%88%EB%93%9C%EB%B2%A8%EB%B2%B3)?\n",
      "https://namu.wiki/w/%EC%95%84%EC%9D%B4%EB%A6%B0(%EB%A0%88%EB%93%9C%EB%B2%A8%EB%B2%B3)?\n",
      "https://namu.wiki/w/%EC%95%84%EC%9D%B4%EB%A6%B0(%EB%A0%88%EB%93%9C%EB%B2%A8%EB%B2%B3)?\n",
      "https://namu.wiki/w/%EC%95%84%EC%9D%B4%EB%A6%B0(%EB%A0%88%EB%93%9C%EB%B2%A8%EB%B2%B3)?\n",
      "https://namu.wiki/w/%EC%95%84%EC%9D%B4%EB%A6%B0(%EB%A0%88%EB%93%9C%EB%B2%A8%EB%B2%B3)?\n",
      "https://namu.wiki/w/%EC%95%84%EC%9D%B4%EB%A6%B0(%EB%A0%88%EB%93%9C%EB%B2%A8%EB%B2%B3)?\n",
      "https://namu.wiki/w/%EC%95%84%EC%9D%B4%EB%A6%B0(%EB%A0%88%EB%93%9C%EB%B2%A8%EB%B2%B3)?\n"
     ]
    },
    {
     "name": "stdout",
     "output_type": "stream",
     "text": [
      "https://namu.wiki/w/%EC%95%84%EC%9D%B4%EB%A6%B0(%EB%A0%88%EB%93%9C%EB%B2%A8%EB%B2%B3)?\n",
      "https://namu.wiki/w/%EC%95%84%EC%9D%B4%EB%A6%B0(%EB%A0%88%EB%93%9C%EB%B2%A8%EB%B2%B3)?\n",
      "http://gall.dcinside.com/board/lists/?id=irene\n",
      "https://namu.wiki/w/%EC%95%84%EC%9D%B4%EB%A6%B0(%EB%A0%88%EB%93%9C%EB%B2%A8%EB%B2%B3)?\n",
      "https://namu.wiki/w/%EC%95%84%EC%9D%B4%EB%A6%B0(%EB%A0%88%EB%93%9C%EB%B2%A8%EB%B2%B3)?\n",
      "https://namu.wiki/w/%EC%95%84%EC%9D%B4%EB%A6%B0(%EB%A0%88%EB%93%9C%EB%B2%A8%EB%B2%B3)?\n",
      "https://namu.wiki/w/%EC%95%84%EC%9D%B4%EB%A6%B0(%EB%A0%88%EB%93%9C%EB%B2%A8%EB%B2%B3)?\n"
     ]
    },
    {
     "ename": "KeyboardInterrupt",
     "evalue": "",
     "output_type": "error",
     "traceback": [
      "\u001b[1;31m---------------------------------------------------------------------------\u001b[0m",
      "\u001b[1;31mKeyboardInterrupt\u001b[0m                         Traceback (most recent call last)",
      "\u001b[1;32m<ipython-input-10-6448415053bd>\u001b[0m in \u001b[0;36m<module>\u001b[1;34m\u001b[0m\n\u001b[0;32m     42\u001b[0m             \u001b[0mnetlocId\u001b[0m \u001b[1;33m=\u001b[0m \u001b[0mcur\u001b[0m\u001b[1;33m.\u001b[0m\u001b[0mfetchone\u001b[0m\u001b[1;33m(\u001b[0m\u001b[1;33m)\u001b[0m\u001b[1;33m\u001b[0m\u001b[1;33m\u001b[0m\u001b[0m\n\u001b[0;32m     43\u001b[0m         cur.execute('INSERT INTO table1(table2_id, path, param, depth, inbound) VALUES(?, ?, ?, ?, ?);',\n\u001b[1;32m---> 44\u001b[1;33m                     (netlocId[0], path, param, seed[4]+1, seed[5]))\n\u001b[0m\u001b[0;32m     45\u001b[0m         \u001b[0mconn\u001b[0m\u001b[1;33m.\u001b[0m\u001b[0mcommit\u001b[0m\u001b[1;33m(\u001b[0m\u001b[1;33m)\u001b[0m\u001b[1;33m\u001b[0m\u001b[1;33m\u001b[0m\u001b[0m\n\u001b[0;32m     46\u001b[0m         \u001b[1;31m# print(cur.lastrowid, result)\u001b[0m\u001b[1;33m\u001b[0m\u001b[1;33m\u001b[0m\u001b[1;33m\u001b[0m\u001b[0m\n",
      "\u001b[1;31mKeyboardInterrupt\u001b[0m: "
     ]
    }
   ],
   "source": [
    "i = 0\n",
    "while True:\n",
    "    cur.execute(\"\"\"\n",
    "        SELECT table1.id, table2.netloc,\n",
    "               table1.path, table1.param,\n",
    "               table1.depth, table2.id\n",
    "        FROM table1 \n",
    "        JOIN table2 \n",
    "            ON table1.table2_id = table2.id \n",
    "        WHERE table1.seen = FALSE and table1.depth < 3\n",
    "        ORDER BY table1.date ASC \n",
    "        LIMIT 0, 1;\n",
    "    \"\"\")\n",
    "    seed = cur.fetchone()\n",
    "    if not seed or i > 1000:\n",
    "        break\n",
    "    i += 1\n",
    "    cur.execute(\n",
    "        \"\"\"\n",
    "        UPDATE table1\n",
    "        SET seen = TRUE\n",
    "        WHERE id = ?;\n",
    "    \"\"\", (seed[0], ))\n",
    "    conn.commit()\n",
    "\n",
    "    baseURL = f'{seed[1]+seed[2]}?'\n",
    "    if seed[3]:\n",
    "        baseURL = baseURL + f'{seed[3]}'\n",
    "\n",
    "    print(baseURL)\n",
    "    for href in parseURL(baseURL):\n",
    "        parse = requests.compat.urlparse(href)\n",
    "        netloc, path, param = '://'.join(parse[:2]), parse[2], parse[4]\n",
    "        # netloc, path, param = parse.netloc, parse.path, parse.params\n",
    "\n",
    "        # DB Select Limit 0, 1\n",
    "        cur.execute('SELECT id FROM table2 WHERE netloc=? LIMIT 0, 1;',\n",
    "                    (netloc, ))\n",
    "        netlocId = cur.fetchone()\n",
    "        if not netlocId:\n",
    "            cur.execute('INSERT INTO table2(netloc) VALUES(?);', (netloc, ))\n",
    "            conn.commit()\n",
    "            cur.execute('SELECT id FROM table2 WHERE netloc=?;', (netloc, ))\n",
    "            netlocId = cur.fetchone()\n",
    "        cur.execute(\n",
    "            'INSERT INTO table1(table2_id, path, param, depth, inbound) VALUES(?, ?, ?, ?, ?);',\n",
    "            (netlocId[0], path, param, seed[4] + 1, seed[5]))\n",
    "        conn.commit()\n",
    "        # print(cur.lastrowid, result)"
   ]
  },
  {
   "cell_type": "code",
   "execution_count": 11,
   "metadata": {},
   "outputs": [],
   "source": [
    "cur.close()\n",
    "conn.close()"
   ]
  },
  {
   "cell_type": "markdown",
   "metadata": {},
   "source": [
    "## Page rank - inbound"
   ]
  },
  {
   "cell_type": "markdown",
   "metadata": {},
   "source": [
    "```sql\n",
    "SELECT inbound, COUNT(inbound)\n",
    "FROM table1\n",
    "WHERE table2_id = 2\n",
    "GROUP BY inbound;\n",
    "```"
   ]
  },
  {
   "cell_type": "code",
   "execution_count": 12,
   "metadata": {},
   "outputs": [],
   "source": [
    "conn = sqlite3.connect('bot.db')\n",
    "cur = conn.cursor()"
   ]
  },
  {
   "cell_type": "code",
   "execution_count": 17,
   "metadata": {},
   "outputs": [
    {
     "data": {
      "text/plain": [
       "[(0, 1), (5, 54)]"
      ]
     },
     "execution_count": 17,
     "metadata": {},
     "output_type": "execute_result"
    }
   ],
   "source": [
    "cur.execute(\"\"\"\n",
    "    SELECT inbound, COUNT(inbound)\n",
    "    FROM table1\n",
    "    WHERE table2_id = 5\n",
    "    GROUP BY inbound;\n",
    "\"\"\")\n",
    "cur.fetchall()"
   ]
  },
  {
   "cell_type": "code",
   "execution_count": 15,
   "metadata": {},
   "outputs": [
    {
     "data": {
      "text/plain": [
       "[(55999,)]"
      ]
     },
     "execution_count": 15,
     "metadata": {},
     "output_type": "execute_result"
    }
   ],
   "source": [
    "cur.execute(\"\"\"\n",
    "    SELECT COUNT(inbound)\n",
    "    FROM table1\n",
    "    WHERE inbound = 1;\n",
    "\"\"\")\n",
    "cur.fetchall()"
   ]
  }
 ],
 "metadata": {
  "kernelspec": {
   "display_name": "Python 3",
   "language": "python",
   "name": "python3"
  },
  "language_info": {
   "codemirror_mode": {
    "name": "ipython",
    "version": 3
   },
   "file_extension": ".py",
   "mimetype": "text/x-python",
   "name": "python",
   "nbconvert_exporter": "python",
   "pygments_lexer": "ipython3",
   "version": "3.7.3"
  },
  "varInspector": {
   "cols": {
    "lenName": 16,
    "lenType": 16,
    "lenVar": 40
   },
   "kernels_config": {
    "python": {
     "delete_cmd_postfix": "",
     "delete_cmd_prefix": "del ",
     "library": "var_list.py",
     "varRefreshCmd": "print(var_dic_list())"
    },
    "r": {
     "delete_cmd_postfix": ") ",
     "delete_cmd_prefix": "rm(",
     "library": "var_list.r",
     "varRefreshCmd": "cat(var_dic_list()) "
    }
   },
   "types_to_exclude": [
    "module",
    "function",
    "builtin_function_or_method",
    "instance",
    "_Feature"
   ],
   "window_display": false
  }
 },
 "nbformat": 4,
 "nbformat_minor": 2
}

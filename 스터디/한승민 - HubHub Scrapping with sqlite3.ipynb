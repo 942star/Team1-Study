{
 "cells": [
  {
   "cell_type": "code",
   "execution_count": 1,
   "metadata": {},
   "outputs": [],
   "source": [
    "from modules.crawler import download\n",
    "\n",
    "import json\n",
    "import re\n",
    "import sqlite3"
   ]
  },
  {
   "cell_type": "code",
   "execution_count": 2,
   "metadata": {},
   "outputs": [
    {
     "data": {
      "text/plain": [
       "<sqlite3.Cursor at 0x7fe48e552ab0>"
      ]
     },
     "execution_count": 2,
     "metadata": {},
     "output_type": "execute_result"
    }
   ],
   "source": [
    "conn = sqlite3.connect('hub.db')\n",
    "cur = conn.cursor()\n",
    "cur.executescript('''\n",
    "    DROP TABLE IF EXISTS medicen;\n",
    "    CREATE TABLE  medicen\n",
    "    (\n",
    "        id INTEGER NOT NULL PRIMARY KEY,\n",
    "        code TEXT NOT NULL,\n",
    "        category_id INTEGER NULL,\n",
    "        category_name TEXT NULL,\n",
    "        name TEXT NOT NULL,\n",
    "        effect_list TEXT NULL,\n",
    "        summary TEXT NULL\n",
    "    );\n",
    "''')"
   ]
  },
  {
   "cell_type": "code",
   "execution_count": 3,
   "metadata": {},
   "outputs": [],
   "source": [
    "url = 'https://herbhub.com/api/search/herb'\n",
    "sql = '''\n",
    "INSERT INTO medicen (\n",
    "            id, code, category_id, category_name, name, effect_list, summary)\n",
    "SELECT ?, ?, ?, ?, ?, ?, ?\n",
    "WHERE NOT EXISTS (\n",
    "    SELECT *\n",
    "    FROM medicen\n",
    "    WHERE id = ?\n",
    ");\n",
    "'''"
   ]
  },
  {
   "cell_type": "code",
   "execution_count": 4,
   "metadata": {},
   "outputs": [],
   "source": [
    "with open('query.txt') as fp:\n",
    "    queryList = fp.readlines()\n",
    "\n",
    "searchResult = [\n",
    "    download(url, params={\n",
    "        'q': query,\n",
    "        't': 'herb'\n",
    "    }) for query in queryList\n",
    "]\n",
    "for result in searchResult:\n",
    "    for item in result.json()['herb']:\n",
    "        cur.execute(sql,\n",
    "                        (item['id'], item['code'], item['category_id'],\n",
    "                         item['category_name'], item['name_full'],\n",
    "                         item['effect_list'], item['summary'], item['id']))\n",
    "        conn.commit()"
   ]
  },
  {
   "cell_type": "code",
   "execution_count": 5,
   "metadata": {},
   "outputs": [
    {
     "data": {
      "text/plain": [
       "[(75, 'M0005389', None, None, '안지(雁脂)', '익기해독,서근활혈', None),\n",
       " (283, 'M0004914', None, None, '백모등(白毛藤)', '거풍해독,청열이습', None),\n",
       " (329,\n",
       "  'M0001313',\n",
       "  32,\n",
       "  '거풍습지비통약(祛風濕止痺痛藥)',\n",
       "  '방기(防己)A',\n",
       "  '거풍지통',\n",
       "  '습사(濕邪)가 편성하여 지체가 중통마목(重痛痲木)하고 관절이 부종한 착비(着痹)증상에 사용하는 약물이다.'),\n",
       " (330,\n",
       "  'M0001314',\n",
       "  32,\n",
       "  '거풍습지비통약(祛風濕止痺痛藥)',\n",
       "  '방기(防己)B',\n",
       "  '거풍지통',\n",
       "  '습사(濕邪)가 편성하여 지체가 중통마목(重痛痲木)하고 관절이 부종한 착비(着痹)증상에 사용하는 약물이다.'),\n",
       " (331,\n",
       "  'M0001315',\n",
       "  32,\n",
       "  '거풍습지비통약(祛風濕止痺痛藥)',\n",
       "  '방기(防己)C',\n",
       "  '거풍지통',\n",
       "  '습사(濕邪)가 편성하여 지체가 중통마목(重痛痲木)하고 관절이 부종한 착비(着痹)증상에 사용하는 약물이다.'),\n",
       " (332,\n",
       "  'M0001316',\n",
       "  32,\n",
       "  '거풍습지비통약(祛風濕止痺痛藥)',\n",
       "  '방기(防己)D',\n",
       "  '거풍지통',\n",
       "  '습사(濕邪)가 편성하여 지체가 중통마목(重痛痲木)하고 관절이 부종한 착비(着痹)증상에 사용하는 약물이다.'),\n",
       " (658, 'M0003626', None, None, '천금등(千金藤)B', '거풍,거풍,소종,이습,해열', None),\n",
       " (1810,\n",
       "  'M0000200',\n",
       "  18,\n",
       "  '활혈거어약(活血祛瘀藥)',\n",
       "  '계혈등(鷄血藤)',\n",
       "  '활혈서근,양혈조경',\n",
       "  '부인과 질환에 허실을 막론하고 응용하며, 서근활락효능이 있어 지체마목(肢體麻木), 근맥구련(筋脈拘攣) 등도 치료한다.'),\n",
       " (1974, 'M0004166', None, None, '해풍등(海風藤)', '거풍습,지비통,통경락', None),\n",
       " (3348,\n",
       "  'M0001193',\n",
       "  None,\n",
       "  None,\n",
       "  '목방기(木防己)',\n",
       "  '제습,해독,이뇨소종,거풍지통,행수,청열,이구규,복초석,통주리,해웅황독,하강혈압',\n",
       "  None),\n",
       " (3369,\n",
       "  'M0001200',\n",
       "  3,\n",
       "  '이수통림약(利水通淋藥)',\n",
       "  '목통(木通)A',\n",
       "  '통리혈맥,청열이뇨',\n",
       "  '청열이뇨 작용을 하고 혈맥을 잘 통하게 한다. 유즙불통, 경폐(經閉), 통경(痛經)의 치료에 사용되는 약물이다.'),\n",
       " (3370,\n",
       "  'M0001201',\n",
       "  3,\n",
       "  '이수통림약(利水通淋藥)',\n",
       "  '목통(木通)B',\n",
       "  '통리혈맥,청열이뇨',\n",
       "  '청열이뇨 작용을 하고 혈맥을 잘 통하게 한다. 유즙불통, 경폐(經閉), 통경(痛經)의 치료에 사용되는 약물이다.'),\n",
       " (3371,\n",
       "  'M0001202',\n",
       "  3,\n",
       "  '이수통림약(利水通淋藥)',\n",
       "  '목통(木通)C',\n",
       "  '통리혈맥,청열이뇨',\n",
       "  '청열이뇨 작용을 하고 혈맥을 잘 통하게 한다. 유즙불통, 경폐(經閉), 통경(痛經)의 치료에 사용되는 약물이다.'),\n",
       " (3372,\n",
       "  'M0001203',\n",
       "  3,\n",
       "  '이수통림약(利水通淋藥)',\n",
       "  '목통(木通)D',\n",
       "  '통리혈맥,청열이뇨',\n",
       "  '청열이뇨 작용을 하고 혈맥을 잘 통하게 한다. 유즙불통, 경폐(經閉), 통경(痛經)의 치료에 사용되는 약물이다.'),\n",
       " (3373,\n",
       "  'M0001204',\n",
       "  3,\n",
       "  '이수통림약(利水通淋藥)',\n",
       "  '목통(木通)E',\n",
       "  '통리혈맥,청열이뇨',\n",
       "  '청열이뇨 작용을 하고 혈맥을 잘 통하게 한다. 유즙불통, 경폐(經閉), 통경(痛經)의 치료에 사용되는 약물이다.'),\n",
       " (3374,\n",
       "  'M0001205',\n",
       "  3,\n",
       "  '이수통림약(利水通淋藥)',\n",
       "  '목통(木通)F',\n",
       "  '통리혈맥,청열이뇨',\n",
       "  '청열이뇨 작용을 하고 혈맥을 잘 통하게 한다. 유즙불통, 경폐(經閉), 통경(痛經)의 치료에 사용되는 약물이다.'),\n",
       " (4030,\n",
       "  'M0005491',\n",
       "  3,\n",
       "  '이수통림약(利水通淋藥)',\n",
       "  '삼백초(三白草)',\n",
       "  '청열해독,이뇨소종',\n",
       "  '창양, 옹종 등에 내복 또는 외복하며, 응급약으로 벌레 물린 곳에도 사용한다.'),\n",
       " (4820,\n",
       "  'M0003966',\n",
       "  3,\n",
       "  '이수통림약(利水通淋藥)',\n",
       "  '통초(通草)',\n",
       "  '청열이뇨,통기하유',\n",
       "  '이수설열(利水泄熱) 효능이 목통보다 약하며, 경증에 사용하는 약한 효능의 이수삼습약이다.')]"
      ]
     },
     "execution_count": 5,
     "metadata": {},
     "output_type": "execute_result"
    }
   ],
   "source": [
    "cur.execute('''\n",
    "    SELECT * FROM medicen\n",
    "    ORDER BY id ASC;\n",
    "''')\n",
    "cur.fetchall()"
   ]
  },
  {
   "cell_type": "code",
   "execution_count": 6,
   "metadata": {},
   "outputs": [],
   "source": [
    "cur.close()\n",
    "conn.close()"
   ]
  }
 ],
 "metadata": {
  "kernelspec": {
   "display_name": "Python 3",
   "language": "python",
   "name": "python3"
  },
  "language_info": {
   "codemirror_mode": {
    "name": "ipython",
    "version": 3
   },
   "file_extension": ".py",
   "mimetype": "text/x-python",
   "name": "python",
   "nbconvert_exporter": "python",
   "pygments_lexer": "ipython3",
   "version": "3.6.7"
  },
  "varInspector": {
   "cols": {
    "lenName": 16,
    "lenType": 16,
    "lenVar": 40
   },
   "kernels_config": {
    "python": {
     "delete_cmd_postfix": "",
     "delete_cmd_prefix": "del ",
     "library": "var_list.py",
     "varRefreshCmd": "print(var_dic_list())"
    },
    "r": {
     "delete_cmd_postfix": ") ",
     "delete_cmd_prefix": "rm(",
     "library": "var_list.r",
     "varRefreshCmd": "cat(var_dic_list()) "
    }
   },
   "types_to_exclude": [
    "module",
    "function",
    "builtin_function_or_method",
    "instance",
    "_Feature"
   ],
   "window_display": false
  }
 },
 "nbformat": 4,
 "nbformat_minor": 2
}

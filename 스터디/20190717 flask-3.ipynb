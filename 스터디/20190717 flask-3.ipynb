{
 "cells": [
  {
   "cell_type": "code",
   "execution_count": 1,
   "metadata": {},
   "outputs": [],
   "source": [
    "from flask import Flask, render_template"
   ]
  },
  {
   "cell_type": "code",
   "execution_count": 5,
   "metadata": {},
   "outputs": [],
   "source": [
    "from datetime import datetime"
   ]
  },
  {
   "cell_type": "code",
   "execution_count": 11,
   "metadata": {},
   "outputs": [],
   "source": [
    "app = Flask(__name__)"
   ]
  },
  {
   "cell_type": "markdown",
   "metadata": {},
   "source": [
    "# 동적 게시물 "
   ]
  },
  {
   "cell_type": "markdown",
   "metadata": {},
   "source": [
    "#### jinja 문법\n",
    "\n",
    "- {% ... %} for Statements\n",
    "- {{ ... }} for Expressions to print to the template output\n",
    "- {# ... #} for Comments not included in the template output\n",
    "- #  ... ## for Line Statements"
   ]
  },
  {
   "cell_type": "code",
   "execution_count": 6,
   "metadata": {},
   "outputs": [],
   "source": [
    "# DB를 써야하지만, 여기서는 개념 이해를 위해서 이렇게 함.\n",
    "\n",
    "posts = [\n",
    "    {\n",
    "        'author': {\n",
    "            'username': 'test-user'\n",
    "        },\n",
    "        'title': '첫 번째 포스트',\n",
    "        'content': '첫 번째 포스트 내용입니다.',\n",
    "        'date_posted': datetime.strptime('2018-08-01', '%Y-%m-%d')\n",
    "    },\n",
    "    {\n",
    "        'author': {\n",
    "            'username': 'test-user'\n",
    "        },\n",
    "        'title': '두 번째 포스트',\n",
    "        'content': '두 번째 포스트 내용입니다.',\n",
    "        'date_posted': datetime.strptime('2018-08-03', '%Y-%m-%d')\n",
    "    },\n",
    "]"
   ]
  },
  {
   "cell_type": "code",
   "execution_count": 7,
   "metadata": {},
   "outputs": [],
   "source": [
    "# index.html을 수정한다.\n",
    "# {% for post in posts %} {% endfor %}  ->  파이썬의 for문개념과 같음.\n",
    "\n",
    "with open(\"templates/index.html\", 'w', encoding='utf8') as f:\n",
    "    f.write(\"\"\"\n",
    "{% extends 'layout.html' %}\n",
    " \n",
    "{% block content %}\n",
    "<div>\n",
    "  <div>\n",
    "    {% for post in posts %}\n",
    "      <article>\n",
    "        <h1>{{ post.title }}</h1>\n",
    "        <p>{{ post.content}}</p>\n",
    "        <div>\n",
    "          <p>{{ post.author.username }}</p>\n",
    "          <p>{{ post.date_posted.strftime('%Y-%m-%d') }}</p>\n",
    "        </div>\n",
    "      </article>\n",
    "    {% endfor %}\n",
    "  </div>\n",
    "</div>\n",
    "{% endblock %}\n",
    "\"\"\")"
   ]
  },
  {
   "cell_type": "code",
   "execution_count": 12,
   "metadata": {},
   "outputs": [],
   "source": [
    "@app.route('/')\n",
    "def index():\n",
    "    return render_template(\"index.html\", posts=posts)"
   ]
  },
  {
   "cell_type": "code",
   "execution_count": 13,
   "metadata": {},
   "outputs": [
    {
     "name": "stdout",
     "output_type": "stream",
     "text": [
      " * Serving Flask app \"__main__\" (lazy loading)\n",
      " * Environment: production\n",
      "   WARNING: Do not use the development server in a production environment.\n",
      "   Use a production WSGI server instead.\n",
      " * Debug mode: off\n"
     ]
    },
    {
     "name": "stderr",
     "output_type": "stream",
     "text": [
      " * Running on http://127.0.0.1:5000/ (Press CTRL+C to quit)\n",
      "127.0.0.1 - - [17/Jul/2019 01:33:59] \"GET / HTTP/1.1\" 200 -\n"
     ]
    }
   ],
   "source": [
    "app.run()"
   ]
  },
  {
   "cell_type": "markdown",
   "metadata": {},
   "source": [
    "# URL 동적 생성\n",
    "- 이제까지 우리는 html 소스코드 내에서 href 어트리뷰트의 url주소를 고정적으로 적어뒀다.(하드코딩)\n",
    "- 우리가 각자 만든 블로그를 1조의 웹페이지 아래로 통합시킨다면?\n",
    "    - 1jo/jinhyo/index 와 같이 어떠한 큰 url 아래로 들어가게 될 것이다. \n",
    "    - 문제는 url주소를 고정적으로 적었기 때문에 이상한 곳으로 링크가 걸릴 수 있다.\n",
    "- 웹페이지의 구성이 바뀌더라도, 항상 우리가 원하는 페이지로 링크가 걸리도록 해보자."
   ]
  },
  {
   "cell_type": "code",
   "execution_count": 25,
   "metadata": {},
   "outputs": [],
   "source": [
    "from flask import url_for"
   ]
  },
  {
   "cell_type": "code",
   "execution_count": 34,
   "metadata": {},
   "outputs": [],
   "source": [
    "# url이 자동으로 바뀌도록 해주자.\n",
    "\n",
    "with open('templates/layout.html', 'w', encoding=\"utf8\") as f:\n",
    "# {%   %}  ->  python 문법을 적용시킬 구간을 설정함\n",
    "# {{   }}  ->  python의 객체를 사용할 수 있음.\n",
    "\n",
    "    f.write(\"\"\"<!DOCTYPE HTML>\n",
    "    <html lang=\"kr\">\n",
    "      <head>\n",
    "        <meta charset=\"utf-8\">\n",
    "\n",
    "        {% if title %}\n",
    "          <title>Flask 블로그 - {{ title }}</title>\n",
    "        {% else %}\n",
    "          <title>Flask 블로그</title>\n",
    "        {% endif %}\n",
    "      </head>\n",
    "\n",
    "      <body>\n",
    "        <header>\n",
    "          <nav>\n",
    "            <a href=\"/\">Flask 블로그</a>\n",
    "            <a href=\"/\">Home</a>\n",
    "            <a href=\"{{  url_for('about')  }}\">About</a>\n",
    "          </nav>\n",
    "          <hr>\n",
    "        </header>\n",
    "\n",
    "        <main role=\"main\">\n",
    "        <!-- Main content block -->\n",
    "        {% block content %}{% endblock %}\n",
    "        </main>\n",
    "      </body>\n",
    "    </html>\"\"\")"
   ]
  },
  {
   "cell_type": "code",
   "execution_count": 35,
   "metadata": {},
   "outputs": [],
   "source": [
    "app = Flask(__name__)\n",
    "\n",
    "@app.route('/')\n",
    "def index():\n",
    "    return render_template(\"index.html\", posts=posts)\n",
    "\n",
    "@app.route('/about')\n",
    "def about():\n",
    "    return render_template(\"about.html\", title=\"about\")"
   ]
  },
  {
   "cell_type": "code",
   "execution_count": 36,
   "metadata": {},
   "outputs": [
    {
     "name": "stdout",
     "output_type": "stream",
     "text": [
      " * Serving Flask app \"__main__\" (lazy loading)\n",
      " * Environment: production\n",
      "   WARNING: Do not use the development server in a production environment.\n",
      "   Use a production WSGI server instead.\n",
      " * Debug mode: off\n"
     ]
    },
    {
     "name": "stderr",
     "output_type": "stream",
     "text": [
      " * Running on http://127.0.0.1:5000/ (Press CTRL+C to quit)\n"
     ]
    }
   ],
   "source": [
    "app.run()"
   ]
  },
  {
   "cell_type": "markdown",
   "metadata": {},
   "source": [
    "### url_for 이해하기\n",
    "- url_for의 인자는 엔드포인트 함수 이름을 인자로 받는다.\n",
    "    - 엔드포인트 함수 -> 우리가 @app.route()로 데코레이트한 함수\n",
    "    - 이름을 받기 때문에 literal str로 표기해줘야한다.\n",
    "- 함수명과 url 엔드포인트가 다를 경우 헷갈릴 수 있다.\n",
    "    - 그럴 일은 거의 없겠지만, 알아두자."
   ]
  },
  {
   "cell_type": "code",
   "execution_count": 43,
   "metadata": {},
   "outputs": [],
   "source": [
    "# layout.html에 조건문에 따라 title을 변하게 만들어보자.\n",
    "\n",
    "with open('templates/layout.html', 'w', encoding=\"utf8\") as f:\n",
    "# {%   %}  ->  python 문법을 적용시킬 구간을 설정함\n",
    "# {{   }}  ->  python의 객체를 사용할 수 있음.\n",
    "\n",
    "    f.write(\"\"\"<!DOCTYPE HTML>\n",
    "    <html lang=\"kr\">\n",
    "      <head>\n",
    "        <meta charset=\"utf-8\">\n",
    "\n",
    "        {% if title %}\n",
    "          <title>Flask 블로그 - {{ title }}</title>\n",
    "        {% else %}\n",
    "          <title>Flask 블로그</title>\n",
    "        {% endif %}\n",
    "      </head>\n",
    "\n",
    "      <body>\n",
    "        <header>\n",
    "          <nav>\n",
    "            <a href=\"{{  url_for('index')  }}\">Flask 블로그</a>\n",
    "            <a href=\"{{  url_for('index')  }}\">Home</a>\n",
    "            <a href=\"{{  url_for('not_this')  }}\">About</a>\n",
    "          </nav>\n",
    "          <hr>\n",
    "        </header>\n",
    "\n",
    "        <main role=\"main\">\n",
    "        <!-- Main content block -->\n",
    "        {% block content %}{% endblock %}\n",
    "        </main>\n",
    "      </body>\n",
    "    </html>\"\"\")"
   ]
  },
  {
   "cell_type": "code",
   "execution_count": 44,
   "metadata": {},
   "outputs": [],
   "source": [
    "app = Flask(__name__)\n",
    "\n",
    "@app.route('/')\n",
    "def index():\n",
    "    return render_template(\"index.html\", posts=posts)\n",
    "\n",
    "@app.route('/about')\n",
    "def not_this():\n",
    "    return render_template(\"about.html\", title=\"about\")"
   ]
  },
  {
   "cell_type": "code",
   "execution_count": 45,
   "metadata": {},
   "outputs": [
    {
     "name": "stdout",
     "output_type": "stream",
     "text": [
      " * Serving Flask app \"__main__\" (lazy loading)\n",
      " * Environment: production\n",
      "   WARNING: Do not use the development server in a production environment.\n",
      "   Use a production WSGI server instead.\n",
      " * Debug mode: off\n"
     ]
    },
    {
     "name": "stderr",
     "output_type": "stream",
     "text": [
      " * Running on http://127.0.0.1:5000/ (Press CTRL+C to quit)\n",
      "127.0.0.1 - - [17/Jul/2019 02:01:53] \"GET / HTTP/1.1\" 200 -\n"
     ]
    }
   ],
   "source": [
    "app.run()"
   ]
  },
  {
   "cell_type": "markdown",
   "metadata": {},
   "source": [
    "---"
   ]
  },
  {
   "cell_type": "markdown",
   "metadata": {},
   "source": [
    "### url의 엔드포인트 실수 방지"
   ]
  },
  {
   "cell_type": "code",
   "execution_count": null,
   "metadata": {},
   "outputs": [],
   "source": [
    "app = Flask(__name__)\n",
    "\n",
    "@app.route('/')\n",
    "def index():\n",
    "    return render_template(\"index.html\", posts=posts)\n",
    "\n",
    "\n",
    "# 라우터의 url 끝에 /를 붙이면 있어도 되고, 없어도 된다.\n",
    "@app.route('/about/')\n",
    "def about():\n",
    "    return render_template(\"about.html\", title=\"about\")"
   ]
  },
  {
   "cell_type": "code",
   "execution_count": null,
   "metadata": {},
   "outputs": [],
   "source": [
    "app.run()"
   ]
  },
  {
   "cell_type": "markdown",
   "metadata": {},
   "source": [
    "### 변수 규칙"
   ]
  },
  {
   "cell_type": "markdown",
   "metadata": {},
   "source": [
    "- int  : \taccepts integers\n",
    "- float:\tlike int but for floating point values\n",
    "- path :\tlike the default but also accepts slashes"
   ]
  },
  {
   "cell_type": "code",
   "execution_count": null,
   "metadata": {},
   "outputs": [],
   "source": [
    "app = Flask(__name__)\n",
    "\n",
    "@app.route('/')\n",
    "def index():\n",
    "    return render_template(\"index.html\", posts=posts)\n",
    "\n",
    "\n",
    "# 라우터의 url 끝에 /를 붙이면 있어도 되고, 없어도 된다.\n",
    "@app.route('/board/<title>')\n",
    "def about(title):\n",
    "    return render_template(\"about.html\", title=title)"
   ]
  }
 ],
 "metadata": {
  "kernelspec": {
   "display_name": "Python 3",
   "language": "python",
   "name": "python3"
  },
  "language_info": {
   "codemirror_mode": {
    "name": "ipython",
    "version": 3
   },
   "file_extension": ".py",
   "mimetype": "text/x-python",
   "name": "python",
   "nbconvert_exporter": "python",
   "pygments_lexer": "ipython3",
   "version": "3.7.3"
  }
 },
 "nbformat": 4,
 "nbformat_minor": 2
}

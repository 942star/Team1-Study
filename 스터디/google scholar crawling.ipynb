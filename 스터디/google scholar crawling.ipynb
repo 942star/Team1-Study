{
 "cells": [
  {
   "cell_type": "code",
   "execution_count": 1,
   "metadata": {},
   "outputs": [],
   "source": [
    "from selenium import webdriver"
   ]
  },
  {
   "cell_type": "code",
   "execution_count": 8,
   "metadata": {},
   "outputs": [],
   "source": [
    "import requests"
   ]
  },
  {
   "cell_type": "code",
   "execution_count": 2,
   "metadata": {},
   "outputs": [],
   "source": [
    "driver = webdriver.Chrome()"
   ]
  },
  {
   "cell_type": "code",
   "execution_count": 4,
   "metadata": {},
   "outputs": [],
   "source": [
    "queries = [\"목통\", \"관목통\", \"청풍등\", \"분방기\", \"목방기\", \"광방기\", \n",
    "           \"인진호\", \"면인진\", \"한인진\", \"청호\",\n",
    "           \"마황\", \"목적\", \n",
    "           \"우방자\", \"나복자\", \"결명자\", \"구기자\", \"보골지\",\n",
    "           \"원화\", \"선복화\", \"금은화\", \"감국\",\n",
    "           \"백부자\", \"해백\",\n",
    "           \"감수\", \"대극\", \"파극\",\n",
    "           \"대황\", \"육종용\"]"
   ]
  },
  {
   "cell_type": "code",
   "execution_count": 6,
   "metadata": {},
   "outputs": [],
   "source": [
    "query = queries[0]"
   ]
  },
  {
   "cell_type": "code",
   "execution_count": 32,
   "metadata": {},
   "outputs": [],
   "source": [
    "url = \"https://scholar.google.co.kr/scholar\"\n",
    "params = {\"hl\":\"ko\", \"lr\":\"lang_ko\", \"q\":query}"
   ]
  },
  {
   "cell_type": "code",
   "execution_count": 33,
   "metadata": {},
   "outputs": [],
   "source": [
    "params_get = requests.compat.urlencode(params)"
   ]
  },
  {
   "cell_type": "code",
   "execution_count": 34,
   "metadata": {},
   "outputs": [],
   "source": [
    "q = url + \"?\" + params_get"
   ]
  },
  {
   "cell_type": "code",
   "execution_count": 35,
   "metadata": {},
   "outputs": [
    {
     "data": {
      "text/plain": [
       "'https://scholar.google.co.kr/scholar?hl=ko&lr=lang_ko&q=%EB%AA%A9%ED%86%B5'"
      ]
     },
     "execution_count": 35,
     "metadata": {},
     "output_type": "execute_result"
    }
   ],
   "source": [
    "q"
   ]
  },
  {
   "cell_type": "code",
   "execution_count": 49,
   "metadata": {},
   "outputs": [],
   "source": [
    "driver.get(q)"
   ]
  },
  {
   "cell_type": "markdown",
   "metadata": {},
   "source": [
    "# pdf 이름과 링크 스크래핑"
   ]
  },
  {
   "cell_type": "code",
   "execution_count": 209,
   "metadata": {},
   "outputs": [],
   "source": [
    "pdf_element = driver.find_elements_by_css_selector(\".gs_ggsd div a\")"
   ]
  },
  {
   "cell_type": "code",
   "execution_count": 210,
   "metadata": {},
   "outputs": [
    {
     "data": {
      "text/plain": [
       "[<selenium.webdriver.remote.webelement.WebElement (session=\"89df9e145a2a0e50e9acb732acb238b6\", element=\"0.9066744790920565-1\")>,\n",
       " <selenium.webdriver.remote.webelement.WebElement (session=\"89df9e145a2a0e50e9acb732acb238b6\", element=\"0.9066744790920565-2\")>]"
      ]
     },
     "execution_count": 210,
     "metadata": {},
     "output_type": "execute_result"
    }
   ],
   "source": [
    "pdf_element"
   ]
  },
  {
   "cell_type": "code",
   "execution_count": 211,
   "metadata": {},
   "outputs": [],
   "source": [
    "pdf_links = [_.get_attribute(\"href\") for _ in pdf_element]"
   ]
  },
  {
   "cell_type": "code",
   "execution_count": 212,
   "metadata": {},
   "outputs": [
    {
     "data": {
      "text/plain": [
       "['http://www.e-jar.org/upload/pdf/33702281.pdf',\n",
       " 'http://www.kpubs.org/article/articleDownload.kpubs?downType=pdf&articleANo=DRSRDH_2015_v29n1_18']"
      ]
     },
     "execution_count": 212,
     "metadata": {},
     "output_type": "execute_result"
    }
   ],
   "source": [
    "pdf_links"
   ]
  },
  {
   "cell_type": "code",
   "execution_count": 373,
   "metadata": {},
   "outputs": [],
   "source": [
    "from bs4 import BeautifulSoup"
   ]
  },
  {
   "cell_type": "code",
   "execution_count": 374,
   "metadata": {},
   "outputs": [],
   "source": [
    "dom = BeautifulSoup(driver.page_source, \"lxml\")"
   ]
  },
  {
   "cell_type": "code",
   "execution_count": 377,
   "metadata": {},
   "outputs": [],
   "source": [
    "tttt = dom.select(\".gs_ggsd div a\")[0]"
   ]
  },
  {
   "cell_type": "code",
   "execution_count": 378,
   "metadata": {},
   "outputs": [
    {
     "data": {
      "text/plain": [
       "<div class=\"gs_or_ggsm\" ontouchstart=\"gs_evt_dsp(event)\" tabindex=\"-1\"><a data-clk=\"hl=ko&amp;sa=T&amp;oi=gga&amp;ct=gga&amp;cd=1&amp;d=7878480517168995721&amp;ei=HYRGXdSXGIO1yQSR6IaQBQ\" data-clk-atid=\"iZ2x00n8VW0J\" href=\"http://www.e-jar.org/upload/pdf/33702281.pdf\"><span class=\"gs_ctg2\">[PDF]</span> e-jar.org</a></div>"
      ]
     },
     "execution_count": 378,
     "metadata": {},
     "output_type": "execute_result"
    }
   ],
   "source": [
    "tttt.parent"
   ]
  },
  {
   "cell_type": "markdown",
   "metadata": {},
   "source": [
    "---"
   ]
  },
  {
   "cell_type": "markdown",
   "metadata": {},
   "source": [
    "### 시행착오s..."
   ]
  },
  {
   "cell_type": "code",
   "execution_count": 125,
   "metadata": {},
   "outputs": [
    {
     "data": {
      "text/plain": [
       "'[PDF] 음곡에 시술한 목통약침이 흰쥐의 급성 신장염에 미치는 영향'"
      ]
     },
     "execution_count": 125,
     "metadata": {},
     "output_type": "execute_result"
    }
   ],
   "source": [
    "# xpath로 제목 찾기...\n",
    "# 이건 못 쓸거 같군....\n",
    "# 의외로 쓸 수 있었따!\n",
    "\n",
    "driver.find_element_by_xpath('//*[@id=\"gs_res_ccl_mid\"]/div[2]/div[1]/div/../following-sibling::div/h3').text"
   ]
  },
  {
   "cell_type": "code",
   "execution_count": 184,
   "metadata": {},
   "outputs": [
    {
     "data": {
      "text/plain": [
       "'[PDF] 음곡에 시술한 목통약침이 흰쥐의 급성 신장염에 미치는 영향'"
      ]
     },
     "execution_count": 184,
     "metadata": {},
     "output_type": "execute_result"
    }
   ],
   "source": [
    "# 현재 위치는 a 태그이다.\n",
    "# \"//div\" 가  자기랑 제일 가까운 애를 찾아준거 같다. 정확하지 않음...\n",
    "\n",
    "tt[1].find_element_by_xpath(\"//div/../following-sibling::div/h3\").text"
   ]
  },
  {
   "cell_type": "code",
   "execution_count": 213,
   "metadata": {},
   "outputs": [],
   "source": [
    "# 현재 위치는 a 태그이다.\n",
    "# \"//div\" 가  자기랑 제일 가까운 애를 찾아준거 같다. 정확하지 않음...\n",
    "\n",
    "pdf_names = [_.find_element_by_xpath(\"//div/../following-sibling::div/h3\").text for _ in pdf_element]"
   ]
  },
  {
   "cell_type": "code",
   "execution_count": 214,
   "metadata": {},
   "outputs": [
    {
     "data": {
      "text/plain": [
       "['[PDF] 음곡에 시술한 목통약침이 흰쥐의 급성 신장염에 미치는 영향',\n",
       " '[PDF] 음곡에 시술한 목통약침이 흰쥐의 급성 신장염에 미치는 영향']"
      ]
     },
     "execution_count": 214,
     "metadata": {},
     "output_type": "execute_result"
    }
   ],
   "source": [
    "pdf_names"
   ]
  },
  {
   "cell_type": "markdown",
   "metadata": {},
   "source": [
    "---"
   ]
  },
  {
   "cell_type": "markdown",
   "metadata": {},
   "source": [
    "# 페이지 넘어가기"
   ]
  },
  {
   "cell_type": "code",
   "execution_count": 369,
   "metadata": {},
   "outputs": [],
   "source": [
    "c = driver.find_element_by_css_selector(\".gs_ico.gs_ico_nav_current\")\n",
    "n = c.find_element_by_xpath(\"//span/b\")"
   ]
  },
  {
   "cell_type": "code",
   "execution_count": 370,
   "metadata": {},
   "outputs": [
    {
     "data": {
      "text/plain": [
       "'span'"
      ]
     },
     "execution_count": 370,
     "metadata": {},
     "output_type": "execute_result"
    }
   ],
   "source": [
    "c.tag_name"
   ]
  },
  {
   "cell_type": "code",
   "execution_count": 371,
   "metadata": {},
   "outputs": [
    {
     "data": {
      "text/plain": [
       "'목통'"
      ]
     },
     "execution_count": 371,
     "metadata": {},
     "output_type": "execute_result"
    }
   ],
   "source": [
    "n.text"
   ]
  },
  {
   "cell_type": "code",
   "execution_count": 331,
   "metadata": {},
   "outputs": [
    {
     "data": {
      "text/plain": [
       "<selenium.webdriver.remote.webelement.WebElement (session=\"89df9e145a2a0e50e9acb732acb238b6\", element=\"0.6364253086071523-1\")>"
      ]
     },
     "execution_count": 331,
     "metadata": {},
     "output_type": "execute_result"
    }
   ],
   "source": [
    "# 현재 페이지\n",
    "\n",
    "c_page = driver.find_element_by_css_selector(\".gs_ico.gs_ico_nav_current\")\n",
    "c_page"
   ]
  },
  {
   "cell_type": "code",
   "execution_count": 352,
   "metadata": {},
   "outputs": [
    {
     "data": {
      "text/plain": [
       "'https://scholar.google.co.kr/scholar?start=0&q=%EB%AA%A9%ED%86%B5&hl=ko&lr=lang_ko&as_sdt=0,5'"
      ]
     },
     "execution_count": 352,
     "metadata": {},
     "output_type": "execute_result"
    }
   ],
   "source": [
    "n_page = c_page.find_element_by_xpath(\"//td/following-sibling::td/a\").get_attribute('href')\n",
    "n_page"
   ]
  },
  {
   "cell_type": "code",
   "execution_count": 330,
   "metadata": {},
   "outputs": [],
   "source": [
    "driver.get(n_page)"
   ]
  },
  {
   "cell_type": "code",
   "execution_count": 327,
   "metadata": {},
   "outputs": [],
   "source": [
    "tt = c_page.find_element_by_xpath(\"//td/following-sibling::*[1]\")"
   ]
  },
  {
   "cell_type": "code",
   "execution_count": 328,
   "metadata": {},
   "outputs": [],
   "source": [
    "tt.get_attribute(\"href\")"
   ]
  },
  {
   "cell_type": "code",
   "execution_count": 293,
   "metadata": {},
   "outputs": [
    {
     "data": {
      "text/plain": [
       "<selenium.webdriver.remote.webelement.WebElement (session=\"89df9e145a2a0e50e9acb732acb238b6\", element=\"0.49775541408631896-1\")>"
      ]
     },
     "execution_count": 293,
     "metadata": {},
     "output_type": "execute_result"
    }
   ],
   "source": [
    "tt.find_element_by_css_selector(\"span\")"
   ]
  },
  {
   "cell_type": "code",
   "execution_count": 268,
   "metadata": {},
   "outputs": [],
   "source": [
    "next_page = c_page.find_element_by_xpath(\"//td/following-sibling::td\")"
   ]
  },
  {
   "cell_type": "code",
   "execution_count": 269,
   "metadata": {},
   "outputs": [],
   "source": [
    "next_page.click()"
   ]
  },
  {
   "cell_type": "code",
   "execution_count": null,
   "metadata": {},
   "outputs": [],
   "source": []
  }
 ],
 "metadata": {
  "kernelspec": {
   "display_name": "Python 3",
   "language": "python",
   "name": "python3"
  },
  "language_info": {
   "codemirror_mode": {
    "name": "ipython",
    "version": 3
   },
   "file_extension": ".py",
   "mimetype": "text/x-python",
   "name": "python",
   "nbconvert_exporter": "python",
   "pygments_lexer": "ipython3",
   "version": "3.7.3"
  }
 },
 "nbformat": 4,
 "nbformat_minor": 2
}

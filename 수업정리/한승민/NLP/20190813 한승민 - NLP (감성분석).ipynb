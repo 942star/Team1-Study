{
 "cells": [
  {
   "cell_type": "code",
   "execution_count": 1,
   "metadata": {},
   "outputs": [],
   "source": [
    "from nltk.tokenize import word_tokenize\n",
    "import sqlite3\n",
    "\n",
    "\n",
    "conn = sqlite3.connect('news.db')\n",
    "cur = conn.cursor()\n",
    "\n",
    "query = \"\"\"\n",
    "    SELECT id, url, content, date\n",
    "    FROM news;\n",
    "\"\"\"\n",
    "cur.execute(query)\n",
    "corpus = cur.fetchall()\n",
    "corpus = [news[2] for news in corpus]"
   ]
  },
  {
   "cell_type": "code",
   "execution_count": 2,
   "metadata": {},
   "outputs": [
    {
     "name": "stderr",
     "output_type": "stream",
     "text": [
      "C:\\Users\\u\\Anaconda3\\lib\\site-packages\\jpype\\_core.py:210: UserWarning: \n",
      "-------------------------------------------------------------------------------\n",
      "Deprecated: convertStrings was not specified when starting the JVM. The default\n",
      "behavior in JPype will be False starting in JPype 0.8. The recommended setting\n",
      "for new code is convertStrings=False.  The legacy value of True was assumed for\n",
      "this session. If you are a user of an application that reported this warning,\n",
      "please file a ticket with the developer.\n",
      "-------------------------------------------------------------------------------\n",
      "\n",
      "  \"\"\")\n"
     ]
    }
   ],
   "source": [
    "from konlpy.tag import Kkma\n",
    "from collections import defaultdict\n",
    "\n",
    "\n",
    "pos_tag = Kkma().pos\n",
    "\n",
    "kkmaTDM = defaultdict(lambda: defaultdict(int))\n",
    "for i, d in enumerate(corpus):\n",
    "    for t in [_[0] for _ in pos_tag(d)\n",
    "             if _[1].startswith(\"N\") or _[1].startswith(\"V\")\n",
    "             if len(_[0]) > 1]:\n",
    "        kkmaTDM[t][i] += 1"
   ]
  },
  {
   "cell_type": "code",
   "execution_count": 3,
   "metadata": {},
   "outputs": [],
   "source": [
    "from konlpy.tag import Hannanum\n",
    "from collections import defaultdict\n",
    "\n",
    "\n",
    "pos_tag = Hannanum().pos\n",
    "\n",
    "hanTDM = defaultdict(lambda: defaultdict(int))\n",
    "for i, d in enumerate(corpus):\n",
    "    for t in [_[0] for _ in pos_tag(d)\n",
    "             if _[1] in ['N', 'P']\n",
    "             if len(_[0]) > 1]:\n",
    "        hanTDM[t][i] += 1"
   ]
  },
  {
   "cell_type": "code",
   "execution_count": 4,
   "metadata": {},
   "outputs": [],
   "source": [
    "# sorted([{t: len(docList)} for t, docList in kkmaTDM.items()],\n",
    "#        key=lambda x: sum(x.values()), reverse=True)"
   ]
  },
  {
   "cell_type": "code",
   "execution_count": 5,
   "metadata": {},
   "outputs": [],
   "source": [
    "from math import log2\n",
    "\n",
    "\n",
    "pSeed = ['노력', '한국', '평화']\n",
    "nSeed = ['규제', '일본', '비판']\n",
    "\n",
    "N = len(corpus)\n",
    "\n",
    "pSeedDF = list(kkmaTDM[pSeed[0]])\n",
    "nSeedDF = list(kkmaTDM[nSeed[0]])\n",
    "\n",
    "pProbY = len(pSeedDF) / N\n",
    "nProbY = len(nSeedDF) / N\n",
    "\n",
    "posPMI = defaultdict(float)\n",
    "negPMI = defaultdict(float)\n",
    "\n",
    "posNormPMI = defaultdict(float)\n",
    "negNormPMI = defaultdict(float)\n",
    "\n",
    "for t in kkmaTDM:\n",
    "    termDF = list(kkmaTDM[t])\n",
    "    pX = len(termDF) / N\n",
    "    posXY = (len(set(pSeedDF).intersection(termDF)) + 1) / N\n",
    "    negXY = (len(set(nSeedDF).intersection(termDF)) + 1) / N\n",
    "    \n",
    "    posPMI[t] = log2(posXY / (pX + pProbY))\n",
    "    negPMI[t] = log2(negXY / (pX + nProbY))\n",
    "    \n",
    "    posNormPMI[t] = posXY / -log2(posXY)\n",
    "    negNormPMI[t] = negXY / -log2(negXY)\n",
    "    \n",
    "#     # p(x ㅌ X) = df(t), t ㅌ V(kkmaTDM.keys) / N\n",
    "#     # p(y ㅌ Y) = df(pSeed[0]), y ㅌ V(kkmaTDM.keys) / N\n",
    "#     # P(x, y) = df(t) - df(pSeed[0]) / N"
   ]
  },
  {
   "cell_type": "code",
   "execution_count": 6,
   "metadata": {},
   "outputs": [
    {
     "data": {
      "text/plain": [
       "[('노력', -0.5849625007211563),\n",
       " ('남방', -0.5849625007211563),\n",
       " ('스틸웰', -0.7369655941662062),\n",
       " ('동맹', -0.7369655941662062),\n",
       " ('한미', -0.7369655941662062),\n",
       " ('현종', -0.7369655941662062),\n",
       " ('데이', -0.7369655941662062),\n",
       " ('비드', -0.7369655941662062),\n",
       " ('신임', -0.7369655941662062),\n",
       " ('동아시아', -0.7369655941662062)]"
      ]
     },
     "execution_count": 6,
     "metadata": {},
     "output_type": "execute_result"
    }
   ],
   "source": [
    "sorted(posPMI.items(), key=lambda x: x[1], reverse=True)[:10]"
   ]
  },
  {
   "cell_type": "code",
   "execution_count": 7,
   "metadata": {},
   "outputs": [],
   "source": [
    "SO = defaultdict(float)\n",
    "nSO = defaultdict(float)\n",
    "\n",
    "for t in kkmaTDM:\n",
    "    SO[t] = posPMI[t] - negPMI[t]\n",
    "    nSO[t] = posNormPMI[t] - negNormPMI[t]"
   ]
  },
  {
   "cell_type": "code",
   "execution_count": 8,
   "metadata": {},
   "outputs": [
    {
     "data": {
      "text/plain": [
       "[('규제', -0.1969870030478118),\n",
       " ('지나', -0.14493994627171375),\n",
       " ('뉴스', -0.14358426495672572),\n",
       " ('기자', -0.14358426495672572),\n",
       " ('정부', -0.12706765645682155),\n",
       " ('아니', -0.12706765645682155),\n",
       " ('경제', -0.12706765645682155),\n",
       " ('한국', -0.11526124895155697),\n",
       " ('일본', -0.11526124895155697),\n",
       " ('위하', -0.11526124895155697)]"
      ]
     },
     "execution_count": 8,
     "metadata": {},
     "output_type": "execute_result"
    }
   ],
   "source": [
    "sorted(nSO.items(), key=lambda x:x[1], reverse=True)[:10],\n",
    "sorted(nSO.items(), key=lambda x:x[1])[:10]"
   ]
  },
  {
   "cell_type": "code",
   "execution_count": 9,
   "metadata": {},
   "outputs": [],
   "source": [
    "pSeed = ['노력', '한국', '평화']\n",
    "nSeed = ['규제', '일본', '비판']\n",
    "\n",
    "N = len(corpus)\n",
    "\n",
    "for i in range(len(pSeed)):\n",
    "    pSeedDF = list(kkmaTDM[pSeed[i]])\n",
    "    nSeedDF = list(kkmaTDM[nSeed[i]])\n",
    "\n",
    "    pProbY = len(pSeedDF) / N\n",
    "    nProbY = len(nSeedDF) / N\n",
    "\n",
    "    posPMI = defaultdict(lambda:defaultdict(float))\n",
    "    negPMI = defaultdict(lambda:defaultdict(float))\n",
    "\n",
    "    posNormPMI = defaultdict(lambda:defaultdict(float))\n",
    "    negNormPMI = defaultdict(lambda:defaultdict(float))\n",
    "\n",
    "    for t in kkmaTDM:\n",
    "        termDF = list(kkmaTDM[t])\n",
    "        pX = len(termDF) / N\n",
    "        posXY = (len(set(pSeedDF).intersection(termDF)) + 1) / N\n",
    "        negXY = (len(set(nSeedDF).intersection(termDF)) + 1) / N\n",
    "\n",
    "        posPMI[pSeed[i]][t] = log2(posXY / (pX + pProbY))\n",
    "        negPMI[pSeed[i]][t] = log2(negXY / (pX + nProbY))\n",
    "\n",
    "        posNormPMI[pSeed[i]][t] = posPMI[pSeed[i]][t] / -log2(posXY)\n",
    "        negNormPMI[nSeed[i]][t] = negPMI[nSeed[i]][t] / -log2(negXY)"
   ]
  },
  {
   "cell_type": "code",
   "execution_count": 10,
   "metadata": {},
   "outputs": [],
   "source": [
    "SO = defaultdict(float)\n",
    "nSO = defaultdict(float)\n",
    "\n",
    "for t in kkmaTDM:\n",
    "    for i in range(len(pSeed)):\n",
    "        SO[t] += posPMI[pSeed[i]][t] - negPMI[nSeed[i]][t]\n",
    "        nSO[t] += posNormPMI[pSeed[i]][t] - negNormPMI[nSeed[i]][t]"
   ]
  },
  {
   "cell_type": "code",
   "execution_count": 11,
   "metadata": {},
   "outputs": [
    {
     "data": {
      "text/plain": [
       "[('기자', -1.0),\n",
       " ('17', -0.9463946303571861),\n",
       " ('뉴스', -0.9463946303571861),\n",
       " ('대하', -0.9266284080291269),\n",
       " ('무단', -0.8842282173954807),\n",
       " ('배포', -0.8842282173954807),\n",
       " ('금지', -0.8842282173954807),\n",
       " ('네이버', -0.8738421406894301),\n",
       " ('위하', -0.8532568160582538),\n",
       " ('구독', -0.8532568160582538)]"
      ]
     },
     "execution_count": 11,
     "metadata": {},
     "output_type": "execute_result"
    }
   ],
   "source": [
    "sorted(nSO.items(), key=lambda x:x[1], reverse=True)[:10],\n",
    "sorted(nSO.items(), key=lambda x:x[1])[:10]"
   ]
  },
  {
   "cell_type": "code",
   "execution_count": 12,
   "metadata": {},
   "outputs": [
    {
     "name": "stdout",
     "output_type": "stream",
     "text": [
      "1번그룹: 노력, 한국, 평화\n",
      "2번그룹: 규제, 일본, 비판\n",
      "\n",
      "1번째 문서: SO=-1135.2086377034666|0, NSO=-245.08583555431738|2\n",
      "2번째 문서: SO=-1135.2086377034666|0, NSO=-245.08583555431738|2\n",
      "3번째 문서: SO=-624.1898360187596|0, NSO=-160.98752119325593|2\n",
      "4번째 문서: SO=-560.3825024680659|0, NSO=-120.59128988761321|2\n",
      "5번째 문서: SO=-1200.730230664284|0, NSO=-257.4234661076898|2\n",
      "6번째 문서: SO=-1055.2686302516704|0, NSO=-224.37725115005438|2\n",
      "7번째 문서: SO=-279.29549239561817|0, NSO=-58.03169711844651|2\n",
      "8번째 문서: SO=-607.8409135659078|0, NSO=-144.28044186931717|2\n",
      "9번째 문서: SO=-815.1404187447162|0, NSO=-180.51087918161645|2\n",
      "10번째 문서: SO=-712.510958101813|0, NSO=-151.26590901095693|2\n",
      "11번째 문서: SO=-811.1448163005731|0, NSO=-202.3471724490118|2\n",
      "12번째 문서: SO=-1269.0634680356181|0, NSO=-264.2064749668834|2\n",
      "13번째 문서: SO=-976.337887165768|0, NSO=-202.3334506520634|2\n",
      "14번째 문서: SO=-792.4805264051308|0, NSO=-162.8790963555916|2\n",
      "15번째 문서: SO=-1051.625110703815|0, NSO=-221.68641952537664|2\n",
      "16번째 문서: SO=-1216.5614891509088|0, NSO=-261.03271253916444|2\n",
      "17번째 문서: SO=-548.6612515146758|0, NSO=-126.5712020235761|2\n",
      "18번째 문서: SO=-658.3971987144896|0, NSO=-133.32069596821427|2\n",
      "19번째 문서: SO=-484.423905493081|0, NSO=-98.79625902231489|2\n",
      "20번째 문서: SO=-625.9670600583853|0, NSO=-128.79521306180234|2\n",
      "21번째 문서: SO=-950.3926019423927|0, NSO=-215.14129660879274|2\n",
      "22번째 문서: SO=-405.94890510853315|0, NSO=-102.25319249919468|2\n",
      "23번째 문서: SO=-822.6311824077176|0, NSO=-170.37081964919196|2\n",
      "24번째 문서: SO=-269.48006409132773|0, NSO=-61.238587668297086|2\n",
      "25번째 문서: SO=-631.9457326239271|0, NSO=-136.3975485766963|2\n",
      "26번째 문서: SO=-755.6037122257284|0, NSO=-160.3441218071558|2\n",
      "27번째 문서: SO=-638.2861468275682|0, NSO=-133.3888593333146|2\n",
      "28번째 문서: SO=-932.2955622411442|0, NSO=-200.35195191557855|2\n",
      "29번째 문서: SO=-1019.222296575846|0, NSO=-221.84393150268892|2\n",
      "30번째 문서: SO=-531.3340586898947|0, NSO=-109.55438980717496|2\n",
      "31번째 문서: SO=-1247.3132977633868|0, NSO=-274.46025258901045|2\n",
      "32번째 문서: SO=-1126.4006486133464|0, NSO=-237.60715854868684|2\n",
      "33번째 문서: SO=-580.2647596362241|0, NSO=-121.88096538198553|2\n",
      "34번째 문서: SO=-696.2181717390872|0, NSO=-141.842135550932|2\n",
      "35번째 문서: SO=-471.2090762408859|0, NSO=-104.06277885594162|2\n",
      "36번째 문서: SO=-316.98114069009927|0, NSO=-67.80575776837192|2\n"
     ]
    }
   ],
   "source": [
    "pos_tag = Kkma().pos\n",
    "\n",
    "print('1번그룹:', ', '.join(pSeed))\n",
    "print('2번그룹:', ', '.join(nSeed))\n",
    "print()\n",
    "\n",
    "for i, d in enumerate(corpus):\n",
    "    docSO = 0.\n",
    "    docNSO = 0.\n",
    "\n",
    "    for t in [_[0] for _ in pos_tag(d)\n",
    "              if _[1].startswith(\"N\") or _[1].startswith(\"V\")\n",
    "              if len(_[0]) > 1]:\n",
    "        docSO += SO[t]\n",
    "        docNSO += nSO[t]\n",
    "    print(f'{i+1}번째 문서: SO={docSO}|{1 if docSO > 0 else 0}, NSO={docNSO}|{1 if docNSO > 0 else 2}')"
   ]
  },
  {
   "cell_type": "code",
   "execution_count": 13,
   "metadata": {},
   "outputs": [
    {
     "data": {
      "text/plain": [
       "[('기자', -1.0),\n",
       " ('17', -0.9463946303571861),\n",
       " ('뉴스', -0.9463946303571861),\n",
       " ('대하', -0.9266284080291269),\n",
       " ('무단', -0.8842282173954807),\n",
       " ('배포', -0.8842282173954807),\n",
       " ('금지', -0.8842282173954807),\n",
       " ('네이버', -0.8738421406894301),\n",
       " ('위하', -0.8532568160582538),\n",
       " ('구독', -0.8532568160582538),\n",
       " ('전재', -0.8532568160582538),\n",
       " ('밝히', -0.8518938829506677),\n",
       " ('지나', -0.8368288369533895),\n",
       " ('한국', -0.8197015881601898),\n",
       " ('말하', -0.8154648767857288),\n",
       " ('따르', -0.8018128829347333),\n",
       " ('보이', -0.8018128829347333),\n",
       " ('나오', -0.7966397701969122),\n",
       " ('경제', -0.7906232373022846),\n",
       " ('상황', -0.7830918514469462),\n",
       " ('설명', -0.7830918514469462),\n",
       " ('시간', -0.7788935082334042),\n",
       " ('사진', -0.7788935082334042),\n",
       " ('아니', -0.7758642925363403),\n",
       " ('내용', -0.7556957972346928),\n",
       " ('결과', -0.7556957972346928),\n",
       " ('일본', -0.7404120793976952),\n",
       " ('통하', -0.7404120793976952),\n",
       " ('규제', -0.7364429698681167),\n",
       " ('20', -0.7364429698681167)]"
      ]
     },
     "execution_count": 13,
     "metadata": {},
     "output_type": "execute_result"
    }
   ],
   "source": [
    "sorted(nSO.items(), key=lambda x:x[1])[:30]"
   ]
  }
 ],
 "metadata": {
  "kernelspec": {
   "display_name": "Python 3",
   "language": "python",
   "name": "python3"
  },
  "language_info": {
   "codemirror_mode": {
    "name": "ipython",
    "version": 3
   },
   "file_extension": ".py",
   "mimetype": "text/x-python",
   "name": "python",
   "nbconvert_exporter": "python",
   "pygments_lexer": "ipython3",
   "version": "3.7.3"
  },
  "varInspector": {
   "cols": {
    "lenName": 16,
    "lenType": 16,
    "lenVar": 40
   },
   "kernels_config": {
    "python": {
     "delete_cmd_postfix": "",
     "delete_cmd_prefix": "del ",
     "library": "var_list.py",
     "varRefreshCmd": "print(var_dic_list())"
    },
    "r": {
     "delete_cmd_postfix": ") ",
     "delete_cmd_prefix": "rm(",
     "library": "var_list.r",
     "varRefreshCmd": "cat(var_dic_list()) "
    }
   },
   "types_to_exclude": [
    "module",
    "function",
    "builtin_function_or_method",
    "instance",
    "_Feature"
   ],
   "window_display": false
  }
 },
 "nbformat": 4,
 "nbformat_minor": 2
}

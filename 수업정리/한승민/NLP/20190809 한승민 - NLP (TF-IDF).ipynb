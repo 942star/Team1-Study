{
 "cells": [
  {
   "cell_type": "markdown",
   "metadata": {},
   "source": [
    "# NLP: Search Engine"
   ]
  },
  {
   "cell_type": "code",
   "execution_count": 1,
   "metadata": {},
   "outputs": [],
   "source": [
    "from nltk.tokenize import word_tokenize\n",
    "import sqlite3\n",
    "\n",
    "conn = sqlite3.connect('news.db')\n",
    "cur = conn.cursor()\n",
    "\n",
    "\n",
    "def 어절(sentence, n=2):\n",
    "    tokens = word_tokenize(sentence)\n",
    "    return [\n",
    "        tuple(tokens[token:token + n])\n",
    "        for token in range(len(tokens) - (n - 1))\n",
    "    ]\n",
    "\n",
    "\n",
    "def 음절(sentence, n=2):\n",
    "    tokens = list(sentence)\n",
    "    return [''.join(tokens[i:i + n]) for i in range(len(tokens))]"
   ]
  },
  {
   "cell_type": "code",
   "execution_count": 2,
   "metadata": {},
   "outputs": [],
   "source": [
    "query = \"\"\"\n",
    "    SELECT id, url, content, date\n",
    "    FROM news;\n",
    "\"\"\"\n",
    "cur.execute(query)\n",
    "corpus = cur.fetchall()\n",
    "corpus = [news[2] for news in corpus]"
   ]
  },
  {
   "cell_type": "markdown",
   "metadata": {},
   "source": [
    "---"
   ]
  },
  {
   "cell_type": "code",
   "execution_count": 3,
   "metadata": {},
   "outputs": [
    {
     "data": {
      "text/plain": [
       "'!\"#$%&\\'()*+,-./:;<=>?@[\\\\]^_`{|}~'"
      ]
     },
     "execution_count": 3,
     "metadata": {},
     "output_type": "execute_result"
    }
   ],
   "source": [
    "import re\n",
    "from string import punctuation\n",
    "punctuation"
   ]
  },
  {
   "cell_type": "code",
   "execution_count": 4,
   "metadata": {},
   "outputs": [],
   "source": [
    "pattern1 = re.compile(f'{re.escape(punctuation)}')\n",
    "pattern2 = re.compile(r'[A-Za-z]{5,}')\n",
    "pattern3 = re.compile(r'[^ 0-9A-Za-z가-힣]')\n",
    "pattern4 = re.compile(r'\\n{2,}')"
   ]
  },
  {
   "cell_type": "code",
   "execution_count": 5,
   "metadata": {},
   "outputs": [],
   "source": [
    "collection = [\n",
    "    pattern4.sub('',\n",
    "                 pattern3.sub('',\n",
    "                              pattern2.sub('',\n",
    "                                           pattern1.sub('', _)))).strip()\n",
    "    for _ in corpus\n",
    "]"
   ]
  },
  {
   "cell_type": "markdown",
   "metadata": {},
   "source": [
    "- Tokenizer (어절, 형태소, ngram)\n",
    "- ngram: Stemming / Normalization (길이, 빈도) --> stopwording"
   ]
  },
  {
   "cell_type": "code",
   "execution_count": 6,
   "metadata": {},
   "outputs": [
    {
     "data": {
      "text/plain": [
       "(515, 515)"
      ]
     },
     "execution_count": 6,
     "metadata": {},
     "output_type": "execute_result"
    }
   ],
   "source": [
    "len(word_tokenize(collection[0])), len(collection[0].split())"
   ]
  },
  {
   "cell_type": "code",
   "execution_count": 7,
   "metadata": {},
   "outputs": [
    {
     "data": {
      "text/plain": [
       "(515, 514, 2146)"
      ]
     },
     "execution_count": 7,
     "metadata": {},
     "output_type": "execute_result"
    }
   ],
   "source": [
    "len(collection[0].split()), len(어절(collection[0])), len(음절(collection[0]))"
   ]
  },
  {
   "cell_type": "code",
   "execution_count": 8,
   "metadata": {},
   "outputs": [
    {
     "name": "stderr",
     "output_type": "stream",
     "text": [
      "C:\\Users\\u\\Anaconda3\\lib\\site-packages\\jpype\\_core.py:210: UserWarning: \n",
      "-------------------------------------------------------------------------------\n",
      "Deprecated: convertStrings was not specified when starting the JVM. The default\n",
      "behavior in JPype will be False starting in JPype 0.8. The recommended setting\n",
      "for new code is convertStrings=False.  The legacy value of True was assumed for\n",
      "this session. If you are a user of an application that reported this warning,\n",
      "please file a ticket with the developer.\n",
      "-------------------------------------------------------------------------------\n",
      "\n",
      "  \"\"\")\n"
     ]
    }
   ],
   "source": [
    "from konlpy.tag import Kkma\n",
    "kkma = Kkma()"
   ]
  },
  {
   "cell_type": "code",
   "execution_count": 9,
   "metadata": {},
   "outputs": [],
   "source": [
    "Vocabulary = []\n",
    "\n",
    "for _ in collection:\n",
    "    Vocabulary.extend(_.split())\n",
    "    Vocabulary.extend(어절(_))\n",
    "    Vocabulary.extend(음절(_))\n",
    "    Vocabulary.extend(kkma.morphs(_))"
   ]
  },
  {
   "cell_type": "code",
   "execution_count": 10,
   "metadata": {},
   "outputs": [
    {
     "data": {
      "text/plain": [
       "(110740, 28262)"
      ]
     },
     "execution_count": 10,
     "metadata": {},
     "output_type": "execute_result"
    }
   ],
   "source": [
    "len(Vocabulary), len(set(Vocabulary))"
   ]
  },
  {
   "cell_type": "code",
   "execution_count": 11,
   "metadata": {},
   "outputs": [],
   "source": [
    "Vocabulary = [_ for _ in list(set(Vocabulary)) if 1 < len(_) < 6]"
   ]
  },
  {
   "cell_type": "code",
   "execution_count": 12,
   "metadata": {},
   "outputs": [
    {
     "data": {
      "text/plain": [
       "26849"
      ]
     },
     "execution_count": 12,
     "metadata": {},
     "output_type": "execute_result"
    }
   ],
   "source": [
    "len(Vocabulary)"
   ]
  },
  {
   "cell_type": "code",
   "execution_count": 13,
   "metadata": {},
   "outputs": [],
   "source": [
    "BoM = []\n",
    "for d in collection:\n",
    "    docVector = [0 for _ in range(len(Vocabulary))]\n",
    "    BoMCollection = d.split() + 어절(d) + 음절(d) + kkma.morphs(d)\n",
    "    for _ in BoMCollection:\n",
    "        if _ in Vocabulary:\n",
    "            docVector[Vocabulary.index(_)] = 1\n",
    "    BoM.append(docVector)"
   ]
  },
  {
   "cell_type": "markdown",
   "metadata": {},
   "source": [
    "BoM의 문제점은 Sparse하다 (복잡도가 증가한다)"
   ]
  },
  {
   "cell_type": "code",
   "execution_count": 14,
   "metadata": {
    "scrolled": true
   },
   "outputs": [
    {
     "data": {
      "text/plain": [
       "[(1753, 25096),\n",
       " (1753, 25096),\n",
       " (1156, 25693),\n",
       " (1321, 25528),\n",
       " (1745, 25104),\n",
       " (1451, 25398),\n",
       " (625, 26224),\n",
       " (1073, 25776),\n",
       " (1387, 25462),\n",
       " (1195, 25654),\n",
       " (1690, 25159),\n",
       " (2229, 24620),\n",
       " (1545, 25304),\n",
       " (1137, 25712),\n",
       " (1825, 25024),\n",
       " (1969, 24880),\n",
       " (1070, 25779),\n",
       " (1089, 25760),\n",
       " (933, 25916),\n",
       " (1030, 25819),\n",
       " (1433, 25416),\n",
       " (1274, 25575),\n",
       " (1612, 25237),\n",
       " (572, 26277),\n",
       " (1311, 25538),\n",
       " (1359, 25490),\n",
       " (1312, 25537),\n",
       " (1507, 25342),\n",
       " (1644, 25205),\n",
       " (976, 25873),\n",
       " (1844, 25005),\n",
       " (1774, 25075),\n",
       " (1074, 25775),\n",
       " (945, 25904),\n",
       " (848, 26001),\n",
       " (635, 26214)]"
      ]
     },
     "execution_count": 14,
     "metadata": {},
     "output_type": "execute_result"
    }
   ],
   "source": [
    "[(sum(_), len(Vocabulary) - sum(_)) for _ in BoM]"
   ]
  },
  {
   "cell_type": "code",
   "execution_count": 15,
   "metadata": {},
   "outputs": [],
   "source": [
    "Query = ['대통령', '청와대']\n",
    "totalResult = []\n",
    "for q in Query:\n",
    "    searchResult = []\n",
    "    for i, d in enumerate(BoM):\n",
    "        for j, b in enumerate(d):\n",
    "            if b == 1 and j == Vocabulary.index(q):\n",
    "                searchResult.append(i)\n",
    "                break\n",
    "    totalResult.append(searchResult)"
   ]
  },
  {
   "cell_type": "code",
   "execution_count": 16,
   "metadata": {},
   "outputs": [
    {
     "data": {
      "text/plain": [
       "{0, 1, 30}"
      ]
     },
     "execution_count": 16,
     "metadata": {},
     "output_type": "execute_result"
    }
   ],
   "source": [
    "set(totalResult[0]).intersection(totalResult[1])"
   ]
  },
  {
   "cell_type": "markdown",
   "metadata": {},
   "source": [
    "## DTM & TDM"
   ]
  },
  {
   "cell_type": "markdown",
   "metadata": {},
   "source": [
    "밑의 코드처럼 DTM과 TDM으로 자료구조를 만들어 놓으면 loop를 줄일 수 있다."
   ]
  },
  {
   "cell_type": "code",
   "execution_count": 17,
   "metadata": {},
   "outputs": [],
   "source": [
    "from collections import defaultdict\n",
    "\n",
    "DTM = defaultdict(lambda: defaultdict(int))\n",
    "for i, d in enumerate(BoM):\n",
    "    for j, t in enumerate(d):\n",
    "        if t == 1:\n",
    "            DTM[i][j] = t"
   ]
  },
  {
   "cell_type": "code",
   "execution_count": 18,
   "metadata": {},
   "outputs": [
    {
     "data": {
      "text/plain": [
       "1753"
      ]
     },
     "execution_count": 18,
     "metadata": {},
     "output_type": "execute_result"
    }
   ],
   "source": [
    "sum(DTM[0].values())"
   ]
  },
  {
   "cell_type": "code",
   "execution_count": 19,
   "metadata": {},
   "outputs": [],
   "source": [
    "TDM = defaultdict(lambda: defaultdict(int))\n",
    "\n",
    "for i, termDict in DTM.items():\n",
    "    for j, b in termDict.items():\n",
    "        TDM[j][i] = b"
   ]
  },
  {
   "cell_type": "code",
   "execution_count": 20,
   "metadata": {},
   "outputs": [],
   "source": [
    "searchResult = []\n",
    "for q in Query:\n",
    "    j = Vocabulary.index(q)\n",
    "    searchResult.append(list(TDM[j].keys()))"
   ]
  },
  {
   "cell_type": "code",
   "execution_count": 21,
   "metadata": {},
   "outputs": [
    {
     "data": {
      "text/plain": [
       "{0, 1, 30}"
      ]
     },
     "execution_count": 21,
     "metadata": {},
     "output_type": "execute_result"
    }
   ],
   "source": [
    "set(totalResult[0]).intersection(totalResult[1])"
   ]
  },
  {
   "cell_type": "markdown",
   "metadata": {},
   "source": [
    "### 성능 차이\n",
    "Q = Query, D = Full Documents라고 했을 때,\n",
    "- BoM = O(|Q| * D * |D|)\n",
    "- TDM = O(|Q| * avg(|D|))"
   ]
  },
  {
   "cell_type": "code",
   "execution_count": 22,
   "metadata": {},
   "outputs": [],
   "source": [
    "termVector = list(\n",
    "    list(0 for _ in range(len(collection))) for _ in range(len(Vocabulary)))\n",
    "for j, docDict in TDM.items():\n",
    "    for i in range(len(collection)):\n",
    "        termVector[j][i] = docDict[i]"
   ]
  },
  {
   "cell_type": "code",
   "execution_count": 23,
   "metadata": {},
   "outputs": [],
   "source": [
    "import numpy as np\n",
    "_BoM = np.array(termVector)"
   ]
  },
  {
   "cell_type": "code",
   "execution_count": 24,
   "metadata": {},
   "outputs": [
    {
     "data": {
      "text/plain": [
       "1753"
      ]
     },
     "execution_count": 24,
     "metadata": {},
     "output_type": "execute_result"
    }
   ],
   "source": [
    "sum(_BoM.T[0])"
   ]
  },
  {
   "cell_type": "code",
   "execution_count": 25,
   "metadata": {},
   "outputs": [
    {
     "data": {
      "text/plain": [
       "1753"
      ]
     },
     "execution_count": 25,
     "metadata": {},
     "output_type": "execute_result"
    }
   ],
   "source": [
    "sum(BoM[0])"
   ]
  },
  {
   "cell_type": "code",
   "execution_count": 26,
   "metadata": {},
   "outputs": [
    {
     "data": {
      "text/plain": [
       "array([0, 0, 0, 0, 0, 0, 0, 0, 0, 0, 0, 0, 0, 0, 0, 0, 0, 0, 0, 0, 0, 0,\n",
       "       0, 0, 0, 0, 0, 0, 0, 0, 0, 0, 1, 0, 0, 0])"
      ]
     },
     "execution_count": 26,
     "metadata": {},
     "output_type": "execute_result"
    }
   ],
   "source": [
    "_BoM[0]"
   ]
  },
  {
   "cell_type": "code",
   "execution_count": 27,
   "metadata": {},
   "outputs": [],
   "source": [
    "D = [['A', 'B'], ['C', 'D'], ['A', 'C']]\n",
    "\n",
    "Dictionary = defaultdict(lambda: -1)\n",
    "Postings = []\n",
    "\n",
    "V = []\n",
    "\n",
    "for j, d in enumerate(D):\n",
    "    for t in d:\n",
    "        if t not in V:\n",
    "            V.append(t)\n",
    "        i = V.index(t)\n",
    "        nextPosition = Dictionary[i]\n",
    "        _struct = (j, 1, nextPosition)\n",
    "        Dictionary[i] = len(Postings)\n",
    "        Postings.append(_struct)"
   ]
  },
  {
   "cell_type": "code",
   "execution_count": 28,
   "metadata": {},
   "outputs": [
    {
     "data": {
      "text/plain": [
       "defaultdict(<function __main__.<lambda>()>, {0: 4, 1: 1, 2: 5, 3: 3})"
      ]
     },
     "execution_count": 28,
     "metadata": {},
     "output_type": "execute_result"
    }
   ],
   "source": [
    "Dictionary"
   ]
  },
  {
   "cell_type": "code",
   "execution_count": 29,
   "metadata": {},
   "outputs": [
    {
     "data": {
      "text/plain": [
       "[(0, 1, -1), (0, 1, -1), (1, 1, -1), (1, 1, -1), (2, 1, 0), (2, 1, 2)]"
      ]
     },
     "execution_count": 29,
     "metadata": {},
     "output_type": "execute_result"
    }
   ],
   "source": [
    "Postings"
   ]
  },
  {
   "cell_type": "code",
   "execution_count": 30,
   "metadata": {},
   "outputs": [
    {
     "name": "stdout",
     "output_type": "stream",
     "text": [
      "3번째 문서, 1번, 다음 위치: 2\n",
      "2번째 문서, 1번, 다음 위치: -1\n"
     ]
    }
   ],
   "source": [
    "Q = ['C']\n",
    "\n",
    "for q in Q:\n",
    "    i = V.index(q)\n",
    "    nextPosition = Dictionary[i]\n",
    "    while True:\n",
    "        _struct = Postings[nextPosition]\n",
    "        nextPosition = _struct[2]\n",
    "        print(f'{_struct[0]+1}번째 문서, {_struct[1]}번, 다음 위치: {_struct[2]}')\n",
    "\n",
    "        if nextPosition == -1:\n",
    "            break"
   ]
  },
  {
   "cell_type": "markdown",
   "metadata": {},
   "source": [
    "---"
   ]
  },
  {
   "cell_type": "markdown",
   "metadata": {},
   "source": [
    "posting된 데이터들을 파일로 저장한다."
   ]
  },
  {
   "cell_type": "code",
   "execution_count": 31,
   "metadata": {},
   "outputs": [],
   "source": [
    "D = [['A', 'B'], ['C', 'D'], ['A', 'C']]\n",
    "\n",
    "Dictionary = defaultdict(lambda: -1)\n",
    "Postings = open('postings.dst', 'w')\n",
    "\n",
    "V = []\n",
    "\n",
    "for j, d in enumerate(D):\n",
    "    for t in d:\n",
    "        if t not in V:\n",
    "            V.append(t)\n",
    "        i = V.index(t)\n",
    "        nextPosition = Dictionary[i]\n",
    "        _struct = (str(j), str(1), str(nextPosition))\n",
    "        Dictionary[i] = Postings.tell()\n",
    "        Postings.write(','.join(_struct) + '\\n')\n",
    "Postings.close()"
   ]
  },
  {
   "cell_type": "code",
   "execution_count": 32,
   "metadata": {},
   "outputs": [
    {
     "name": "stdout",
     "output_type": "stream",
     "text": [
      "3번째 문서, 1번, 다음 위치: 16\n",
      "\n",
      "2번째 문서, 1번, 다음 위치: -1\n",
      "\n"
     ]
    }
   ],
   "source": [
    "Q = ['C']\n",
    "Postings = open('postings.dst')\n",
    "\n",
    "for q in Q:\n",
    "    i = V.index(q)\n",
    "    nextPosition = Dictionary[i]\n",
    "    while True:\n",
    "        Postings.seek(nextPosition)\n",
    "        _struct = Postings.readline().split(',')\n",
    "        nextPosition = int(_struct[2])\n",
    "        print(f'{int(_struct[0])+1}번째 문서, {_struct[1]}번, 다음 위치: {_struct[2]}')\n",
    "\n",
    "        if nextPosition == -1:\n",
    "            break\n",
    "Postings.close()"
   ]
  },
  {
   "cell_type": "markdown",
   "metadata": {},
   "source": [
    "---"
   ]
  },
  {
   "cell_type": "markdown",
   "metadata": {},
   "source": [
    "posting된 데이터들을 byte 형식으로 저장한다.\n",
    "- https://docs.python.org/2/library/struct.html"
   ]
  },
  {
   "cell_type": "code",
   "execution_count": 33,
   "metadata": {},
   "outputs": [],
   "source": [
    "from struct import pack\n",
    "\n",
    "D = [['A', 'B'], ['C', 'D'], ['A', 'C']]\n",
    "\n",
    "Dictionary = defaultdict(lambda: -1)\n",
    "Postings = open('postings.dst', 'wb')\n",
    "\n",
    "V = []\n",
    "\n",
    "for j, d in enumerate(D):\n",
    "    for t in d:\n",
    "        if t not in V:\n",
    "            V.append(t)\n",
    "        i = V.index(t)\n",
    "        nextPosition = Dictionary[i]\n",
    "        _struct = pack('iii', j, 1, nextPosition)\n",
    "        Dictionary[i] = Postings.tell()\n",
    "        Postings.write(_struct)\n",
    "Postings.close()"
   ]
  },
  {
   "cell_type": "code",
   "execution_count": 34,
   "metadata": {},
   "outputs": [
    {
     "name": "stdout",
     "output_type": "stream",
     "text": [
      "b'\\x00\\x00\\x00\\x00\\x01\\x00\\x00\\x00\\xff\\xff\\xff\\xff\\x00\\x00\\x00\\x00\\x01\\x00\\x00\\x00\\xff\\xff\\xff\\xff\\x01\\x00\\x00\\x00\\x01\\x00\\x00\\x00\\xff\\xff\\xff\\xff\\x01\\x00\\x00\\x00\\x01\\x00\\x00\\x00\\xff\\xff\\xff\\xff\\x02\\x00\\x00\\x00\\x01\\x00\\x00\\x00\\x00\\x00\\x00\\x00\\x02\\x00\\x00\\x00\\x01\\x00\\x00\\x00\\x18\\x00\\x00\\x00'\n"
     ]
    }
   ],
   "source": [
    "with open('postings.dst', 'rb') as fp:\n",
    "    print(fp.read())"
   ]
  },
  {
   "cell_type": "code",
   "execution_count": 35,
   "metadata": {},
   "outputs": [
    {
     "name": "stdout",
     "output_type": "stream",
     "text": [
      "3번째 문서, 1번, 다음 위치: 24\n",
      "2번째 문서, 1번, 다음 위치: -1\n"
     ]
    }
   ],
   "source": [
    "from struct import unpack\n",
    "\n",
    "Q = ['C']\n",
    "Postings = open(\"postings.dst\", 'rb')\n",
    "\n",
    "for q in Q:\n",
    "    i = V.index(q)\n",
    "    nextPosition = Dictionary[i]\n",
    "    while True:\n",
    "        Postings.seek(nextPosition)\n",
    "        _struct = unpack(\"iii\", Postings.read(4 * 3))\n",
    "        nextPosition = int(_struct[2])\n",
    "        print(f'{int(_struct[0])+1}번째 문서, {_struct[1]}번, 다음 위치: {_struct[2]}')\n",
    "\n",
    "        if nextPosition == -1:\n",
    "            break\n",
    "Postings.close()"
   ]
  },
  {
   "cell_type": "code",
   "execution_count": 36,
   "metadata": {},
   "outputs": [],
   "source": [
    "D = [\n",
    "    ['A', 'B'],\n",
    "    ['C', 'D'],\n",
    "    ['A', 'C'],\n",
    "]\n",
    "\n",
    "TDM = defaultdict(lambda: defaultdict(int))\n",
    "Dictionary = defaultdict(lambda: -1)\n",
    "\n",
    "V = list()\n",
    "for j, d in enumerate(D):\n",
    "    for t in d:\n",
    "        if t not in V:\n",
    "            V.append(t)\n",
    "        i = V.index(t)\n",
    "        TDM[i][j] = 1"
   ]
  },
  {
   "cell_type": "code",
   "execution_count": 37,
   "metadata": {},
   "outputs": [
    {
     "name": "stdout",
     "output_type": "stream",
     "text": [
      "0번째 문서, 1번\n",
      "2번째 문서, 1번\n",
      "1번째 문서, 1번\n",
      "2번째 문서, 1번\n"
     ]
    }
   ],
   "source": [
    "Q = ['A', 'C']\n",
    "\n",
    "for q in Q:\n",
    "    i = V.index(q)\n",
    "    nextPosition = Dictionary[i]\n",
    "    for d, b in TDM[i].items():\n",
    "        print(f'{d}번째 문서, {b}번')"
   ]
  },
  {
   "cell_type": "markdown",
   "metadata": {},
   "source": [
    "## 자료구조에 빈도까지 포함하기"
   ]
  },
  {
   "cell_type": "code",
   "execution_count": 38,
   "metadata": {},
   "outputs": [],
   "source": [
    "V = []\n",
    "D = []\n",
    "\n",
    "DTM = defaultdict(lambda: defaultdict(int))\n",
    "\n",
    "for d in collection:\n",
    "    i = len(D)\n",
    "    D.append(i)\n",
    "\n",
    "    for t in [_[0] for _ in kkma.pos(d) if _[1].startswith('N')]:\n",
    "        if t not in V:\n",
    "            V.append(t)\n",
    "        j = V.index(t)\n",
    "        DTM[i][j] += 1"
   ]
  },
  {
   "cell_type": "code",
   "execution_count": 39,
   "metadata": {},
   "outputs": [
    {
     "data": {
      "text/plain": [
       "(3165, 36)"
      ]
     },
     "execution_count": 39,
     "metadata": {},
     "output_type": "execute_result"
    }
   ],
   "source": [
    "len(V), len(D)"
   ]
  },
  {
   "cell_type": "code",
   "execution_count": 40,
   "metadata": {},
   "outputs": [],
   "source": [
    "TDM = defaultdict(lambda: defaultdict(int))\n",
    "\n",
    "for i, terms in DTM.items():\n",
    "    for j, f in terms.items():\n",
    "        TDM[j][i] = f"
   ]
  },
  {
   "cell_type": "code",
   "execution_count": 41,
   "metadata": {},
   "outputs": [],
   "source": [
    "# for j, docs in TDM.items():\n",
    "#     for i, f in docs.items():\n",
    "#         print(V[j], D[i], f)\n",
    "#     print()"
   ]
  },
  {
   "cell_type": "markdown",
   "metadata": {},
   "source": [
    "---"
   ]
  },
  {
   "cell_type": "markdown",
   "metadata": {},
   "source": [
    "Posting해서 파일로 저장하는 방식"
   ]
  },
  {
   "cell_type": "code",
   "execution_count": 42,
   "metadata": {},
   "outputs": [],
   "source": [
    "V = []\n",
    "D = []\n",
    "Dictionary = defaultdict(lambda: -1)\n",
    "Postings = []\n",
    "\n",
    "DTM = defaultdict(lambda: defaultdict(int))\n",
    "\n",
    "for d in collection:\n",
    "    i = len(D)\n",
    "    D.append(i)\n",
    "    localPostings = defaultdict(int)\n",
    "\n",
    "    for t in [_[0] for _ in kkma.pos(d) if _[1].startswith('N')]:\n",
    "        if t not in V:\n",
    "            V.append(t)\n",
    "        j = V.index(t)\n",
    "        localPostings[j] += 1\n",
    "\n",
    "    for j, f in localPostings.items():\n",
    "        nextPosition = Dictionary[j]\n",
    "        _struct = (i, f, nextPosition)\n",
    "        Dictionary[j] = len(Postings)\n",
    "        Postings.append(_struct)"
   ]
  },
  {
   "cell_type": "code",
   "execution_count": 43,
   "metadata": {
    "scrolled": true
   },
   "outputs": [],
   "source": [
    "for j, _ in enumerate(V):\n",
    "    nextPosition = Dictionary[j]\n",
    "    while True:\n",
    "        _struct = Postings[nextPosition]\n",
    "        nextPosition = _struct[2]\n",
    "#         print(V[j], D[_struct[0]], _struct[1])\n",
    "\n",
    "        if nextPosition == -1:\n",
    "            break"
   ]
  },
  {
   "cell_type": "markdown",
   "metadata": {},
   "source": [
    "---"
   ]
  },
  {
   "cell_type": "code",
   "execution_count": null,
   "metadata": {},
   "outputs": [],
   "source": [
    "V = []\n",
    "D = []\n",
    "Dictionary = defaultdict(lambda: -1)\n",
    "Postings = open('postings.dst', 'w')\n",
    "\n",
    "DTM = defaultdict(lambda: defaultdict(int))\n",
    "\n",
    "for d in collection:\n",
    "    i = len(D)\n",
    "    D.append(i)\n",
    "    localPostings = defaultdict(int)\n",
    "\n",
    "    for t in [_[0] for _ in kkma.pos(d) if _[1].startswith('N')]:\n",
    "        if t not in V:\n",
    "            V.append(t)\n",
    "        j = V.index(t)\n",
    "        localPostings[j] += 1\n",
    "\n",
    "    for j, f in localPostings.items():\n",
    "        nextPosition = Dictionary[j]\n",
    "        _struct = (i, f, nextPosition)\n",
    "        Dictionary[j] = Postings.tell()\n",
    "        Postings.write(f'{_struct[0]},{_struct[1]},{_struct[2]}\\n')\n",
    "Postings.close()"
   ]
  },
  {
   "cell_type": "code",
   "execution_count": null,
   "metadata": {},
   "outputs": [],
   "source": [
    "with open(\"postings.dst\") as Postings:\n",
    "    for j in range(len(V)):\n",
    "        nextPosition = Dictionary[j]\n",
    "        while True:\n",
    "            Postings.seek(nextPosition)\n",
    "            _struct = Postings.readline().split(',')\n",
    "            nextPosition = int(_struct[2])\n",
    "#             print(V[int(j)], D[int(_struct[0])], _struct[1])\n",
    "\n",
    "            if nextPosition == -1:\n",
    "                break"
   ]
  },
  {
   "cell_type": "markdown",
   "metadata": {},
   "source": [
    "---"
   ]
  },
  {
   "cell_type": "code",
   "execution_count": null,
   "metadata": {},
   "outputs": [],
   "source": [
    "V = []\n",
    "D = []\n",
    "Dictionary = defaultdict(lambda: -1)\n",
    "Postings = open('postings.dst', 'wb')\n",
    "\n",
    "DTM = defaultdict(lambda: defaultdict(int))\n",
    "\n",
    "for d in collection:\n",
    "    i = len(D)\n",
    "    D.append(i)\n",
    "    localPostings = defaultdict(int)\n",
    "\n",
    "    for t in [_[0] for _ in kkma.pos(d) if _[1].startswith('N')]:\n",
    "        if t not in V:\n",
    "            V.append(t)\n",
    "        j = V.index(t)\n",
    "        localPostings[j] += 1\n",
    "\n",
    "    for j, f in localPostings.items():\n",
    "        nextPosition = Dictionary[j]\n",
    "        _struct = (i, f, nextPosition)\n",
    "        Dictionary[j] = Postings.tell()\n",
    "        Postings.write(pack('3i', i, f, nextPosition))\n",
    "Postings.close()"
   ]
  },
  {
   "cell_type": "code",
   "execution_count": null,
   "metadata": {},
   "outputs": [],
   "source": [
    "with open(\"postings.dst\", \"rb\") as Postings:\n",
    "    for j in range(len(V)):\n",
    "        nextPosition = Dictionary[j]\n",
    "        while True:\n",
    "            Postings.seek(nextPosition)\n",
    "            _struct = unpack(\"3i\", Postings.read(12))\n",
    "            nextPosition = _struct[2]\n",
    "#             print(V[j], D[_struct[0]], _struct[1])\n",
    "            if nextPosition == -1:\n",
    "                break"
   ]
  },
  {
   "cell_type": "markdown",
   "metadata": {},
   "source": [
    "---"
   ]
  },
  {
   "cell_type": "markdown",
   "metadata": {},
   "source": [
    "# TF-IDF\n",
    "- [TF-IDF Wikipidia](https://en.wikipedia.org/wiki/Tf%E2%80%93idf)"
   ]
  },
  {
   "cell_type": "code",
   "execution_count": null,
   "metadata": {},
   "outputs": [],
   "source": [
    "DTM = defaultdict(lambda: defaultdict(int))\n",
    "for i, d in enumerate(BoM):\n",
    "    for j, t in enumerate(d):\n",
    "        if t == 1:\n",
    "            DTM[i][j] = t"
   ]
  },
  {
   "cell_type": "code",
   "execution_count": null,
   "metadata": {},
   "outputs": [],
   "source": [
    "TDM = defaultdict(lambda: defaultdict(int))\n",
    "\n",
    "for i, termDict in DTM.items():\n",
    "    for j, b in termDict.items():\n",
    "        TDM[j][i] = b"
   ]
  },
  {
   "cell_type": "markdown",
   "metadata": {},
   "source": [
    "## TF\n",
    "<div align=\"left\">\n",
    "<table class=\"wikitable\" style=\"float: top; margin-left: 0; margin-right: 1.5em; margin-top: 0;\">\n",
    "<caption>Variants of term frequency (tf) weight\n",
    "</caption>\n",
    "<tbody><tr>\n",
    "<th>weighting scheme\n",
    "</th>\n",
    "<th>tf weight\n",
    "</th></tr>\n",
    "<tr>\n",
    "<td>binary</td>\n",
    "<td><span class=\"mwe-math-element\"><span class=\"mwe-math-mathml-inline mwe-math-mathml-a11y\" style=\"display: none;\"><math xmlns=\"http://www.w3.org/1998/Math/MathML\"  alttext=\"{\\displaystyle {0,1}}\">\n",
    "  <semantics>\n",
    "    <mrow class=\"MJX-TeXAtom-ORD\">\n",
    "      <mstyle displaystyle=\"true\" scriptlevel=\"0\">\n",
    "        <mrow class=\"MJX-TeXAtom-ORD\">\n",
    "          <mn>0</mn>\n",
    "          <mo>,</mo>\n",
    "          <mn>1</mn>\n",
    "        </mrow>\n",
    "      </mstyle>\n",
    "    </mrow>\n",
    "    <annotation encoding=\"application/x-tex\">{\\displaystyle {0,1}}</annotation>\n",
    "  </semantics>\n",
    "</math></span><img src=\"https://wikimedia.org/api/rest_v1/media/math/render/svg/a019735e07635e5a74673d6e1a34919027e645f5\" class=\"mwe-math-fallback-image-inline\" aria-hidden=\"true\" style=\"vertical-align: -0.671ex; width:3.359ex; height:2.509ex;\" alt=\"{0,1}\"/></span>\n",
    "</td></tr>\n",
    "<tr>\n",
    "<td>raw count</td>\n",
    "<td><span class=\"mwe-math-element\"><span class=\"mwe-math-mathml-inline mwe-math-mathml-a11y\" style=\"display: none;\"><math xmlns=\"http://www.w3.org/1998/Math/MathML\"  alttext=\"{\\displaystyle f_{t,d}}\">\n",
    "  <semantics>\n",
    "    <mrow class=\"MJX-TeXAtom-ORD\">\n",
    "      <mstyle displaystyle=\"true\" scriptlevel=\"0\">\n",
    "        <msub>\n",
    "          <mi>f</mi>\n",
    "          <mrow class=\"MJX-TeXAtom-ORD\">\n",
    "            <mi>t</mi>\n",
    "            <mo>,</mo>\n",
    "            <mi>d</mi>\n",
    "          </mrow>\n",
    "        </msub>\n",
    "      </mstyle>\n",
    "    </mrow>\n",
    "    <annotation encoding=\"application/x-tex\">{\\displaystyle f_{t,d}}</annotation>\n",
    "  </semantics>\n",
    "</math></span><img src=\"https://wikimedia.org/api/rest_v1/media/math/render/svg/69faba5875c1ba7d6a3820c813ba22fba35185f5\" class=\"mwe-math-fallback-image-inline\" aria-hidden=\"true\" style=\"vertical-align: -1.005ex; width:3.282ex; height:2.843ex;\" alt=\"f_{{t,d}}\"/></span>\n",
    "</td></tr>\n",
    "<tr>\n",
    "<td>term frequency\n",
    "</td>\n",
    "<td><span class=\"mwe-math-element\"><span class=\"mwe-math-mathml-inline mwe-math-mathml-a11y\" style=\"display: none;\"><math xmlns=\"http://www.w3.org/1998/Math/MathML\"  alttext=\"{\\displaystyle f_{t,d}{\\Bigg /}{\\sum _{t'\\in d}{f_{t',d}}}}\">\n",
    "  <semantics>\n",
    "    <mrow class=\"MJX-TeXAtom-ORD\">\n",
    "      <mstyle displaystyle=\"true\" scriptlevel=\"0\">\n",
    "        <msub>\n",
    "          <mi>f</mi>\n",
    "          <mrow class=\"MJX-TeXAtom-ORD\">\n",
    "            <mi>t</mi>\n",
    "            <mo>,</mo>\n",
    "            <mi>d</mi>\n",
    "          </mrow>\n",
    "        </msub>\n",
    "        <mrow class=\"MJX-TeXAtom-ORD\">\n",
    "          <mrow class=\"MJX-TeXAtom-ORD\">\n",
    "            <mo fence=\"true\" stretchy=\"true\" symmetric=\"true\" maxsize=\"2.470em\" minsize=\"2.470em\">/</mo>\n",
    "          </mrow>\n",
    "        </mrow>\n",
    "        <mrow class=\"MJX-TeXAtom-ORD\">\n",
    "          <munder>\n",
    "            <mo>&#x2211;<!-- ∑ --></mo>\n",
    "            <mrow class=\"MJX-TeXAtom-ORD\">\n",
    "              <msup>\n",
    "                <mi>t</mi>\n",
    "                <mo>&#x2032;</mo>\n",
    "              </msup>\n",
    "              <mo>&#x2208;<!-- ∈ --></mo>\n",
    "              <mi>d</mi>\n",
    "            </mrow>\n",
    "          </munder>\n",
    "          <mrow class=\"MJX-TeXAtom-ORD\">\n",
    "            <msub>\n",
    "              <mi>f</mi>\n",
    "              <mrow class=\"MJX-TeXAtom-ORD\">\n",
    "                <msup>\n",
    "                  <mi>t</mi>\n",
    "                  <mo>&#x2032;</mo>\n",
    "                </msup>\n",
    "                <mo>,</mo>\n",
    "                <mi>d</mi>\n",
    "              </mrow>\n",
    "            </msub>\n",
    "          </mrow>\n",
    "        </mrow>\n",
    "      </mstyle>\n",
    "    </mrow>\n",
    "    <annotation encoding=\"application/x-tex\">{\\displaystyle f_{t,d}{\\Bigg /}{\\sum _{t'\\in d}{f_{t',d}}}}</annotation>\n",
    "  </semantics>\n",
    "</math></span><img src=\"https://wikimedia.org/api/rest_v1/media/math/render/svg/91699003abf4fe8bdf861bbce08e73e71acf5fd4\" class=\"mwe-math-fallback-image-inline\" aria-hidden=\"true\" style=\"vertical-align: -3.338ex; width:13.808ex; height:7.676ex;\" alt=\"{\\displaystyle f_{t,d}{\\Bigg /}{\\sum _{t&#039;\\in d}{f_{t&#039;,d}}}}\"/></span>\n",
    "</td></tr>\n",
    "<tr>\n",
    "<td>log normalization</td>\n",
    "<td><span class=\"mwe-math-element\"><span class=\"mwe-math-mathml-inline mwe-math-mathml-a11y\" style=\"display: none;\"><math xmlns=\"http://www.w3.org/1998/Math/MathML\"  alttext=\"{\\displaystyle \\log(1+f_{t,d})}\">\n",
    "  <semantics>\n",
    "    <mrow class=\"MJX-TeXAtom-ORD\">\n",
    "      <mstyle displaystyle=\"true\" scriptlevel=\"0\">\n",
    "        <mi>log</mi>\n",
    "        <mo>&#x2061;<!-- ⁡ --></mo>\n",
    "        <mo stretchy=\"false\">(</mo>\n",
    "        <mn>1</mn>\n",
    "        <mo>+</mo>\n",
    "        <msub>\n",
    "          <mi>f</mi>\n",
    "          <mrow class=\"MJX-TeXAtom-ORD\">\n",
    "            <mi>t</mi>\n",
    "            <mo>,</mo>\n",
    "            <mi>d</mi>\n",
    "          </mrow>\n",
    "        </msub>\n",
    "        <mo stretchy=\"false\">)</mo>\n",
    "      </mstyle>\n",
    "    </mrow>\n",
    "    <annotation encoding=\"application/x-tex\">{\\displaystyle \\log(1+f_{t,d})}</annotation>\n",
    "  </semantics>\n",
    "</math></span><img src=\"https://wikimedia.org/api/rest_v1/media/math/render/svg/9c173382612c58c00325c4e9f593739ab3afc324\" class=\"mwe-math-fallback-image-inline\" aria-hidden=\"true\" style=\"vertical-align: -1.005ex; width:12.066ex; height:3.009ex;\" alt=\"\\log(1+f_{{t,d}})\"/></span>\n",
    "</td></tr>\n",
    "<tr>\n",
    "<td>double normalization 0.5</td>\n",
    "<td><span class=\"mwe-math-element\"><span class=\"mwe-math-mathml-inline mwe-math-mathml-a11y\" style=\"display: none;\"><math xmlns=\"http://www.w3.org/1998/Math/MathML\"  alttext=\"{\\displaystyle 0.5+0.5\\cdot {\\frac {f_{t,d}}{\\max _{\\{t'\\in d\\}}{f_{t',d}}}}}\">\n",
    "  <semantics>\n",
    "    <mrow class=\"MJX-TeXAtom-ORD\">\n",
    "      <mstyle displaystyle=\"true\" scriptlevel=\"0\">\n",
    "        <mn>0.5</mn>\n",
    "        <mo>+</mo>\n",
    "        <mn>0.5</mn>\n",
    "        <mo>&#x22C5;<!-- ⋅ --></mo>\n",
    "        <mrow class=\"MJX-TeXAtom-ORD\">\n",
    "          <mfrac>\n",
    "            <msub>\n",
    "              <mi>f</mi>\n",
    "              <mrow class=\"MJX-TeXAtom-ORD\">\n",
    "                <mi>t</mi>\n",
    "                <mo>,</mo>\n",
    "                <mi>d</mi>\n",
    "              </mrow>\n",
    "            </msub>\n",
    "            <mrow>\n",
    "              <munder>\n",
    "                <mo movablelimits=\"true\" form=\"prefix\">max</mo>\n",
    "                <mrow class=\"MJX-TeXAtom-ORD\">\n",
    "                  <mo fence=\"false\" stretchy=\"false\">{</mo>\n",
    "                  <msup>\n",
    "                    <mi>t</mi>\n",
    "                    <mo>&#x2032;</mo>\n",
    "                  </msup>\n",
    "                  <mo>&#x2208;<!-- ∈ --></mo>\n",
    "                  <mi>d</mi>\n",
    "                  <mo fence=\"false\" stretchy=\"false\">}</mo>\n",
    "                </mrow>\n",
    "              </munder>\n",
    "              <mrow class=\"MJX-TeXAtom-ORD\">\n",
    "                <msub>\n",
    "                  <mi>f</mi>\n",
    "                  <mrow class=\"MJX-TeXAtom-ORD\">\n",
    "                    <msup>\n",
    "                      <mi>t</mi>\n",
    "                      <mo>&#x2032;</mo>\n",
    "                    </msup>\n",
    "                    <mo>,</mo>\n",
    "                    <mi>d</mi>\n",
    "                  </mrow>\n",
    "                </msub>\n",
    "              </mrow>\n",
    "            </mrow>\n",
    "          </mfrac>\n",
    "        </mrow>\n",
    "      </mstyle>\n",
    "    </mrow>\n",
    "    <annotation encoding=\"application/x-tex\">{\\displaystyle 0.5+0.5\\cdot {\\frac {f_{t,d}}{\\max _{\\{t'\\in d\\}}{f_{t',d}}}}}</annotation>\n",
    "  </semantics>\n",
    "</math></span><img src=\"https://wikimedia.org/api/rest_v1/media/math/render/svg/45badc1c70ec2caa00ed8c21ed75bd9f8d3e650c\" class=\"mwe-math-fallback-image-inline\" aria-hidden=\"true\" style=\"vertical-align: -2.838ex; width:24.783ex; height:6.676ex;\" alt=\"{\\displaystyle 0.5+0.5\\cdot {\\frac {f_{t,d}}{\\max _{\\{t&#039;\\in d\\}}{f_{t&#039;,d}}}}}\"/></span>\n",
    "</td></tr>\n",
    "<tr>\n",
    "<td>double normalization K</td>\n",
    "<td><span class=\"mwe-math-element\"><span class=\"mwe-math-mathml-inline mwe-math-mathml-a11y\" style=\"display: none;\"><math xmlns=\"http://www.w3.org/1998/Math/MathML\"  alttext=\"{\\displaystyle K+(1-K){\\frac {f_{t,d}}{\\max _{\\{t'\\in d\\}}{f_{t',d}}}}}\">\n",
    "  <semantics>\n",
    "    <mrow class=\"MJX-TeXAtom-ORD\">\n",
    "      <mstyle displaystyle=\"true\" scriptlevel=\"0\">\n",
    "        <mi>K</mi>\n",
    "        <mo>+</mo>\n",
    "        <mo stretchy=\"false\">(</mo>\n",
    "        <mn>1</mn>\n",
    "        <mo>&#x2212;<!-- − --></mo>\n",
    "        <mi>K</mi>\n",
    "        <mo stretchy=\"false\">)</mo>\n",
    "        <mrow class=\"MJX-TeXAtom-ORD\">\n",
    "          <mfrac>\n",
    "            <msub>\n",
    "              <mi>f</mi>\n",
    "              <mrow class=\"MJX-TeXAtom-ORD\">\n",
    "                <mi>t</mi>\n",
    "                <mo>,</mo>\n",
    "                <mi>d</mi>\n",
    "              </mrow>\n",
    "            </msub>\n",
    "            <mrow>\n",
    "              <munder>\n",
    "                <mo movablelimits=\"true\" form=\"prefix\">max</mo>\n",
    "                <mrow class=\"MJX-TeXAtom-ORD\">\n",
    "                  <mo fence=\"false\" stretchy=\"false\">{</mo>\n",
    "                  <msup>\n",
    "                    <mi>t</mi>\n",
    "                    <mo>&#x2032;</mo>\n",
    "                  </msup>\n",
    "                  <mo>&#x2208;<!-- ∈ --></mo>\n",
    "                  <mi>d</mi>\n",
    "                  <mo fence=\"false\" stretchy=\"false\">}</mo>\n",
    "                </mrow>\n",
    "              </munder>\n",
    "              <mrow class=\"MJX-TeXAtom-ORD\">\n",
    "                <msub>\n",
    "                  <mi>f</mi>\n",
    "                  <mrow class=\"MJX-TeXAtom-ORD\">\n",
    "                    <msup>\n",
    "                      <mi>t</mi>\n",
    "                      <mo>&#x2032;</mo>\n",
    "                    </msup>\n",
    "                    <mo>,</mo>\n",
    "                    <mi>d</mi>\n",
    "                  </mrow>\n",
    "                </msub>\n",
    "              </mrow>\n",
    "            </mrow>\n",
    "          </mfrac>\n",
    "        </mrow>\n",
    "      </mstyle>\n",
    "    </mrow>\n",
    "    <annotation encoding=\"application/x-tex\">{\\displaystyle K+(1-K){\\frac {f_{t,d}}{\\max _{\\{t'\\in d\\}}{f_{t',d}}}}}</annotation>\n",
    "  </semantics>\n",
    "</math></span><img src=\"https://wikimedia.org/api/rest_v1/media/math/render/svg/65b776d7a3f8e42f15c880fb7582282b987684fe\" class=\"mwe-math-fallback-image-inline\" aria-hidden=\"true\" style=\"vertical-align: -2.838ex; width:27.105ex; height:6.676ex;\" alt=\"{\\displaystyle K+(1-K){\\frac {f_{t,d}}{\\max _{\\{t&#039;\\in d\\}}{f_{t&#039;,d}}}}}\"/></span>\n",
    "</td></tr></tbody></table>\n",
    "</div>"
   ]
  },
  {
   "cell_type": "code",
   "execution_count": null,
   "metadata": {},
   "outputs": [],
   "source": [
    "from math import log\n",
    "\n",
    "\n",
    "tf1 = lambda f, tf: f / tf                    # term frequency\n",
    "tf2 = lambda f: log(1+f)                      # log normalization\n",
    "tf3 = lambda f, mf, K=0.5: K + (1-K) * (f/mf) # double normalization K"
   ]
  },
  {
   "cell_type": "code",
   "execution_count": null,
   "metadata": {},
   "outputs": [],
   "source": [
    "tf1(1, 2), tf2(2), tf3(1, 2)"
   ]
  },
  {
   "cell_type": "code",
   "execution_count": null,
   "metadata": {},
   "outputs": [],
   "source": [
    "for j, docs in TDM.items():\n",
    "    for i, f in docs.items():\n",
    "        TF1 = tf1(f, sum(DTM[i].values()))\n",
    "        TF2 = tf2(f)\n",
    "        TF3 = tf3(f, max(DTM[i].values()))\n",
    "        print(V[j], i, TF1, TF2, TF3)\n",
    "    break"
   ]
  },
  {
   "cell_type": "markdown",
   "metadata": {},
   "source": [
    "## IDF\n",
    "<div align=\"left\">\n",
    "<table class=\"wikitable\" style=\"float: top; margin-left: 0; margin-right: 1.5em; margin-top: 0;\">\n",
    "<caption>Variants of inverse document frequency (idf) weight\n",
    "</caption>\n",
    "<tbody><tr>\n",
    "<th>weighting scheme\n",
    "</th>\n",
    "<th>idf weight (<span class=\"mwe-math-element\"><span class=\"mwe-math-mathml-inline mwe-math-mathml-a11y\" style=\"display: none;\"><math xmlns=\"http://www.w3.org/1998/Math/MathML\"  alttext=\"{\\displaystyle n_{t}=|\\{d\\in D:t\\in d\\}|}\">\n",
    "  <semantics>\n",
    "    <mrow class=\"MJX-TeXAtom-ORD\">\n",
    "      <mstyle displaystyle=\"true\" scriptlevel=\"0\">\n",
    "        <msub>\n",
    "          <mi>n</mi>\n",
    "          <mrow class=\"MJX-TeXAtom-ORD\">\n",
    "            <mi>t</mi>\n",
    "          </mrow>\n",
    "        </msub>\n",
    "        <mo>=</mo>\n",
    "        <mrow class=\"MJX-TeXAtom-ORD\">\n",
    "          <mo stretchy=\"false\">|</mo>\n",
    "        </mrow>\n",
    "        <mo fence=\"false\" stretchy=\"false\">{</mo>\n",
    "        <mi>d</mi>\n",
    "        <mo>&#x2208;<!-- ∈ --></mo>\n",
    "        <mi>D</mi>\n",
    "        <mo>:</mo>\n",
    "        <mi>t</mi>\n",
    "        <mo>&#x2208;<!-- ∈ --></mo>\n",
    "        <mi>d</mi>\n",
    "        <mo fence=\"false\" stretchy=\"false\">}</mo>\n",
    "        <mrow class=\"MJX-TeXAtom-ORD\">\n",
    "          <mo stretchy=\"false\">|</mo>\n",
    "        </mrow>\n",
    "      </mstyle>\n",
    "    </mrow>\n",
    "    <annotation encoding=\"application/x-tex\">{\\displaystyle n_{t}=|\\{d\\in D:t\\in d\\}|}</annotation>\n",
    "  </semantics>\n",
    "</math></span><img src=\"https://wikimedia.org/api/rest_v1/media/math/render/svg/e5d6fca54b5ec3fa4680ead41736fc1c16a58ca1\" class=\"mwe-math-fallback-image-inline\" aria-hidden=\"true\" style=\"vertical-align: -0.838ex; width:21.752ex; height:2.843ex;\" alt=\"{\\displaystyle n_{t}=|\\{d\\in D:t\\in d\\}|}\"/></span>)\n",
    "</th></tr>\n",
    "<tr>\n",
    "<td>unary</td>\n",
    "<td>1\n",
    "</td></tr>\n",
    "<tr>\n",
    "<td>inverse document frequency</td>\n",
    "<td><span class=\"mwe-math-element\"><span class=\"mwe-math-mathml-inline mwe-math-mathml-a11y\" style=\"display: none;\"><math xmlns=\"http://www.w3.org/1998/Math/MathML\"  alttext=\"{\\displaystyle \\log {\\frac {N}{n_{t}}}=-\\log {\\frac {n_{t}}{N}}}\">\n",
    "  <semantics>\n",
    "    <mrow class=\"MJX-TeXAtom-ORD\">\n",
    "      <mstyle displaystyle=\"true\" scriptlevel=\"0\">\n",
    "        <mi>log</mi>\n",
    "        <mo>&#x2061;<!-- ⁡ --></mo>\n",
    "        <mrow class=\"MJX-TeXAtom-ORD\">\n",
    "          <mfrac>\n",
    "            <mi>N</mi>\n",
    "            <msub>\n",
    "              <mi>n</mi>\n",
    "              <mrow class=\"MJX-TeXAtom-ORD\">\n",
    "                <mi>t</mi>\n",
    "              </mrow>\n",
    "            </msub>\n",
    "          </mfrac>\n",
    "        </mrow>\n",
    "        <mo>=</mo>\n",
    "        <mo>&#x2212;<!-- − --></mo>\n",
    "        <mi>log</mi>\n",
    "        <mo>&#x2061;<!-- ⁡ --></mo>\n",
    "        <mrow class=\"MJX-TeXAtom-ORD\">\n",
    "          <mfrac>\n",
    "            <msub>\n",
    "              <mi>n</mi>\n",
    "              <mrow class=\"MJX-TeXAtom-ORD\">\n",
    "                <mi>t</mi>\n",
    "              </mrow>\n",
    "            </msub>\n",
    "            <mi>N</mi>\n",
    "          </mfrac>\n",
    "        </mrow>\n",
    "      </mstyle>\n",
    "    </mrow>\n",
    "    <annotation encoding=\"application/x-tex\">{\\displaystyle \\log {\\frac {N}{n_{t}}}=-\\log {\\frac {n_{t}}{N}}}</annotation>\n",
    "  </semantics>\n",
    "</math></span><img src=\"https://wikimedia.org/api/rest_v1/media/math/render/svg/864fcfdc0c16344c11509f724f1aa7081cf9f657\" class=\"mwe-math-fallback-image-inline\" aria-hidden=\"true\" style=\"vertical-align: -2.171ex; width:18.125ex; height:5.509ex;\" alt=\"{\\displaystyle \\log {\\frac {N}{n_{t}}}=-\\log {\\frac {n_{t}}{N}}}\"/></span>\n",
    "</td></tr>\n",
    "<tr>\n",
    "<td>inverse document frequency smooth</td>\n",
    "<td><span class=\"mwe-math-element\"><span class=\"mwe-math-mathml-inline mwe-math-mathml-a11y\" style=\"display: none;\"><math xmlns=\"http://www.w3.org/1998/Math/MathML\"  alttext=\"{\\displaystyle \\log \\left({\\frac {N}{1+n_{t}}}\\right)}\">\n",
    "  <semantics>\n",
    "    <mrow class=\"MJX-TeXAtom-ORD\">\n",
    "      <mstyle displaystyle=\"true\" scriptlevel=\"0\">\n",
    "        <mi>log</mi>\n",
    "        <mo>&#x2061;<!-- ⁡ --></mo>\n",
    "        <mrow>\n",
    "          <mo>(</mo>\n",
    "          <mrow class=\"MJX-TeXAtom-ORD\">\n",
    "            <mfrac>\n",
    "              <mi>N</mi>\n",
    "              <mrow>\n",
    "                <mn>1</mn>\n",
    "                <mo>+</mo>\n",
    "                <msub>\n",
    "                  <mi>n</mi>\n",
    "                  <mrow class=\"MJX-TeXAtom-ORD\">\n",
    "                    <mi>t</mi>\n",
    "                  </mrow>\n",
    "                </msub>\n",
    "              </mrow>\n",
    "            </mfrac>\n",
    "          </mrow>\n",
    "          <mo>)</mo>\n",
    "        </mrow>\n",
    "      </mstyle>\n",
    "    </mrow>\n",
    "    <annotation encoding=\"application/x-tex\">{\\displaystyle \\log \\left({\\frac {N}{1+n_{t}}}\\right)}</annotation>\n",
    "  </semantics>\n",
    "</math></span><img src=\"https://wikimedia.org/api/rest_v1/media/math/render/svg/23e5ae785c1ddc6bd95d404ea3fac2477fff5eff\" class=\"mwe-math-fallback-image-inline\" aria-hidden=\"true\" style=\"vertical-align: -2.505ex; width:13.453ex; height:6.176ex;\" alt=\"{\\displaystyle \\log \\left({\\frac {N}{1+n_{t}}}\\right)}\"/></span>\n",
    "</td></tr>\n",
    "<tr>\n",
    "<td>inverse document frequency max</td>\n",
    "<td><span class=\"mwe-math-element\"><span class=\"mwe-math-mathml-inline mwe-math-mathml-a11y\" style=\"display: none;\"><math xmlns=\"http://www.w3.org/1998/Math/MathML\"  alttext=\"{\\displaystyle \\log \\left({\\frac {\\max _{\\{t'\\in d\\}}n_{t'}}{1+n_{t}}}\\right)}\">\n",
    "  <semantics>\n",
    "    <mrow class=\"MJX-TeXAtom-ORD\">\n",
    "      <mstyle displaystyle=\"true\" scriptlevel=\"0\">\n",
    "        <mi>log</mi>\n",
    "        <mo>&#x2061;<!-- ⁡ --></mo>\n",
    "        <mrow>\n",
    "          <mo>(</mo>\n",
    "          <mrow class=\"MJX-TeXAtom-ORD\">\n",
    "            <mfrac>\n",
    "              <mrow>\n",
    "                <munder>\n",
    "                  <mo movablelimits=\"true\" form=\"prefix\">max</mo>\n",
    "                  <mrow class=\"MJX-TeXAtom-ORD\">\n",
    "                    <mo fence=\"false\" stretchy=\"false\">{</mo>\n",
    "                    <msup>\n",
    "                      <mi>t</mi>\n",
    "                      <mo>&#x2032;</mo>\n",
    "                    </msup>\n",
    "                    <mo>&#x2208;<!-- ∈ --></mo>\n",
    "                    <mi>d</mi>\n",
    "                    <mo fence=\"false\" stretchy=\"false\">}</mo>\n",
    "                  </mrow>\n",
    "                </munder>\n",
    "                <msub>\n",
    "                  <mi>n</mi>\n",
    "                  <mrow class=\"MJX-TeXAtom-ORD\">\n",
    "                    <msup>\n",
    "                      <mi>t</mi>\n",
    "                      <mo>&#x2032;</mo>\n",
    "                    </msup>\n",
    "                  </mrow>\n",
    "                </msub>\n",
    "              </mrow>\n",
    "              <mrow>\n",
    "                <mn>1</mn>\n",
    "                <mo>+</mo>\n",
    "                <msub>\n",
    "                  <mi>n</mi>\n",
    "                  <mrow class=\"MJX-TeXAtom-ORD\">\n",
    "                    <mi>t</mi>\n",
    "                  </mrow>\n",
    "                </msub>\n",
    "              </mrow>\n",
    "            </mfrac>\n",
    "          </mrow>\n",
    "          <mo>)</mo>\n",
    "        </mrow>\n",
    "      </mstyle>\n",
    "    </mrow>\n",
    "    <annotation encoding=\"application/x-tex\">{\\displaystyle \\log \\left({\\frac {\\max _{\\{t'\\in d\\}}n_{t'}}{1+n_{t}}}\\right)}</annotation>\n",
    "  </semantics>\n",
    "</math></span><img src=\"https://wikimedia.org/api/rest_v1/media/math/render/svg/f15c125a1d7f1327afeecc4e2b89272a9a094338\" class=\"mwe-math-fallback-image-inline\" aria-hidden=\"true\" style=\"vertical-align: -2.505ex; width:19.652ex; height:6.176ex;\" alt=\"{\\displaystyle \\log \\left({\\frac {\\max _{\\{t&#039;\\in d\\}}n_{t&#039;}}{1+n_{t}}}\\right)}\"/></span>\n",
    "</td></tr>\n",
    "<tr>\n",
    "<td>probabilistic inverse document frequency</td>\n",
    "<td><span class=\"mwe-math-element\"><span class=\"mwe-math-mathml-inline mwe-math-mathml-a11y\" style=\"display: none;\"><math xmlns=\"http://www.w3.org/1998/Math/MathML\"  alttext=\"{\\displaystyle \\log {\\frac {N-n_{t}}{n_{t}}}}\">\n",
    "  <semantics>\n",
    "    <mrow class=\"MJX-TeXAtom-ORD\">\n",
    "      <mstyle displaystyle=\"true\" scriptlevel=\"0\">\n",
    "        <mi>log</mi>\n",
    "        <mo>&#x2061;<!-- ⁡ --></mo>\n",
    "        <mrow class=\"MJX-TeXAtom-ORD\">\n",
    "          <mfrac>\n",
    "            <mrow>\n",
    "              <mi>N</mi>\n",
    "              <mo>&#x2212;<!-- − --></mo>\n",
    "              <msub>\n",
    "                <mi>n</mi>\n",
    "                <mrow class=\"MJX-TeXAtom-ORD\">\n",
    "                  <mi>t</mi>\n",
    "                </mrow>\n",
    "              </msub>\n",
    "            </mrow>\n",
    "            <msub>\n",
    "              <mi>n</mi>\n",
    "              <mrow class=\"MJX-TeXAtom-ORD\">\n",
    "                <mi>t</mi>\n",
    "              </mrow>\n",
    "            </msub>\n",
    "          </mfrac>\n",
    "        </mrow>\n",
    "      </mstyle>\n",
    "    </mrow>\n",
    "    <annotation encoding=\"application/x-tex\">{\\displaystyle \\log {\\frac {N-n_{t}}{n_{t}}}}</annotation>\n",
    "  </semantics>\n",
    "</math></span><img src=\"https://wikimedia.org/api/rest_v1/media/math/render/svg/1868194cba8431aa2d556dd1aac90d78833eaaf3\" class=\"mwe-math-fallback-image-inline\" aria-hidden=\"true\" style=\"vertical-align: -2.171ex; width:11.32ex; height:5.509ex;\" alt=\"\\log {\\frac  {N-n_{t}}{n_{t}}}\"/></span>\n",
    "</td></tr></tbody></table>\n",
    "</div>"
   ]
  },
  {
   "cell_type": "code",
   "execution_count": null,
   "metadata": {},
   "outputs": [],
   "source": [
    "N = len(D)\n",
    "idf1 = lambda nt: log(N / nt)\n",
    "idf2 = lambda nt: log(1 + N / nt)\n",
    "idf3 = lambda mnt, nt: log(mnt / (1 + nt))\n",
    "idf4 = lambda nt: log((N - nt) / nt)\n",
    "idf5 = lambda nt: log(1+(N-nt)/nt)"
   ]
  },
  {
   "cell_type": "code",
   "execution_count": null,
   "metadata": {},
   "outputs": [],
   "source": [
    "for j, docs in TDM.items():\n",
    "    IDF1 = idf1(len(docs))\n",
    "    IDF2 = idf2(len(docs))\n",
    "    IDF4 = idf4(len(docs))\n",
    "\n",
    "    for i, f in docs.items():\n",
    "        TF1 = tf1(f, sum(DTM[i].values()))\n",
    "        TF2 = tf2(f)\n",
    "        TF3 = tf3(f, max(DTM[i].values()))\n",
    "        print(V[j], i, TF1, TF2, TF3)\n",
    "\n",
    "    print(V[j], IDF1, IDF2, IDF4)\n",
    "    break"
   ]
  },
  {
   "cell_type": "code",
   "execution_count": null,
   "metadata": {},
   "outputs": [],
   "source": [
    "for j, docs in TDM.items():\n",
    "    try:\n",
    "        IDF1 = idf1(len(docs))\n",
    "        IDF2 = idf2(len(docs))\n",
    "        IDF4 = idf4(len(docs))\n",
    "\n",
    "        for i, f in docs.items():\n",
    "            TF1 = tf1(f, sum(DTM[i].values()))\n",
    "            TF2 = tf2(f)\n",
    "            TF3 = tf3(f, max(DTM[i].values()))\n",
    "\n",
    "            W1 = f*IDF1\n",
    "            W2 = TF2*1\n",
    "            W3 = TF2*IDF1\n",
    "            W4 = TF3*IDF1\n",
    "\n",
    "#             print(V[j], i, W1, W2, W3, W4)\n",
    "\n",
    "#         print(V[j], IDF1, IDF2, IDF4)\n",
    "    except:\n",
    "        continue"
   ]
  },
  {
   "cell_type": "code",
   "execution_count": null,
   "metadata": {},
   "outputs": [],
   "source": [
    "import matplotlib.pyplot as plt\n",
    "%matplotlib inline\n",
    "\n",
    "N = 10\n",
    "dfList = np.arange(1, 10, 1)\n",
    "plt.plot(dfList, [idf4(_) for _ in dfList])\n",
    "plt.plot(dfList, [idf5(_) for _ in dfList])\n",
    "plt.axhline(0)\n",
    "plt.show()"
   ]
  },
  {
   "cell_type": "markdown",
   "metadata": {},
   "source": [
    "## TF-IDF Weight Schemes\n",
    "<div align=\"left\">\n",
    "<table class=\"wikitable\" style=\"float: top; margin-left: 0; margin-right: 1.5em; margin-top: 0;\">\n",
    "<caption>Recommended tf–idf weighting schemes\n",
    "</caption>\n",
    "<tbody><tr>\n",
    "<th>weighting scheme\n",
    "</th>\n",
    "<th>document term weight\n",
    "</th>\n",
    "<th>query term weight\n",
    "</th></tr>\n",
    "<tr>\n",
    "<td>1</td>\n",
    "<td><span class=\"mwe-math-element\"><span class=\"mwe-math-mathml-inline mwe-math-mathml-a11y\" style=\"display: none;\"><math xmlns=\"http://www.w3.org/1998/Math/MathML\"  alttext=\"{\\displaystyle f_{t,d}\\cdot \\log {\\frac {N}{n_{t}}}}\">\n",
    "  <semantics>\n",
    "    <mrow class=\"MJX-TeXAtom-ORD\">\n",
    "      <mstyle displaystyle=\"true\" scriptlevel=\"0\">\n",
    "        <msub>\n",
    "          <mi>f</mi>\n",
    "          <mrow class=\"MJX-TeXAtom-ORD\">\n",
    "            <mi>t</mi>\n",
    "            <mo>,</mo>\n",
    "            <mi>d</mi>\n",
    "          </mrow>\n",
    "        </msub>\n",
    "        <mo>&#x22C5;<!-- ⋅ --></mo>\n",
    "        <mi>log</mi>\n",
    "        <mo>&#x2061;<!-- ⁡ --></mo>\n",
    "        <mrow class=\"MJX-TeXAtom-ORD\">\n",
    "          <mfrac>\n",
    "            <mi>N</mi>\n",
    "            <msub>\n",
    "              <mi>n</mi>\n",
    "              <mrow class=\"MJX-TeXAtom-ORD\">\n",
    "                <mi>t</mi>\n",
    "              </mrow>\n",
    "            </msub>\n",
    "          </mfrac>\n",
    "        </mrow>\n",
    "      </mstyle>\n",
    "    </mrow>\n",
    "    <annotation encoding=\"application/x-tex\">{\\displaystyle f_{t,d}\\cdot \\log {\\frac {N}{n_{t}}}}</annotation>\n",
    "  </semantics>\n",
    "</math></span><img src=\"https://wikimedia.org/api/rest_v1/media/math/render/svg/74db3d91105b74e8450a78fadbf7ea7f241bc737\" class=\"mwe-math-fallback-image-inline\" aria-hidden=\"true\" style=\"vertical-align: -2.171ex; width:11.377ex; height:5.509ex;\" alt=\"{\\displaystyle f_{t,d}\\cdot \\log {\\frac {N}{n_{t}}}}\"/></span></td>\n",
    "<td><span class=\"mwe-math-element\"><span class=\"mwe-math-mathml-inline mwe-math-mathml-a11y\" style=\"display: none;\"><math xmlns=\"http://www.w3.org/1998/Math/MathML\"  alttext=\"{\\displaystyle \\left(0.5+0.5{\\frac {f_{t,q}}{\\max _{t}f_{t,q}}}\\right)\\cdot \\log {\\frac {N}{n_{t}}}}\">\n",
    "  <semantics>\n",
    "    <mrow class=\"MJX-TeXAtom-ORD\">\n",
    "      <mstyle displaystyle=\"true\" scriptlevel=\"0\">\n",
    "        <mrow>\n",
    "          <mo>(</mo>\n",
    "          <mrow>\n",
    "            <mn>0.5</mn>\n",
    "            <mo>+</mo>\n",
    "            <mn>0.5</mn>\n",
    "            <mrow class=\"MJX-TeXAtom-ORD\">\n",
    "              <mfrac>\n",
    "                <msub>\n",
    "                  <mi>f</mi>\n",
    "                  <mrow class=\"MJX-TeXAtom-ORD\">\n",
    "                    <mi>t</mi>\n",
    "                    <mo>,</mo>\n",
    "                    <mi>q</mi>\n",
    "                  </mrow>\n",
    "                </msub>\n",
    "                <mrow>\n",
    "                  <munder>\n",
    "                    <mo movablelimits=\"true\" form=\"prefix\">max</mo>\n",
    "                    <mrow class=\"MJX-TeXAtom-ORD\">\n",
    "                      <mi>t</mi>\n",
    "                    </mrow>\n",
    "                  </munder>\n",
    "                  <msub>\n",
    "                    <mi>f</mi>\n",
    "                    <mrow class=\"MJX-TeXAtom-ORD\">\n",
    "                      <mi>t</mi>\n",
    "                      <mo>,</mo>\n",
    "                      <mi>q</mi>\n",
    "                    </mrow>\n",
    "                  </msub>\n",
    "                </mrow>\n",
    "              </mfrac>\n",
    "            </mrow>\n",
    "          </mrow>\n",
    "          <mo>)</mo>\n",
    "        </mrow>\n",
    "        <mo>&#x22C5;<!-- ⋅ --></mo>\n",
    "        <mi>log</mi>\n",
    "        <mo>&#x2061;<!-- ⁡ --></mo>\n",
    "        <mrow class=\"MJX-TeXAtom-ORD\">\n",
    "          <mfrac>\n",
    "            <mi>N</mi>\n",
    "            <msub>\n",
    "              <mi>n</mi>\n",
    "              <mrow class=\"MJX-TeXAtom-ORD\">\n",
    "                <mi>t</mi>\n",
    "              </mrow>\n",
    "            </msub>\n",
    "          </mfrac>\n",
    "        </mrow>\n",
    "      </mstyle>\n",
    "    </mrow>\n",
    "    <annotation encoding=\"application/x-tex\">{\\displaystyle \\left(0.5+0.5{\\frac {f_{t,q}}{\\max _{t}f_{t,q}}}\\right)\\cdot \\log {\\frac {N}{n_{t}}}}</annotation>\n",
    "  </semantics>\n",
    "</math></span><img src=\"https://wikimedia.org/api/rest_v1/media/math/render/svg/fe1629098093a97eb293bd5085009c51c3cdd77b\" class=\"mwe-math-fallback-image-inline\" aria-hidden=\"true\" style=\"vertical-align: -2.671ex; width:29.854ex; height:6.509ex;\" alt=\"{\\displaystyle \\left(0.5+0.5{\\frac {f_{t,q}}{\\max _{t}f_{t,q}}}\\right)\\cdot \\log {\\frac {N}{n_{t}}}}\"/></span>\n",
    "</td></tr>\n",
    "<tr>\n",
    "<td>2</td>\n",
    "<td><span class=\"mwe-math-element\"><span class=\"mwe-math-mathml-inline mwe-math-mathml-a11y\" style=\"display: none;\"><math xmlns=\"http://www.w3.org/1998/Math/MathML\"  alttext=\"{\\displaystyle 1+\\log f_{t,d}}\">\n",
    "  <semantics>\n",
    "    <mrow class=\"MJX-TeXAtom-ORD\">\n",
    "      <mstyle displaystyle=\"true\" scriptlevel=\"0\">\n",
    "        <mn>1</mn>\n",
    "        <mo>+</mo>\n",
    "        <mi>log</mi>\n",
    "        <mo>&#x2061;<!-- ⁡ --></mo>\n",
    "        <msub>\n",
    "          <mi>f</mi>\n",
    "          <mrow class=\"MJX-TeXAtom-ORD\">\n",
    "            <mi>t</mi>\n",
    "            <mo>,</mo>\n",
    "            <mi>d</mi>\n",
    "          </mrow>\n",
    "        </msub>\n",
    "      </mstyle>\n",
    "    </mrow>\n",
    "    <annotation encoding=\"application/x-tex\">{\\displaystyle 1+\\log f_{t,d}}</annotation>\n",
    "  </semantics>\n",
    "</math></span><img src=\"https://wikimedia.org/api/rest_v1/media/math/render/svg/dc85c57525999f9f224ac5623e606bea2160d171\" class=\"mwe-math-fallback-image-inline\" aria-hidden=\"true\" style=\"vertical-align: -1.005ex; width:10.644ex; height:2.843ex;\" alt=\"1+\\log f_{{t,d}}\"/></span></td>\n",
    "<td><span class=\"mwe-math-element\"><span class=\"mwe-math-mathml-inline mwe-math-mathml-a11y\" style=\"display: none;\"><math xmlns=\"http://www.w3.org/1998/Math/MathML\"  alttext=\"{\\displaystyle \\log \\left(1+{\\frac {N}{n_{t}}}\\right)}\">\n",
    "  <semantics>\n",
    "    <mrow class=\"MJX-TeXAtom-ORD\">\n",
    "      <mstyle displaystyle=\"true\" scriptlevel=\"0\">\n",
    "        <mi>log</mi>\n",
    "        <mo>&#x2061;<!-- ⁡ --></mo>\n",
    "        <mrow>\n",
    "          <mo>(</mo>\n",
    "          <mrow>\n",
    "            <mn>1</mn>\n",
    "            <mo>+</mo>\n",
    "            <mrow class=\"MJX-TeXAtom-ORD\">\n",
    "              <mfrac>\n",
    "                <mi>N</mi>\n",
    "                <msub>\n",
    "                  <mi>n</mi>\n",
    "                  <mrow class=\"MJX-TeXAtom-ORD\">\n",
    "                    <mi>t</mi>\n",
    "                  </mrow>\n",
    "                </msub>\n",
    "              </mfrac>\n",
    "            </mrow>\n",
    "          </mrow>\n",
    "          <mo>)</mo>\n",
    "        </mrow>\n",
    "      </mstyle>\n",
    "    </mrow>\n",
    "    <annotation encoding=\"application/x-tex\">{\\displaystyle \\log \\left(1+{\\frac {N}{n_{t}}}\\right)}</annotation>\n",
    "  </semantics>\n",
    "</math></span><img src=\"https://wikimedia.org/api/rest_v1/media/math/render/svg/29f34f3a19a3fec371d5ab2756896a4c3cfc0d96\" class=\"mwe-math-fallback-image-inline\" aria-hidden=\"true\" style=\"vertical-align: -2.505ex; width:13.453ex; height:6.176ex;\" alt=\"{\\displaystyle \\log \\left(1+{\\frac {N}{n_{t}}}\\right)}\"/></span>\n",
    "</td></tr>\n",
    "<tr>\n",
    "<td>3</td>\n",
    "<td><span class=\"mwe-math-element\"><span class=\"mwe-math-mathml-inline mwe-math-mathml-a11y\" style=\"display: none;\"><math xmlns=\"http://www.w3.org/1998/Math/MathML\"  alttext=\"{\\displaystyle (1+\\log f_{t,d})\\cdot \\log {\\frac {N}{n_{t}}}}\">\n",
    "  <semantics>\n",
    "    <mrow class=\"MJX-TeXAtom-ORD\">\n",
    "      <mstyle displaystyle=\"true\" scriptlevel=\"0\">\n",
    "        <mo stretchy=\"false\">(</mo>\n",
    "        <mn>1</mn>\n",
    "        <mo>+</mo>\n",
    "        <mi>log</mi>\n",
    "        <mo>&#x2061;<!-- ⁡ --></mo>\n",
    "        <msub>\n",
    "          <mi>f</mi>\n",
    "          <mrow class=\"MJX-TeXAtom-ORD\">\n",
    "            <mi>t</mi>\n",
    "            <mo>,</mo>\n",
    "            <mi>d</mi>\n",
    "          </mrow>\n",
    "        </msub>\n",
    "        <mo stretchy=\"false\">)</mo>\n",
    "        <mo>&#x22C5;<!-- ⋅ --></mo>\n",
    "        <mi>log</mi>\n",
    "        <mo>&#x2061;<!-- ⁡ --></mo>\n",
    "        <mrow class=\"MJX-TeXAtom-ORD\">\n",
    "          <mfrac>\n",
    "            <mi>N</mi>\n",
    "            <msub>\n",
    "              <mi>n</mi>\n",
    "              <mrow class=\"MJX-TeXAtom-ORD\">\n",
    "                <mi>t</mi>\n",
    "              </mrow>\n",
    "            </msub>\n",
    "          </mfrac>\n",
    "        </mrow>\n",
    "      </mstyle>\n",
    "    </mrow>\n",
    "    <annotation encoding=\"application/x-tex\">{\\displaystyle (1+\\log f_{t,d})\\cdot \\log {\\frac {N}{n_{t}}}}</annotation>\n",
    "  </semantics>\n",
    "</math></span><img src=\"https://wikimedia.org/api/rest_v1/media/math/render/svg/c271425fa07254a10379f1379e02d0fd034f4f21\" class=\"mwe-math-fallback-image-inline\" aria-hidden=\"true\" style=\"vertical-align: -2.171ex; width:20.548ex; height:5.509ex;\" alt=\"{\\displaystyle (1+\\log f_{t,d})\\cdot \\log {\\frac {N}{n_{t}}}}\"/></span></td>\n",
    "<td><span class=\"mwe-math-element\"><span class=\"mwe-math-mathml-inline mwe-math-mathml-a11y\" style=\"display: none;\"><math xmlns=\"http://www.w3.org/1998/Math/MathML\"  alttext=\"{\\displaystyle (1+\\log f_{t,q})\\cdot \\log {\\frac {N}{n_{t}}}}\">\n",
    "  <semantics>\n",
    "    <mrow class=\"MJX-TeXAtom-ORD\">\n",
    "      <mstyle displaystyle=\"true\" scriptlevel=\"0\">\n",
    "        <mo stretchy=\"false\">(</mo>\n",
    "        <mn>1</mn>\n",
    "        <mo>+</mo>\n",
    "        <mi>log</mi>\n",
    "        <mo>&#x2061;<!-- ⁡ --></mo>\n",
    "        <msub>\n",
    "          <mi>f</mi>\n",
    "          <mrow class=\"MJX-TeXAtom-ORD\">\n",
    "            <mi>t</mi>\n",
    "            <mo>,</mo>\n",
    "            <mi>q</mi>\n",
    "          </mrow>\n",
    "        </msub>\n",
    "        <mo stretchy=\"false\">)</mo>\n",
    "        <mo>&#x22C5;<!-- ⋅ --></mo>\n",
    "        <mi>log</mi>\n",
    "        <mo>&#x2061;<!-- ⁡ --></mo>\n",
    "        <mrow class=\"MJX-TeXAtom-ORD\">\n",
    "          <mfrac>\n",
    "            <mi>N</mi>\n",
    "            <msub>\n",
    "              <mi>n</mi>\n",
    "              <mrow class=\"MJX-TeXAtom-ORD\">\n",
    "                <mi>t</mi>\n",
    "              </mrow>\n",
    "            </msub>\n",
    "          </mfrac>\n",
    "        </mrow>\n",
    "      </mstyle>\n",
    "    </mrow>\n",
    "    <annotation encoding=\"application/x-tex\">{\\displaystyle (1+\\log f_{t,q})\\cdot \\log {\\frac {N}{n_{t}}}}</annotation>\n",
    "  </semantics>\n",
    "</math></span><img src=\"https://wikimedia.org/api/rest_v1/media/math/render/svg/cb8cdf7f351b63973cee045cc98c9efcde04203a\" class=\"mwe-math-fallback-image-inline\" aria-hidden=\"true\" style=\"vertical-align: -2.171ex; width:20.445ex; height:5.509ex;\" alt=\"{\\displaystyle (1+\\log f_{t,q})\\cdot \\log {\\frac {N}{n_{t}}}}\"/></span>\n",
    "</td></tr></tbody></table>\n",
    "</div>"
   ]
  },
  {
   "cell_type": "code",
   "execution_count": null,
   "metadata": {},
   "outputs": [],
   "source": [
    "TWM = defaultdict(lambda: defaultdict(float))\n",
    "DocLength = defaultdict(float)\n",
    "\n",
    "for j, docs in TDM.items():\n",
    "    try:\n",
    "        IDF1 = idf1(len(docs))\n",
    "        IDF2 = idf2(len(docs))\n",
    "        IDF4 = idf4(len(docs))\n",
    "\n",
    "        for i, f in docs.items():\n",
    "            TF1 = tf1(f, sum(DTM[i].values()))\n",
    "            TF2 = tf2(f)\n",
    "            TF3 = tf3(f, max(DTM[i].values()))\n",
    "\n",
    "            W1 = f*IDF1\n",
    "            W2 = TF2*1\n",
    "            W3 = TF2*IDF1\n",
    "            W4 = TF3*IDF1\n",
    "\n",
    "            TWM[j][i] = W4\n",
    "            DocLength[i] += W4 ** 2\n",
    "    except:\n",
    "        continue"
   ]
  },
  {
   "cell_type": "markdown",
   "metadata": {},
   "source": [
    "- Relvance = Similarity\n",
    "- euclidean = sqrt(t ㅌ V (q - d_i)**2)\n",
    "- cos theta = q vector * d_i vector / (|q| 굳이 계산 X) * |d_i|"
   ]
  },
  {
   "cell_type": "code",
   "execution_count": null,
   "metadata": {},
   "outputs": [],
   "source": [
    "kkma.nouns('가방 가방 가방')"
   ]
  },
  {
   "cell_type": "code",
   "execution_count": null,
   "metadata": {},
   "outputs": [],
   "source": [
    "kkma.pos('가방 가방 가방')"
   ]
  },
  {
   "cell_type": "code",
   "execution_count": null,
   "metadata": {},
   "outputs": [],
   "source": [
    "from math import sqrt\n",
    "\n",
    "# Q = '필로폰 투약 혐의 로버트 할리, 최후 변론서 눈물 아들이 존경했는데'\n",
    "# Q = '대통령 청와대 국민 정부'\n",
    "Q = '아베 신조'\n",
    "_Q = [_[0] for _ in kkma.pos(Q) if _[1].startswith('N') and _[0] in V]\n",
    "\n",
    "QWM = defaultdict(float)\n",
    "\n",
    "for t in _Q:\n",
    "    j = V.index(t)\n",
    "    QWM[j] += 1\n",
    "\n",
    "maxFreq = max(QWM.values())\n",
    "\n",
    "for j in QWM:\n",
    "    IDF1 = idf1(len(TWM[j]))\n",
    "    QWM[j] = tf3(QWM[j], maxFreq, 0.5) * idf1(len(TWM[j]))\n",
    "    \n",
    "QLength = sqrt(sum([_**2 for _ in QWM.values()]))"
   ]
  },
  {
   "cell_type": "code",
   "execution_count": null,
   "metadata": {},
   "outputs": [],
   "source": [
    "QWM"
   ]
  },
  {
   "cell_type": "code",
   "execution_count": null,
   "metadata": {
    "scrolled": true
   },
   "outputs": [],
   "source": [
    "searchResult = defaultdict(float)\n",
    "for q_j, w_q in QWM.items():\n",
    "    for i, w in TWM[q_j].items():\n",
    "        searchResult[i] += q_j*i\n",
    "\n",
    "for i, innerProduct in searchResult.items():\n",
    "    searchResult[i] = innerProduct / (QLength * sqrt(DocLength[i]))\n",
    "\n",
    "for _ in sorted(searchResult.items(), key=lambda x: x[1], reverse=True):\n",
    "    print(_[1])\n",
    "    print(collection[_[0]])\n",
    "    print()"
   ]
  },
  {
   "cell_type": "code",
   "execution_count": null,
   "metadata": {
    "run_control": {
     "marked": false
    },
    "scrolled": true
   },
   "outputs": [],
   "source": [
    "searchResult = defaultdict(float)\n",
    "for t in V:\n",
    "    j = V.index(t)\n",
    "    \n",
    "    for i, w in TWM[j].items():\n",
    "        searchResult[i] += w**2 # (QWM[j] - w)**2\n",
    "\n",
    "for i, innerProduct in searchResult.items():\n",
    "    searchResult[i] = -sqrt(innerProduct)\n",
    "\n",
    "for _ in sorted(searchResult.items(), key=lambda x: x[1], reverse=True):\n",
    "    print(_[1], len(collection[_[0]].split()))\n",
    "    print(collection[_[0]][:30])\n",
    "    print()"
   ]
  }
 ],
 "metadata": {
  "kernelspec": {
   "display_name": "Python 3",
   "language": "python",
   "name": "python3"
  },
  "language_info": {
   "codemirror_mode": {
    "name": "ipython",
    "version": 3
   },
   "file_extension": ".py",
   "mimetype": "text/x-python",
   "name": "python",
   "nbconvert_exporter": "python",
   "pygments_lexer": "ipython3",
   "version": "3.7.3"
  },
  "varInspector": {
   "cols": {
    "lenName": 16,
    "lenType": 16,
    "lenVar": 40
   },
   "kernels_config": {
    "python": {
     "delete_cmd_postfix": "",
     "delete_cmd_prefix": "del ",
     "library": "var_list.py",
     "varRefreshCmd": "print(var_dic_list())"
    },
    "r": {
     "delete_cmd_postfix": ") ",
     "delete_cmd_prefix": "rm(",
     "library": "var_list.r",
     "varRefreshCmd": "cat(var_dic_list()) "
    }
   },
   "types_to_exclude": [
    "module",
    "function",
    "builtin_function_or_method",
    "instance",
    "_Feature"
   ],
   "window_display": false
  }
 },
 "nbformat": 4,
 "nbformat_minor": 2
}

{
 "cells": [
  {
   "cell_type": "markdown",
   "metadata": {},
   "source": [
    "# NLP: Search Engine"
   ]
  },
  {
   "cell_type": "code",
   "execution_count": 1,
   "metadata": {},
   "outputs": [],
   "source": [
    "from nltk.tokenize import word_tokenize\n",
    "import sqlite3\n",
    "\n",
    "conn = sqlite3.connect('news.db')\n",
    "cur = conn.cursor()\n",
    "\n",
    "\n",
    "def 어절(sentence, n=2):\n",
    "    tokens = word_tokenize(sentence)\n",
    "    return [\n",
    "        tuple(tokens[token:token + n])\n",
    "        for token in range(len(tokens) - (n - 1))\n",
    "    ]\n",
    "\n",
    "\n",
    "def 음절(sentence, n=2):\n",
    "    tokens = list(sentence)\n",
    "    return [''.join(tokens[i:i + n]) for i in range(len(tokens))]"
   ]
  },
  {
   "cell_type": "code",
   "execution_count": 2,
   "metadata": {},
   "outputs": [],
   "source": [
    "query = \"\"\"\n",
    "    SELECT id, url, content, date\n",
    "    FROM news;\n",
    "\"\"\"\n",
    "cur.execute(query)\n",
    "corpus = cur.fetchall()\n",
    "corpus = [news[2] for news in corpus]"
   ]
  },
  {
   "cell_type": "markdown",
   "metadata": {},
   "source": [
    "---"
   ]
  },
  {
   "cell_type": "code",
   "execution_count": 3,
   "metadata": {},
   "outputs": [
    {
     "data": {
      "text/plain": [
       "'!\"#$%&\\'()*+,-./:;<=>?@[\\\\]^_`{|}~'"
      ]
     },
     "execution_count": 3,
     "metadata": {},
     "output_type": "execute_result"
    }
   ],
   "source": [
    "import re\n",
    "from string import punctuation\n",
    "punctuation"
   ]
  },
  {
   "cell_type": "code",
   "execution_count": 4,
   "metadata": {},
   "outputs": [],
   "source": [
    "pattern1 = re.compile(f'{re.escape(punctuation)}')\n",
    "pattern2 = re.compile(r'[A-Za-z]{5,}')\n",
    "pattern3 = re.compile(r'[^ 0-9A-Za-z가-힣]')\n",
    "pattern4 = re.compile(r'\\n{2,}')"
   ]
  },
  {
   "cell_type": "code",
   "execution_count": 5,
   "metadata": {},
   "outputs": [],
   "source": [
    "collection = [\n",
    "    pattern4.sub('',\n",
    "                 pattern3.sub('',\n",
    "                              pattern2.sub('',\n",
    "                                           pattern1.sub('', _)))).strip()\n",
    "    for _ in corpus\n",
    "]"
   ]
  },
  {
   "cell_type": "markdown",
   "metadata": {},
   "source": [
    "- Tokenizer (어절, 형태소, ngram)\n",
    "- ngram: Stemming / Normalization (길이, 빈도) --> stopwording"
   ]
  },
  {
   "cell_type": "code",
   "execution_count": 6,
   "metadata": {},
   "outputs": [
    {
     "data": {
      "text/plain": [
       "(515, 515)"
      ]
     },
     "execution_count": 6,
     "metadata": {},
     "output_type": "execute_result"
    }
   ],
   "source": [
    "len(word_tokenize(collection[0])), len(collection[0].split())"
   ]
  },
  {
   "cell_type": "code",
   "execution_count": 7,
   "metadata": {},
   "outputs": [
    {
     "data": {
      "text/plain": [
       "(515, 514, 2146)"
      ]
     },
     "execution_count": 7,
     "metadata": {},
     "output_type": "execute_result"
    }
   ],
   "source": [
    "len(collection[0].split()), len(어절(collection[0])), len(음절(collection[0]))"
   ]
  },
  {
   "cell_type": "code",
   "execution_count": 8,
   "metadata": {},
   "outputs": [
    {
     "name": "stderr",
     "output_type": "stream",
     "text": [
      "C:\\Users\\u\\Anaconda3\\lib\\site-packages\\jpype\\_core.py:210: UserWarning: \n",
      "-------------------------------------------------------------------------------\n",
      "Deprecated: convertStrings was not specified when starting the JVM. The default\n",
      "behavior in JPype will be False starting in JPype 0.8. The recommended setting\n",
      "for new code is convertStrings=False.  The legacy value of True was assumed for\n",
      "this session. If you are a user of an application that reported this warning,\n",
      "please file a ticket with the developer.\n",
      "-------------------------------------------------------------------------------\n",
      "\n",
      "  \"\"\")\n"
     ]
    }
   ],
   "source": [
    "from konlpy.tag import Kkma\n",
    "kkma = Kkma()"
   ]
  },
  {
   "cell_type": "code",
   "execution_count": 9,
   "metadata": {},
   "outputs": [],
   "source": [
    "Vocabulary = []\n",
    "\n",
    "for _ in collection:\n",
    "    Vocabulary.extend(_.split())\n",
    "    Vocabulary.extend(어절(_))\n",
    "    Vocabulary.extend(음절(_))\n",
    "    Vocabulary.extend(kkma.morphs(_))"
   ]
  },
  {
   "cell_type": "code",
   "execution_count": 10,
   "metadata": {},
   "outputs": [
    {
     "data": {
      "text/plain": [
       "(110740, 28262)"
      ]
     },
     "execution_count": 10,
     "metadata": {},
     "output_type": "execute_result"
    }
   ],
   "source": [
    "len(Vocabulary), len(set(Vocabulary))"
   ]
  },
  {
   "cell_type": "code",
   "execution_count": 11,
   "metadata": {},
   "outputs": [],
   "source": [
    "Vocabulary = [_ for _ in list(set(Vocabulary)) if 1 < len(_) < 6]"
   ]
  },
  {
   "cell_type": "code",
   "execution_count": 12,
   "metadata": {},
   "outputs": [
    {
     "data": {
      "text/plain": [
       "26849"
      ]
     },
     "execution_count": 12,
     "metadata": {},
     "output_type": "execute_result"
    }
   ],
   "source": [
    "len(Vocabulary)"
   ]
  },
  {
   "cell_type": "code",
   "execution_count": 13,
   "metadata": {},
   "outputs": [],
   "source": [
    "BoM = []\n",
    "for d in collection:\n",
    "    docVector = [0 for _ in range(len(Vocabulary))]\n",
    "    BoMCollection = d.split() + 어절(d) + 음절(d) + kkma.morphs(d)\n",
    "    for _ in BoMCollection:\n",
    "        if _ in Vocabulary:\n",
    "            docVector[Vocabulary.index(_)] = 1\n",
    "    BoM.append(docVector)"
   ]
  },
  {
   "cell_type": "markdown",
   "metadata": {},
   "source": [
    "BoM의 문제점은 Sparse하다 (복잡도가 증가한다)"
   ]
  },
  {
   "cell_type": "code",
   "execution_count": 14,
   "metadata": {
    "scrolled": true
   },
   "outputs": [
    {
     "data": {
      "text/plain": [
       "[(1753, 25096),\n",
       " (1753, 25096),\n",
       " (1156, 25693),\n",
       " (1321, 25528),\n",
       " (1745, 25104),\n",
       " (1451, 25398),\n",
       " (625, 26224),\n",
       " (1073, 25776),\n",
       " (1387, 25462),\n",
       " (1195, 25654),\n",
       " (1690, 25159),\n",
       " (2229, 24620),\n",
       " (1545, 25304),\n",
       " (1137, 25712),\n",
       " (1825, 25024),\n",
       " (1969, 24880),\n",
       " (1070, 25779),\n",
       " (1089, 25760),\n",
       " (933, 25916),\n",
       " (1030, 25819),\n",
       " (1433, 25416),\n",
       " (1274, 25575),\n",
       " (1612, 25237),\n",
       " (572, 26277),\n",
       " (1311, 25538),\n",
       " (1359, 25490),\n",
       " (1312, 25537),\n",
       " (1507, 25342),\n",
       " (1644, 25205),\n",
       " (976, 25873),\n",
       " (1844, 25005),\n",
       " (1774, 25075),\n",
       " (1074, 25775),\n",
       " (945, 25904),\n",
       " (848, 26001),\n",
       " (635, 26214)]"
      ]
     },
     "execution_count": 14,
     "metadata": {},
     "output_type": "execute_result"
    }
   ],
   "source": [
    "[(sum(_), len(Vocabulary) - sum(_)) for _ in BoM]"
   ]
  },
  {
   "cell_type": "code",
   "execution_count": 15,
   "metadata": {},
   "outputs": [],
   "source": [
    "Query = ['대통령', '청와대']\n",
    "totalResult = []\n",
    "for q in Query:\n",
    "    searchResult = []\n",
    "    for i, d in enumerate(BoM):\n",
    "        for j, b in enumerate(d):\n",
    "            if b == 1 and j == Vocabulary.index(q):\n",
    "                searchResult.append(i)\n",
    "                break\n",
    "    totalResult.append(searchResult)"
   ]
  },
  {
   "cell_type": "code",
   "execution_count": 16,
   "metadata": {},
   "outputs": [
    {
     "data": {
      "text/plain": [
       "{0, 1, 30}"
      ]
     },
     "execution_count": 16,
     "metadata": {},
     "output_type": "execute_result"
    }
   ],
   "source": [
    "set(totalResult[0]).intersection(totalResult[1])"
   ]
  },
  {
   "cell_type": "markdown",
   "metadata": {},
   "source": [
    "## DTM & TDM"
   ]
  },
  {
   "cell_type": "markdown",
   "metadata": {},
   "source": [
    "밑의 코드처럼 DTM과 TDM으로 자료구조를 만들어 놓으면 loop를 줄일 수 있다."
   ]
  },
  {
   "cell_type": "code",
   "execution_count": 17,
   "metadata": {},
   "outputs": [],
   "source": [
    "from collections import defaultdict\n",
    "\n",
    "DTM = defaultdict(lambda: defaultdict(int))\n",
    "for i, d in enumerate(BoM):\n",
    "    for j, t in enumerate(d):\n",
    "        if t == 1:\n",
    "            DTM[i][j] = t"
   ]
  },
  {
   "cell_type": "code",
   "execution_count": 18,
   "metadata": {},
   "outputs": [
    {
     "data": {
      "text/plain": [
       "1753"
      ]
     },
     "execution_count": 18,
     "metadata": {},
     "output_type": "execute_result"
    }
   ],
   "source": [
    "sum(DTM[0].values())"
   ]
  },
  {
   "cell_type": "code",
   "execution_count": 19,
   "metadata": {},
   "outputs": [],
   "source": [
    "TDM = defaultdict(lambda: defaultdict(int))\n",
    "\n",
    "for i, termDict in DTM.items():\n",
    "    for j, b in termDict.items():\n",
    "        TDM[j][i] = b"
   ]
  },
  {
   "cell_type": "code",
   "execution_count": 20,
   "metadata": {},
   "outputs": [],
   "source": [
    "searchResult = []\n",
    "for q in Query:\n",
    "    j = Vocabulary.index(q)\n",
    "    searchResult.append(list(TDM[j].keys()))"
   ]
  },
  {
   "cell_type": "code",
   "execution_count": 21,
   "metadata": {},
   "outputs": [
    {
     "data": {
      "text/plain": [
       "{0, 1, 30}"
      ]
     },
     "execution_count": 21,
     "metadata": {},
     "output_type": "execute_result"
    }
   ],
   "source": [
    "set(totalResult[0]).intersection(totalResult[1])"
   ]
  },
  {
   "cell_type": "markdown",
   "metadata": {},
   "source": [
    "### 성능 차이\n",
    "Q = Query, D = Full Documents라고 했을 때,\n",
    "- BoM = O(|Q| * D * |D|)\n",
    "- TDM = O(|Q| * avg(|D|))"
   ]
  },
  {
   "cell_type": "code",
   "execution_count": 22,
   "metadata": {},
   "outputs": [],
   "source": [
    "termVector = list(\n",
    "    list(0 for _ in range(len(collection))) for _ in range(len(Vocabulary)))\n",
    "for j, docDict in TDM.items():\n",
    "    for i in range(len(collection)):\n",
    "        termVector[j][i] = docDict[i]"
   ]
  },
  {
   "cell_type": "code",
   "execution_count": 23,
   "metadata": {},
   "outputs": [],
   "source": [
    "import numpy as np\n",
    "_BoM = np.array(termVector)"
   ]
  },
  {
   "cell_type": "code",
   "execution_count": 24,
   "metadata": {},
   "outputs": [
    {
     "data": {
      "text/plain": [
       "1753"
      ]
     },
     "execution_count": 24,
     "metadata": {},
     "output_type": "execute_result"
    }
   ],
   "source": [
    "sum(_BoM.T[0])"
   ]
  },
  {
   "cell_type": "code",
   "execution_count": 25,
   "metadata": {},
   "outputs": [
    {
     "data": {
      "text/plain": [
       "1753"
      ]
     },
     "execution_count": 25,
     "metadata": {},
     "output_type": "execute_result"
    }
   ],
   "source": [
    "sum(BoM[0])"
   ]
  },
  {
   "cell_type": "code",
   "execution_count": 26,
   "metadata": {},
   "outputs": [
    {
     "data": {
      "text/plain": [
       "array([0, 0, 0, 0, 0, 0, 0, 0, 0, 0, 0, 0, 0, 0, 0, 0, 0, 0, 0, 0, 0, 0,\n",
       "       0, 0, 0, 0, 0, 0, 0, 0, 0, 0, 1, 0, 0, 0])"
      ]
     },
     "execution_count": 26,
     "metadata": {},
     "output_type": "execute_result"
    }
   ],
   "source": [
    "_BoM[0]"
   ]
  },
  {
   "cell_type": "code",
   "execution_count": 27,
   "metadata": {},
   "outputs": [],
   "source": [
    "D = [['A', 'B'], ['C', 'D'], ['A', 'C']]\n",
    "\n",
    "Dictionary = defaultdict(lambda: -1)\n",
    "Postings = []\n",
    "\n",
    "V = []\n",
    "\n",
    "for j, d in enumerate(D):\n",
    "    for t in d:\n",
    "        if t not in V:\n",
    "            V.append(t)\n",
    "        i = V.index(t)\n",
    "        nextPosition = Dictionary[i]\n",
    "        _struct = (j, 1, nextPosition)\n",
    "        Dictionary[i] = len(Postings)\n",
    "        Postings.append(_struct)"
   ]
  },
  {
   "cell_type": "code",
   "execution_count": 28,
   "metadata": {},
   "outputs": [
    {
     "data": {
      "text/plain": [
       "defaultdict(<function __main__.<lambda>()>, {0: 4, 1: 1, 2: 5, 3: 3})"
      ]
     },
     "execution_count": 28,
     "metadata": {},
     "output_type": "execute_result"
    }
   ],
   "source": [
    "Dictionary"
   ]
  },
  {
   "cell_type": "code",
   "execution_count": 29,
   "metadata": {},
   "outputs": [
    {
     "data": {
      "text/plain": [
       "[(0, 1, -1), (0, 1, -1), (1, 1, -1), (1, 1, -1), (2, 1, 0), (2, 1, 2)]"
      ]
     },
     "execution_count": 29,
     "metadata": {},
     "output_type": "execute_result"
    }
   ],
   "source": [
    "Postings"
   ]
  },
  {
   "cell_type": "code",
   "execution_count": 30,
   "metadata": {},
   "outputs": [
    {
     "name": "stdout",
     "output_type": "stream",
     "text": [
      "3번째 문서, 1번, 다음 위치: 2\n",
      "2번째 문서, 1번, 다음 위치: -1\n"
     ]
    }
   ],
   "source": [
    "Q = ['C']\n",
    "\n",
    "for q in Q:\n",
    "    i = V.index(q)\n",
    "    nextPosition = Dictionary[i]\n",
    "    while True:\n",
    "        _struct = Postings[nextPosition]\n",
    "        nextPosition = _struct[2]\n",
    "        print(f'{_struct[0]+1}번째 문서, {_struct[1]}번, 다음 위치: {_struct[2]}')\n",
    "\n",
    "        if nextPosition == -1:\n",
    "            break"
   ]
  },
  {
   "cell_type": "markdown",
   "metadata": {},
   "source": [
    "---"
   ]
  },
  {
   "cell_type": "markdown",
   "metadata": {},
   "source": [
    "posting된 데이터들을 파일로 저장한다."
   ]
  },
  {
   "cell_type": "code",
   "execution_count": 31,
   "metadata": {},
   "outputs": [],
   "source": [
    "D = [['A', 'B'], ['C', 'D'], ['A', 'C']]\n",
    "\n",
    "Dictionary = defaultdict(lambda: -1)\n",
    "Postings = open('postings.dst', 'w')\n",
    "\n",
    "V = []\n",
    "\n",
    "for j, d in enumerate(D):\n",
    "    for t in d:\n",
    "        if t not in V:\n",
    "            V.append(t)\n",
    "        i = V.index(t)\n",
    "        nextPosition = Dictionary[i]\n",
    "        _struct = (str(j), str(1), str(nextPosition))\n",
    "        Dictionary[i] = Postings.tell()\n",
    "        Postings.write(','.join(_struct) + '\\n')\n",
    "Postings.close()"
   ]
  },
  {
   "cell_type": "code",
   "execution_count": 32,
   "metadata": {},
   "outputs": [
    {
     "name": "stdout",
     "output_type": "stream",
     "text": [
      "3번째 문서, 1번, 다음 위치: 16\n",
      "\n",
      "2번째 문서, 1번, 다음 위치: -1\n",
      "\n"
     ]
    }
   ],
   "source": [
    "Q = ['C']\n",
    "Postings = open('postings.dst')\n",
    "\n",
    "for q in Q:\n",
    "    i = V.index(q)\n",
    "    nextPosition = Dictionary[i]\n",
    "    while True:\n",
    "        Postings.seek(nextPosition)\n",
    "        _struct = Postings.readline().split(',')\n",
    "        nextPosition = int(_struct[2])\n",
    "        print(f'{int(_struct[0])+1}번째 문서, {_struct[1]}번, 다음 위치: {_struct[2]}')\n",
    "\n",
    "        if nextPosition == -1:\n",
    "            break\n",
    "Postings.close()"
   ]
  },
  {
   "cell_type": "markdown",
   "metadata": {},
   "source": [
    "---"
   ]
  },
  {
   "cell_type": "markdown",
   "metadata": {},
   "source": [
    "posting된 데이터들을 byte 형식으로 저장한다.\n",
    "- https://docs.python.org/2/library/struct.html"
   ]
  },
  {
   "cell_type": "code",
   "execution_count": 33,
   "metadata": {},
   "outputs": [],
   "source": [
    "from struct import pack\n",
    "\n",
    "D = [['A', 'B'], ['C', 'D'], ['A', 'C']]\n",
    "\n",
    "Dictionary = defaultdict(lambda: -1)\n",
    "Postings = open('postings.dst', 'wb')\n",
    "\n",
    "V = []\n",
    "\n",
    "for j, d in enumerate(D):\n",
    "    for t in d:\n",
    "        if t not in V:\n",
    "            V.append(t)\n",
    "        i = V.index(t)\n",
    "        nextPosition = Dictionary[i]\n",
    "        _struct = pack('iii', j, 1, nextPosition)\n",
    "        Dictionary[i] = Postings.tell()\n",
    "        Postings.write(_struct)\n",
    "Postings.close()"
   ]
  },
  {
   "cell_type": "code",
   "execution_count": 34,
   "metadata": {},
   "outputs": [
    {
     "name": "stdout",
     "output_type": "stream",
     "text": [
      "b'\\x00\\x00\\x00\\x00\\x01\\x00\\x00\\x00\\xff\\xff\\xff\\xff\\x00\\x00\\x00\\x00\\x01\\x00\\x00\\x00\\xff\\xff\\xff\\xff\\x01\\x00\\x00\\x00\\x01\\x00\\x00\\x00\\xff\\xff\\xff\\xff\\x01\\x00\\x00\\x00\\x01\\x00\\x00\\x00\\xff\\xff\\xff\\xff\\x02\\x00\\x00\\x00\\x01\\x00\\x00\\x00\\x00\\x00\\x00\\x00\\x02\\x00\\x00\\x00\\x01\\x00\\x00\\x00\\x18\\x00\\x00\\x00'\n"
     ]
    }
   ],
   "source": [
    "with open('postings.dst', 'rb') as fp:\n",
    "    print(fp.read())"
   ]
  },
  {
   "cell_type": "code",
   "execution_count": 35,
   "metadata": {},
   "outputs": [
    {
     "name": "stdout",
     "output_type": "stream",
     "text": [
      "3번째 문서, 1번, 다음 위치: 24\n",
      "2번째 문서, 1번, 다음 위치: -1\n"
     ]
    }
   ],
   "source": [
    "from struct import unpack\n",
    "\n",
    "Q = ['C']\n",
    "Postings = open(\"postings.dst\", 'rb')\n",
    "\n",
    "for q in Q:\n",
    "    i = V.index(q)\n",
    "    nextPosition = Dictionary[i]\n",
    "    while True:\n",
    "        Postings.seek(nextPosition)\n",
    "        _struct = unpack(\"iii\", Postings.read(4 * 3))\n",
    "        nextPosition = int(_struct[2])\n",
    "        print(f'{int(_struct[0])+1}번째 문서, {_struct[1]}번, 다음 위치: {_struct[2]}')\n",
    "\n",
    "        if nextPosition == -1:\n",
    "            break\n",
    "Postings.close()"
   ]
  },
  {
   "cell_type": "code",
   "execution_count": 36,
   "metadata": {},
   "outputs": [],
   "source": [
    "D = [\n",
    "    ['A', 'B'],\n",
    "    ['C', 'D'],\n",
    "    ['A', 'C'],\n",
    "]\n",
    "\n",
    "TDM = defaultdict(lambda: defaultdict(int))\n",
    "Dictionary = defaultdict(lambda: -1)\n",
    "\n",
    "V = list()\n",
    "for j, d in enumerate(D):\n",
    "    for t in d:\n",
    "        if t not in V:\n",
    "            V.append(t)\n",
    "        i = V.index(t)\n",
    "        TDM[i][j] = 1"
   ]
  },
  {
   "cell_type": "code",
   "execution_count": 37,
   "metadata": {},
   "outputs": [
    {
     "name": "stdout",
     "output_type": "stream",
     "text": [
      "0번째 문서, 1번\n",
      "2번째 문서, 1번\n",
      "1번째 문서, 1번\n",
      "2번째 문서, 1번\n"
     ]
    }
   ],
   "source": [
    "Q = ['A', 'C']\n",
    "\n",
    "for q in Q:\n",
    "    i = V.index(q)\n",
    "    nextPosition = Dictionary[i]\n",
    "    for d, b in TDM[i].items():\n",
    "        print(f'{d}번째 문서, {b}번')"
   ]
  },
  {
   "cell_type": "markdown",
   "metadata": {},
   "source": [
    "## 자료구조에 빈도까지 포함하기"
   ]
  },
  {
   "cell_type": "code",
   "execution_count": 38,
   "metadata": {},
   "outputs": [],
   "source": [
    "V = []\n",
    "D = []\n",
    "\n",
    "DTM = defaultdict(lambda: defaultdict(int))\n",
    "\n",
    "for d in collection:\n",
    "    i = len(D)\n",
    "    D.append(i)\n",
    "\n",
    "    for t in [_[0] for _ in kkma.pos(d) if _[1].startswith('N')]:\n",
    "        if t not in V:\n",
    "            V.append(t)\n",
    "        j = V.index(t)\n",
    "        DTM[i][j] += 1"
   ]
  },
  {
   "cell_type": "code",
   "execution_count": 39,
   "metadata": {},
   "outputs": [
    {
     "data": {
      "text/plain": [
       "(3165, 36)"
      ]
     },
     "execution_count": 39,
     "metadata": {},
     "output_type": "execute_result"
    }
   ],
   "source": [
    "len(V), len(D)"
   ]
  },
  {
   "cell_type": "code",
   "execution_count": 40,
   "metadata": {},
   "outputs": [],
   "source": [
    "TDM = defaultdict(lambda: defaultdict(int))\n",
    "\n",
    "for i, terms in DTM.items():\n",
    "    for j, f in terms.items():\n",
    "        TDM[j][i] = f"
   ]
  },
  {
   "cell_type": "code",
   "execution_count": 41,
   "metadata": {},
   "outputs": [],
   "source": [
    "# for j, docs in TDM.items():\n",
    "#     for i, f in docs.items():\n",
    "#         print(V[j], D[i], f)\n",
    "#     print()"
   ]
  },
  {
   "cell_type": "markdown",
   "metadata": {},
   "source": [
    "---"
   ]
  },
  {
   "cell_type": "markdown",
   "metadata": {},
   "source": [
    "Posting해서 파일로 저장하는 방식"
   ]
  },
  {
   "cell_type": "code",
   "execution_count": 42,
   "metadata": {},
   "outputs": [],
   "source": [
    "V = []\n",
    "D = []\n",
    "Dictionary = defaultdict(lambda: -1)\n",
    "Postings = []\n",
    "\n",
    "DTM = defaultdict(lambda: defaultdict(int))\n",
    "\n",
    "for d in collection:\n",
    "    i = len(D)\n",
    "    D.append(i)\n",
    "    localPostings = defaultdict(int)\n",
    "\n",
    "    for t in [_[0] for _ in kkma.pos(d) if _[1].startswith('N')]:\n",
    "        if t not in V:\n",
    "            V.append(t)\n",
    "        j = V.index(t)\n",
    "        localPostings[j] += 1\n",
    "\n",
    "    for j, f in localPostings.items():\n",
    "        nextPosition = Dictionary[j]\n",
    "        _struct = (i, f, nextPosition)\n",
    "        Dictionary[j] = len(Postings)\n",
    "        Postings.append(_struct)"
   ]
  },
  {
   "cell_type": "code",
   "execution_count": 43,
   "metadata": {
    "scrolled": true
   },
   "outputs": [],
   "source": [
    "for j, _ in enumerate(V):\n",
    "    nextPosition = Dictionary[j]\n",
    "    while True:\n",
    "        _struct = Postings[nextPosition]\n",
    "        nextPosition = _struct[2]\n",
    "#         print(V[j], D[_struct[0]], _struct[1])\n",
    "\n",
    "        if nextPosition == -1:\n",
    "            break"
   ]
  },
  {
   "cell_type": "markdown",
   "metadata": {},
   "source": [
    "---"
   ]
  },
  {
   "cell_type": "code",
   "execution_count": 44,
   "metadata": {},
   "outputs": [],
   "source": [
    "V = []\n",
    "D = []\n",
    "Dictionary = defaultdict(lambda: -1)\n",
    "Postings = open('postings.dst', 'w')\n",
    "\n",
    "DTM = defaultdict(lambda: defaultdict(int))\n",
    "\n",
    "for d in collection:\n",
    "    i = len(D)\n",
    "    D.append(i)\n",
    "    localPostings = defaultdict(int)\n",
    "\n",
    "    for t in [_[0] for _ in kkma.pos(d) if _[1].startswith('N')]:\n",
    "        if t not in V:\n",
    "            V.append(t)\n",
    "        j = V.index(t)\n",
    "        localPostings[j] += 1\n",
    "\n",
    "    for j, f in localPostings.items():\n",
    "        nextPosition = Dictionary[j]\n",
    "        _struct = (i, f, nextPosition)\n",
    "        Dictionary[j] = Postings.tell()\n",
    "        Postings.write(f'{_struct[0]},{_struct[1]},{_struct[2]}\\n')\n",
    "Postings.close()"
   ]
  },
  {
   "cell_type": "code",
   "execution_count": 45,
   "metadata": {},
   "outputs": [],
   "source": [
    "with open(\"postings.dst\") as Postings:\n",
    "    for j in range(len(V)):\n",
    "        nextPosition = Dictionary[j]\n",
    "        while True:\n",
    "            Postings.seek(nextPosition)\n",
    "            _struct = Postings.readline().split(',')\n",
    "            nextPosition = int(_struct[2])\n",
    "#             print(V[int(j)], D[int(_struct[0])], _struct[1])\n",
    "\n",
    "            if nextPosition == -1:\n",
    "                break"
   ]
  },
  {
   "cell_type": "markdown",
   "metadata": {},
   "source": [
    "---"
   ]
  },
  {
   "cell_type": "code",
   "execution_count": 46,
   "metadata": {},
   "outputs": [],
   "source": [
    "V = []\n",
    "D = []\n",
    "Dictionary = defaultdict(lambda: -1)\n",
    "Postings = open('postings.dst', 'wb')\n",
    "\n",
    "DTM = defaultdict(lambda: defaultdict(int))\n",
    "\n",
    "for d in collection:\n",
    "    i = len(D)\n",
    "    D.append(i)\n",
    "    localPostings = defaultdict(int)\n",
    "\n",
    "    for t in [_[0] for _ in kkma.pos(d) if _[1].startswith('N')]:\n",
    "        if t not in V:\n",
    "            V.append(t)\n",
    "        j = V.index(t)\n",
    "        localPostings[j] += 1\n",
    "\n",
    "    for j, f in localPostings.items():\n",
    "        nextPosition = Dictionary[j]\n",
    "        _struct = (i, f, nextPosition)\n",
    "        Dictionary[j] = Postings.tell()\n",
    "        Postings.write(pack('3i', i, f, nextPosition))\n",
    "Postings.close()"
   ]
  },
  {
   "cell_type": "code",
   "execution_count": 47,
   "metadata": {},
   "outputs": [],
   "source": [
    "with open(\"postings.dst\", \"rb\") as Postings:\n",
    "    for j in range(len(V)):\n",
    "        nextPosition = Dictionary[j]\n",
    "        while True:\n",
    "            Postings.seek(nextPosition)\n",
    "            _struct = unpack(\"3i\", Postings.read(12))\n",
    "            nextPosition = _struct[2]\n",
    "#             print(V[j], D[_struct[0]], _struct[1])\n",
    "            if nextPosition == -1:\n",
    "                break"
   ]
  },
  {
   "cell_type": "markdown",
   "metadata": {},
   "source": [
    "---"
   ]
  },
  {
   "cell_type": "markdown",
   "metadata": {},
   "source": [
    "# TF-IDF\n",
    "- [TF-IDF Wikipidia](https://en.wikipedia.org/wiki/Tf%E2%80%93idf)"
   ]
  },
  {
   "cell_type": "code",
   "execution_count": 48,
   "metadata": {},
   "outputs": [],
   "source": [
    "DTM = defaultdict(lambda: defaultdict(int))\n",
    "for i, d in enumerate(BoM):\n",
    "    for j, t in enumerate(d):\n",
    "        if t == 1:\n",
    "            DTM[i][j] = t"
   ]
  },
  {
   "cell_type": "code",
   "execution_count": 49,
   "metadata": {},
   "outputs": [],
   "source": [
    "TDM = defaultdict(lambda: defaultdict(int))\n",
    "\n",
    "for i, termDict in DTM.items():\n",
    "    for j, b in termDict.items():\n",
    "        TDM[j][i] = b"
   ]
  },
  {
   "cell_type": "markdown",
   "metadata": {},
   "source": [
    "## TF\n",
    "<div align=\"left\">\n",
    "<table class=\"wikitable\" style=\"float: top; margin-left: 0; margin-right: 1.5em; margin-top: 0;\">\n",
    "<caption>Variants of term frequency (tf) weight\n",
    "</caption>\n",
    "<tbody><tr>\n",
    "<th>weighting scheme\n",
    "</th>\n",
    "<th>tf weight\n",
    "</th></tr>\n",
    "<tr>\n",
    "<td>binary</td>\n",
    "<td><span class=\"mwe-math-element\"><span class=\"mwe-math-mathml-inline mwe-math-mathml-a11y\" style=\"display: none;\"><math xmlns=\"http://www.w3.org/1998/Math/MathML\"  alttext=\"{\\displaystyle {0,1}}\">\n",
    "  <semantics>\n",
    "    <mrow class=\"MJX-TeXAtom-ORD\">\n",
    "      <mstyle displaystyle=\"true\" scriptlevel=\"0\">\n",
    "        <mrow class=\"MJX-TeXAtom-ORD\">\n",
    "          <mn>0</mn>\n",
    "          <mo>,</mo>\n",
    "          <mn>1</mn>\n",
    "        </mrow>\n",
    "      </mstyle>\n",
    "    </mrow>\n",
    "    <annotation encoding=\"application/x-tex\">{\\displaystyle {0,1}}</annotation>\n",
    "  </semantics>\n",
    "</math></span><img src=\"https://wikimedia.org/api/rest_v1/media/math/render/svg/a019735e07635e5a74673d6e1a34919027e645f5\" class=\"mwe-math-fallback-image-inline\" aria-hidden=\"true\" style=\"vertical-align: -0.671ex; width:3.359ex; height:2.509ex;\" alt=\"{0,1}\"/></span>\n",
    "</td></tr>\n",
    "<tr>\n",
    "<td>raw count</td>\n",
    "<td><span class=\"mwe-math-element\"><span class=\"mwe-math-mathml-inline mwe-math-mathml-a11y\" style=\"display: none;\"><math xmlns=\"http://www.w3.org/1998/Math/MathML\"  alttext=\"{\\displaystyle f_{t,d}}\">\n",
    "  <semantics>\n",
    "    <mrow class=\"MJX-TeXAtom-ORD\">\n",
    "      <mstyle displaystyle=\"true\" scriptlevel=\"0\">\n",
    "        <msub>\n",
    "          <mi>f</mi>\n",
    "          <mrow class=\"MJX-TeXAtom-ORD\">\n",
    "            <mi>t</mi>\n",
    "            <mo>,</mo>\n",
    "            <mi>d</mi>\n",
    "          </mrow>\n",
    "        </msub>\n",
    "      </mstyle>\n",
    "    </mrow>\n",
    "    <annotation encoding=\"application/x-tex\">{\\displaystyle f_{t,d}}</annotation>\n",
    "  </semantics>\n",
    "</math></span><img src=\"https://wikimedia.org/api/rest_v1/media/math/render/svg/69faba5875c1ba7d6a3820c813ba22fba35185f5\" class=\"mwe-math-fallback-image-inline\" aria-hidden=\"true\" style=\"vertical-align: -1.005ex; width:3.282ex; height:2.843ex;\" alt=\"f_{{t,d}}\"/></span>\n",
    "</td></tr>\n",
    "<tr>\n",
    "<td>term frequency\n",
    "</td>\n",
    "<td><span class=\"mwe-math-element\"><span class=\"mwe-math-mathml-inline mwe-math-mathml-a11y\" style=\"display: none;\"><math xmlns=\"http://www.w3.org/1998/Math/MathML\"  alttext=\"{\\displaystyle f_{t,d}{\\Bigg /}{\\sum _{t'\\in d}{f_{t',d}}}}\">\n",
    "  <semantics>\n",
    "    <mrow class=\"MJX-TeXAtom-ORD\">\n",
    "      <mstyle displaystyle=\"true\" scriptlevel=\"0\">\n",
    "        <msub>\n",
    "          <mi>f</mi>\n",
    "          <mrow class=\"MJX-TeXAtom-ORD\">\n",
    "            <mi>t</mi>\n",
    "            <mo>,</mo>\n",
    "            <mi>d</mi>\n",
    "          </mrow>\n",
    "        </msub>\n",
    "        <mrow class=\"MJX-TeXAtom-ORD\">\n",
    "          <mrow class=\"MJX-TeXAtom-ORD\">\n",
    "            <mo fence=\"true\" stretchy=\"true\" symmetric=\"true\" maxsize=\"2.470em\" minsize=\"2.470em\">/</mo>\n",
    "          </mrow>\n",
    "        </mrow>\n",
    "        <mrow class=\"MJX-TeXAtom-ORD\">\n",
    "          <munder>\n",
    "            <mo>&#x2211;<!-- ∑ --></mo>\n",
    "            <mrow class=\"MJX-TeXAtom-ORD\">\n",
    "              <msup>\n",
    "                <mi>t</mi>\n",
    "                <mo>&#x2032;</mo>\n",
    "              </msup>\n",
    "              <mo>&#x2208;<!-- ∈ --></mo>\n",
    "              <mi>d</mi>\n",
    "            </mrow>\n",
    "          </munder>\n",
    "          <mrow class=\"MJX-TeXAtom-ORD\">\n",
    "            <msub>\n",
    "              <mi>f</mi>\n",
    "              <mrow class=\"MJX-TeXAtom-ORD\">\n",
    "                <msup>\n",
    "                  <mi>t</mi>\n",
    "                  <mo>&#x2032;</mo>\n",
    "                </msup>\n",
    "                <mo>,</mo>\n",
    "                <mi>d</mi>\n",
    "              </mrow>\n",
    "            </msub>\n",
    "          </mrow>\n",
    "        </mrow>\n",
    "      </mstyle>\n",
    "    </mrow>\n",
    "    <annotation encoding=\"application/x-tex\">{\\displaystyle f_{t,d}{\\Bigg /}{\\sum _{t'\\in d}{f_{t',d}}}}</annotation>\n",
    "  </semantics>\n",
    "</math></span><img src=\"https://wikimedia.org/api/rest_v1/media/math/render/svg/91699003abf4fe8bdf861bbce08e73e71acf5fd4\" class=\"mwe-math-fallback-image-inline\" aria-hidden=\"true\" style=\"vertical-align: -3.338ex; width:13.808ex; height:7.676ex;\" alt=\"{\\displaystyle f_{t,d}{\\Bigg /}{\\sum _{t&#039;\\in d}{f_{t&#039;,d}}}}\"/></span>\n",
    "</td></tr>\n",
    "<tr>\n",
    "<td>log normalization</td>\n",
    "<td><span class=\"mwe-math-element\"><span class=\"mwe-math-mathml-inline mwe-math-mathml-a11y\" style=\"display: none;\"><math xmlns=\"http://www.w3.org/1998/Math/MathML\"  alttext=\"{\\displaystyle \\log(1+f_{t,d})}\">\n",
    "  <semantics>\n",
    "    <mrow class=\"MJX-TeXAtom-ORD\">\n",
    "      <mstyle displaystyle=\"true\" scriptlevel=\"0\">\n",
    "        <mi>log</mi>\n",
    "        <mo>&#x2061;<!-- ⁡ --></mo>\n",
    "        <mo stretchy=\"false\">(</mo>\n",
    "        <mn>1</mn>\n",
    "        <mo>+</mo>\n",
    "        <msub>\n",
    "          <mi>f</mi>\n",
    "          <mrow class=\"MJX-TeXAtom-ORD\">\n",
    "            <mi>t</mi>\n",
    "            <mo>,</mo>\n",
    "            <mi>d</mi>\n",
    "          </mrow>\n",
    "        </msub>\n",
    "        <mo stretchy=\"false\">)</mo>\n",
    "      </mstyle>\n",
    "    </mrow>\n",
    "    <annotation encoding=\"application/x-tex\">{\\displaystyle \\log(1+f_{t,d})}</annotation>\n",
    "  </semantics>\n",
    "</math></span><img src=\"https://wikimedia.org/api/rest_v1/media/math/render/svg/9c173382612c58c00325c4e9f593739ab3afc324\" class=\"mwe-math-fallback-image-inline\" aria-hidden=\"true\" style=\"vertical-align: -1.005ex; width:12.066ex; height:3.009ex;\" alt=\"\\log(1+f_{{t,d}})\"/></span>\n",
    "</td></tr>\n",
    "<tr>\n",
    "<td>double normalization 0.5</td>\n",
    "<td><span class=\"mwe-math-element\"><span class=\"mwe-math-mathml-inline mwe-math-mathml-a11y\" style=\"display: none;\"><math xmlns=\"http://www.w3.org/1998/Math/MathML\"  alttext=\"{\\displaystyle 0.5+0.5\\cdot {\\frac {f_{t,d}}{\\max _{\\{t'\\in d\\}}{f_{t',d}}}}}\">\n",
    "  <semantics>\n",
    "    <mrow class=\"MJX-TeXAtom-ORD\">\n",
    "      <mstyle displaystyle=\"true\" scriptlevel=\"0\">\n",
    "        <mn>0.5</mn>\n",
    "        <mo>+</mo>\n",
    "        <mn>0.5</mn>\n",
    "        <mo>&#x22C5;<!-- ⋅ --></mo>\n",
    "        <mrow class=\"MJX-TeXAtom-ORD\">\n",
    "          <mfrac>\n",
    "            <msub>\n",
    "              <mi>f</mi>\n",
    "              <mrow class=\"MJX-TeXAtom-ORD\">\n",
    "                <mi>t</mi>\n",
    "                <mo>,</mo>\n",
    "                <mi>d</mi>\n",
    "              </mrow>\n",
    "            </msub>\n",
    "            <mrow>\n",
    "              <munder>\n",
    "                <mo movablelimits=\"true\" form=\"prefix\">max</mo>\n",
    "                <mrow class=\"MJX-TeXAtom-ORD\">\n",
    "                  <mo fence=\"false\" stretchy=\"false\">{</mo>\n",
    "                  <msup>\n",
    "                    <mi>t</mi>\n",
    "                    <mo>&#x2032;</mo>\n",
    "                  </msup>\n",
    "                  <mo>&#x2208;<!-- ∈ --></mo>\n",
    "                  <mi>d</mi>\n",
    "                  <mo fence=\"false\" stretchy=\"false\">}</mo>\n",
    "                </mrow>\n",
    "              </munder>\n",
    "              <mrow class=\"MJX-TeXAtom-ORD\">\n",
    "                <msub>\n",
    "                  <mi>f</mi>\n",
    "                  <mrow class=\"MJX-TeXAtom-ORD\">\n",
    "                    <msup>\n",
    "                      <mi>t</mi>\n",
    "                      <mo>&#x2032;</mo>\n",
    "                    </msup>\n",
    "                    <mo>,</mo>\n",
    "                    <mi>d</mi>\n",
    "                  </mrow>\n",
    "                </msub>\n",
    "              </mrow>\n",
    "            </mrow>\n",
    "          </mfrac>\n",
    "        </mrow>\n",
    "      </mstyle>\n",
    "    </mrow>\n",
    "    <annotation encoding=\"application/x-tex\">{\\displaystyle 0.5+0.5\\cdot {\\frac {f_{t,d}}{\\max _{\\{t'\\in d\\}}{f_{t',d}}}}}</annotation>\n",
    "  </semantics>\n",
    "</math></span><img src=\"https://wikimedia.org/api/rest_v1/media/math/render/svg/45badc1c70ec2caa00ed8c21ed75bd9f8d3e650c\" class=\"mwe-math-fallback-image-inline\" aria-hidden=\"true\" style=\"vertical-align: -2.838ex; width:24.783ex; height:6.676ex;\" alt=\"{\\displaystyle 0.5+0.5\\cdot {\\frac {f_{t,d}}{\\max _{\\{t&#039;\\in d\\}}{f_{t&#039;,d}}}}}\"/></span>\n",
    "</td></tr>\n",
    "<tr>\n",
    "<td>double normalization K</td>\n",
    "<td><span class=\"mwe-math-element\"><span class=\"mwe-math-mathml-inline mwe-math-mathml-a11y\" style=\"display: none;\"><math xmlns=\"http://www.w3.org/1998/Math/MathML\"  alttext=\"{\\displaystyle K+(1-K){\\frac {f_{t,d}}{\\max _{\\{t'\\in d\\}}{f_{t',d}}}}}\">\n",
    "  <semantics>\n",
    "    <mrow class=\"MJX-TeXAtom-ORD\">\n",
    "      <mstyle displaystyle=\"true\" scriptlevel=\"0\">\n",
    "        <mi>K</mi>\n",
    "        <mo>+</mo>\n",
    "        <mo stretchy=\"false\">(</mo>\n",
    "        <mn>1</mn>\n",
    "        <mo>&#x2212;<!-- − --></mo>\n",
    "        <mi>K</mi>\n",
    "        <mo stretchy=\"false\">)</mo>\n",
    "        <mrow class=\"MJX-TeXAtom-ORD\">\n",
    "          <mfrac>\n",
    "            <msub>\n",
    "              <mi>f</mi>\n",
    "              <mrow class=\"MJX-TeXAtom-ORD\">\n",
    "                <mi>t</mi>\n",
    "                <mo>,</mo>\n",
    "                <mi>d</mi>\n",
    "              </mrow>\n",
    "            </msub>\n",
    "            <mrow>\n",
    "              <munder>\n",
    "                <mo movablelimits=\"true\" form=\"prefix\">max</mo>\n",
    "                <mrow class=\"MJX-TeXAtom-ORD\">\n",
    "                  <mo fence=\"false\" stretchy=\"false\">{</mo>\n",
    "                  <msup>\n",
    "                    <mi>t</mi>\n",
    "                    <mo>&#x2032;</mo>\n",
    "                  </msup>\n",
    "                  <mo>&#x2208;<!-- ∈ --></mo>\n",
    "                  <mi>d</mi>\n",
    "                  <mo fence=\"false\" stretchy=\"false\">}</mo>\n",
    "                </mrow>\n",
    "              </munder>\n",
    "              <mrow class=\"MJX-TeXAtom-ORD\">\n",
    "                <msub>\n",
    "                  <mi>f</mi>\n",
    "                  <mrow class=\"MJX-TeXAtom-ORD\">\n",
    "                    <msup>\n",
    "                      <mi>t</mi>\n",
    "                      <mo>&#x2032;</mo>\n",
    "                    </msup>\n",
    "                    <mo>,</mo>\n",
    "                    <mi>d</mi>\n",
    "                  </mrow>\n",
    "                </msub>\n",
    "              </mrow>\n",
    "            </mrow>\n",
    "          </mfrac>\n",
    "        </mrow>\n",
    "      </mstyle>\n",
    "    </mrow>\n",
    "    <annotation encoding=\"application/x-tex\">{\\displaystyle K+(1-K){\\frac {f_{t,d}}{\\max _{\\{t'\\in d\\}}{f_{t',d}}}}}</annotation>\n",
    "  </semantics>\n",
    "</math></span><img src=\"https://wikimedia.org/api/rest_v1/media/math/render/svg/65b776d7a3f8e42f15c880fb7582282b987684fe\" class=\"mwe-math-fallback-image-inline\" aria-hidden=\"true\" style=\"vertical-align: -2.838ex; width:27.105ex; height:6.676ex;\" alt=\"{\\displaystyle K+(1-K){\\frac {f_{t,d}}{\\max _{\\{t&#039;\\in d\\}}{f_{t&#039;,d}}}}}\"/></span>\n",
    "</td></tr></tbody></table>\n",
    "</div>"
   ]
  },
  {
   "cell_type": "code",
   "execution_count": 50,
   "metadata": {},
   "outputs": [],
   "source": [
    "from math import log\n",
    "\n",
    "\n",
    "tf1 = lambda f, tf: f / tf                    # term frequency\n",
    "tf2 = lambda f: log(1+f)                      # log normalization\n",
    "tf3 = lambda f, mf, K=0.5: K + (1-K) * (f/mf) # double normalization K"
   ]
  },
  {
   "cell_type": "code",
   "execution_count": 51,
   "metadata": {},
   "outputs": [
    {
     "data": {
      "text/plain": [
       "(0.5, 1.0986122886681098, 0.75)"
      ]
     },
     "execution_count": 51,
     "metadata": {},
     "output_type": "execute_result"
    }
   ],
   "source": [
    "tf1(1, 2), tf2(2), tf3(1, 2)"
   ]
  },
  {
   "cell_type": "code",
   "execution_count": 52,
   "metadata": {},
   "outputs": [
    {
     "name": "stdout",
     "output_type": "stream",
     "text": [
      "뉴 0 0.0005704506560182544 0.6931471805599453 1.0\n",
      "뉴 1 0.0005704506560182544 0.6931471805599453 1.0\n"
     ]
    }
   ],
   "source": [
    "for j, docs in TDM.items():\n",
    "    for i, f in docs.items():\n",
    "        TF1 = tf1(f, sum(DTM[i].values()))\n",
    "        TF2 = tf2(f)\n",
    "        TF3 = tf3(f, max(DTM[i].values()))\n",
    "        print(V[j], i, TF1, TF2, TF3)\n",
    "    break"
   ]
  },
  {
   "cell_type": "markdown",
   "metadata": {},
   "source": [
    "## IDF\n",
    "<div align=\"left\">\n",
    "<table class=\"wikitable\" style=\"float: top; margin-left: 0; margin-right: 1.5em; margin-top: 0;\">\n",
    "<caption>Variants of inverse document frequency (idf) weight\n",
    "</caption>\n",
    "<tbody><tr>\n",
    "<th>weighting scheme\n",
    "</th>\n",
    "<th>idf weight (<span class=\"mwe-math-element\"><span class=\"mwe-math-mathml-inline mwe-math-mathml-a11y\" style=\"display: none;\"><math xmlns=\"http://www.w3.org/1998/Math/MathML\"  alttext=\"{\\displaystyle n_{t}=|\\{d\\in D:t\\in d\\}|}\">\n",
    "  <semantics>\n",
    "    <mrow class=\"MJX-TeXAtom-ORD\">\n",
    "      <mstyle displaystyle=\"true\" scriptlevel=\"0\">\n",
    "        <msub>\n",
    "          <mi>n</mi>\n",
    "          <mrow class=\"MJX-TeXAtom-ORD\">\n",
    "            <mi>t</mi>\n",
    "          </mrow>\n",
    "        </msub>\n",
    "        <mo>=</mo>\n",
    "        <mrow class=\"MJX-TeXAtom-ORD\">\n",
    "          <mo stretchy=\"false\">|</mo>\n",
    "        </mrow>\n",
    "        <mo fence=\"false\" stretchy=\"false\">{</mo>\n",
    "        <mi>d</mi>\n",
    "        <mo>&#x2208;<!-- ∈ --></mo>\n",
    "        <mi>D</mi>\n",
    "        <mo>:</mo>\n",
    "        <mi>t</mi>\n",
    "        <mo>&#x2208;<!-- ∈ --></mo>\n",
    "        <mi>d</mi>\n",
    "        <mo fence=\"false\" stretchy=\"false\">}</mo>\n",
    "        <mrow class=\"MJX-TeXAtom-ORD\">\n",
    "          <mo stretchy=\"false\">|</mo>\n",
    "        </mrow>\n",
    "      </mstyle>\n",
    "    </mrow>\n",
    "    <annotation encoding=\"application/x-tex\">{\\displaystyle n_{t}=|\\{d\\in D:t\\in d\\}|}</annotation>\n",
    "  </semantics>\n",
    "</math></span><img src=\"https://wikimedia.org/api/rest_v1/media/math/render/svg/e5d6fca54b5ec3fa4680ead41736fc1c16a58ca1\" class=\"mwe-math-fallback-image-inline\" aria-hidden=\"true\" style=\"vertical-align: -0.838ex; width:21.752ex; height:2.843ex;\" alt=\"{\\displaystyle n_{t}=|\\{d\\in D:t\\in d\\}|}\"/></span>)\n",
    "</th></tr>\n",
    "<tr>\n",
    "<td>unary</td>\n",
    "<td>1\n",
    "</td></tr>\n",
    "<tr>\n",
    "<td>inverse document frequency</td>\n",
    "<td><span class=\"mwe-math-element\"><span class=\"mwe-math-mathml-inline mwe-math-mathml-a11y\" style=\"display: none;\"><math xmlns=\"http://www.w3.org/1998/Math/MathML\"  alttext=\"{\\displaystyle \\log {\\frac {N}{n_{t}}}=-\\log {\\frac {n_{t}}{N}}}\">\n",
    "  <semantics>\n",
    "    <mrow class=\"MJX-TeXAtom-ORD\">\n",
    "      <mstyle displaystyle=\"true\" scriptlevel=\"0\">\n",
    "        <mi>log</mi>\n",
    "        <mo>&#x2061;<!-- ⁡ --></mo>\n",
    "        <mrow class=\"MJX-TeXAtom-ORD\">\n",
    "          <mfrac>\n",
    "            <mi>N</mi>\n",
    "            <msub>\n",
    "              <mi>n</mi>\n",
    "              <mrow class=\"MJX-TeXAtom-ORD\">\n",
    "                <mi>t</mi>\n",
    "              </mrow>\n",
    "            </msub>\n",
    "          </mfrac>\n",
    "        </mrow>\n",
    "        <mo>=</mo>\n",
    "        <mo>&#x2212;<!-- − --></mo>\n",
    "        <mi>log</mi>\n",
    "        <mo>&#x2061;<!-- ⁡ --></mo>\n",
    "        <mrow class=\"MJX-TeXAtom-ORD\">\n",
    "          <mfrac>\n",
    "            <msub>\n",
    "              <mi>n</mi>\n",
    "              <mrow class=\"MJX-TeXAtom-ORD\">\n",
    "                <mi>t</mi>\n",
    "              </mrow>\n",
    "            </msub>\n",
    "            <mi>N</mi>\n",
    "          </mfrac>\n",
    "        </mrow>\n",
    "      </mstyle>\n",
    "    </mrow>\n",
    "    <annotation encoding=\"application/x-tex\">{\\displaystyle \\log {\\frac {N}{n_{t}}}=-\\log {\\frac {n_{t}}{N}}}</annotation>\n",
    "  </semantics>\n",
    "</math></span><img src=\"https://wikimedia.org/api/rest_v1/media/math/render/svg/864fcfdc0c16344c11509f724f1aa7081cf9f657\" class=\"mwe-math-fallback-image-inline\" aria-hidden=\"true\" style=\"vertical-align: -2.171ex; width:18.125ex; height:5.509ex;\" alt=\"{\\displaystyle \\log {\\frac {N}{n_{t}}}=-\\log {\\frac {n_{t}}{N}}}\"/></span>\n",
    "</td></tr>\n",
    "<tr>\n",
    "<td>inverse document frequency smooth</td>\n",
    "<td><span class=\"mwe-math-element\"><span class=\"mwe-math-mathml-inline mwe-math-mathml-a11y\" style=\"display: none;\"><math xmlns=\"http://www.w3.org/1998/Math/MathML\"  alttext=\"{\\displaystyle \\log \\left({\\frac {N}{1+n_{t}}}\\right)}\">\n",
    "  <semantics>\n",
    "    <mrow class=\"MJX-TeXAtom-ORD\">\n",
    "      <mstyle displaystyle=\"true\" scriptlevel=\"0\">\n",
    "        <mi>log</mi>\n",
    "        <mo>&#x2061;<!-- ⁡ --></mo>\n",
    "        <mrow>\n",
    "          <mo>(</mo>\n",
    "          <mrow class=\"MJX-TeXAtom-ORD\">\n",
    "            <mfrac>\n",
    "              <mi>N</mi>\n",
    "              <mrow>\n",
    "                <mn>1</mn>\n",
    "                <mo>+</mo>\n",
    "                <msub>\n",
    "                  <mi>n</mi>\n",
    "                  <mrow class=\"MJX-TeXAtom-ORD\">\n",
    "                    <mi>t</mi>\n",
    "                  </mrow>\n",
    "                </msub>\n",
    "              </mrow>\n",
    "            </mfrac>\n",
    "          </mrow>\n",
    "          <mo>)</mo>\n",
    "        </mrow>\n",
    "      </mstyle>\n",
    "    </mrow>\n",
    "    <annotation encoding=\"application/x-tex\">{\\displaystyle \\log \\left({\\frac {N}{1+n_{t}}}\\right)}</annotation>\n",
    "  </semantics>\n",
    "</math></span><img src=\"https://wikimedia.org/api/rest_v1/media/math/render/svg/23e5ae785c1ddc6bd95d404ea3fac2477fff5eff\" class=\"mwe-math-fallback-image-inline\" aria-hidden=\"true\" style=\"vertical-align: -2.505ex; width:13.453ex; height:6.176ex;\" alt=\"{\\displaystyle \\log \\left({\\frac {N}{1+n_{t}}}\\right)}\"/></span>\n",
    "</td></tr>\n",
    "<tr>\n",
    "<td>inverse document frequency max</td>\n",
    "<td><span class=\"mwe-math-element\"><span class=\"mwe-math-mathml-inline mwe-math-mathml-a11y\" style=\"display: none;\"><math xmlns=\"http://www.w3.org/1998/Math/MathML\"  alttext=\"{\\displaystyle \\log \\left({\\frac {\\max _{\\{t'\\in d\\}}n_{t'}}{1+n_{t}}}\\right)}\">\n",
    "  <semantics>\n",
    "    <mrow class=\"MJX-TeXAtom-ORD\">\n",
    "      <mstyle displaystyle=\"true\" scriptlevel=\"0\">\n",
    "        <mi>log</mi>\n",
    "        <mo>&#x2061;<!-- ⁡ --></mo>\n",
    "        <mrow>\n",
    "          <mo>(</mo>\n",
    "          <mrow class=\"MJX-TeXAtom-ORD\">\n",
    "            <mfrac>\n",
    "              <mrow>\n",
    "                <munder>\n",
    "                  <mo movablelimits=\"true\" form=\"prefix\">max</mo>\n",
    "                  <mrow class=\"MJX-TeXAtom-ORD\">\n",
    "                    <mo fence=\"false\" stretchy=\"false\">{</mo>\n",
    "                    <msup>\n",
    "                      <mi>t</mi>\n",
    "                      <mo>&#x2032;</mo>\n",
    "                    </msup>\n",
    "                    <mo>&#x2208;<!-- ∈ --></mo>\n",
    "                    <mi>d</mi>\n",
    "                    <mo fence=\"false\" stretchy=\"false\">}</mo>\n",
    "                  </mrow>\n",
    "                </munder>\n",
    "                <msub>\n",
    "                  <mi>n</mi>\n",
    "                  <mrow class=\"MJX-TeXAtom-ORD\">\n",
    "                    <msup>\n",
    "                      <mi>t</mi>\n",
    "                      <mo>&#x2032;</mo>\n",
    "                    </msup>\n",
    "                  </mrow>\n",
    "                </msub>\n",
    "              </mrow>\n",
    "              <mrow>\n",
    "                <mn>1</mn>\n",
    "                <mo>+</mo>\n",
    "                <msub>\n",
    "                  <mi>n</mi>\n",
    "                  <mrow class=\"MJX-TeXAtom-ORD\">\n",
    "                    <mi>t</mi>\n",
    "                  </mrow>\n",
    "                </msub>\n",
    "              </mrow>\n",
    "            </mfrac>\n",
    "          </mrow>\n",
    "          <mo>)</mo>\n",
    "        </mrow>\n",
    "      </mstyle>\n",
    "    </mrow>\n",
    "    <annotation encoding=\"application/x-tex\">{\\displaystyle \\log \\left({\\frac {\\max _{\\{t'\\in d\\}}n_{t'}}{1+n_{t}}}\\right)}</annotation>\n",
    "  </semantics>\n",
    "</math></span><img src=\"https://wikimedia.org/api/rest_v1/media/math/render/svg/f15c125a1d7f1327afeecc4e2b89272a9a094338\" class=\"mwe-math-fallback-image-inline\" aria-hidden=\"true\" style=\"vertical-align: -2.505ex; width:19.652ex; height:6.176ex;\" alt=\"{\\displaystyle \\log \\left({\\frac {\\max _{\\{t&#039;\\in d\\}}n_{t&#039;}}{1+n_{t}}}\\right)}\"/></span>\n",
    "</td></tr>\n",
    "<tr>\n",
    "<td>probabilistic inverse document frequency</td>\n",
    "<td><span class=\"mwe-math-element\"><span class=\"mwe-math-mathml-inline mwe-math-mathml-a11y\" style=\"display: none;\"><math xmlns=\"http://www.w3.org/1998/Math/MathML\"  alttext=\"{\\displaystyle \\log {\\frac {N-n_{t}}{n_{t}}}}\">\n",
    "  <semantics>\n",
    "    <mrow class=\"MJX-TeXAtom-ORD\">\n",
    "      <mstyle displaystyle=\"true\" scriptlevel=\"0\">\n",
    "        <mi>log</mi>\n",
    "        <mo>&#x2061;<!-- ⁡ --></mo>\n",
    "        <mrow class=\"MJX-TeXAtom-ORD\">\n",
    "          <mfrac>\n",
    "            <mrow>\n",
    "              <mi>N</mi>\n",
    "              <mo>&#x2212;<!-- − --></mo>\n",
    "              <msub>\n",
    "                <mi>n</mi>\n",
    "                <mrow class=\"MJX-TeXAtom-ORD\">\n",
    "                  <mi>t</mi>\n",
    "                </mrow>\n",
    "              </msub>\n",
    "            </mrow>\n",
    "            <msub>\n",
    "              <mi>n</mi>\n",
    "              <mrow class=\"MJX-TeXAtom-ORD\">\n",
    "                <mi>t</mi>\n",
    "              </mrow>\n",
    "            </msub>\n",
    "          </mfrac>\n",
    "        </mrow>\n",
    "      </mstyle>\n",
    "    </mrow>\n",
    "    <annotation encoding=\"application/x-tex\">{\\displaystyle \\log {\\frac {N-n_{t}}{n_{t}}}}</annotation>\n",
    "  </semantics>\n",
    "</math></span><img src=\"https://wikimedia.org/api/rest_v1/media/math/render/svg/1868194cba8431aa2d556dd1aac90d78833eaaf3\" class=\"mwe-math-fallback-image-inline\" aria-hidden=\"true\" style=\"vertical-align: -2.171ex; width:11.32ex; height:5.509ex;\" alt=\"\\log {\\frac  {N-n_{t}}{n_{t}}}\"/></span>\n",
    "</td></tr></tbody></table>\n",
    "</div>"
   ]
  },
  {
   "cell_type": "code",
   "execution_count": 53,
   "metadata": {},
   "outputs": [],
   "source": [
    "N = len(D)\n",
    "idf1 = lambda nt: log(N / nt)\n",
    "idf2 = lambda nt: log(1 + N / nt)\n",
    "idf3 = lambda mnt, nt: log(mnt / (1 + nt))\n",
    "idf4 = lambda nt: log((N - nt) / nt)\n",
    "idf5 = lambda nt: log(1+(N-nt)/nt)"
   ]
  },
  {
   "cell_type": "code",
   "execution_count": 54,
   "metadata": {},
   "outputs": [
    {
     "name": "stdout",
     "output_type": "stream",
     "text": [
      "뉴 0 0.0005704506560182544 0.6931471805599453 1.0\n",
      "뉴 1 0.0005704506560182544 0.6931471805599453 1.0\n",
      "뉴 2.8903717578961645 2.9444389791664403 2.833213344056216\n"
     ]
    }
   ],
   "source": [
    "for j, docs in TDM.items():\n",
    "    IDF1 = idf1(len(docs))\n",
    "    IDF2 = idf2(len(docs))\n",
    "    IDF4 = idf4(len(docs))\n",
    "\n",
    "    for i, f in docs.items():\n",
    "        TF1 = tf1(f, sum(DTM[i].values()))\n",
    "        TF2 = tf2(f)\n",
    "        TF3 = tf3(f, max(DTM[i].values()))\n",
    "        print(V[j], i, TF1, TF2, TF3)\n",
    "\n",
    "    print(V[j], IDF1, IDF2, IDF4)\n",
    "    break"
   ]
  },
  {
   "cell_type": "code",
   "execution_count": 55,
   "metadata": {},
   "outputs": [],
   "source": [
    "for j, docs in TDM.items():\n",
    "    try:\n",
    "        IDF1 = idf1(len(docs))\n",
    "        IDF2 = idf2(len(docs))\n",
    "        IDF4 = idf4(len(docs))\n",
    "\n",
    "        for i, f in docs.items():\n",
    "            TF1 = tf1(f, sum(DTM[i].values()))\n",
    "            TF2 = tf2(f)\n",
    "            TF3 = tf3(f, max(DTM[i].values()))\n",
    "\n",
    "            W1 = f*IDF1\n",
    "            W2 = TF2*1\n",
    "            W3 = TF2*IDF1\n",
    "            W4 = TF3*IDF1\n",
    "\n",
    "#             print(V[j], i, W1, W2, W3, W4)\n",
    "\n",
    "#         print(V[j], IDF1, IDF2, IDF4)\n",
    "    except:\n",
    "        continue"
   ]
  },
  {
   "cell_type": "code",
   "execution_count": 56,
   "metadata": {},
   "outputs": [
    {
     "data": {
      "image/png": "[encoded data removed]",
      "text/plain": [
       "<Figure size 432x288 with 1 Axes>"
      ]
     },
     "metadata": {
      "needs_background": "light"
     },
     "output_type": "display_data"
    }
   ],
   "source": [
    "import matplotlib.pyplot as plt\n",
    "%matplotlib inline\n",
    "\n",
    "N = 10\n",
    "dfList = np.arange(1, 10, 1)\n",
    "plt.plot(dfList, [idf4(_) for _ in dfList])\n",
    "plt.plot(dfList, [idf5(_) for _ in dfList])\n",
    "plt.axhline(0)\n",
    "plt.show()"
   ]
  },
  {
   "cell_type": "markdown",
   "metadata": {},
   "source": [
    "## TF-IDF Weight Schemes\n",
    "<div align=\"left\">\n",
    "<table class=\"wikitable\" style=\"float: top; margin-left: 0; margin-right: 1.5em; margin-top: 0;\">\n",
    "<caption>Recommended tf–idf weighting schemes\n",
    "</caption>\n",
    "<tbody><tr>\n",
    "<th>weighting scheme\n",
    "</th>\n",
    "<th>document term weight\n",
    "</th>\n",
    "<th>query term weight\n",
    "</th></tr>\n",
    "<tr>\n",
    "<td>1</td>\n",
    "<td><span class=\"mwe-math-element\"><span class=\"mwe-math-mathml-inline mwe-math-mathml-a11y\" style=\"display: none;\"><math xmlns=\"http://www.w3.org/1998/Math/MathML\"  alttext=\"{\\displaystyle f_{t,d}\\cdot \\log {\\frac {N}{n_{t}}}}\">\n",
    "  <semantics>\n",
    "    <mrow class=\"MJX-TeXAtom-ORD\">\n",
    "      <mstyle displaystyle=\"true\" scriptlevel=\"0\">\n",
    "        <msub>\n",
    "          <mi>f</mi>\n",
    "          <mrow class=\"MJX-TeXAtom-ORD\">\n",
    "            <mi>t</mi>\n",
    "            <mo>,</mo>\n",
    "            <mi>d</mi>\n",
    "          </mrow>\n",
    "        </msub>\n",
    "        <mo>&#x22C5;<!-- ⋅ --></mo>\n",
    "        <mi>log</mi>\n",
    "        <mo>&#x2061;<!-- ⁡ --></mo>\n",
    "        <mrow class=\"MJX-TeXAtom-ORD\">\n",
    "          <mfrac>\n",
    "            <mi>N</mi>\n",
    "            <msub>\n",
    "              <mi>n</mi>\n",
    "              <mrow class=\"MJX-TeXAtom-ORD\">\n",
    "                <mi>t</mi>\n",
    "              </mrow>\n",
    "            </msub>\n",
    "          </mfrac>\n",
    "        </mrow>\n",
    "      </mstyle>\n",
    "    </mrow>\n",
    "    <annotation encoding=\"application/x-tex\">{\\displaystyle f_{t,d}\\cdot \\log {\\frac {N}{n_{t}}}}</annotation>\n",
    "  </semantics>\n",
    "</math></span><img src=\"https://wikimedia.org/api/rest_v1/media/math/render/svg/74db3d91105b74e8450a78fadbf7ea7f241bc737\" class=\"mwe-math-fallback-image-inline\" aria-hidden=\"true\" style=\"vertical-align: -2.171ex; width:11.377ex; height:5.509ex;\" alt=\"{\\displaystyle f_{t,d}\\cdot \\log {\\frac {N}{n_{t}}}}\"/></span></td>\n",
    "<td><span class=\"mwe-math-element\"><span class=\"mwe-math-mathml-inline mwe-math-mathml-a11y\" style=\"display: none;\"><math xmlns=\"http://www.w3.org/1998/Math/MathML\"  alttext=\"{\\displaystyle \\left(0.5+0.5{\\frac {f_{t,q}}{\\max _{t}f_{t,q}}}\\right)\\cdot \\log {\\frac {N}{n_{t}}}}\">\n",
    "  <semantics>\n",
    "    <mrow class=\"MJX-TeXAtom-ORD\">\n",
    "      <mstyle displaystyle=\"true\" scriptlevel=\"0\">\n",
    "        <mrow>\n",
    "          <mo>(</mo>\n",
    "          <mrow>\n",
    "            <mn>0.5</mn>\n",
    "            <mo>+</mo>\n",
    "            <mn>0.5</mn>\n",
    "            <mrow class=\"MJX-TeXAtom-ORD\">\n",
    "              <mfrac>\n",
    "                <msub>\n",
    "                  <mi>f</mi>\n",
    "                  <mrow class=\"MJX-TeXAtom-ORD\">\n",
    "                    <mi>t</mi>\n",
    "                    <mo>,</mo>\n",
    "                    <mi>q</mi>\n",
    "                  </mrow>\n",
    "                </msub>\n",
    "                <mrow>\n",
    "                  <munder>\n",
    "                    <mo movablelimits=\"true\" form=\"prefix\">max</mo>\n",
    "                    <mrow class=\"MJX-TeXAtom-ORD\">\n",
    "                      <mi>t</mi>\n",
    "                    </mrow>\n",
    "                  </munder>\n",
    "                  <msub>\n",
    "                    <mi>f</mi>\n",
    "                    <mrow class=\"MJX-TeXAtom-ORD\">\n",
    "                      <mi>t</mi>\n",
    "                      <mo>,</mo>\n",
    "                      <mi>q</mi>\n",
    "                    </mrow>\n",
    "                  </msub>\n",
    "                </mrow>\n",
    "              </mfrac>\n",
    "            </mrow>\n",
    "          </mrow>\n",
    "          <mo>)</mo>\n",
    "        </mrow>\n",
    "        <mo>&#x22C5;<!-- ⋅ --></mo>\n",
    "        <mi>log</mi>\n",
    "        <mo>&#x2061;<!-- ⁡ --></mo>\n",
    "        <mrow class=\"MJX-TeXAtom-ORD\">\n",
    "          <mfrac>\n",
    "            <mi>N</mi>\n",
    "            <msub>\n",
    "              <mi>n</mi>\n",
    "              <mrow class=\"MJX-TeXAtom-ORD\">\n",
    "                <mi>t</mi>\n",
    "              </mrow>\n",
    "            </msub>\n",
    "          </mfrac>\n",
    "        </mrow>\n",
    "      </mstyle>\n",
    "    </mrow>\n",
    "    <annotation encoding=\"application/x-tex\">{\\displaystyle \\left(0.5+0.5{\\frac {f_{t,q}}{\\max _{t}f_{t,q}}}\\right)\\cdot \\log {\\frac {N}{n_{t}}}}</annotation>\n",
    "  </semantics>\n",
    "</math></span><img src=\"https://wikimedia.org/api/rest_v1/media/math/render/svg/fe1629098093a97eb293bd5085009c51c3cdd77b\" class=\"mwe-math-fallback-image-inline\" aria-hidden=\"true\" style=\"vertical-align: -2.671ex; width:29.854ex; height:6.509ex;\" alt=\"{\\displaystyle \\left(0.5+0.5{\\frac {f_{t,q}}{\\max _{t}f_{t,q}}}\\right)\\cdot \\log {\\frac {N}{n_{t}}}}\"/></span>\n",
    "</td></tr>\n",
    "<tr>\n",
    "<td>2</td>\n",
    "<td><span class=\"mwe-math-element\"><span class=\"mwe-math-mathml-inline mwe-math-mathml-a11y\" style=\"display: none;\"><math xmlns=\"http://www.w3.org/1998/Math/MathML\"  alttext=\"{\\displaystyle 1+\\log f_{t,d}}\">\n",
    "  <semantics>\n",
    "    <mrow class=\"MJX-TeXAtom-ORD\">\n",
    "      <mstyle displaystyle=\"true\" scriptlevel=\"0\">\n",
    "        <mn>1</mn>\n",
    "        <mo>+</mo>\n",
    "        <mi>log</mi>\n",
    "        <mo>&#x2061;<!-- ⁡ --></mo>\n",
    "        <msub>\n",
    "          <mi>f</mi>\n",
    "          <mrow class=\"MJX-TeXAtom-ORD\">\n",
    "            <mi>t</mi>\n",
    "            <mo>,</mo>\n",
    "            <mi>d</mi>\n",
    "          </mrow>\n",
    "        </msub>\n",
    "      </mstyle>\n",
    "    </mrow>\n",
    "    <annotation encoding=\"application/x-tex\">{\\displaystyle 1+\\log f_{t,d}}</annotation>\n",
    "  </semantics>\n",
    "</math></span><img src=\"https://wikimedia.org/api/rest_v1/media/math/render/svg/dc85c57525999f9f224ac5623e606bea2160d171\" class=\"mwe-math-fallback-image-inline\" aria-hidden=\"true\" style=\"vertical-align: -1.005ex; width:10.644ex; height:2.843ex;\" alt=\"1+\\log f_{{t,d}}\"/></span></td>\n",
    "<td><span class=\"mwe-math-element\"><span class=\"mwe-math-mathml-inline mwe-math-mathml-a11y\" style=\"display: none;\"><math xmlns=\"http://www.w3.org/1998/Math/MathML\"  alttext=\"{\\displaystyle \\log \\left(1+{\\frac {N}{n_{t}}}\\right)}\">\n",
    "  <semantics>\n",
    "    <mrow class=\"MJX-TeXAtom-ORD\">\n",
    "      <mstyle displaystyle=\"true\" scriptlevel=\"0\">\n",
    "        <mi>log</mi>\n",
    "        <mo>&#x2061;<!-- ⁡ --></mo>\n",
    "        <mrow>\n",
    "          <mo>(</mo>\n",
    "          <mrow>\n",
    "            <mn>1</mn>\n",
    "            <mo>+</mo>\n",
    "            <mrow class=\"MJX-TeXAtom-ORD\">\n",
    "              <mfrac>\n",
    "                <mi>N</mi>\n",
    "                <msub>\n",
    "                  <mi>n</mi>\n",
    "                  <mrow class=\"MJX-TeXAtom-ORD\">\n",
    "                    <mi>t</mi>\n",
    "                  </mrow>\n",
    "                </msub>\n",
    "              </mfrac>\n",
    "            </mrow>\n",
    "          </mrow>\n",
    "          <mo>)</mo>\n",
    "        </mrow>\n",
    "      </mstyle>\n",
    "    </mrow>\n",
    "    <annotation encoding=\"application/x-tex\">{\\displaystyle \\log \\left(1+{\\frac {N}{n_{t}}}\\right)}</annotation>\n",
    "  </semantics>\n",
    "</math></span><img src=\"https://wikimedia.org/api/rest_v1/media/math/render/svg/29f34f3a19a3fec371d5ab2756896a4c3cfc0d96\" class=\"mwe-math-fallback-image-inline\" aria-hidden=\"true\" style=\"vertical-align: -2.505ex; width:13.453ex; height:6.176ex;\" alt=\"{\\displaystyle \\log \\left(1+{\\frac {N}{n_{t}}}\\right)}\"/></span>\n",
    "</td></tr>\n",
    "<tr>\n",
    "<td>3</td>\n",
    "<td><span class=\"mwe-math-element\"><span class=\"mwe-math-mathml-inline mwe-math-mathml-a11y\" style=\"display: none;\"><math xmlns=\"http://www.w3.org/1998/Math/MathML\"  alttext=\"{\\displaystyle (1+\\log f_{t,d})\\cdot \\log {\\frac {N}{n_{t}}}}\">\n",
    "  <semantics>\n",
    "    <mrow class=\"MJX-TeXAtom-ORD\">\n",
    "      <mstyle displaystyle=\"true\" scriptlevel=\"0\">\n",
    "        <mo stretchy=\"false\">(</mo>\n",
    "        <mn>1</mn>\n",
    "        <mo>+</mo>\n",
    "        <mi>log</mi>\n",
    "        <mo>&#x2061;<!-- ⁡ --></mo>\n",
    "        <msub>\n",
    "          <mi>f</mi>\n",
    "          <mrow class=\"MJX-TeXAtom-ORD\">\n",
    "            <mi>t</mi>\n",
    "            <mo>,</mo>\n",
    "            <mi>d</mi>\n",
    "          </mrow>\n",
    "        </msub>\n",
    "        <mo stretchy=\"false\">)</mo>\n",
    "        <mo>&#x22C5;<!-- ⋅ --></mo>\n",
    "        <mi>log</mi>\n",
    "        <mo>&#x2061;<!-- ⁡ --></mo>\n",
    "        <mrow class=\"MJX-TeXAtom-ORD\">\n",
    "          <mfrac>\n",
    "            <mi>N</mi>\n",
    "            <msub>\n",
    "              <mi>n</mi>\n",
    "              <mrow class=\"MJX-TeXAtom-ORD\">\n",
    "                <mi>t</mi>\n",
    "              </mrow>\n",
    "            </msub>\n",
    "          </mfrac>\n",
    "        </mrow>\n",
    "      </mstyle>\n",
    "    </mrow>\n",
    "    <annotation encoding=\"application/x-tex\">{\\displaystyle (1+\\log f_{t,d})\\cdot \\log {\\frac {N}{n_{t}}}}</annotation>\n",
    "  </semantics>\n",
    "</math></span><img src=\"https://wikimedia.org/api/rest_v1/media/math/render/svg/c271425fa07254a10379f1379e02d0fd034f4f21\" class=\"mwe-math-fallback-image-inline\" aria-hidden=\"true\" style=\"vertical-align: -2.171ex; width:20.548ex; height:5.509ex;\" alt=\"{\\displaystyle (1+\\log f_{t,d})\\cdot \\log {\\frac {N}{n_{t}}}}\"/></span></td>\n",
    "<td><span class=\"mwe-math-element\"><span class=\"mwe-math-mathml-inline mwe-math-mathml-a11y\" style=\"display: none;\"><math xmlns=\"http://www.w3.org/1998/Math/MathML\"  alttext=\"{\\displaystyle (1+\\log f_{t,q})\\cdot \\log {\\frac {N}{n_{t}}}}\">\n",
    "  <semantics>\n",
    "    <mrow class=\"MJX-TeXAtom-ORD\">\n",
    "      <mstyle displaystyle=\"true\" scriptlevel=\"0\">\n",
    "        <mo stretchy=\"false\">(</mo>\n",
    "        <mn>1</mn>\n",
    "        <mo>+</mo>\n",
    "        <mi>log</mi>\n",
    "        <mo>&#x2061;<!-- ⁡ --></mo>\n",
    "        <msub>\n",
    "          <mi>f</mi>\n",
    "          <mrow class=\"MJX-TeXAtom-ORD\">\n",
    "            <mi>t</mi>\n",
    "            <mo>,</mo>\n",
    "            <mi>q</mi>\n",
    "          </mrow>\n",
    "        </msub>\n",
    "        <mo stretchy=\"false\">)</mo>\n",
    "        <mo>&#x22C5;<!-- ⋅ --></mo>\n",
    "        <mi>log</mi>\n",
    "        <mo>&#x2061;<!-- ⁡ --></mo>\n",
    "        <mrow class=\"MJX-TeXAtom-ORD\">\n",
    "          <mfrac>\n",
    "            <mi>N</mi>\n",
    "            <msub>\n",
    "              <mi>n</mi>\n",
    "              <mrow class=\"MJX-TeXAtom-ORD\">\n",
    "                <mi>t</mi>\n",
    "              </mrow>\n",
    "            </msub>\n",
    "          </mfrac>\n",
    "        </mrow>\n",
    "      </mstyle>\n",
    "    </mrow>\n",
    "    <annotation encoding=\"application/x-tex\">{\\displaystyle (1+\\log f_{t,q})\\cdot \\log {\\frac {N}{n_{t}}}}</annotation>\n",
    "  </semantics>\n",
    "</math></span><img src=\"https://wikimedia.org/api/rest_v1/media/math/render/svg/cb8cdf7f351b63973cee045cc98c9efcde04203a\" class=\"mwe-math-fallback-image-inline\" aria-hidden=\"true\" style=\"vertical-align: -2.171ex; width:20.445ex; height:5.509ex;\" alt=\"{\\displaystyle (1+\\log f_{t,q})\\cdot \\log {\\frac {N}{n_{t}}}}\"/></span>\n",
    "</td></tr></tbody></table>\n",
    "</div>"
   ]
  },
  {
   "cell_type": "code",
   "execution_count": 57,
   "metadata": {},
   "outputs": [],
   "source": [
    "TWM = defaultdict(lambda: defaultdict(float))\n",
    "DocLength = defaultdict(float)\n",
    "\n",
    "for j, docs in TDM.items():\n",
    "    try:\n",
    "        IDF1 = idf1(len(docs))\n",
    "        IDF2 = idf2(len(docs))\n",
    "        IDF4 = idf4(len(docs))\n",
    "\n",
    "        for i, f in docs.items():\n",
    "            TF1 = tf1(f, sum(DTM[i].values()))\n",
    "            TF2 = tf2(f)\n",
    "            TF3 = tf3(f, max(DTM[i].values()))\n",
    "\n",
    "            W1 = f*IDF1\n",
    "            W2 = TF2*1\n",
    "            W3 = TF2*IDF1\n",
    "            W4 = TF3*IDF1\n",
    "\n",
    "            TWM[j][i] = W4\n",
    "            DocLength[i] += W4 ** 2\n",
    "    except:\n",
    "        continue"
   ]
  },
  {
   "cell_type": "markdown",
   "metadata": {},
   "source": [
    "- Relvance = Similarity\n",
    "- euclidean = sqrt(t ㅌ V (q - d_i)**2)\n",
    "- cos theta = q vector * d_i vector / (|q| 굳이 계산 X) * |d_i|"
   ]
  },
  {
   "cell_type": "code",
   "execution_count": 58,
   "metadata": {},
   "outputs": [
    {
     "data": {
      "text/plain": [
       "['가방']"
      ]
     },
     "execution_count": 58,
     "metadata": {},
     "output_type": "execute_result"
    }
   ],
   "source": [
    "kkma.nouns('가방 가방 가방')"
   ]
  },
  {
   "cell_type": "code",
   "execution_count": 59,
   "metadata": {},
   "outputs": [
    {
     "data": {
      "text/plain": [
       "[('가방', 'NNG'), ('가방', 'NNG'), ('가방', 'NNG')]"
      ]
     },
     "execution_count": 59,
     "metadata": {},
     "output_type": "execute_result"
    }
   ],
   "source": [
    "kkma.pos('가방 가방 가방')"
   ]
  },
  {
   "cell_type": "code",
   "execution_count": 60,
   "metadata": {},
   "outputs": [],
   "source": [
    "from math import sqrt\n",
    "\n",
    "# Q = '필로폰 투약 혐의 로버트 할리, 최후 변론서 눈물 아들이 존경했는데'\n",
    "# Q = '대통령 청와대 국민 정부'\n",
    "Q = '아베 신조'\n",
    "_Q = [_[0] for _ in kkma.pos(Q) if _[1].startswith('N') and _[0] in V]\n",
    "\n",
    "QWM = defaultdict(float)\n",
    "\n",
    "for t in _Q:\n",
    "    j = V.index(t)\n",
    "    QWM[j] += 1\n",
    "\n",
    "maxFreq = max(QWM.values())\n",
    "\n",
    "for j in QWM:\n",
    "    IDF1 = idf1(len(TWM[j]))\n",
    "    QWM[j] = tf3(QWM[j], maxFreq, 0.5) * idf1(len(TWM[j]))\n",
    "    \n",
    "QLength = sqrt(sum([_**2 for _ in QWM.values()]))"
   ]
  },
  {
   "cell_type": "code",
   "execution_count": 61,
   "metadata": {},
   "outputs": [
    {
     "data": {
      "text/plain": [
       "defaultdict(float, {2638: 2.302585092994046, 2639: 2.302585092994046})"
      ]
     },
     "execution_count": 61,
     "metadata": {},
     "output_type": "execute_result"
    }
   ],
   "source": [
    "QWM"
   ]
  },
  {
   "cell_type": "code",
   "execution_count": 62,
   "metadata": {
    "scrolled": true
   },
   "outputs": [
    {
     "name": "stdout",
     "output_type": "stream",
     "text": [
      "327.1667529225466\n",
      "아베 신조 일본 총리가 지난 3일 도쿄 일본기자클럽에서 열린 당수 토론회에서 물을 마시고 있다 도쿄AFP연합뉴스일본 정부가 한국을 겨냥한 수출 규제 조치를 두고 또다시 앞뒤가 안 맞는 행태를 보이고 있다 북한까지 끌어들여 한국의 전략물자 수출관리 문제를 흔들어대다가 한국 측 반격에 직면하자 맞지 않는 지적이라고 한국 탓을 하고 있다 지난 1일 기습적인 규제 조치 발표 이후 고삐 풀린 듯 공세를 펼치더니 뜻대로 되지 않자 한 발을 빼는 모습이다18일 일본 언론에 따르면 일본 정부는 수출 규제 조치가 안전보장상 수출관리 운용의 재검토로 대항조치가 아니라고 처음부터 일관되게 설명했다고 주장하고 있다 이번 조치가 정치적경제적 동기에 의한 중대한 도전이라는 지난 16일 문재인 대통령의 지적이 틀렸다는 것이다이는 일본 정부가 지난 1일 조치 발표 때 한국이 징용 문제에 대한 만족스러운 해결책을 주요20개국G20 정상회의까지 제시하지 않았다고 사실상 대항조치임을 시인한 것을 뒤집은 것이다 전날 문 대통령 지적은 전혀 맞지 않는다고 정면 반박해 외교 결례 지적을 받은 세코 히로시게 경제산업상도 지난 3일 트위터에 같은 이유를 댔다 일본 정부는 전략물자의 북한 유출설에 대해서도 발을 빼고 있다 고노 다로 외무상은 전날 한국에서 전략물자가 북한에 유출된 의혹이 있다는 것은 일본 정부의 발언이 아니다라고 했다하지만 북한 유출설을 부풀린 것은 일본 정부여당과 일부 일본 언론이다 하기우다 고이치 자민당 간사장 대행은 지난 5일 군사 전용이 가능한 물품이 북한으로 흘러갈 우려가 있다고 했고 보수 성향 후지TV는 에칭가스불화수소를 한국에 수출했는데 행방이 묘연해졌다 행선지는 북한이란 여당 간부의 말을 전했다 하기우다는 아베 신조 총리의 최측근으로 이 정권의 스피커 역할을 하고 있다 아베 총리도 지난 7일 국제 약속을 지키지 않는데 무역관리도 지키지 않을 것이라면서 이번 조치가 한국의 대북제재와 연관된 것임을 시사했다 북한 유출설이 일본 정부 발언이 아니라는 주장은 그야말로 눈가리고 아웅 격인 셈이다일본 측이 남 탓과 발뺌으로 맞서는 데는 이번 사안이 뜻대로만 굴러가지 않기 때문으로 보인다 규제 조치에 대해선 미국 뉴욕타임스가 세계 무역질서의 물을 흐린다고 지적하는 등 비판 여론이 많다 일본은 조치의 배경으로 강제징용 문제를 언급했다가 경제 보복이라는 비판을 받자 신뢰 손상을 들면서 북한 연루설을 제기했다 하지만 이마저도 일본 정부의 수출관리 체제가 오히려 허술하다는 자료들이 제시되고 한국 정부가 양국의 수출통제 체제 위반 여부를 국제기구 조사에 맡기자고 요구하는 등 반격에 직면하고 있다이처럼 명분도 논리도 안 맞는 행태는 이번 사안이 아베 총리와 주변 인사들이 한국을 손봐줘야 한다는 보수 여론에 편승한 정치적 판단에 따라 진행된 것임을 방증한다는 지적이 나온다 일본 정부 발언은 아니다라는 고노 외무상의 말은 절반의 진실은 담고 있는 셈이다이와 함께 세계무역기구WTO를 비롯한 국제 여론전을 대비해 숨을 고르는 측면도 있어 보인다 오는 2324일현지시간 스위스 제네바에서 열리는 WTO 일반이사회에선 이번 조치를 둘러싼 한일 간 치열한 공방전이 예상되고 있다한국 측에 대한 보복 조치도 속도을 조절할 것이라는 관측도 나온다 일본 측이 요구한 제3국 중재위 설치 시한인 18일을 지나더라도 당장 국제사법제판소ICJ 제소 등에 나서지 않을 것이란 전망이다 산케이신문은 이날 일본 측은 ICJ 제소를 서두르지 않을 방침이라면서 한국 측의 부당성을 국제사회에 호소해가면서 일본 기업의 자산현금화를 염두에 둔 대항조치를 검토할 것이라고 전했다 ICJ 제소 등의 카드를 만지작거리면서 한국 측을 압박하겠다는 의도로 풀이된다도쿄김진우 특파원 com 네이버 메인에서 경향신문 받아보기 두고 두고 읽는 뉴스  인기 무료만화경향신문wwwkhancokr 무단전재 및 재배포 금지\n",
      "\n",
      "281.60029137098576\n",
      "코르셋 한복으로 논란 겪은 2019 미스코리아 선발대회 비판박술녀 뉴시스한복연구가 박술녀가 이른바 코르셋 한복으로 논란을 겪었던 2019 미스코리아 선발대회를 비판했다박술녀는 17일 KBS1 김경래의 최강시사에 출연해 전통 한복 스타일을 고수하자는 건 아니다 전 세계는 지금 의류를 의류에서 끝내지 않고 문화로 해석하고 있다면서도 한복은 우리나라 민족의 옷이다 현대적이라 하더라도 얼마든지 눈살 안 찌푸리게 우아하고 아름답게 바꿀 수 있다 너무 많은 사람이 SNS에 비판 글을 올리는 걸 보면서 정말 거슬리기는 거슬렸나보다라고 생각했다고 비판했다그러면서 한복은 대한민국 국민이 모두 지켜가야 하는 우리 옷이다 조상들이 아무 조건 없이 후손들에게 물려준 소중한 문화유산이다라며 세계 속의 한복이기 때문에 전통성을 너무 무너뜨려서는 안 된다 앞으로도 이런 대회가 있을 때는 좀 더 생각하면서 만들면 좋겠다고 강조했다미스코리아 선발대회 유튜브 영상 캡쳐박술녀는 한복의 고유성이 노출에 있지 않다고 지적했다 그는 한복을 사러 오는 고객들이 가끔 제게 좀 더 딱 붙었으면 좋겠다 많이 노출했으면 좋겠다고 한다 그럼 저는 많이 노출하길 원하면 서양 드레스를 입어라고 얘기한다며 우리나라 옷은 넉넉하고 너그러운 옷이라고 말했다이 답변에 진행자가 그런 이유로 미스코리아 도전자들에게 한복을 잘 안 입혔던 것 같다고 말하자 그는 미스코리아 대회가 우리나라를 대표하는 미인들한테 한복을 입히고 아 대한민국 옷이 저렇게 아름다워라는 사실을 알리는 대회로 거듭났으면 좋겠다고 밝혔다박술녀는 이날 방송에서 한복이 대중화되고 있지 않은 상황을 안타까워했다 그는 우리나라 사람들은 우리 것이 소중하다고 말만 한다 반듯하게 제대로 된 우리 옷 세벌 사다가 농 안에 거는 경우가 없다며 학교 교육에서도 한복을 안 다뤄준다 한복은 우리가 지켜야 하는 소중한 문화유산이라는 뿌리를 찾기 굉장히 어렵다고 말했다미스코리아 선발대회 유튜브 영상 캡쳐앞서 지난 11일 서울 동대문구 경희대학교 평화의전당에서 열린 2019 미스코리아 선발대회는 수영복 심사를 폐지하고 한복쇼를 진행했다 수영복 심사가 여성을 성 상품화 한다는 비판을 주최 측이 수용한 것이었다 시민들은 우리나라 대표 미인들이 우리 고유의 옷인 한복의 아름다움을 뽐내기를 기대했다그런데 막상 한복쇼가 시작되자 시민들은 달갑지 않은 반응을 보였다 지난해 미스코리아 수상자 7명이 입고 나온 한복은 가슴과 허벅지 라인을 그대로 드러내도록 만들어졌다 시민들은 오히려 성 상품화를 재생산했다고 비판했다 일부 시민들은 한복 고유의 정체성을 훼손했다고 지적했다주최 측은 코르셋을 결합한 새로운 형태의 한복으로 동서양의 만남이라는 시대적 흐름을 가미했다고 설명했지만 미스코리아 대회가 어우동쇼가 됐다는 비판이 이어졌다박준규 인턴기자국민일보 채널 구독하기취향저격 뉴스는 여기 의뢰하세요 취재대행소 왱   국민일보wwwkmibcokr 무단전재 및 재배포금지\n",
      "\n"
     ]
    }
   ],
   "source": [
    "searchResult = defaultdict(float)\n",
    "for q_j, w_q in QWM.items():\n",
    "    for i, w in TWM[q_j].items():\n",
    "        searchResult[i] += q_j*i\n",
    "\n",
    "for i, innerProduct in searchResult.items():\n",
    "    searchResult[i] = innerProduct / (QLength * sqrt(DocLength[i]))\n",
    "\n",
    "for _ in sorted(searchResult.items(), key=lambda x: x[1], reverse=True):\n",
    "    print(_[1])\n",
    "    print(collection[_[0]])\n",
    "    print()"
   ]
  },
  {
   "cell_type": "code",
   "execution_count": 63,
   "metadata": {
    "run_control": {
     "marked": false
    },
    "scrolled": true
   },
   "outputs": [
    {
     "name": "stdout",
     "output_type": "stream",
     "text": [
      "-11.314211693625687 122\n",
      "일본 불매 운동 포스터 사진온라인 커뮤니티국민의 자발적\n",
      "\n",
      "-14.424043124435244 138\n",
      "듀얼스크린 동시 작업게임에 유용갤폴드메이트X 대비 가격\n",
      "\n",
      "-15.590973956522552 139\n",
      "동영상 뉴스주영진의 뉴스브리핑인터뷰를 인용보도할 때는 \n",
      "\n",
      "-16.172271126101986 221\n",
      "머니투데이 김수현 기자 1위 베이조스에 이어 2위 아르\n",
      "\n",
      "-16.219894423652313 207\n",
      "제약바이오업계 숙원인 첨단 재생의료 및 첨단 바이오의약\n",
      "\n",
      "-17.24138503476881 515\n",
      "고민정 청와대 대변인 뉴시스청와대가 17일 한국을 겨냥\n",
      "\n",
      "-17.24138503476881 515\n",
      "고민정 청와대 대변인 뉴시스청와대가 17일 한국을 겨냥\n",
      "\n",
      "-17.661922220900216 240\n",
      "조선DB남편을 청부살해하고 강도 사건으로 위장한 혐의로\n",
      "\n",
      "-17.884383937150318 362\n",
      "회견서 밝혀윤순구 스틸웰 대화재개 통한 한일갈등 해결 \n",
      "\n",
      "-18.044720531126014 265\n",
      "17일 표창원 의원 이어 피고발인 신분으로 출석CBS노\n",
      "\n",
      "-18.33311794316867 250\n",
      "근로감독 결과 갈 길 먼 드라마 제작현장게티이미지뱅크K\n",
      "\n",
      "-18.578975239175175 220\n",
      "일진복합소재 매연저감장치DPF 사진일진복합소재일진복합소\n",
      "\n",
      "-18.997474354643245 298\n",
      "스틸웰 국무부 차관보 한일 관계 개선 희망 언급문제 해\n",
      "\n",
      "-19.619506436240275 405\n",
      "이종명 제명 확정지을 의원총회도 시간 걸릴 듯17일 오\n",
      "\n",
      "-20.36952623820976 299\n",
      "17일 하현회 LG유플러스 부회장이 서울 용산구 LG유\n",
      "\n",
      "-20.527572556756095 346\n",
      "손석한 정신과 전문의 라디오 인터뷰뉴시스고 정두언 전 \n",
      "\n",
      "-20.56619519855114 293\n",
      "정부가 민간택지에서 짓는 아파트에 대해 분양가 상한제 \n",
      "\n",
      "-21.10539081888618 301\n",
      "식용 곤충 고소애가 암 수술 환자의 영양상태 개선과 면\n",
      "\n",
      "-21.15114389706232 327\n",
      "코르셋 한복으로 논란 겪은 2019 미스코리아 선발대회\n",
      "\n",
      "-21.51708832293175 388\n",
      "서울연합뉴스 유영준 기자  2명의 국제 및 일본 전문가\n",
      "\n",
      "-21.531722697635473 324\n",
      "올해 1천억 규모의 사업손실이 예고된 KBS가 비상경영\n",
      "\n",
      "-21.81726019188796 334\n",
      "합동참모본부는 17일 오전 충남 당진 서해안고속도로 행\n",
      "\n",
      "-21.821307398063855 376\n",
      "서울신문 나우뉴스지난 9일현지시간 밤 미국 미주리주 캔\n",
      "\n",
      "-21.96971981167518 424\n",
      "4월 국회 내 의안과 앞 공동폭행 혐의로 고발한국당 의\n",
      "\n",
      "-22.252831022238087 368\n",
      "김준기 전 동부그룹 회장 뉴스1김준기 전 DB그룹전 동\n",
      "\n",
      "-22.48774007293397 419\n",
      "아모레퍼시픽애경산업 올 들어 25 안팎 급락4년만에  \n",
      "\n",
      "-22.647437285273497 416\n",
      "자사고 정책적 유효기간 다해입시전문기관 역할내년 일반고\n",
      "\n",
      "-23.209691913523038 467\n",
      "무협 통상전략 2020 보고서 수입규제 가능성도 대비 \n",
      "\n",
      "-23.219433669043518 457\n",
      "아베 신조 일본 총리가 지난 3일 도쿄 일본기자클럽에서\n",
      "\n",
      "-23.22429667440079 479\n",
      "부품부터 세트까지 전 사업부 비상경영지디넷코리아김우용 \n",
      "\n",
      "-24.37713250612274 420\n",
      "드라마 조선생존기에 출연하던 강지환이 여성 외주 스태프\n",
      "\n",
      "-24.62968224185692 479\n",
      "머니투데이 백지수 기자 the3002 법사위 전체회의 \n",
      "\n",
      "-24.649583331944957 521\n",
      "청와대는 일본 수출 규제와 관련한 조선일보와 중앙일보의\n",
      "\n",
      "-25.341256664158664 482\n",
      "머니투데이 김소연 기자 내일의전략노출된 악재에 또다시 \n",
      "\n",
      "-25.816041239459867 559\n",
      "타다 기사도 택시면허 필요택시 요구 다 들어줬다산업 진\n",
      "\n",
      "-28.62272724942903 600\n",
      "농산물 구입 약속 왜 안 지키나 Vs  화웨이 제재 완\n",
      "\n"
     ]
    }
   ],
   "source": [
    "searchResult = defaultdict(float)\n",
    "for t in V:\n",
    "    j = V.index(t)\n",
    "    \n",
    "    for i, w in TWM[j].items():\n",
    "        searchResult[i] += w**2 # (QWM[j] - w)**2\n",
    "\n",
    "for i, innerProduct in searchResult.items():\n",
    "    searchResult[i] = -sqrt(innerProduct)\n",
    "\n",
    "for _ in sorted(searchResult.items(), key=lambda x: x[1], reverse=True):\n",
    "    print(_[1], len(collection[_[0]].split()))\n",
    "    print(collection[_[0]][:30])\n",
    "    print()"
   ]
  }
 ],
 "metadata": {
  "kernelspec": {
   "display_name": "Python 3",
   "language": "python",
   "name": "python3"
  },
  "language_info": {
   "codemirror_mode": {
    "name": "ipython",
    "version": 3
   },
   "file_extension": ".py",
   "mimetype": "text/x-python",
   "name": "python",
   "nbconvert_exporter": "python",
   "pygments_lexer": "ipython3",
   "version": "3.7.3"
  },
  "varInspector": {
   "cols": {
    "lenName": 16,
    "lenType": 16,
    "lenVar": 40
   },
   "kernels_config": {
    "python": {
     "delete_cmd_postfix": "",
     "delete_cmd_prefix": "del ",
     "library": "var_list.py",
     "varRefreshCmd": "print(var_dic_list())"
    },
    "r": {
     "delete_cmd_postfix": ") ",
     "delete_cmd_prefix": "rm(",
     "library": "var_list.r",
     "varRefreshCmd": "cat(var_dic_list()) "
    }
   },
   "types_to_exclude": [
    "module",
    "function",
    "builtin_function_or_method",
    "instance",
    "_Feature"
   ],
   "window_display": false
  }
 },
 "nbformat": 4,
 "nbformat_minor": 2
}

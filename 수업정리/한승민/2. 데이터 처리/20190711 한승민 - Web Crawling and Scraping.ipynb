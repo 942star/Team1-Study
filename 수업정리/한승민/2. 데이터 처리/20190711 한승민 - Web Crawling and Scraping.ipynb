{
 "cells": [
  {
   "cell_type": "markdown",
   "metadata": {},
   "source": [
    "## Robots.txt"
   ]
  },
  {
   "cell_type": "markdown",
   "metadata": {},
   "source": [
    "- google: https://www.google.com/robots.txt\n",
    "- naver: https://www.naver.com/robots.txt"
   ]
  },
  {
   "cell_type": "code",
   "execution_count": 1,
   "metadata": {},
   "outputs": [
    {
     "data": {
      "text/plain": [
       "False"
      ]
     },
     "execution_count": 1,
     "metadata": {},
     "output_type": "execute_result"
    }
   ],
   "source": [
    "from urllib import robotparser\n",
    "robot = robotparser.RobotFileParser()\n",
    "robot.set_url('http://www.naver.com/robots.txt')\n",
    "robot.read()\n",
    "robot.can_fetch('Yeti', '/main/imagemontage')"
   ]
  },
  {
   "cell_type": "code",
   "execution_count": 2,
   "metadata": {},
   "outputs": [
    {
     "name": "stdout",
     "output_type": "stream",
     "text": [
      "Date: Thu, 11 Jul 2019 07:46:54 GMT\n",
      "Expires: -1\n",
      "Cache-Control: private, max-age=0\n",
      "Content-Type: text/html; charset=ISO-8859-1\n",
      "P3P: CP=\"This is not a P3P policy! See g.co/p3phelp for more info.\"\n",
      "Server: gws\n",
      "X-XSS-Protection: 0\n",
      "X-Frame-Options: SAMEORIGIN\n",
      "Set-Cookie: 1P_JAR=2019-07-11-07; expires=Sat, 10-Aug-2019 07:46:54 GMT; path=/; domain=.google.com\n",
      "Set-Cookie: NID=187=RxcYxb4aDv6QvgI9dMxu5GRPH_YfOYrthyjGs5-I6mUIo2I8RulXd47OARPszptt_XIwWlcHjkaJ9RtdjNT9Te2_SgHID51mtkfC58DSyqjL8J79Ps7cIOr-QIz2UGxxW9sjt4filuI5p1sm7ReMQqj-mRh38tf-4cnhZJAWk2g; expires=Fri, 10-Jan-2020 07:46:54 GMT; path=/; domain=.google.com; HttpOnly\n",
      "Alt-Svc: quic=\":443\"; ma=2592000; v=\"46,43,39\"\n",
      "Accept-Ranges: none\n",
      "Vary: Accept-Encoding\n",
      "Connection: close\n",
      "\n",
      "\n"
     ]
    },
    {
     "data": {
      "text/plain": [
       "[('Date', 'Thu, 11 Jul 2019 07:46:54 GMT'),\n",
       " ('Expires', '-1'),\n",
       " ('Cache-Control', 'private, max-age=0'),\n",
       " ('Content-Type', 'text/html; charset=ISO-8859-1'),\n",
       " ('P3P', 'CP=\"This is not a P3P policy! See g.co/p3phelp for more info.\"'),\n",
       " ('Server', 'gws'),\n",
       " ('X-XSS-Protection', '0'),\n",
       " ('X-Frame-Options', 'SAMEORIGIN'),\n",
       " ('Set-Cookie',\n",
       "  '1P_JAR=2019-07-11-07; expires=Sat, 10-Aug-2019 07:46:54 GMT; path=/; domain=.google.com'),\n",
       " ('Set-Cookie',\n",
       "  'NID=187=RxcYxb4aDv6QvgI9dMxu5GRPH_YfOYrthyjGs5-I6mUIo2I8RulXd47OARPszptt_XIwWlcHjkaJ9RtdjNT9Te2_SgHID51mtkfC58DSyqjL8J79Ps7cIOr-QIz2UGxxW9sjt4filuI5p1sm7ReMQqj-mRh38tf-4cnhZJAWk2g; expires=Fri, 10-Jan-2020 07:46:54 GMT; path=/; domain=.google.com; HttpOnly'),\n",
       " ('Alt-Svc', 'quic=\":443\"; ma=2592000; v=\"46,43,39\"'),\n",
       " ('Accept-Ranges', 'none'),\n",
       " ('Vary', 'Accept-Encoding'),\n",
       " ('Connection', 'close')]"
      ]
     },
     "execution_count": 2,
     "metadata": {},
     "output_type": "execute_result"
    }
   ],
   "source": [
    "from urllib import request\n",
    "\n",
    "resp = request.urlopen('https://www.google.com')\n",
    "resp.geturl()\n",
    "resp.reason\n",
    "resp.getcode()\n",
    "print(resp.info())\n",
    "\n",
    "resp.getheaders()"
   ]
  },
  {
   "cell_type": "markdown",
   "metadata": {},
   "source": [
    "## requests package"
   ]
  },
  {
   "cell_type": "code",
   "execution_count": 3,
   "metadata": {},
   "outputs": [],
   "source": [
    "import requests"
   ]
  },
  {
   "cell_type": "code",
   "execution_count": 4,
   "metadata": {},
   "outputs": [],
   "source": [
    "def getDownload(url, headers=None, params=None, retries=2):\n",
    "    resp = requests.get(url, headers=headers, params=params)\n",
    "    if 500 <= resp.status_code < 600 and retries > 0:\n",
    "        print(resp.status_code, resp.reason)\n",
    "        resp = getDownload(url, headers, params, retries-1)\n",
    "    return resp\n",
    "\n",
    "\n",
    "def postDownload(url, headers=None, params=None, retries=2):\n",
    "    resp = requests.post(url, headers=headers, params=params)\n",
    "    if 500 <= resp.status_code < 600 and retries > 0:\n",
    "        print(resp.status_code, resp.reason)\n",
    "        resp = getDownload(url, headers, params, retries-1)\n",
    "    return resp"
   ]
  },
  {
   "cell_type": "code",
   "execution_count": 5,
   "metadata": {},
   "outputs": [
    {
     "data": {
      "text/plain": [
       "(200, 'OK')"
      ]
     },
     "execution_count": 5,
     "metadata": {},
     "output_type": "execute_result"
    }
   ],
   "source": [
    "resp = getDownload('https://www.google.co.kr')\n",
    "resp.status_code, resp.reason"
   ]
  },
  {
   "cell_type": "code",
   "execution_count": 6,
   "metadata": {},
   "outputs": [
    {
     "data": {
      "text/plain": [
       "{'Date': 'Thu, 11 Jul 2019 07:46:54 GMT', 'Expires': '-1', 'Cache-Control': 'private, max-age=0', 'Content-Type': 'text/html; charset=EUC-KR', 'P3P': 'CP=\"This is not a P3P policy! See g.co/p3phelp for more info.\"', 'Content-Encoding': 'gzip', 'Server': 'gws', 'X-XSS-Protection': '0', 'X-Frame-Options': 'SAMEORIGIN', 'Set-Cookie': '1P_JAR=2019-07-11-07; expires=Sat, 10-Aug-2019 07:46:54 GMT; path=/; domain=.google.co.kr, NID=187=SiJCLcZ2WdpIdR2w2FwRM6QGnERQHmf10TyMbbRPc5uhyJZRtzthY2F4O1nbdQf4xjYD3svy-CTQOIafLPzIFwygKxSdZvffslxxypmKGEJMRMzdnRcSpXcsSxjRfHIyf2pUi1hdB6inZTQIziCoOXIOW-r1-5avzwyhqs3c6Zg; expires=Fri, 10-Jan-2020 07:46:54 GMT; path=/; domain=.google.co.kr; HttpOnly', 'Alt-Svc': 'quic=\":443\"; ma=2592000; v=\"46,43,39\"', 'Transfer-Encoding': 'chunked'}"
      ]
     },
     "execution_count": 6,
     "metadata": {},
     "output_type": "execute_result"
    }
   ],
   "source": [
    "resp.headers"
   ]
  },
  {
   "cell_type": "markdown",
   "metadata": {},
   "source": [
    "## Image Crawling"
   ]
  },
  {
   "cell_type": "code",
   "execution_count": 7,
   "metadata": {},
   "outputs": [],
   "source": [
    "url = 'https://www.google.co.kr/search'\n",
    "params = {\n",
    "    'q': '박보영',\n",
    "    'source': 'lnms',\n",
    "    'tbm': 'isch',\n",
    "    'sa': 'X'\n",
    "}\n",
    "headers = {\n",
    "    'User-Agent': 'Mozilla/5.0 (Windows NT 10.0; Win64; x64) AppleWebKit/537.36 (KHTML, like Gecko) Chrome/75.0.3770.100 Safari/537.36'\n",
    "}"
   ]
  },
  {
   "cell_type": "code",
   "execution_count": 8,
   "metadata": {},
   "outputs": [],
   "source": [
    "from bs4 import BeautifulSoup"
   ]
  },
  {
   "cell_type": "code",
   "execution_count": 9,
   "metadata": {},
   "outputs": [],
   "source": [
    "resp = getDownload(url, params=params)\n",
    "imgUrls = [img['src'] for img in BeautifulSoup(\n",
    "    resp.text, 'lxml').select('img') if img.has_attr('src')]"
   ]
  },
  {
   "cell_type": "code",
   "execution_count": 10,
   "metadata": {},
   "outputs": [],
   "source": [
    "for i, imgUrl in enumerate(imgUrls[1:]):\n",
    "    resp = getDownload(imgUrl)\n",
    "    ext = '.' + resp.headers['Content-Type'].split('/')[-1]\n",
    "    with open('이미지/' + str(i) + ext, 'wb') as file:\n",
    "        file.write(resp.content)"
   ]
  },
  {
   "cell_type": "markdown",
   "metadata": {},
   "source": [
    "---"
   ]
  },
  {
   "cell_type": "markdown",
   "metadata": {},
   "source": [
    "## HTTP Status Code"
   ]
  },
  {
   "cell_type": "code",
   "execution_count": 11,
   "metadata": {},
   "outputs": [
    {
     "name": "stdout",
     "output_type": "stream",
     "text": [
      "403 Forbidden Content-Type: text/html; charset=UTF-8\n",
      "Date: Thu, 11 Jul 2019 07:46:59 GMT\n",
      "Server: gws\n",
      "Cache-Control: private\n",
      "X-XSS-Protection: 0\n",
      "X-Frame-Options: SAMEORIGIN\n",
      "Alt-Svc: quic=\":443\"; ma=2592000; v=\"46,43,39\"\n",
      "Accept-Ranges: none\n",
      "Vary: Accept-Encoding\n",
      "Connection: close\n",
      "\n",
      "\n"
     ]
    }
   ],
   "source": [
    "from urllib import request\n",
    "from urllib import error\n",
    "\n",
    "try:\n",
    "    resp = request.urlopen(\n",
    "        'https://www.google.com/search?q=%ED%8C%8C%EC%9D%B4%EC%8D%AC')\n",
    "except error.HTTPError as e:\n",
    "    print(e.code, e.reason, e.headers)"
   ]
  },
  {
   "cell_type": "markdown",
   "metadata": {},
   "source": [
    "## User Agent"
   ]
  },
  {
   "cell_type": "code",
   "execution_count": 12,
   "metadata": {},
   "outputs": [],
   "source": [
    "headers = {\n",
    "    'User-Agent': 'Mozilla/5.0 (Windows NT 10.0; Win64; x64) AppleWebKit/537.36 (KHTML, like Gecko) Chrome/75.0.3770.100 Safari/537.36'\n",
    "}"
   ]
  },
  {
   "cell_type": "code",
   "execution_count": 13,
   "metadata": {},
   "outputs": [],
   "source": [
    "from urllib.request import Request\n",
    "\n",
    "try:\n",
    "    req = Request(url, headers=headers)\n",
    "    resp = request.urlopen(req)\n",
    "except error.HTTPError as e:\n",
    "    print(e.code, e.reason, e.headers)"
   ]
  },
  {
   "cell_type": "code",
   "execution_count": 14,
   "metadata": {},
   "outputs": [
    {
     "data": {
      "text/plain": [
       "(200, 'OK', <http.client.HTTPMessage at 0x14f4ac8aac8>)"
      ]
     },
     "execution_count": 14,
     "metadata": {},
     "output_type": "execute_result"
    }
   ],
   "source": [
    "resp.code, resp.reason, resp.headers"
   ]
  },
  {
   "cell_type": "code",
   "execution_count": 15,
   "metadata": {},
   "outputs": [
    {
     "name": "stdout",
     "output_type": "stream",
     "text": [
      "403 Forbidden Content-Type: text/html; charset=UTF-8\n",
      "Date: Thu, 11 Jul 2019 07:47:01 GMT\n",
      "Server: gws\n",
      "Cache-Control: private\n",
      "X-XSS-Protection: 0\n",
      "X-Frame-Options: SAMEORIGIN\n",
      "Alt-Svc: quic=\":443\"; ma=2592000; v=\"46,43,39\"\n",
      "Accept-Ranges: none\n",
      "Vary: Accept-Encoding\n",
      "Connection: close\n",
      "\n",
      "\n"
     ]
    }
   ],
   "source": [
    "from urllib.request import Request\n",
    "\n",
    "#headers = {'User-Agent': None}\n",
    "try:\n",
    "    # , headers=headers)\n",
    "    req = Request(\n",
    "        'https://www.google.com/search?q=%EB%B0%95%EB%B3%B4%EC%98%81')\n",
    "    resp = request.urlopen(req)\n",
    "except error.HTTPError as e:\n",
    "    print(e.code, e.reason, e.headers)"
   ]
  },
  {
   "cell_type": "markdown",
   "metadata": {},
   "source": [
    "---"
   ]
  },
  {
   "cell_type": "markdown",
   "metadata": {},
   "source": [
    "HTTP Method test site: http://httpbin.org"
   ]
  },
  {
   "cell_type": "code",
   "execution_count": 16,
   "metadata": {},
   "outputs": [],
   "source": [
    "import json"
   ]
  },
  {
   "cell_type": "code",
   "execution_count": 17,
   "metadata": {},
   "outputs": [
    {
     "data": {
      "text/plain": [
       "{'args': {},\n",
       " 'headers': {'Accept': '*/*',\n",
       "  'Accept-Encoding': 'gzip, deflate',\n",
       "  'Host': 'httpbin.org',\n",
       "  'User-Agent': 'python-requests/2.22.0'},\n",
       " 'origin': '163.152.3.136, 163.152.3.136',\n",
       " 'url': 'https://httpbin.org/get'}"
      ]
     },
     "execution_count": 17,
     "metadata": {},
     "output_type": "execute_result"
    }
   ],
   "source": [
    "url = 'http://httpbin.org/get'\n",
    "resp = getDownload(url)\n",
    "json.loads(resp.text)"
   ]
  },
  {
   "cell_type": "code",
   "execution_count": 18,
   "metadata": {},
   "outputs": [
    {
     "data": {
      "text/plain": [
       "{'args': {'q': '박보영', 'sa': 'X', 'source': 'lnms', 'tbm': 'isch'},\n",
       " 'headers': {'Accept': '*/*',\n",
       "  'Accept-Encoding': 'gzip, deflate',\n",
       "  'Host': 'httpbin.org',\n",
       "  'User-Agent': 'Mozilla/5.0 (Windows NT 10.0; Win64; x64) AppleWebKit/537.36 (KHTML, like Gecko) Chrome/75.0.3770.100 Safari/537.36'},\n",
       " 'origin': '163.152.3.136, 163.152.3.136',\n",
       " 'url': 'https://httpbin.org/get?q=박보영&source=lnms&tbm=isch&sa=X'}"
      ]
     },
     "execution_count": 18,
     "metadata": {},
     "output_type": "execute_result"
    }
   ],
   "source": [
    "resp = getDownload(url, params=params, headers=headers)\n",
    "json.loads(resp.text)"
   ]
  },
  {
   "cell_type": "code",
   "execution_count": 19,
   "metadata": {},
   "outputs": [
    {
     "data": {
      "text/plain": [
       "{'args': {'q': '박보영', 'sa': 'X', 'source': 'lnms', 'tbm': 'isch'},\n",
       " 'headers': {'Accept': '*/*',\n",
       "  'Accept-Encoding': 'gzip, deflate',\n",
       "  'Host': 'httpbin.org',\n",
       "  'User-Agent': 'python-requests/2.22.0'},\n",
       " 'origin': '163.152.3.136, 163.152.3.136',\n",
       " 'url': 'https://httpbin.org/get?q=박보영&source=lnms&tbm=isch&sa=X'}"
      ]
     },
     "execution_count": 19,
     "metadata": {},
     "output_type": "execute_result"
    }
   ],
   "source": [
    "resp = requests.request('get', url, params=params)\n",
    "json.loads(resp.text)"
   ]
  },
  {
   "cell_type": "code",
   "execution_count": 20,
   "metadata": {},
   "outputs": [
    {
     "data": {
      "text/plain": [
       "{'args': {},\n",
       " 'data': '',\n",
       " 'files': {},\n",
       " 'form': {'q': '박보영', 'sa': 'X', 'source': 'lnms', 'tbm': 'isch'},\n",
       " 'headers': {'Accept': '*/*',\n",
       "  'Accept-Encoding': 'gzip, deflate',\n",
       "  'Content-Length': '55',\n",
       "  'Content-Type': 'application/x-www-form-urlencoded',\n",
       "  'Host': 'httpbin.org',\n",
       "  'User-Agent': 'python-requests/2.22.0'},\n",
       " 'json': None,\n",
       " 'origin': '163.152.3.136, 163.152.3.136',\n",
       " 'url': 'https://httpbin.org/post'}"
      ]
     },
     "execution_count": 20,
     "metadata": {},
     "output_type": "execute_result"
    }
   ],
   "source": [
    "url = 'http://httpbin.org/post'\n",
    "resp = requests.request('post', url, data=params)\n",
    "json.loads(resp.text)"
   ]
  },
  {
   "cell_type": "code",
   "execution_count": 21,
   "metadata": {},
   "outputs": [],
   "source": [
    "def download(method, url, data=None, params=None, headers=None):\n",
    "    try:\n",
    "        resp = requests.request(method, url, data=data,\n",
    "                                params=params, headers=headers)\n",
    "        resp.raise_for_status()\n",
    "    except requests.exceptions.HTTPError as e:\n",
    "        print(e.code, e.reason)\n",
    "    finally:\n",
    "        return resp"
   ]
  },
  {
   "cell_type": "code",
   "execution_count": 22,
   "metadata": {},
   "outputs": [],
   "source": [
    "def download(method, url, params=None, data=None, headers=None, retries=2):  # 없을수도 있는 것에 None\n",
    "    try:\n",
    "        resp = requests.request(\n",
    "            method, url, params=params, data=data, headers=headers)\n",
    "        resp.raise_for_status()\n",
    "    except requests.exceptions.HTTPError as e:\n",
    "        print(e.response.status_code)\n",
    "        print(e.response.reason)\n",
    "\n",
    "        if 500 <= e.response.status_code < 600 and retries > 0:\n",
    "            resp = download(method, url, params=params, data=data,\n",
    "                            headers=headers, retries=retries-1)\n",
    "    return resp"
   ]
  },
  {
   "cell_type": "code",
   "execution_count": 23,
   "metadata": {},
   "outputs": [
    {
     "name": "stdout",
     "output_type": "stream",
     "text": [
      "403\n",
      "Forbidden\n"
     ]
    }
   ],
   "source": [
    "headers = None\n",
    "html = download(\"get\",\n",
    "                \"http://www.crawler-test.com/status_codes/status_403\")"
   ]
  },
  {
   "cell_type": "code",
   "execution_count": 24,
   "metadata": {},
   "outputs": [
    {
     "name": "stdout",
     "output_type": "stream",
     "text": [
      "503\n",
      "Service Unavailable\n",
      "503\n",
      "Service Unavailable\n",
      "503\n",
      "Service Unavailable\n"
     ]
    }
   ],
   "source": [
    "headers = None\n",
    "html = download(\"get\",\n",
    "                \"http://www.crawler-test.com/status_codes/status_503\")"
   ]
  },
  {
   "cell_type": "code",
   "execution_count": 25,
   "metadata": {},
   "outputs": [],
   "source": [
    "url = \"http://openapi.airkorea.or.kr/openapi/services/rest/ArpltnInforInqireSvc/getCtprvnRltmMesureDnsty\"\n",
    "params = {\n",
    "    'ServiceKey': 'eZ7xBqg5C3tQDAwJM8kWRO6XWySXi9yEEPI449XNSbb%2BI9AFpA3wUMeeRVqiXhxpc2BOfeyMump%2FlF0pNYCpNA%3D%3D',\n",
    "    \"numOfRows\": 10,\n",
    "    \"pageNo\": 1,\n",
    "    \"sidoName\": \"서울\",\n",
    "    \"dataTerm\": \"DAILY\",\n",
    "    \"ver\": 1.3,\n",
    "    \"_returnType\": \"json\"\n",
    "}"
   ]
  },
  {
   "cell_type": "code",
   "execution_count": 26,
   "metadata": {},
   "outputs": [
    {
     "name": "stdout",
     "output_type": "stream",
     "text": [
      "<?xml version=\"1.0\" encoding=\"UTF-8\"?>\r\n",
      "\r\n",
      "\r\n",
      "\r\n",
      "\r\n",
      "<response>\r\n",
      "\t<header>\r\n",
      "\t\t<resultCode>30</resultCode>\r\n",
      "\t\t<resultMsg>SERVICE KEY IS NOT REGISTERED ERROR.</resultMsg>\r\n",
      "\t</header>\r\n",
      "</response>\r\n",
      "\n"
     ]
    }
   ],
   "source": [
    "resp = download('get', url, params=params)\n",
    "print(resp.text)"
   ]
  },
  {
   "cell_type": "code",
   "execution_count": 27,
   "metadata": {},
   "outputs": [],
   "source": [
    "import urllib"
   ]
  },
  {
   "cell_type": "code",
   "execution_count": 29,
   "metadata": {},
   "outputs": [
    {
     "name": "stdout",
     "output_type": "stream",
     "text": [
      "{\"list\":[{\"_returnType\":\"json\",\"coGrade\":\"1\",\"coValue\":\"0.4\",\"dataTerm\":\"\",\"dataTime\":\"2019-07-11 16:00\",\"khaiGrade\":\"1\",\"khaiValue\":\"45\",\"mangName\":\"도시대기\",\"no2Grade\":\"1\",\"no2Value\":\"0.016\",\"numOfRows\":\"10\",\"o3Grade\":\"1\",\"o3Value\":\"0.027\",\"pageNo\":\"1\",\"pm10Grade\":\"1\",\"pm10Grade1h\":\"1\",\"pm10Value\":\"6\",\"pm10Value24\":\"5\",\"pm25Grade\":\"1\",\"pm25Grade1h\":\"1\",\"pm25Value\":\"3\",\"pm25Value24\":\"4\",\"resultCode\":\"\",\"resultMsg\":\"\",\"rnum\":0,\"serviceKey\":\"\",\"sidoName\":\"\",\"so2Grade\":\"1\",\"so2Value\":\"0.002\",\"stationCode\":\"\",\"stationName\":\"중구\",\"totalCount\":\"\",\"ver\":\"\"},{\"_returnType\":\"json\",\"coGrade\":\"1\",\"coValue\":\"0.4\",\"dataTerm\":\"\",\"dataTime\":\"2019-07-11 16:00\",\"khaiGrade\":\"1\",\"khaiValue\":\"35\",\"mangName\":\"도로변대기\",\"no2Grade\":\"1\",\"no2Value\":\"0.021\",\"numOfRows\":\"10\",\"o3Grade\":\"1\",\"o3Value\":\"0.017\",\"pageNo\":\"1\",\"pm10Grade\":\"1\",\"pm10Grade1h\":\"1\",\"pm10Value\":\"9\",\"pm10Value24\":\"11\",\"pm25Grade\":\"1\",\"pm25Grade1h\":\"1\",\"pm25Value\":\"5\",\"pm25Value24\":\"5\",\"resultCode\":\"\",\"resultMsg\":\"\",\"rnum\":0,\"serviceKey\":\"\",\"sidoName\":\"\",\"so2Grade\":\"1\",\"so2Value\":\"0.003\",\"stationCode\":\"\",\"stationName\":\"한강대로\",\"totalCount\":\"\",\"ver\":\"\"},{\"_returnType\":\"json\",\"coGrade\":\"1\",\"coValue\":\"0.4\",\"dataTerm\":\"\",\"dataTime\":\"2019-07-11 16:00\",\"khaiGrade\":\"1\",\"khaiValue\":\"35\",\"mangName\":\"도시대기\",\"no2Grade\":\"1\",\"no2Value\":\"0.021\",\"numOfRows\":\"10\",\"o3Grade\":\"1\",\"o3Value\":\"0.018\",\"pageNo\":\"1\",\"pm10Grade\":\"1\",\"pm10Grade1h\":\"1\",\"pm10Value\":\"9\",\"pm10Value24\":\"9\",\"pm25Grade\":\"1\",\"pm25Grade1h\":\"1\",\"pm25Value\":\"5\",\"pm25Value24\":\"5\",\"resultCode\":\"\",\"resultMsg\":\"\",\"rnum\":0,\"serviceKey\":\"\",\"sidoName\":\"\",\"so2Grade\":\"1\",\"so2Value\":\"0.003\",\"stationCode\":\"\",\"stationName\":\"종로구\",\"totalCount\":\"\",\"ver\":\"\"},{\"_returnType\":\"json\",\"coGrade\":\"1\",\"coValue\":\"0.4\",\"dataTerm\":\"\",\"dataTime\":\"2019-07-11 16:00\",\"khaiGrade\":\"1\",\"khaiValue\":\"40\",\"mangName\":\"도로변대기\",\"no2Grade\":\"1\",\"no2Value\":\"0.018\",\"numOfRows\":\"10\",\"o3Grade\":\"1\",\"o3Value\":\"0.024\",\"pageNo\":\"1\",\"pm10Grade\":\"1\",\"pm10Grade1h\":\"1\",\"pm10Value\":\"9\",\"pm10Value24\":\"9\",\"pm25Grade\":\"1\",\"pm25Grade1h\":\"1\",\"pm25Value\":\"4\",\"pm25Value24\":\"4\",\"resultCode\":\"\",\"resultMsg\":\"\",\"rnum\":0,\"serviceKey\":\"\",\"sidoName\":\"\",\"so2Grade\":\"1\",\"so2Value\":\"0.004\",\"stationCode\":\"\",\"stationName\":\"청계천로\",\"totalCount\":\"\",\"ver\":\"\"},{\"_returnType\":\"json\",\"coGrade\":\"1\",\"coValue\":\"0.3\",\"dataTerm\":\"\",\"dataTime\":\"2019-07-11 16:00\",\"khaiGrade\":\"\",\"khaiValue\":\"-\",\"mangName\":\"도로변대기\",\"no2Grade\":\"1\",\"no2Value\":\"0.017\",\"numOfRows\":\"10\",\"o3Grade\":\"1\",\"o3Value\":\"0.024\",\"pageNo\":\"1\",\"pm10Grade\":\"1\",\"pm10Grade1h\":\"1\",\"pm10Value\":\"5\",\"pm10Value24\":\"6\",\"pm25Grade\":\"\",\"pm25Grade1h\":\"\",\"pm25Value\":\"-\",\"pm25Value24\":\"-\",\"resultCode\":\"\",\"resultMsg\":\"\",\"rnum\":0,\"serviceKey\":\"\",\"sidoName\":\"\",\"so2Grade\":\"1\",\"so2Value\":\"0.003\",\"stationCode\":\"\",\"stationName\":\"종로\",\"totalCount\":\"\",\"ver\":\"\"},{\"_returnType\":\"json\",\"coGrade\":\"1\",\"coValue\":\"0.2\",\"dataTerm\":\"\",\"dataTime\":\"2019-07-11 16:00\",\"khaiGrade\":\"\",\"khaiValue\":\"-\",\"mangName\":\"도시대기\",\"no2Grade\":\"1\",\"no2Value\":\"0.013\",\"numOfRows\":\"10\",\"o3Grade\":\"1\",\"o3Value\":\"0.028\",\"pageNo\":\"1\",\"pm10Grade\":\"1\",\"pm10Grade1h\":\"1\",\"pm10Value\":\"3\",\"pm10Value24\":\"4\",\"pm25Grade\":\"\",\"pm25Grade1h\":\"1\",\"pm25Value\":\"1\",\"pm25Value24\":\"-\",\"resultCode\":\"\",\"resultMsg\":\"\",\"rnum\":0,\"serviceKey\":\"\",\"sidoName\":\"\",\"so2Grade\":\"\",\"so2Value\":\"-\",\"stationCode\":\"\",\"stationName\":\"용산구\",\"totalCount\":\"\",\"ver\":\"\"},{\"_returnType\":\"json\",\"coGrade\":\"\",\"coValue\":\"-\",\"dataTerm\":\"\",\"dataTime\":\"2019-07-11 16:00\",\"khaiGrade\":\"\",\"khaiValue\":\"-\",\"mangName\":\"도시대기\",\"no2Grade\":\"\",\"no2Value\":\"-\",\"numOfRows\":\"10\",\"o3Grade\":\"\",\"o3Value\":\"-\",\"pageNo\":\"1\",\"pm10Grade\":\"\",\"pm10Grade1h\":\"\",\"pm10Value\":\"-\",\"pm10Value24\":\"-\",\"pm25Grade\":\"\",\"pm25Grade1h\":\"\",\"pm25Value\":\"-\",\"pm25Value24\":\"-\",\"resultCode\":\"\",\"resultMsg\":\"\",\"rnum\":0,\"serviceKey\":\"\",\"sidoName\":\"\",\"so2Grade\":\"\",\"so2Value\":\"-\",\"stationCode\":\"\",\"stationName\":\"광진구\",\"totalCount\":\"\",\"ver\":\"\"},{\"_returnType\":\"json\",\"coGrade\":\"1\",\"coValue\":\"0.2\",\"dataTerm\":\"\",\"dataTime\":\"2019-07-11 16:00\",\"khaiGrade\":\"1\",\"khaiValue\":\"47\",\"mangName\":\"도시대기\",\"no2Grade\":\"1\",\"no2Value\":\"0.013\",\"numOfRows\":\"10\",\"o3Grade\":\"1\",\"o3Value\":\"0.028\",\"pageNo\":\"1\",\"pm10Grade\":\"1\",\"pm10Grade1h\":\"1\",\"pm10Value\":\"24\",\"pm10Value24\":\"20\",\"pm25Grade\":\"1\",\"pm25Grade1h\":\"1\",\"pm25Value\":\"4\",\"pm25Value24\":\"5\",\"resultCode\":\"\",\"resultMsg\":\"\",\"rnum\":0,\"serviceKey\":\"\",\"sidoName\":\"\",\"so2Grade\":\"1\",\"so2Value\":\"0.005\",\"stationCode\":\"\",\"stationName\":\"성동구\",\"totalCount\":\"\",\"ver\":\"\"},{\"_returnType\":\"json\",\"coGrade\":\"1\",\"coValue\":\"0.2\",\"dataTerm\":\"\",\"dataTime\":\"2019-07-11 16:00\",\"khaiGrade\":\"\",\"khaiValue\":\"-\",\"mangName\":\"도로변대기\",\"no2Grade\":\"1\",\"no2Value\":\"0.020\",\"numOfRows\":\"10\",\"o3Grade\":\"1\",\"o3Value\":\"0.023\",\"pageNo\":\"1\",\"pm10Grade\":\"1\",\"pm10Grade1h\":\"1\",\"pm10Value\":\"6\",\"pm10Value24\":\"6\",\"pm25Grade\":\"\",\"pm25Grade1h\":\"\",\"pm25Value\":\"-\",\"pm25Value24\":\"-\",\"resultCode\":\"\",\"resultMsg\":\"\",\"rnum\":0,\"serviceKey\":\"\",\"sidoName\":\"\",\"so2Grade\":\"1\",\"so2Value\":\"0.004\",\"stationCode\":\"\",\"stationName\":\"강변북로\",\"totalCount\":\"\",\"ver\":\"\"},{\"_returnType\":\"json\",\"coGrade\":\"1\",\"coValue\":\"0.2\",\"dataTerm\":\"\",\"dataTime\":\"2019-07-11 16:00\",\"khaiGrade\":\"\",\"khaiValue\":\"-\",\"mangName\":\"도시대기\",\"no2Grade\":\"1\",\"no2Value\":\"0.013\",\"numOfRows\":\"10\",\"o3Grade\":\"1\",\"o3Value\":\"0.011\",\"pageNo\":\"1\",\"pm10Grade\":\"1\",\"pm10Grade1h\":\"1\",\"pm10Value\":\"3\",\"pm10Value24\":\"4\",\"pm25Grade\":\"\",\"pm25Grade1h\":\"1\",\"pm25Value\":\"2\",\"pm25Value24\":\"-\",\"resultCode\":\"\",\"resultMsg\":\"\",\"rnum\":0,\"serviceKey\":\"\",\"sidoName\":\"\",\"so2Grade\":\"1\",\"so2Value\":\"0.005\",\"stationCode\":\"\",\"stationName\":\"중랑구\",\"totalCount\":\"\",\"ver\":\"\"}],\"parm\":{\"_returnType\":\"json\",\"coGrade\":\"\",\"coValue\":\"\",\"dataTerm\":\"DAILY\",\"dataTime\":\"\",\"khaiGrade\":\"\",\"khaiValue\":\"\",\"mangName\":\"\",\"no2Grade\":\"\",\"no2Value\":\"\",\"numOfRows\":\"10\",\"o3Grade\":\"\",\"o3Value\":\"\",\"pageNo\":\"1\",\"pm10Grade\":\"\",\"pm10Grade1h\":\"\",\"pm10Value\":\"\",\"pm10Value24\":\"\",\"pm25Grade\":\"\",\"pm25Grade1h\":\"\",\"pm25Value\":\"\",\"pm25Value24\":\"\",\"resultCode\":\"\",\"resultMsg\":\"\",\"rnum\":0,\"serviceKey\":\"eZ7xBqg5C3tQDAwJM8kWRO6XWySXi9yEEPI449XNSbb+I9AFpA3wUMeeRVqiXhxpc2BOfeyMump/lF0pNYCpNA==\",\"sidoName\":\"서울\",\"so2Grade\":\"\",\"so2Value\":\"\",\"stationCode\":\"\",\"stationName\":\"\",\"totalCount\":\"\",\"ver\":\"1.3\"},\"ArpltnInforInqireSvcVo\":{\"_returnType\":\"json\",\"coGrade\":\"\",\"coValue\":\"\",\"dataTerm\":\"DAILY\",\"dataTime\":\"\",\"khaiGrade\":\"\",\"khaiValue\":\"\",\"mangName\":\"\",\"no2Grade\":\"\",\"no2Value\":\"\",\"numOfRows\":\"10\",\"o3Grade\":\"\",\"o3Value\":\"\",\"pageNo\":\"1\",\"pm10Grade\":\"\",\"pm10Grade1h\":\"\",\"pm10Value\":\"\",\"pm10Value24\":\"\",\"pm25Grade\":\"\",\"pm25Grade1h\":\"\",\"pm25Value\":\"\",\"pm25Value24\":\"\",\"resultCode\":\"\",\"resultMsg\":\"\",\"rnum\":0,\"serviceKey\":\"eZ7xBqg5C3tQDAwJM8kWRO6XWySXi9yEEPI449XNSbb+I9AFpA3wUMeeRVqiXhxpc2BOfeyMump/lF0pNYCpNA==\",\"sidoName\":\"서울\",\"so2Grade\":\"\",\"so2Value\":\"\",\"stationCode\":\"\",\"stationName\":\"\",\"totalCount\":\"\",\"ver\":\"1.3\"},\"totalCount\":40}\n"
     ]
    }
   ],
   "source": [
    "params['ServiceKey'] = urllib.parse.unquote(params['ServiceKey'])\n",
    "resp = download('get', url, params=params)\n",
    "print(resp.text)"
   ]
  },
  {
   "cell_type": "code",
   "execution_count": 30,
   "metadata": {},
   "outputs": [
    {
     "data": {
      "text/plain": [
       "{'list': [{'_returnType': 'json',\n",
       "   'coGrade': '1',\n",
       "   'coValue': '0.4',\n",
       "   'dataTerm': '',\n",
       "   'dataTime': '2019-07-11 16:00',\n",
       "   'khaiGrade': '1',\n",
       "   'khaiValue': '45',\n",
       "   'mangName': '도시대기',\n",
       "   'no2Grade': '1',\n",
       "   'no2Value': '0.016',\n",
       "   'numOfRows': '10',\n",
       "   'o3Grade': '1',\n",
       "   'o3Value': '0.027',\n",
       "   'pageNo': '1',\n",
       "   'pm10Grade': '1',\n",
       "   'pm10Grade1h': '1',\n",
       "   'pm10Value': '6',\n",
       "   'pm10Value24': '5',\n",
       "   'pm25Grade': '1',\n",
       "   'pm25Grade1h': '1',\n",
       "   'pm25Value': '3',\n",
       "   'pm25Value24': '4',\n",
       "   'resultCode': '',\n",
       "   'resultMsg': '',\n",
       "   'rnum': 0,\n",
       "   'serviceKey': '',\n",
       "   'sidoName': '',\n",
       "   'so2Grade': '1',\n",
       "   'so2Value': '0.002',\n",
       "   'stationCode': '',\n",
       "   'stationName': '중구',\n",
       "   'totalCount': '',\n",
       "   'ver': ''},\n",
       "  {'_returnType': 'json',\n",
       "   'coGrade': '1',\n",
       "   'coValue': '0.4',\n",
       "   'dataTerm': '',\n",
       "   'dataTime': '2019-07-11 16:00',\n",
       "   'khaiGrade': '1',\n",
       "   'khaiValue': '35',\n",
       "   'mangName': '도로변대기',\n",
       "   'no2Grade': '1',\n",
       "   'no2Value': '0.021',\n",
       "   'numOfRows': '10',\n",
       "   'o3Grade': '1',\n",
       "   'o3Value': '0.017',\n",
       "   'pageNo': '1',\n",
       "   'pm10Grade': '1',\n",
       "   'pm10Grade1h': '1',\n",
       "   'pm10Value': '9',\n",
       "   'pm10Value24': '11',\n",
       "   'pm25Grade': '1',\n",
       "   'pm25Grade1h': '1',\n",
       "   'pm25Value': '5',\n",
       "   'pm25Value24': '5',\n",
       "   'resultCode': '',\n",
       "   'resultMsg': '',\n",
       "   'rnum': 0,\n",
       "   'serviceKey': '',\n",
       "   'sidoName': '',\n",
       "   'so2Grade': '1',\n",
       "   'so2Value': '0.003',\n",
       "   'stationCode': '',\n",
       "   'stationName': '한강대로',\n",
       "   'totalCount': '',\n",
       "   'ver': ''},\n",
       "  {'_returnType': 'json',\n",
       "   'coGrade': '1',\n",
       "   'coValue': '0.4',\n",
       "   'dataTerm': '',\n",
       "   'dataTime': '2019-07-11 16:00',\n",
       "   'khaiGrade': '1',\n",
       "   'khaiValue': '35',\n",
       "   'mangName': '도시대기',\n",
       "   'no2Grade': '1',\n",
       "   'no2Value': '0.021',\n",
       "   'numOfRows': '10',\n",
       "   'o3Grade': '1',\n",
       "   'o3Value': '0.018',\n",
       "   'pageNo': '1',\n",
       "   'pm10Grade': '1',\n",
       "   'pm10Grade1h': '1',\n",
       "   'pm10Value': '9',\n",
       "   'pm10Value24': '9',\n",
       "   'pm25Grade': '1',\n",
       "   'pm25Grade1h': '1',\n",
       "   'pm25Value': '5',\n",
       "   'pm25Value24': '5',\n",
       "   'resultCode': '',\n",
       "   'resultMsg': '',\n",
       "   'rnum': 0,\n",
       "   'serviceKey': '',\n",
       "   'sidoName': '',\n",
       "   'so2Grade': '1',\n",
       "   'so2Value': '0.003',\n",
       "   'stationCode': '',\n",
       "   'stationName': '종로구',\n",
       "   'totalCount': '',\n",
       "   'ver': ''},\n",
       "  {'_returnType': 'json',\n",
       "   'coGrade': '1',\n",
       "   'coValue': '0.4',\n",
       "   'dataTerm': '',\n",
       "   'dataTime': '2019-07-11 16:00',\n",
       "   'khaiGrade': '1',\n",
       "   'khaiValue': '40',\n",
       "   'mangName': '도로변대기',\n",
       "   'no2Grade': '1',\n",
       "   'no2Value': '0.018',\n",
       "   'numOfRows': '10',\n",
       "   'o3Grade': '1',\n",
       "   'o3Value': '0.024',\n",
       "   'pageNo': '1',\n",
       "   'pm10Grade': '1',\n",
       "   'pm10Grade1h': '1',\n",
       "   'pm10Value': '9',\n",
       "   'pm10Value24': '9',\n",
       "   'pm25Grade': '1',\n",
       "   'pm25Grade1h': '1',\n",
       "   'pm25Value': '4',\n",
       "   'pm25Value24': '4',\n",
       "   'resultCode': '',\n",
       "   'resultMsg': '',\n",
       "   'rnum': 0,\n",
       "   'serviceKey': '',\n",
       "   'sidoName': '',\n",
       "   'so2Grade': '1',\n",
       "   'so2Value': '0.004',\n",
       "   'stationCode': '',\n",
       "   'stationName': '청계천로',\n",
       "   'totalCount': '',\n",
       "   'ver': ''},\n",
       "  {'_returnType': 'json',\n",
       "   'coGrade': '1',\n",
       "   'coValue': '0.3',\n",
       "   'dataTerm': '',\n",
       "   'dataTime': '2019-07-11 16:00',\n",
       "   'khaiGrade': '',\n",
       "   'khaiValue': '-',\n",
       "   'mangName': '도로변대기',\n",
       "   'no2Grade': '1',\n",
       "   'no2Value': '0.017',\n",
       "   'numOfRows': '10',\n",
       "   'o3Grade': '1',\n",
       "   'o3Value': '0.024',\n",
       "   'pageNo': '1',\n",
       "   'pm10Grade': '1',\n",
       "   'pm10Grade1h': '1',\n",
       "   'pm10Value': '5',\n",
       "   'pm10Value24': '6',\n",
       "   'pm25Grade': '',\n",
       "   'pm25Grade1h': '',\n",
       "   'pm25Value': '-',\n",
       "   'pm25Value24': '-',\n",
       "   'resultCode': '',\n",
       "   'resultMsg': '',\n",
       "   'rnum': 0,\n",
       "   'serviceKey': '',\n",
       "   'sidoName': '',\n",
       "   'so2Grade': '1',\n",
       "   'so2Value': '0.003',\n",
       "   'stationCode': '',\n",
       "   'stationName': '종로',\n",
       "   'totalCount': '',\n",
       "   'ver': ''},\n",
       "  {'_returnType': 'json',\n",
       "   'coGrade': '1',\n",
       "   'coValue': '0.2',\n",
       "   'dataTerm': '',\n",
       "   'dataTime': '2019-07-11 16:00',\n",
       "   'khaiGrade': '',\n",
       "   'khaiValue': '-',\n",
       "   'mangName': '도시대기',\n",
       "   'no2Grade': '1',\n",
       "   'no2Value': '0.013',\n",
       "   'numOfRows': '10',\n",
       "   'o3Grade': '1',\n",
       "   'o3Value': '0.028',\n",
       "   'pageNo': '1',\n",
       "   'pm10Grade': '1',\n",
       "   'pm10Grade1h': '1',\n",
       "   'pm10Value': '3',\n",
       "   'pm10Value24': '4',\n",
       "   'pm25Grade': '',\n",
       "   'pm25Grade1h': '1',\n",
       "   'pm25Value': '1',\n",
       "   'pm25Value24': '-',\n",
       "   'resultCode': '',\n",
       "   'resultMsg': '',\n",
       "   'rnum': 0,\n",
       "   'serviceKey': '',\n",
       "   'sidoName': '',\n",
       "   'so2Grade': '',\n",
       "   'so2Value': '-',\n",
       "   'stationCode': '',\n",
       "   'stationName': '용산구',\n",
       "   'totalCount': '',\n",
       "   'ver': ''},\n",
       "  {'_returnType': 'json',\n",
       "   'coGrade': '',\n",
       "   'coValue': '-',\n",
       "   'dataTerm': '',\n",
       "   'dataTime': '2019-07-11 16:00',\n",
       "   'khaiGrade': '',\n",
       "   'khaiValue': '-',\n",
       "   'mangName': '도시대기',\n",
       "   'no2Grade': '',\n",
       "   'no2Value': '-',\n",
       "   'numOfRows': '10',\n",
       "   'o3Grade': '',\n",
       "   'o3Value': '-',\n",
       "   'pageNo': '1',\n",
       "   'pm10Grade': '',\n",
       "   'pm10Grade1h': '',\n",
       "   'pm10Value': '-',\n",
       "   'pm10Value24': '-',\n",
       "   'pm25Grade': '',\n",
       "   'pm25Grade1h': '',\n",
       "   'pm25Value': '-',\n",
       "   'pm25Value24': '-',\n",
       "   'resultCode': '',\n",
       "   'resultMsg': '',\n",
       "   'rnum': 0,\n",
       "   'serviceKey': '',\n",
       "   'sidoName': '',\n",
       "   'so2Grade': '',\n",
       "   'so2Value': '-',\n",
       "   'stationCode': '',\n",
       "   'stationName': '광진구',\n",
       "   'totalCount': '',\n",
       "   'ver': ''},\n",
       "  {'_returnType': 'json',\n",
       "   'coGrade': '1',\n",
       "   'coValue': '0.2',\n",
       "   'dataTerm': '',\n",
       "   'dataTime': '2019-07-11 16:00',\n",
       "   'khaiGrade': '1',\n",
       "   'khaiValue': '47',\n",
       "   'mangName': '도시대기',\n",
       "   'no2Grade': '1',\n",
       "   'no2Value': '0.013',\n",
       "   'numOfRows': '10',\n",
       "   'o3Grade': '1',\n",
       "   'o3Value': '0.028',\n",
       "   'pageNo': '1',\n",
       "   'pm10Grade': '1',\n",
       "   'pm10Grade1h': '1',\n",
       "   'pm10Value': '24',\n",
       "   'pm10Value24': '20',\n",
       "   'pm25Grade': '1',\n",
       "   'pm25Grade1h': '1',\n",
       "   'pm25Value': '4',\n",
       "   'pm25Value24': '5',\n",
       "   'resultCode': '',\n",
       "   'resultMsg': '',\n",
       "   'rnum': 0,\n",
       "   'serviceKey': '',\n",
       "   'sidoName': '',\n",
       "   'so2Grade': '1',\n",
       "   'so2Value': '0.005',\n",
       "   'stationCode': '',\n",
       "   'stationName': '성동구',\n",
       "   'totalCount': '',\n",
       "   'ver': ''},\n",
       "  {'_returnType': 'json',\n",
       "   'coGrade': '1',\n",
       "   'coValue': '0.2',\n",
       "   'dataTerm': '',\n",
       "   'dataTime': '2019-07-11 16:00',\n",
       "   'khaiGrade': '',\n",
       "   'khaiValue': '-',\n",
       "   'mangName': '도로변대기',\n",
       "   'no2Grade': '1',\n",
       "   'no2Value': '0.020',\n",
       "   'numOfRows': '10',\n",
       "   'o3Grade': '1',\n",
       "   'o3Value': '0.023',\n",
       "   'pageNo': '1',\n",
       "   'pm10Grade': '1',\n",
       "   'pm10Grade1h': '1',\n",
       "   'pm10Value': '6',\n",
       "   'pm10Value24': '6',\n",
       "   'pm25Grade': '',\n",
       "   'pm25Grade1h': '',\n",
       "   'pm25Value': '-',\n",
       "   'pm25Value24': '-',\n",
       "   'resultCode': '',\n",
       "   'resultMsg': '',\n",
       "   'rnum': 0,\n",
       "   'serviceKey': '',\n",
       "   'sidoName': '',\n",
       "   'so2Grade': '1',\n",
       "   'so2Value': '0.004',\n",
       "   'stationCode': '',\n",
       "   'stationName': '강변북로',\n",
       "   'totalCount': '',\n",
       "   'ver': ''},\n",
       "  {'_returnType': 'json',\n",
       "   'coGrade': '1',\n",
       "   'coValue': '0.2',\n",
       "   'dataTerm': '',\n",
       "   'dataTime': '2019-07-11 16:00',\n",
       "   'khaiGrade': '',\n",
       "   'khaiValue': '-',\n",
       "   'mangName': '도시대기',\n",
       "   'no2Grade': '1',\n",
       "   'no2Value': '0.013',\n",
       "   'numOfRows': '10',\n",
       "   'o3Grade': '1',\n",
       "   'o3Value': '0.011',\n",
       "   'pageNo': '1',\n",
       "   'pm10Grade': '1',\n",
       "   'pm10Grade1h': '1',\n",
       "   'pm10Value': '3',\n",
       "   'pm10Value24': '4',\n",
       "   'pm25Grade': '',\n",
       "   'pm25Grade1h': '1',\n",
       "   'pm25Value': '2',\n",
       "   'pm25Value24': '-',\n",
       "   'resultCode': '',\n",
       "   'resultMsg': '',\n",
       "   'rnum': 0,\n",
       "   'serviceKey': '',\n",
       "   'sidoName': '',\n",
       "   'so2Grade': '1',\n",
       "   'so2Value': '0.005',\n",
       "   'stationCode': '',\n",
       "   'stationName': '중랑구',\n",
       "   'totalCount': '',\n",
       "   'ver': ''}],\n",
       " 'parm': {'_returnType': 'json',\n",
       "  'coGrade': '',\n",
       "  'coValue': '',\n",
       "  'dataTerm': 'DAILY',\n",
       "  'dataTime': '',\n",
       "  'khaiGrade': '',\n",
       "  'khaiValue': '',\n",
       "  'mangName': '',\n",
       "  'no2Grade': '',\n",
       "  'no2Value': '',\n",
       "  'numOfRows': '10',\n",
       "  'o3Grade': '',\n",
       "  'o3Value': '',\n",
       "  'pageNo': '1',\n",
       "  'pm10Grade': '',\n",
       "  'pm10Grade1h': '',\n",
       "  'pm10Value': '',\n",
       "  'pm10Value24': '',\n",
       "  'pm25Grade': '',\n",
       "  'pm25Grade1h': '',\n",
       "  'pm25Value': '',\n",
       "  'pm25Value24': '',\n",
       "  'resultCode': '',\n",
       "  'resultMsg': '',\n",
       "  'rnum': 0,\n",
       "  'serviceKey': 'eZ7xBqg5C3tQDAwJM8kWRO6XWySXi9yEEPI449XNSbb+I9AFpA3wUMeeRVqiXhxpc2BOfeyMump/lF0pNYCpNA==',\n",
       "  'sidoName': '서울',\n",
       "  'so2Grade': '',\n",
       "  'so2Value': '',\n",
       "  'stationCode': '',\n",
       "  'stationName': '',\n",
       "  'totalCount': '',\n",
       "  'ver': '1.3'},\n",
       " 'ArpltnInforInqireSvcVo': {'_returnType': 'json',\n",
       "  'coGrade': '',\n",
       "  'coValue': '',\n",
       "  'dataTerm': 'DAILY',\n",
       "  'dataTime': '',\n",
       "  'khaiGrade': '',\n",
       "  'khaiValue': '',\n",
       "  'mangName': '',\n",
       "  'no2Grade': '',\n",
       "  'no2Value': '',\n",
       "  'numOfRows': '10',\n",
       "  'o3Grade': '',\n",
       "  'o3Value': '',\n",
       "  'pageNo': '1',\n",
       "  'pm10Grade': '',\n",
       "  'pm10Grade1h': '',\n",
       "  'pm10Value': '',\n",
       "  'pm10Value24': '',\n",
       "  'pm25Grade': '',\n",
       "  'pm25Grade1h': '',\n",
       "  'pm25Value': '',\n",
       "  'pm25Value24': '',\n",
       "  'resultCode': '',\n",
       "  'resultMsg': '',\n",
       "  'rnum': 0,\n",
       "  'serviceKey': 'eZ7xBqg5C3tQDAwJM8kWRO6XWySXi9yEEPI449XNSbb+I9AFpA3wUMeeRVqiXhxpc2BOfeyMump/lF0pNYCpNA==',\n",
       "  'sidoName': '서울',\n",
       "  'so2Grade': '',\n",
       "  'so2Value': '',\n",
       "  'stationCode': '',\n",
       "  'stationName': '',\n",
       "  'totalCount': '',\n",
       "  'ver': '1.3'},\n",
       " 'totalCount': 40}"
      ]
     },
     "execution_count": 30,
     "metadata": {},
     "output_type": "execute_result"
    }
   ],
   "source": [
    "import json\n",
    "json.loads(resp.text)"
   ]
  },
  {
   "cell_type": "code",
   "execution_count": 31,
   "metadata": {},
   "outputs": [
    {
     "name": "stdout",
     "output_type": "stream",
     "text": [
      "<html>\r\n",
      "<head><title>403 Forbidden</title></head>\r\n",
      "<body bgcolor=\"white\">\r\n",
      "<center><h1>403 Forbidden</h1></center>\r\n",
      "<hr><center>nginx</center>\r\n",
      "</body>\r\n",
      "</html>\r\n",
      "\n"
     ]
    },
    {
     "data": {
      "text/plain": [
       "<Response [403]>"
      ]
     },
     "execution_count": 31,
     "metadata": {},
     "output_type": "execute_result"
    }
   ],
   "source": [
    "url = 'http://worldagnetwork.com/'\n",
    "result = requests.get(url)\n",
    "print(result.content.decode())\n",
    "result"
   ]
  },
  {
   "cell_type": "code",
   "execution_count": 32,
   "metadata": {},
   "outputs": [
    {
     "data": {
      "text/plain": [
       "<Response [200]>"
      ]
     },
     "execution_count": 32,
     "metadata": {},
     "output_type": "execute_result"
    }
   ],
   "source": [
    "headers = {\n",
    "    'user-agent': 'Mozilla/5.0 (Windows NT 10.0; Win64; x64) AppleWebKit/537.36 (KHTML, like Gecko) Chrome/75.0.3770.100 Safari/537.36'}\n",
    "result = requests.get(url, headers=headers)\n",
    "result"
   ]
  },
  {
   "cell_type": "code",
   "execution_count": 33,
   "metadata": {},
   "outputs": [],
   "source": [
    "url = 'https://search.naver.com/search.naver'\n",
    "params = {'query': '아이린'}\n",
    "resp = download('get', url, params=params)"
   ]
  },
  {
   "cell_type": "code",
   "execution_count": 34,
   "metadata": {},
   "outputs": [],
   "source": [
    "# url = 'http://digital.kyobobook.co.kr/digital/ebook/ebookMain.ink'\n",
    "url = 'http://www.kyobobook.co.kr/search/SearchDigitoryMain.jsp'\n",
    "data = {'vPstrKeyWord': '아이린', 'vPstrCategory':'DIG'}\n",
    "data['vPstrKeyWord'] = urllib.parse.unquote(data['vPstrKeyWord'])\n",
    "resp = download('post', url, data=data)"
   ]
  },
  {
   "cell_type": "code",
   "execution_count": 35,
   "metadata": {},
   "outputs": [],
   "source": [
    "from html import unescape"
   ]
  },
  {
   "cell_type": "code",
   "execution_count": 36,
   "metadata": {},
   "outputs": [],
   "source": [
    "url = 'http://www.kyobobook.co.kr/search/SearchCommonMain.jsp'\n",
    "data = {'vPstrKeyWord': '&#50500;&#51060;&#47536;', 'searchKeyword': '아이린', 'searchCategory': 'TOT'}\n",
    "resp = download('post', url, data=data)"
   ]
  },
  {
   "cell_type": "code",
   "execution_count": 37,
   "metadata": {},
   "outputs": [],
   "source": [
    "with open('result.html', 'w') as html:\n",
    "    html.write(resp.text)"
   ]
  },
  {
   "cell_type": "code",
   "execution_count": 38,
   "metadata": {},
   "outputs": [
    {
     "data": {
      "text/plain": [
       "'아이린'"
      ]
     },
     "execution_count": 38,
     "metadata": {},
     "output_type": "execute_result"
    }
   ],
   "source": [
    "unescape('&#50500;&#51060;&#47536;')"
   ]
  },
  {
   "cell_type": "code",
   "execution_count": 39,
   "metadata": {},
   "outputs": [],
   "source": [
    "# url = 'http://digital.kyobobook.co.kr/digital/ebook/ebookMain.ink'\n",
    "url = 'http://www.kyobobook.co.kr/search/SearchDigitoryMain.jsp'\n",
    "data = {'vPstrKeyWord': 'adsp'}\n",
    "resp = download('post', url, data=data)"
   ]
  },
  {
   "cell_type": "code",
   "execution_count": 40,
   "metadata": {},
   "outputs": [],
   "source": [
    "with open('result.html', 'w') as html:\n",
    "    html.write(resp.text)"
   ]
  },
  {
   "cell_type": "markdown",
   "metadata": {},
   "source": [
    "Test site: http://pythonscraping.com/pages/cookies/login.html"
   ]
  },
  {
   "cell_type": "code",
   "execution_count": 41,
   "metadata": {},
   "outputs": [
    {
     "data": {
      "text/plain": [
       "ParseResult(scheme='http', netloc='pythonscraping.com', path='/pages/cookies/login.html', params='', query='', fragment='')"
      ]
     },
     "execution_count": 41,
     "metadata": {},
     "output_type": "execute_result"
    }
   ],
   "source": [
    "requests.compat.urlparse('http://pythonscraping.com/pages/cookies/login.html')"
   ]
  },
  {
   "cell_type": "code",
   "execution_count": 42,
   "metadata": {},
   "outputs": [
    {
     "data": {
      "text/plain": [
       "'http://www.kyobobook.co.kr/search/SearchDigitoryMain.jsp'"
      ]
     },
     "execution_count": 42,
     "metadata": {},
     "output_type": "execute_result"
    }
   ],
   "source": [
    "url"
   ]
  },
  {
   "cell_type": "code",
   "execution_count": 43,
   "metadata": {},
   "outputs": [
    {
     "name": "stdout",
     "output_type": "stream",
     "text": [
      "http://pythonscraping.com/pages/cookies/login.html\n",
      "http://pythonscraping.com/pages/cookies/welcome.php\n",
      "\n",
      "<h2>Welcome to the Website!</h2>\n",
      "Whoops! You logged in wrong. Try again with any username, and the password \"password\"<br><a href=\"login.html\">Log in here</a>\n"
     ]
    }
   ],
   "source": [
    "url = 'http://pythonscraping.com/pages/cookies/login.html'\n",
    "print(url)\n",
    "url = requests.compat.urljoin(url, 'welcome.php')\n",
    "print(url)\n",
    "data = {'username': 'Test', 'password': 'password'}\n",
    "resp = download('post', url, data=data)\n",
    "print(resp.text)"
   ]
  },
  {
   "cell_type": "markdown",
   "metadata": {},
   "source": [
    "---"
   ]
  },
  {
   "cell_type": "markdown",
   "metadata": {},
   "source": [
    "## Session"
   ]
  },
  {
   "cell_type": "markdown",
   "metadata": {},
   "source": [
    "### 최초 접속"
   ]
  },
  {
   "cell_type": "code",
   "execution_count": 44,
   "metadata": {},
   "outputs": [
    {
     "name": "stdout",
     "output_type": "stream",
     "text": [
      "\n",
      "<h2>Welcome to the Website!</h2>\n",
      "Whoops! You logged in wrong. Try again with any username, and the password \"password\"<br><a href=\"login.html\">Log in here</a>\n"
     ]
    }
   ],
   "source": [
    "session = requests.Session()\n",
    "resp = session.post(url, data=data)\n",
    "print(resp.text)"
   ]
  },
  {
   "cell_type": "markdown",
   "metadata": {},
   "source": [
    "### 세션 등록 후 접속"
   ]
  },
  {
   "cell_type": "code",
   "execution_count": 45,
   "metadata": {},
   "outputs": [
    {
     "name": "stdout",
     "output_type": "stream",
     "text": [
      "\n",
      "<h2>Welcome to the Website!</h2>\n",
      "You have logged in successfully! <br><a href=\"profile.php\">Check out your profile!</a>\n"
     ]
    }
   ],
   "source": [
    "resp = session.post(url)\n",
    "print(resp.text)"
   ]
  },
  {
   "cell_type": "markdown",
   "metadata": {},
   "source": [
    "## 쿠키 확인"
   ]
  },
  {
   "cell_type": "code",
   "execution_count": 46,
   "metadata": {},
   "outputs": [
    {
     "data": {
      "text/plain": [
       "<RequestsCookieJar[Cookie(version=0, name='loggedin', value='1', port=None, port_specified=False, domain='pythonscraping.com', domain_specified=False, domain_initial_dot=False, path='/pages/cookies', path_specified=False, secure=False, expires=None, discard=True, comment=None, comment_url=None, rest={}, rfc2109=False), Cookie(version=0, name='username', value='Test', port=None, port_specified=False, domain='pythonscraping.com', domain_specified=False, domain_initial_dot=False, path='/pages/cookies', path_specified=False, secure=False, expires=None, discard=True, comment=None, comment_url=None, rest={}, rfc2109=False)]>"
      ]
     },
     "execution_count": 46,
     "metadata": {},
     "output_type": "execute_result"
    }
   ],
   "source": [
    "session.cookies"
   ]
  },
  {
   "cell_type": "code",
   "execution_count": 47,
   "metadata": {},
   "outputs": [],
   "source": [
    "session = requests.Session()\n",
    "url = requests.compat.urljoin('https://lms.sunde41.net', '/auth/login')\n",
    "resp = session.post(url, data={'email': 'tmdals820@naver.com', 'password': '1995-08-20'})"
   ]
  },
  {
   "cell_type": "code",
   "execution_count": 49,
   "metadata": {},
   "outputs": [
    {
     "name": "stdout",
     "output_type": "stream",
     "text": [
      "<!DOCTYPE html>\n",
      "<html lang=\"ko\">\n",
      "<head>\n",
      "    <title>대시보드 :\n",
      "        빅데이터 청년인재 고려대학교 과정 학습관리시스템</title>\n",
      "    <meta charset=\"UTF-8\">\n",
      "    <meta http-equiv=\"X-UA-Compatible\" content=\"IE=edge,chrome=1\">\n",
      "    <meta name=\"viewport\" content=\"width=device-width, initial-scale=1, maximum-scale=1, shrink-to-fit=no\">\n",
      "    <meta name=\"robots\" content=\"noindex,nofollow\">\n",
      "    <link href=\"/static/vendors/bootstrap.css?v=1.1\" rel=\"stylesheet\">\n",
      "    <link href=\"/static/vendors/main.css?v=1.1\" rel=\"stylesheet\">\n",
      "    <link href=\"/static/vendors/icon.css?v=1.0\" rel=\"stylesheet\">\n",
      "    <link href=\"/static/vendors/preloaders.css?v=1.0\" rel=\"stylesheet\">    <link href=\"/static/vendors/fullcalendar.css?v=1.0\" rel=\"stylesheet\">\n",
      "    <link href=\"/static/vendors/style.css?v=1.8\" rel=\"stylesheet\">\n",
      "    <link rel=\"icon\" href=\"/static/favicon/cropped-m_logo-32x32.png\" sizes=\"32x32\">\n",
      "    <link rel=\"icon\" href=\"/static/favicon/cropped-m_logo-192x192.png\" sizes=\"192x192\">\n",
      "    <link rel=\"apple-touch-icon-precomposed\" href=\"/static/favicon/cropped-m_logo-180x180.png\">\n",
      "    <meta name=\"msapplication-TileImage\" content=\"/static/favicon/cropped-m_logo-270x270.png\">\n",
      "    <script src=\"https://linked.chat/web/e6VyPe\" async></script>\n",
      "    <link href=\"/static/vendors/contact.css?v=1.0\" rel=\"stylesheet\">\n",
      "</head>\n",
      "<body class=\"m-page--fluid m--skin- m-content--skin-light2 m-header--fixed m-header--fixed-mobile m-aside-left--enabled m-aside-left--skin-dark m-aside-left--fixed m-aside-left--offcanvas m-footer--push m-aside--offcanvas-default\">\n",
      "<div id=\"mask\"><div id=\"dots5\">\n",
      "    <span></span>\n",
      "    <span></span>\n",
      "    <span></span>\n",
      "    <span></span>\n",
      "</div> </div>\n",
      "<div class=\"m-grid m-grid--hor m-grid--root m-page\">\n",
      "    <header id=\"m_header\" class=\"m-grid__item m-header \" m-minimize-offset=\"200\" m-minimize-mobile-offset=\"200\">\n",
      "        <div class=\"m-container m-container--fluid m-container--full-height\">\n",
      "            <div class=\"m-stack m-stack--ver m-stack--desktop\">\n",
      "                <div class=\"m-stack__item m-brand  m-brand--skin-dark \">\n",
      "                    <div class=\"m-stack m-stack--ver m-stack--general\">\n",
      "                        <div class=\"m-stack__item m-stack__item--middle m-brand__logo\">\n",
      "                            <a href=\"/\" class=\"m-brand__logo-wrapper\">\n",
      "                                <img alt=\"\" src=\"/static/img/logo.png\"/>\n",
      "                            </a>\n",
      "                        </div>\n",
      "                        <div class=\"m-stack__item m-stack__item--middle m-brand__tools\">\n",
      "                            <a href=\"javascript:;\" id=\"m_aside_left_minimize_toggle\"\n",
      "                               class=\"m-brand__icon m-brand__toggler m-brand__toggler--left m--visible-desktop-inline-block  \">\n",
      "                                <span></span>\n",
      "                            </a>\n",
      "                            <a href=\"javascript:;\" id=\"m_aside_left_offcanvas_toggle\"\n",
      "                               class=\"m-brand__icon m-brand__toggler m-brand__toggler--left m--visible-tablet-and-mobile-inline-block\">\n",
      "                                <span></span>\n",
      "                            </a>\n",
      "                            <a id=\"m_aside_header_menu_mobile_toggle\" href=\"javascript:;\"\n",
      "                               class=\"m-brand__icon m-brand__toggler m--visible-tablet-and-mobile-inline-block\">\n",
      "                                <span></span>\n",
      "                            </a>\n",
      "                            <a id=\"m_aside_header_topbar_mobile_toggle\" href=\"javascript:;\"\n",
      "                               class=\"m-brand__icon m--visible-tablet-and-mobile-inline-block\">\n",
      "                                <i class=\"flaticon-more\"></i>\n",
      "                            </a>\n",
      "                        </div>\n",
      "                    </div>\n",
      "                </div><div class=\"m-stack__item m-stack__item--fluid m-header-head\" id=\"m_header_nav\">\n",
      "    <button class=\"m-aside-header-menu-mobile-close  m-aside-header-menu-mobile-close--skin-dark \"\n",
      "            id=\"m_aside_header_menu_mobile_close_btn\"><i class=\"la la-close\"></i></button>\n",
      "    <div id=\"m_header_menu\"\n",
      "         class=\"m-header-menu m-aside-header-menu-mobile m-aside-header-menu-mobile--offcanvas  m-header-menu--skin-light m-header-menu--submenu-skin-light m-aside-header-menu-mobile--skin-dark m-aside-header-menu-mobile--submenu-skin-dark \">\n",
      "        <ul class=\"m-menu__nav  m-menu__nav--submenu-arrow \">\n",
      "            <li class=\"m-menu__item  m-menu__item--submenu m-menu__item--rel first\" m-menu-submenu-toggle=\"click\"\n",
      "                aria-haspopup=\"true\"><a href=\"javascript:;\" class=\"m-menu__link m-menu__toggle\"\n",
      "                                        title=\"Non functional dummy link\"><i\n",
      "                    class=\"m-menu__link-icon flaticon-add\"></i>\n",
      "                <span class=\"m-menu__link-title\">\n",
      "                    <span class=\"m-menu__link-wrap\">\n",
      "                        <span class=\"m-menu__link-text\">자주 사용하는 메뉴</span>\n",
      "                    </span>\n",
      "                </span>\n",
      "                <i class=\"m-menu__hor-arrow la la-angle-down\"></i><i\n",
      "                        class=\"m-menu__ver-arrow la la-angle-right\"></i></a>\n",
      "                <div class=\"m-menu__submenu m-menu__submenu--classic m-menu__submenu--left\" style=\"width: 500px;\"><span\n",
      "                        class=\"m-menu__arrow m-menu__arrow--adjust\"></span>\n",
      "                    <div class=\"m-menu__subnav\">\n",
      "                        <ul class=\"m-menu__content\">\n",
      "                            <li class=\"m-menu__item \">\n",
      "                                <ul class=\"m-menu__inner\">\n",
      "                                    <li class=\"m-menu__section m-menu__section-text\"><span\n",
      "                                            style=\"color:#009051;font-weight:700;\">Python 고급</span>\n",
      "                                    </li>\n",
      "                                    <li class=\"m-menu__item \" aria-haspopup=\"true\"><a\n",
      "                                            href=\"/course/1\" class=\"m-menu__link \"><i\n",
      "                                            class=\"m-menu__link-icon flaticon-download\"></i><span\n",
      "                                            class=\"m-menu__link-text\">수업 게시판</span></a>\n",
      "                                    </li>\n",
      "                                    <li class=\"m-menu__item \" aria-haspopup=\"true\"><a\n",
      "                                            href=\"/qna/new/1\" class=\"m-menu__link \"><i\n",
      "                                            class=\"m-menu__link-icon flaticon-questions-circular-button\"></i><span\n",
      "                                            class=\"m-menu__link-text\">질문하기</span></a>\n",
      "                                    </li>\n",
      "                                    <li class=\"m-menu__item \" aria-haspopup=\"true\"><a\n",
      "                                            href=\"/course/assignment/submit/1/3\"\n",
      "                                            class=\"m-menu__link \"><i\n",
      "                                            class=\"m-menu__link-icon flaticon-file\"></i><span class=\"m-menu__link-text\">정규식 복습 제출<span\n",
      "                                            class=\"m-menu__link-badge\"><span\n",
      "                                            class=\"m-badge m-badge--orange strong float-right\">new</span></span></span></a>\n",
      "                                    </li>\n",
      "                                    <li class=\"m--margin-10\" style=\"border-bottom:1pt solid #009051\"></li>\n",
      "\n",
      "                                    <li class=\"m-menu__section m-menu__section-text\"><span\n",
      "                                            style=\"color:#ff9300;font-weight:700;\">데이터 처리</span>\n",
      "                                    </li>\n",
      "                                    <li class=\"m-menu__item \" aria-haspopup=\"true\"><a\n",
      "                                            href=\"/course/2\" class=\"m-menu__link \"><i\n",
      "                                            class=\"m-menu__link-icon flaticon-download\"></i><span\n",
      "                                            class=\"m-menu__link-text\">수업 게시판</span></a>\n",
      "                                    </li>\n",
      "                                    <li class=\"m-menu__item \" aria-haspopup=\"true\"><a\n",
      "                                            href=\"/qna/new/2\" class=\"m-menu__link \"><i\n",
      "                                            class=\"m-menu__link-icon flaticon-questions-circular-button\"></i><span\n",
      "                                            class=\"m-menu__link-text\">질문하기</span></a>\n",
      "                                    </li>\n",
      "                                    <li class=\"m--margin-10\" style=\"border-bottom:1pt solid #ff9300\"></li>\n",
      "\n",
      "                                    <li class=\"m-menu__section m-menu__section-text\"><span\n",
      "                                            style=\"color:#ff40ff;font-weight:700;\">기초 분석</span>\n",
      "                                    </li>\n",
      "                                    <li class=\"m-menu__item \" aria-haspopup=\"true\"><a\n",
      "                                            href=\"/course/3\" class=\"m-menu__link \"><i\n",
      "                                            class=\"m-menu__link-icon flaticon-download\"></i><span\n",
      "                                            class=\"m-menu__link-text\">수업 게시판</span></a>\n",
      "                                    </li>\n",
      "                                    <li class=\"m-menu__item \" aria-haspopup=\"true\"><a\n",
      "                                            href=\"/qna/new/3\" class=\"m-menu__link \"><i\n",
      "                                            class=\"m-menu__link-icon flaticon-questions-circular-button\"></i><span\n",
      "                                            class=\"m-menu__link-text\">질문하기</span></a>\n",
      "                                    </li>\n",
      "                                    <li class=\"m--margin-10\" style=\"border-bottom:1pt solid #ff40ff\"></li>\n",
      "\n",
      "\n",
      "\n",
      "\n",
      "\n",
      "\n",
      "\n",
      "                                </ul>\n",
      "                            </li>\n",
      "                            <li class=\"m-menu__item \">\n",
      "                                <ul class=\"m-menu__inner\">\n",
      "\n",
      "\n",
      "\n",
      "                                    <li class=\"m-menu__section m-menu__section-text\"><span\n",
      "                                            style=\"color:#531b93;font-weight:700;\">분석 심화 (자연어)</span>\n",
      "                                    </li>\n",
      "                                    <li class=\"m-menu__item \" aria-haspopup=\"true\"><a\n",
      "                                            href=\"/course/4\" class=\"m-menu__link \"><i\n",
      "                                            class=\"m-menu__link-icon flaticon-download\"></i><span\n",
      "                                            class=\"m-menu__link-text\">수업 게시판</span></a>\n",
      "                                    </li>\n",
      "                                    <li class=\"m-menu__item \" aria-haspopup=\"true\"><a\n",
      "                                            href=\"/qna/new/4\" class=\"m-menu__link \"><i\n",
      "                                            class=\"m-menu__link-icon flaticon-questions-circular-button\"></i><span\n",
      "                                            class=\"m-menu__link-text\">질문하기</span></a>\n",
      "                                    </li>\n",
      "                                    <li class=\"m--margin-10\" style=\"border-bottom:1pt solid #531b93\"></li>\n",
      "\n",
      "                                    <li class=\"m-menu__section m-menu__section-text\"><span\n",
      "                                            style=\"color:#531b93;font-weight:700;\">분석 심화 (딥러닝)</span>\n",
      "                                    </li>\n",
      "                                    <li class=\"m-menu__item \" aria-haspopup=\"true\"><a\n",
      "                                            href=\"/course/5\" class=\"m-menu__link \"><i\n",
      "                                            class=\"m-menu__link-icon flaticon-download\"></i><span\n",
      "                                            class=\"m-menu__link-text\">수업 게시판</span></a>\n",
      "                                    </li>\n",
      "                                    <li class=\"m-menu__item \" aria-haspopup=\"true\"><a\n",
      "                                            href=\"/qna/new/5\" class=\"m-menu__link \"><i\n",
      "                                            class=\"m-menu__link-icon flaticon-questions-circular-button\"></i><span\n",
      "                                            class=\"m-menu__link-text\">질문하기</span></a>\n",
      "                                    </li>\n",
      "                                    <li class=\"m--margin-10\" style=\"border-bottom:1pt solid #531b93\"></li>\n",
      "\n",
      "                                    <li class=\"m-menu__section m-menu__section-text\"><span\n",
      "                                            style=\"color:#531b93;font-weight:700;\">분석 심화 (보충)</span>\n",
      "                                    </li>\n",
      "                                    <li class=\"m-menu__item \" aria-haspopup=\"true\"><a\n",
      "                                            href=\"/course/9\" class=\"m-menu__link \"><i\n",
      "                                            class=\"m-menu__link-icon flaticon-download\"></i><span\n",
      "                                            class=\"m-menu__link-text\">수업 게시판</span></a>\n",
      "                                    </li>\n",
      "                                    <li class=\"m-menu__item \" aria-haspopup=\"true\"><a\n",
      "                                            href=\"/qna/new/9\" class=\"m-menu__link \"><i\n",
      "                                            class=\"m-menu__link-icon flaticon-questions-circular-button\"></i><span\n",
      "                                            class=\"m-menu__link-text\">질문하기</span></a>\n",
      "                                    </li>\n",
      "                                    <li class=\"m--margin-10\" style=\"border-bottom:1pt solid #531b93\"></li>\n",
      "\n",
      "                                    <li class=\"m-menu__section m-menu__section-text\"><span\n",
      "                                            style=\"color:#929000;font-weight:700;\">프론트엔드 개발</span>\n",
      "                                    </li>\n",
      "                                    <li class=\"m-menu__item \" aria-haspopup=\"true\"><a\n",
      "                                            href=\"/course/6\" class=\"m-menu__link \"><i\n",
      "                                            class=\"m-menu__link-icon flaticon-download\"></i><span\n",
      "                                            class=\"m-menu__link-text\">수업 게시판</span></a>\n",
      "                                    </li>\n",
      "                                    <li class=\"m-menu__item \" aria-haspopup=\"true\"><a\n",
      "                                            href=\"/qna/new/6\" class=\"m-menu__link \"><i\n",
      "                                            class=\"m-menu__link-icon flaticon-questions-circular-button\"></i><span\n",
      "                                            class=\"m-menu__link-text\">질문하기</span></a>\n",
      "                                    </li>\n",
      "                                    <li class=\"m--margin-10\" style=\"border-bottom:1pt solid #929000\"></li>\n",
      "\n",
      "                                    <li class=\"m-menu__section m-menu__section-text\"><span\n",
      "                                            style=\"color:#929000;font-weight:700;\">백엔드 개발</span>\n",
      "                                    </li>\n",
      "                                    <li class=\"m-menu__item \" aria-haspopup=\"true\"><a\n",
      "                                            href=\"/course/7\" class=\"m-menu__link \"><i\n",
      "                                            class=\"m-menu__link-icon flaticon-download\"></i><span\n",
      "                                            class=\"m-menu__link-text\">수업 게시판</span></a>\n",
      "                                    </li>\n",
      "                                    <li class=\"m-menu__item \" aria-haspopup=\"true\"><a\n",
      "                                            href=\"/qna/new/7\" class=\"m-menu__link \"><i\n",
      "                                            class=\"m-menu__link-icon flaticon-questions-circular-button\"></i><span\n",
      "                                            class=\"m-menu__link-text\">질문하기</span></a>\n",
      "                                    </li>\n",
      "                                    <li class=\"m--margin-10\" style=\"border-bottom:1pt solid #929000\"></li>\n",
      "\n",
      "\n",
      "                                </ul>\n",
      "                            </li>\n",
      "                        </ul>\n",
      "                    </div>\n",
      "                </div>\n",
      "            </li>\n",
      "            <li class=\"m-menu__item  m-menu__item--submenu m-menu__item--rel\"><a href=\"javascript:void(0);\"\n",
      "                                                                                 onclick=\"callFunction();\"\n",
      "                                                                                 class=\"m-menu__link m-menu__toggle\"\n",
      "                                                                                 title=\"Non functional dummy link\"><i\n",
      "                    class=\"m-menu__link-icon flaticon-chat-2\"></i><span class=\"m-menu__link-text\">문의/건의</span></a></li>\n",
      "        </ul>\n",
      "    </div>\n",
      "    <!-- BEGIN: Topbar -->\n",
      "    <div id=\"m_header_topbar\" class=\"m-topbar  m-stack m-stack--ver m-stack--general m-stack--fluid\">\n",
      "        <div class=\"m-stack__item m-topbar__nav-wrapper\">\n",
      "            <ul class=\"m-topbar__nav m-nav m-nav--inline\">\n",
      "                <li class=\"m-nav__item m-dropdown m-dropdown--large m-dropdown--arrow m-dropdown--align-center m-dropdown--mobile-full-width m-dropdown--skin-light\tm-list-search m-list-search--skin-light\">\n",
      "                    <a href=\"#\" class=\"m-nav__link m-dropdown__toggle\" onclick=\"toggleFullScreen();\">\n",
      "                        <span class=\"m-nav__link-icon\"><i class=\"flaticon-arrows\"></i></span></a>\n",
      "                </li>\n",
      "                <li class=\"m-nav__item m-topbar__user-profile m-topbar__user-profile--img\">\n",
      "                    <a href=\"/dashboard/mypage\">\n",
      "                        <span class=\"m-topbar__userpic\">\n",
      "                            <img src=\"/static/img/default_avatar.jpeg\"\n",
      "                                 class=\"user_pic_top\"\n",
      "                                 onerror=\"if (this.src != '/static/img/default_avatar.jpeg') this.src = '/static/img/default_avatar.jpeg';\">\n",
      "                        </span>\n",
      "                    </a>\n",
      "                </li>\n",
      "                <li class=\"m-nav__item m-list-search m-list-search--skin-light\">\n",
      "                    <a href=\"/auth/logout\" class=\"m-nav__link\">\n",
      "                        <span class=\"m-nav__link-icon\"><i class=\"flaticon-logout\"></i></span>\n",
      "                    </a>\n",
      "                </li>\n",
      "            </ul>\n",
      "        </div>\n",
      "    </div>\n",
      "</div></div>\n",
      "        </div>\n",
      "    </header>\n",
      "    <div class=\"m-grid__item m-grid__item--fluid m-grid m-grid--ver-desktop m-grid--desktop m-body\">\n",
      "        <button class=\"m-aside-left-close  m-aside-left-close--skin-dark \" id=\"m_aside_left_close_btn\"><i\n",
      "                class=\"la la-close\"></i></button>\n",
      "        <div id=\"m_aside_left\" class=\"m-grid__item\tm-aside-left  m-aside-left--skin-dark \"><div id=\"m_ver_menu\" class=\"m-aside-menu  m-aside-menu--skin-dark m-aside-menu--submenu-skin-dark \" m-menu-vertical=\"1\"\n",
      "     m-menu-scrollable=\"1\" m-menu-dropdown-timeout=\"500\">\n",
      "    <ul class=\"m-menu__nav \">\n",
      "        <li class=\"m-menu__item   m-menu__item--active \"\n",
      "            aria-haspopup=\"true\"><a href=\"/dashboard\"\n",
      "                                    class=\"m-menu__link \"><span\n",
      "                class=\"m-menu__item-here\"></span><i class=\"m-menu__link-icon flaticon-home-1\"></i><span\n",
      "                class=\"m-menu__link-text\">대시 보드</span></a></li>\n",
      "        <li class=\"m-menu__item  \"\n",
      "            aria-haspopup=\"true\"><a href=\"/dashboard/mypage\"\n",
      "                                    class=\"m-menu__link \"><span\n",
      "                class=\"m-menu__item-here\"></span><i class=\"m-menu__link-icon flaticon-customer\"></i><span\n",
      "                class=\"m-menu__link-text\">나의 정보</span></a></li>\n",
      "            <li class=\"m-menu__section m-menu__section--first\">\n",
      "                    <h4 class=\"m-menu__section-text\" style=\"color:orangered;font-weight:700;\">공통 과정</h4>\n",
      "                    <i class=\"m-menu__section-icon flaticon-user-settings\"></i>\n",
      "                </li>\n",
      "                <li class=\"m-menu__item m-menu__item--submenu \"\n",
      "                    aria-haspopup=\"true\" m-menu-submenu-toggle=\"hover\"><a href=\"javascript:;\"\n",
      "                                                                          class=\"m-menu__link m-menu__toggle\"><span\n",
      "                        class=\"m-menu__item-here\"></span><i class=\"m-menu__link-icon flaticon-presentation\"></i>\n",
      "                    <span class=\"m-menu__link-title\">\n",
      "                        <span class=\"m-menu__link-wrap\">\n",
      "                            <span class=\"m-menu__link-text\">Python 고급\n",
      "                            </span>\n",
      "                        </span>\n",
      "                    </span>\n",
      "                    <i class=\"m-menu__ver-arrow la la-angle-right\"></i></a>\n",
      "                    <div class=\"m-menu__submenu \"><span class=\"m-menu__arrow\"></span>\n",
      "                        <ul class=\"m-menu__subnav\">\n",
      "                            <li class=\"m-menu__item  \"\n",
      "                                aria-haspopup=\"true\"><a\n",
      "                                    href=\"/course/1\" class=\"m-menu__link \">\n",
      "                                <i class=\"m-menu__link-bullet m-menu__link-bullet--line\"><span></span></i><span\n",
      "                                    class=\"m-menu__link-text\">수업 게시판</span></a></li>\n",
      "                            <li class=\"m-menu__item \"\n",
      "                                aria-haspopup=\"true\"><a href=\"/course/assignment/list/1\"\n",
      "                                                        class=\"m-menu__link \"><i\n",
      "                                    class=\"m-menu__link-bullet m-menu__link-bullet--line\"><span></span></i><span\n",
      "                                    class=\"m-menu__link-text\">과제 게시판\n",
      "                                            <span class=\"m-badge m-badge--orange strong float-right\">\n",
      "                                                new</span>\n",
      "                                    </a></li>\n",
      "                        </ul>\n",
      "                    </div>\n",
      "                </li>\n",
      "                <li class=\"m-menu__item m-menu__item--submenu \"\n",
      "                    aria-haspopup=\"true\" m-menu-submenu-toggle=\"hover\"><a href=\"javascript:;\"\n",
      "                                                                          class=\"m-menu__link m-menu__toggle\"><span\n",
      "                        class=\"m-menu__item-here\"></span><i class=\"m-menu__link-icon flaticon-presentation\"></i>\n",
      "                    <span class=\"m-menu__link-title\">\n",
      "                        <span class=\"m-menu__link-wrap\">\n",
      "                            <span class=\"m-menu__link-text\">데이터 처리\n",
      "                            </span>\n",
      "                        </span>\n",
      "                    </span>\n",
      "                    <i class=\"m-menu__ver-arrow la la-angle-right\"></i></a>\n",
      "                    <div class=\"m-menu__submenu \"><span class=\"m-menu__arrow\"></span>\n",
      "                        <ul class=\"m-menu__subnav\">\n",
      "                            <li class=\"m-menu__item  \"\n",
      "                                aria-haspopup=\"true\"><a\n",
      "                                    href=\"/course/2\" class=\"m-menu__link \">\n",
      "                                <i class=\"m-menu__link-bullet m-menu__link-bullet--line\"><span></span></i><span\n",
      "                                    class=\"m-menu__link-text\">수업 게시판</span></a></li>\n",
      "                            <li class=\"m-menu__item \"\n",
      "                                aria-haspopup=\"true\"><a href=\"/course/assignment/list/2\"\n",
      "                                                        class=\"m-menu__link \"><i\n",
      "                                    class=\"m-menu__link-bullet m-menu__link-bullet--line\"><span></span></i><span\n",
      "                                    class=\"m-menu__link-text\">과제 게시판\n",
      "                                            <span class=\"m-badge m-badge--orange strong float-right\">\n",
      "                                                new</span>\n",
      "                                    </a></li>\n",
      "                        </ul>\n",
      "                    </div>\n",
      "                </li>\n",
      "                <li class=\"m-menu__item m-menu__item--submenu \"\n",
      "                    aria-haspopup=\"true\" m-menu-submenu-toggle=\"hover\"><a href=\"javascript:;\"\n",
      "                                                                          class=\"m-menu__link m-menu__toggle\"><span\n",
      "                        class=\"m-menu__item-here\"></span><i class=\"m-menu__link-icon flaticon-presentation\"></i>\n",
      "                    <span class=\"m-menu__link-title\">\n",
      "                        <span class=\"m-menu__link-wrap\">\n",
      "                            <span class=\"m-menu__link-text\">기초 분석\n",
      "                            </span>\n",
      "                        </span>\n",
      "                    </span>\n",
      "                    <i class=\"m-menu__ver-arrow la la-angle-right\"></i></a>\n",
      "                    <div class=\"m-menu__submenu \"><span class=\"m-menu__arrow\"></span>\n",
      "                        <ul class=\"m-menu__subnav\">\n",
      "                            <li class=\"m-menu__item  \"\n",
      "                                aria-haspopup=\"true\"><a\n",
      "                                    href=\"/course/3\" class=\"m-menu__link \">\n",
      "                                <i class=\"m-menu__link-bullet m-menu__link-bullet--line\"><span></span></i><span\n",
      "                                    class=\"m-menu__link-text\">수업 게시판</span></a></li>\n",
      "                            <li class=\"m-menu__item \"\n",
      "                                aria-haspopup=\"true\"><a href=\"/course/assignment/list/3\"\n",
      "                                                        class=\"m-menu__link \"><i\n",
      "                                    class=\"m-menu__link-bullet m-menu__link-bullet--line\"><span></span></i><span\n",
      "                                    class=\"m-menu__link-text\">과제 게시판\n",
      "                                    </a></li>\n",
      "                        </ul>\n",
      "                    </div>\n",
      "                </li>\n",
      "                        <li class=\"m-menu__section m-menu__section--first\">\n",
      "                    <h4 class=\"m-menu__section-text\" style=\"color:orangered;font-weight:700;\">선택 과정</h4>\n",
      "                    <i class=\"m-menu__section-icon flaticon-user-settings\"></i>\n",
      "                </li>\n",
      "                <li class=\"m-menu__item m-menu__item--submenu \"\n",
      "                    aria-haspopup=\"true\" m-menu-submenu-toggle=\"hover\"><a href=\"javascript:;\"\n",
      "                                                                          class=\"m-menu__link m-menu__toggle\"><span\n",
      "                        class=\"m-menu__item-here\"></span><i class=\"m-menu__link-icon flaticon-presentation\"></i>\n",
      "                    <span class=\"m-menu__link-title\">\n",
      "                        <span class=\"m-menu__link-wrap\">\n",
      "                            <span class=\"m-menu__link-text\">분석 심화 (자연어)\n",
      "                            </span>\n",
      "                        </span>\n",
      "                    </span>\n",
      "                    <i class=\"m-menu__ver-arrow la la-angle-right\"></i></a>\n",
      "                    <div class=\"m-menu__submenu \"><span class=\"m-menu__arrow\"></span>\n",
      "                        <ul class=\"m-menu__subnav\">\n",
      "                            <li class=\"m-menu__item  \"\n",
      "                                aria-haspopup=\"true\"><a\n",
      "                                    href=\"/course/4\" class=\"m-menu__link \">\n",
      "                                <i class=\"m-menu__link-bullet m-menu__link-bullet--line\"><span></span></i><span\n",
      "                                    class=\"m-menu__link-text\">수업 게시판</span></a></li>\n",
      "                            <li class=\"m-menu__item \"\n",
      "                                aria-haspopup=\"true\"><a href=\"/course/assignment/list/4\"\n",
      "                                                        class=\"m-menu__link \"><i\n",
      "                                    class=\"m-menu__link-bullet m-menu__link-bullet--line\"><span></span></i><span\n",
      "                                    class=\"m-menu__link-text\">과제 게시판\n",
      "                                    </a></li>\n",
      "                        </ul>\n",
      "                    </div>\n",
      "                </li>\n",
      "                <li class=\"m-menu__item m-menu__item--submenu \"\n",
      "                    aria-haspopup=\"true\" m-menu-submenu-toggle=\"hover\"><a href=\"javascript:;\"\n",
      "                                                                          class=\"m-menu__link m-menu__toggle\"><span\n",
      "                        class=\"m-menu__item-here\"></span><i class=\"m-menu__link-icon flaticon-presentation\"></i>\n",
      "                    <span class=\"m-menu__link-title\">\n",
      "                        <span class=\"m-menu__link-wrap\">\n",
      "                            <span class=\"m-menu__link-text\">분석 심화 (딥러닝)\n",
      "                            </span>\n",
      "                        </span>\n",
      "                    </span>\n",
      "                    <i class=\"m-menu__ver-arrow la la-angle-right\"></i></a>\n",
      "                    <div class=\"m-menu__submenu \"><span class=\"m-menu__arrow\"></span>\n",
      "                        <ul class=\"m-menu__subnav\">\n",
      "                            <li class=\"m-menu__item  \"\n",
      "                                aria-haspopup=\"true\"><a\n",
      "                                    href=\"/course/5\" class=\"m-menu__link \">\n",
      "                                <i class=\"m-menu__link-bullet m-menu__link-bullet--line\"><span></span></i><span\n",
      "                                    class=\"m-menu__link-text\">수업 게시판</span></a></li>\n",
      "                            <li class=\"m-menu__item \"\n",
      "                                aria-haspopup=\"true\"><a href=\"/course/assignment/list/5\"\n",
      "                                                        class=\"m-menu__link \"><i\n",
      "                                    class=\"m-menu__link-bullet m-menu__link-bullet--line\"><span></span></i><span\n",
      "                                    class=\"m-menu__link-text\">과제 게시판\n",
      "                                    </a></li>\n",
      "                        </ul>\n",
      "                    </div>\n",
      "                </li>\n",
      "                <li class=\"m-menu__item m-menu__item--submenu \"\n",
      "                    aria-haspopup=\"true\" m-menu-submenu-toggle=\"hover\"><a href=\"javascript:;\"\n",
      "                                                                          class=\"m-menu__link m-menu__toggle\"><span\n",
      "                        class=\"m-menu__item-here\"></span><i class=\"m-menu__link-icon flaticon-presentation\"></i>\n",
      "                    <span class=\"m-menu__link-title\">\n",
      "                        <span class=\"m-menu__link-wrap\">\n",
      "                            <span class=\"m-menu__link-text\">분석 심화 (보충)\n",
      "                            </span>\n",
      "                        </span>\n",
      "                    </span>\n",
      "                    <i class=\"m-menu__ver-arrow la la-angle-right\"></i></a>\n",
      "                    <div class=\"m-menu__submenu \"><span class=\"m-menu__arrow\"></span>\n",
      "                        <ul class=\"m-menu__subnav\">\n",
      "                            <li class=\"m-menu__item  \"\n",
      "                                aria-haspopup=\"true\"><a\n",
      "                                    href=\"/course/9\" class=\"m-menu__link \">\n",
      "                                <i class=\"m-menu__link-bullet m-menu__link-bullet--line\"><span></span></i><span\n",
      "                                    class=\"m-menu__link-text\">수업 게시판</span></a></li>\n",
      "                            <li class=\"m-menu__item \"\n",
      "                                aria-haspopup=\"true\"><a href=\"/course/assignment/list/9\"\n",
      "                                                        class=\"m-menu__link \"><i\n",
      "                                    class=\"m-menu__link-bullet m-menu__link-bullet--line\"><span></span></i><span\n",
      "                                    class=\"m-menu__link-text\">과제 게시판\n",
      "                                    </a></li>\n",
      "                        </ul>\n",
      "                    </div>\n",
      "                </li>\n",
      "                <li class=\"m-menu__item m-menu__item--submenu \"\n",
      "                    aria-haspopup=\"true\" m-menu-submenu-toggle=\"hover\"><a href=\"javascript:;\"\n",
      "                                                                          class=\"m-menu__link m-menu__toggle\"><span\n",
      "                        class=\"m-menu__item-here\"></span><i class=\"m-menu__link-icon flaticon-presentation\"></i>\n",
      "                    <span class=\"m-menu__link-title\">\n",
      "                        <span class=\"m-menu__link-wrap\">\n",
      "                            <span class=\"m-menu__link-text\">프론트엔드 개발\n",
      "                            </span>\n",
      "                        </span>\n",
      "                    </span>\n",
      "                    <i class=\"m-menu__ver-arrow la la-angle-right\"></i></a>\n",
      "                    <div class=\"m-menu__submenu \"><span class=\"m-menu__arrow\"></span>\n",
      "                        <ul class=\"m-menu__subnav\">\n",
      "                            <li class=\"m-menu__item  \"\n",
      "                                aria-haspopup=\"true\"><a\n",
      "                                    href=\"/course/6\" class=\"m-menu__link \">\n",
      "                                <i class=\"m-menu__link-bullet m-menu__link-bullet--line\"><span></span></i><span\n",
      "                                    class=\"m-menu__link-text\">수업 게시판</span></a></li>\n",
      "                            <li class=\"m-menu__item \"\n",
      "                                aria-haspopup=\"true\"><a href=\"/course/assignment/list/6\"\n",
      "                                                        class=\"m-menu__link \"><i\n",
      "                                    class=\"m-menu__link-bullet m-menu__link-bullet--line\"><span></span></i><span\n",
      "                                    class=\"m-menu__link-text\">과제 게시판\n",
      "                                    </a></li>\n",
      "                        </ul>\n",
      "                    </div>\n",
      "                </li>\n",
      "                <li class=\"m-menu__item m-menu__item--submenu \"\n",
      "                    aria-haspopup=\"true\" m-menu-submenu-toggle=\"hover\"><a href=\"javascript:;\"\n",
      "                                                                          class=\"m-menu__link m-menu__toggle\"><span\n",
      "                        class=\"m-menu__item-here\"></span><i class=\"m-menu__link-icon flaticon-presentation\"></i>\n",
      "                    <span class=\"m-menu__link-title\">\n",
      "                        <span class=\"m-menu__link-wrap\">\n",
      "                            <span class=\"m-menu__link-text\">백엔드 개발\n",
      "                            </span>\n",
      "                        </span>\n",
      "                    </span>\n",
      "                    <i class=\"m-menu__ver-arrow la la-angle-right\"></i></a>\n",
      "                    <div class=\"m-menu__submenu \"><span class=\"m-menu__arrow\"></span>\n",
      "                        <ul class=\"m-menu__subnav\">\n",
      "                            <li class=\"m-menu__item  \"\n",
      "                                aria-haspopup=\"true\"><a\n",
      "                                    href=\"/course/7\" class=\"m-menu__link \">\n",
      "                                <i class=\"m-menu__link-bullet m-menu__link-bullet--line\"><span></span></i><span\n",
      "                                    class=\"m-menu__link-text\">수업 게시판</span></a></li>\n",
      "                            <li class=\"m-menu__item \"\n",
      "                                aria-haspopup=\"true\"><a href=\"/course/assignment/list/7\"\n",
      "                                                        class=\"m-menu__link \"><i\n",
      "                                    class=\"m-menu__link-bullet m-menu__link-bullet--line\"><span></span></i><span\n",
      "                                    class=\"m-menu__link-text\">과제 게시판\n",
      "                                    </a></li>\n",
      "                        </ul>\n",
      "                    </div>\n",
      "                </li>\n",
      "\n",
      "    </ul>\n",
      "</div></div>\n",
      "        <div class=\"m-grid__item m-grid__item--fluid m-wrapper\">\n",
      "            <div class=\"m-subheader \">\n",
      "                <div class=\"d-flex align-items-center\">\n",
      "                    <div class=\"mr-auto\">\n",
      "                        <h3 class=\"m-subheader__title m-subheader__title--separator\">\n",
      "대시보드</h3>\n",
      "                            <ul class=\"m-subheader__breadcrumbs m-nav m-nav--inline\">\n",
      "                                <li class=\"m-nav__item m-nav__item--home\">\n",
      "                                    <a class=\"m-nav__link--icon\">\n",
      "                                        <i class=\"m-nav__link-icon fa fa-home\"></i>\n",
      "                                    </a>\n",
      "                                </li>\n",
      "                                    <li class=\"m-nav__separator\"><i class=\"m-menu__ver-arrow la la-angle-right\"></i>\n",
      "                                    </li>\n",
      "                                    <li class=\"m-nav__item\">\n",
      "                                        <a href=\"\" class=\"m-nav__link\">\n",
      "                                            <span class=\"m-nav__link-text\">대시보드</span>\n",
      "                                        </a>\n",
      "                                    </li>\n",
      "                            </ul>\n",
      "                    </div>\n",
      "                </div>\n",
      "            </div>\n",
      "            <div class=\"m-content\">\n",
      "                <div class=\"row\">\n",
      "    <div class=\"col-xl-12\">\n",
      "        <div class=\"row\">\n",
      "            <div class=\"col-xl-8\">\n",
      "                <div class=\"m-portlet m-portlet--full-height\">\n",
      "                    <div class=\"m-portlet__head\">\n",
      "                        <div class=\"m-portlet__head-caption\">\n",
      "                            <div class=\"m-portlet__head-title\">\n",
      "                        <span class=\"m-portlet__head-icon\">\n",
      "                            <i class=\"flaticon-calendar\"></i>\n",
      "                        </span>\n",
      "                                <h3 class=\"m-portlet__head-text\">\n",
      "                                    월간 일정표\n",
      "                                </h3>\n",
      "                            </div>\n",
      "                        </div>\n",
      "                    </div>\n",
      "                    <div class=\"m-portlet__body\" style=\"padding-bottom: 2.2rem;\">\n",
      "                        <div id=\"m_calendar\"></div>\n",
      "                    </div>\n",
      "                </div>\n",
      "            </div>\n",
      "            <div class=\"col-xl-4\">\n",
      "                <div class=\"m-portlet m-portlet--full-height\">\n",
      "                    <div class=\"m-portlet__head\">\n",
      "                        <div class=\"m-portlet__head-caption\">\n",
      "                            <div class=\"m-portlet__head-title\">\n",
      "                    <span class=\"m-portlet__head-icon\">\n",
      "                            <i class=\"flaticon-signs-1\"></i>\n",
      "                        </span>\n",
      "                                <h3 class=\"m-portlet__head-text\">\n",
      "                                    과제\n",
      "                                </h3>\n",
      "                            </div>\n",
      "                        </div>\n",
      "                        <div class=\"m-portlet__head-tools\">\n",
      "                            <ul class=\"nav nav-pills nav-pills--brand m-nav-pills--align-right m-nav-pills--btn-pill m-nav-pills--btn-sm\"\n",
      "                                role=\"tablist\">\n",
      "                                <li class=\"nav-item m-tabs__item\">\n",
      "                                    <a class=\"nav-link m-tabs__link active\" data-toggle=\"tab\" href=\"#table1_content\"\n",
      "                                       role=\"tab\">\n",
      "                                        미완료\n",
      "                                    </a>\n",
      "                                </li>\n",
      "                                <li class=\"nav-item m-tabs__item\">\n",
      "                                    <a class=\"nav-link m-tabs__link\" data-toggle=\"tab\" href=\"#table2_content\"\n",
      "                                       role=\"tab\">\n",
      "                                        완료\n",
      "                                    </a>\n",
      "                                </li>\n",
      "                            </ul>\n",
      "                        </div>\n",
      "                    </div>\n",
      "                    <div class=\"m-portlet__body m--padding-15\">\n",
      "                        <div class=\"tab-content\">\n",
      "                            <div class=\"tab-pane active\" id=\"table1_content\">\n",
      "                                <div class=\"m-widget2\">\n",
      "                                    <table id=\"todolist1\" class=\"table table-no-bordered\">\n",
      "                                        <thead>\n",
      "                                        <tr>\n",
      "                                            <th class=\"fixed-td-dashboard no-padding\"></th>\n",
      "                                            <th>과제</th>\n",
      "                                            <th class=\"fixed-td2-dashboard\">마감</th>\n",
      "                                        </tr>\n",
      "                                        </thead>\n",
      "                                        <tbody>\n",
      "                                                <tr>\n",
      "                                                    <td class=\"no-padding\" nowrap>\n",
      "                                                        <div style=\"padding: 0;\" class=\"ckeckbox-algin\">\n",
      "                                                            <div class=\"m-widget2__checkbox ckeckbox-algin\">\n",
      "                                                                    <label class=\"m-checkbox m-checkbox--single m-checkbox--brand ckeckbox-algin\">\n",
      "                                                                        <input type=\"checkbox\" value=\"2\"\n",
      "                                                                               class=\"assignment_free\">\n",
      "                                                                        <span></span>\n",
      "                                                                    </label>\n",
      "                                                            </div>\n",
      "                                                        </div>\n",
      "                                                    </td>\n",
      "                                                    <td>\n",
      "                                                        <div class=\"m-widget2__desc\">\n",
      "                                                            <div class=\"m-widget2__text\">\n",
      "                                                                <span style=\"color:None\">데이터 Fairness, Bias</span>\n",
      "                                                            </div>\n",
      "                                                            <div class=\"m-widget2__user-name\">\n",
      "                                                                <span style=\"font-size:11px\">데이터 처리\n",
      "</span>\n",
      "                                                            </div>\n",
      "                                                        </div>\n",
      "                                                    </td>\n",
      "                                                    <td class=\"no-padding\"><span style=\"font-size:11px\"\n",
      "                                                                                 nowrap><span class=\"flask-moment\" data-timestamp=\"2019-07-21T23:59:00Z\" data-format=\"format('YYYY-MM-DD')\" data-refresh=\"0\" style=\"display: none\">2019-07-21T23:59:00Z</span></span>\n",
      "                                                    </td>\n",
      "                                                </tr>\n",
      "                                                <tr>\n",
      "                                                    <td class=\"no-padding\" nowrap>\n",
      "                                                        <div style=\"padding: 0;\" class=\"ckeckbox-algin\">\n",
      "                                                            <div class=\"m-widget2__checkbox ckeckbox-algin\">\n",
      "                                                                    <button class=\"btn m-btn m-btn--icon m-btn--icon-only m-btn--outline-2x m-btn--pill\"\n",
      "                                                                            style=\"color:None;border-color:None;\">\n",
      "                                                                        <a style=\"color:None\"\n",
      "                                                                           href=\"/course/assignment/submit/1/3\">제출</a>\n",
      "                                                                    </button>\n",
      "                                                            </div>\n",
      "                                                        </div>\n",
      "                                                    </td>\n",
      "                                                    <td>\n",
      "                                                        <div class=\"m-widget2__desc\">\n",
      "                                                            <div class=\"m-widget2__text\">\n",
      "                                                                <span style=\"color:None\">정규식 복습</span>\n",
      "                                                            </div>\n",
      "                                                            <div class=\"m-widget2__user-name\">\n",
      "                                                                <span style=\"font-size:11px\">Python 고급\n",
      "</span>\n",
      "                                                            </div>\n",
      "                                                        </div>\n",
      "                                                    </td>\n",
      "                                                    <td class=\"no-padding\"><span style=\"font-size:11px\"\n",
      "                                                                                 nowrap><span class=\"flask-moment\" data-timestamp=\"2019-07-14T23:59:00Z\" data-format=\"format('YYYY-MM-DD')\" data-refresh=\"0\" style=\"display: none\">2019-07-14T23:59:00Z</span></span>\n",
      "                                                    </td>\n",
      "                                                </tr>\n",
      "                                        </tbody>\n",
      "                                    </table>\n",
      "                                </div>\n",
      "                            </div>\n",
      "                            <div class=\"tab-pane\" id=\"table2_content\">\n",
      "                                <table id=\"todolist2\" class=\"table table-no-bordered\">\n",
      "                                    <thead>\n",
      "                                    <tr>\n",
      "                                        <th class=\"fixed-td-dashboard no-padding\" nowrap></th>\n",
      "                                        <th>과제</th>\n",
      "                                        <th class=\"fixed-td2-dashboard\" nowrap>마감</th>\n",
      "                                    </tr>\n",
      "                                    </thead>\n",
      "                                    <tbody>\n",
      "                                            <tr>\n",
      "                                                <td class=\"no-padding\" nowrap>\n",
      "                                                    <div style=\"padding: 0;\" class=\"ckeckbox-algin\">\n",
      "                                                        <div class=\"m-widget2__checkbox ckeckbox-algin\">\n",
      "                                                                <button class=\"btn m-btn m-btn--icon m-btn--icon-only m-btn--outline-2x m-btn--pill\"\n",
      "                                                                        style=\"color:None;border-color:None;\">\n",
      "                                                                    <a style=\"color:None\"\n",
      "                                                                       href=\"/course/assignment/submit/1/1\">제출</a>\n",
      "                                                                </button>\n",
      "                                                        </div>\n",
      "                                                    </div>\n",
      "                                                </td>\n",
      "                                                <td>\n",
      "                                                    <div class=\"m-widget2__desc\">\n",
      "                                                        <div class=\"m-widget2__text\">\n",
      "                                                            <span style=\"color:None\">Python 복습</span>\n",
      "                                                        </div>\n",
      "                                                        <div class=\"m-widget2__user-name\">\n",
      "                                                            <span style=\"font-size:11px\">Python 고급\n",
      "</span>\n",
      "                                                        </div>\n",
      "                                                    </div>\n",
      "                                                </td>\n",
      "                                                <td class=\"no-padding\"><span style=\"font-size:11px\"\n",
      "                                                                             nowrap><span class=\"flask-moment\" data-timestamp=\"2019-07-14T23:59:00Z\" data-format=\"format('YYYY-MM-DD')\" data-refresh=\"0\" style=\"display: none\">2019-07-14T23:59:00Z</span></span>\n",
      "                                                </td>\n",
      "                                            </tr>\n",
      "                                    </tbody>\n",
      "                                </table>\n",
      "                            </div>\n",
      "                        </div>\n",
      "                    </div>\n",
      "                </div>\n",
      "            </div>\n",
      "        </div>\n",
      "    </div>\n",
      "                </div>\n",
      "            </div>\n",
      "        </div>\n",
      "    </div>\n",
      "    <footer class=\"m-grid__item\tm-footer\">\n",
      "        <div class=\"m-container m-container--fluid m-container--full-height m-page__container\">\n",
      "            <div class=\"m-stack m-stack--flex-tablet-and-mobile m-stack--ver m-stack--desktop m--valign-middle\">\n",
      "                <div class=\"row middle\">\n",
      "                    <div class=\"col-sm-6\">\n",
      "                        <ul class=\"m-footer__nav m-nav m-nav--inline m--pull-left\">\n",
      "                            <li class=\"m-nav__item\">\n",
      "                                        <a href=\"http://bigjob.dbguide.net\"\n",
      "                                           class=\"m-nav__link\"><span class=\"m-footer__copyright m-nav__link-text\">2019 &copy; 데이터산업진흥원 </span></a>\n",
      "                            </li>\n",
      "                        </ul>\n",
      "                    </div>\n",
      "                    <div class=\"col-sm-6 media-middle\">\n",
      "                        <ul class=\"m-footer__nav m-nav m-nav--inline m--pull-right\">\n",
      "                            <li class=\"m-nav__item\">\n",
      "                                <a href=\"http://www.dbguide.net/global/page.db?cmd=people\" class=\"m-nav__link\">\n",
      "                                    <span class=\"m-nav__link-text\">개인정보취급방침</span>\n",
      "                                </a>\n",
      "                            </li>\n",
      "                        </ul>\n",
      "                    </div>\n",
      "                </div>\n",
      "            </div>\n",
      "        </div>\n",
      "    </footer>\n",
      "</div>\n",
      "<div id=\"m_scroll_top\" class=\"m-scroll-top\">\n",
      "    <i class=\"la la-arrow-up\"></i>\n",
      "</div>\n",
      "<script src=\"https://ajax.googleapis.com/ajax/libs/jquery/3.3.1/jquery.min.js\"></script>\n",
      "<script>\n",
      "    if (!window.jQuery) {\n",
      "        document.write('<script src=/static/vendors/jquery.js><\\/script>');\n",
      "    }\n",
      "</script>\n",
      "<script src=\"https://cdnjs.cloudflare.com/ajax/libs/popper.js/1.14.6/umd/popper.min.js\" integrity=\"sha384-wHAiFfRlMFy6i5SRaxvfOCifBUQy1xHdJ/yoi7FRNXMRBu5WHdZYu1hA6ZOblgut\" crossorigin=\"anonymous\"></script>\n",
      "<script src=\"https://stackpath.bootstrapcdn.com/bootstrap/4.1.3/js/bootstrap.min.js\" crossorigin=\"anonymous\"></script>\n",
      "<script>\n",
      "      window.linkedchat = {\n",
      "        name: '한승민',\n",
      "        email: 'tmdals820@naver.com',\n",
      "        titleOpened: \"문의/건의\",\n",
      "        hintInputOnline: \"내용을 입력하고 Enter키를 누르세요.\",\n",
      "        hintMinimizeChat: \"닫기\",\n",
      "      }\n",
      "</script>\n",
      "<script src=\"/static/vendors/basic.js?v=1.2\"></script><script src=\"/static/vendors/script.js?v=1.0\"></script>\n",
      "    <script src=\"/static/vendors/fullcalendar.js?v=1.0\"></script>\n",
      "    <script>\n",
      "        $(function () {\n",
      "            $('#m_calendar').fullCalendar({\n",
      "                header: {\n",
      "                    left: 'title',\n",
      "                    center: '',\n",
      "                    right: 'month,listMonth prev,today,next'\n",
      "                },\n",
      "                // height: 'auto',\n",
      "                // contentHeight: 'auto',\n",
      "                aspectRatio: 1.3,\n",
      "                defaultView: 'month',\n",
      "                weekNumberCalculation: 'ISO',\n",
      "                showNonCurrentDates: false,\n",
      "                firstDay: 0,\n",
      "                events: {\n",
      "                    url: '/event',\n",
      "                    error: function () {\n",
      "                        alert('there was an error while fetching events!');\n",
      "                    }\n",
      "                },\n",
      "                eventRender: function (event, element) {\n",
      "                    element.qtip({\n",
      "                        content: event.category + ' : ' + event.title + '<hr style=\"margin: 5px 0;\">' + event.description,\n",
      "                        style: {classes: 'myCustomClass'}\n",
      "                    });\n",
      "                }\n",
      "            });\n",
      "        });\n",
      "        $(function () {\n",
      "            $('body').on('click', ':checkbox', changeTodoStatus);\n",
      "        });\n",
      "\n",
      "        function changeTodoStatus(e) {\n",
      "            if ($(this).is(':checked')) {\n",
      "            } else {\n",
      "            }\n",
      "            var table_id = e.target.closest('table').id;\n",
      "            var row = $(this).closest(\"tr\").remove().clone();\n",
      "            var table = $(this).closest('table');\n",
      "            if (table_id == \"todolist1\") {\n",
      "                $('#todolist2 tbody').append(row);\n",
      "            } else {\n",
      "                $('#todolist1 tbody').append(row);\n",
      "            }\n",
      "        }\n",
      "\n",
      "        $(function () {\n",
      "            $('.assignment_free').click(function () {\n",
      "                $.ajax({\n",
      "                    url: '/course/assignment/submit/free/' + $(this).val(),\n",
      "                    type: 'get',\n",
      "                    success: function (e) {\n",
      "                    }\n",
      "                });\n",
      "            });\n",
      "        });\n",
      "        $(function () {\n",
      "            $('.chart').easyPieChart({\n",
      "                scaleLength: 5,\n",
      "                barColor: '#ffb822',\n",
      "                lineWidth: 10,\n",
      "                size: 130,\n",
      "                onStep: function (from, to, percent) {\n",
      "                    $(this.el).find('.percent').text(Math.round(percent));\n",
      "                }\n",
      "            });\n",
      "        });\n",
      "\n",
      "    </script>\n",
      "<script>\n",
      "    $(window).on(\"load\", function (e) {\n",
      "\t   var preloader=$('#mask div');\n",
      "\t   preloader.fadeOut();\n",
      "\t   $('#mask').delay(150).fadeOut('slow');\n",
      "\t   $('body').delay(150).css({'overflow':'visible'});\n",
      "\t});\n",
      "    function callFunction() {\n",
      "        if ($('#linkedchat-widget').hasClass('linkedchat-widget-opened')){\n",
      "            linkedchat.closeChat();\n",
      "        } else {\n",
      "            linkedchat.openChat();\n",
      "        }\n",
      "    }\n",
      "</script>\n",
      "</body>\n",
      "</html>\n"
     ]
    }
   ],
   "source": [
    "print(resp.text)"
   ]
  },
  {
   "cell_type": "markdown",
   "metadata": {},
   "source": [
    "---"
   ]
  },
  {
   "cell_type": "code",
   "execution_count": 51,
   "metadata": {},
   "outputs": [],
   "source": [
    "resp = download('get', 'https://www.google.co.kr/search', params={'q': '아이린'})"
   ]
  },
  {
   "cell_type": "code",
   "execution_count": 56,
   "metadata": {},
   "outputs": [],
   "source": [
    "import re"
   ]
  },
  {
   "cell_type": "code",
   "execution_count": 88,
   "metadata": {},
   "outputs": [
    {
     "name": "stdout",
     "output_type": "stream",
     "text": [
      "https://namu.wiki/w/%EC%95%84%EC%9D%B4%EB%A6%B0(%EB%A0%88%EB%93%9C%EB%B2%A8%EB%B2%B3)\n",
      "https://namu.wiki/w/%ED%95%99%EB%82%A8%EA%B3%A0%EB%93%B1%ED%95%99%EA%B5%90\n",
      "https://namu.wiki/w/%EB%B0%B0(%EC%84%B1%EC%94%A8)\n",
      "https://namu.wiki/w/%EC%B9%A0%EA%B3%A1%EC%A7%80%EA%B5%AC\n",
      "https://namu.wiki/w/%EB%A0%88%EB%93%9C%EB%B2%A8%EB%B2%B3/%EB%B0%A9%EC%86%A1%20%EB%AA%A9%EB%A1%9D\n"
     ]
    }
   ],
   "source": [
    "tags = re.findall('[<][a].*?[>]', resp.text)\n",
    "result = [tag for tag in tags if re.search('namu.wiki', tag)]\n",
    "for aTag in result:\n",
    "    link = re.sub('%25', '%', re.search('href=\"/url[?]q=(.*)(&amp;.*)(&amp;.*)(&amp;.*)\"', aTag).group(1))\n",
    "    resp = "
   ]
  }
 ],
 "metadata": {
  "kernelspec": {
   "display_name": "Python 3",
   "language": "python",
   "name": "python3"
  },
  "language_info": {
   "codemirror_mode": {
    "name": "ipython",
    "version": 3
   },
   "file_extension": ".py",
   "mimetype": "text/x-python",
   "name": "python",
   "nbconvert_exporter": "python",
   "pygments_lexer": "ipython3",
   "version": "3.6.7"
  },
  "latex_envs": {
   "LaTeX_envs_menu_present": true,
   "autoclose": false,
   "autocomplete": true,
   "bibliofile": "biblio.bib",
   "cite_by": "apalike",
   "current_citInitial": 1,
   "eqLabelWithNumbers": true,
   "eqNumInitial": 1,
   "hotkeys": {
    "equation": "Ctrl-E",
    "itemize": "Ctrl-I"
   },
   "labels_anchors": false,
   "latex_user_defs": false,
   "report_style_numbering": false,
   "user_envs_cfg": false
  },
  "varInspector": {
   "cols": {
    "lenName": 16,
    "lenType": 16,
    "lenVar": 40
   },
   "kernels_config": {
    "python": {
     "delete_cmd_postfix": "",
     "delete_cmd_prefix": "del ",
     "library": "var_list.py",
     "varRefreshCmd": "print(var_dic_list())"
    },
    "r": {
     "delete_cmd_postfix": ") ",
     "delete_cmd_prefix": "rm(",
     "library": "var_list.r",
     "varRefreshCmd": "cat(var_dic_list()) "
    }
   },
   "types_to_exclude": [
    "module",
    "function",
    "builtin_function_or_method",
    "instance",
    "_Feature"
   ],
   "window_display": false
  }
 },
 "nbformat": 4,
 "nbformat_minor": 2
}

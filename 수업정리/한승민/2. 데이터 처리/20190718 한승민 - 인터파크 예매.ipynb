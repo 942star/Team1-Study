{
 "cells": [
  {
   "cell_type": "markdown",
   "metadata": {},
   "source": [
    "# 인터파크 Ticketing"
   ]
  },
  {
   "cell_type": "markdown",
   "metadata": {},
   "source": [
    "아래는 잡다한 경고 메시지 제거 (보기 불편해서 실행하였으나, 권장하는 방식은 아님)"
   ]
  },
  {
   "cell_type": "code",
   "execution_count": 1,
   "metadata": {},
   "outputs": [],
   "source": [
    "import warnings\n",
    "warnings.filterwarnings(\"ignore\")"
   ]
  },
  {
   "cell_type": "markdown",
   "metadata": {},
   "source": [
    "## 사용자 정보 불러오기"
   ]
  },
  {
   "cell_type": "markdown",
   "metadata": {},
   "source": [
    "### info.json 구성\n",
    "```json\n",
    "{\n",
    "    \"id\": \"your_id (인터파크 계정 ID)\",\n",
    "    \"pw\": \"your_password (인터파크 계정 PW)\",\n",
    "    \"birth\": \"your_birth_day (ex. 950111)\",\n",
    "    \"keyword\": \"search_keyword (공연 이름)\"\n",
    "}\n",
    "```"
   ]
  },
  {
   "cell_type": "code",
   "execution_count": 2,
   "metadata": {},
   "outputs": [],
   "source": [
    "import json\n",
    "with open('info.json', encoding='utf8') as file:\n",
    "    info = json.load(file)"
   ]
  },
  {
   "cell_type": "markdown",
   "metadata": {},
   "source": [
    "## WebDriver 로딩"
   ]
  },
  {
   "cell_type": "markdown",
   "metadata": {},
   "source": [
    "FireFox webdriver download: https://github.com/mozilla/geckodriver/releases"
   ]
  },
  {
   "cell_type": "code",
   "execution_count": 3,
   "metadata": {},
   "outputs": [],
   "source": [
    "from selenium import webdriver\n",
    "driver = webdriver.Firefox()"
   ]
  },
  {
   "cell_type": "markdown",
   "metadata": {},
   "source": [
    "## 인터파크 접속"
   ]
  },
  {
   "cell_type": "code",
   "execution_count": 4,
   "metadata": {},
   "outputs": [],
   "source": [
    "url = 'http://ticket.interpark.com/'\n",
    "driver.get(url)"
   ]
  },
  {
   "cell_type": "markdown",
   "metadata": {},
   "source": [
    "# 로그인은 별도로 진행 !!"
   ]
  },
  {
   "cell_type": "code",
   "execution_count": null,
   "metadata": {},
   "outputs": [],
   "source": [
    "# Login Here"
   ]
  },
  {
   "cell_type": "markdown",
   "metadata": {},
   "source": [
    "## 원하는 공연 검색 (첫 검색 화면에서)"
   ]
  },
  {
   "cell_type": "code",
   "execution_count": 5,
   "metadata": {},
   "outputs": [
    {
     "data": {
      "text/plain": [
       "False"
      ]
     },
     "execution_count": 5,
     "metadata": {},
     "output_type": "execute_result"
    }
   ],
   "source": [
    "#driver.switch_to_window(driver.window_handles[0])\n",
    "search = driver.find_element_by_id('Nav_SearchWord')\n",
    "search.send_keys(info['keyword'])\n",
    "driver.execute_script('Nav_Search(); return false;')"
   ]
  },
  {
   "cell_type": "markdown",
   "metadata": {},
   "source": [
    "## 공연 선택"
   ]
  },
  {
   "cell_type": "code",
   "execution_count": 6,
   "metadata": {},
   "outputs": [],
   "source": [
    "result = driver.find_element_by_class_name('info_Play_Wrap')\n",
    "result.click()\n",
    "\n",
    "btnBuy = driver.find_element_by_class_name('btn_rev')\n",
    "script = btnBuy.get_attribute('onclick')\n",
    "driver.execute_script(script)"
   ]
  },
  {
   "cell_type": "markdown",
   "metadata": {},
   "source": [
    "### 날짜 선택"
   ]
  },
  {
   "cell_type": "code",
   "execution_count": 7,
   "metadata": {},
   "outputs": [],
   "source": [
    "driver.switch_to_window(driver.window_handles[-1])\n",
    "driver.switch_to_default_content()\n",
    "iframe = driver.find_element_by_id('ifrmBookStep')\n",
    "driver.switch_to_frame(iframe)"
   ]
  },
  {
   "cell_type": "code",
   "execution_count": 8,
   "metadata": {},
   "outputs": [],
   "source": [
    "script = driver.find_elements_by_css_selector('a')[1].get_attribute('onclick')\n",
    "driver.execute_script(script)"
   ]
  },
  {
   "cell_type": "code",
   "execution_count": 11,
   "metadata": {},
   "outputs": [],
   "source": [
    "driver.switch_to_default_content()\n",
    "driver.execute_script(\"javascript:fnNextStep('P');\")"
   ]
  },
  {
   "cell_type": "markdown",
   "metadata": {},
   "source": [
    "### 좌석 선택"
   ]
  },
  {
   "cell_type": "code",
   "execution_count": 12,
   "metadata": {},
   "outputs": [],
   "source": [
    "iframe1 = driver.find_element_by_id('ifrmSeat')\n",
    "driver.switch_to_frame(iframe1)\n",
    "iframe2 = driver.find_element_by_id('ifrmSeatDetail')\n",
    "driver.switch_to_frame(iframe2)"
   ]
  },
  {
   "cell_type": "code",
   "execution_count": 13,
   "metadata": {},
   "outputs": [],
   "source": [
    "seat = driver.find_elements_by_css_selector('#TmgsTable > tbody > tr > td > img')[1]\n",
    "script = seat.get_attribute('onclick')\n",
    "driver.execute_script(script)"
   ]
  },
  {
   "cell_type": "code",
   "execution_count": 14,
   "metadata": {},
   "outputs": [],
   "source": [
    "driver.switch_to_default_content()\n",
    "iframe1 = driver.find_element_by_id('ifrmSeat')\n",
    "driver.switch_to_frame(iframe1)\n",
    "driver.execute_script('fnSelect();')"
   ]
  },
  {
   "cell_type": "markdown",
   "metadata": {},
   "source": [
    "### 가격 선택"
   ]
  },
  {
   "cell_type": "code",
   "execution_count": 15,
   "metadata": {},
   "outputs": [],
   "source": [
    "driver.switch_to_window(driver.window_handles[-1])\n",
    "driver.switch_to_default_content()\n",
    "iframe = driver.find_element_by_id('ifrmBookStep')\n",
    "driver.switch_to_frame(iframe)\n",
    "driver.find_element_by_xpath('/html/body/div/div[1]/div/table[1]/tbody/tr/td/table/tbody/tr/td[3]/select/option[2]').click()"
   ]
  },
  {
   "cell_type": "code",
   "execution_count": 16,
   "metadata": {},
   "outputs": [],
   "source": [
    "driver.switch_to_default_content()\n",
    "driver.execute_script(\"javascript:fnNextStep('P');\")"
   ]
  },
  {
   "cell_type": "markdown",
   "metadata": {},
   "source": [
    "### 사용자 정보 입력 및 티켓 구매"
   ]
  },
  {
   "cell_type": "code",
   "execution_count": 17,
   "metadata": {},
   "outputs": [],
   "source": [
    "iframe = driver.find_element_by_id('ifrmBookStep')\n",
    "driver.switch_to_frame(iframe)\n",
    "date = driver.find_element_by_id('YYMMDD')\n",
    "date.send_keys(info['birth'])"
   ]
  },
  {
   "cell_type": "code",
   "execution_count": 18,
   "metadata": {},
   "outputs": [],
   "source": [
    "driver.switch_to_default_content()\n",
    "driver.execute_script(\"javascript:fnNextStep('P');\")"
   ]
  }
 ],
 "metadata": {
  "kernelspec": {
   "display_name": "Python 3",
   "language": "python",
   "name": "python3"
  },
  "language_info": {
   "codemirror_mode": {
    "name": "ipython",
    "version": 3
   },
   "file_extension": ".py",
   "mimetype": "text/x-python",
   "name": "python",
   "nbconvert_exporter": "python",
   "pygments_lexer": "ipython3",
   "version": "3.7.3"
  },
  "varInspector": {
   "cols": {
    "lenName": 16,
    "lenType": 16,
    "lenVar": 40
   },
   "kernels_config": {
    "python": {
     "delete_cmd_postfix": "",
     "delete_cmd_prefix": "del ",
     "library": "var_list.py",
     "varRefreshCmd": "print(var_dic_list())"
    },
    "r": {
     "delete_cmd_postfix": ") ",
     "delete_cmd_prefix": "rm(",
     "library": "var_list.r",
     "varRefreshCmd": "cat(var_dic_list()) "
    }
   },
   "types_to_exclude": [
    "module",
    "function",
    "builtin_function_or_method",
    "instance",
    "_Feature"
   ],
   "window_display": false
  }
 },
 "nbformat": 4,
 "nbformat_minor": 2
}
